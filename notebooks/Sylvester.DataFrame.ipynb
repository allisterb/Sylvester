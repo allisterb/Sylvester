{
  "metadata": {
    "language_info": {
      "mimetype": "text/x-fsharp",
      "nbconvert_exporter": "",
      "name": "fsharp",
      "pygments_lexer": "",
      "version": "4.3.1.0",
      "file_extension": ".fs",
      "codemirror_mode": ""
    },
    "kernelspec": {
      "name": "ifsharp",
      "display_name": "F#",
      "language": "fsharp"
    }
  },
  "nbformat_minor": 2,
  "nbformat": 4,
  "cells": [
    {
      "cell_type": "markdown",
      "source": "# Sylvester.DataFrame\n\n## Introduction\nSylvester has a [data frame](https://www.nuget.org/packages/Sylvester.DataFrame/) type which uses the [.NET Dynamic Language Runtime](https://docs.microsoft.com/en-us/dotnet/framework/reflection-and-codedom/dynamic-language-runtime-overview) to provide a dynamic data structure for series data that still retains the advantages of static typing for data access and allows .NET's powerful LINQ query operators to be used seamlessly.",
      "metadata": {}
    },
    {
      "cell_type": "code",
      "source": "/// Use the Sylvester.DataFrame NuGet package in this notebook\n#load \"Paket.fsx\"\nPaket.Package[\"Sylvester.DataFrame\";\"FSharp.Interop.Dynamic\"] \n#load \"Paket.Generated.Refs.fsx\"",
      "metadata": {
        "trusted": true
      },
      "execution_count": 1,
      "outputs": []
    },
    {
      "cell_type": "code",
      "source": "open System\nopen System.Collections.Generic\nopen System.Linq;\n\nopen FSharp.Interop.Dynamic\n\nopen Sylvester.Data\n\n//Download a schema from a CSV file \nlet msft = new CsvFile(\"https://raw.githubusercontent.com/matplotlib/sample_data/master/msft.csv\")\n\n// Set the first CSV field to a DateTime\nmsft.[0].Type <- typeof<DateTime>\n\n// Set the remaining fields to floating point\nfor j in 1..msft.Fields.Count - 1 do msft.[j].Type <- typeof<float> \n\n// Show all the field labels in the schema\nmsft.Select(fun f -> f.Label + \":\" + f.Type.Name)",
      "metadata": {
        "trusted": true
      },
      "execution_count": 2,
      "outputs": [
        {
          "execution_count": 2,
          "output_type": "execute_result",
          "data": {
            "text/plain": "seq [\"Date:DateTime\"; \"Open:Double\"; \"High:Double\"; \"Low:Double\"; ...]"
          },
          "metadata": {}
        }
      ]
    },
    {
      "cell_type": "code",
      "source": "//Now create a frame from the fields defined\nlet df = new Frame(msft)\n\ndf",
      "metadata": {
        "trusted": true
      },
      "execution_count": 3,
      "outputs": [
        {
          "execution_count": 3,
          "output_type": "execute_result",
          "data": {
            "text/plain": "seq\n  [seq [29.97; 29.52; 29.96; 92433800.0; ...];\n   seq [09/18/2003 00:00:00; 28.49; 29.51; 28.42; ...];\n   seq [09/17/2003 00:00:00; 28.76; 28.95; 28.47; ...];\n   seq [09/16/2003 00:00:00; 28.41; 28.95; 28.32; ...]; ...]"
          },
          "metadata": {}
        }
      ]
    },
    {
      "cell_type": "code",
      "source": "// The Date property is a dynamic member of df with a static series type\nlet date:Sd = df?Date\ndate",
      "metadata": {
        "trusted": true
      },
      "execution_count": 4,
      "outputs": [
        {
          "execution_count": 4,
          "output_type": "execute_result",
          "data": {
            "text/plain": "seq\n  [09/19/2003 00:00:00; 09/18/2003 00:00:00; 09/17/2003 00:00:00;\n   09/16/2003 00:00:00; ...]"
          },
          "metadata": {}
        }
      ]
    },
    {
      "cell_type": "markdown",
      "source": "The High property is a series of floating-point data.",
      "metadata": {}
    },
    {
      "cell_type": "code",
      "source": "for i in df?High do printf \"%.2f \" i",
      "metadata": {
        "trusted": true
      },
      "execution_count": 5,
      "outputs": [
        {
          "execution_count": 5,
          "output_type": "display_data",
          "data": {
            "text/plain": "29.97 29.51 28.95 28.95 28.61 28.40 28.11 28.18 28.71 28.92 28.75 28.47 28.40 27.30 26.55 26.58 26.58 26.67 26.54 26.95 26.73 26.53 26.65 25.83 25.66 25.71 25.89 25.77 25.99 25.98 25.81 26.19 26.54 26.41 26.51 26.99 26.57 26.90 27.00 26.95 26.92 26.65 26.56 26.91 27.23 27.27 27.62 27.53 27.81 27.45 27.42 27.70 27.80 27.55 26.95 26.93 26.20 26.12 26.34 26.51 25.99 26.04 26.24 26.38 26.39 "
          },
          "metadata": {}
        }
      ]
    },
    {
      "cell_type": "code",
      "source": "// Frames implement IEnumerable and can be queried using LINQ\nquery {\n    for r in df do\n    sortByDescending r?Volume\n    select r.[\"Date\"]\n}",
      "metadata": {
        "trusted": true
      },
      "execution_count": 6,
      "outputs": [
        {
          "execution_count": 6,
          "output_type": "execute_result",
          "data": {
            "text/plain": "seq\n  [09/03/2003 00:00:00; 07/02/2003 00:00:00; 09/19/2003 00:00:00;\n   07/07/2003 00:00:00; ...]"
          },
          "metadata": {}
        }
      ]
    },
    {
      "cell_type": "code",
      "source": "// Select a tuple of 2 fields from the frame\nquery {\n    for r in df do \n    sortBy r?High \n    take 10\n    select (r.[\"Date\"], r.[\"High\"])\n} |> Util.Table",
      "metadata": {
        "trusted": true
      },
      "execution_count": 7,
      "outputs": [
        {
          "execution_count": 7,
          "output_type": "execute_result",
          "data": {
            "text/html": "<table><thead><tr><th>Item1</th><th>Item2</th></tr></thead><tbody><tr><td>08/15/2003 00:00:00</td><td>25.66</td></tr><tr><td>08/14/2003 00:00:00</td><td>25.71</td></tr><tr><td>08/12/2003 00:00:00</td><td>25.77</td></tr><tr><td>08/07/2003 00:00:00</td><td>25.81</td></tr><tr><td>08/18/2003 00:00:00</td><td>25.83</td></tr><tr><td>08/13/2003 00:00:00</td><td>25.89</td></tr><tr><td>08/08/2003 00:00:00</td><td>25.98</td></tr><tr><td>08/11/2003 00:00:00</td><td>25.99</td></tr><tr><td>06/25/2003 00:00:00</td><td>25.99</td></tr><tr><td>06/24/2003 00:00:00</td><td>26.04</td></tr><tbody></tbody></table>"
          },
          "metadata": {}
        }
      ]
    },
    {
      "cell_type": "code",
      "source": "// The original MSFT dataset has 7 series\ndf.Series.Count",
      "metadata": {
        "trusted": true
      },
      "execution_count": 8,
      "outputs": [
        {
          "execution_count": 8,
          "output_type": "execute_result",
          "data": {
            "text/plain": "7"
          },
          "metadata": {}
        }
      ]
    },
    {
      "cell_type": "code",
      "source": "// Columns can be added to frames dynamically\n\n//Add a column of random numbers to the MSFT dataset\ndf?Foo<-Sn<double>.Rnd(df.Length)\ndf.OrderBy(fun r -> r?Date)",
      "metadata": {
        "trusted": true
      },
      "execution_count": 9,
      "outputs": [
        {
          "execution_count": 9,
          "output_type": "execute_result",
          "data": {
            "text/plain": "seq\n  [seq [26.39; 26.01; 26.07; 63626900.0; ...];\n   seq [06/20/2003 00:00:00; 26.34; 26.38; 26.01; ...];\n   seq [06/23/2003 00:00:00; 26.14; 26.24; 25.49; ...];\n   seq [06/24/2003 00:00:00; 25.65; 26.04; 25.52; ...]; ...]"
          },
          "metadata": {}
        }
      ]
    },
    {
      "cell_type": "code",
      "source": "df.Series.Count",
      "metadata": {
        "trusted": true
      },
      "execution_count": 10,
      "outputs": [
        {
          "execution_count": 10,
          "output_type": "execute_result",
          "data": {
            "text/plain": "8"
          },
          "metadata": {}
        }
      ]
    },
    {
      "cell_type": "code",
      "source": "query {for r in df do select (r.[\"Date\"], r.[\"Foo\"])}",
      "metadata": {
        "trusted": true
      },
      "execution_count": 11,
      "outputs": [
        {
          "execution_count": 11,
          "output_type": "execute_result",
          "data": {
            "text/plain": "seq\n  [(09/19/2003 00:00:00, 0.770287976); (09/18/2003 00:00:00, 0.6098186614);\n   (09/17/2003 00:00:00, 0.08244706135); (09/16/2003 00:00:00, 0.8799177445);\n   ...]"
          },
          "metadata": {}
        }
      ]
    },
    {
      "cell_type": "markdown",
      "source": "Rows in data frames forward data access calls to their parent frame. No additional storage for querying by row or column is allocated.",
      "metadata": {}
    },
    {
      "cell_type": "code",
      "source": "printfn \"%.4f\" df.[16]?Foo",
      "metadata": {
        "trusted": true
      },
      "execution_count": 12,
      "outputs": [
        {
          "execution_count": 12,
          "output_type": "display_data",
          "data": {
            "text/plain": "0.0192\n"
          },
          "metadata": {}
        }
      ]
    },
    {
      "cell_type": "markdown",
      "source": "### Examples",
      "metadata": {}
    },
    {
      "cell_type": "markdown",
      "source": "#### Titanic survivor analysis in 17 lines",
      "metadata": {}
    },
    {
      "cell_type": "markdown",
      "source": "Sylvester can make exploratory data analysis with F# easier and faster than existing .NET libraries. Using LINQ can make queries less verbose and easier to understand than other .NET data frame libraries like [Deedle](https://bluemountaincapital.github.io/Deedle/).",
      "metadata": {}
    },
    {
      "cell_type": "code",
      "source": "let titanic = new CsvFile(\"https://raw.githubusercontent.com/datasciencedojo/datasets/master/titanic.csv\")\ntitanic.[\"Pclass\"].First().Type <- typeof<int>\nlet dt = new Frame(titanic)\n\nquery {\n    for r in dt do\n    groupBy r?Pclass into g\n    sortBy g.Key\n    select (\n        let survived = (g.Where(fun p -> p?Survived = \"1\").Count()) |> float\n        let died = (g.Where(fun p -> p?Survived = \"0\").Count()) |> float\n        let ctotal = survived + died\n        let psurvived = round(100.0 * survived / ctotal)\n        let pdied = round(100.0 * died / ctotal) \n        (g.Key, pdied, psurvived)\n)} |> Util.Table",
      "metadata": {
        "trusted": true
      },
      "execution_count": 14,
      "outputs": [
        {
          "execution_count": 14,
          "output_type": "execute_result",
          "data": {
            "text/html": "<table><thead><tr><th>Item1</th><th>Item2</th><th>Item3</th></tr></thead><tbody><tr><td>1</td><td>37</td><td>63</td></tr><tr><td>2</td><td>53</td><td>47</td></tr><tr><td>3</td><td>76</td><td>24</td></tr><tbody></tbody></table>"
          },
          "metadata": {}
        }
      ]
    }
  ]
}