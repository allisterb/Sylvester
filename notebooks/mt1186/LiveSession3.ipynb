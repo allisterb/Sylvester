{
 "cells": [
  {
   "cell_type": "code",
   "execution_count": null,
   "id": "molecular-feelings",
   "metadata": {},
   "outputs": [],
   "source": [
    "#load \"../MathInclude.fsx\"\n",
    "#load \"../GraphInclude.fsx\"\n",
    "#load \"../Notebook.fsx\"\n",
    "\n",
    "open Sylvester\n",
    "open Sylvester.CAS\n",
    "open Algebra\n",
    "open Analysis"
   ]
  }
 ],
 "metadata": {
  "kernelspec": {
   "display_name": "F#",
   "language": "fsharp",
   "name": "ifsharp"
  },
  "language": "fsharp",
  "language_info": {
   "codemirror_mode": "",
   "file_extension": ".fs",
   "mimetype": "text/x-fsharp",
   "name": "fsharp",
   "nbconvert_exporter": "",
   "pygments_lexer": "",
   "version": "4.3.1.0"
  }
 },
 "nbformat": 4,
 "nbformat_minor": 5
}
