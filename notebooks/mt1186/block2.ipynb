{
 "cells": [
  {
   "cell_type": "code",
   "execution_count": 9,
   "id": "tribal-accordance",
   "metadata": {},
   "outputs": [
    {
     "data": {
      "text/html": [
       "<script src=\"https://cdnjs.cloudflare.com/ajax/libs/mathjax/2.7.7/MathJax.js?config=TeX-MML-AM_CHTML\"></script>"
      ]
     },
     "metadata": {},
     "output_type": "display_data"
    },
    {
     "data": {
      "text/html": [
       "<link href=\"https://cdn.jsdelivr.net/npm/jsxgraph/distrib/jsxgraph.css\" rel=\"stylesheet\" type=\"text/css\" />"
      ]
     },
     "metadata": {},
     "output_type": "display_data"
    },
    {
     "data": {
      "text/html": [
       "<script src=\"https://cdn.jsdelivr.net/npm/jsxgraph@1.4.6/distrib/jsxgraphcore.js\" type=\"text/javascript\" charset=\"UTF-8\"></script>"
      ]
     },
     "metadata": {},
     "output_type": "display_data"
    }
   ],
   "source": [
    "#load \"../Notebook2.fsx\"\n",
    "\n",
    "open Sylvester\n",
    "open Sylvester.CAS\n",
    "open Sylvester.CAS.Algebra\n",
    "open Sylvester.CAS.Analysis"
   ]
  },
  {
   "cell_type": "code",
   "execution_count": 2,
   "id": "funky-policy",
   "metadata": {},
   "outputs": [
    {
     "data": {
      "text/plain": [
       "Using default console logger.\r\n",
       "Process cmd started with pid 68800.\r\n"
      ]
     },
     "metadata": {},
     "output_type": "display_data"
    }
   ],
   "source": [
    "// Init Maxima CAS\n",
    "do Maxima.init \"C:\\\\MathTools\\\\maxima-5.44.0\\\\bin\\\\maxima.bat\""
   ]
  },
  {
   "cell_type": "code",
   "execution_count": 10,
   "id": "detailed-flood",
   "metadata": {
    "hide_input": false
   },
   "outputs": [
    {
     "data": {
      "text/html": [
       "<div>\r\n",
       " <div id=\"d6ed95a9-a37f-4e36-a751-e98973f3d1b2\" class=\"jxgbox\" style=\"width:768px;height:200px\"></div>\r\n",
       " <script>require(['https://cdn.jsdelivr.net/npm/jsxgraph/distrib/jsxgraphcore.js'], function(JXG) {\n",
       "var boundingbox = [-5, 2, 5, -2];\r\n",
       "var showNavigation = true;\r\n",
       "var board = JXG.JSXGraph.initBoard(\"d6ed95a9-a37f-4e36-a751-e98973f3d1b2\", {boundingbox: boundingbox, showCopyright: false, showNavigation: showNavigation});\r\n",
       "var p = board.create('point', [-2.000000, 0.000000], {name: \"A\"});\r\n",
       "var q = board.create('point', [-1.000000, -1.000000], {name: \"B\"});\r\n",
       "var r = board.create('point', [1.000000, -0.500000], {name: \"C\"});\r\n",
       "var s = board.create('point', [1.000000, 1.000000], {name: \"D\"});\r\n",
       "var t = board.create('point', [-1.000000, 1.500000], {name: \"E\"});\r\n",
       "board.create('line', [p, t], {});\r\n",
       "var method = \"pointRadius\";\r\n",
       "board.create('circle', [p, 1.000000], {fillColor: \"gray\", fillOpacity: 0.200000, method: method});\r\n",
       "board});</script>\r\n",
       "</div>\r\n"
      ],
      "text/plain": [
       "Let (board,\n",
       "     Call (None, board,\n",
       "           [Coerce (Let (boundingbox,\n",
       "                         NewArray (Int32, Value (-5), Value (2), Value (5),\n",
       "                                   Value (-2)),\n",
       "                         Let (showNavigation, Value (true),\n",
       "                              NewRecord (<>f__AnonymousType1201826002`3,\n",
       "                                         boundingbox, Value (false),\n",
       "                                         showNavigation))), Object)]),\n",
       "     Let (p,\n",
       "          Call (None, point,\n",
       "                [NewArray (Double, Value (-2.0), Value (0.0)),\n",
       "                 Coerce (NewRecord (<>f__AnonymousType191839735`1, Value (\"A\")),\n",
       "                         Object), board]),\n",
       "          Let (q,\n",
       "               Call (None, point,\n",
       "                     [NewArray (Double, Value (-1.0), Value (-1.0)),\n",
       "                      Coerce (NewRecord (<>f__AnonymousType191839735`1,\n",
       "                                         Value (\"B\")), Object), board]),\n",
       "               Let (r,\n",
       "                    Call (None, point,\n",
       "                          [NewArray (Double, Value (1.0), Value (-0.5)),\n",
       "                           Coerce (NewRecord (<>f__AnonymousType191839735`1,\n",
       "                                              Value (\"C\")), Object), board]),\n",
       "                    Let (s,\n",
       "                         Call (None, point,\n",
       "                               [NewArray (Double, Value (1.0), Value (1.0)),\n",
       "                                Coerce (NewRecord (<>f__AnonymousType191839735`1,\n",
       "                                                   Value (\"D\")), Object), board]),\n",
       "                         Let (t,\n",
       "                              Call (None, point,\n",
       "                                    [NewArray (Double, Value (-1.0), Value (1.5)),\n",
       "                                     Coerce (NewRecord (<>f__AnonymousType191839735`1,\n",
       "                                                        Value (\"E\")), Object),\n",
       "                                     board]),\n",
       "                              Sequential (Call (None, line,\n",
       "                                                [NewArray (Point, p, t),\n",
       "                                                 Coerce (NewRecord (<>f__AnonymousType34916685`0),\n",
       "                                                         Object), board]),\n",
       "                                          Sequential (Call (None, circle,\n",
       "                                                            [NewArray (Object,\n",
       "                                                                       Coerce (p,\n",
       "                                                                               Object),\n",
       "                                                                       Coerce (Value (1.0),\n",
       "                                                                               Object)),\n",
       "                                                             Coerce (Let (method,\n",
       "                                                                          Value (\"pointRadius\"),\n",
       "                                                                          NewRecord (<>f__AnonymousType2953241854`3,\n",
       "                                                                                     Value (\"gray\"),\n",
       "                                                                                     Value (0.2),\n",
       "                                                                                     method)),\n",
       "                                                                     Object),\n",
       "                                                             board]), board))))))))"
      ]
     },
     "execution_count": 10,
     "metadata": {},
     "output_type": "execute_result"
    }
   ],
   "source": [
    "<@\n",
    "    let board = board {|boundingbox = [|-5; 2; 5; -2|]; showNavigation = true; showCopyright = false |}\n",
    "    let p = point [|-2.; 0.|] {| name = \"A\" |} board\n",
    "    let q = point [|-1.; -1.|] {| name = \"B\" |} board \n",
    "    let r = point [|1.0; -0.5|] {| name = \"C\" |} board\n",
    "    let s = point [|1.; 1.|] {| name = \"D\" |} board\n",
    "    let t = point [|-1.; 1.5|] {| name = \"E\" |} board\n",
    "    let _ = line [|p; t|] {||} board\n",
    "    //create_polygon board [|p; q; r; s; t|] {| name = \"Polygon 1\"; withLabel = true |}\n",
    "    let _ = circle [|p; 1.|] {|method=\"pointRadius\"; fillColor=\"gray\"; fillOpacity=0.2|} board\n",
    "    board\n",
    "@>"
   ]
  },
  {
   "cell_type": "code",
   "execution_count": 29,
   "id": "successful-knowing",
   "metadata": {},
   "outputs": [
    {
     "data": {
      "text/html": [
       "<div>\r\n",
       " <div id=\"3a5999c0-b8dd-40a3-9fa5-8402dbe4a78a\" class=\"jxgbox\" style=\"width:768px;height:200px\"></div>\r\n",
       " <script>require(['https://cdn.jsdelivr.net/npm/jsxgraph/distrib/jsxgraphcore.js'], function(JXG) {\n",
       "var boundingbox = [-1, 50, 4, -10];\r\n",
       "var showNavigation = true;\r\n",
       "var showCopyright = false;\r\n",
       "var board = JXG.JSXGraph.initBoard(\"3a5999c0-b8dd-40a3-9fa5-8402dbe4a78a\", {axis: true, boundingbox: boundingbox, showCopyright: showCopyright, showNavigation: showNavigation});\r\n",
       "var chartStyle = \"bar\";\r\n",
       "var width = 0.800000;\r\n",
       "var c = board.create('chart', [[1.000000, 2.000000, 3.000000, 4.000000], [10.000000, 20.000000, 30.000000, 40.000000]], {chartStyle: chartStyle, colors: [\"black\", \"black\", \"black\", \"black\"], labels: [\"foo\", \"bar\", \"baz\", \"bad\"], width: width});\r\n",
       "board});</script>\r\n",
       "</div>\r\n"
      ],
      "text/plain": [
       "Let (board,\n",
       "     Call (None, board,\n",
       "           [Coerce (Let (boundingbox,\n",
       "                         NewArray (Int32, Value (-1), Value (50), Value (4),\n",
       "                                   Value (-10)),\n",
       "                         Let (showNavigation, Value (true),\n",
       "                              Let (showCopyright, Value (false),\n",
       "                                   NewRecord (<>f__AnonymousType2401403308`4,\n",
       "                                              Value (true), boundingbox,\n",
       "                                              showCopyright, showNavigation)))),\n",
       "                    Object)]),\n",
       "     Let (c,\n",
       "          Call (None, chart,\n",
       "                [NewArray (Double, Value (1.0), Value (2.0), Value (3.0),\n",
       "                           Value (4.0)),\n",
       "                 NewArray (Double, Value (10.0), Value (20.0), Value (30.0),\n",
       "                           Value (40.0)),\n",
       "                 Coerce (Let (chartStyle, Value (\"bar\"),\n",
       "                              Let (width, Value (0.8),\n",
       "                                   NewRecord (<>f__AnonymousType3750890069`4,\n",
       "                                              chartStyle,\n",
       "                                              NewArray (String, Value (\"black\"),\n",
       "                                                        Value (\"black\"),\n",
       "                                                        Value (\"black\"),\n",
       "                                                        Value (\"black\")),\n",
       "                                              NewArray (String, Value (\"foo\"),\n",
       "                                                        Value (\"bar\"),\n",
       "                                                        Value (\"baz\"),\n",
       "                                                        Value (\"bad\")), width))),\n",
       "                         Object), board]), board))"
      ]
     },
     "execution_count": 29,
     "metadata": {},
     "output_type": "execute_result"
    }
   ],
   "source": [
    "<@\n",
    "    let board = board {|boundingbox = [|-1; 50; 4; -10|]; showNavigation = true; showCopyright = false; axis = true |}\n",
    "    let c = chart [|1.;2.;3.;4.|] [|10.;20.;30.;40.|] {| chartStyle=\"bar\"; width=0.8; colors = [|\"black\"; \"black\"; \"black\"; \"black\" |]; labels = [|\"foo\"; \"bar\"; \"baz\"; \"bad\" |] |} board\n",
    "    \n",
    "    board\n",
    "@>"
   ]
  },
  {
   "cell_type": "code",
   "execution_count": null,
   "id": "respected-arrival",
   "metadata": {},
   "outputs": [],
   "source": [
    "(*\n",
    "var board = JXG.JSXGraph.initBoard('jxgbox', {boundingbox: [-4, 3, 4, -3]});\n",
    "            board.options.label.autoPosition = true;\n",
    "            board.options.point.size = 1;\n",
    "var A = board.create('point' , [-1.2,-2], {color:  'orange' , size: 4 });\n",
    "var B = board.create('point',  [0.25,-0.5], {color:  'orange' , size: 4 });\n",
    "*)\n",
    "<@\n",
    "let board = board {|boundingbox = [|-4; 3; 4; -3|]; showNavigation = true; showCopyright = false |}\n",
    "board.options.label.autoPosition <- true\n",
    "board.options.label.color <- \"orange\"\n",
    "let A = point [|-1.2; -2.|] {| size = 4; color = \"orange\" |} board\n",
    "let B = point [|0.25; -0.5|] {| size = 4; color = \"orange\" |} board\n",
    "board\n",
    "@> |> draw_board"
   ]
  },
  {
   "cell_type": "code",
   "execution_count": null,
   "id": "tight-motor",
   "metadata": {},
   "outputs": [],
   "source": [
    "let x = realvar \"x\""
   ]
  },
  {
   "cell_type": "markdown",
   "id": "pediatric-microwave",
   "metadata": {},
   "source": [
    "## Question 1"
   ]
  },
  {
   "cell_type": "code",
   "execution_count": null,
   "id": "historic-cheat",
   "metadata": {},
   "outputs": [],
   "source": [
    "let qe1 = <@ %x * (e ** %x) @>\n",
    "diff x qe1"
   ]
  },
  {
   "cell_type": "code",
   "execution_count": null,
   "id": "editorial-arlington",
   "metadata": {},
   "outputs": [],
   "source": [
    "solve_as_real_eqn_for x (diff x qe1)"
   ]
  },
  {
   "cell_type": "code",
   "execution_count": null,
   "id": "brutal-brother",
   "metadata": {},
   "outputs": [],
   "source": [
    "let vertical_lineplot2 color =\n",
    "    let l = Lineplot(\"ll\", \"red\", seq {0.5 .. 0.5 .. 0.1}, seq {-5.0 .. 5.0 .. 0.1}, <@ -1.0 @>)//, mode=\"lines\", name=\"SIGNAL\"<)\n",
    "    l.mode <- \"lines\"\n",
    "    l.name <- \"ll\"\n",
    "    l.x <- seq {0.5 .. 0.5 .. 0.1}\n",
    "    l |> Plottable.Lineplot\n",
    "    "
   ]
  },
  {
   "cell_type": "code",
   "execution_count": null,
   "id": "instant-bryan",
   "metadata": {},
   "outputs": [],
   "source": [
    "plot2d 700 500 \"f(x)\" \"x\" \"y\" [\n",
    "    //vertical_lineplot2 \"black\"\n",
    "    //lineplot 0. 5. <@ 1.0 @>\n",
    "    lineplot -5.0 1.0 qe1\n",
    "    \n",
    "    //|> with_fill \"tozeroy\" \"blue\"\n",
    "    //lineplot -5.0 1.0 (diff x qe1) \n",
    "    //|> with_color \"blue\" \n",
    "    //|> with_fill \"tonexty\" \"red\"\n",
    "    //annotation -1.0 0.0 \"stationary point\"\n",
    "] "
   ]
  },
  {
   "cell_type": "markdown",
   "id": "conceptual-columbus",
   "metadata": {},
   "source": [
    "## Question 2"
   ]
  },
  {
   "cell_type": "code",
   "execution_count": null,
   "id": "seeing-pizza",
   "metadata": {},
   "outputs": [],
   "source": [
    "let qe2 = <@ -12. * ln %x - %x ** 2. + 10. * %x @>\n",
    "let qe2d = diff x qe2\n",
    "qe2, qe2d"
   ]
  },
  {
   "cell_type": "code",
   "execution_count": null,
   "id": "respective-length",
   "metadata": {},
   "outputs": [],
   "source": [
    "solve_as_real_eqn_for x qe2d"
   ]
  },
  {
   "cell_type": "code",
   "execution_count": null,
   "id": "macro-orchestra",
   "metadata": {},
   "outputs": [],
   "source": [
    "let p = lineplot_as_func 0. 2. qe2 in\n",
    "plot2d 700 500 \"hll\" \"baz\" \"kk\" [p]"
   ]
  },
  {
   "cell_type": "code",
   "execution_count": null,
   "id": "enabling-parcel",
   "metadata": {},
   "outputs": [],
   "source": [
    "let p = lineplot_as_func -1.0 1.0 qe2d in\n",
    "plot2d 700 500 \"hll\" \"baz\" \"kk\" [p]"
   ]
  }
 ],
 "metadata": {
  "kernelspec": {
   "display_name": "F#",
   "language": "fsharp",
   "name": "ifsharp"
  },
  "language": "fsharp",
  "language_info": {
   "codemirror_mode": "",
   "file_extension": ".fs",
   "mimetype": "text/x-fsharp",
   "name": "fsharp",
   "nbconvert_exporter": "",
   "pygments_lexer": "",
   "version": "5.0.2.0"
  }
 },
 "nbformat": 4,
 "nbformat_minor": 5
}
