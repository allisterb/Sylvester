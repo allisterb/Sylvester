{
 "cells": [
  {
   "cell_type": "code",
   "execution_count": 1,
   "id": "tribal-accordance",
   "metadata": {},
   "outputs": [
    {
     "data": {
      "text/html": [
       "<script src=\"https://cdnjs.cloudflare.com/ajax/libs/mathjax/2.7.7/MathJax.js?config=TeX-MML-AM_CHTML\"></script>"
      ]
     },
     "metadata": {},
     "output_type": "display_data"
    },
    {
     "data": {
      "text/html": [
       "<link href=\"https://cdn.jsdelivr.net/npm/jsxgraph/distrib/jsxgraph.css\" rel=\"stylesheet\" type=\"text/css\" />"
      ]
     },
     "metadata": {},
     "output_type": "display_data"
    },
    {
     "data": {
      "text/html": [
       "<script src=\"https://cdn.jsdelivr.net/npm/jsxgraph/distrib/jsxgraphcore.js\" type=\"text/javascript\" charset=\"UTF-8\"></script>"
      ]
     },
     "metadata": {},
     "output_type": "display_data"
    }
   ],
   "source": [
    "#load \"../Notebook2.fsx\"\n",
    "\n",
    "open Sylvester\n",
    "open Sylvester.CAS\n",
    "open Sylvester.CAS.Algebra\n",
    "open Sylvester.CAS.Analysis"
   ]
  },
  {
   "cell_type": "code",
   "execution_count": null,
   "id": "funky-policy",
   "metadata": {},
   "outputs": [],
   "source": [
    "// Init Maxima CAS\n",
    "do Maxima.init \"C:\\\\MathTools\\\\maxima-5.44.0\\\\bin\\\\maxima.bat\""
   ]
  },
  {
   "cell_type": "code",
   "execution_count": 2,
   "id": "detailed-flood",
   "metadata": {
    "hide_input": false
   },
   "outputs": [
    {
     "data": {
      "text/html": [
       "<div>\r\n",
       " <div id=\"420aab43-00e0-423a-a1fa-4b238c84d950\" class=\"jxgbox\" style=\"width:768px;height:200px\"></div>\r\n",
       " <script>var boundingbox = [-5, 2, 5, -2];\r\n",
       "var showNavigation = true;\r\n",
       "var board = JXG.JSXGraph.initBoard(\"420aab43-00e0-423a-a1fa-4b238c84d950\", {boundingbox: boundingbox, showCopyright: false, showNavigation: showNavigation});\r\n",
       "var p = board.create('point', [-2.000000, 0.000000], {name: \"A\"});\r\n",
       "var q = board.create('point', [-1.000000, -1.000000], {name: \"B\"});\r\n",
       "var r = board.create('point', [1.000000, -0.500000], {name: \"C\"});\r\n",
       "var s = board.create('point', [1.000000, 1.000000], {name: \"D\"});\r\n",
       "var t = board.create('point', [-1.000000, 1.500000], {name: \"E\"});\r\n",
       "var ignored0 = board.create('line', [p, t], {});\r\n",
       "var method = \"pointRadius\";\r\n",
       "board.create('circle', [p, 1.000000], {fillColor: \"gray\", fillOpacity: 0.200000, method: method})</script>\r\n",
       "</div>\r\n"
      ],
      "text/plain": [
       "Elem\n",
       "  (\"div\",\n",
       "   [Elem\n",
       "      (\"div\",\n",
       "       [Attr (\"id\", \"420aab43-00e0-423a-a1fa-4b238c84d950\");\n",
       "        Attr (\"class\", \"jxgbox\"); Attr (\"style\", \"width:768px;height:200px\")]);\n",
       "    Elem\n",
       "      (\"script\",\n",
       "       [Text\n",
       "          \"var boundingbox = [-5, 2, 5, -2];\r\n",
       "var showNavigation = true;\r\n",
       "var board = JXG.JSXGraph.initBoard(\"420aab43-00e0-423a-a1fa-4b238c84d950\", {boundingbox: boundingbox, showCopyright: false, showNavigation: showNavigation});\r\n",
       "var p = board.create('point', [-2.000000, 0.000000], {name: \"A\"});\r\n",
       "var q = board.create('point', [-1.000000, -1.000000], {name: \"B\"});\r\n",
       "var r = board.create('point', [1.000000, -0.500000], {name: \"C\"});\r\n",
       "var s = board.create('point', [1.000000, 1.000000], {name: \"D\"});\r\n",
       "var t = board.create('point', [-1.000000, 1.500000], {name: \"E\"});\r\n",
       "var ignored0 = board.create('line', [p, t], {});\r\n",
       "var method = \"pointRadius\";\r\n",
       "board.create('circle', [p, 1.000000], {fillColor: \"gray\", fillOpacity: 0.200000, method: method})\"])])"
      ]
     },
     "execution_count": 2,
     "metadata": {},
     "output_type": "execute_result"
    }
   ],
   "source": [
    "<@\n",
    "    let board = create_board {|boundingbox = [|-5; 2; 5; -2|]; showNavigation = true; showCopyright = false |}\n",
    "    let p = create_point board [|-2.; 0.|] {| name = \"A\" |}\n",
    "    let q = create_point board [|-1.; -1.|] {| name = \"B\" |} \n",
    "    let r = create_point board [|1.0; -0.5|] {| name = \"C\" |}\n",
    "    let s = create_point board [|1.; 1.|] {| name = \"D\" |}\n",
    "    let t = create_point board [|-1.; 1.5|] {| name = \"E\" |}\n",
    "    create_line board [|p; t|] {||} |> ignore\n",
    "    //create_polygon board [|p; q; r; s; t|] {| name = \"Polygon 1\"; withLabel = true |}\n",
    "    create_circle board [|p; 1.|] {|method=\"pointRadius\"; fillColor=\"gray\"; fillOpacity=0.2|}\n",
    "@> |> draw_board"
   ]
  },
  {
   "cell_type": "code",
   "execution_count": 7,
   "id": "respected-arrival",
   "metadata": {},
   "outputs": [
    {
     "data": {
      "text/html": [
       "<div>\r\n",
       " <div id=\"a3860724-5924-4e59-aa25-396f13c1ff14\" class=\"jxgbox\" style=\"width:768px;height:200px\"></div>\r\n",
       " <script>var boundingbox = [-4, 3, 4, -3];\r\n",
       "var showNavigation = true;\r\n",
       "var board = JXG.JSXGraph.initBoard(\"a3860724-5924-4e59-aa25-396f13c1ff14\", {boundingbox: boundingbox, showCopyright: false, showNavigation: showNavigation});\r\n",
       "var size = 4;\r\n",
       "var A = board.create('point', [-1.200000, -2.000000], {color: \"orange\", size: size});\r\n",
       "var _size = 4;\r\n",
       "var B = board.create('point', [0.250000, -0.500000], {color: \"orange\", size: _size});\r\n",
       "board</script>\r\n",
       "</div>\r\n"
      ],
      "text/plain": [
       "Elem\n",
       "  (\"div\",\n",
       "   [Elem\n",
       "      (\"div\",\n",
       "       [Attr (\"id\", \"a3860724-5924-4e59-aa25-396f13c1ff14\");\n",
       "        Attr (\"class\", \"jxgbox\"); Attr (\"style\", \"width:768px;height:200px\")]);\n",
       "    Elem\n",
       "      (\"script\",\n",
       "       [Text\n",
       "          \"var boundingbox = [-4, 3, 4, -3];\r\n",
       "var showNavigation = true;\r\n",
       "var board = JXG.JSXGraph.initBoard(\"a3860724-5924-4e59-aa25-396f13c1ff14\", {boundingbox: boundingbox, showCopyright: false, showNavigation: showNavigation});\r\n",
       "var size = 4;\r\n",
       "var A = board.create('point', [-1.200000, -2.000000], {color: \"orange\", size: size});\r\n",
       "var _size = 4;\r\n",
       "var B = board.create('point', [0.250000, -0.500000], {color: \"orange\", size: _size});\r\n",
       "board\"])])"
      ]
     },
     "execution_count": 7,
     "metadata": {},
     "output_type": "execute_result"
    }
   ],
   "source": [
    "(*\n",
    "var board = JXG.JSXGraph.initBoard('jxgbox', {boundingbox: [-4, 3, 4, -3]});\n",
    "            board.options.label.autoPosition = true;\n",
    "            board.options.point.size = 1;\n",
    "var A = board.create('point' , [-1.2,-2], {color:  'orange' , size: 4 });\n",
    "var B = board.create('point',  [0.25,-0.5], {color:  'orange' , size: 4 });\n",
    "*)\n",
    "<@\n",
    "let board = create_board {|boundingbox = [|-4; 3; 4; -3|]; showNavigation = true; showCopyright = false |}\n",
    "//board.options.label.autoPosition <- Some true\n",
    "let A = create_point board [|-1.2; -2.|] {| size = 4; color = \"orange\" |}\n",
    "let B = create_point board [|0.25; -0.5|] {| size = 4; color = \"orange\" |}\n",
    "board\n",
    "@> |> draw_board"
   ]
  },
  {
   "cell_type": "code",
   "execution_count": null,
   "id": "tight-motor",
   "metadata": {},
   "outputs": [],
   "source": [
    "let x = realvar \"x\""
   ]
  },
  {
   "cell_type": "markdown",
   "id": "pediatric-microwave",
   "metadata": {},
   "source": [
    "## Question 1"
   ]
  },
  {
   "cell_type": "code",
   "execution_count": null,
   "id": "historic-cheat",
   "metadata": {},
   "outputs": [],
   "source": [
    "let qe1 = <@ %x * (e ** %x) @>\n",
    "diff x qe1"
   ]
  },
  {
   "cell_type": "code",
   "execution_count": null,
   "id": "editorial-arlington",
   "metadata": {},
   "outputs": [],
   "source": [
    "solve_as_real_eqn_for x (diff x qe1)"
   ]
  },
  {
   "cell_type": "code",
   "execution_count": null,
   "id": "brutal-brother",
   "metadata": {},
   "outputs": [],
   "source": [
    "let vertical_lineplot2 color =\n",
    "    let l = Lineplot(\"ll\", \"red\", seq {0.5 .. 0.5 .. 0.1}, seq {-5.0 .. 5.0 .. 0.1}, <@ -1.0 @>)//, mode=\"lines\", name=\"SIGNAL\"<)\n",
    "    l.mode <- \"lines\"\n",
    "    l.name <- \"ll\"\n",
    "    l.x <- seq {0.5 .. 0.5 .. 0.1}\n",
    "    l |> Plottable.Lineplot\n",
    "    "
   ]
  },
  {
   "cell_type": "code",
   "execution_count": null,
   "id": "instant-bryan",
   "metadata": {},
   "outputs": [],
   "source": [
    "plot2d 700 500 \"f(x)\" \"x\" \"y\" [\n",
    "    //vertical_lineplot2 \"black\"\n",
    "    //lineplot 0. 5. <@ 1.0 @>\n",
    "    lineplot -5.0 1.0 qe1\n",
    "    \n",
    "    //|> with_fill \"tozeroy\" \"blue\"\n",
    "    //lineplot -5.0 1.0 (diff x qe1) \n",
    "    //|> with_color \"blue\" \n",
    "    //|> with_fill \"tonexty\" \"red\"\n",
    "    //annotation -1.0 0.0 \"stationary point\"\n",
    "] "
   ]
  },
  {
   "cell_type": "markdown",
   "id": "conceptual-columbus",
   "metadata": {},
   "source": [
    "## Question 2"
   ]
  },
  {
   "cell_type": "code",
   "execution_count": null,
   "id": "seeing-pizza",
   "metadata": {},
   "outputs": [],
   "source": [
    "let qe2 = <@ -12. * ln %x - %x ** 2. + 10. * %x @>\n",
    "let qe2d = diff x qe2\n",
    "qe2, qe2d"
   ]
  },
  {
   "cell_type": "code",
   "execution_count": null,
   "id": "respective-length",
   "metadata": {},
   "outputs": [],
   "source": [
    "solve_as_real_eqn_for x qe2d"
   ]
  },
  {
   "cell_type": "code",
   "execution_count": null,
   "id": "macro-orchestra",
   "metadata": {},
   "outputs": [],
   "source": [
    "let p = lineplot_as_func 0. 2. qe2 in\n",
    "plot2d 700 500 \"hll\" \"baz\" \"kk\" [p]"
   ]
  },
  {
   "cell_type": "code",
   "execution_count": null,
   "id": "enabling-parcel",
   "metadata": {},
   "outputs": [],
   "source": [
    "let p = lineplot_as_func -1.0 1.0 qe2d in\n",
    "plot2d 700 500 \"hll\" \"baz\" \"kk\" [p]"
   ]
  }
 ],
 "metadata": {
  "kernelspec": {
   "display_name": "F#",
   "language": "fsharp",
   "name": "ifsharp"
  },
  "language": "fsharp",
  "language_info": {
   "codemirror_mode": "",
   "file_extension": ".fs",
   "mimetype": "text/x-fsharp",
   "name": "fsharp",
   "nbconvert_exporter": "",
   "pygments_lexer": "",
   "version": "5.0.2.0"
  }
 },
 "nbformat": 4,
 "nbformat_minor": 5
}
