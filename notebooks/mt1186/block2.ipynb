{
 "cells": [
  {
   "cell_type": "code",
   "execution_count": 1,
   "id": "tribal-accordance",
   "metadata": {},
   "outputs": [
    {
     "data": {
      "text/html": [
       "<script src=\"https://cdnjs.cloudflare.com/ajax/libs/mathjax/2.7.7/MathJax.js?config=TeX-MML-AM_CHTML\"></script>"
      ]
     },
     "metadata": {},
     "output_type": "display_data"
    },
    {
     "data": {
      "text/html": [
       "<link href=\"https://cdn.jsdelivr.net/npm/jsxgraph/distrib/jsxgraph.css\" rel=\"stylesheet\" type=\"text/css\" />"
      ]
     },
     "metadata": {},
     "output_type": "display_data"
    },
    {
     "data": {
      "text/html": [
       "<script src=\"https://cdn.jsdelivr.net/npm/jsxgraph/distrib/jsxgraphcore.js\" type=\"text/javascript\" charset=\"UTF-8\"></script>"
      ]
     },
     "metadata": {},
     "output_type": "display_data"
    }
   ],
   "source": [
    "#load \"../Notebook2.fsx\"\n",
    "\n",
    "open Sylvester\n",
    "open Sylvester.CAS\n",
    "open Algebra\n",
    "open Analysis"
   ]
  },
  {
   "cell_type": "code",
   "execution_count": null,
   "id": "funky-policy",
   "metadata": {},
   "outputs": [],
   "source": [
    "// Init Maxima CAS\n",
    "do Maxima.init \"C:\\\\MathTools\\\\maxima-5.44.0\\\\bin\\\\maxima.bat\""
   ]
  },
  {
   "cell_type": "code",
   "execution_count": 4,
   "id": "detailed-flood",
   "metadata": {
    "hide_input": false
   },
   "outputs": [
    {
     "data": {
      "text/html": [
       "<div>\r\n",
       " <div id=\"4ea6cc6d-3538-41b4-9b67-b30b08282e35\" class=\"jxgbox\" style=\"width:768px;height:200px\"></div>\r\n",
       " <script>var boundingbox = [-5, 2, 5, -2];\r\n",
       "var showNavigation = true;\r\n",
       "var board = JXG.JSXGraph.initBoard(\"4ea6cc6d-3538-41b4-9b67-b30b08282e35\", {boundingbox: boundingbox, showCopyright: false, showNavigation: showNavigation});\r\n",
       "var p = board.create('point', [-2.000000, 0.000000], {name: \"A\"});\r\n",
       "var q = board.create('point', [-1.000000, -1.000000], {name: \"B\"});\r\n",
       "var r = board.create('point', [1.000000, -0.500000], {name: \"C\"});\r\n",
       "var s = board.create('point', [1.000000, 1.000000], {name: \"D\"});\r\n",
       "var t = board.create('point', [-1.000000, 1.500000], {name: \"E\"});\r\n",
       "board.create('polygon', [p, q, r, s, t], {name: \"Polygon 1\", withLabel: true})</script>\r\n",
       "</div>\r\n"
      ],
      "text/plain": [
       "Elem\n",
       "  (\"div\",\n",
       "   [Elem\n",
       "      (\"div\",\n",
       "       [Attr (\"id\", \"4ea6cc6d-3538-41b4-9b67-b30b08282e35\");\n",
       "        Attr (\"class\", \"jxgbox\"); Attr (\"style\", \"width:768px;height:200px\")]);\n",
       "    Elem\n",
       "      (\"script\",\n",
       "       [Text\n",
       "          \"var boundingbox = [-5, 2, 5, -2];\r\n",
       "var showNavigation = true;\r\n",
       "var board = JXG.JSXGraph.initBoard(\"4ea6cc6d-3538-41b4-9b67-b30b08282e35\", {boundingbox: boundingbox, showCopyright: false, showNavigation: showNavigation});\r\n",
       "var p = board.create('point', [-2.000000, 0.000000], {name: \"A\"});\r\n",
       "var q = board.create('point', [-1.000000, -1.000000], {name: \"B\"});\r\n",
       "var r = board.create('point', [1.000000, -0.500000], {name: \"C\"});\r\n",
       "var s = board.create('point', [1.000000, 1.000000], {name: \"D\"});\r\n",
       "var t = board.create('point', [-1.000000, 1.500000], {name: \"E\"});\r\n",
       "board.create('polygon', [p, q, r, s, t], {name: \"Polygon 1\", withLabel: true})\"])])"
      ]
     },
     "execution_count": 4,
     "metadata": {},
     "output_type": "execute_result"
    }
   ],
   "source": [
    "<@\n",
    "    let board = create_board {|boundingbox = [|-5; 2; 5; -2|]; showNavigation = true; showCopyright = false |}\n",
    "    let p = create_point [|-2.; 0.|] {| name = \"A\" |} board\n",
    "    let q = create_point [|-1.; -1.|] {| name = \"B\" |} board\n",
    "    let r = create_point [|1.0; -0.5|] {| name = \"C\" |} board\n",
    "    let s = create_point [|1.; 1.|] {| name = \"D\" |} board\n",
    "    let t = create_point [|-1.; 1.5|] {| name = \"E\" |} board\n",
    "    create_polygon [|p; q; r; s; t|] {| name = \"Polygon 1\"; withLabel = true |} board\n",
    "@> |> draw_board"
   ]
  },
  {
   "cell_type": "code",
   "execution_count": null,
   "id": "respected-arrival",
   "metadata": {},
   "outputs": [],
   "source": []
  },
  {
   "cell_type": "code",
   "execution_count": null,
   "id": "tight-motor",
   "metadata": {},
   "outputs": [],
   "source": [
    "let x = realvar \"x\""
   ]
  },
  {
   "cell_type": "markdown",
   "id": "pediatric-microwave",
   "metadata": {},
   "source": [
    "## Question 1"
   ]
  },
  {
   "cell_type": "code",
   "execution_count": null,
   "id": "historic-cheat",
   "metadata": {},
   "outputs": [],
   "source": [
    "let qe1 = <@ %x * (e ** %x) @>\n",
    "diff x qe1"
   ]
  },
  {
   "cell_type": "code",
   "execution_count": null,
   "id": "editorial-arlington",
   "metadata": {},
   "outputs": [],
   "source": [
    "solve_as_real_eqn_for x (diff x qe1)"
   ]
  },
  {
   "cell_type": "code",
   "execution_count": null,
   "id": "brutal-brother",
   "metadata": {},
   "outputs": [],
   "source": [
    "let vertical_lineplot2 color =\n",
    "    let l = Lineplot(\"ll\", \"red\", seq {0.5 .. 0.5 .. 0.1}, seq {-5.0 .. 5.0 .. 0.1}, <@ -1.0 @>)//, mode=\"lines\", name=\"SIGNAL\"<)\n",
    "    l.mode <- \"lines\"\n",
    "    l.name <- \"ll\"\n",
    "    l.x <- seq {0.5 .. 0.5 .. 0.1}\n",
    "    l |> Plottable.Lineplot\n",
    "    "
   ]
  },
  {
   "cell_type": "code",
   "execution_count": null,
   "id": "instant-bryan",
   "metadata": {},
   "outputs": [],
   "source": [
    "plot2d 700 500 \"f(x)\" \"x\" \"y\" [\n",
    "    //vertical_lineplot2 \"black\"\n",
    "    //lineplot 0. 5. <@ 1.0 @>\n",
    "    lineplot -5.0 1.0 qe1\n",
    "    \n",
    "    //|> with_fill \"tozeroy\" \"blue\"\n",
    "    //lineplot -5.0 1.0 (diff x qe1) \n",
    "    //|> with_color \"blue\" \n",
    "    //|> with_fill \"tonexty\" \"red\"\n",
    "    //annotation -1.0 0.0 \"stationary point\"\n",
    "] "
   ]
  },
  {
   "cell_type": "markdown",
   "id": "conceptual-columbus",
   "metadata": {},
   "source": [
    "## Question 2"
   ]
  },
  {
   "cell_type": "code",
   "execution_count": null,
   "id": "seeing-pizza",
   "metadata": {},
   "outputs": [],
   "source": [
    "let qe2 = <@ -12. * ln %x - %x ** 2. + 10. * %x @>\n",
    "let qe2d = diff x qe2\n",
    "qe2, qe2d"
   ]
  },
  {
   "cell_type": "code",
   "execution_count": null,
   "id": "respective-length",
   "metadata": {},
   "outputs": [],
   "source": [
    "solve_as_real_eqn_for x qe2d"
   ]
  },
  {
   "cell_type": "code",
   "execution_count": null,
   "id": "macro-orchestra",
   "metadata": {},
   "outputs": [],
   "source": [
    "let p = lineplot_as_func 0. 2. qe2 in\n",
    "plot2d 700 500 \"hll\" \"baz\" \"kk\" [p]"
   ]
  },
  {
   "cell_type": "code",
   "execution_count": null,
   "id": "enabling-parcel",
   "metadata": {},
   "outputs": [],
   "source": [
    "let p = lineplot_as_func -1.0 1.0 qe2d in\n",
    "plot2d 700 500 \"hll\" \"baz\" \"kk\" [p]"
   ]
  }
 ],
 "metadata": {
  "kernelspec": {
   "display_name": "F#",
   "language": "fsharp",
   "name": "ifsharp"
  },
  "language": "fsharp",
  "language_info": {
   "codemirror_mode": "",
   "file_extension": ".fs",
   "mimetype": "text/x-fsharp",
   "name": "fsharp",
   "nbconvert_exporter": "",
   "pygments_lexer": "",
   "version": "5.0.2.0"
  }
 },
 "nbformat": 4,
 "nbformat_minor": 5
}
