{
 "cells": [
  {
   "cell_type": "code",
   "execution_count": 22,
   "metadata": {},
   "outputs": [],
   "source": [
    "// Use the Sylvester arithmetic and collection packages\n",
    "# r \"nuget:Sylvester.Arithmetic, 0.2.1\"\n",
    "# r \"nuget:Sylvester.Collections, 0.2.1\""
   ]
  },
  {
   "cell_type": "code",
   "execution_count": 23,
   "metadata": {},
   "outputs": [],
   "source": [
    "open Sylvester.Arithmetic\n",
    "open Sylvester.Arithmetic.N10\n",
    "open Sylvester.Collections"
   ]
  },
  {
   "cell_type": "code",
   "execution_count": 38,
   "metadata": {},
   "outputs": [],
   "source": [
    "let a = new VArray<dim<10>, int>(6) //Create a 1-D array of length 10 initialized to a constant value"
   ]
  },
  {
   "cell_type": "code",
   "execution_count": 34,
   "metadata": {},
   "outputs": [
    {
     "data": {
      "text/plain": [
       "6"
      ]
     },
     "execution_count": 34,
     "metadata": {},
     "output_type": "execute_result"
    }
   ],
   "source": [
    "a.[nine] //Type checks ok"
   ]
  },
  {
   "cell_type": "code",
   "execution_count": 39,
   "metadata": {},
   "outputs": [
    {
     "ename": "Unhandled Exception",
     "evalue": "input.fsx (1,4)-(1,5) typecheck error The type 'int' does not support the operator '+@<<'\ninput.fsx (1,1)-(1,6) typecheck error The type 'int' does not support the operator '+@<<'",
     "output_type": "error",
     "traceback": [
      "input.fsx (1,4)-(1,5) typecheck error The type 'int' does not support the operator '+@<<'\ninput.fsx (1,1)-(1,6) typecheck error The type 'int' does not support the operator '+@<<'"
     ]
    }
   ],
   "source": [
    "a.[1] //Type error"
   ]
  },
  {
   "cell_type": "code",
   "execution_count": null,
   "metadata": {},
   "outputs": [],
   "source": []
  }
 ],
 "metadata": {
  "kernelspec": {
   "display_name": ".NET (F#)",
   "language": "F#",
   "name": ".net-fsharp"
  },
  "language_info": {
   "file_extension": ".fs",
   "mimetype": "text/x-fsharp",
   "name": "C#",
   "pygments_lexer": "fsharp",
   "version": "4.5"
  }
 },
 "nbformat": 4,
 "nbformat_minor": 2
}
