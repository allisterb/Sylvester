{
 "cells": [
  {
   "cell_type": "code",
   "execution_count": 10,
   "metadata": {},
   "outputs": [],
   "source": [
    "// Use the Sylvester.tf NuGet packages inlcuding the native Windows depedency\n",
    "#load \"Paket.fsx\"\n",
    "Paket.Package[\"Sylvester.tf\"; \"Sylvester.tf.Native.Win\"] \n",
    "#load \"Paket.Generated.Refs.fsx\""
   ]
  },
  {
   "cell_type": "code",
   "execution_count": 11,
   "metadata": {},
   "outputs": [],
   "source": [
    "open Sylvester.Arithmetic\n",
    "open Sylvester.tf"
   ]
  },
  {
   "cell_type": "code",
   "execution_count": 37,
   "metadata": {},
   "outputs": [],
   "source": [
    "//Set the default graph to have six inputs and one output\n",
    "\n",
    "defaultGraph <- Graph<six, one>()"
   ]
  },
  {
   "cell_type": "code",
   "execution_count": 38,
   "metadata": {},
   "outputs": [
    {
     "data": {
      "text/plain": [
       "Vector<19, TF_DOUBLE>"
      ]
     },
     "execution_count": 38,
     "metadata": {},
     "output_type": "execute_result"
    }
   ],
   "source": [
    "// Create a vector input placeholder \n",
    "let x = Vec<dim<19>>(\"fpp\")\n",
    "x"
   ]
  },
  {
   "cell_type": "code",
   "execution_count": 39,
   "metadata": {},
   "outputs": [
    {
     "data": {
      "text/plain": [
       "Vector<19, TF_DOUBLE>"
      ]
     },
     "execution_count": 39,
     "metadata": {},
     "output_type": "execute_result"
    }
   ],
   "source": [
    "// Vector ops are type-checked\n",
    "let y0 = Vec<dim<19>>(\"y\")\n",
    "let y1 = Vec<dim<10>>(\"y\")\n",
    "x + y0 //OK\n",
    "x + y1 //Type error "
   ]
  },
  {
   "cell_type": "code",
   "execution_count": 40,
   "metadata": {},
   "outputs": [],
   "source": [
    "// Create matrix placeholders\n",
    "\n",
    "let m0 = Mat<dim<12>, dim<17>>(\"m\")\n",
    "let m1 = Mat<dim<17>, dim<20>>(\"m\")\n",
    "//let m2 = Mat<dim<12>, dim<17>>(\"m\")\n",
    "\n",
    "//\n",
    "let r = m0 * m1\n",
    "let jj = m0 + m1\n"
   ]
  },
  {
   "cell_type": "code",
   "execution_count": 9,
   "metadata": {},
   "outputs": [],
   "source": [
    "let n = Mat<nine, two>(\"m\")"
   ]
  },
  {
   "cell_type": "code",
   "execution_count": null,
   "metadata": {},
   "outputs": [],
   "source": [
    "let r = m + n"
   ]
  }
 ],
 "metadata": {
  "kernelspec": {
   "display_name": "F#",
   "language": "fsharp",
   "name": "ifsharp"
  },
  "language": "fsharp",
  "language_info": {
   "codemirror_mode": "",
   "file_extension": ".fs",
   "mimetype": "text/x-fsharp",
   "name": "fsharp",
   "nbconvert_exporter": "",
   "pygments_lexer": "",
   "version": "4.3.1.0"
  }
 },
 "nbformat": 4,
 "nbformat_minor": 2
}
