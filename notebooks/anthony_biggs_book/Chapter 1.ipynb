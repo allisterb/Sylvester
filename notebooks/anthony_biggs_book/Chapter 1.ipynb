{
 "cells": [
  {
   "cell_type": "code",
   "execution_count": 1,
   "id": "european-lighter",
   "metadata": {},
   "outputs": [
    {
     "data": {
      "text/html": [
       "<script src=\"https://cdnjs.cloudflare.com/ajax/libs/mathjax/2.7.7/MathJax.js?config=TeX-MML-AM_CHTML\"></script>"
      ]
     },
     "metadata": {},
     "output_type": "display_data"
    }
   ],
   "source": [
    "/// Load Sylvester math libraries and open namespaces\n",
    "#load \"../MathInclude.fsx\"\n",
    "#load \"../Notebook.fsx\"\n",
    "open Sylvester\n",
    "open Sylvester.CAS"
   ]
  },
  {
   "cell_type": "code",
   "execution_count": 2,
   "id": "falling-venture",
   "metadata": {},
   "outputs": [
    {
     "data": {
      "text/plain": [
       "Using default console logger.\r\n",
       "Process cmd started with pid 35856.\r\n"
      ]
     },
     "metadata": {},
     "output_type": "display_data"
    }
   ],
   "source": [
    "// Init Maxima CAS\n",
    "do Maxima.init \"C:\\\\MathTools\\\\maxima-5.44.0\\\\bin\\\\maxima.bat\""
   ]
  },
  {
   "cell_type": "code",
   "execution_count": 3,
   "id": "chubby-viewer",
   "metadata": {},
   "outputs": [
    {
     "data": {
      "text/html": [
       "$8p + 6q = 125$"
      ],
      "text/plain": [
       "Call (None, op_Equality,\n",
       "      [Call (None, op_Addition,\n",
       "             [Call (None, op_Multiply, [Value (6), q]),\n",
       "              Call (None, op_Multiply, [Value (8), p])]),\n",
       "       Call (None, FromInt32, [Value (125)])])"
      ]
     },
     "execution_count": 3,
     "metadata": {},
     "output_type": "execute_result"
    }
   ],
   "source": [
    "open Algebra \n",
    "let p,q = ratvar2 \"p\" \"q\"\n",
    "\n",
    "let d1 = <@6 * %q + 8 * %p = 125Q @>\n",
    "d1"
   ]
  },
  {
   "cell_type": "code",
   "execution_count": 4,
   "id": "defined-accused",
   "metadata": {},
   "outputs": [
    {
     "data": {
      "text/html": [
       "$-\\frac{-125 + 8p}{6}$"
      ],
      "text/plain": [
       "Call (None, op_Multiply,\n",
       "      [Value (-1/6),\n",
       "       Call (None, op_Addition,\n",
       "             [Value (-125), Call (None, op_Multiply, [Value (8), p])])])"
      ]
     },
     "execution_count": 4,
     "metadata": {},
     "output_type": "execute_result"
    }
   ],
   "source": [
    "solve q <@[ %d1 ]@>"
   ]
  },
  {
   "cell_type": "code",
   "execution_count": 11,
   "id": "given-contemporary",
   "metadata": {},
   "outputs": [
    {
     "data": {
      "text/plain": [
       "31/2"
      ]
     },
     "execution_count": 11,
     "metadata": {},
     "output_type": "execute_result"
    }
   ],
   "source": [
    "let solq = solve_as_func_of p q <@[ %d1 ]@>\n",
    "solq 4Q"
   ]
  },
  {
   "cell_type": "code",
   "execution_count": 12,
   "id": "bridal-shame",
   "metadata": {},
   "outputs": [],
   "source": [
    "let solp = solve_as_func_of q p <@[ %d1 ]@>"
   ]
  },
  {
   "cell_type": "code",
   "execution_count": 7,
   "id": "plastic-malawi",
   "metadata": {},
   "outputs": [
    {
     "data": {
      "text/plain": [
       "true"
      ]
     },
     "execution_count": 7,
     "metadata": {},
     "output_type": "execute_result"
    }
   ],
   "source": [
    "let D = set_from_pred <@ fun (p:rat, q:rat) -> 6 * q + 8 * p = 125Q @>\n",
    "(4Q, 31Q / 2) |?| D"
   ]
  },
  {
   "cell_type": "code",
   "execution_count": 8,
   "id": "protecting-duplicate",
   "metadata": {},
   "outputs": [
    {
     "data": {
      "text/plain": [
       "Aleph 0"
      ]
     },
     "execution_count": 8,
     "metadata": {},
     "output_type": "execute_result"
    }
   ],
   "source": [
    "card D"
   ]
  },
  {
   "cell_type": "code",
   "execution_count": 9,
   "id": "ahead-conservative",
   "metadata": {},
   "outputs": [],
   "source": [
    "let rr = countable_set <@ %p > 5Q @> p"
   ]
  },
  {
   "cell_type": "code",
   "execution_count": 10,
   "id": "moderate-wilson",
   "metadata": {},
   "outputs": [
    {
     "data": {
      "text/plain": [
       "Set {p|p > 5Q:p}"
      ]
     },
     "execution_count": 10,
     "metadata": {},
     "output_type": "execute_result"
    }
   ],
   "source": [
    "rr"
   ]
  },
  {
   "cell_type": "code",
   "execution_count": 9,
   "id": "center-bacon",
   "metadata": {},
   "outputs": [
    {
     "data": {
      "text/plain": [
       "93"
      ]
     },
     "execution_count": 9,
     "metadata": {},
     "output_type": "execute_result"
    }
   ],
   "source": [
    "(31Q / 2) * 6"
   ]
  },
  {
   "cell_type": "code",
   "execution_count": null,
   "id": "fallen-exemption",
   "metadata": {},
   "outputs": [],
   "source": []
  }
 ],
 "metadata": {
  "kernelspec": {
   "display_name": "F#",
   "language": "fsharp",
   "name": "ifsharp"
  },
  "language": "fsharp",
  "language_info": {
   "codemirror_mode": "",
   "file_extension": ".fs",
   "mimetype": "text/x-fsharp",
   "name": "fsharp",
   "nbconvert_exporter": "",
   "pygments_lexer": "",
   "version": "4.3.1.0"
  }
 },
 "nbformat": 4,
 "nbformat_minor": 5
}
