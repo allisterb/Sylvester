{
 "cells": [
  {
   "cell_type": "code",
   "execution_count": 1,
   "id": "european-lighter",
   "metadata": {},
   "outputs": [
    {
     "data": {
      "text/html": [
       "<script src=\"https://cdnjs.cloudflare.com/ajax/libs/mathjax/2.7.7/MathJax.js?config=TeX-MML-AM_CHTML\"></script>"
      ]
     },
     "metadata": {},
     "output_type": "display_data"
    }
   ],
   "source": [
    "/// Load Sylvester math libraries and open namespaces\n",
    "#load \"../MathInclude.fsx\"\n",
    "#load \"../Notebook.fsx\"\n",
    "open Sylvester\n",
    "open Sylvester.CAS"
   ]
  },
  {
   "cell_type": "code",
   "execution_count": 2,
   "id": "falling-venture",
   "metadata": {},
   "outputs": [
    {
     "data": {
      "text/plain": [
       "Using default console logger.\r\n",
       "Process cmd started with pid 82456.\r\n"
      ]
     },
     "metadata": {},
     "output_type": "display_data"
    }
   ],
   "source": [
    "// Init Maxima CAS\n",
    "do Maxima.init \"C:\\\\MathTools\\\\maxima-5.44.0\\\\bin\\\\maxima.bat\""
   ]
  },
  {
   "cell_type": "code",
   "execution_count": 3,
   "id": "chubby-viewer",
   "metadata": {},
   "outputs": [
    {
     "data": {
      "text/html": [
       "$8p + 6q = 125$"
      ],
      "text/plain": [
       "Call (None, op_Equality,\n",
       "      [Call (None, op_Addition,\n",
       "             [Call (None, op_Multiply, [Value (6), q]),\n",
       "              Call (None, op_Multiply, [Value (8), p])]),\n",
       "       Call (None, FromInt32, [Value (125)])])"
      ]
     },
     "execution_count": 3,
     "metadata": {},
     "output_type": "execute_result"
    }
   ],
   "source": [
    "open Algebra \n",
    "let p,q = ratvar2 \"p\" \"q\"\n",
    "\n",
    "let d1 = <@6 * %q + 8 * %p = 125Q @>\n",
    "d1"
   ]
  },
  {
   "cell_type": "code",
   "execution_count": 6,
   "id": "defined-accused",
   "metadata": {},
   "outputs": [
    {
     "data": {
      "text/plain": [
       "Some\n",
       "  Call (None, op_Multiply,\n",
       "      [Value (-1/6),\n",
       "       Call (None, op_Addition,\n",
       "             [Value (-125), Call (None, op_Multiply, [Value (8), p])])])"
      ]
     },
     "execution_count": 6,
     "metadata": {},
     "output_type": "execute_result"
    }
   ],
   "source": [
    "solve_for q <@[ %d1 ]@>"
   ]
  },
  {
   "cell_type": "code",
   "execution_count": 5,
   "id": "given-contemporary",
   "metadata": {},
   "outputs": [
    {
     "data": {
      "text/plain": [
       "31/2"
      ]
     },
     "execution_count": 5,
     "metadata": {},
     "output_type": "execute_result"
    }
   ],
   "source": [
    "let d1_q = solve_for_as_func_of p q <@[ %d1 ]@>\n",
    "d1_q 4Q"
   ]
  },
  {
   "cell_type": "code",
   "execution_count": 46,
   "id": "bridal-shame",
   "metadata": {},
   "outputs": [],
   "source": [
    "let d1_p = solve_for_as_func_of q p <@[ %d1 ]@>"
   ]
  },
  {
   "cell_type": "code",
   "execution_count": 7,
   "id": "plastic-malawi",
   "metadata": {},
   "outputs": [
    {
     "data": {
      "text/plain": [
       "true"
      ]
     },
     "execution_count": 7,
     "metadata": {},
     "output_type": "execute_result"
    }
   ],
   "source": [
    "let D = set_from_pred <@ fun (p:rat, q:rat) -> 6 * q + 8 * p = 125Q @>\n",
    "(4Q, 31/2Q) |?| D"
   ]
  },
  {
   "cell_type": "code",
   "execution_count": 48,
   "id": "protecting-duplicate",
   "metadata": {},
   "outputs": [
    {
     "data": {
      "text/plain": [
       "Aleph 0"
      ]
     },
     "execution_count": 48,
     "metadata": {},
     "output_type": "execute_result"
    }
   ],
   "source": [
    "card D"
   ]
  },
  {
   "cell_type": "code",
   "execution_count": 49,
   "id": "compact-kennedy",
   "metadata": {},
   "outputs": [
    {
     "data": {
      "text/html": [
       "$\\frac{-12 + 5p}{2}$, $\\frac{12 + 2q}{5}$"
      ],
      "text/plain": [
       "(Call (None, op_Multiply,\n",
       "      [Value (1/2),\n",
       "       Call (None, op_Addition,\n",
       "             [Value (-12), Call (None, op_Multiply, [Value (5), p])])]),\n",
       " Call (None, op_Multiply,\n",
       "      [Value (1/5),\n",
       "       Call (None, op_Addition,\n",
       "             [Value (12), Call (None, op_Multiply, [Value (2), q])])]))"
      ]
     },
     "execution_count": 49,
     "metadata": {},
     "output_type": "execute_result"
    }
   ],
   "source": [
    "let s1 = <@ 2 * %q - 5 * %p = -12Q @>\n",
    "solve q <@[ %s1 ]@>, solve p <@[%s1]@>"
   ]
  },
  {
   "cell_type": "code",
   "execution_count": 50,
   "id": "latter-speaker",
   "metadata": {},
   "outputs": [],
   "source": [
    "let d2, s2 = <@ %q + 5 * %p = 40Q @>, <@ 2 * %q - 15 * %p = -20Q @>"
   ]
  },
  {
   "cell_type": "code",
   "execution_count": 51,
   "id": "quarterly-digit",
   "metadata": {},
   "outputs": [
    {
     "name": "stderr",
     "output_type": "stream",
     "text": [
      "Expression evaluation failed: Index was outside the bounds of the array.\r\n",
      "IndexOutOfRangeExceptionIndex was outside the bounds of the array.\r\n",
      "   at Sylvester.CAS.Algebra.solve@57-1.Invoke(String o) in C:\\Projects\\Sylvester.git\\src\\Math\\CAS\\Sylvester.CAS.Maxima\\Algebra.fs:line 57\r\n",
      "   at Sylvester.CAS.Algebra.solve[t](FSharpExpr`1 v, FSharpExpr`1 system) in C:\\Projects\\Sylvester.git\\src\\Math\\CAS\\Sylvester.CAS.Maxima\\Algebra.fs:line 54\r\n",
      "   at <StartupCode$FSI_0093>.$FSI_0093.main@()\r\n"
     ]
    }
   ],
   "source": [
    "solve p <@[%d2; %s2] @>"
   ]
  },
  {
   "cell_type": "code",
   "execution_count": 52,
   "id": "meaningful-discretion",
   "metadata": {},
   "outputs": [
    {
     "data": {
      "text/plain": [
       "\"(%i11) \r\n",
       "(%o10) []\r\n",
       "(%i10) \r\n",
       "(%o9) [p = (2*q+12)/5]\r\n",
       "(%i9) \r\n",
       "(%o8) [q = (5*p-12)/2]\r\n",
       "(%i8) \r\n",
       "(%o7) [p = -(6*q-125)/8]\r\n",
       "(%i7) \r\n",
       "(%o6) [q = -(8*p-125)/6]\""
      ]
     },
     "execution_count": 52,
     "metadata": {},
     "output_type": "execute_result"
    }
   ],
   "source": [
    "Maxima.last_output()"
   ]
  },
  {
   "cell_type": "code",
   "execution_count": null,
   "id": "undefined-campbell",
   "metadata": {},
   "outputs": [],
   "source": []
  }
 ],
 "metadata": {
  "kernelspec": {
   "display_name": "F#",
   "language": "fsharp",
   "name": "ifsharp"
  },
  "language": "fsharp",
  "language_info": {
   "codemirror_mode": "",
   "file_extension": ".fs",
   "mimetype": "text/x-fsharp",
   "name": "fsharp",
   "nbconvert_exporter": "",
   "pygments_lexer": "",
   "version": "4.3.1.0"
  }
 },
 "nbformat": 4,
 "nbformat_minor": 5
}
