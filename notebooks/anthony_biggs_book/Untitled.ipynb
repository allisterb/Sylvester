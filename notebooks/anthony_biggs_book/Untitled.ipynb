{
 "cells": [
  {
   "cell_type": "code",
   "execution_count": 1,
   "id": "european-lighter",
   "metadata": {},
   "outputs": [],
   "source": [
    "/// Load Sylvester math libraries and open namespaces\n",
    "#load \"../MathInclude.fsx\"\n",
    "open Sylvester\n",
    "open Sylvester.CAS"
   ]
  },
  {
   "cell_type": "code",
   "execution_count": 2,
   "id": "falling-venture",
   "metadata": {},
   "outputs": [
    {
     "data": {
      "text/plain": [
       "Using default console logger.\r\n",
       "Process cmd started with pid 52908.\r\n"
      ]
     },
     "metadata": {},
     "output_type": "display_data"
    }
   ],
   "source": [
    "// Init Maxima CAS\n",
    "do Maxima.init \"C:\\\\MathTools\\\\maxima-5.44.0\\\\bin\\\\maxima.bat\""
   ]
  },
  {
   "cell_type": "code",
   "execution_count": 3,
   "id": "chubby-viewer",
   "metadata": {},
   "outputs": [
    {
     "data": {
      "text/plain": [
       "Call (None, op_Division,\n",
       "      [Call (None, op_Multiply,\n",
       "             [Value (-1.0),\n",
       "              Call (None, op_Addition,\n",
       "                    [Call (None, op_Multiply, [Value (-1.0), E]),\n",
       "                     Call (None, op_Multiply, [L, pL])])]), pK])"
      ]
     },
     "execution_count": 3,
     "metadata": {},
     "output_type": "execute_result"
    }
   ],
   "source": [
    "open Algebra \n",
    "let p,q = intvar2 \"p\" \"q\"\n",
    "\n",
    "let L = realvar \"L\"\n",
    "let K, pK, pL = realvar3 \"K\" \"pK\" \"pL\"\n",
    "let E = realvar \"E\"\n",
    "\n",
    "solve K <@[%pK * %K + %pL * %L = %E]@>"
   ]
  },
  {
   "cell_type": "code",
   "execution_count": 7,
   "id": "tight-madonna",
   "metadata": {},
   "outputs": [
    {
     "data": {
      "text/plain": [
       "\"-(-120 + 3*x)/5\""
      ]
     },
     "execution_count": 7,
     "metadata": {},
     "output_type": "execute_result"
    }
   ],
   "source": [
    "let x, y = ratvar2 \"x\" \"y\"\n",
    "let soln = solve y <@[3 * %x + 5 * %y = 120Q ]@>\n",
    "sprint' soln"
   ]
  },
  {
   "cell_type": "code",
   "execution_count": null,
   "id": "detailed-eating",
   "metadata": {},
   "outputs": [],
   "source": [
    "/// Load graph drawing module\n",
    "#load \"../GraphInclude.fsx\"\n",
    "open XPlot.Plotly"
   ]
  }
 ],
 "metadata": {
  "kernelspec": {
   "display_name": "F#",
   "language": "fsharp",
   "name": "ifsharp"
  },
  "language": "fsharp",
  "language_info": {
   "codemirror_mode": "",
   "file_extension": ".fs",
   "mimetype": "text/x-fsharp",
   "name": "fsharp",
   "nbconvert_exporter": "",
   "pygments_lexer": "",
   "version": "4.3.1.0"
  }
 },
 "nbformat": 4,
 "nbformat_minor": 5
}
