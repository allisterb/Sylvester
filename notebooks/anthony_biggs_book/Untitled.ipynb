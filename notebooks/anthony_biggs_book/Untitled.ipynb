{
 "cells": [
  {
   "cell_type": "code",
   "execution_count": 1,
   "id": "european-lighter",
   "metadata": {},
   "outputs": [],
   "source": [
    "/// Load Sylvester math libraries and open namespaces\n",
    "#load \"../MathInclude.fsx\"\n",
    "open Sylvester\n",
    "open Sylvester.CAS"
   ]
  },
  {
   "cell_type": "code",
   "execution_count": 3,
   "id": "falling-venture",
   "metadata": {},
   "outputs": [
    {
     "data": {
      "text/plain": [
       "Process cmd started with pid 50748.\r\n"
      ]
     },
     "metadata": {},
     "output_type": "display_data"
    }
   ],
   "source": [
    "// Init Maxima CAS\n",
    "do Maxima.init \"C:\\\\MathTools\\\\maxima-5.44.0\\\\bin\\\\maxima.bat\""
   ]
  },
  {
   "cell_type": "code",
   "execution_count": 7,
   "id": "chubby-viewer",
   "metadata": {},
   "outputs": [
    {
     "data": {
      "text/plain": [
       "\"(%i9) \r\n",
       "(%o8) [K = -(L*pL-E)/pK]\r\n",
       "(%i8) \r\n",
       "(%o7) [K = -(L*pL-E)/pK]\r\n",
       "(%i7) \r\n",
       "(%o6) [y = -(3*x-120)/5]\r\n",
       "(%i6) \r\n",
       "(%o5) [K = -(L*pL-E)/pK]\r\n",
       "(%i5) \r\n",
       "(%o4) \"C:/MathTools/maxima-5.44.0/bin/../share/maxima/5.44.0/share/solve_rec/simplify_sum.mac\"\""
      ]
     },
     "execution_count": 7,
     "metadata": {},
     "output_type": "execute_result"
    }
   ],
   "source": [
    "open Algebra \n",
    "let p,q = intvar2 \"p\" \"q\"\n",
    "\n",
    "let L = realvar \"L\"\n",
    "let K, pK, pL = realvar3 \"K\" \"pK\" \"pL\"\n",
    "let E = realvar \"E\"\n",
    "\n",
    "solve K <@[%pK * %K + %pL * %L = %E]@>"
   ]
  },
  {
   "cell_type": "code",
   "execution_count": 5,
   "id": "tight-madonna",
   "metadata": {},
   "outputs": [
    {
     "data": {
      "text/plain": [
       "Call (None, op_Multiply,\n",
       "      [Value (0),\n",
       "       Call (None, op_Addition,\n",
       "             [Value (-120), Call (None, op_Multiply, [Value (3), x])])])"
      ]
     },
     "execution_count": 5,
     "metadata": {},
     "output_type": "execute_result"
    }
   ],
   "source": [
    "let x, y = intvar2 \"x\" \"y\"\n",
    "let soln = solve y <@[3 * %x + 5 * %y = 120 ]@>\n",
    "soln\n"
   ]
  },
  {
   "cell_type": "code",
   "execution_count": null,
   "id": "detailed-eating",
   "metadata": {},
   "outputs": [],
   "source": [
    "/// Load graph drawing module\n",
    "#load \"../GraphInclude.fsx\"\n",
    "open XPlot.Plotly"
   ]
  }
 ],
 "metadata": {
  "kernelspec": {
   "display_name": "F#",
   "language": "fsharp",
   "name": "ifsharp"
  },
  "language": "fsharp",
  "language_info": {
   "codemirror_mode": "",
   "file_extension": ".fs",
   "mimetype": "text/x-fsharp",
   "name": "fsharp",
   "nbconvert_exporter": "",
   "pygments_lexer": "",
   "version": "4.3.1.0"
  }
 },
 "nbformat": 4,
 "nbformat_minor": 5
}
