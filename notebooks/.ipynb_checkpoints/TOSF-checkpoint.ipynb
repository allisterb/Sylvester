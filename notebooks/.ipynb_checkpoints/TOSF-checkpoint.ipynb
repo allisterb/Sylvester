{
 "cells": [
  {
   "cell_type": "markdown",
   "id": "ultimate-anthony",
   "metadata": {},
   "source": [
    "# Sylvester: Unified, typed, notation for symbolic mathematics and proofs"
   ]
  },
  {
   "cell_type": "code",
   "execution_count": 1,
   "id": "thorough-optimum",
   "metadata": {},
   "outputs": [],
   "source": [
    "/// Load Sylvester math libraries and open namespaces\n",
    "#load \"MathInclude.fsx\"\n",
    "open Sylvester"
   ]
  },
  {
   "cell_type": "code",
   "execution_count": 49,
   "id": "guilty-geology",
   "metadata": {},
   "outputs": [],
   "source": [
    "// Open Z3 module and create instance of solver\n",
    "open Z3\n",
    "let z3 = new Z3Solver()"
   ]
  },
  {
   "cell_type": "markdown",
   "id": "steady-designer",
   "metadata": {},
   "source": [
    "## Sets"
   ]
  },
  {
   "cell_type": "code",
   "execution_count": 50,
   "id": "assumed-employment",
   "metadata": {},
   "outputs": [
    {
     "data": {
      "text/plain": [
       "true"
      ]
     },
     "execution_count": 50,
     "metadata": {},
     "output_type": "execute_result"
    }
   ],
   "source": [
    "// Declare 2 set variables\n",
    "let A, B = var2'<Set<obj>> \"A\" \"B\"\n",
    "\n",
    "// Check satisfiabilty of simple set formula\n",
    "check_sat z3 <@[ %A |+| %B = (%B |+| %A) ]@>"
   ]
  }
 ],
 "metadata": {
  "kernelspec": {
   "display_name": "F#",
   "language": "fsharp",
   "name": "ifsharp"
  },
  "language": "fsharp",
  "language_info": {
   "codemirror_mode": "",
   "file_extension": ".fs",
   "mimetype": "text/x-fsharp",
   "name": "fsharp",
   "nbconvert_exporter": "",
   "pygments_lexer": "",
   "version": "4.3.1.0"
  }
 },
 "nbformat": 4,
 "nbformat_minor": 5
}
