{
 "cells": [
  {
   "cell_type": "markdown",
   "metadata": {},
   "source": [
    "# Math.NET Symbolics Examples\n",
    "\n",
    "This is an example F# Notebook showing how [Math.NET Symbolics](http://symbolics.mathdotnet.com/) can be used interactively.\n",
    "\n",
    "To get started, we need to load Math.NET Symbolics using Paket, open namespaces and make sure expression are presented nicely in LaTeX:"
   ]
  },
  {
   "cell_type": "code",
   "execution_count": 36,
   "metadata": {},
   "outputs": [
    {
     "name": "stderr",
     "output_type": "stream",
     "text": [
      "The namespace or module 'MathNet' is not defined. Maybe you want one of the following:\r\n",
      "   Math\r\n",
      "The namespace or module 'MathNet' is not defined. Maybe you want one of the following:\r\n",
      "   Math\r\n",
      "The type 'Expression' is not defined.\r\n",
      "The value, namespace, type or module 'LaTeX' is not defined. Maybe you want one of the following:\r\n",
      "   LatexOutput"
     ]
    }
   ],
   "source": [
    "#load \"Paket.fsx\"\n",
    "Paket.Dependencies.Install \"\"\"\n",
    "frameworks: net45\n",
    "source https://nuget.org/api/v2\n",
    "nuget MathNet.Symbolics\n",
    "\"\"\"\n",
    "open MathNet.Numerics\n",
    "open MathNet.Symbolics\n",
    "\n",
    "open Operators\n",
    "\n",
    "App.AddDisplayPrinter (fun (x:Expression) -> { ContentType = \"text/latex\"; Data = \"$$\" + LaTeX.format x + \"$$\" })"
   ]
  },
  {
   "cell_type": "markdown",
   "metadata": {},
   "source": [
    "Then let's create a few symbols we'd like to use in our algebraic expressions:"
   ]
  },
  {
   "cell_type": "code",
   "execution_count": 2,
   "metadata": {},
   "outputs": [
    {
     "name": "stderr",
     "output_type": "stream",
     "text": [
      "The value or constructor 'symbol' is not defined.\r\n",
      "The value or constructor 'symbol' is not defined.\r\n",
      "The value or constructor 'symbol' is not defined.\r\n",
      "The value or constructor 'symbol' is not defined.\r\n",
      "The value or constructor 'symbol' is not defined.\r\n",
      "The value or constructor 'symbol' is not defined.\r\n",
      "The value or constructor 'symbol' is not defined.\r\n",
      "The value or constructor 'symbol' is not defined.\r\n",
      "The value or constructor 'symbol' is not defined."
     ]
    }
   ],
   "source": [
    "let x = symbol \"x\"\n",
    "let y = symbol \"y\"\n",
    "let z = symbol \"z\"\n",
    "let a = symbol \"a\"\n",
    "let b = symbol \"b\"\n",
    "let c = symbol \"c\"\n",
    "let d = symbol \"d\"\n",
    "let e = symbol \"e\"\n",
    "let f = symbol \"f\""
   ]
  },
  {
   "cell_type": "markdown",
   "metadata": {},
   "source": [
    "Using these symbols we can then use normal F# notation to construct algebraic expressions. Expressions are automatically simplifed."
   ]
  },
  {
   "cell_type": "code",
   "execution_count": 3,
   "metadata": {},
   "outputs": [
    {
     "name": "stderr",
     "output_type": "stream",
     "text": [
      "The value or constructor 'a' is not defined.\r\n",
      "The value or constructor 'b' is not defined.\r\n",
      "The value or constructor 'c' is not defined.\r\n",
      "The value or constructor 'a' is not defined.\r\n",
      "The value or constructor 'c' is not defined.\r\n",
      "The value or constructor 'd' is not defined. Maybe you want one of the following:\r\n",
      "   id\r\n",
      "The value or constructor 'a' is not defined.\r\n",
      "The value or constructor 'd' is not defined. Maybe you want one of the following:\r\n",
      "   id"
     ]
    }
   ],
   "source": [
    "(a/b/(c*a))*(c*d/a)/d"
   ]
  },
  {
   "cell_type": "code",
   "execution_count": 4,
   "metadata": {},
   "outputs": [
    {
     "name": "stderr",
     "output_type": "stream",
     "text": [
      "The value or constructor 'a' is not defined.\r\n",
      "The value or constructor 'b' is not defined.\r\n",
      "The value or constructor 'c' is not defined."
     ]
    }
   ],
   "source": [
    "(a/b)**c"
   ]
  },
  {
   "cell_type": "markdown",
   "metadata": {},
   "source": [
    "You can use `Q` to force a number to become a symbolic rational number expression, e.g. if an operator is used with only numeric operands. Otherwise F# would evaluate it, and e.g. perform an integer division as below. If at least one operand is an expression, the result will be an expression as well."
   ]
  },
  {
   "cell_type": "code",
   "execution_count": 5,
   "metadata": {},
   "outputs": [
    {
     "data": {
      "text/plain": [
       "1"
      ]
     },
     "execution_count": 5,
     "metadata": {},
     "output_type": "execute_result"
    }
   ],
   "source": [
    "3/2"
   ]
  },
  {
   "cell_type": "code",
   "execution_count": 6,
   "metadata": {},
   "outputs": [
    {
     "name": "stderr",
     "output_type": "stream",
     "text": [
      "This numeric literal requires that a module 'NumericLiteralQ' defining functions FromZero, FromOne, FromInt32, FromInt64 and FromString be in scope"
     ]
    }
   ],
   "source": [
    "3Q/2"
   ]
  },
  {
   "cell_type": "code",
   "execution_count": 7,
   "metadata": {},
   "outputs": [
    {
     "name": "stderr",
     "output_type": "stream",
     "text": [
      "This numeric literal requires that a module 'NumericLiteralQ' defining functions FromZero, FromOne, FromInt32, FromInt64 and FromString be in scope\r\n",
      "The value or constructor 'x' is not defined."
     ]
    }
   ],
   "source": [
    "(1Q/2)*sin(x)"
   ]
  },
  {
   "cell_type": "markdown",
   "metadata": {},
   "source": [
    "### Algebraic Functions\n",
    "\n",
    "Symbolics provides a set of F# modules with functions to manipulate expressions."
   ]
  },
  {
   "cell_type": "code",
   "execution_count": 8,
   "metadata": {},
   "outputs": [
    {
     "name": "stderr",
     "output_type": "stream",
     "text": [
      "The value, namespace, type or module 'Exponential' is not defined."
     ]
    }
   ],
   "source": [
    "Exponential.expand (exp(2*x+y))"
   ]
  },
  {
   "cell_type": "code",
   "execution_count": 9,
   "metadata": {},
   "outputs": [
    {
     "name": "stderr",
     "output_type": "stream",
     "text": [
      "The value, namespace, type or module 'Trigonometric' is not defined."
     ]
    }
   ],
   "source": [
    "Trigonometric.expand (sin(a+x))"
   ]
  },
  {
   "cell_type": "code",
   "execution_count": 10,
   "metadata": {},
   "outputs": [
    {
     "name": "stderr",
     "output_type": "stream",
     "text": [
      "The value, namespace, type or module 'Trigonometric' is not defined."
     ]
    }
   ],
   "source": [
    "Trigonometric.contract (sin(a)*sin(b))"
   ]
  },
  {
   "cell_type": "code",
   "execution_count": 11,
   "metadata": {},
   "outputs": [
    {
     "name": "stderr",
     "output_type": "stream",
     "text": [
      "The value, namespace, type or module 'Trigonometric' is not defined."
     ]
    }
   ],
   "source": [
    "Trigonometric.contract (cos(x)**4)"
   ]
  },
  {
   "cell_type": "markdown",
   "metadata": {},
   "source": [
    "The functions are grouped by the context we interpret the expression in. Functions in `Polynomial` assume the expression is a single- or multivariate polynomial."
   ]
  },
  {
   "cell_type": "code",
   "execution_count": 12,
   "metadata": {},
   "outputs": [
    {
     "name": "stderr",
     "output_type": "stream",
     "text": [
      "The value, namespace, type or module 'Polynomial' is not defined."
     ]
    }
   ],
   "source": [
    "Polynomial.quot x (x**3 - 2*x**2 - 4) (x-3)"
   ]
  },
  {
   "cell_type": "code",
   "execution_count": 13,
   "metadata": {},
   "outputs": [
    {
     "name": "stderr",
     "output_type": "stream",
     "text": [
      "The value or constructor 'a' is not defined.\r\n",
      "The value or constructor 'b' is not defined.\r\n",
      "The value or constructor 'c' is not defined.\r\n",
      "The value or constructor 'd' is not defined. Maybe you want one of the following:\r\n",
      "   id\r\n",
      "The value or constructor 'e' is not defined.\r\n",
      "The value or constructor 'f' is not defined."
     ]
    }
   ],
   "source": [
    "(a/b)+(c/d)+(e/f)"
   ]
  },
  {
   "cell_type": "code",
   "execution_count": 14,
   "metadata": {},
   "outputs": [
    {
     "name": "stderr",
     "output_type": "stream",
     "text": [
      "The value, namespace, type or module 'Rational' is not defined."
     ]
    }
   ],
   "source": [
    "Rational.expand (a/b + c/d + e/f)"
   ]
  },
  {
   "cell_type": "code",
   "execution_count": 15,
   "metadata": {},
   "outputs": [
    {
     "name": "stderr",
     "output_type": "stream",
     "text": [
      "The value, namespace, type or module 'Rational' is not defined."
     ]
    }
   ],
   "source": [
    "Rational.rationalize (1+1/(1+1/x))"
   ]
  },
  {
   "cell_type": "code",
   "execution_count": 16,
   "metadata": {},
   "outputs": [
    {
     "name": "stderr",
     "output_type": "stream",
     "text": [
      "The value, namespace, type or module 'Polynomial' is not defined."
     ]
    }
   ],
   "source": [
    "Polynomial.gcd x (x**7 - 4*x**5 - x**2 + 4) (x**5 - 4*x**3 - x**2 + 4)"
   ]
  },
  {
   "cell_type": "code",
   "execution_count": 17,
   "metadata": {},
   "outputs": [
    {
     "name": "stderr",
     "output_type": "stream",
     "text": [
      "The value, namespace, type or module 'Polynomial' is not defined."
     ]
    }
   ],
   "source": [
    "Polynomial.polynomialExpansion x y (x**5 + 11*x**4 + 51*x**3 + 124*x**2 + 159*x + 86) (x**2 + 4*x + 5)"
   ]
  },
  {
   "cell_type": "code",
   "execution_count": 18,
   "metadata": {},
   "outputs": [
    {
     "name": "stderr",
     "output_type": "stream",
     "text": [
      "The value or constructor 'a' is not defined.\r\n",
      "The value or constructor 'x' is not defined.\r\n",
      "The value or constructor 'a' is not defined.\r\n",
      "The value or constructor 'x' is not defined.\r\n",
      "The value or constructor 'x' is not defined.\r\n",
      "The value or constructor 'a' is not defined.\r\n",
      "The value, namespace, type or module 'Rational' is not defined."
     ]
    }
   ],
   "source": [
    "let expr = (8*a*x + 6*a*x**2)/(4*x*a) |> Rational.expand\n",
    "expr"
   ]
  },
  {
   "cell_type": "code",
   "execution_count": 19,
   "metadata": {},
   "outputs": [
    {
     "name": "stderr",
     "output_type": "stream",
     "text": [
      "The value or constructor 'expr' is not defined. Maybe you want one of the following:\r\n",
      "   exp\r\n",
      "   exn\r\n",
      "The value, namespace, type or module 'Algebraic' is not defined."
     ]
    }
   ],
   "source": [
    "2*expr |> Algebraic.expand"
   ]
  },
  {
   "cell_type": "code",
   "execution_count": 20,
   "metadata": {},
   "outputs": [
    {
     "name": "stderr",
     "output_type": "stream",
     "text": [
      "The value, namespace, type or module 'Approximate' is not defined."
     ]
    }
   ],
   "source": [
    "Approximate.approximate expr"
   ]
  },
  {
   "cell_type": "code",
   "execution_count": 21,
   "metadata": {},
   "outputs": [
    {
     "name": "stderr",
     "output_type": "stream",
     "text": [
      "The value, namespace, type or module 'Rational' is not defined."
     ]
    }
   ],
   "source": [
    "Rational.simplify x ((x**2-1)/(x+1))"
   ]
  },
  {
   "cell_type": "code",
   "execution_count": 22,
   "metadata": {},
   "outputs": [
    {
     "name": "stderr",
     "output_type": "stream",
     "text": [
      "The value, namespace, type or module 'Rational' is not defined."
     ]
    }
   ],
   "source": [
    "Rational.simplify x (1/(1+1/(x+1)) + 2/(x+2))"
   ]
  },
  {
   "cell_type": "code",
   "execution_count": 23,
   "metadata": {},
   "outputs": [
    {
     "name": "stderr",
     "output_type": "stream",
     "text": [
      "The value or constructor 'x' is not defined.\r\n",
      "The value or constructor 'x' is not defined.\r\n",
      "The value or constructor 'x' is not defined.\r\n",
      "The value or constructor 'x' is not defined."
     ]
    }
   ],
   "source": [
    "(x**8 + 6*x**6 + 12*x**4 + 8*x**2)"
   ]
  },
  {
   "cell_type": "code",
   "execution_count": 24,
   "metadata": {},
   "outputs": [
    {
     "name": "stderr",
     "output_type": "stream",
     "text": [
      "The value or constructor 'x' is not defined.\r\n",
      "The value or constructor 'x' is not defined.\r\n",
      "The value or constructor 'x' is not defined.\r\n",
      "The value or constructor 'x' is not defined.\r\n",
      "The value, namespace, type or module 'Polynomial' is not defined."
     ]
    }
   ],
   "source": [
    "(x**8 + 6*x**6 + 12*x**4 + 8*x**2) |> Polynomial.factorSquareFree x "
   ]
  },
  {
   "cell_type": "markdown",
   "metadata": {},
   "source": [
    "### Calculus"
   ]
  },
  {
   "cell_type": "code",
   "execution_count": 25,
   "metadata": {},
   "outputs": [
    {
     "name": "stderr",
     "output_type": "stream",
     "text": [
      "The value, namespace, type or module 'Calculus' is not defined."
     ]
    }
   ],
   "source": [
    "Calculus.differentiate x (a*x**2 + b*x + c)"
   ]
  },
  {
   "cell_type": "code",
   "execution_count": 26,
   "metadata": {},
   "outputs": [
    {
     "name": "stderr",
     "output_type": "stream",
     "text": [
      "The value or constructor 'x' is not defined.\r\n",
      "The value or constructor 'x' is not defined.\r\n",
      "The value or constructor 'c' is not defined.\r\n",
      "The value, namespace, type or module 'Calculus' is not defined."
     ]
    }
   ],
   "source": [
    "(x**3 - 12*x**2 - c) |> Calculus.tangentLine x 1Q"
   ]
  },
  {
   "cell_type": "code",
   "execution_count": 27,
   "metadata": {},
   "outputs": [
    {
     "name": "stderr",
     "output_type": "stream",
     "text": [
      "The value or constructor 'z' is not defined.\r\n",
      "The value, namespace, type or module 'Calculus' is not defined."
     ]
    }
   ],
   "source": [
    "1/z |> Calculus.normalLine z 3Q"
   ]
  },
  {
   "cell_type": "markdown",
   "metadata": {},
   "source": [
    "### Working with Expressions\n",
    "\n",
    "Of course we can also combine these functions to write more powerful function on top of them:"
   ]
  },
  {
   "cell_type": "code",
   "execution_count": 28,
   "metadata": {},
   "outputs": [
    {
     "name": "stderr",
     "output_type": "stream",
     "text": [
      "The value, namespace, type or module 'Structure' is not defined. Maybe you want one of the following:\r\n",
      "   StructAttribute\r\n",
      "   StructuralEqualityAttribute\r\n",
      "   StructuralComparisonAttribute\r\n",
      "   StructuredFormatDisplayAttribute\r\n",
      "The value, namespace, type or module 'Calculus' is not defined.\r\n",
      "The type 'int' does not support the operator 'Pow'\r\n",
      "The value or constructor 'x' is not defined.\r\n",
      "This numeric literal requires that a module 'NumericLiteralQ' defining functions FromZero, FromOne, FromInt32, FromInt64 and FromString be in scope\r\n",
      "The value or constructor 'x' is not defined.\r\n",
      "The value or constructor 'x' is not defined."
     ]
    }
   ],
   "source": [
    "let taylor (k:int) symbol a x =\n",
    "    let rec impl n factorial sum dxn =\n",
    "        if n = k then sum else\n",
    "        let dxn_a = dxn |> Structure.substitute symbol a\n",
    "        let dxn'  = dxn |> Calculus.differentiate symbol\n",
    "        impl (n+1) (factorial*(n+1)) (sum + dxn_a/factorial*(symbol-a)**n) dxn'\n",
    "    impl 0 1 zero x |> Algebraic.expand\n",
    "\n",
    "taylor 4 x 0Q (sin(x)+cos(x))"
   ]
  },
  {
   "cell_type": "code",
   "execution_count": 29,
   "metadata": {},
   "outputs": [
    {
     "name": "stderr",
     "output_type": "stream",
     "text": [
      "The value or constructor 'taylor' is not defined.\r\n",
      "The value or constructor 'x' is not defined.\r\n",
      "This numeric literal requires that a module 'NumericLiteralQ' defining functions FromZero, FromOne, FromInt32, FromInt64 and FromString be in scope\r\n",
      "The value or constructor 'x' is not defined.\r\n",
      "The value or constructor 'x' is not defined."
     ]
    }
   ],
   "source": [
    "let tangent symbol a x = taylor 2 symbol a x\n",
    "\n",
    "tangent x 0Q (sin(x)+cos(x))"
   ]
  },
  {
   "cell_type": "markdown",
   "metadata": {},
   "source": [
    "### Simplistic solver"
   ]
  },
  {
   "cell_type": "code",
   "execution_count": 30,
   "metadata": {},
   "outputs": [
    {
     "name": "stderr",
     "output_type": "stream",
     "text": [
      "The value, namespace, type or module 'Rational' is not defined.\r\n",
      "The value, namespace, type or module 'Rational' is not defined.\r\n",
      "The value, namespace, type or module 'Rational' is not defined.\r\n",
      "The value, namespace, type or module 'Rational' is not defined.\r\n",
      "The value, namespace, type or module 'Rational' is not defined.\r\n",
      "The value, namespace, type or module 'Rational' is not defined.\r\n",
      "The value, namespace, type or module 'Algebraic' is not defined.\r\n",
      "The value, namespace, type or module 'Polynomial' is not defined.\r\n",
      "The value, namespace, type or module 'Polynomial' is not defined.\r\n",
      "The value or constructor 'Undefined' is not defined.\r\n",
      "The value, namespace, type or module 'Rational' is not defined.\r\n",
      "The value or constructor 'x' is not defined.\r\n",
      "The value or constructor 'x' is not defined.\r\n",
      "The value or constructor 'x' is not defined.\r\n",
      "The value or constructor 'number' is not defined."
     ]
    }
   ],
   "source": [
    "let solve x a b =\n",
    "\n",
    "    let a' = Rational.simplify x a\n",
    "    let an = Rational.numerator a'\n",
    "    let ad = Rational.denominator a'\n",
    "    \n",
    "    let b' = Rational.simplify x b\n",
    "    let bn = Rational.numerator b'\n",
    "    let bd = Rational.denominator b'\n",
    "    \n",
    "    let expr = an*bd - bn*ad |> Algebraic.expand\n",
    "    \n",
    "    if Polynomial.isPolynomial x expr then\n",
    "        match Polynomial.coefficients x expr with\n",
    "        | [||] -> Undefined\n",
    "        | [| a |] -> x\n",
    "        | [| a; b |] -> -a/b |> Rational.simplify x\n",
    "        | _ -> failwith \"higher polynomials not supported\"\n",
    "    else failwith \"only general polynomial expressions supported for now\"\n",
    "    \n",
    "// x/(x+5) = 7 --> x=?\n",
    "solve x (x/(x + 5)) (number 7)"
   ]
  },
  {
   "cell_type": "code",
   "execution_count": 31,
   "metadata": {},
   "outputs": [
    {
     "name": "stderr",
     "output_type": "stream",
     "text": [
      "The value or constructor 'solve' is not defined. Maybe you want one of the following:\r\n",
      "   Some"
     ]
    }
   ],
   "source": [
    "// sin(a)+x*cos(b) = c --> x=?\n",
    "solve x (sin(a)+x*cos(b)) c"
   ]
  },
  {
   "cell_type": "markdown",
   "metadata": {},
   "source": [
    "### Formatting and Parsing Expressions"
   ]
  },
  {
   "cell_type": "code",
   "execution_count": 32,
   "metadata": {},
   "outputs": [
    {
     "name": "stderr",
     "output_type": "stream",
     "text": [
      "The value, namespace, type or module 'Infix' is not defined. Maybe you want one of the following:\r\n",
      "   infinity\r\n",
      "   infinityf"
     ]
    }
   ],
   "source": [
    "Infix.parseOrUndefined \"(a/b)*sin(x)\""
   ]
  },
  {
   "cell_type": "code",
   "execution_count": 33,
   "metadata": {},
   "outputs": [
    {
     "name": "stderr",
     "output_type": "stream",
     "text": [
      "The value, constructor, namespace or type 'parse' is not defined."
     ]
    }
   ],
   "source": [
    "Quotations.parse <@ fun x y -> -x*y/3 @>"
   ]
  },
  {
   "cell_type": "code",
   "execution_count": 34,
   "metadata": {},
   "outputs": [
    {
     "name": "stderr",
     "output_type": "stream",
     "text": [
      "The value, namespace, type or module 'MathML' is not defined. Maybe you want one of the following:\r\n",
      "   Math"
     ]
    }
   ],
   "source": [
    "MathML.formatContentStrict (x**(1Q/3))"
   ]
  },
  {
   "cell_type": "code",
   "execution_count": 35,
   "metadata": {},
   "outputs": [
    {
     "name": "stderr",
     "output_type": "stream",
     "text": [
      "The value, namespace, type or module 'MathML' is not defined. Maybe you want one of the following:\r\n",
      "   Math"
     ]
    }
   ],
   "source": [
    "MathML.parse \"\"\"<csymbol cd=\"nums1\">pi</csymbol>\"\"\""
   ]
  },
  {
   "cell_type": "code",
   "execution_count": null,
   "metadata": {},
   "outputs": [],
   "source": []
  }
 ],
 "metadata": {
  "kernelspec": {
   "display_name": "F#",
   "language": "fsharp",
   "name": "ifsharp"
  },
  "language": "fsharp",
  "language_info": {
   "codemirror_mode": "",
   "file_extension": ".fs",
   "mimetype": "text/x-fsharp",
   "name": "fsharp",
   "nbconvert_exporter": "",
   "pygments_lexer": "",
   "version": "4.3.1.0"
  }
 },
 "nbformat": 4,
 "nbformat_minor": 1
}
