{
 "cells": [
  {
   "cell_type": "code",
   "execution_count": 2,
   "id": "db372a82",
   "metadata": {},
   "outputs": [],
   "source": [
    "/// Load Sylvester math libraries and open namespaces\n",
    "#load \"MathInclude.fsx\"\n",
    "open Sylvester\n",
    "open Sylvester.CAS"
   ]
  },
  {
   "cell_type": "code",
   "execution_count": 4,
   "id": "f7c7769e",
   "metadata": {},
   "outputs": [],
   "source": [
    "// Declare 2 symbolic variables\n",
    "let r, s = intvar \"r\", intvar \"s\"\n"
   ]
  },
  {
   "cell_type": "code",
   "execution_count": 6,
   "id": "6b698b8a",
   "metadata": {},
   "outputs": [
    {
     "data": {
      "text/html": [
       "<div class=\"dni-plaintext\">True</div>"
      ]
     },
     "execution_count": 6,
     "metadata": {},
     "output_type": "execute_result"
    }
   ],
   "source": [
    "// Open Z3 module and create instance of solver\n",
    "open Z3\n",
    "let z3 = new Z3Solver()\n",
    "\n",
    "// Check satisfiability of simple integer formulae\n",
    "check_sat z3 <@[ %r = 2 ]@>"
   ]
  },
  {
   "cell_type": "code",
   "execution_count": null,
   "id": "b27f0e3e",
   "metadata": {},
   "outputs": [],
   "source": []
  }
 ],
 "metadata": {
  "kernelspec": {
   "display_name": ".NET (F#)",
   "language": "F#",
   "name": ".net-fsharp"
  },
  "language_info": {
   "file_extension": ".fs",
   "mimetype": "text/x-fsharp",
   "name": "F#",
   "pygments_lexer": "fsharp",
   "version": "5.0"
  }
 },
 "nbformat": 4,
 "nbformat_minor": 5
}
