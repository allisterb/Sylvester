{
 "cells": [
  {
   "cell_type": "code",
   "execution_count": 4,
   "id": "5491372e",
   "metadata": {
    "hide_input": false,
    "slideshow": {
     "slide_type": "skip"
    }
   },
   "outputs": [
    {
     "data": {
      "text/html": [
       "<script src=\"https://cdnjs.cloudflare.com/ajax/libs/mathjax/2.7.7/MathJax.js?config=TeX-MML-AM_CHTML\"></script>"
      ]
     },
     "metadata": {},
     "output_type": "display_data"
    }
   ],
   "source": [
    "/// Setup MathJax and HTML helpers\n",
    "@\"<script src=\"\"https://cdnjs.cloudflare.com/ajax/libs/mathjax/2.7.7/MathJax.js?config=TeX-MML-AM_CHTML\"\"></script>\" |> Util.Html |> Display\n",
    "\n",
    "let html x = { Html = x }\n",
    "\n",
    "let h1 text = { Html = \"<h1>\" + text + \"</h1>\" }\n",
    "\n",
    "let h2 text = { Html = \"<h2>\" + text + \"</h2>\" }\n",
    "\n",
    "let h3 text = { Html = \"<h3>\" + text + \"</h3>\" }\n",
    "\n",
    "let ul text = { Html = \"<ul><li>\" + text + \"</li></ul>\" }\n",
    "\n",
    "let ul3 text = { Html = \"<ul><li><h3>\" + text + \"</h3></li></ul>\" }\n",
    "\n",
    "let img url = { Html = \"<img src=\\\"\" + url + \"\\\"\" + \" style=\\\"align:center\\\" />\" }\n"
   ]
  },
  {
   "cell_type": "code",
   "execution_count": null,
   "id": "a152be21",
   "metadata": {
    "slideshow": {
     "slide_type": "skip"
    }
   },
   "outputs": [],
   "source": [
    "/// Load Sylvester math libraries and open namespaces\n",
    "#load \"MathInclude.fsx\"\n",
    "open Sylvester\n",
    "open Sylvester.CAS"
   ]
  },
  {
   "cell_type": "markdown",
   "id": "3e17eedd",
   "metadata": {
    "slideshow": {
     "slide_type": "slide"
    }
   },
   "source": [
    "<div style=\"text-align:center\" align=\"center\">\n",
    "    <img src=\"http://fsharp.org/img/logo/fsharp512.png\" />\n",
    "    <h1> The Z3 SMT solver and functional programming</h1>\n",
    "</div>\n",
    "\n"
   ]
  },
  {
   "cell_type": "markdown",
   "id": "059bc67a",
   "metadata": {
    "slideshow": {
     "slide_type": "slide"
    }
   },
   "source": [
    "# Formal Logic\n",
    "* Consider symbol-manipulation rules over formulae rather than meaning\n",
    "* *true*, *false*, are just symbols. P, Q, R\n",
    "* Rules define well-formed formulae"
   ]
  },
  {
   "cell_type": "markdown",
   "id": "cf453272",
   "metadata": {
    "slideshow": {
     "slide_type": "slide"
    }
   },
   "source": [
    "## Propositional Logic\n",
    "\n",
    "* A declarative sentence with a truth value **true** or **false**\n",
    "* In symbolic logic denote a proposition by letters like *P*, *Q*, *R*\n",
    "* Symbols P, Q, R called atomic formulae, \n",
    "* Symbols $\\land$, $\\lor$, $\\neg$, $\\implies$called logical connectives.\n",
    "* Computer programming languages have symbols like `||` or `&&`\n",
    "* Atoms and logical connectives form compound formulae"
   ]
  },
  {
   "cell_type": "code",
   "execution_count": 7,
   "id": "6436f12e",
   "metadata": {
    "slideshow": {
     "slide_type": "fragment"
    }
   },
   "outputs": [
    {
     "data": {
      "text/plain": [
       "(true, false, true, true, false, false)"
      ]
     },
     "execution_count": 7,
     "metadata": {},
     "output_type": "execute_result"
    }
   ],
   "source": [
    "let P = 6 > 5 // atomic formula\n",
    "let Q = 400 / 10 < 30 // atomic formula\n",
    "P, Q, not Q, P || Q, P && Q, P ==> Q // compound formula"
   ]
  },
  {
   "cell_type": "markdown",
   "id": "be445888",
   "metadata": {
    "slideshow": {
     "slide_type": "slide"
    }
   },
   "source": [
    "# The Boolean Satisfiability Problem\n",
    "* An *interpretation* is just an assignment of truth values to atomic formulae in a well-formed formula\n",
    "* Truth-tables enumerate interpretations of a compound formula\n",
    "![tt](truthtablet.png)\n",
    "* A *model* is an interpretation where a Formula F is true according to the rules of a logic\n",
    "* For a formula with n atoms there are 2n possible interpretations\n",
    "* SAT easy to check for small formulas, but explodes with exponential complexity\n",
    "* Can't brute-force formula wth 2 ^ 10000 variables"
   ]
  },
  {
   "cell_type": "markdown",
   "id": "fc50c6fe",
   "metadata": {},
   "source": [
    "# The Boolean Satisfiability Problem\n",
    "* Is there an interpretation of a formula F that satisfies F\n",
    "* Applications of SAT solver: e.g Python package versioning"
   ]
  },
  {
   "cell_type": "markdown",
   "id": "6c4487bb",
   "metadata": {},
   "source": [
    "# Satisfiability modulo theories\n",
    "\n",
    "* satisfiabilty of boolproblem is decideable\n",
    "* First-order satisfiability is not in *general*\n",
    "* However, many special interpetations are decidable\n",
    "*  real numbers, integers, and/or various data structures such as lists, arrays, bit vectors, and strings. The"
   ]
  },
  {
   "cell_type": "markdown",
   "id": "22e3a01d",
   "metadata": {},
   "source": [
    "# First order logic\n"
   ]
  },
  {
   "cell_type": "markdown",
   "id": "36d90e9f",
   "metadata": {},
   "source": [
    "# Examples"
   ]
  },
  {
   "cell_type": "markdown",
   "id": "b9b44840",
   "metadata": {
    "slideshow": {
     "slide_type": "slide"
    }
   },
   "source": [
    "## Z3\n",
    "* Interfaces for many languages: C++, Python, OCaml,.NET,... \n",
    "* https://github.com/Z3Prover/z3/tree/master/src/api\n",
    "* .NET API Z3 ships with tends to be low-level and oriented towards imperative code\n",
    "\n",
    "````csharp\n",
    "//Z3 C# interface example code\n",
    "\n",
    "FPSort double_sort = ctx.MkFPSort(11, 53);\n",
    "FPRMSort rm_sort = ctx.MkFPRoundingModeSort();\n",
    "\n",
    "FPRMExpr rm = (FPRMExpr)ctx.MkConst(ctx.MkSymbol(\"rm\"), rm_sort);\n",
    "    BitVecExpr x = (BitVecExpr)ctx.MkConst(ctx.MkSymbol(\"x\"), ctx.MkBitVecSort(64));\n",
    "\n",
    "FPExpr y = (FPExpr)ctx.MkConst(ctx.MkSymbol(\"y\"), double_sort);\n",
    "FPExpr fp_val = ctx.MkFP(42, double_sort);\n",
    "\n",
    "BoolExpr c1 = ctx.MkEq(y, fp_val);\n",
    "BoolExpr c2 = ctx.MkEq(x, ctx.MkFPToBV(rm, y, 64, false));\n",
    "BoolExpr c3 = ctx.MkEq(x, ctx.MkBV(42, 64));\n",
    "BoolExpr c4 = ctx.MkEq(ctx.MkNumeral(42, ctx.RealSort), \n",
    "                       ctx.MkFPToReal(fp_val));\n",
    "\n",
    "BoolExpr c5 = ctx.MkAnd(c1, c2, c3, c4);\n",
    "````"
   ]
  },
  {
   "cell_type": "markdown",
   "id": "82bd05f6",
   "metadata": {
    "slideshow": {
     "slide_type": "slide"
    }
   },
   "source": [
    "# 2. F# Quotations"
   ]
  },
  {
   "cell_type": "markdown",
   "id": "b0175e5c",
   "metadata": {
    "slideshow": {
     "slide_type": "subslide"
    }
   },
   "source": [
    "## F# Quotations\n",
    "\n",
    "* https://docs.microsoft.com/en-us/dotnet/fsharp/language-reference/code-quotations\n",
    "* Primary vehicle for F# meta-programming\n",
    "* F# code delimited by `<@ @>` is interpreted as a syntactic structure\n",
    "* Same compiler and IDE features available for writing ordinary F# source code"
   ]
  },
  {
   "cell_type": "markdown",
   "id": "ca31891a",
   "metadata": {
    "slideshow": {
     "slide_type": "subslide"
    }
   },
   "source": [
    "## F# Quotations - Examples"
   ]
  },
  {
   "cell_type": "code",
   "execution_count": null,
   "id": "9471b2ae",
   "metadata": {
    "slideshow": {
     "slide_type": "fragment"
    }
   },
   "outputs": [],
   "source": [
    "// Ordinary F# code\n",
    "4 + 5 "
   ]
  },
  {
   "cell_type": "code",
   "execution_count": null,
   "id": "854362e1",
   "metadata": {
    "slideshow": {
     "slide_type": "fragment"
    }
   },
   "outputs": [],
   "source": [
    "// F# code quotation\n",
    "<@ 4 + 5 @>"
   ]
  },
  {
   "cell_type": "code",
   "execution_count": null,
   "id": "7d2c14fa",
   "metadata": {
    "slideshow": {
     "slide_type": "fragment"
    }
   },
   "outputs": [],
   "source": [
    "(4 + 5).GetType()"
   ]
  },
  {
   "cell_type": "code",
   "execution_count": null,
   "id": "6f07be90",
   "metadata": {
    "slideshow": {
     "slide_type": "fragment"
    }
   },
   "outputs": [],
   "source": [
    "(<@ 4 + 5 @>).GetType()"
   ]
  },
  {
   "cell_type": "code",
   "execution_count": null,
   "id": "8ad3068d",
   "metadata": {
    "slideshow": {
     "slide_type": "fragment"
    }
   },
   "outputs": [],
   "source": [
    "let f a b = a > b || a - b = 1\n",
    "<@ f @>"
   ]
  },
  {
   "cell_type": "code",
   "execution_count": null,
   "id": "2cb0f38d",
   "metadata": {
    "slideshow": {
     "slide_type": "fragment"
    }
   },
   "outputs": [],
   "source": [
    "<@ f @>.GetType()"
   ]
  },
  {
   "cell_type": "markdown",
   "id": "bc9f66c7",
   "metadata": {
    "slideshow": {
     "slide_type": "subslide"
    }
   },
   "source": [
    "### F# Code Quotations\n",
    "* Have type `Expr<'a>` or `Expr`\n",
    "* Examples above have type `Expr<int>` or `Expr<bool>`\n",
    "* Instances of `Expr<'a>` or `Expr` treat code as purely symbolic\n",
    "* Use pattern-matching\n",
    "* F# code inside quotations can be manipulated and synthesized\n",
    "* Primary vehicle for deep embedding of DSLs in F#"
   ]
  },
  {
   "cell_type": "code",
   "execution_count": 3,
   "id": "7a7401dc",
   "metadata": {
    "slideshow": {
     "slide_type": "fragment"
    }
   },
   "outputs": [
    {
     "data": {
      "text/plain": [
       "Call (None, op_Addition,\n",
       "      [Call (None, op_Addition, [Value (3), Value (4)]), Value (5)])"
      ]
     },
     "execution_count": 3,
     "metadata": {},
     "output_type": "execute_result"
    }
   ],
   "source": [
    "let j = <@ 5 @>\n",
    "<@ 3 + 4 + %j @>"
   ]
  },
  {
   "cell_type": "code",
   "execution_count": 11,
   "id": "4f4b5ee9",
   "metadata": {
    "slideshow": {
     "slide_type": "fragment"
    }
   },
   "outputs": [
    {
     "data": {
      "text/plain": [
       "Some Value (5)"
      ]
     },
     "execution_count": 11,
     "metadata": {},
     "output_type": "execute_result"
    }
   ],
   "source": [
    "open FSharp.Quotations.Patterns\n",
    "open FSharp.Quotations.DerivedPatterns\n",
    "\n",
    "match <@ 3 + 4 + %j @> with\n",
    "| SpecificCall <@@ (+) @@> (None,_,l::r::[]) -> Some r\n",
    "| _ -> None"
   ]
  },
  {
   "cell_type": "markdown",
   "id": "bbf5cecf",
   "metadata": {
    "slideshow": {
     "slide_type": "slide"
    }
   },
   "source": [
    "# Integrating Z3 with F#"
   ]
  },
  {
   "cell_type": "markdown",
   "id": "aca10642",
   "metadata": {
    "slideshow": {
     "slide_type": "subslide"
    }
   },
   "source": [
    "## Integrating Z3 with F#\n",
    "* Need to represent Z3's symbolic expressions and sorts\n",
    "* Ideally use pattern matching for code translation and generation\n",
    "* One option is to define custom types, operators e.g Python's `IntVar`..."
   ]
  },
  {
   "cell_type": "markdown",
   "id": "9f5d58a6",
   "metadata": {
    "slideshow": {
     "slide_type": "subslide"
    }
   },
   "source": [
    "## Integrating Z3 with F#\n",
    "  \n",
    "  One approach is to use custom types like the Python Z3 library:\n",
    "  ````python\n",
    "  Z = IntSort()\n",
    "  f = Function('f', Z, Z)\n",
    "  x, y, z = Ints('x y z')\n",
    "  A = Array('A', Z, Z)\n",
    "  fml = Implies(x + 2 == y, f(Store(A, x, 3)[y - 2]) == f(y - x + 1))\n",
    "````"
   ]
  },
  {
   "cell_type": "markdown",
   "id": "4c766dc6",
   "metadata": {
    "slideshow": {
     "slide_type": "subslide"
    }
   },
   "source": [
    "## Integrating Z3 with F#\n",
    "* ...or we can use built-in `Expr<'t>` from F# code quotationx\n",
    "* Natural mapping of numeric types e.g.: `3` -> `<@ 3 @>`\n",
    "* Full compiler and IDE support: type checking, syntax highlighting for quotations\n",
    "* Comprehensive library of patterns\n",
    "* Easy to compose your own patterns"
   ]
  },
  {
   "cell_type": "code",
   "execution_count": null,
   "id": "8c818786",
   "metadata": {
    "slideshow": {
     "slide_type": "subslide"
    }
   },
   "outputs": [],
   "source": [
    "// Most F# environments support editing code quotations with the same features as regular code\n",
    "<@ 3 + 4. @>"
   ]
  },
  {
   "cell_type": "code",
   "execution_count": null,
   "id": "de34f95d",
   "metadata": {
    "slideshow": {
     "slide_type": "fragment"
    }
   },
   "outputs": [],
   "source": [
    "// Functions have both ordinary and symbolic form\n",
    "[<Formula>] \n",
    "let g x y = x * y > x / y //Boolean-valued function\n",
    "\n",
    "g 4 5"
   ]
  },
  {
   "cell_type": "code",
   "execution_count": null,
   "id": "c3742b47",
   "metadata": {
    "slideshow": {
     "slide_type": "fragment"
    }
   },
   "outputs": [],
   "source": [
    "expand <@ g @>"
   ]
  },
  {
   "cell_type": "markdown",
   "id": "71a132e9",
   "metadata": {
    "slideshow": {
     "slide_type": "slide"
    }
   },
   "source": [
    "# 3. Using Z3 with F# code quotations"
   ]
  },
  {
   "cell_type": "markdown",
   "id": "0b844157",
   "metadata": {
    "slideshow": {
     "slide_type": "subslide"
    }
   },
   "source": [
    "## Using Z3 with F# code quotations"
   ]
  },
  {
   "cell_type": "markdown",
   "id": "fe6d462a",
   "metadata": {
    "slideshow": {
     "slide_type": "fragment"
    }
   },
   "source": [
    "* Need a way to represent symbolic variables of a particular *sort*"
   ]
  },
  {
   "cell_type": "markdown",
   "id": "cf5dab63",
   "metadata": {
    "slideshow": {
     "slide_type": "fragment"
    }
   },
   "source": [
    "* Need to represent common arithmetic and logical operations: `+`, `-`, `*`, $\\land$, $\\lor$, $\\forall$ etc."
   ]
  },
  {
   "cell_type": "markdown",
   "id": "1b0d59c6",
   "metadata": {
    "slideshow": {
     "slide_type": "fragment"
    }
   },
   "source": [
    "* Need to represent common mathematical forms e.g. systems of equations, sequences"
   ]
  },
  {
   "cell_type": "code",
   "execution_count": 12,
   "id": "6bfa1be4",
   "metadata": {
    "slideshow": {
     "slide_type": "subslide"
    }
   },
   "outputs": [
    {
     "data": {
      "text/plain": [
       "Call (None, op_GreaterThan, [Call (None, op_Addition, [x, x]), x])"
      ]
     },
     "execution_count": 12,
     "metadata": {},
     "output_type": "execute_result"
    }
   ],
   "source": [
    "open FSharp.Quotations\n",
    "// Use Expr.Var expression for symbolic variable with name\n",
    "let symbolic_var<'t> n = \n",
    "    let v = Expr.Var(Var(n, typeof<'t>)) in <@ %%v:'t @>\n",
    "\n",
    "// Alias float type as real\n",
    "type real = float\n",
    "\n",
    "// Map sorts to ordinary types\n",
    "let intvar x = symbolic_var<int> x\n",
    "let realvar x = symbolic_var<real> x\n",
    "\n",
    "let x,y = intvar \"x\", realvar \"y\"\n",
    "<@ %x + %x > %x @> // Ok\n",
    "//<@ %x + %y @> // Doesn't typecheck"
   ]
  },
  {
   "cell_type": "markdown",
   "id": "12113e5b",
   "metadata": {
    "slideshow": {
     "slide_type": "subslide"
    }
   },
   "source": [
    "````fsharp\n",
    "// Need a type for rational numbers\n",
    "// Inspired by: https://github.com/mathnet/mathnet-numerics/blob/master/src/FSharp/BigRational.fs\n",
    "open MathNet.Numerics\n",
    "[<CustomEquality; CustomComparison>]\n",
    "type Rational = \n",
    "    struct \n",
    "        val Numerator: BigInteger\n",
    "        val Denominator: BigInteger\n",
    "        new(p:BigInteger, q:BigInteger) = {Numerator = p; Denominator = q}\n",
    "        new(p:BigInteger) = {Numerator = p; Denominator = BigInteger.One}\n",
    "        new(p:int, q:int) = {Numerator = BigInteger p; Denominator = BigInteger q}\n",
    "        //...\n",
    "type rat = Rational // alias\n",
    "let ratvar = symbolic_var<rat>\n",
    "````"
   ]
  },
  {
   "cell_type": "markdown",
   "id": "842f7e91",
   "metadata": {
    "slideshow": {
     "slide_type": "subslide"
    }
   },
   "source": [
    "````fsharp\n",
    "// Check satisfiability of list of Boolean conditions\n",
    "let internal check_sat_model (s:Z3Solver) (a: Expr<bool list>) = \n",
    "        let sol = a |> expand_list |> List.map (create_bool_expr s) |> s.Check \n",
    "        match sol with\n",
    "        | Status.SATISFIABLE -> Some (s.Model())\n",
    "        | _ -> None\n",
    "        \n",
    "let check_sat (s:Z3Solver) a = (Option.isSome <| check_sat_model s a)\n",
    "````"
   ]
  },
  {
   "cell_type": "code",
   "execution_count": 3,
   "id": "6b698b8a",
   "metadata": {
    "slideshow": {
     "slide_type": "subslide"
    }
   },
   "outputs": [
    {
     "data": {
      "text/plain": [
       "true"
      ]
     },
     "execution_count": 3,
     "metadata": {},
     "output_type": "execute_result"
    }
   ],
   "source": [
    "// Open Z3 module and create instance of solver\n",
    "open Z3\n",
    "let z3 = new Z3Solver()\n",
    "\n",
    "// Declare 2 symbolic variables. Variables can be reused.\n",
    "let r, s = intvar \"r\", intvar \"s\"\n",
    "\n",
    "// Check satisfiability of simple integer equation system\n",
    "check_sat z3 <@[ \n",
    "    %r * %s = 6\n",
    "    %r - %s = 1\n",
    "]@> // Use lists to represent equation system"
   ]
  },
  {
   "cell_type": "code",
   "execution_count": 4,
   "id": "36c3b4c1",
   "metadata": {
    "slideshow": {
     "slide_type": "subslide"
    }
   },
   "outputs": [
    {
     "data": {
      "text/plain": [
       "false"
      ]
     },
     "execution_count": 4,
     "metadata": {},
     "output_type": "execute_result"
    }
   ],
   "source": [
    "let p, q = boolvar \"p\", boolvar \"q\"\n",
    "check_sat z3 <@[ %p |&| not %p ]@>"
   ]
  },
  {
   "cell_type": "markdown",
   "id": "f4692f93",
   "metadata": {
    "slideshow": {
     "slide_type": "slide"
    }
   },
   "source": [
    "# Propositional and first-order logic formula satisfiability"
   ]
  },
  {
   "cell_type": "code",
   "execution_count": 6,
   "id": "8bac1749",
   "metadata": {},
   "outputs": [
    {
     "data": {
      "text/plain": [
       "Some [(\"p2\", false); (\"p1\", false)]"
      ]
     },
     "execution_count": 6,
     "metadata": {},
     "output_type": "execute_result"
    }
   ],
   "source": [
    "(*\n",
    "(declare-preds ((p1) (p2) (p3) (p4) (p5)))\n",
    "(assert (=> p1 p2))\n",
    "(assert (=> p1 p3))\n",
    "(assert (=> p1 p4))\n",
    "(assert (not p2)\n",
    "*)\n",
    "\n",
    "let p1,p2,p3,p4,p5 = boolvar \"p1\", boolvar \"p2\", boolvar \"p3\", boolvar \"p4\", boolvar \"p5\"\n",
    "\n",
    "<@[\n",
    "    %p1 ==> %p2\n",
    "    %p1 ==> %p3\n",
    "    %p1 ==> %p4\n",
    "    not %p2\n",
    "]@> |> get_bool_var_model z3"
   ]
  },
  {
   "cell_type": "code",
   "execution_count": 9,
   "id": "fd59189a",
   "metadata": {
    "slideshow": {
     "slide_type": "subslide"
    }
   },
   "outputs": [
    {
     "data": {
      "text/plain": [
       "false"
      ]
     },
     "execution_count": 9,
     "metadata": {},
     "output_type": "execute_result"
    }
   ],
   "source": [
    "let A = setvar<int> \"A\"\n",
    "<@[ forall' %r (%r |?| %A ||| (not (%r |?| %A))) ]@> |> check_sat z3"
   ]
  },
  {
   "cell_type": "code",
   "execution_count": null,
   "id": "ca8cf63a",
   "metadata": {},
   "outputs": [],
   "source": [
    "latex' <@[ forall' %r (%r |?| %A ||| (not (%r |?| %A))) ]@>"
   ]
  }
 ],
 "metadata": {
  "celltoolbar": "Slideshow",
  "kernelspec": {
   "display_name": "F#",
   "language": "fsharp",
   "name": "ifsharp"
  },
  "language": "fsharp",
  "language_info": {
   "codemirror_mode": "",
   "file_extension": ".fs",
   "mimetype": "text/x-fsharp",
   "name": "fsharp",
   "nbconvert_exporter": "",
   "pygments_lexer": "",
   "version": "4.3.1.0"
  },
  "rise": {
   "backimage": "BRo18.png"
  }
 },
 "nbformat": 4,
 "nbformat_minor": 5
}
