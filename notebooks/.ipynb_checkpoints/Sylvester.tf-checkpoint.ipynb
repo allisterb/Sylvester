{
 "cells": [
  {
   "cell_type": "code",
   "execution_count": 5,
   "metadata": {},
   "outputs": [],
   "source": [
    "// Use the Sylvester arithmetic and collection packages\n",
    "#r \"nuget: Sylvester.tf, 0.2.1\""
   ]
  },
  {
   "cell_type": "code",
   "execution_count": 6,
   "metadata": {},
   "outputs": [],
   "source": [
    "open Sylvester.Arithmetic\n",
    "open Sylvester.tf"
   ]
  },
  {
   "cell_type": "code",
   "execution_count": 4,
   "metadata": {
    "scrolled": true
   },
   "outputs": [
    {
     "ename": "Unhandled Exception",
     "evalue": "input.fsx (20,1)-(20,18) parse warning 'use' bindings are not permitted in modules and are treated as 'let' bindings\ninput.fsx (7,19)-(7,21) typecheck error Type constraint mismatch. The type \n    'Sylvester.Collections.VArray<n<...>,Edge>'    \nis not compatible with type\n    'N10.N10<'a,'a40,'a42,'a44,'a46,'a48,'a50,'a52,'a54,'a56>'    \n\ninput.fsx (8,20)-(8,22) typecheck error Type constraint mismatch. The type \n    'Sylvester.Collections.VArray<n<...>,Edge>'    \nis not compatible with type\n    'N10.N10<'a,'a2,'a4,'a6,'a8,'a10,'a12,'a14,'a16,'a18>'    \n\ninput.fsx (14,10)-(14,34) typecheck error The type referenced through 'Sylvester.Tensors.IUnknownShape' is defined in an assembly that is not referenced. You must add a reference to assembly 'Sylvester.Tensors'.\ninput.fsx (21,9)-(21,36) typecheck error The type referenced through 'Sylvester.Tensors.IUnknownShape' is defined in an assembly that is not referenced. You must add a reference to assembly 'Sylvester.Tensors'.\ninput.fsx (22,1)-(22,7) typecheck error Lookup on object of indeterminate type based on information prior to this program point. A type annotation may be needed prior to this program point to constrain the type of the object. This may allow the lookup to be resolved.\ninput.fsx (28,10)-(28,34) typecheck error The type referenced through 'Sylvester.Tensors.IUnknownShape' is defined in an assembly that is not referenced. You must add a reference to assembly 'Sylvester.Tensors'.\ninput.fsx (29,10)-(29,34) typecheck error The type referenced through 'Sylvester.Tensors.IUnknownShape' is defined in an assembly that is not referenced. You must add a reference to assembly 'Sylvester.Tensors'.",
     "output_type": "error",
     "traceback": [
      "input.fsx (20,1)-(20,18) parse warning 'use' bindings are not permitted in modules and are treated as 'let' bindings\ninput.fsx (7,19)-(7,21) typecheck error Type constraint mismatch. The type \n    'Sylvester.Collections.VArray<n<...>,Edge>'    \nis not compatible with type\n    'N10.N10<'a,'a40,'a42,'a44,'a46,'a48,'a50,'a52,'a54,'a56>'    \n\ninput.fsx (8,20)-(8,22) typecheck error Type constraint mismatch. The type \n    'Sylvester.Collections.VArray<n<...>,Edge>'    \nis not compatible with type\n    'N10.N10<'a,'a2,'a4,'a6,'a8,'a10,'a12,'a14,'a16,'a18>'    \n\ninput.fsx (14,10)-(14,34) typecheck error The type referenced through 'Sylvester.Tensors.IUnknownShape' is defined in an assembly that is not referenced. You must add a reference to assembly 'Sylvester.Tensors'.\ninput.fsx (21,9)-(21,36) typecheck error The type referenced through 'Sylvester.Tensors.IUnknownShape' is defined in an assembly that is not referenced. You must add a reference to assembly 'Sylvester.Tensors'.\ninput.fsx (22,1)-(22,7) typecheck error Lookup on object of indeterminate type based on information prior to this program point. A type annotation may be needed prior to this program point to constrain the type of the object. This may allow the lookup to be resolved.\ninput.fsx (28,10)-(28,34) typecheck error The type referenced through 'Sylvester.Tensors.IUnknownShape' is defined in an assembly that is not referenced. You must add a reference to assembly 'Sylvester.Tensors'.\ninput.fsx (29,10)-(29,34) typecheck error The type referenced through 'Sylvester.Tensors.IUnknownShape' is defined in an assembly that is not referenced. You must add a reference to assembly 'Sylvester.Tensors'."
     ]
    }
   ],
   "source": [
    "// Create a new TF tensor graph with 4 inputs and one output and set as default graph for this program scope\n",
    "let g = TensorGraph<n<4>, n<1>>()\n",
    "defaultGraph <- g\n",
    "\n",
    "// The default graph is typed according to how many inputs and output are specified.\n",
    "// Type-level comparisons can be done on numeric graph properties at compile-time.\n",
    "let gt = g.Inputs +< three // Has type Sylvester.Bool+True\n",
    "let lt = g.Outputs +> five // Has type Sylvester.Bool+False\n",
    "\n",
    "// Graph and element type-level properties can be verified at compile-time\n",
    "//check(g.Inputs +== five) //Causes type error\n",
    "\n",
    "// We can create graph elements with types that depend on their dimensions\n",
    "let m0 = Mat<dim<4>, dim<3>>(\"m\") // Creates a TensorFlow placeholder node and output edge with shape 4x3 and name m_0.\n",
    "\n",
    "// We can also verify the size of the matrix and other tensor dimensions at compile-time\n",
    "//check(m0.Dim0 +> five) //Causes type error\n",
    "\n",
    "// Use a new TensorFlow name scope\n",
    "use x = scope \"x\"\n",
    "let a = Mat<dim<100>, dim<50>>(\"a\")\n",
    "a.Name // Name is \"x/a_0\"\n",
    "\n",
    "//Revert to root scope\n",
    "ends x\n",
    "\n",
    "// Matrix operations type-checked at compile-time\n",
    "let m1 = Mat<dim<4>, dim<3>>(\"m\") //Placeholder m_1\n",
    "let m2 = Mat<dim<3>, dim<7>>(\"m\") //Placeholder m_2\n",
    "\n",
    "let sum1 = m0 + m1 // Create a TF Add op node with input edges from m0 and m1 \n",
    "\n",
    "//let sum2 = m1 + m2 // Type error: matrices not conformable for element-wise addition\n",
    "\n",
    "let prod1 = m1 * m2 // Create a TF MatMul node with input edges from m1 and m2\n",
    "\n",
    "//let prod2 = m2 * m1 // Type error: matrices not conformable for\n"
   ]
  },
  {
   "cell_type": "code",
   "execution_count": null,
   "metadata": {},
   "outputs": [],
   "source": []
  }
 ],
 "metadata": {
  "kernelspec": {
   "display_name": ".NET (F#)",
   "language": "F#",
   "name": ".net-fsharp"
  },
  "language_info": {
   "file_extension": ".fs",
   "mimetype": "text/x-fsharp",
   "name": "C#",
   "pygments_lexer": "fsharp",
   "version": "4.5"
  }
 },
 "nbformat": 4,
 "nbformat_minor": 2
}
