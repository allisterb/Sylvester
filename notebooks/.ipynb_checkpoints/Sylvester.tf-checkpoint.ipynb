{
 "cells": [
  {
   "cell_type": "code",
   "execution_count": 1,
   "metadata": {},
   "outputs": [],
   "source": [
    "// Use the Sylvester arithmetic and collection packages\n",
    "#r \"nuget: Sylvester.tf\""
   ]
  },
  {
   "cell_type": "code",
   "execution_count": 2,
   "metadata": {},
   "outputs": [
    {
     "data": {
      "text/html": [
       "Installing package Sylvester.tf.done!"
      ]
     },
     "metadata": {},
     "output_type": "display_data"
    },
    {
     "data": {
      "text/html": [
       "Installing package Sylvester.tf.Native.Win.done!"
      ]
     },
     "metadata": {},
     "output_type": "display_data"
    },
    {
     "name": "stdout",
     "output_type": "stream",
     "text": [
      "=============== S T A R T ==========================================\n",
      ">>>> C:\\Users\\Allister\\.nuget\\packages\\sylvester.arithmetic\\0.2.2.1\\typeproviders\\fsharp41\\netstandard2.0\\Sylvester.Provider.Arithmetic.DesignTime.dll\n",
      "Using: C:\\Users\\Allister\\.nuget\\packages\\sylvester.arithmetic\\0.2.2.1\\typeproviders\\fsharp41\\netstandard2.0\\Sylvester.Provider.Arithmetic.DesignTime.dll\n"
     ]
    }
   ],
   "source": [
    "open Sylvester.Arithmetic\n",
    "open Sylvester.tf"
   ]
  },
  {
   "cell_type": "code",
   "execution_count": 4,
   "metadata": {
    "scrolled": true
   },
   "outputs": [
    {
     "data": {
      "text/html": [
       "<table><thead><tr><th>Val</th><th>Digits</th><th>Digit1</th><th>Digit2</th><th>Digit3</th><th>Digit4</th><th>Digit5</th><th>Digit6</th><th>Digit7</th><th>Digit8</th><th>Digit9</th><th>Digit10</th></tr></thead><tbody><tr><td>10</td><td>{ System.Tuple&lt;Sylvester.Arithmetic.Base10+0,Sylvester.Arithmetic.Base10+0,Sylvester.Arithmetic.Base10+0,Sylvester.Arithmetic.Base10+0,Sylvester.Arithmetic.Base10+0,Sylvester.Arithmetic.Base10+0,Sylvester.Arithmetic.Base10+0,System.Tuple&lt;Sylvester.Arithmetic.Base10+0,Sylvester.Arithmetic.Base10+1,Sylvester.Arithmetic.Base10+0&gt;&gt;: Item1: { Sylvester.Arithmetic.Base10+0:  }, Item2: { Sylvester.Arithmetic.Base10+0:  }, Item3: { Sylvester.Arithmetic.Base10+0:  }, Item4: { Sylvester.Arithmetic.Base10+0:  }, Item5: { Sylvester.Arithmetic.Base10+0:  }, Item6: { Sylvester.Arithmetic.Base10+0:  }, Item7: { Sylvester.Arithmetic.Base10+0:  }, Rest: { System.Tuple&lt;Sylvester.Arithmetic.Base10+0,Sylvester.Arithmetic.Base10+1,Sylvester.Arithmetic.Base10+0&gt;: Item1: { Sylvester.Arithmetic.Base10+0:  }, Item2: { Sylvester.Arithmetic.Base10+1:  }, Item3: { Sylvester.Arithmetic.Base10+0:  } } }</td><td>{ Sylvester.Arithmetic.Base10+0:  }</td><td>{ Sylvester.Arithmetic.Base10+1:  }</td><td>{ Sylvester.Arithmetic.Base10+0:  }</td><td>{ Sylvester.Arithmetic.Base10+0:  }</td><td>{ Sylvester.Arithmetic.Base10+0:  }</td><td>{ Sylvester.Arithmetic.Base10+0:  }</td><td>{ Sylvester.Arithmetic.Base10+0:  }</td><td>{ Sylvester.Arithmetic.Base10+0:  }</td><td>{ Sylvester.Arithmetic.Base10+0:  }</td><td>{ Sylvester.Arithmetic.Base10+0:  }</td></tr></tbody></table>"
      ]
     },
     "execution_count": 4,
     "metadata": {},
     "output_type": "execute_result"
    }
   ],
   "source": [
    "let g = TensorGraph<n<10>, n<1>>()\n",
    "g.Inputs.Length"
   ]
  },
  {
   "cell_type": "code",
   "execution_count": null,
   "metadata": {},
   "outputs": [],
   "source": []
  }
 ],
 "metadata": {
  "kernelspec": {
   "display_name": ".NET (F#)",
   "language": "F#",
   "name": ".net-fsharp"
  },
  "language_info": {
   "file_extension": ".fs",
   "mimetype": "text/x-fsharp",
   "name": "C#",
   "pygments_lexer": "fsharp",
   "version": "4.5"
  }
 },
 "nbformat": 4,
 "nbformat_minor": 2
}
