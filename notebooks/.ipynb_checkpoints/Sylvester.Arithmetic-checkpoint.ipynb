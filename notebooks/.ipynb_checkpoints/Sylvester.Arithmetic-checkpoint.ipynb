{
 "cells": [
  {
   "cell_type": "code",
   "execution_count": 10,
   "metadata": {},
   "outputs": [],
   "source": [
    "// Use the Sylvester arithmetic and collection packages\n",
    "# r \"nuget:Sylvester.Arithmetic\"\n",
    "# r \"nuget:Sylvester.Collections\""
   ]
  },
  {
   "cell_type": "code",
   "execution_count": null,
   "metadata": {},
   "outputs": [],
   "source": []
  },
  {
   "cell_type": "code",
   "execution_count": 11,
   "metadata": {},
   "outputs": [],
   "source": [
    "open Sylvester.Arithmetic\n",
    "open Sylvester.Arithmetic.N10\n",
    "open Sylvester.Collections"
   ]
  },
  {
   "cell_type": "code",
   "execution_count": 12,
   "metadata": {},
   "outputs": [],
   "source": [
    "let a = new VArray<dim<10>, int>(6) //Create a 1-D array of length 10 initialized to a constant value"
   ]
  },
  {
   "cell_type": "code",
   "execution_count": 13,
   "metadata": {},
   "outputs": [
    {
     "data": {
      "text/plain": [
       "6"
      ]
     },
     "execution_count": 13,
     "metadata": {},
     "output_type": "execute_result"
    }
   ],
   "source": [
    "a.[nine] //Type checks ok"
   ]
  },
  {
   "cell_type": "code",
   "execution_count": 14,
   "metadata": {},
   "outputs": [
    {
     "ename": "Unhandled Exception",
     "evalue": "input.fsx (1,4)-(1,5) typecheck error The type 'int' does not support the operator '+@<<'\ninput.fsx (1,1)-(1,6) typecheck error The type 'int' does not support the operator '+@<<'",
     "output_type": "error",
     "traceback": [
      "input.fsx (1,4)-(1,5) typecheck error The type 'int' does not support the operator '+@<<'\ninput.fsx (1,1)-(1,6) typecheck error The type 'int' does not support the operator '+@<<'"
     ]
    }
   ],
   "source": [
    "a.[1] //Type error"
   ]
  },
  {
   "cell_type": "code",
   "execution_count": 15,
   "metadata": {},
   "outputs": [
    {
     "data": {
      "text/html": [
       "<table><thead><tr><th>Digits</th><th>Digit1</th><th>Digit2</th><th>Digit3</th><th>Digit4</th><th>Digit5</th><th>Digit6</th><th>Digit7</th><th>Digit8</th><th>Digit9</th><th>Digit10</th></tr></thead><tbody><tr><td>{ System.Tuple&lt;Sylvester.Arithmetic.Base10+0,Sylvester.Arithmetic.Base10+0,Sylvester.Arithmetic.Base10+0,Sylvester.Arithmetic.Base10+0,Sylvester.Arithmetic.Base10+0,Sylvester.Arithmetic.Base10+0,Sylvester.Arithmetic.Base10+0,System.Tuple&lt;Sylvester.Arithmetic.Base10+0,Sylvester.Arithmetic.Base10+1,Sylvester.Arithmetic.Base10+0&gt;&gt;: Item1: { Sylvester.Arithmetic.Base10+0:  }, Item2: { Sylvester.Arithmetic.Base10+0:  }, Item3: { Sylvester.Arithmetic.Base10+0:  }, Item4: { Sylvester.Arithmetic.Base10+0:  }, Item5: { Sylvester.Arithmetic.Base10+0:  }, Item6: { Sylvester.Arithmetic.Base10+0:  }, Item7: { Sylvester.Arithmetic.Base10+0:  }, Rest: { System.Tuple&lt;Sylvester.Arithmetic.Base10+0,Sylvester.Arithmetic.Base10+1,Sylvester.Arithmetic.Base10+0&gt;: Item1: { Sylvester.Arithmetic.Base10+0:  }, Item2: { Sylvester.Arithmetic.Base10+1:  }, Item3: { Sylvester.Arithmetic.Base10+0:  } } }</td><td>{ Sylvester.Arithmetic.Base10+0:  }</td><td>{ Sylvester.Arithmetic.Base10+1:  }</td><td>{ Sylvester.Arithmetic.Base10+0:  }</td><td>{ Sylvester.Arithmetic.Base10+0:  }</td><td>{ Sylvester.Arithmetic.Base10+0:  }</td><td>{ Sylvester.Arithmetic.Base10+0:  }</td><td>{ Sylvester.Arithmetic.Base10+0:  }</td><td>{ Sylvester.Arithmetic.Base10+0:  }</td><td>{ Sylvester.Arithmetic.Base10+0:  }</td><td>{ Sylvester.Arithmetic.Base10+0:  }</td></tr></tbody></table>"
      ]
     },
     "metadata": {},
     "output_type": "display_data"
    }
   ],
   "source": [
    "display(a.Length)"
   ]
  },
  {
   "cell_type": "code",
   "execution_count": null,
   "metadata": {},
   "outputs": [],
   "source": []
  }
 ],
 "metadata": {
  "kernelspec": {
   "display_name": ".NET (F#)",
   "language": "F#",
   "name": ".net-fsharp"
  },
  "language_info": {
   "file_extension": ".fs",
   "mimetype": "text/x-fsharp",
   "name": "C#",
   "pygments_lexer": "fsharp",
   "version": "4.5"
  }
 },
 "nbformat": 4,
 "nbformat_minor": 2
}
