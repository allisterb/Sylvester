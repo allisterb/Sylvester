{
 "cells": [
  {
   "cell_type": "markdown",
   "metadata": {},
   "source": [
    "## Sylvester.Arithmetic\n",
    "\n",
    "### Introduction\n",
    "This [library](https://github.com/allisterb/Sylvester/tree/master/src/Base/Sylvester.FixedPoint) implements [lightweight](http://okmij.org/ftp/Computation/lightweight-dependent-typing.html) dependently typed natural number arithmetic and constraints in F# which enable arithmetic operations like bounds checking to be performed at compile-time by the F# type checker as long as the values for the operations are known at compile-time. "
   ]
  },
  {
   "cell_type": "code",
   "execution_count": 2,
   "metadata": {},
   "outputs": [
    {
     "data": {
      "text/html": [
       "<table><thead><tr><th>Val</th><th>Digits</th><th>Digit1</th><th>Digit2</th><th>Digit3</th><th>Digit4</th><th>Digit5</th><th>Digit6</th><th>Digit7</th><th>Digit8</th><th>Digit9</th><th>Digit10</th></tr></thead><tbody><tr><td>6809211</td><td>{ System.Tuple&lt;Sylvester.Arithmetic.Base10+0,Sylvester.Arithmetic.Base10+0,Sylvester.Arithmetic.Base10+0,Sylvester.Arithmetic.Base10+6,Sylvester.Arithmetic.Base10+8,Sylvester.Arithmetic.Base10+0,Sylvester.Arithmetic.Base10+9,System.Tuple&lt;Sylvester.Arithmetic.Base10+2,Sylvester.Arithmetic.Base10+1,Sylvester.Arithmetic.Base10+1&gt;&gt;: Item1: { Sylvester.Arithmetic.Base10+0:  }, Item2: { Sylvester.Arithmetic.Base10+0:  }, Item3: { Sylvester.Arithmetic.Base10+0:  }, Item4: { Sylvester.Arithmetic.Base10+6:  }, Item5: { Sylvester.Arithmetic.Base10+8:  }, Item6: { Sylvester.Arithmetic.Base10+0:  }, Item7: { Sylvester.Arithmetic.Base10+9:  }, Rest: { System.Tuple&lt;Sylvester.Arithmetic.Base10+2,Sylvester.Arithmetic.Base10+1,Sylvester.Arithmetic.Base10+1&gt;: Item1: { Sylvester.Arithmetic.Base10+2:  }, Item2: { Sylvester.Arithmetic.Base10+1:  }, Item3: { Sylvester.Arithmetic.Base10+1:  } } }</td><td>{ Sylvester.Arithmetic.Base10+1:  }</td><td>{ Sylvester.Arithmetic.Base10+1:  }</td><td>{ Sylvester.Arithmetic.Base10+2:  }</td><td>{ Sylvester.Arithmetic.Base10+9:  }</td><td>{ Sylvester.Arithmetic.Base10+0:  }</td><td>{ Sylvester.Arithmetic.Base10+8:  }</td><td>{ Sylvester.Arithmetic.Base10+6:  }</td><td>{ Sylvester.Arithmetic.Base10+0:  }</td><td>{ Sylvester.Arithmetic.Base10+0:  }</td><td>{ Sylvester.Arithmetic.Base10+0:  }</td></tr></tbody></table>"
      ]
     },
     "execution_count": 2,
     "metadata": {},
     "output_type": "execute_result"
    }
   ],
   "source": [
    "/// Use the Sylvester.Arithmetic NuGet package in this notebook// Use the Sylvester arithmetic and collection packages\n",
    "# r \"nuget:Sylvester.Arithmetic\"\n",
    "\n",
    "open Sylvester.Arithmetic\n",
    "open Sylvester.Arithmetic.N10\n",
    "\n",
    "///Create typed representations of some natural numbers\n",
    "let a,b,c = new n<400>(), new n<231111>(), new n<6577700>()\n",
    "\n",
    "a + b + c"
   ]
  },
  {
   "cell_type": "markdown",
   "metadata": {},
   "source": [
    "These values have types derived from *Sylvester.Arithmetic.N10*. The type of ``a`` is *N10<0,0,0,0,0,0,0,4,0,0>* and the type of ``c`` is *N10<0,0,0,6,5,7,7,7,0,0>*."
   ]
  },
  {
   "cell_type": "code",
   "execution_count": 14,
   "metadata": {},
   "outputs": [
    {
     "data": {
      "text/plain": [
       "Sylvester.Arithmetic.N10+N10`10[Sylvester.Arithmetic.Base10+0,Sylvester.Arithmetic.Base10+0,Sylvester.Arithmetic.Base10+0,Sylvester.Arithmetic.Base10+6,Sylvester.Arithmetic.Base10+5,Sylvester.Arithmetic.Base10+7,Sylvester.Arithmetic.Base10+7,Sylvester.Arithmetic.Base10+7,Sylvester.Arithmetic.Base10+0,Sylvester.Arithmetic.Base10+0]"
      ]
     },
     "execution_count": 14,
     "metadata": {},
     "output_type": "execute_result"
    }
   ],
   "source": [
    "c.GetType()"
   ]
  },
  {
   "cell_type": "markdown",
   "metadata": {},
   "source": [
    "The types of the results of arithmetic operations depend on the values of the operands."
   ]
  },
  {
   "cell_type": "code",
   "execution_count": 3,
   "metadata": {},
   "outputs": [
    {
     "data": {
      "text/plain": [
       "N<27236844UL>"
      ]
     },
     "execution_count": 3,
     "metadata": {},
     "output_type": "execute_result"
    }
   ],
   "source": [
    "let d = (a + b + c) * four\n",
    "\n",
    "d"
   ]
  },
  {
   "cell_type": "code",
   "execution_count": 15,
   "metadata": {},
   "outputs": [
    {
     "data": {
      "text/plain": [
       "Sylvester.Arithmetic.N10+N10`10[Sylvester.Arithmetic.Base10+0,Sylvester.Arithmetic.Base10+0,Sylvester.Arithmetic.Base10+2,Sylvester.Arithmetic.Base10+7,Sylvester.Arithmetic.Base10+2,Sylvester.Arithmetic.Base10+3,Sylvester.Arithmetic.Base10+6,Sylvester.Arithmetic.Base10+8,Sylvester.Arithmetic.Base10+4,Sylvester.Arithmetic.Base10+4]"
      ]
     },
     "execution_count": 15,
     "metadata": {},
     "output_type": "execute_result"
    }
   ],
   "source": [
    "d.GetType()"
   ]
  },
  {
   "cell_type": "markdown",
   "metadata": {},
   "source": [
    "This enables type-level constraints to be written which run at compile-time"
   ]
  },
  {
   "cell_type": "code",
   "execution_count": 26,
   "metadata": {},
   "outputs": [
    {
     "data": {
      "text/plain": [
       "Sylvester.Arithmetic.Bool+True"
      ]
     },
     "execution_count": 26,
     "metadata": {},
     "output_type": "execute_result"
    }
   ],
   "source": [
    "N<4>.i +== four ///Compare two instances of N<4>"
   ]
  },
  {
   "cell_type": "code",
   "execution_count": 27,
   "metadata": {},
   "outputs": [
    {
     "data": {
      "text/plain": [
       "Sylvester.Arithmetic.Bool+False"
      ]
     },
     "execution_count": 27,
     "metadata": {},
     "output_type": "execute_result"
    }
   ],
   "source": [
    "///Type level comparison operators return types dependent on the result of the comparison\n",
    "N<4>.i +== thousand"
   ]
  },
  {
   "cell_type": "code",
   "execution_count": 28,
   "metadata": {},
   "outputs": [
    {
     "name": "stderr",
     "output_type": "stream",
     "text": [
      "Type mismatch. Expecting a\n",
      "    'Constraint<Success>'    \n",
      "but given a\n",
      "    'Constraint<Failure>'    \n",
      "The type 'Success' does not match the type 'Failure'"
     ]
    }
   ],
   "source": [
    "/// The check functions performs type level checks. \n",
    "check(d +< ten) ///This check causes a type error at compile time"
   ]
  },
  {
   "cell_type": "code",
   "execution_count": 18,
   "metadata": {},
   "outputs": [
    {
     "data": {
      "text/plain": [
       "N10Underflow"
      ]
     },
     "execution_count": 18,
     "metadata": {},
     "output_type": "execute_result"
    }
   ],
   "source": [
    "a - (two * a) /// A negative number results in a type representing an underflow at compile-time "
   ]
  },
  {
   "cell_type": "code",
   "execution_count": 19,
   "metadata": {},
   "outputs": [
    {
     "name": "stderr",
     "output_type": "stream",
     "text": [
      "Type mismatch. Expecting a\n",
      "    'Constraint<Success>'    \n",
      "but given a\n",
      "    'Constraint<Failure>'    \n",
      "The type 'Success' does not match the type 'Failure'\n",
      "Type mismatch. Expecting a\n",
      "    'Constraint<Success>'    \n",
      "but given a\n",
      "    'Constraint<Failure>'    \n",
      "The type 'Success' does not match the type 'Failure'"
     ]
    }
   ],
   "source": [
    "/// Define a function myop using type-level arithmetic constraintss\n",
    "let myop a b c d =\n",
    "    check(a +> b) /// Use the +> and +< operators for type-level comparisons\n",
    "    check (b +== zero) /// +== Type level equality operator\n",
    "    check (c +== (a + one))\n",
    "    a + b + c + d\n",
    "    \n",
    "/// Call the function with values that don't satisfy the constraints \n",
    "/// This will cause a type error and the code won't compile\n",
    "myop four N<1000>.i three two "
   ]
  },
  {
   "cell_type": "code",
   "execution_count": 22,
   "metadata": {},
   "outputs": [
    {
     "data": {
      "text/plain": [
       "N<21UL>"
      ]
     },
     "execution_count": 22,
     "metadata": {},
     "output_type": "execute_result"
    }
   ],
   "source": [
    "let myop a b c d =\n",
    "    check(a +> b)\n",
    "    check (b +== zero)\n",
    "    check (c +== (a + one))\n",
    "    a + b + c + d\n",
    "    \n",
    "/// This call to myop satisfies the arithmetic constraints so the code compiles\n",
    "myop five zero six N<10>.i"
   ]
  },
  {
   "cell_type": "markdown",
   "metadata": {},
   "source": [
    "Mixing natural number and primitive types result in the natural numbers being lowered to their primitive representation."
   ]
  },
  {
   "cell_type": "code",
   "execution_count": 3,
   "metadata": {
    "scrolled": true
   },
   "outputs": [
    {
     "data": {
      "text/plain": [
       "N<15UL>"
      ]
     },
     "execution_count": 3,
     "metadata": {},
     "output_type": "execute_result"
    }
   ],
   "source": [
    "seven + eight"
   ]
  },
  {
   "cell_type": "code",
   "execution_count": 4,
   "metadata": {},
   "outputs": [
    {
     "data": {
      "text/plain": [
       "16"
      ]
     },
     "execution_count": 4,
     "metadata": {},
     "output_type": "execute_result"
    }
   ],
   "source": [
    "seven + eight + 1\n"
   ]
  },
  {
   "cell_type": "markdown",
   "metadata": {},
   "source": [
    "In IDEs with IntelliSense like Visual Studio you can get immediate feedback on type checks\n",
    "as you enter code:"
   ]
  },
  {
   "cell_type": "markdown",
   "metadata": {},
   "source": [
    "![SylvesterIDE2.png](SylvesterIDE2.png)"
   ]
  },
  {
   "cell_type": "markdown",
   "metadata": {},
   "source": [
    "### How it works\n",
    "Natural numbers are represented by fixed=point decimal types. The basic concept is described here: https://wiki.haskell.org/The_Monad.Reader/Issue5/Number_Param_Types#Fixed-precision_decimal_types\n",
    "\n",
    "and an initial implementation for F# was created by MingTang here: https://github.com/Ming-Tang/TypeLevel/blob/master/TypeLevel/Base10.fs\n",
    "\n",
    "The implementation in Sylvester.Arithmetic uses a 10-digit fixed-point representation as well as adding the two arithmetic comparison operators +< and +>. It also utilizes the F# type provider mechanism to make creating types out of compile-time numeric values as seamless as possible."
   ]
  }
 ],
 "metadata": {
  "kernelspec": {
   "display_name": ".NET (F#)",
   "language": "F#",
   "name": ".net-fsharp"
  },
  "language": "fsharp",
  "language_info": {
   "file_extension": ".fs",
   "mimetype": "text/x-fsharp",
   "name": "C#",
   "pygments_lexer": "fsharp",
   "version": "4.5"
  }
 },
 "nbformat": 4,
 "nbformat_minor": 2
}
