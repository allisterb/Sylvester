{
 "cells": [
  {
   "cell_type": "code",
   "execution_count": 4,
   "id": "5491372e",
   "metadata": {
    "hide_input": false,
    "slideshow": {
     "slide_type": "skip"
    }
   },
   "outputs": [
    {
     "data": {
      "text/html": [
       "<script src=\"https://cdnjs.cloudflare.com/ajax/libs/mathjax/2.7.7/MathJax.js?config=TeX-MML-AM_CHTML\"></script>"
      ]
     },
     "metadata": {},
     "output_type": "display_data"
    }
   ],
   "source": [
    "/// Setup MathJax and HTML helpers\n",
    "@\"<script src=\"\"https://cdnjs.cloudflare.com/ajax/libs/mathjax/2.7.7/MathJax.js?config=TeX-MML-AM_CHTML\"\"></script>\" |> Util.Html |> Display\n",
    "\n",
    "let html x = { Html = x }\n",
    "\n",
    "let h1 text = { Html = \"<h1>\" + text + \"</h1>\" }\n",
    "\n",
    "let h2 text = { Html = \"<h2>\" + text + \"</h2>\" }\n",
    "\n",
    "let h3 text = { Html = \"<h3>\" + text + \"</h3>\" }\n",
    "\n",
    "let ul text = { Html = \"<ul><li>\" + text + \"</li></ul>\" }\n",
    "\n",
    "let ul3 text = { Html = \"<ul><li><h3>\" + text + \"</h3></li></ul>\" }\n",
    "\n",
    "let img url = { Html = \"<img src=\\\"\" + url + \"\\\"\" + \" style=\\\"align:center\\\" />\" }\n"
   ]
  },
  {
   "cell_type": "code",
   "execution_count": 5,
   "id": "a152be21",
   "metadata": {
    "slideshow": {
     "slide_type": "skip"
    }
   },
   "outputs": [],
   "source": [
    "/// Load Sylvester math libraries and open namespaces\n",
    "#load \"MathInclude.fsx\"\n",
    "open Sylvester\n",
    "open Sylvester.CAS"
   ]
  },
  {
   "cell_type": "markdown",
   "id": "3e17eedd",
   "metadata": {
    "slideshow": {
     "slide_type": "slide"
    }
   },
   "source": [
    "<center>\n",
    "    \n",
    "<img src=\"http://fsharp.org/img/logo/fsharp512.png\" />\n",
    "</center>\n",
    "\n",
    "# The Z3 SMT solver and functional programming\n",
    "\n",
    "# Allister Beharry"
   ]
  },
  {
   "cell_type": "markdown",
   "id": "a696aac7",
   "metadata": {
    "slideshow": {
     "slide_type": "slide"
    }
   },
   "source": [
    "# Symbolic Logic and SAT/SMT Solvers"
   ]
  },
  {
   "cell_type": "markdown",
   "id": "059bc67a",
   "metadata": {
    "slideshow": {
     "slide_type": "slide"
    }
   },
   "source": [
    "# Symbolic Logic\n",
    "* A mathematical model of deductive thought\n",
    "* Consider algebraic symbol-manipulation over formulae\n",
    "* Each logic has a particular language which defines the symbols available for a formula: *true*, *false*, *P*, *Q*, *R*, $\\neg$, $\\forall$... \n",
    "* Rules define which formulae are well-formed e.g. in propositional logic ($\\implies$ *P*) is not well-formed"
   ]
  },
  {
   "cell_type": "markdown",
   "id": "cf453272",
   "metadata": {
    "slideshow": {
     "slide_type": "slide"
    }
   },
   "source": [
    "# Symbolic Logic - Propositional Logic\n",
    "\n",
    "* A *proposition* is a declarative sentence with a truth value *true* or *false*\n",
    "* In symbolic logic denote a proposition by letters like *P*, *Q*, *R*\n",
    "* Symbols *P*, *Q*, *R* called atomic formulae, \n",
    "* Symbols $\\land$, $\\lor$, $\\neg$, $\\implies$called logical connectives.\n",
    "* Computer programming languages have symbols like `||` or `&&` which represent logical connectives\n",
    "* Atomic formulae and logical connectives form compound formulae"
   ]
  },
  {
   "cell_type": "code",
   "execution_count": 3,
   "id": "6436f12e",
   "metadata": {
    "slideshow": {
     "slide_type": "fragment"
    }
   },
   "outputs": [
    {
     "data": {
      "text/plain": [
       "(true, false, true, true, false, false)"
      ]
     },
     "execution_count": 3,
     "metadata": {},
     "output_type": "execute_result"
    }
   ],
   "source": [
    "let P = 6 > 5 // atomic formula\n",
    "let Q = 400 / 10 < 30 // atomic formula\n",
    "P, Q, not Q, P || Q, P && Q, P ==> Q // compound formula"
   ]
  },
  {
   "cell_type": "markdown",
   "id": "be445888",
   "metadata": {
    "slideshow": {
     "slide_type": "slide"
    }
   },
   "source": [
    "# Symbolic Logic - Boolean Satisfiability\n",
    "* An *interpretation* is just an assignment of truth values to atomic formulae in a well-formed formula\n",
    "* Truth-tables enumerate interpretations of a well-formed formula\n",
    "![tt](truthtablet.png)\n",
    "* A *model* is an interpretation where a Formula is true according to the rules of a logic\n",
    "* A formula is *satisfiable* if it has a model i.e. an interpretation that makes it true\n",
    "* For a formula with *n* atomic formulae there are 2<sup>n</sup> possible interpretations"
   ]
  },
  {
   "cell_type": "markdown",
   "id": "b17adb4e",
   "metadata": {
    "slideshow": {
     "slide_type": "slide"
    }
   },
   "source": [
    "# Symbolic Logic - Boolean Satisfiability\n",
    "* e.g. A digital logic circuit with 5 inputs has 2<sup>5</sup> = 32 states \n",
    "![circuit](circuit.jpg)\n",
    "* Satisfiability easy to check for small formulas, but explodes with exponential complexity for large formulae\n",
    "* A digital logic circuit wth 100 inputs has 1267650600228229401496703205376 states"
   ]
  },
  {
   "cell_type": "markdown",
   "id": "fc50c6fe",
   "metadata": {
    "slideshow": {
     "slide_type": "slide"
    }
   },
   "source": [
    "# Symbolic Logic -  The Boolean Satisfiability Problem (SAT)\n",
    "* **Is there an interpretation of a propositional logic formula *F* that satisfies *F*?**\n",
    "* e.g What truth values of *P*, *Q*, *R* make the formula (*P* $\\implies$ *Q* $\\lor$ *R*) true? \n",
    "* Equally important: is a formula *unsatisfiable*? e.g. *P* $\\land$ $\\neg$ *P* is unsatisfiable\n",
    "* SAT problem is *decidable*, worst-case algorithm can just check truth-tables\n",
    "* Many open-source SAT solvers: MiniSat, PicoSat et.al"
   ]
  },
  {
   "cell_type": "markdown",
   "id": "12a2d03b",
   "metadata": {
    "slideshow": {
     "slide_type": "slide"
    }
   },
   "source": [
    "# Symbolic Logic - First-order Logic\n",
    "* Consider a set which will be the domain or universe of discourse and constants or elements belonging to the universe of disourse\n",
    "* The language of first-order logic includes quantifiers, variables, functions, predicates\n",
    "* e.g. $\\forall (x, y): P(x) = P(y) \\implies x = y$ is a formula in first-order logic\n",
    "* Many mathematical theories can be formalized using first-order logic"
   ]
  },
  {
   "cell_type": "markdown",
   "id": "6c4487bb",
   "metadata": {
    "slideshow": {
     "slide_type": "slide"
    }
   },
   "source": [
    "# Satisfiability Modulo Theories (SMT)\n",
    "\n",
    "* First-order satisfiability is not in *general* decidable\n",
    "* However, many theories or fragments of theories are decidable\n",
    "* real numbers, integers, theories data structures such as arrays, bit vectors, and strings\n",
    "* In certain theory fragments quantifiers can be eliminated or the problem reduced to SAT\n",
    "* Consider first-order satisfiability 'modulo' (within) a particular theory"
   ]
  },
  {
   "cell_type": "markdown",
   "id": "22e3a01d",
   "metadata": {
    "slideshow": {
     "slide_type": "slide"
    }
   },
   "source": [
    "# Satisfiability Modulo Theories (SMT)\n",
    ">The defining problem of Satisfiability Modulo Theories (SMT) is checking whether a given logical formula F is satisfiable in the context of some background theory which constraints the interpretation of the\n",
    "symbols used in F\n",
    "* e.g. $a + b > 3$ and $a < 0$ and $b > 0$ is satisfiable using $a = -1$ and $b = 5$\n",
    "* SMT solvers attempt to decide in a reasonable amount of time if a first-order formula is satisfiable or unsatisfiable in the context of some background theory \n",
    "* Many open-source solvers available today e.g Yices, CVC4, Z3"
   ]
  },
  {
   "cell_type": "markdown",
   "id": "36d90e9f",
   "metadata": {
    "slideshow": {
     "slide_type": "slide"
    }
   },
   "source": [
    "# The Z3 Solver\n",
    ">Z3 is a state-of-the-art SMT solver from Microsoft Research. It integrates a host of theory solvers in an\n",
    "expressive and efficient combination.\n",
    "* One of the most popular SMT solvers today used in or supported by a large number of applications in diverse fields\n",
    "* Many, many use cases in mathematical analysis, optimization, program verification, computer security e.g. verifying firewall rules: https://github.com/Z3Prover/FirewallChecker"
   ]
  },
  {
   "cell_type": "markdown",
   "id": "b9b44840",
   "metadata": {
    "slideshow": {
     "slide_type": "slide"
    }
   },
   "source": [
    "## The Z3 Solver\n",
    "* Native language is a Lisp-like language SMTLIB2\n",
    "* Interfaces for many languages: C++, Python, OCaml,.NET,... \n",
    "* https://github.com/Z3Prover/z3/tree/master/src/api\n",
    "* .NET API Z3 ships with tends to be low-level and oriented towards imperative code\n",
    "\n",
    "````csharp\n",
    "//Z3 C# interface example code\n",
    "\n",
    "FPSort double_sort = ctx.MkFPSort(11, 53);\n",
    "FPRMSort rm_sort = ctx.MkFPRoundingModeSort();\n",
    "\n",
    "FPRMExpr rm = (FPRMExpr)ctx.MkConst(ctx.MkSymbol(\"rm\"), rm_sort);\n",
    "    BitVecExpr x = (BitVecExpr)ctx.MkConst(ctx.MkSymbol(\"x\"), ctx.MkBitVecSort(64));\n",
    "\n",
    "FPExpr y = (FPExpr)ctx.MkConst(ctx.MkSymbol(\"y\"), double_sort);\n",
    "FPExpr fp_val = ctx.MkFP(42, double_sort);\n",
    "\n",
    "BoolExpr c1 = ctx.MkEq(y, fp_val);\n",
    "BoolExpr c2 = ctx.MkEq(x, ctx.MkFPToBV(rm, y, 64, false));\n",
    "BoolExpr c3 = ctx.MkEq(x, ctx.MkBV(42, 64));\n",
    "BoolExpr c4 = ctx.MkEq(ctx.MkNumeral(42, ctx.RealSort), \n",
    "                       ctx.MkFPToReal(fp_val));\n",
    "\n",
    "BoolExpr c5 = ctx.MkAnd(c1, c2, c3, c4);\n",
    "````"
   ]
  },
  {
   "cell_type": "markdown",
   "id": "d92e4f00",
   "metadata": {
    "slideshow": {
     "slide_type": "slide"
    }
   },
   "source": [
    "# How can we use Z3 in a functional programming language like F#? "
   ]
  },
  {
   "cell_type": "markdown",
   "id": "82bd05f6",
   "metadata": {
    "slideshow": {
     "slide_type": "slide"
    }
   },
   "source": [
    "# F# Quotations"
   ]
  },
  {
   "cell_type": "markdown",
   "id": "b0175e5c",
   "metadata": {
    "slideshow": {
     "slide_type": "slide"
    }
   },
   "source": [
    "# F# Quotations\n",
    "\n",
    "* https://docs.microsoft.com/en-us/dotnet/fsharp/language-reference/code-quotations\n",
    "* Similar to OCaml quotations\n",
    "* F# code delimited by `<@ @>` is interpreted as a syntactic structure\n",
    "* Primary vehicle for F# meta-programming\n",
    "* Same compiler and IDE features available for writing ordinary F# source code"
   ]
  },
  {
   "cell_type": "markdown",
   "id": "ca31891a",
   "metadata": {
    "slideshow": {
     "slide_type": "slide"
    }
   },
   "source": [
    "# F# Quotations - Examples"
   ]
  },
  {
   "cell_type": "code",
   "execution_count": 4,
   "id": "9471b2ae",
   "metadata": {
    "slideshow": {
     "slide_type": "fragment"
    }
   },
   "outputs": [
    {
     "data": {
      "text/plain": [
       "9"
      ]
     },
     "execution_count": 4,
     "metadata": {},
     "output_type": "execute_result"
    }
   ],
   "source": [
    "// Ordinary F# code\n",
    "4 + 5 "
   ]
  },
  {
   "cell_type": "code",
   "execution_count": 5,
   "id": "854362e1",
   "metadata": {
    "slideshow": {
     "slide_type": "fragment"
    }
   },
   "outputs": [
    {
     "data": {
      "text/plain": [
       "Call (None, op_Addition, [Value (4), Value (5)])"
      ]
     },
     "execution_count": 5,
     "metadata": {},
     "output_type": "execute_result"
    }
   ],
   "source": [
    "// F# code quotation\n",
    "<@ 4 + 5 @>"
   ]
  },
  {
   "cell_type": "code",
   "execution_count": 6,
   "id": "7d2c14fa",
   "metadata": {
    "slideshow": {
     "slide_type": "fragment"
    }
   },
   "outputs": [
    {
     "data": {
      "text/plain": [
       "System.Int32"
      ]
     },
     "execution_count": 6,
     "metadata": {},
     "output_type": "execute_result"
    }
   ],
   "source": [
    "(4 + 5).GetType()"
   ]
  },
  {
   "cell_type": "code",
   "execution_count": 7,
   "id": "6f07be90",
   "metadata": {
    "slideshow": {
     "slide_type": "fragment"
    }
   },
   "outputs": [
    {
     "data": {
      "text/plain": [
       "Microsoft.FSharp.Quotations.FSharpExpr`1[System.Int32]"
      ]
     },
     "execution_count": 7,
     "metadata": {},
     "output_type": "execute_result"
    }
   ],
   "source": [
    "(<@ 4 + 5 @>).GetType()"
   ]
  },
  {
   "cell_type": "code",
   "execution_count": 8,
   "id": "8ad3068d",
   "metadata": {
    "slideshow": {
     "slide_type": "fragment"
    }
   },
   "outputs": [
    {
     "data": {
      "text/plain": [
       "Lambda (a, Lambda (b, Call (None, f, [a, b])))"
      ]
     },
     "execution_count": 8,
     "metadata": {},
     "output_type": "execute_result"
    }
   ],
   "source": [
    "let f a b = a > b || a - b = 1\n",
    "<@ f @>"
   ]
  },
  {
   "cell_type": "code",
   "execution_count": 9,
   "id": "2cb0f38d",
   "metadata": {
    "slideshow": {
     "slide_type": "fragment"
    }
   },
   "outputs": [
    {
     "data": {
      "text/plain": [
       "Microsoft.FSharp.Quotations.FSharpExpr`1[Microsoft.FSharp.Core.FSharpFunc`2[System.Int32,Microsoft.FSharp.Core.FSharpFunc`2[System.Int32,System.Boolean]]]"
      ]
     },
     "execution_count": 9,
     "metadata": {},
     "output_type": "execute_result"
    }
   ],
   "source": [
    "<@ f @>.GetType()"
   ]
  },
  {
   "cell_type": "markdown",
   "id": "bc9f66c7",
   "metadata": {
    "slideshow": {
     "slide_type": "slide"
    }
   },
   "source": [
    "# F# Code Quotations\n",
    "* Have type `Expr<'a>` or `Expr`\n",
    "* Examples above have type `Expr<int>` or `Expr<bool>`\n",
    "* Instances of `Expr<'a>` or `Expr` treat code as purely symbolic\n",
    "* Use pattern-matching\n",
    "* F# code inside quotations can be manipulated and synthesized\n",
    "* Primary vehicle for deep embedding of DSLs in F#"
   ]
  },
  {
   "cell_type": "code",
   "execution_count": 10,
   "id": "7a7401dc",
   "metadata": {
    "slideshow": {
     "slide_type": "fragment"
    }
   },
   "outputs": [
    {
     "data": {
      "text/plain": [
       "Call (None, op_Addition,\n",
       "      [Call (None, op_Addition, [Value (3), Value (4)]), Value (5)])"
      ]
     },
     "execution_count": 10,
     "metadata": {},
     "output_type": "execute_result"
    }
   ],
   "source": [
    "let j = <@ 5 @>\n",
    "<@ 3 + 4 + %j @>"
   ]
  },
  {
   "cell_type": "code",
   "execution_count": 11,
   "id": "4f4b5ee9",
   "metadata": {
    "slideshow": {
     "slide_type": "fragment"
    }
   },
   "outputs": [
    {
     "data": {
      "text/plain": [
       "Some Value (5)"
      ]
     },
     "execution_count": 11,
     "metadata": {},
     "output_type": "execute_result"
    }
   ],
   "source": [
    "open FSharp.Quotations.Patterns\n",
    "open FSharp.Quotations.DerivedPatterns\n",
    "\n",
    "match <@ 3 + 6 + %j @> with\n",
    "| SpecificCall <@@ (+) @@> (None,_,l::r::[]) -> Some r\n",
    "| _ -> None"
   ]
  },
  {
   "cell_type": "code",
   "execution_count": 12,
   "id": "6ffc34f2",
   "metadata": {
    "slideshow": {
     "slide_type": "slide"
    }
   },
   "outputs": [
    {
     "name": "stderr",
     "output_type": "stream",
     "text": [
      "The type 'float' does not match the type 'int'\r\n",
      "The type 'float' does not match the type 'int'"
     ]
    }
   ],
   "source": [
    "// Most F# environments support editing code quotations with the same features as regular code\n",
    "<@ 3 + 4. @>"
   ]
  },
  {
   "cell_type": "code",
   "execution_count": 13,
   "id": "8fd60342",
   "metadata": {
    "slideshow": {
     "slide_type": "fragment"
    }
   },
   "outputs": [
    {
     "data": {
      "text/plain": [
       "true"
      ]
     },
     "execution_count": 13,
     "metadata": {},
     "output_type": "execute_result"
    }
   ],
   "source": [
    "// Functions have both ordinary and symbolic form\n",
    "[<Formula>] \n",
    "let g x y = x * y > x / y //Boolean-valued function\n",
    "\n",
    "g 4 5"
   ]
  },
  {
   "cell_type": "code",
   "execution_count": 14,
   "id": "87533736",
   "metadata": {
    "slideshow": {
     "slide_type": "fragment"
    }
   },
   "outputs": [
    {
     "data": {
      "text/plain": [
       "Lambda (x,\n",
       "        Lambda (y,\n",
       "                Call (None, op_GreaterThan,\n",
       "                      [Call (None, op_Multiply, [x, y]),\n",
       "                       Call (None, op_Division, [x, y])])))"
      ]
     },
     "execution_count": 14,
     "metadata": {},
     "output_type": "execute_result"
    }
   ],
   "source": [
    "expand <@ g @>"
   ]
  },
  {
   "cell_type": "markdown",
   "id": "bbf5cecf",
   "metadata": {
    "slideshow": {
     "slide_type": "slide"
    }
   },
   "source": [
    "# Integrating Z3 with F#"
   ]
  },
  {
   "cell_type": "markdown",
   "id": "aca10642",
   "metadata": {
    "slideshow": {
     "slide_type": "slide"
    }
   },
   "source": [
    "# Integrating Z3 with F#\n",
    "* Need to represent Z3's symbolic expressions and sorts\n",
    "* Ideally use pattern matching for code translation and generation\n",
    "* One option is to define custom types, operators e.g Python's `IntVar`..."
   ]
  },
  {
   "cell_type": "markdown",
   "id": "9f5d58a6",
   "metadata": {
    "slideshow": {
     "slide_type": "slide"
    }
   },
   "source": [
    "## Integrating Z3 with F#\n",
    "  \n",
    "  One approach is to use custom types like the Python Z3 library:\n",
    "  ````python\n",
    "  Z = IntSort()\n",
    "  f = Function('f', Z, Z)\n",
    "  x, y, z = Ints('x y z')\n",
    "  A = Array('A', Z, Z)\n",
    "  fml = Implies(x + 2 == y, f(Store(A, x, 3)[y - 2]) == f(y - x + 1))\n",
    "````"
   ]
  },
  {
   "cell_type": "markdown",
   "id": "4c766dc6",
   "metadata": {
    "slideshow": {
     "slide_type": "slide"
    }
   },
   "source": [
    "## Integrating Z3 with F#\n",
    "* ...or we can use built-in `Expr<'t>` from F# code quotations\n",
    "* Natural mapping of numeric types e.g.: `3` -> `<@ 3 @>`\n",
    "* Full compiler and IDE support: type checking, syntax highlighting for quotations\n",
    "* Comprehensive library of patterns\n",
    "* Easy to compose your own patterns"
   ]
  },
  {
   "cell_type": "markdown",
   "id": "0b844157",
   "metadata": {
    "slideshow": {
     "slide_type": "slide"
    }
   },
   "source": [
    "# Using Z3 with F# code quotations"
   ]
  },
  {
   "cell_type": "markdown",
   "id": "fe6d462a",
   "metadata": {
    "slideshow": {
     "slide_type": "fragment"
    }
   },
   "source": [
    "* Need a way to represent symbolic variables of a particular *sort* (roughly similar to type)"
   ]
  },
  {
   "cell_type": "markdown",
   "id": "cf5dab63",
   "metadata": {
    "slideshow": {
     "slide_type": "fragment"
    }
   },
   "source": [
    "* Need to represent common arithmetic and logical operations: `+`, `-`, `*`, $\\land$, $\\lor$, $\\forall$ etc."
   ]
  },
  {
   "cell_type": "markdown",
   "id": "1b0d59c6",
   "metadata": {
    "slideshow": {
     "slide_type": "fragment"
    }
   },
   "source": [
    "* Need to represent common mathematical forms e.g. systems of equations, sequences"
   ]
  },
  {
   "cell_type": "markdown",
   "id": "ab1c11ef",
   "metadata": {
    "slideshow": {
     "slide_type": "slide"
    }
   },
   "source": [
    "# Translating F# quotations to Z3 logical expressions\n",
    "* Define a function for creating symbolic variables\n",
    "* Z3 sorts represented by F# types\n",
    "* Use lists of `Expr` to define constraints or formula parts to be solved for satisfiability by Z3"
   ]
  },
  {
   "cell_type": "code",
   "execution_count": 1,
   "id": "6bfa1be4",
   "metadata": {
    "slideshow": {
     "slide_type": "slide"
    }
   },
   "outputs": [
    {
     "name": "stderr",
     "output_type": "stream",
     "text": [
      "The type 'real' does not match the type 'int'\r\n",
      "The type 'real' does not match the type 'int'"
     ]
    }
   ],
   "source": [
    "open FSharp.Quotations\n",
    "// Use Expr.Var expression for symbolic variable with name\n",
    "let symbolic_var<'t> n = \n",
    "    let v = Expr.Var(Var(n, typeof<'t>)) in <@ %%v:'t @>\n",
    "\n",
    "// Alias float type as real\n",
    "type real = float\n",
    "\n",
    "// Map sorts to ordinary types\n",
    "let intvar x = symbolic_var<int> x\n",
    "let realvar x = symbolic_var<real> x\n",
    "\n",
    "let x,y = intvar \"x\", realvar \"y\"\n",
    "<@ %x + %x > %x @> // Ok\n",
    "//<@ %x + %y @> // Doesn't typecheck"
   ]
  },
  {
   "cell_type": "code",
   "execution_count": null,
   "id": "7d8eb853",
   "metadata": {},
   "outputs": [],
   "source": []
  },
  {
   "cell_type": "markdown",
   "id": "12113e5b",
   "metadata": {
    "slideshow": {
     "slide_type": "slide"
    }
   },
   "source": [
    "````fsharp\n",
    "// Need a type for rational numbers\n",
    "// Inspired by: https://github.com/mathnet/mathnet-numerics/blob/master/src/FSharp/BigRational.fs\n",
    "open MathNet.Numerics\n",
    "[<CustomEquality; CustomComparison>]\n",
    "type Rational = \n",
    "    struct \n",
    "        val Numerator: BigInteger\n",
    "        val Denominator: BigInteger\n",
    "        new(p:BigInteger, q:BigInteger) = {Numerator = p; Denominator = q}\n",
    "        new(p:BigInteger) = {Numerator = p; Denominator = BigInteger.One}\n",
    "        new(p:int, q:int) = {Numerator = BigInteger p; Denominator = BigInteger q}\n",
    "        //...\n",
    "type rat = Rational // alias\n",
    "let ratvar = symbolic_var<rat>\n",
    "````"
   ]
  },
  {
   "cell_type": "markdown",
   "id": "842f7e91",
   "metadata": {
    "slideshow": {
     "slide_type": "slide"
    }
   },
   "source": [
    "````fsharp\n",
    "// Check satisfiability of list of Boolean conditions\n",
    "let internal check_sat_model (s:Z3Solver) (a: Expr<bool list>) = \n",
    "        let sol = a |> expand_list |> List.map (create_bool_expr s) |> s.Check \n",
    "        match sol with\n",
    "        | Status.SATISFIABLE -> Some (s.Model())\n",
    "        | _ -> None\n",
    "        \n",
    "let check_sat (s:Z3Solver) a = (Option.isSome <| check_sat_model s a)\n",
    "````"
   ]
  },
  {
   "cell_type": "markdown",
   "id": "42f670a6",
   "metadata": {
    "slideshow": {
     "slide_type": "slide"
    }
   },
   "source": [
    "# Using Z3 with F# code quotations - First examples"
   ]
  },
  {
   "cell_type": "code",
   "execution_count": 7,
   "id": "6b698b8a",
   "metadata": {
    "slideshow": {
     "slide_type": "fragment"
    }
   },
   "outputs": [
    {
     "data": {
      "text/plain": [
       "true"
      ]
     },
     "execution_count": 7,
     "metadata": {},
     "output_type": "execute_result"
    }
   ],
   "source": [
    "// Open Z3 module and create instance of solver\n",
    "open Z3\n",
    "let z3 = new Z3Solver()\n",
    "\n",
    "// Declare 2 symbolic variables. Variables can be reused.\n",
    "let r, s = intvar \"r\", intvar \"s\"\n",
    "\n",
    "// Check satisfiability of simple integer equation system\n",
    "check_sat z3 <@[ \n",
    "    %r * %s = 6\n",
    "    %r - %s = 1\n",
    "]@> // Use lists to represent equation system"
   ]
  },
  {
   "cell_type": "code",
   "execution_count": null,
   "id": "08c6a5bd",
   "metadata": {},
   "outputs": [],
   "source": []
  },
  {
   "cell_type": "code",
   "execution_count": null,
   "id": "3e251bf4",
   "metadata": {},
   "outputs": [],
   "source": []
  },
  {
   "cell_type": "code",
   "execution_count": 16,
   "id": "36c3b4c1",
   "metadata": {
    "slideshow": {
     "slide_type": "fragment"
    }
   },
   "outputs": [
    {
     "data": {
      "text/plain": [
       "false"
      ]
     },
     "execution_count": 16,
     "metadata": {},
     "output_type": "execute_result"
    }
   ],
   "source": [
    "let p, q = boolvar \"p\", boolvar \"q\"\n",
    "check_sat z3 <@[ %p |&| not %p ]@>"
   ]
  },
  {
   "cell_type": "markdown",
   "id": "f4692f93",
   "metadata": {
    "slideshow": {
     "slide_type": "slide"
    }
   },
   "source": [
    "# Propositional and first-order logic formula satisfiability"
   ]
  },
  {
   "cell_type": "code",
   "execution_count": 28,
   "id": "8bac1749",
   "metadata": {
    "slideshow": {
     "slide_type": "fragment"
    }
   },
   "outputs": [
    {
     "data": {
      "text/plain": [
       "Some [(\"p2\", false); (\"p1\", false)]"
      ]
     },
     "execution_count": 28,
     "metadata": {},
     "output_type": "execute_result"
    }
   ],
   "source": [
    "(*\n",
    "(declare-preds ((p1) (p2) (p3) (p4) (p5)))\n",
    "(assert (=> p1 p2))\n",
    "(assert (=> p1 p3))\n",
    "(assert (=> p1 p4))\n",
    "(assert (not p2)\n",
    "*)\n",
    "\n",
    "let p1,p2,p3,p4,p5 = boolvar \"p1\", boolvar \"p2\", boolvar \"p3\", boolvar \"p4\", boolvar \"p5\"\n",
    "<@[\n",
    "    %p1 ==> %p2\n",
    "    %p1 ==> %p3\n",
    "    %p1 ==> %p4\n",
    "    not %p2\n",
    "]@> |> get_bool_var_model z3"
   ]
  },
  {
   "cell_type": "markdown",
   "id": "6648a0f3",
   "metadata": {
    "slideshow": {
     "slide_type": "subslide"
    }
   },
   "source": [
    "Consider the set formula $\\forall A: r \\in A \\lor r \\notin A$"
   ]
  },
  {
   "cell_type": "code",
   "execution_count": 9,
   "id": "fd59189a",
   "metadata": {
    "slideshow": {
     "slide_type": "fragment"
    }
   },
   "outputs": [
    {
     "name": "stderr",
     "output_type": "stream",
     "text": [
      "The type 'Quotations.Expr<Set<int>>' is not compatible with the type 'ISet<obj>'\r\n",
      "The type 'Quotations.Expr<Set<int>>' is not compatible with the type 'ISet<obj>'"
     ]
    }
   ],
   "source": [
    "let A = setvar<int> \"A\" //Create a symbolic variable with Set sort\n",
    "let B = setvar<real> \"B\"\n",
    "<@ A |+| A @>\n",
    "// |?| is the set membership operator\n",
    "// \n",
    "//<@[ forall' %r (%r |?| %A ||| (not (%r |?| %A))) ]@> |> check_sat z3"
   ]
  },
  {
   "cell_type": "code",
   "execution_count": null,
   "id": "14014a4e",
   "metadata": {},
   "outputs": [],
   "source": []
  },
  {
   "cell_type": "code",
   "execution_count": null,
   "id": "b2e1e03a",
   "metadata": {},
   "outputs": [],
   "source": []
  },
  {
   "cell_type": "code",
   "execution_count": null,
   "id": "fb57414f",
   "metadata": {},
   "outputs": [],
   "source": []
  },
  {
   "cell_type": "markdown",
   "id": "f42e2d01",
   "metadata": {
    "slideshow": {
     "slide_type": "slide"
    }
   },
   "source": [
    "# Uninterpreted functions"
   ]
  },
  {
   "cell_type": "code",
   "execution_count": 15,
   "id": "a95d0bb6",
   "metadata": {
    "slideshow": {
     "slide_type": "subslide"
    }
   },
   "outputs": [
    {
     "name": "stderr",
     "output_type": "stream",
     "text": [
      "The field, constructor or member 'Item' is not defined."
     ]
    }
   ],
   "source": [
    "// Uninterpreted\n",
    "let func<'s, 't> = fun (_:'s) -> Unchecked.defaultof<'t>\n",
    "\n",
    "let h = func<int, bool>\n",
    "let hh = func<int, int>\n",
    "\n",
    "let m = check_sat_model z3 <@[ (hh(hh 4)) <> (hh 4) ]@>\n",
    "m.[z3, <@ (hh 4) @>]"
   ]
  },
  {
   "cell_type": "code",
   "execution_count": null,
   "id": "d99b4da2",
   "metadata": {},
   "outputs": [],
   "source": []
  },
  {
   "cell_type": "code",
   "execution_count": null,
   "id": "25e3c322",
   "metadata": {},
   "outputs": [],
   "source": []
  },
  {
   "cell_type": "code",
   "execution_count": null,
   "id": "6a7bd5f0",
   "metadata": {},
   "outputs": [],
   "source": []
  },
  {
   "cell_type": "code",
   "execution_count": null,
   "id": "a0c058da",
   "metadata": {},
   "outputs": [],
   "source": []
  },
  {
   "cell_type": "code",
   "execution_count": null,
   "id": "be6e7398",
   "metadata": {},
   "outputs": [],
   "source": []
  },
  {
   "cell_type": "code",
   "execution_count": null,
   "id": "674fd3b1",
   "metadata": {},
   "outputs": [],
   "source": []
  },
  {
   "cell_type": "code",
   "execution_count": 31,
   "id": "0f839c65",
   "metadata": {
    "slideshow": {
     "slide_type": "fragment"
    }
   },
   "outputs": [
    {
     "data": {
      "text/plain": [
       "FuncResult [2 -> 3, else -> 2]"
      ]
     },
     "execution_count": 31,
     "metadata": {},
     "output_type": "execute_result"
    }
   ],
   "source": [
    "m.Value.[z3,  <@ hh 4 @> ]"
   ]
  },
  {
   "cell_type": "markdown",
   "id": "5bd44885",
   "metadata": {
    "slideshow": {
     "slide_type": "slide"
    }
   },
   "source": [
    "# Arithmetic and Logical puzzles"
   ]
  },
  {
   "cell_type": "markdown",
   "id": "1a12b44f",
   "metadata": {
    "slideshow": {
     "slide_type": "subslide"
    }
   },
   "source": [
    "![dgm](dgm.png)"
   ]
  },
  {
   "cell_type": "code",
   "execution_count": 19,
   "id": "bd09f43b",
   "metadata": {
    "slideshow": {
     "slide_type": "subslide"
    }
   },
   "outputs": [
    {
     "data": {
      "text/plain": [
       "true"
      ]
     },
     "execution_count": 19,
     "metadata": {},
     "output_type": "execute_result"
    }
   ],
   "source": [
    "let dog, cat, mouse = intvar3 \"dog\" \"cat\" \"mouse\"\n",
    "let puzzle1 = <@[%dog >= 1; %cat >= 1; %dog + %cat + %mouse = 100; 1500 * %dog + 100 * %cat + 25 * %mouse = 10000 ]@>\n",
    "check_sat z3 puzzle1"
   ]
  },
  {
   "cell_type": "code",
   "execution_count": 20,
   "id": "62d210f9",
   "metadata": {
    "slideshow": {
     "slide_type": "fragment"
    }
   },
   "outputs": [
    {
     "data": {
      "text/plain": [
       "Some [(\"cat\", 41); (\"mouse\", 56); (\"dog\", 3)]"
      ]
     },
     "execution_count": 20,
     "metadata": {},
     "output_type": "execute_result"
    }
   ],
   "source": [
    "get_int_var_model z3 puzzle1"
   ]
  },
  {
   "cell_type": "markdown",
   "id": "1130b367",
   "metadata": {
    "slideshow": {
     "slide_type": "subslide"
    }
   },
   "source": [
    "![xkcd](https://imgs.xkcd.com/comics/np_complete.png)"
   ]
  },
  {
   "cell_type": "code",
   "execution_count": 21,
   "id": "246058c6",
   "metadata": {
    "slideshow": {
     "slide_type": "fragment"
    }
   },
   "outputs": [
    {
     "data": {
      "text/plain": [
       "true"
      ]
     },
     "execution_count": 21,
     "metadata": {},
     "output_type": "execute_result"
    }
   ],
   "source": [
    "let a, b,c ,d = intvar4 \"a\" \"b\" \"c\" \"d\"\n",
    "let e, f = intvar2 \"e\" \"f\"\n",
    "let puzzle2 = <@[ 215 * %a + 275 * %b + 335 * %c + 355 * %d + 420 * %e + 580 * %f = 1505 ]@>\n",
    "check_sat z3 puzzle2"
   ]
  },
  {
   "cell_type": "code",
   "execution_count": 22,
   "id": "dcebf281",
   "metadata": {
    "slideshow": {
     "slide_type": "fragment"
    }
   },
   "outputs": [
    {
     "data": {
      "text/plain": [
       "Some\n",
       "  (define-fun f () Int\n",
       "  2)\n",
       "(define-fun b () Int\n",
       "  1)\n",
       "(define-fun a () Int\n",
       "  4)\n",
       "(define-fun d () Int\n",
       "  19)\n",
       "(define-fun c () Int\n",
       "  (- 25))\n",
       "(define-fun e () Int\n",
       "  2)"
      ]
     },
     "execution_count": 22,
     "metadata": {},
     "output_type": "execute_result"
    }
   ],
   "source": [
    "check_sat_model z3 puzzle2"
   ]
  },
  {
   "cell_type": "markdown",
   "id": "17791bfb",
   "metadata": {
    "slideshow": {
     "slide_type": "slide"
    }
   },
   "source": [
    "# Optimization and Constraints"
   ]
  },
  {
   "cell_type": "code",
   "execution_count": 24,
   "id": "eca69473",
   "metadata": {
    "slideshow": {
     "slide_type": "subslide"
    }
   },
   "outputs": [
    {
     "data": {
      "text/plain": [
       "[(\"y\", 4495/4096); (\"x\", 161845/24576)]"
      ]
     },
     "execution_count": 24,
     "metadata": {},
     "output_type": "execute_result"
    }
   ],
   "source": [
    "open LP\n",
    "let x = ratvar \"x\"\n",
    "let y = ratvar \"y\"\n",
    "\n",
    "let fo = max false  <@[ 6* %x + 5 * %y = 45Q; %x > 0Q; %y > 0Q; ]@> <@ %x * %x * %y @>\n",
    "\n",
    "match fo with\n",
    "| Some (RatLPSol r) -> r\n",
    "| _  -> []"
   ]
  },
  {
   "cell_type": "code",
   "execution_count": null,
   "id": "42f16573",
   "metadata": {},
   "outputs": [],
   "source": []
  }
 ],
 "metadata": {
  "celltoolbar": "Slideshow",
  "kernelspec": {
   "display_name": "F#",
   "language": "fsharp",
   "name": "ifsharp"
  },
  "language": "fsharp",
  "language_info": {
   "codemirror_mode": "",
   "file_extension": ".fs",
   "mimetype": "text/x-fsharp",
   "name": "fsharp",
   "nbconvert_exporter": "",
   "pygments_lexer": "",
   "version": "4.3.1.0"
  },
  "rise": {
   "backimage": "BRo18.png"
  }
 },
 "nbformat": 4,
 "nbformat_minor": 5
}
