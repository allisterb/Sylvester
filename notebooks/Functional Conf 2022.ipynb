{
 "cells": [
  {
   "cell_type": "code",
   "execution_count": 4,
   "id": "90819a64",
   "metadata": {
    "slideshow": {
     "slide_type": "-"
    }
   },
   "outputs": [],
   "source": [
    "# Z3"
   ]
  },
  {
   "cell_type": "code",
   "execution_count": 1,
   "id": "db372a82",
   "metadata": {},
   "outputs": [],
   "source": [
    "/// Load Sylvester math libraries and open namespaces\n",
    "#load \"MathInclude.fsx\"\n",
    "open Sylvester\n",
    "open Sylvester.CAS"
   ]
  },
  {
   "cell_type": "code",
   "execution_count": 2,
   "id": "f7c7769e",
   "metadata": {},
   "outputs": [],
   "source": [
    "// Declare 2 symbolic variables\n",
    "let r, s = intvar \"r\", intvar \"s\"\n"
   ]
  },
  {
   "cell_type": "code",
   "execution_count": 3,
   "id": "6b698b8a",
   "metadata": {},
   "outputs": [
    {
     "data": {
      "text/plain": [
       "true"
      ]
     },
     "execution_count": 3,
     "metadata": {},
     "output_type": "execute_result"
    }
   ],
   "source": [
    "// Open Z3 module and create instance of solver\n",
    "open Z3\n",
    "let z3 = new Z3Solver()\n",
    "\n",
    "// Check satisfiability of simple integer formulae\n",
    "check_sat z3 <@[ %r = 2 ]@>"
   ]
  },
  {
   "cell_type": "code",
   "execution_count": null,
   "id": "5a143bf6",
   "metadata": {},
   "outputs": [],
   "source": []
  }
 ],
 "metadata": {
  "celltoolbar": "Slideshow",
  "kernelspec": {
   "display_name": "F#",
   "language": "fsharp",
   "name": "ifsharp"
  },
  "language": "fsharp",
  "language_info": {
   "codemirror_mode": "",
   "file_extension": ".fs",
   "mimetype": "text/x-fsharp",
   "name": "fsharp",
   "nbconvert_exporter": "",
   "pygments_lexer": "",
   "version": "4.3.1.0"
  }
 },
 "nbformat": 4,
 "nbformat_minor": 5
}
