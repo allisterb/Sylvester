{
 "cells": [
  {
   "cell_type": "code",
   "execution_count": 1,
   "metadata": {},
   "outputs": [],
   "source": [
    "#r \"nuget: Sylvester.tf\""
   ]
  },
  {
   "cell_type": "code",
   "execution_count": 4,
   "metadata": {},
   "outputs": [],
   "source": [
    "open System\n",
    "open Sylvester.Arithmetic\n",
    "open Sylvester.tf"
   ]
  },
  {
   "cell_type": "code",
   "execution_count": 6,
   "metadata": {},
   "outputs": [
    {
     "name": "stdout",
     "output_type": "stream",
     "text": [
      "Using default console logger.\r\n"
     ]
    },
    {
     "data": {
      "text/html": [
       "<null>"
      ]
     },
     "execution_count": 6,
     "metadata": {},
     "output_type": "execute_result"
    }
   ],
   "source": [
    "// Create a new TF tensor graph with 4 inputs and one output and set as default graph for this program scope\n",
    "let g = TensorGraph<n<4>, n<1>>()\n",
    "defaultGraph <- g\n",
    "\n",
    "// The default graph is typed according to how many inputs and output are specified.\n",
    "// Type-level comparisons can be done on numeric graph properties at compile-time.\n",
    "//let gt = g.Inputs.Length +< three // Has type Sylvester.Bool+True\n",
    "//let lt = g.Outputs.Length +> five // Has type Sylvester.Bool+False\n",
    "\n",
    "// Graph and element type-level properties can be verified at compile-time\n",
    "//check(g.Inputs +== five) //Causes type error\n",
    "\n",
    "// We can create graph elements with types that depend on their dimensions\n",
    "//let m0 = Matrix<dim<4>, dim<3>, int>(\"x\") // Creates a TensorFlow placeholder node and output edge with shape 4x3 and name m_0.\n"
   ]
  },
  {
   "cell_type": "code",
   "execution_count": 7,
   "metadata": {},
   "outputs": [
    {
     "ename": "Unhandled Exception",
     "evalue": "input.fsx (1,10)-(1,34) typecheck error The type referenced through 'Sylvester.Tensors.IUnknownShape' is defined in an assembly that is not referenced. You must add a reference to assembly 'Sylvester.Tensors'.",
     "output_type": "error",
     "traceback": [
      "input.fsx (1,10)-(1,34) typecheck error The type referenced through 'Sylvester.Tensors.IUnknownShape' is defined in an assembly that is not referenced. You must add a reference to assembly 'Sylvester.Tensors'."
     ]
    }
   ],
   "source": [
    "let m0 = Mat<dim<4>, dim<3>>(\"x\") // Creates a TensorFlow placeholder node and output edge with shape 4x3 and name m_0."
   ]
  },
  {
   "cell_type": "code",
   "execution_count": null,
   "metadata": {},
   "outputs": [],
   "source": []
  }
 ],
 "metadata": {
  "kernelspec": {
   "display_name": ".NET (F#)",
   "language": "F#",
   "name": ".net-fsharp"
  },
  "language_info": {
   "file_extension": ".fs",
   "mimetype": "text/x-fsharp",
   "name": "C#",
   "pygments_lexer": "fsharp",
   "version": "4.5"
  }
 },
 "nbformat": 4,
 "nbformat_minor": 2
}
