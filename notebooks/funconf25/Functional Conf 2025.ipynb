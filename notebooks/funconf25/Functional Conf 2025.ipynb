{
 "cells": [
  {
   "cell_type": "code",
   "execution_count": null,
   "id": "d3201b84",
   "metadata": {
    "slideshow": {
     "slide_type": "skip"
    }
   },
   "outputs": [
    {
     "data": {
      "text/html": [
       "<script type=\"text/javascript\">\n",
       "if (typeof window.createDotnetInteractiveClient === typeof Function) {\n",
       "    window.createDotnetInteractiveClient('http://192.168.56.1:1000/').then(async function (interactive) {\n",
       "        const console = interactive.getConsole('31c08ffb9c124b33978a87e0361a0001');\n",
       "        const notebookScope = getDotnetInteractiveScope('http://192.168.56.1:1000/');\n",
       "        try {\n",
       "\n",
       "await Object.getPrototypeOf(async function() {}).constructor(\n",
       "    \"interactive\",\n",
       "    \"console\",\n",
       "    \"notebookScope\",\n",
       "    \"alert(\\u0027foo\\u0027);\"\n",
       ")(\n",
       "    interactive,\n",
       "    console,\n",
       "    notebookScope\n",
       ");\n",
       "\n",
       "        } catch (err) {\n",
       "            interactive.failCommand(err, '31c08ffb9c124b33978a87e0361a0001');\n",
       "        } finally {\n",
       "            await interactive.waitForAllEventsToPublish('31c08ffb9c124b33978a87e0361a0001');\n",
       "            await interactive.markExecutionComplete('31c08ffb9c124b33978a87e0361a0001');\n",
       "        }\n",
       "    });\n",
       "}\n",
       "</script>"
      ]
     },
     "metadata": {},
     "output_type": "display_data"
    }
   ],
   "source": []
  },
  {
   "cell_type": "markdown",
   "id": "65295bb7",
   "metadata": {
    "slideshow": {
     "slide_type": "slide"
    },
    "tags": []
   },
   "source": [
    "<style>\n",
    "div.myheader {\n",
    "    visibility:hidden\n",
    "}\n",
    "</style>\n",
    "<center>\n",
    "    <h2> A Functional EDSL for Economics Concepts and Models</h2>\n",
    "    <div style=\"margin-top:100px\">\n",
    "        <div style=\"margin: auto;width:1400px\">\n",
    "        <img src=\"fsharplogo3.png\" style=\"width:400px;height:400px;float:left;margin-right:10px\"/>\n",
    "        <img src=\"economics.png\" style=\"width:400px;height:400px;float:left;margin-right:10px\"/>\n",
    "        <img src=\"gt.jpg\" style=\"width:400px;height:400px;float:left;margin-right:10px\"/>\n",
    "        </div>\n",
    "        <br/>\n",
    "        <div style=\"float:none;clear:left\">\n",
    "            <img src=\"Functional-Conf-Horizontal-Logo-170px.png\" style=\"width:300px\" />\n",
    "        </div>\n",
    "    </div>\n",
    "        <h2> Allister Beharry </h2>\n",
    "    <h2> 25th January 2025</h2>\n",
    "</center>\n"
   ]
  },
  {
   "cell_type": "markdown",
   "id": "b0fbac3b",
   "metadata": {
    "slideshow": {
     "slide_type": "slide"
    }
   },
   "source": [
    "<div style=\"margin-top:50px\">\n",
    "    <h1>Introduction</h1>\n",
    "</div>\n",
    "<center>\n",
    "<img src = \"econ2.jpg\" style=\"width:1000px; height:600px\" />\n",
    "</center>"
   ]
  },
  {
   "cell_type": "markdown",
   "id": "e9e013a9",
   "metadata": {
    "slideshow": {
     "slide_type": "slide"
    }
   },
   "source": [
    "# Introduction\n",
    "## About Me\n",
    "* .NET programmer for ~ 25 years, F# programmer for ~ 6 years\n",
    "* Currently student at University of London\n",
    "* Interested in open source mathematical computing software and languages"
   ]
  },
  {
   "cell_type": "markdown",
   "id": "6deb4c42",
   "metadata": {
    "slideshow": {
     "slide_type": "slide"
    }
   },
   "source": [
    "## Introduction\n",
    "## About F#\n",
    "\n",
    "* Hybrid, functional-first, object-based open-source .NET language from Microsoft\n",
    "* Member of the ML family of functional programming languages, like OCaml\n",
    "* Can run in desktop IDEs, web browsers, Jupyter notebooks (like this one)\n",
    "* Used in many different areas including financial programming, web development,...\n",
    "* Contains features that make it easier to be used interactively and interoperate with dynamic languages\n",
    "* Can interoperate with C/C++ libraries or any library with a C ABI"
   ]
  },
  {
   "cell_type": "markdown",
   "id": "6d7ecaf8",
   "metadata": {
    "slideshow": {
     "slide_type": "slide"
    },
    "tags": []
   },
   "source": [
    "## Introduction\n",
    "## About Sylvester\n"
   ]
  },
  {
   "cell_type": "markdown",
   "id": "769aa0ba",
   "metadata": {
    "slideshow": {
     "slide_type": "fragment"
    }
   },
   "source": [
    "* F# EDSL for mathematical computing and visualization"
   ]
  },
  {
   "cell_type": "markdown",
   "id": "6589db2e",
   "metadata": {
    "slideshow": {
     "slide_type": "fragment"
    }
   },
   "source": [
    "* Provide a unified notatation for symbolic, logical, visual aspects of mathematics"
   ]
  },
  {
   "cell_type": "markdown",
   "id": "ad2bb2c1",
   "metadata": {
    "slideshow": {
     "slide_type": "fragment"
    }
   },
   "source": [
    "* Provide syntax and types for expressing formulas and properties and operations and theorems and interactive diagrams from different mathematical domains"
   ]
  },
  {
   "cell_type": "markdown",
   "id": "0d26f480",
   "metadata": {
    "slideshow": {
     "slide_type": "fragment"
    }
   },
   "source": [
    "* Provide unified functional language interface to different open-source tools and libraries for mathematical computing - Maxima, Z3, Gambit, JSXGraph.... "
   ]
  },
  {
   "cell_type": "markdown",
   "id": "a8bdf6ec",
   "metadata": {
    "slideshow": {
     "slide_type": "slide"
    }
   },
   "source": [
    "# Why Sylvester?\n",
    "<div style=\"float:left\">\n",
    "    <h3> Math education in ancient times </h3>\n",
    "    <img src=\"https://miro.medium.com/v2/resize:fit:1100/format:webp/0*6yXIe83hJbIaf6m4.jpg\"/>\n",
    "    \n",
    "</div>\n",
    "<div style=\"float:right\">\n",
    "     <h3> Math education in the 21st century </h3>\n",
    "    <img src=\"schools.webp\"/>\n",
    "</div>\n",
    "<div style=\"clear:right\">\n",
    "    <br>\n",
    "    <center><h3>Computers and software have not fundamentally altered the core processes of math education. Can we change this?</h3></center>\n",
    "</div>"
   ]
  },
  {
   "cell_type": "code",
   "execution_count": 1,
   "id": "distinct-screw",
   "metadata": {
    "slideshow": {
     "slide_type": "skip"
    },
    "tags": []
   },
   "outputs": [
    {
     "data": {
      "text/html": [
       "\r\n",
       "<div>\r\n",
       "    <div id='dotnet-interactive-this-cell-9704.Microsoft.DotNet.Interactive.Http.HttpPort' style='display: none'>\r\n",
       "        The below script needs to be able to find the current output cell; this is an easy method to get it.\r\n",
       "    </div>\r\n",
       "    <script type='text/javascript'>\r\n",
       "async function probeAddresses(probingAddresses) {\r\n",
       "    function timeout(ms, promise) {\r\n",
       "        return new Promise(function (resolve, reject) {\r\n",
       "            setTimeout(function () {\r\n",
       "                reject(new Error('timeout'))\r\n",
       "            }, ms)\r\n",
       "            promise.then(resolve, reject)\r\n",
       "        })\r\n",
       "    }\r\n",
       "\r\n",
       "    if (Array.isArray(probingAddresses)) {\r\n",
       "        for (let i = 0; i < probingAddresses.length; i++) {\r\n",
       "\r\n",
       "            let rootUrl = probingAddresses[i];\r\n",
       "\r\n",
       "            if (!rootUrl.endsWith('/')) {\r\n",
       "                rootUrl = `${rootUrl}/`;\r\n",
       "            }\r\n",
       "\r\n",
       "            try {\r\n",
       "                let response = await timeout(1000, fetch(`${rootUrl}discovery`, {\r\n",
       "                    method: 'POST',\r\n",
       "                    cache: 'no-cache',\r\n",
       "                    mode: 'cors',\r\n",
       "                    timeout: 1000,\r\n",
       "                    headers: {\r\n",
       "                        'Content-Type': 'text/plain'\r\n",
       "                    },\r\n",
       "                    body: probingAddresses[i]\r\n",
       "                }));\r\n",
       "\r\n",
       "                if (response.status == 200) {\r\n",
       "                    return rootUrl;\r\n",
       "                }\r\n",
       "            }\r\n",
       "            catch (e) { }\r\n",
       "        }\r\n",
       "    }\r\n",
       "}\r\n",
       "\r\n",
       "function loadDotnetInteractiveApi() {\r\n",
       "    probeAddresses([\"http://192.168.56.1:1000/\", \"http://192.168.169.1:1000/\", \"http://192.168.128.1:1000/\", \"http://192.168.8.190:1000/\", \"http://127.0.0.1:1000/\"])\r\n",
       "        .then((root) => {\r\n",
       "        // use probing to find host url and api resources\r\n",
       "        // load interactive helpers and language services\r\n",
       "        let dotnetInteractiveRequire = require.config({\r\n",
       "        context: '9704.Microsoft.DotNet.Interactive.Http.HttpPort',\r\n",
       "                paths:\r\n",
       "            {\r\n",
       "                'dotnet-interactive': `${root}resources`\r\n",
       "                }\r\n",
       "        }) || require;\r\n",
       "\r\n",
       "            window.dotnetInteractiveRequire = dotnetInteractiveRequire;\r\n",
       "\r\n",
       "            window.configureRequireFromExtension = function(extensionName, extensionCacheBuster) {\r\n",
       "                let paths = {};\r\n",
       "                paths[extensionName] = `${root}extensions/${extensionName}/resources/`;\r\n",
       "                \r\n",
       "                let internalRequire = require.config({\r\n",
       "                    context: extensionCacheBuster,\r\n",
       "                    paths: paths,\r\n",
       "                    urlArgs: `cacheBuster=${extensionCacheBuster}`\r\n",
       "                    }) || require;\r\n",
       "\r\n",
       "                return internalRequire\r\n",
       "            };\r\n",
       "        \r\n",
       "            dotnetInteractiveRequire([\r\n",
       "                    'dotnet-interactive/dotnet-interactive'\r\n",
       "                ],\r\n",
       "                function (dotnet) {\r\n",
       "                    dotnet.init(window);\r\n",
       "                },\r\n",
       "                function (error) {\r\n",
       "                    console.log(error);\r\n",
       "                }\r\n",
       "            );\r\n",
       "        })\r\n",
       "        .catch(error => {console.log(error);});\r\n",
       "    }\r\n",
       "\r\n",
       "// ensure `require` is available globally\r\n",
       "if ((typeof(require) !==  typeof(Function)) || (typeof(require.config) !== typeof(Function))) {\r\n",
       "    let require_script = document.createElement('script');\r\n",
       "    require_script.setAttribute('src', 'https://cdnjs.cloudflare.com/ajax/libs/require.js/2.3.6/require.min.js');\r\n",
       "    require_script.setAttribute('type', 'text/javascript');\r\n",
       "    \r\n",
       "    \r\n",
       "    require_script.onload = function() {\r\n",
       "        loadDotnetInteractiveApi();\r\n",
       "    };\r\n",
       "\r\n",
       "    document.getElementsByTagName('head')[0].appendChild(require_script);\r\n",
       "}\r\n",
       "else {\r\n",
       "    loadDotnetInteractiveApi();\r\n",
       "}\r\n",
       "\r\n",
       "    </script>\r\n",
       "</div>"
      ]
     },
     "metadata": {},
     "output_type": "display_data"
    }
   ],
   "source": [
    "#load \"Include.fsx\""
   ]
  },
  {
   "cell_type": "markdown",
   "id": "807af1ab",
   "metadata": {
    "slideshow": {
     "slide_type": "slide"
    }
   },
   "source": [
    "## Starting up"
   ]
  },
  {
   "cell_type": "code",
   "execution_count": 2,
   "id": "august-beverage",
   "metadata": {
    "slideshow": {
     "slide_type": "fragment"
    },
    "tags": []
   },
   "outputs": [],
   "source": [
    "// Open namespaces and modules\n",
    "open Sylvester\n",
    "open RealNumbers"
   ]
  },
  {
   "cell_type": "code",
   "execution_count": 3,
   "id": "stupid-mystery",
   "metadata": {
    "slideshow": {
     "slide_type": "fragment"
    },
    "tags": []
   },
   "outputs": [
    {
     "name": "stdout",
     "output_type": "stream",
     "text": [
      "Using default console logger.\n",
      "Process cmd started with pid 46884.\n"
     ]
    }
   ],
   "source": [
    "// Initialize the Maxima CAS\n",
    "do CAS.Maxima.init \"C:\\\\MathTools\\\\maxima-5.44.0\\\\bin\\\\maxima.bat\""
   ]
  },
  {
   "cell_type": "code",
   "execution_count": 4,
   "id": "changed-observer",
   "metadata": {
    "slideshow": {
     "slide_type": "skip"
    },
    "tags": []
   },
   "outputs": [],
   "source": [
    "open Microsoft.DotNet.Interactive.Formatting\n",
    "do Formatter.Register<IHtmlDisplay>((fun (hd:IHtmlDisplay) -> hd.Html()),  \"text/html\")\n",
    "do Formatter.Register<Sylvester.Html>((fun (h) -> h.ToString()),  \"text/html\")\n",
    "do Formatter.Register<SharpGambit.NormalFormGame>((fun (g:SharpGambit.NormalFormGame) -> g.Html),  \"text/html\")"
   ]
  },
  {
   "cell_type": "code",
   "execution_count": 5,
   "id": "metallic-prospect",
   "metadata": {
    "slideshow": {
     "slide_type": "slide"
    },
    "tags": []
   },
   "outputs": [
    {
     "data": {
      "text/html": [
       "$$f(x) = 1 + x^{3}$$"
      ]
     },
     "execution_count": 5,
     "metadata": {},
     "output_type": "execute_result"
    }
   ],
   "source": [
    "// Define a real variable and function of a single variable\n",
    "let x = realvar \"x\"\n",
    "let f = realfun \"f\" (x *** 3 + 1)\n",
    "f"
   ]
  },
  {
   "cell_type": "code",
   "execution_count": 8,
   "id": "baf37946",
   "metadata": {
    "slideshow": {
     "slide_type": "fragment"
    }
   },
   "outputs": [
    {
     "data": {
      "text/html": [
       "$$1 + 5.0^{3}$$"
      ]
     },
     "execution_count": 8,
     "metadata": {},
     "output_type": "execute_result"
    }
   ],
   "source": [
    "// Sylvester functions overload the [] operator for symbolic operations\n",
    "f[5]"
   ]
  },
  {
   "cell_type": "code",
   "execution_count": 7,
   "id": "3afb169c",
   "metadata": {
    "slideshow": {
     "slide_type": "fragment"
    }
   },
   "outputs": [
    {
     "data": {
      "text/html": [
       "$$2 + a^{3}$$"
      ]
     },
     "execution_count": 7,
     "metadata": {},
     "output_type": "execute_result"
    }
   ],
   "source": [
    "// Sylvester functions are fully symbolic e.g. define a real constant\n",
    "let a = realconst \"a\"\n",
    "\n",
    "f[a] + 1"
   ]
  },
  {
   "cell_type": "code",
   "execution_count": null,
   "id": "alternative-disney",
   "metadata": {
    "tags": []
   },
   "outputs": [],
   "source": [
    "CAS.Maxima.last_output 10"
   ]
  },
  {
   "cell_type": "code",
   "execution_count": 6,
   "id": "generous-macedonia",
   "metadata": {
    "slideshow": {
     "slide_type": "slide"
    },
    "tags": []
   },
   "outputs": [
    {
     "data": {
      "text/html": [
       "<div>\r\n",
       " <div id=\"e062a306-57e5-45a7-9e9d-f1d12d989208\" class=\"jxgbox\" style=\"width:100%;height:640px\"></div>\r\n",
       " <script>require(['https://cdn.jsdelivr.net/npm/jsxgraph/distrib/jsxgraphcore.js'], function(JXG) {\n",
       "JXG.Options.text.useMathJax = true;\n",
       "var MathJS__Pow$;\r\n",
       "MathJS__Pow$ = (function(x,y)\r\n",
       "{\r\n",
       "    return Math.pow(x, y);;\r\n",
       "});\r\n",
       "var boundingbox = [(0.000000 - ((10.000000 - 0.000000) / 10.000000)), (1001.000000 + ((1001.000000 - 1.000000) / 10.000000)), (10.000000 + (10.000000 / 10.000000)), (1.000000 - (1001.000000 / 10.000000))];\r\n",
       "var showNavigation = true;\r\n",
       "var showCopyright = false;\r\n",
       "var keepAspectRatio = false;\r\n",
       "var name = \"quantity\";\r\n",
       "var withLabel = true;\r\n",
       "var position = \"rt\";\r\n",
       "var offset = [-300, -40];\r\n",
       "var _name = \"price\";\r\n",
       "var _withLabel = true;\r\n",
       "var _position = \"rt\";\r\n",
       "var rotate = 90;\r\n",
       "var _offset = [-40, -300];\r\n",
       "var b = JXG.JSXGraph.initBoard(\"e062a306-57e5-45a7-9e9d-f1d12d989208\", {axis: true, boundingbox: boundingbox, defaultAxes: {x: {label: {anchorX: \"middle\", offset: offset, position: position}, name: name, withLabel: withLabel}, y: {label: {anchorX: \"middle\", offset: _offset, position: _position, rotate: rotate}, name: _name, withLabel: _withLabel}}, keepAspectRatio: keepAspectRatio, showCopyright: showCopyright, showNavigation: showNavigation});\r\n",
       "var strokeColor = \"red\";\r\n",
       "var strokeWidth = 3;\r\n",
       "var __withLabel = true;\r\n",
       "var fg = b.create('functiongraph', [(function(x)\r\n",
       "{\r\n",
       "    return (MathJS__Pow$(x, 3.000000) + 1.000000);\r\n",
       "}), 0.000000, 10.000000], {name: \"$$f(x) = x^{3} + 1$$\", strokeColor: strokeColor, strokeWidth: strokeWidth, withLabel: __withLabel});\r\n",
       "var t = b.create('text', [((10.000000 - 0.000000) * 0.500000), (1001.000000 - ((1001.000000 - 1.000000) / 10.000000)), \"Worldwide Coffee Supply\"], {fontSize: 24});\r\n",
       "b});</script>\r\n",
       "</div>\r\n"
      ]
     },
     "execution_count": 6,
     "metadata": {},
     "output_type": "execute_result"
    }
   ],
   "source": [
    "let graph = \n",
    "    {|\n",
    "        xtitle=\"quantity\"\n",
    "        ytitle=\"price\"\n",
    "        strokeColor=red\n",
    "        strokeWidth=3\n",
    "        title=\"Worldwide Coffee Supply\" \n",
    "    |}\n",
    "in draw graph f"
   ]
  },
  {
   "cell_type": "code",
   "execution_count": 10,
   "id": "presidential-german",
   "metadata": {
    "slideshow": {
     "slide_type": "slide"
    }
   },
   "outputs": [],
   "source": []
  },
  {
   "cell_type": "code",
   "execution_count": 6,
   "id": "184ba578",
   "metadata": {
    "slideshow": {
     "slide_type": "slide"
    }
   },
   "outputs": [
    {
     "data": {
      "text/html": [
       "<center><h1>Prisoner's Dilemna</h1></center>\n",
       "<table class='nfg_2p'><tr><td></td><td align=center><b>Quiet</b></td><td align=center><b>Fink</b></td></tr><tr><td align=center><b>Quiet</b></td><td align=center>3,3</td><td align=center>4,0</td></tr><tr><td align=center><b>Fink</b></td><td align=center>0,4</td><td align=center>2,2</td></tr></table>\n"
      ]
     },
     "execution_count": 6,
     "metadata": {},
     "output_type": "execute_result"
    }
   ],
   "source": [
    "// Open SharpGambit modules\n",
    "open SharpGambit\n",
    "\n",
    "// Declare a two-player normal form game\n",
    "let g = nfg_2p \"Prisoner's Dilemna\" [\"Quiet\"; \"Fink\"] [\"Quiet\"; \"Fink\"] [\n",
    "            (3,3); (4,0)\n",
    "            (0,4); (2,2)\n",
    "    ]\n",
    "g"
   ]
  },
  {
   "cell_type": "markdown",
   "id": "bfe7e8f8",
   "metadata": {
    "slideshow": {
     "slide_type": "slide"
    }
   },
   "source": [
    "<div style=\"margin-top:100px\">\n",
    "    <h1>Game Theory</h1>\n",
    "</div>\n",
    "<center>\n",
    "<img src = \"gt2.jpg\" style=\"width:600px; height:600px\" />\n",
    "</center>"
   ]
  },
  {
   "cell_type": "markdown",
   "id": "ebf813a8",
   "metadata": {
    "slideshow": {
     "slide_type": "slide"
    }
   },
   "source": [
    "# Game Theory\n",
    "## Overview\n",
    "* Game theory models and analyzes how *rational* decision makers interact\n",
    "* Game theory as an independent field started in 1940's by John von Neumann and Oscar Morgensten\n",
    "* Game theory is used extensively in natural and social sciences, business, defense, politics, plannning and analyzing situations where humans interact and compete \n",
    "\n"
   ]
  },
  {
   "cell_type": "markdown",
   "id": "5fef9995",
   "metadata": {
    "slideshow": {
     "slide_type": "slide"
    }
   },
   "source": [
    "# Game Theory\n",
    "## Basic Elements of a Game\n",
    "* Players: represents decision-makers who must choose from a set of *actions*\n",
    "* Actions or Strategies: Usually a simple label like \"Cooperate\" or \"Defect\"\n",
    "* Action or Strategy Profiles: A set of individual strategies chosen by each player representing a possible outcome of the game e.g. `{Defect, Defect}` is the outcome where both hunters choose not to cooperate\n",
    "* Preferences: Each player has a preference for the different outcomes\n",
    "* Payoffs: a function that assigns to each strategy profile a number where higher numbers are preferred by the player e.g (2,2"
   ]
  },
  {
   "cell_type": "markdown",
   "id": "ecb53163",
   "metadata": {
    "slideshow": {
     "slide_type": "slide"
    }
   },
   "source": [
    "# Game Theory::Examples\n",
    "## Stag Hunt\n",
    "Two hunters are on a stag hunt where they can't observe what the other is doing. Catching a stag is hard and requires both hunters to cooperate.  Catching a hare is much easier than catching a stag though and doesn't require cooperation but will benefit an individual hunter less than a stag. If one hunter hunts a stag and one a hare, only the hare hunter will benefit.\n",
    "<center>\n",
    "<img src = \"staghunt.jpg\" style=\"width:400px; height:400px\" />\n",
    "</center>"
   ]
  },
  {
   "cell_type": "markdown",
   "id": "c4851c14",
   "metadata": {
    "slideshow": {
     "slide_type": "slide"
    }
   },
   "source": [
    "# Game Theory in F#"
   ]
  },
  {
   "cell_type": "code",
   "execution_count": null,
   "id": "193e5471",
   "metadata": {},
   "outputs": [],
   "source": []
  },
  {
   "cell_type": "markdown",
   "id": "f0684110",
   "metadata": {
    "slideshow": {
     "slide_type": "slide"
    }
   },
   "source": [
    "# Game Theory::Game Theory in F#"
   ]
  },
  {
   "cell_type": "code",
   "execution_count": 10,
   "id": "efa41365",
   "metadata": {
    "slideshow": {
     "slide_type": "fragment"
    }
   },
   "outputs": [
    {
     "data": {
      "text/html": [
       "<center><h1>Stag Hunt</h1></center>\n",
       "<table class='nfg_2p'><tr><td></td><td align=center><b>Cooperate</b></td><td align=center><b>Defect</b></td></tr><tr><td align=center><b>Cooperate</b></td><td align=center>4,4</td><td align=center>0,2</td></tr><tr><td align=center><b>Defect</b></td><td align=center>2,0</td><td align=center>2,2</td></tr></table>\n"
      ]
     },
     "execution_count": 10,
     "metadata": {},
     "output_type": "execute_result"
    }
   ],
   "source": [
    "// Open SharpGambit modules\n",
    "open SharpGambit\n",
    "\n",
    "// Declare a two-player normal form game\n",
    "let g = nfg_2p \"Stag Hunt\" [\"Cooperate\"; \"Defect\"] [\"Cooperate\"; \"Defect\"] [\n",
    "            (4,4); (0,2)\n",
    "            (2,0); (2,2)\n",
    "    ]\n",
    "g"
   ]
  },
  {
   "cell_type": "code",
   "execution_count": 12,
   "id": "fa3753c0",
   "metadata": {},
   "outputs": [
    {
     "data": {
      "text/html": [
       "<details open=\"open\" class=\"dni-treeview\"><summary><span class=\"dni-code-hint\"><code>SharpGambit.PureStrategySolution</code></span></summary><div><table><thead><tr></tr></thead><tbody><tr><td>solutions</td><td><table><thead><tr><th><i>index</i></th><th>value</th></tr></thead><tbody><tr><td>0</td><td><table><thead><tr><th><i>index</i></th><th>value</th></tr></thead><tbody><tr><td>0</td><td><details class=\"dni-treeview\"><summary><span class=\"dni-code-hint\"><code>SharpGambit.PureStrategy</code></span></summary><div><table><thead><tr></tr></thead><tbody><tr><td>Label</td><td><div class=\"dni-plaintext\"><pre>Cooperate</pre></div></td></tr><tr><td>Index</td><td><div class=\"dni-plaintext\"><pre>0</pre></div></td></tr><tr><td>Player</td><td><details class=\"dni-treeview\"><summary><span class=\"dni-code-hint\"><code>SharpGambit.Player</code></span></summary><div><table><thead><tr></tr></thead><tbody><tr><td>Index</td><td><div class=\"dni-plaintext\"><pre>0</pre></div></td></tr><tr><td>Label</td><td><div class=\"dni-plaintext\"><pre>Player 1</pre></div></td></tr><tr><td>StrategyCount</td><td><div class=\"dni-plaintext\"><pre>2</pre></div></td></tr><tr><td>Strategies</td><td><table><thead><tr><th><i>index</i></th><th>value</th></tr></thead><tbody><tr><td>0</td><td>SharpGambit.PureStrategy</td></tr><tr><td>1</td><td>SharpGambit.PureStrategy</td></tr></tbody></table></td></tr><tr><td>game</td><td><center><h1>Stag Hunt</h1></center>\n",
       "<table class='nfg_2p'><tr><td></td><td align=center><b>Cooperate</b></td><td align=center><b>Defect</b></td></tr><tr><td align=center><b>Cooperate</b></td><td align=center>4,4</td><td align=center>0,2</td></tr><tr><td align=center><b>Defect</b></td><td align=center>2,0</td><td align=center>2,2</td></tr></table>\n",
       "</td></tr></tbody></table></div></details></td></tr></tbody></table></div></details></td></tr><tr><td>1</td><td><details class=\"dni-treeview\"><summary><span class=\"dni-code-hint\"><code>SharpGambit.PureStrategy</code></span></summary><div><table><thead><tr></tr></thead><tbody><tr><td>Label</td><td><div class=\"dni-plaintext\"><pre>Cooperate</pre></div></td></tr><tr><td>Index</td><td><div class=\"dni-plaintext\"><pre>0</pre></div></td></tr><tr><td>Player</td><td><details class=\"dni-treeview\"><summary><span class=\"dni-code-hint\"><code>SharpGambit.Player</code></span></summary><div><table><thead><tr></tr></thead><tbody><tr><td>Index</td><td><div class=\"dni-plaintext\"><pre>1</pre></div></td></tr><tr><td>Label</td><td><div class=\"dni-plaintext\"><pre>Player 2</pre></div></td></tr><tr><td>StrategyCount</td><td><div class=\"dni-plaintext\"><pre>2</pre></div></td></tr><tr><td>Strategies</td><td><table><thead><tr><th><i>index</i></th><th>value</th></tr></thead><tbody><tr><td>0</td><td>SharpGambit.PureStrategy</td></tr><tr><td>1</td><td>SharpGambit.PureStrategy</td></tr></tbody></table></td></tr><tr><td>game</td><td><center><h1>Stag Hunt</h1></center>\n",
       "<table class='nfg_2p'><tr><td></td><td align=center><b>Cooperate</b></td><td align=center><b>Defect</b></td></tr><tr><td align=center><b>Cooperate</b></td><td align=center>4,4</td><td align=center>0,2</td></tr><tr><td align=center><b>Defect</b></td><td align=center>2,0</td><td align=center>2,2</td></tr></table>\n",
       "</td></tr></tbody></table></div></details></td></tr></tbody></table></div></details></td></tr></tbody></table></td></tr><tr><td>1</td><td><table><thead><tr><th><i>index</i></th><th>value</th></tr></thead><tbody><tr><td>0</td><td><details class=\"dni-treeview\"><summary><span class=\"dni-code-hint\"><code>SharpGambit.PureStrategy</code></span></summary><div><table><thead><tr></tr></thead><tbody><tr><td>Label</td><td><div class=\"dni-plaintext\"><pre>Defect</pre></div></td></tr><tr><td>Index</td><td><div class=\"dni-plaintext\"><pre>1</pre></div></td></tr><tr><td>Player</td><td><details class=\"dni-treeview\"><summary><span class=\"dni-code-hint\"><code>SharpGambit.Player</code></span></summary><div><table><thead><tr></tr></thead><tbody><tr><td>Index</td><td><div class=\"dni-plaintext\"><pre>0</pre></div></td></tr><tr><td>Label</td><td><div class=\"dni-plaintext\"><pre>Player 1</pre></div></td></tr><tr><td>StrategyCount</td><td><div class=\"dni-plaintext\"><pre>2</pre></div></td></tr><tr><td>Strategies</td><td><table><thead><tr><th><i>index</i></th><th>value</th></tr></thead><tbody><tr><td>0</td><td>SharpGambit.PureStrategy</td></tr><tr><td>1</td><td>SharpGambit.PureStrategy</td></tr></tbody></table></td></tr><tr><td>game</td><td><center><h1>Stag Hunt</h1></center>\n",
       "<table class='nfg_2p'><tr><td></td><td align=center><b>Cooperate</b></td><td align=center><b>Defect</b></td></tr><tr><td align=center><b>Cooperate</b></td><td align=center>4,4</td><td align=center>0,2</td></tr><tr><td align=center><b>Defect</b></td><td align=center>2,0</td><td align=center>2,2</td></tr></table>\n",
       "</td></tr></tbody></table></div></details></td></tr></tbody></table></div></details></td></tr><tr><td>1</td><td><details class=\"dni-treeview\"><summary><span class=\"dni-code-hint\"><code>SharpGambit.PureStrategy</code></span></summary><div><table><thead><tr></tr></thead><tbody><tr><td>Label</td><td><div class=\"dni-plaintext\"><pre>Defect</pre></div></td></tr><tr><td>Index</td><td><div class=\"dni-plaintext\"><pre>1</pre></div></td></tr><tr><td>Player</td><td><details class=\"dni-treeview\"><summary><span class=\"dni-code-hint\"><code>SharpGambit.Player</code></span></summary><div><table><thead><tr></tr></thead><tbody><tr><td>Index</td><td><div class=\"dni-plaintext\"><pre>1</pre></div></td></tr><tr><td>Label</td><td><div class=\"dni-plaintext\"><pre>Player 2</pre></div></td></tr><tr><td>StrategyCount</td><td><div class=\"dni-plaintext\"><pre>2</pre></div></td></tr><tr><td>Strategies</td><td><table><thead><tr><th><i>index</i></th><th>value</th></tr></thead><tbody><tr><td>0</td><td>SharpGambit.PureStrategy</td></tr><tr><td>1</td><td>SharpGambit.PureStrategy</td></tr></tbody></table></td></tr><tr><td>game</td><td><center><h1>Stag Hunt</h1></center>\n",
       "<table class='nfg_2p'><tr><td></td><td align=center><b>Cooperate</b></td><td align=center><b>Defect</b></td></tr><tr><td align=center><b>Cooperate</b></td><td align=center>4,4</td><td align=center>0,2</td></tr><tr><td align=center><b>Defect</b></td><td align=center>2,0</td><td align=center>2,2</td></tr></table>\n",
       "</td></tr></tbody></table></div></details></td></tr></tbody></table></div></details></td></tr></tbody></table></td></tr></tbody></table></td></tr></tbody></table></div></details><style>\r\n",
       ".dni-code-hint {\r\n",
       "    font-style: italic;\r\n",
       "    overflow: hidden;\r\n",
       "    white-space: nowrap;\r\n",
       "}\r\n",
       ".dni-treeview {\r\n",
       "    white-space: nowrap;\r\n",
       "}\r\n",
       ".dni-treeview td {\r\n",
       "    vertical-align: top;\r\n",
       "    text-align: start;\r\n",
       "}\r\n",
       "details.dni-treeview {\r\n",
       "    padding-left: 1em;\r\n",
       "}\r\n",
       "table td {\r\n",
       "    text-align: start;\r\n",
       "}\r\n",
       "table tr { \r\n",
       "    vertical-align: top; \r\n",
       "    margin: 0em 0px;\r\n",
       "}\r\n",
       "table tr td pre \r\n",
       "{ \r\n",
       "    vertical-align: top !important; \r\n",
       "    margin: 0em 0px !important;\r\n",
       "} \r\n",
       "table th {\r\n",
       "    text-align: start;\r\n",
       "}\r\n",
       "</style>"
      ]
     },
     "execution_count": 12,
     "metadata": {},
     "output_type": "execute_result"
    }
   ],
   "source": [
    "solve_enum_pure g"
   ]
  }
 ],
 "metadata": {
  "celltoolbar": "Slideshow",
  "kernelspec": {
   "display_name": ".NET (F#)",
   "language": "F#",
   "name": ".net-fsharp"
  },
  "language_info": {
   "file_extension": ".fs",
   "mimetype": "text/x-fsharp",
   "name": "F#",
   "pygments_lexer": "fsharp",
   "version": "8.0"
  },
  "rise": {
   "overlay": "<div class='myheader'><img src='https://functionalconf.com/wp-content/uploads/2024/09/Functional-Conf-Horizontal-Logo-170px.png' style='width:160px;height:100px'/><b>FUNCTIONAL CONF '25</b>&nbsp;&nbsp;&nbsp;A Functional EDSL for Economics Concepts and Models</center></div>",
   "theme": "simple"
  }
 },
 "nbformat": 4,
 "nbformat_minor": 5
}
