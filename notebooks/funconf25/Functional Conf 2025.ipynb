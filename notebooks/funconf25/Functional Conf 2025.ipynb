{
 "cells": [
  {
   "cell_type": "code",
   "execution_count": 1,
   "id": "b605477f",
   "metadata": {
    "slideshow": {
     "slide_type": "skip"
    },
    "tags": []
   },
   "outputs": [
    {
     "data": {
      "text/html": [
       "\r\n",
       "<div>\r\n",
       "    <div id='dotnet-interactive-this-cell-57188.Microsoft.DotNet.Interactive.Http.HttpPort' style='display: none'>\r\n",
       "        The below script needs to be able to find the current output cell; this is an easy method to get it.\r\n",
       "    </div>\r\n",
       "    <script type='text/javascript'>\r\n",
       "async function probeAddresses(probingAddresses) {\r\n",
       "    function timeout(ms, promise) {\r\n",
       "        return new Promise(function (resolve, reject) {\r\n",
       "            setTimeout(function () {\r\n",
       "                reject(new Error('timeout'))\r\n",
       "            }, ms)\r\n",
       "            promise.then(resolve, reject)\r\n",
       "        })\r\n",
       "    }\r\n",
       "\r\n",
       "    if (Array.isArray(probingAddresses)) {\r\n",
       "        for (let i = 0; i < probingAddresses.length; i++) {\r\n",
       "\r\n",
       "            let rootUrl = probingAddresses[i];\r\n",
       "\r\n",
       "            if (!rootUrl.endsWith('/')) {\r\n",
       "                rootUrl = `${rootUrl}/`;\r\n",
       "            }\r\n",
       "\r\n",
       "            try {\r\n",
       "                let response = await timeout(1000, fetch(`${rootUrl}discovery`, {\r\n",
       "                    method: 'POST',\r\n",
       "                    cache: 'no-cache',\r\n",
       "                    mode: 'cors',\r\n",
       "                    timeout: 1000,\r\n",
       "                    headers: {\r\n",
       "                        'Content-Type': 'text/plain'\r\n",
       "                    },\r\n",
       "                    body: probingAddresses[i]\r\n",
       "                }));\r\n",
       "\r\n",
       "                if (response.status == 200) {\r\n",
       "                    return rootUrl;\r\n",
       "                }\r\n",
       "            }\r\n",
       "            catch (e) { }\r\n",
       "        }\r\n",
       "    }\r\n",
       "}\r\n",
       "\r\n",
       "function loadDotnetInteractiveApi() {\r\n",
       "    probeAddresses([\"http://192.168.56.1:1000/\", \"http://192.168.169.1:1000/\", \"http://192.168.128.1:1000/\", \"http://192.168.8.190:1000/\", \"http://127.0.0.1:1000/\"])\r\n",
       "        .then((root) => {\r\n",
       "        // use probing to find host url and api resources\r\n",
       "        // load interactive helpers and language services\r\n",
       "        let dotnetInteractiveRequire = require.config({\r\n",
       "        context: '57188.Microsoft.DotNet.Interactive.Http.HttpPort',\r\n",
       "                paths:\r\n",
       "            {\r\n",
       "                'dotnet-interactive': `${root}resources`\r\n",
       "                }\r\n",
       "        }) || require;\r\n",
       "\r\n",
       "            window.dotnetInteractiveRequire = dotnetInteractiveRequire;\r\n",
       "\r\n",
       "            window.configureRequireFromExtension = function(extensionName, extensionCacheBuster) {\r\n",
       "                let paths = {};\r\n",
       "                paths[extensionName] = `${root}extensions/${extensionName}/resources/`;\r\n",
       "                \r\n",
       "                let internalRequire = require.config({\r\n",
       "                    context: extensionCacheBuster,\r\n",
       "                    paths: paths,\r\n",
       "                    urlArgs: `cacheBuster=${extensionCacheBuster}`\r\n",
       "                    }) || require;\r\n",
       "\r\n",
       "                return internalRequire\r\n",
       "            };\r\n",
       "        \r\n",
       "            dotnetInteractiveRequire([\r\n",
       "                    'dotnet-interactive/dotnet-interactive'\r\n",
       "                ],\r\n",
       "                function (dotnet) {\r\n",
       "                    dotnet.init(window);\r\n",
       "                },\r\n",
       "                function (error) {\r\n",
       "                    console.log(error);\r\n",
       "                }\r\n",
       "            );\r\n",
       "        })\r\n",
       "        .catch(error => {console.log(error);});\r\n",
       "    }\r\n",
       "\r\n",
       "// ensure `require` is available globally\r\n",
       "if ((typeof(require) !==  typeof(Function)) || (typeof(require.config) !== typeof(Function))) {\r\n",
       "    let require_script = document.createElement('script');\r\n",
       "    require_script.setAttribute('src', 'https://cdnjs.cloudflare.com/ajax/libs/require.js/2.3.6/require.min.js');\r\n",
       "    require_script.setAttribute('type', 'text/javascript');\r\n",
       "    \r\n",
       "    \r\n",
       "    require_script.onload = function() {\r\n",
       "        loadDotnetInteractiveApi();\r\n",
       "    };\r\n",
       "\r\n",
       "    document.getElementsByTagName('head')[0].appendChild(require_script);\r\n",
       "}\r\n",
       "else {\r\n",
       "    loadDotnetInteractiveApi();\r\n",
       "}\r\n",
       "\r\n",
       "    </script>\r\n",
       "</div>"
      ]
     },
     "metadata": {},
     "output_type": "display_data"
    }
   ],
   "source": [
    "#load \"Include.fsx\""
   ]
  },
  {
   "cell_type": "code",
   "execution_count": 2,
   "id": "b9945bd3",
   "metadata": {
    "slideshow": {
     "slide_type": "skip"
    },
    "tags": []
   },
   "outputs": [],
   "source": [
    "#nowarn \"3391\"\n",
    "\n",
    "open Sylvester\n",
    "open GambitSharp\n",
    "open Microsoft.DotNet.Interactive.Formatting\n",
    "\n",
    "do Formatter.Register<IHtmlDisplay>((fun (hd:Sylvester.IHtmlDisplay) -> hd.Html()),  \"text/html\")\n",
    "do Formatter.Register<Sylvester.Html>((fun (h) -> h.ToString()),  \"text/html\")\n",
    "do Formatter.Register<Sylvester.ScalarVarMap<real> list>((fun (l:  Sylvester.ScalarVarMap<real> list) -> \"$$\" + (l |> List.map(fun m -> sprintf (\"%s = %s\") (latexe m.Lhs.Expr) (latexe m.Rhs.Expr)) |> List.reduce (fun x y -> x + \", \" + y)) + \"$$\"), \"text/html\")\n",
    "do Formatter.Register<Sylvester.ScalarEquation<real> list>((fun (l:  Sylvester.ScalarEquation<real> list) ->  l |> List.map(fun m -> \"$$\" + (sprintf (\"%s = %s\") (latexe m.Lhs.Expr) (latexe m.Rhs.Expr)) + \"$$\") |> List.reduce (fun x y -> x + \"\" + y)), \"text/html\")\n",
    "do Formatter.Register<Sylvester.DemandFunction list>((fun (l:  Sylvester.DemandFunction list) ->  l |> List.map(fun m -> (m.Html())) |> List.reduce (fun x y -> x + \", \" + y)), \"text/html\")\n",
    "do Formatter.Register<FSharp.Quotations.Expr<FunScript.Bindings.JSXGraph.Board>>((fun (b:FSharp.Quotations.Expr<FunScript.Bindings.JSXGraph.Board>) -> (draw_board b).ToString()), \"text/html\")\n",
    "do Formatter.Register<GambitSharp.NormalFormGame>((fun (g:GambitSharp.NormalFormGame) -> g.Html),  \"text/html\")\n",
    "do Formatter.Register<GambitSharp.PureStrategySolution>((fun (g:GambitSharp.PureStrategySolution) -> g.Html),  \"text/html\")\n",
    "do Formatter.Register<GambitSharp.MixedStrategySolution>((fun (g:GambitSharp.MixedStrategySolution) -> g.Html),  \"text/html\")\n",
    "\n",
    "do GambitSharp.Game.HtmlLatexMode <- false\n",
    "\n",
    "let html s = { new IHtmlDisplay with\n",
    "        member x.Html() = s }\n",
    "        \n",
    "open Economics\n",
    "let isoquants (attrs:'a) (dv:realvar) (f:ProductionFunction2) (vals:seq<real>) =\n",
    "    let fs = vals |> Seq.map(fun v -> prodfun_im (sprintf \"%s = %A\" dv.Name v) dv (f == v) :> IRealFunction<RealFunction>) \n",
    "    draw attrs <| realfungrpv fs\n"
   ]
  },
  {
   "cell_type": "code",
   "execution_count": null,
   "id": "653cc784",
   "metadata": {
    "slideshow": {
     "slide_type": "slide"
    }
   },
   "outputs": [],
   "source": [
    "#!javascript\n",
    "Reveal.addEventListener('slidechanged', (event) => {\n",
    "  // event.previousSlide, event.currentSlide, event.indexh, event.indexv\n",
    "  if (event.indexh == 1)\n",
    "  {\n",
    "      document.getElementsByClassName(\"myheader\")[0].style.visibility = \"hidden\"; \n",
    "  }\n",
    "  else\n",
    "  {\n",
    "      document.getElementsByClassName(\"myheader\")[0].style.visibility = \"visible\";\n",
    "  }\n",
    "});"
   ]
  },
  {
   "cell_type": "markdown",
   "id": "0887c825",
   "metadata": {
    "hide_input": false,
    "slideshow": {
     "slide_type": "slide"
    },
    "tags": []
   },
   "source": [
    "<center>\n",
    "    <h2> A Functional EDSL for Economics Concepts and Models</h2>\n",
    "    <div style=\"margin-top:30px\">\n",
    "        <div style=\"margin: auto;width:1400px\">\n",
    "        <img src=\"economics.png\" style=\"width:400px;height:400px;float:left;margin-right:10px\"/>\n",
    "        <img src=\"fsharplogo3.png\" style=\"width:400px;height:400px;float:left;margin-right:10px\"/>\n",
    "        <img src=\"gt.jpg\" style=\"width:400px;height:400px;float:left;margin-right:10px\"/>\n",
    "        </div>\n",
    "        <br/>\n",
    "        <div style=\"float:none;clear:left\">\n",
    "            <img src=\"Functional-Conf-Horizontal-Logo-170px.png\" style=\"width:300px\" />\n",
    "        </div>\n",
    "    </div>\n",
    "        <h3> Allister Beharry </h2>\n",
    "    <h3> 25th January 2025</h3>\n",
    "</center>\n"
   ]
  },
  {
   "cell_type": "markdown",
   "id": "17de5c58",
   "metadata": {
    "slideshow": {
     "slide_type": "slide"
    }
   },
   "source": [
    "# Overview\n",
    "* Introduction and demonstration of the Sylvester language (10mins)\n",
    "* Demonstration of working with economics concepts and models in Sylvester (10mins)"
   ]
  },
  {
   "cell_type": "markdown",
   "id": "409bc80a",
   "metadata": {
    "slideshow": {
     "slide_type": "slide"
    }
   },
   "source": [
    "# Introduction\n",
    "## About Me\n",
    "* .NET programmer for ~ 25 years, F# programmer ~ 6 years\n",
    "* Currently student at University of London\n",
    "* Interested in open source mathematical computing, software and languages in math education"
   ]
  },
  {
   "cell_type": "markdown",
   "id": "6deb4c42",
   "metadata": {
    "slideshow": {
     "slide_type": "slide"
    }
   },
   "source": [
    "## Introduction\n",
    "## About F#\n",
    "\n",
    "* Hybrid, functional-first, object-based open-source .NET language from Microsoft\n",
    "* Member of the ML family of functional programming languages, like OCaml\n",
    "* Can run in desktop IDEs, web browsers, Jupyter notebooks (like this one)\n",
    "* Used in many different areas including financial programming, web development,...\n",
    "* Contains features that make it easier to be used interactively and interoperate with dynamic languages\n",
    "* Can interoperate with C/C++ libraries or any library with a C ABI"
   ]
  },
  {
   "cell_type": "markdown",
   "id": "6d7ecaf8",
   "metadata": {
    "slideshow": {
     "slide_type": "slide"
    },
    "tags": []
   },
   "source": [
    "## Introduction\n",
    "### About Sylvester\n"
   ]
  },
  {
   "cell_type": "markdown",
   "id": "d7ea6354",
   "metadata": {
    "slideshow": {
     "slide_type": "fragment"
    }
   },
   "source": [
    "* F# EDSL for mathematical computing and visualization"
   ]
  },
  {
   "cell_type": "markdown",
   "id": "8d834bf8",
   "metadata": {
    "slideshow": {
     "slide_type": "fragment"
    }
   },
   "source": [
    "* Provide a unified language and notatation for symbolic, logical, visual aspects of mathematics"
   ]
  },
  {
   "cell_type": "markdown",
   "id": "c26099d8",
   "metadata": {
    "slideshow": {
     "slide_type": "fragment"
    }
   },
   "source": [
    "* Provide syntax and types for expressing formulas and properties and operations and theorems and interactive diagrams from different mathematical domains"
   ]
  },
  {
   "cell_type": "markdown",
   "id": "03c8b487",
   "metadata": {
    "slideshow": {
     "slide_type": "fragment"
    }
   },
   "source": [
    "* Provide unified functional language interface to different open-source tools and libraries for mathematical computing - Maxima, Z3, Gambit, JSXGraph.... "
   ]
  },
  {
   "cell_type": "markdown",
   "id": "c24733c5",
   "metadata": {
    "slideshow": {
     "slide_type": "slide"
    }
   },
   "source": [
    "## Introduction\n",
    "### About EDSLs\n",
    "\n",
    "* Embedded Domain Specific Languages \"...exploit the syntax of their host general purpose language or a subset thereof while adding domain-specific language elements (data types, routines, methods, macros etc.).\""
   ]
  },
  {
   "cell_type": "markdown",
   "id": "c8662f3b",
   "metadata": {
    "slideshow": {
     "slide_type": "fragment"
    }
   },
   "source": [
    "* EDSLs allow you to utilize all the tooling, libraries, documentation, etc. of the host language while creating type and syntax support for different domains "
   ]
  },
  {
   "cell_type": "markdown",
   "id": "39180bde",
   "metadata": {
    "slideshow": {
     "slide_type": "fragment"
    }
   },
   "source": [
    "* F# supports implementing EDSLs with features like custom operators, operator overloading, and quotations"
   ]
  },
  {
   "cell_type": "markdown",
   "id": "350e0dd0",
   "metadata": {
    "slideshow": {
     "slide_type": "fragment"
    }
   },
   "source": [
    "* EDSLs in F# can also be compiled to different low-level languages like JavaScript."
   ]
  },
  {
   "cell_type": "markdown",
   "id": "efd18948",
   "metadata": {
    "slideshow": {
     "slide_type": "slide"
    }
   },
   "source": [
    "## Introduction\n",
    "### Why Sylvester?\n",
    "<div style=\"float:left\">\n",
    "    <h3> Math education in ancient times </h3>\n",
    "    <img src=\"https://miro.medium.com/v2/resize:fit:1100/format:webp/0*6yXIe83hJbIaf6m4.jpg\">\n",
    "</div>\n",
    "<div style=\"float:right\">\n",
    "     <h3> Math education in the 21st century </h3>\n",
    "    <img src=\"https://ajb.nyc3.cdn.digitaloceanspaces.com/funcon25/schools.webp\"/>\n",
    "</div>\n",
    "<div style=\"clear:right\">\n",
    "    <br>\n",
    "    <center><h3>Computers and software have not fundamentally altered the core processes of math education. Can we change this?</h3></center>\n",
    "</div>"
   ]
  },
  {
   "cell_type": "code",
   "execution_count": null,
   "id": "d21a9d2e",
   "metadata": {
    "slideshow": {
     "slide_type": "skip"
    }
   },
   "outputs": [],
   "source": [
    "#!html\n",
    "<link href=\"https://cdn.jsdelivr.net/npm/jsxgraph/distrib/jsxgraph.css\" rel=\"stylesheet\" type=\"text/css\" />\n",
    "<script src=\"https://cdn.jsdelivr.net/npm/jsxgraph@1.4.6/distrib/jsxgraphcore.js\" type=\"text/javascript\" charset=\"UTF-8\"></script>"
   ]
  },
  {
   "cell_type": "markdown",
   "id": "23016574",
   "metadata": {
    "slideshow": {
     "slide_type": "slide"
    }
   },
   "source": [
    "# Sylvester Demonstration"
   ]
  },
  {
   "cell_type": "markdown",
   "id": "807af1ab",
   "metadata": {
    "slideshow": {
     "slide_type": "slide"
    }
   },
   "source": [
    "## Sylvester :: Expressions and Functions"
   ]
  },
  {
   "cell_type": "code",
   "execution_count": 3,
   "id": "august-beverage",
   "metadata": {
    "slideshow": {
     "slide_type": "fragment"
    },
    "tags": []
   },
   "outputs": [],
   "source": [
    "open Sylvester // Open Sylvester namespaces and modules"
   ]
  },
  {
   "cell_type": "code",
   "execution_count": 4,
   "id": "stupid-mystery",
   "metadata": {
    "slideshow": {
     "slide_type": "fragment"
    },
    "tags": []
   },
   "outputs": [
    {
     "name": "stdout",
     "output_type": "stream",
     "text": [
      "Using default console logger.\n",
      "Process cmd started with pid 60236.\n"
     ]
    }
   ],
   "source": [
    "do CAS.Maxima.init \"C:\\\\MathTools\\\\maxima-5.44.0\\\\bin\\\\maxima.bat\" // Initialize the Maxima CAS"
   ]
  },
  {
   "cell_type": "code",
   "execution_count": 5,
   "id": "2342c200",
   "metadata": {
    "slideshow": {
     "slide_type": "fragment"
    }
   },
   "outputs": [],
   "source": [
    "open RealNumbers  // open the real numbers module\n",
    "let x,y,z = realvar3 \"x\" \"y\" \"z\" //Define 3 symbolic real variables"
   ]
  },
  {
   "cell_type": "code",
   "execution_count": 6,
   "id": "87eee73d",
   "metadata": {
    "slideshow": {
     "slide_type": "fragment"
    }
   },
   "outputs": [
    {
     "data": {
      "text/html": [
       "$\\frac{11 + 3x}{(-6 - x + x^{2})}$"
      ]
     },
     "execution_count": 6,
     "metadata": {},
     "output_type": "execute_result"
    }
   ],
   "source": [
    "let e1 = (3 * x + 11) / (x***2 - x - 6) // Define an algebraic expression\n",
    "e1"
   ]
  },
  {
   "cell_type": "code",
   "execution_count": 7,
   "id": "d0f2a31a",
   "metadata": {
    "slideshow": {
     "slide_type": "fragment"
    }
   },
   "outputs": [
    {
     "data": {
      "text/html": [
       "$\\frac{11 + 3x}{((x - 3)(2 + x))}$"
      ]
     },
     "execution_count": 7,
     "metadata": {},
     "output_type": "execute_result"
    }
   ],
   "source": [
    "factor e1 // Factor expression"
   ]
  },
  {
   "cell_type": "code",
   "execution_count": 8,
   "id": "63045f1f",
   "metadata": {
    "slideshow": {
     "slide_type": "fragment"
    }
   },
   "outputs": [
    {
     "data": {
      "text/html": [
       "$\\frac{4}{(x - 3)} - \\frac{1}{(2 + x)}$"
      ]
     },
     "execution_count": 8,
     "metadata": {},
     "output_type": "execute_result"
    }
   ],
   "source": [
    "e1 |> factor |> partfrac_of x // Factor and expand into partial fractions  "
   ]
  },
  {
   "cell_type": "markdown",
   "id": "c69c3b1d",
   "metadata": {
    "slideshow": {
     "slide_type": "slide"
    }
   },
   "source": [
    "### Sylvester :: Expressions and Functions"
   ]
  },
  {
   "cell_type": "code",
   "execution_count": 9,
   "id": "metallic-prospect",
   "metadata": {
    "slideshow": {
     "slide_type": "fragment"
    },
    "tags": []
   },
   "outputs": [
    {
     "data": {
      "text/html": [
       "$f(x) = 1 + x^{3}$"
      ]
     },
     "execution_count": 9,
     "metadata": {},
     "output_type": "execute_result"
    }
   ],
   "source": [
    "let f = realfun \"f\" (x *** 3 + 1) // Define a mathematical function of a single variable\n",
    "f"
   ]
  },
  {
   "cell_type": "code",
   "execution_count": 10,
   "id": "baf37946",
   "metadata": {
    "slideshow": {
     "slide_type": "fragment"
    }
   },
   "outputs": [
    {
     "data": {
      "text/html": [
       "$126$"
      ]
     },
     "execution_count": 10,
     "metadata": {},
     "output_type": "execute_result"
    }
   ],
   "source": [
    "f[5] // Sylvester functions overload the [] operator for mathematical function evaluation"
   ]
  },
  {
   "cell_type": "code",
   "execution_count": 11,
   "id": "3afb169c",
   "metadata": {
    "slideshow": {
     "slide_type": "fragment"
    }
   },
   "outputs": [
    {
     "data": {
      "text/html": [
       "$29 + a^{3}$"
      ]
     },
     "execution_count": 11,
     "metadata": {},
     "output_type": "execute_result"
    }
   ],
   "source": [
    "let a = realconst \"a\" // Sylvester functions are fully symbolic e.g. define a real constant \"a\"\n",
    "f[3] + f[a] // This is a symbolic scalar expression "
   ]
  },
  {
   "cell_type": "code",
   "execution_count": 12,
   "id": "e1902c86",
   "metadata": {
    "slideshow": {
     "slide_type": "fragment"
    }
   },
   "outputs": [
    {
     "data": {
      "text/html": [
       "$245$"
      ]
     },
     "execution_count": 12,
     "metadata": {},
     "output_type": "execute_result"
    }
   ],
   "source": [
    "fix {|a=6.|} (f[3] + f[a]) // We can fix constants and variables in symbolic expressions "
   ]
  },
  {
   "cell_type": "markdown",
   "id": "643e70d3",
   "metadata": {
    "slideshow": {
     "slide_type": "slide"
    }
   },
   "source": [
    "### Sylvester :: Calculus"
   ]
  },
  {
   "cell_type": "code",
   "execution_count": 13,
   "id": "5ebf71f4",
   "metadata": {
    "slideshow": {
     "slide_type": "fragment"
    }
   },
   "outputs": [
    {
     "data": {
      "text/html": [
       "$f'(x) = 3x^2$"
      ]
     },
     "execution_count": 13,
     "metadata": {},
     "output_type": "execute_result"
    }
   ],
   "source": [
    "diff x f // Find the derivative of f wrt x"
   ]
  },
  {
   "cell_type": "code",
   "execution_count": 14,
   "id": "fbf2975d",
   "metadata": {
    "slideshow": {
     "slide_type": "fragment"
    }
   },
   "outputs": [
    {
     "data": {
      "text/html": [
       "$F(x) = x + \\frac{1}{4}x^4$"
      ]
     },
     "execution_count": 14,
     "metadata": {},
     "output_type": "execute_result"
    }
   ],
   "source": [
    "integrate x f"
   ]
  },
  {
   "cell_type": "code",
   "execution_count": 15,
   "id": "33944f25",
   "metadata": {
    "slideshow": {
     "slide_type": "fragment"
    }
   },
   "outputs": [
    {
     "data": {
      "text/html": [
       "$\\frac{1}{2}a^2 + \\frac{1}{20}a^5$"
      ]
     },
     "execution_count": 15,
     "metadata": {},
     "output_type": "execute_result"
    }
   ],
   "source": [
    "// We can combine operations on functions in the usual way, e.g. integrate f twice wrt x and find limit as x -> a\n",
    "integrate x f |> integrate x |> lim x a"
   ]
  },
  {
   "cell_type": "code",
   "execution_count": 16,
   "id": "a07659d5",
   "metadata": {
    "slideshow": {
     "slide_type": "fragment"
    }
   },
   "outputs": [
    {
     "data": {
      "text/html": [
       "$g(x,y) = a + -6xy + (x + y)^{3}$"
      ]
     },
     "execution_count": 16,
     "metadata": {},
     "output_type": "execute_result"
    }
   ],
   "source": [
    "let g = realfun2 \"g\" ((x+y)***3 - 6*x*y + a) //Define a function of 2 variables\n",
    "g"
   ]
  },
  {
   "cell_type": "code",
   "execution_count": 17,
   "id": "67be0d49",
   "metadata": {
    "slideshow": {
     "slide_type": "fragment"
    }
   },
   "outputs": [
    {
     "data": {
      "text/html": [
       "$g_y(x,y) = (3)((x + y)^{2}) - 6x$"
      ]
     },
     "execution_count": 17,
     "metadata": {},
     "output_type": "execute_result"
    }
   ],
   "source": [
    "diff y g // partial diffrentiation wrt y"
   ]
  },
  {
   "cell_type": "code",
   "execution_count": 18,
   "id": "ed95e9ec",
   "metadata": {
    "slideshow": {
     "slide_type": "fragment"
    }
   },
   "outputs": [
    {
     "data": {
      "text/html": [
       "$0$"
      ]
     },
     "execution_count": 18,
     "metadata": {},
     "output_type": "execute_result"
    }
   ],
   "source": [
    "lim x inf ((3 + x) / (x *** 2 + a)) //Find limits at infinity for an expression or function"
   ]
  },
  {
   "cell_type": "markdown",
   "id": "4d3fe54b",
   "metadata": {
    "slideshow": {
     "slide_type": "slide"
    }
   },
   "source": [
    "### Sylvester :: Trigonometric Functions"
   ]
  },
  {
   "cell_type": "code",
   "execution_count": 19,
   "id": "4370e5db",
   "metadata": {
    "slideshow": {
     "slide_type": "fragment"
    }
   },
   "outputs": [
    {
     "data": {
      "text/html": [
       "$g(x) = \\sin{2.0x} + (\\cos{x})^{2}$"
      ]
     },
     "execution_count": 19,
     "metadata": {},
     "output_type": "execute_result"
    }
   ],
   "source": [
    "// Define a trigonometric function\n",
    "let g = realfun \"g\" (sin (2*x) + (cos x) *** 2)\n",
    "g"
   ]
  },
  {
   "cell_type": "code",
   "execution_count": 20,
   "id": "226e00c6",
   "metadata": {
    "slideshow": {
     "slide_type": "fragment"
    }
   },
   "outputs": [
    {
     "data": {
      "text/html": [
       "$g'(x) = ((-2)(\\sin{x}))(\\cos{x}) + (2)(\\cos{2.0x})$"
      ]
     },
     "execution_count": 20,
     "metadata": {},
     "output_type": "execute_result"
    }
   ],
   "source": [
    "let h = diff x g\n",
    "h"
   ]
  },
  {
   "cell_type": "code",
   "execution_count": 21,
   "id": "8f0ee6c1",
   "metadata": {
    "slideshow": {
     "slide_type": "fragment"
    }
   },
   "outputs": [
    {
     "data": {
      "text/html": [
       "$(2)(\\cos{2.0x}) - \\sin{2.0x}$"
      ]
     },
     "execution_count": 21,
     "metadata": {},
     "output_type": "execute_result"
    }
   ],
   "source": [
    "trigreduce h //simplify expression using well-known trigonometric identities"
   ]
  },
  {
   "cell_type": "markdown",
   "id": "7e466574",
   "metadata": {
    "slideshow": {
     "slide_type": "slide"
    }
   },
   "source": [
    "### Sylvester :: Solving Equations"
   ]
  },
  {
   "cell_type": "code",
   "execution_count": 22,
   "id": "d994514b",
   "metadata": {
    "slideshow": {
     "slide_type": "fragment"
    }
   },
   "outputs": [
    {
     "data": {
      "text/html": [
       "$$y - 5x = 30 - {2}{a}$$$$x - y = 5 + a$$$$z = 2x + 5y$$"
      ]
     },
     "execution_count": 22,
     "metadata": {},
     "output_type": "execute_result"
    }
   ],
   "source": [
    "// Define an equation system. Sylvester uses == operator to denote mathematical or logic equality\n",
    "let eqns = [\n",
    "    x - 6 *x + y == 30 - 2 * a\n",
    "    x - y == 5 + a\n",
    "    z == 5 * y + 2 * x\n",
    "]\n",
    "eqns"
   ]
  },
  {
   "cell_type": "code",
   "execution_count": 23,
   "id": "969cd5b5",
   "metadata": {
    "slideshow": {
     "slide_type": "fragment"
    }
   },
   "outputs": [
    {
     "data": {
      "text/html": [
       "$$x = (\\frac{1}{4})(a - 35), y = (\\frac{-1}{4})(55 + {3}{a}), z = (\\frac{-1}{4})(345 + {13}{a})$$"
      ]
     },
     "execution_count": 23,
     "metadata": {},
     "output_type": "execute_result"
    }
   ],
   "source": [
    "solve defaults [x;y;z] eqns //Solve the system for each variabe"
   ]
  },
  {
   "cell_type": "code",
   "execution_count": 24,
   "id": "849dbf43",
   "metadata": {
    "slideshow": {
     "slide_type": "fragment"
    }
   },
   "outputs": [
    {
     "data": {
      "text/html": [
       "$$x = -8, y = -16, z = -96$$"
      ]
     },
     "execution_count": 24,
     "metadata": {},
     "output_type": "execute_result"
    }
   ],
   "source": [
    "solve {|a=3.|} [x;y;z] eqns //Solve system when a=3"
   ]
  },
  {
   "cell_type": "markdown",
   "id": "c5f3f509",
   "metadata": {
    "slideshow": {
     "slide_type": "slide"
    }
   },
   "source": [
    "### Sylvester :: Solving Equations"
   ]
  },
  {
   "cell_type": "code",
   "execution_count": 25,
   "id": "402d693f",
   "metadata": {
    "slideshow": {
     "slide_type": "fragment"
    }
   },
   "outputs": [
    {
     "data": {
      "text/html": [
       "$$x = -5, x = 1$$"
      ]
     },
     "execution_count": 25,
     "metadata": {},
     "output_type": "execute_result"
    }
   ],
   "source": [
    "solve defaults [x] [x***2 + 4*x - 5== 0.] // Solve standard quadratic eqn"
   ]
  },
  {
   "cell_type": "code",
   "execution_count": 26,
   "id": "60b6f304",
   "metadata": {
    "slideshow": {
     "slide_type": "fragment"
    }
   },
   "outputs": [
    {
     "data": {
      "text/html": [
       "$$3x - y = -2$$$$2x^2 - y = 0$$"
      ]
     },
     "execution_count": 26,
     "metadata": {},
     "output_type": "execute_result"
    }
   ],
   "source": [
    "// Define non-linear system\n",
    "let eqns2 = [\n",
    "    3*x - y == -2.\n",
    "    2 *(x *** 2) - y == 0.\n",
    "]\n",
    "eqns2"
   ]
  },
  {
   "cell_type": "code",
   "execution_count": 27,
   "id": "a7b9d554",
   "metadata": {
    "slideshow": {
     "slide_type": "fragment"
    }
   },
   "outputs": [
    {
     "data": {
      "text/html": [
       "$$x = 2, y = 8$$"
      ]
     },
     "execution_count": 27,
     "metadata": {},
     "output_type": "execute_result"
    }
   ],
   "source": [
    "solve defaults [x;y] eqns2"
   ]
  },
  {
   "cell_type": "markdown",
   "id": "e9e86da7",
   "metadata": {
    "slideshow": {
     "slide_type": "slide"
    }
   },
   "source": [
    "### Sylvester :: Optimization"
   ]
  },
  {
   "cell_type": "code",
   "execution_count": 28,
   "id": "8c9ae16d",
   "metadata": {},
   "outputs": [
    {
     "data": {
      "text/html": [
       "<details open=\"open\" class=\"dni-treeview\"><summary><span class=\"dni-code-hint\"><code>Some([y = 0.5; x = 7.5])</code></span></summary><div><table><thead><tr></tr></thead><tbody><tr><td>Value</td><td>$$y = \\frac{1}{2}, x = 7.5$$</td></tr></tbody></table></div></details><style>\r\n",
       ".dni-code-hint {\r\n",
       "    font-style: italic;\r\n",
       "    overflow: hidden;\r\n",
       "    white-space: nowrap;\r\n",
       "}\r\n",
       ".dni-treeview {\r\n",
       "    white-space: nowrap;\r\n",
       "}\r\n",
       ".dni-treeview td {\r\n",
       "    vertical-align: top;\r\n",
       "    text-align: start;\r\n",
       "}\r\n",
       "details.dni-treeview {\r\n",
       "    padding-left: 1em;\r\n",
       "}\r\n",
       "table td {\r\n",
       "    text-align: start;\r\n",
       "}\r\n",
       "table tr { \r\n",
       "    vertical-align: top; \r\n",
       "    margin: 0em 0px;\r\n",
       "}\r\n",
       "table tr td pre \r\n",
       "{ \r\n",
       "    vertical-align: top !important; \r\n",
       "    margin: 0em 0px !important;\r\n",
       "} \r\n",
       "table th {\r\n",
       "    text-align: start;\r\n",
       "}\r\n",
       "</style>"
      ]
     },
     "execution_count": 28,
     "metadata": {},
     "output_type": "execute_result"
    }
   ],
   "source": [
    "//maximize an objective function g using the following constraints\n",
    "maximize (40 * x + 3 * y) [\n",
    "    x + y <+ 12. // is less-than operator\n",
    "    2*x + y <+ 16. \n",
    "    x +> 0. //>+ is greater-than operator\n",
    "    y +> 0.\n",
    "]"
   ]
  },
  {
   "cell_type": "code",
   "execution_count": 29,
   "id": "7a35d8fb",
   "metadata": {},
   "outputs": [
    {
     "data": {
      "text/html": [
       "<details open=\"open\" class=\"dni-treeview\"><summary><span class=\"dni-code-hint\"><code>Some([x = 2; y = 48])</code></span></summary><div><table><thead><tr></tr></thead><tbody><tr><td>Value</td><td>$$x = 2, y = 48$$</td></tr></tbody></table></div></details><style>\r\n",
       ".dni-code-hint {\r\n",
       "    font-style: italic;\r\n",
       "    overflow: hidden;\r\n",
       "    white-space: nowrap;\r\n",
       "}\r\n",
       ".dni-treeview {\r\n",
       "    white-space: nowrap;\r\n",
       "}\r\n",
       ".dni-treeview td {\r\n",
       "    vertical-align: top;\r\n",
       "    text-align: start;\r\n",
       "}\r\n",
       "details.dni-treeview {\r\n",
       "    padding-left: 1em;\r\n",
       "}\r\n",
       "table td {\r\n",
       "    text-align: start;\r\n",
       "}\r\n",
       "table tr { \r\n",
       "    vertical-align: top; \r\n",
       "    margin: 0em 0px;\r\n",
       "}\r\n",
       "table tr td pre \r\n",
       "{ \r\n",
       "    vertical-align: top !important; \r\n",
       "    margin: 0em 0px !important;\r\n",
       "} \r\n",
       "table th {\r\n",
       "    text-align: start;\r\n",
       "}\r\n",
       "</style>"
      ]
     },
     "execution_count": 29,
     "metadata": {},
     "output_type": "execute_result"
    }
   ],
   "source": [
    "maximize (x*y) [ //maximize area of a rectangle given following constraints\n",
    "    2*(x + y) == 100.\n",
    "    x == 2. \n",
    "    y <+ 50. //Less-than operator\n",
    "] "
   ]
  },
  {
   "cell_type": "markdown",
   "id": "d25c580f",
   "metadata": {
    "slideshow": {
     "slide_type": "slide"
    }
   },
   "source": [
    "## Sylvester :: Theorems"
   ]
  },
  {
   "cell_type": "code",
   "execution_count": 29,
   "id": "7f5da2ed",
   "metadata": {
    "slideshow": {
     "slide_type": "fragment"
    }
   },
   "outputs": [
    {
     "data": {
      "text/html": [
       "<div class=\"dni-plaintext\"><pre>True</pre></div><style>\r\n",
       ".dni-code-hint {\r\n",
       "    font-style: italic;\r\n",
       "    overflow: hidden;\r\n",
       "    white-space: nowrap;\r\n",
       "}\r\n",
       ".dni-treeview {\r\n",
       "    white-space: nowrap;\r\n",
       "}\r\n",
       ".dni-treeview td {\r\n",
       "    vertical-align: top;\r\n",
       "    text-align: start;\r\n",
       "}\r\n",
       "details.dni-treeview {\r\n",
       "    padding-left: 1em;\r\n",
       "}\r\n",
       "table td {\r\n",
       "    text-align: start;\r\n",
       "}\r\n",
       "table tr { \r\n",
       "    vertical-align: top; \r\n",
       "    margin: 0em 0px;\r\n",
       "}\r\n",
       "table tr td pre \r\n",
       "{ \r\n",
       "    vertical-align: top !important; \r\n",
       "    margin: 0em 0px !important;\r\n",
       "} \r\n",
       "table th {\r\n",
       "    text-align: start;\r\n",
       "}\r\n",
       "</style>"
      ]
     },
     "execution_count": 29,
     "metadata": {},
     "output_type": "execute_result"
    }
   ],
   "source": [
    "// In the theory of real numbers they are equal due to the axiom of commutativity\n",
    "real_numbers |- (2*(x + y) == 2*x + 2*y)"
   ]
  },
  {
   "cell_type": "code",
   "execution_count": 30,
   "id": "f82a9de9",
   "metadata": {
    "slideshow": {
     "slide_type": "fragment"
    }
   },
   "outputs": [
    {
     "name": "stdout",
     "output_type": "stream",
     "text": [
      "Proof log level is 1. Short proofs of lemmas won't be printed.\n",
      "Proof of 2.0 * (x + y) = 2.0 * x + 2.0 * y:\n",
      "|- 2.0 * (x + y) = 2.0 * x + 2.0 * y. [Axiom of Distributivity]\n",
      "Proof complete.\n"
     ]
    }
   ],
   "source": [
    "theorem real_numbers (2*(x + y) == 2*x + 2*y) [] |> ignore // no proof needed"
   ]
  },
  {
   "cell_type": "markdown",
   "id": "ed61899c",
   "metadata": {
    "slideshow": {
     "slide_type": "slide"
    }
   },
   "source": [
    "## Sylvester :: Theorems"
   ]
  },
  {
   "cell_type": "code",
   "execution_count": 31,
   "id": "3c58bd62",
   "metadata": {
    "slideshow": {
     "slide_type": "fragment"
    }
   },
   "outputs": [
    {
     "name": "stdout",
     "output_type": "stream",
     "text": [
      "Proof log level is 1. Short proofs of lemmas won't be printed.\n",
      "Proof of 2.0 * (x + y) + 2.0 * z = 2.0 * (x + y * z):\n",
      "Proof incomplete. Current state: 2.0 * (x + y) + 2.0 * z = 2.0 * (x + y * z).\n"
     ]
    },
    {
     "ename": "Error",
     "evalue": "System.Exception: The provided proof of theorem 2.0 * (x + y) + 2.0 * z = 2.0 * (x + y * z) is not complete.\r\n   at Microsoft.FSharp.Core.PrintfModule.PrintFormatToStringThenFail@1448.Invoke(String message)\r\n   at Sylvester.Theorem..ctor(FSharpExpr expr, Proof proof) in C:\\Projects\\Sylvester.git\\src\\Lang\\Sylvester.Prover\\Proof.fs:line 395\r\n   at Sylvester.ProofModule.theorem(Theory theory, Prop e, FSharpList`1 steps) in C:\\Projects\\Sylvester.git\\src\\Lang\\Sylvester.Prover\\Proof.fs:line 528\r\n   at <StartupCode$FSI_0034>.$FSI_0034.main@()\r\n   at System.RuntimeMethodHandle.InvokeMethod(Object target, Void** arguments, Signature sig, Boolean isConstructor)\r\n   at System.Reflection.MethodBaseInvoker.InvokeWithNoArgs(Object obj, BindingFlags invokeAttr)",
     "output_type": "error",
     "traceback": [
      "System.Exception: The provided proof of theorem 2.0 * (x + y) + 2.0 * z = 2.0 * (x + y * z) is not complete.\r\n   at Microsoft.FSharp.Core.PrintfModule.PrintFormatToStringThenFail@1448.Invoke(String message)\r\n   at Sylvester.Theorem..ctor(FSharpExpr expr, Proof proof) in C:\\Projects\\Sylvester.git\\src\\Lang\\Sylvester.Prover\\Proof.fs:line 395\r\n   at Sylvester.ProofModule.theorem(Theory theory, Prop e, FSharpList`1 steps) in C:\\Projects\\Sylvester.git\\src\\Lang\\Sylvester.Prover\\Proof.fs:line 528\r\n   at <StartupCode$FSI_0034>.$FSI_0034.main@()\r\n   at System.RuntimeMethodHandle.InvokeMethod(Object target, Void** arguments, Signature sig, Boolean isConstructor)\r\n   at System.Reflection.MethodBaseInvoker.InvokeWithNoArgs(Object obj, BindingFlags invokeAttr)",
      "   at Microsoft.FSharp.Core.PrintfModule.PrintFormatToStringThenFail@1448.Invoke(String message)",
      "   at Sylvester.Theorem..ctor(FSharpExpr expr, Proof proof) in C:\\Projects\\Sylvester.git\\src\\Lang\\Sylvester.Prover\\Proof.fs:line 395",
      "   at Sylvester.ProofModule.theorem(Theory theory, Prop e, FSharpList`1 steps) in C:\\Projects\\Sylvester.git\\src\\Lang\\Sylvester.Prover\\Proof.fs:line 528",
      "   at <StartupCode$FSI_0034>.$FSI_0034.main@()",
      "   at System.RuntimeMethodHandle.InvokeMethod(Object target, Void** arguments, Signature sig, Boolean isConstructor)",
      "   at System.Reflection.MethodBaseInvoker.InvokeWithNoArgs(Object obj, BindingFlags invokeAttr)"
     ]
    }
   ],
   "source": [
    "theorem real_numbers (2*(x + y) + 2*z == (2 * (x + (y * z)))) [] //this needs a proof "
   ]
  },
  {
   "cell_type": "markdown",
   "id": "ebecb444",
   "metadata": {
    "slideshow": {
     "slide_type": "slide"
    }
   },
   "source": [
    "## Sylvester :: Theorems"
   ]
  },
  {
   "cell_type": "code",
   "execution_count": 11,
   "id": "a3a671b8",
   "metadata": {
    "slideshow": {
     "slide_type": "fragment"
    }
   },
   "outputs": [
    {
     "name": "stdout",
     "output_type": "stream",
     "text": [
      "Proof log level is 1. Short proofs of lemmas won't be printed.\n",
      "Proof of 2.0 * (x + y) + 2.0 * z = 2.0 * (x + y + z):\n",
      "1. Multipication distributes over addition in left of expression: 2.0 * (x + y) + 2.0 * z = 2.0 * (x + y + z) → 2.0 * x + 2.0 * y + 2.0 * z = 2.0 * (x + y + z).\n",
      "Proof incomplete. Current state: 2.0 * x + 2.0 * y + 2.0 * z = 2.0 * (x + y + z).\n",
      "2. Multipication distributes over addition in right of expression: 2.0 * x + 2.0 * y + 2.0 * z = 2.0 * (x + y + z) → 2.0 * x + 2.0 * y + 2.0 * z = 2.0 * (x + y) + 2.0 * z.\n",
      "Proof incomplete. Current state: 2.0 * x + 2.0 * y + 2.0 * z = 2.0 * (x + y) + 2.0 * z.\n",
      "3. Multipication distributes over addition in right of expression: 2.0 * x + 2.0 * y + 2.0 * z = 2.0 * (x + y) + 2.0 * z → 2.0 * x + 2.0 * y + 2.0 * z = 2.0 * x + 2.0 * y + 2.0 * z.\n",
      "|- 2.0 * x + 2.0 * y + 2.0 * z = 2.0 * x + 2.0 * y + 2.0 * z. [Logical Axiom of Symbolic Equality]\n",
      "Proof complete.\n"
     ]
    }
   ],
   "source": [
    "theorem real_numbers (2*(x + y) + 2*z == (2 * (x + (y + z)))) [\n",
    "    apply_left distrib_mul_add\n",
    "    apply_right distrib_mul_add\n",
    "    apply_right distrib_mul_add\n",
    "] |> ignore"
   ]
  },
  {
   "cell_type": "markdown",
   "id": "c48b3751",
   "metadata": {
    "slideshow": {
     "slide_type": "slide"
    }
   },
   "source": [
    "### Sylvester :: Language Internals"
   ]
  },
  {
   "cell_type": "markdown",
   "id": "2eb2f9ee",
   "metadata": {
    "slideshow": {
     "slide_type": "fragment"
    }
   },
   "source": [
    "* Sylvester uses F# quotations to represent symbolic expressions"
   ]
  },
  {
   "cell_type": "code",
   "execution_count": 32,
   "id": "8a9f6686",
   "metadata": {
    "slideshow": {
     "slide_type": "fragment"
    }
   },
   "outputs": [
    {
     "data": {
      "text/html": [
       "<details open=\"open\" class=\"dni-treeview\"><summary><span class=\"dni-code-hint\"><code>Call (None, op_Multiply,\\n      [Value (2.0), Call (None, op_Exponentiation, [x, Value (2.0)])])</code></span></summary><div><table><thead><tr></tr></thead><tbody><tr><td>Raw</td><td><details class=\"dni-treeview\"><summary><span class=\"dni-code-hint\"><code>Call (None, op_Multiply,\\n      [Value (2.0), Call (None, op_Exponentiation, [x, Value (2.0)])])</code></span></summary><div><table><thead><tr></tr></thead><tbody><tr><td>Raw</td><td><details class=\"dni-treeview\"><summary><span class=\"dni-code-hint\"><code>Call (None, op_Multiply,\\n      [Value (2.0), Call (None, op_Exponentiation, [x, Value (2.0)])])</code></span></summary><div><table><thead><tr></tr></thead><tbody><tr><td>Raw</td><td><details class=\"dni-treeview\"><summary><span class=\"dni-code-hint\"><code>Call (None, op_Multiply,\\n      [Value (2.0), Call (None, op_Exponentiation, [x, Value (2.0)])])</code></span></summary><div><table><thead><tr></tr></thead><tbody><tr><td>Raw</td><td><details class=\"dni-treeview\"><summary><span class=\"dni-code-hint\"><code>Call (None, op_Multiply,\\n      [Value (2.0), Call (None, op_Exponentiation, [x, Value (2.0)])])</code></span></summary><div><table><thead><tr></tr></thead><tbody><tr><td>Raw</td><td><details class=\"dni-treeview\"><summary><span class=\"dni-code-hint\"><code>Call (None, op_Multiply,\\n      [Value (2.0), Call (None, op_Exponentiation, [x, Value (2.0)])])</code></span></summary><div><table><thead><tr></tr></thead><tbody><tr><td>Raw</td><td>Call (None, op_Multiply,\n",
       "      [Value (2.0), Call (None, op_Exponentiation, [x, Value (2.0)])])</td></tr><tr><td>CustomAttributes</td><td>[  ]</td></tr><tr><td>Type</td><td>System.Double</td></tr></tbody></table></div></details></td></tr><tr><td>CustomAttributes</td><td><details class=\"dni-treeview\"><summary><span class=\"dni-code-hint\"><code>[  ]</code></span></summary><div><table><thead><tr></tr></thead><tbody><tr><td>HeadOrDefault</td><td><div class=\"dni-plaintext\"><pre>&lt;null&gt;</pre></div></td></tr><tr><td>TailOrNull</td><td><div class=\"dni-plaintext\"><pre>&lt;null&gt;</pre></div></td></tr><tr><td>Head</td><td>System.InvalidOperationException: The input list was empty.\r\n",
       "   at Microsoft.FSharp.Collections.FSharpList`1.get_Head() in D:\\a\\_work\\1\\s\\src\\FSharp.Core\\prim-types.fs:line 4142\r\n",
       "   at lambda_method152(Closure, FSharpList`1)\r\n",
       "   at Microsoft.DotNet.Interactive.Formatting.MemberAccessor`1.GetValueOrException(T instance) in D:\\a\\_work\\1\\s\\src\\Microsoft.DotNet.Interactive.Formatting\\MemberAccessor{T}.cs:line 58</td></tr><tr><td>Tail</td><td>System.InvalidOperationException: The input list was empty.\r\n",
       "   at Microsoft.FSharp.Collections.FSharpList`1.get_Tail() in D:\\a\\_work\\1\\s\\src\\FSharp.Core\\prim-types.fs:line 4147\r\n",
       "   at lambda_method153(Closure, FSharpList`1)\r\n",
       "   at Microsoft.DotNet.Interactive.Formatting.MemberAccessor`1.GetValueOrException(T instance) in D:\\a\\_work\\1\\s\\src\\Microsoft.DotNet.Interactive.Formatting\\MemberAccessor{T}.cs:line 58</td></tr><tr><td><i>(values)</i></td><td><i>(empty)</i></td></tr></tbody></table></div></details></td></tr><tr><td>Type</td><td><span><a href=\"https://docs.microsoft.com/dotnet/api/system.double?view=net-7.0\">System.Double</a></span></td></tr></tbody></table></div></details></td></tr><tr><td>CustomAttributes</td><td><details class=\"dni-treeview\"><summary><span class=\"dni-code-hint\"><code>[  ]</code></span></summary><div><table><thead><tr></tr></thead><tbody><tr><td>HeadOrDefault</td><td><div class=\"dni-plaintext\"><pre>&lt;null&gt;</pre></div></td></tr><tr><td>TailOrNull</td><td><div class=\"dni-plaintext\"><pre>&lt;null&gt;</pre></div></td></tr><tr><td>Head</td><td><details class=\"dni-treeview\"><summary><span class=\"dni-code-hint\"><code>System.InvalidOperationException: The input list was empty.\\r\\n   at Microsoft.FSharp.Collections.FSharpList`1.get_Head() in D:\\a\\_work\\1\\s\\src\\FSharp.Core\\prim-types.fs:line 4142\\r\\n   at lambda_method152(Closure, FSharpList`1)\\r\\n   at Microsoft.DotNet.Interactive.Formatting.MemberAccessor`1.GetVa...</code></span></summary><div><table><thead><tr></tr></thead><tbody><tr><td>TargetSite</td><td>T get_Head()</td></tr><tr><td>Message</td><td>The input list was empty.</td></tr><tr><td>Data</td><td>[  ]</td></tr><tr><td>InnerException</td><td><div class=\"dni-plaintext\"><pre>&lt;null&gt;</pre></div></td></tr><tr><td>HelpLink</td><td><div class=\"dni-plaintext\"><pre>&lt;null&gt;</pre></div></td></tr><tr><td>Source</td><td>FSharp.Core</td></tr><tr><td>HResult</td><td>-2146233079</td></tr><tr><td>StackTrace</td><td>   at Microsoft.FSharp.Collections.FSharpList`1.get_Head() in D:\\a\\_work\\1\\s\\src\\FSharp.Core\\prim-types.fs:line 4142\r\n",
       "   at lambda_method152(Closure, FSharpList`1)\r\n",
       "   at Microsoft.DotNet.Interactive.Formatting.MemberAccessor`1.GetValueOrException(T instance) in D:\\a\\_work\\1\\s\\src\\Microsoft.DotNet.Interactive.Formatting\\MemberAccessor{T}.cs:line 58</td></tr></tbody></table></div></details></td></tr><tr><td>Tail</td><td><details class=\"dni-treeview\"><summary><span class=\"dni-code-hint\"><code>System.InvalidOperationException: The input list was empty.\\r\\n   at Microsoft.FSharp.Collections.FSharpList`1.get_Tail() in D:\\a\\_work\\1\\s\\src\\FSharp.Core\\prim-types.fs:line 4147\\r\\n   at lambda_method153(Closure, FSharpList`1)\\r\\n   at Microsoft.DotNet.Interactive.Formatting.MemberAccessor`1.GetVa...</code></span></summary><div><table><thead><tr></tr></thead><tbody><tr><td>TargetSite</td><td>Microsoft.FSharp.Collections.FSharpList`1[T] get_Tail()</td></tr><tr><td>Message</td><td>The input list was empty.</td></tr><tr><td>Data</td><td>[  ]</td></tr><tr><td>InnerException</td><td><div class=\"dni-plaintext\"><pre>&lt;null&gt;</pre></div></td></tr><tr><td>HelpLink</td><td><div class=\"dni-plaintext\"><pre>&lt;null&gt;</pre></div></td></tr><tr><td>Source</td><td>FSharp.Core</td></tr><tr><td>HResult</td><td>-2146233079</td></tr><tr><td>StackTrace</td><td>   at Microsoft.FSharp.Collections.FSharpList`1.get_Tail() in D:\\a\\_work\\1\\s\\src\\FSharp.Core\\prim-types.fs:line 4147\r\n",
       "   at lambda_method153(Closure, FSharpList`1)\r\n",
       "   at Microsoft.DotNet.Interactive.Formatting.MemberAccessor`1.GetValueOrException(T instance) in D:\\a\\_work\\1\\s\\src\\Microsoft.DotNet.Interactive.Formatting\\MemberAccessor{T}.cs:line 58</td></tr></tbody></table></div></details></td></tr><tr><td><i>(values)</i></td><td><i>(empty)</i></td></tr></tbody></table></div></details></td></tr><tr><td>Type</td><td><span><a href=\"https://docs.microsoft.com/dotnet/api/system.double?view=net-7.0\">System.Double</a></span></td></tr></tbody></table></div></details></td></tr><tr><td>CustomAttributes</td><td><details class=\"dni-treeview\"><summary><span class=\"dni-code-hint\"><code>[  ]</code></span></summary><div><table><thead><tr></tr></thead><tbody><tr><td>HeadOrDefault</td><td><div class=\"dni-plaintext\"><pre>&lt;null&gt;</pre></div></td></tr><tr><td>TailOrNull</td><td><div class=\"dni-plaintext\"><pre>&lt;null&gt;</pre></div></td></tr><tr><td>Head</td><td><details class=\"dni-treeview\"><summary><span class=\"dni-code-hint\"><code>System.InvalidOperationException: The input list was empty.\\r\\n   at Microsoft.FSharp.Collections.FSharpList`1.get_Head() in D:\\a\\_work\\1\\s\\src\\FSharp.Core\\prim-types.fs:line 4142\\r\\n   at lambda_method152(Closure, FSharpList`1)\\r\\n   at Microsoft.DotNet.Interactive.Formatting.MemberAccessor`1.GetVa...</code></span></summary><div><table><thead><tr></tr></thead><tbody><tr><td>TargetSite</td><td><details class=\"dni-treeview\"><summary><span class=\"dni-code-hint\"><code>T get_Head()</code></span></summary><div><table><thead><tr></tr></thead><tbody><tr><td>Name</td><td>get_Head</td></tr><tr><td>DeclaringType</td><td>Microsoft.FSharp.Collections.FSharpList`1[T]</td></tr><tr><td>ReflectedType</td><td>Microsoft.FSharp.Collections.FSharpList`1[T]</td></tr><tr><td>MemberType</td><td>Method</td></tr><tr><td>MetadataToken</td><td>100663765</td></tr><tr><td>Module</td><td>FSharp.Core.dll</td></tr><tr><td>IsSecurityCritical</td><td>True</td></tr><tr><td>IsSecuritySafeCritical</td><td>False</td></tr><tr><td>IsSecurityTransparent</td><td>False</td></tr><tr><td>MethodHandle</td><td>System.RuntimeMethodHandle</td></tr><tr><td>Attributes</td><td>Public, HideBySig, SpecialName</td></tr><tr><td>CallingConvention</td><td>Standard, HasThis</td></tr><tr><td>ReturnType</td><td>T</td></tr><tr><td>ReturnTypeCustomAttributes</td><td>T</td></tr><tr><td>ReturnParameter</td><td>T</td></tr><tr><td>IsCollectible</td><td>False</td></tr><tr><td>IsGenericMethod</td><td>False</td></tr><tr><td>IsGenericMethodDefinition</td><td>False</td></tr><tr><td>ContainsGenericParameters</td><td>True</td></tr><tr><td>MethodImplementationFlags</td><td>IL</td></tr><tr><td>IsAbstract</td><td>False</td></tr><tr><td>IsConstructor</td><td>False</td></tr><tr><td>IsFinal</td><td>False</td></tr><tr><td>IsHideBySig</td><td>True</td></tr><tr><td>IsSpecialName</td><td>True</td></tr><tr><td>IsStatic</td><td>False</td></tr><tr><td>IsVirtual</td><td>False</td></tr><tr><td>IsAssembly</td><td>False</td></tr><tr><td>IsFamily</td><td>False</td></tr><tr><td>IsFamilyAndAssembly</td><td>False</td></tr><tr><td>IsFamilyOrAssembly</td><td>False</td></tr><tr><td>IsPrivate</td><td>False</td></tr><tr><td>IsPublic</td><td>True</td></tr><tr><td>IsConstructedGenericMethod</td><td>False</td></tr><tr><td>CustomAttributes</td><td>[  ]</td></tr></tbody></table></div></details></td></tr><tr><td>Message</td><td><div class=\"dni-plaintext\"><pre>The input list was empty.</pre></div></td></tr><tr><td>Data</td><td><i>(empty)</i></td></tr><tr><td>InnerException</td><td><div class=\"dni-plaintext\"><pre>&lt;null&gt;</pre></div></td></tr><tr><td>HelpLink</td><td><div class=\"dni-plaintext\"><pre>&lt;null&gt;</pre></div></td></tr><tr><td>Source</td><td><div class=\"dni-plaintext\"><pre>FSharp.Core</pre></div></td></tr><tr><td>HResult</td><td><div class=\"dni-plaintext\"><pre>-2146233079</pre></div></td></tr><tr><td>StackTrace</td><td><div class=\"dni-plaintext\"><pre>   at Microsoft.FSharp.Collections.FSharpList`1.get_Head() in D:\\a\\_work\\1\\s\\src\\FSharp.Core\\prim-types.fs:line 4142\r\n",
       "   at lambda_method152(Closure, FSharpList`1)\r\n",
       "   at Microsoft.DotNet.Interactive.Formatting.MemberAccessor`1.GetValueOrException(T instance) in D:\\a\\_work\\1\\s\\src\\Microsoft.DotNet.Interactive.Formatting\\MemberAccessor{T}.cs:line 58</pre></div></td></tr></tbody></table></div></details></td></tr><tr><td>Tail</td><td><details class=\"dni-treeview\"><summary><span class=\"dni-code-hint\"><code>System.InvalidOperationException: The input list was empty.\\r\\n   at Microsoft.FSharp.Collections.FSharpList`1.get_Tail() in D:\\a\\_work\\1\\s\\src\\FSharp.Core\\prim-types.fs:line 4147\\r\\n   at lambda_method153(Closure, FSharpList`1)\\r\\n   at Microsoft.DotNet.Interactive.Formatting.MemberAccessor`1.GetVa...</code></span></summary><div><table><thead><tr></tr></thead><tbody><tr><td>TargetSite</td><td><details class=\"dni-treeview\"><summary><span class=\"dni-code-hint\"><code>Microsoft.FSharp.Collections.FSharpList`1[T] get_Tail()</code></span></summary><div><table><thead><tr></tr></thead><tbody><tr><td>Name</td><td>get_Tail</td></tr><tr><td>DeclaringType</td><td>Microsoft.FSharp.Collections.FSharpList`1[T]</td></tr><tr><td>ReflectedType</td><td>Microsoft.FSharp.Collections.FSharpList`1[T]</td></tr><tr><td>MemberType</td><td>Method</td></tr><tr><td>MetadataToken</td><td>100663766</td></tr><tr><td>Module</td><td>FSharp.Core.dll</td></tr><tr><td>IsSecurityCritical</td><td>True</td></tr><tr><td>IsSecuritySafeCritical</td><td>False</td></tr><tr><td>IsSecurityTransparent</td><td>False</td></tr><tr><td>MethodHandle</td><td>System.RuntimeMethodHandle</td></tr><tr><td>Attributes</td><td>Public, HideBySig, SpecialName</td></tr><tr><td>CallingConvention</td><td>Standard, HasThis</td></tr><tr><td>ReturnType</td><td>Microsoft.FSharp.Collections.FSharpList`1[T]</td></tr><tr><td>ReturnTypeCustomAttributes</td><td>Microsoft.FSharp.Collections.FSharpList`1[T]</td></tr><tr><td>ReturnParameter</td><td>Microsoft.FSharp.Collections.FSharpList`1[T]</td></tr><tr><td>IsCollectible</td><td>False</td></tr><tr><td>IsGenericMethod</td><td>False</td></tr><tr><td>IsGenericMethodDefinition</td><td>False</td></tr><tr><td>ContainsGenericParameters</td><td>True</td></tr><tr><td>MethodImplementationFlags</td><td>IL</td></tr><tr><td>IsAbstract</td><td>False</td></tr><tr><td>IsConstructor</td><td>False</td></tr><tr><td>IsFinal</td><td>False</td></tr><tr><td>IsHideBySig</td><td>True</td></tr><tr><td>IsSpecialName</td><td>True</td></tr><tr><td>IsStatic</td><td>False</td></tr><tr><td>IsVirtual</td><td>False</td></tr><tr><td>IsAssembly</td><td>False</td></tr><tr><td>IsFamily</td><td>False</td></tr><tr><td>IsFamilyAndAssembly</td><td>False</td></tr><tr><td>IsFamilyOrAssembly</td><td>False</td></tr><tr><td>IsPrivate</td><td>False</td></tr><tr><td>IsPublic</td><td>True</td></tr><tr><td>IsConstructedGenericMethod</td><td>False</td></tr><tr><td>CustomAttributes</td><td>[  ]</td></tr></tbody></table></div></details></td></tr><tr><td>Message</td><td><div class=\"dni-plaintext\"><pre>The input list was empty.</pre></div></td></tr><tr><td>Data</td><td><i>(empty)</i></td></tr><tr><td>InnerException</td><td><div class=\"dni-plaintext\"><pre>&lt;null&gt;</pre></div></td></tr><tr><td>HelpLink</td><td><div class=\"dni-plaintext\"><pre>&lt;null&gt;</pre></div></td></tr><tr><td>Source</td><td><div class=\"dni-plaintext\"><pre>FSharp.Core</pre></div></td></tr><tr><td>HResult</td><td><div class=\"dni-plaintext\"><pre>-2146233079</pre></div></td></tr><tr><td>StackTrace</td><td><div class=\"dni-plaintext\"><pre>   at Microsoft.FSharp.Collections.FSharpList`1.get_Tail() in D:\\a\\_work\\1\\s\\src\\FSharp.Core\\prim-types.fs:line 4147\r\n",
       "   at lambda_method153(Closure, FSharpList`1)\r\n",
       "   at Microsoft.DotNet.Interactive.Formatting.MemberAccessor`1.GetValueOrException(T instance) in D:\\a\\_work\\1\\s\\src\\Microsoft.DotNet.Interactive.Formatting\\MemberAccessor{T}.cs:line 58</pre></div></td></tr></tbody></table></div></details></td></tr><tr><td><i>(values)</i></td><td><i>(empty)</i></td></tr></tbody></table></div></details></td></tr><tr><td>Type</td><td><span><a href=\"https://docs.microsoft.com/dotnet/api/system.double?view=net-7.0\">System.Double</a></span></td></tr></tbody></table></div></details></td></tr><tr><td>CustomAttributes</td><td><details class=\"dni-treeview\"><summary><span class=\"dni-code-hint\"><code>[  ]</code></span></summary><div><table><thead><tr></tr></thead><tbody><tr><td>HeadOrDefault</td><td><div class=\"dni-plaintext\"><pre>&lt;null&gt;</pre></div></td></tr><tr><td>TailOrNull</td><td><div class=\"dni-plaintext\"><pre>&lt;null&gt;</pre></div></td></tr><tr><td>Head</td><td><details class=\"dni-treeview\"><summary><span class=\"dni-code-hint\"><code>System.InvalidOperationException: The input list was empty.\\r\\n   at Microsoft.FSharp.Collections.FSharpList`1.get_Head() in D:\\a\\_work\\1\\s\\src\\FSharp.Core\\prim-types.fs:line 4142\\r\\n   at lambda_method152(Closure, FSharpList`1)\\r\\n   at Microsoft.DotNet.Interactive.Formatting.MemberAccessor`1.GetVa...</code></span></summary><div><table><thead><tr></tr></thead><tbody><tr><td>TargetSite</td><td><details class=\"dni-treeview\"><summary><span class=\"dni-code-hint\"><code>T get_Head()</code></span></summary><div><table><thead><tr></tr></thead><tbody><tr><td>Name</td><td><div class=\"dni-plaintext\"><pre>get_Head</pre></div></td></tr><tr><td>DeclaringType</td><td><span><a href=\"https://docs.microsoft.com/dotnet/api/microsoft.fsharp.collections.fsharplist-1?view=net-7.0\">Microsoft.FSharp.Collections.FSharpList&lt;T&gt;</a></span></td></tr><tr><td>ReflectedType</td><td><span><a href=\"https://docs.microsoft.com/dotnet/api/microsoft.fsharp.collections.fsharplist-1?view=net-7.0\">Microsoft.FSharp.Collections.FSharpList&lt;T&gt;</a></span></td></tr><tr><td>MemberType</td><td><span>Method</span></td></tr><tr><td>MetadataToken</td><td><div class=\"dni-plaintext\"><pre>100663765</pre></div></td></tr><tr><td>Module</td><td><details class=\"dni-treeview\"><summary><span class=\"dni-code-hint\"><code>FSharp.Core.dll</code></span></summary><div><table><thead><tr></tr></thead><tbody><tr><td>MDStreamVersion</td><td>131072</td></tr><tr><td>FullyQualifiedName</td><td>C:\\Users\\Allister\\.dotnet\\tools\\.store\\microsoft.dotnet-interactive\\1.0.561101\\microsoft.dotnet-interactive\\1.0.561101\\tools\\net8.0\\any\\FSharp.Core.dll</td></tr><tr><td>ModuleVersionId</td><td>57a9edab-ee61-61ca-19e6-f818cb833bb4</td></tr><tr><td>MetadataToken</td><td>1</td></tr><tr><td>ScopeName</td><td>FSharp.Core.dll</td></tr><tr><td>Name</td><td>FSharp.Core.dll</td></tr><tr><td>Assembly</td><td>FSharp.Core, Version=8.0.0.0, Culture=neutral, PublicKeyToken=b03f5f7f11d50a3a</td></tr><tr><td>ModuleHandle</td><td>System.ModuleHandle</td></tr><tr><td>CustomAttributes</td><td>[  ]</td></tr></tbody></table></div></details></td></tr><tr><td>IsSecurityCritical</td><td><div class=\"dni-plaintext\"><pre>True</pre></div></td></tr><tr><td>IsSecuritySafeCritical</td><td><div class=\"dni-plaintext\"><pre>False</pre></div></td></tr><tr><td>IsSecurityTransparent</td><td><div class=\"dni-plaintext\"><pre>False</pre></div></td></tr><tr><td>MethodHandle</td><td><details class=\"dni-treeview\"><summary><span class=\"dni-code-hint\"><code>System.RuntimeMethodHandle</code></span></summary><div><table><thead><tr></tr></thead><tbody><tr><td>Value</td><td>140719915284888</td></tr></tbody></table></div></details></td></tr><tr><td>Attributes</td><td><span>Public, HideBySig, SpecialName</span></td></tr><tr><td>CallingConvention</td><td><span>Standard, HasThis</span></td></tr><tr><td>ReturnType</td><td>T</td></tr><tr><td>ReturnTypeCustomAttributes</td><td><details class=\"dni-treeview\"><summary><span class=\"dni-code-hint\"><code>T</code></span></summary><div><table><thead><tr></tr></thead><tbody><tr><td>ParameterType</td><td>T</td></tr><tr><td>Name</td><td><div class=\"dni-plaintext\"><pre>&lt;null&gt;</pre></div></td></tr><tr><td>HasDefaultValue</td><td>False</td></tr><tr><td>DefaultValue</td><td></td></tr><tr><td>RawDefaultValue</td><td></td></tr><tr><td>MetadataToken</td><td>134217728</td></tr><tr><td>Attributes</td><td>None</td></tr><tr><td>Member</td><td>T get_Head()</td></tr><tr><td>Position</td><td>-1</td></tr><tr><td>IsIn</td><td>False</td></tr><tr><td>IsLcid</td><td>False</td></tr><tr><td>IsOptional</td><td>False</td></tr><tr><td>IsOut</td><td>False</td></tr><tr><td>IsRetval</td><td>False</td></tr><tr><td>CustomAttributes</td><td>[  ]</td></tr></tbody></table></div></details></td></tr><tr><td>ReturnParameter</td><td><details class=\"dni-treeview\"><summary><span class=\"dni-code-hint\"><code>T</code></span></summary><div><table><thead><tr></tr></thead><tbody><tr><td>ParameterType</td><td>T</td></tr><tr><td>Name</td><td><div class=\"dni-plaintext\"><pre>&lt;null&gt;</pre></div></td></tr><tr><td>HasDefaultValue</td><td>False</td></tr><tr><td>DefaultValue</td><td></td></tr><tr><td>RawDefaultValue</td><td></td></tr><tr><td>MetadataToken</td><td>134217728</td></tr><tr><td>Attributes</td><td>None</td></tr><tr><td>Member</td><td>T get_Head()</td></tr><tr><td>Position</td><td>-1</td></tr><tr><td>IsIn</td><td>False</td></tr><tr><td>IsLcid</td><td>False</td></tr><tr><td>IsOptional</td><td>False</td></tr><tr><td>IsOut</td><td>False</td></tr><tr><td>IsRetval</td><td>False</td></tr><tr><td>CustomAttributes</td><td>[  ]</td></tr></tbody></table></div></details></td></tr><tr><td>IsCollectible</td><td><div class=\"dni-plaintext\"><pre>False</pre></div></td></tr><tr><td>IsGenericMethod</td><td><div class=\"dni-plaintext\"><pre>False</pre></div></td></tr><tr><td>IsGenericMethodDefinition</td><td><div class=\"dni-plaintext\"><pre>False</pre></div></td></tr><tr><td>ContainsGenericParameters</td><td><div class=\"dni-plaintext\"><pre>True</pre></div></td></tr><tr><td>MethodImplementationFlags</td><td><span>IL</span></td></tr><tr><td>IsAbstract</td><td><div class=\"dni-plaintext\"><pre>False</pre></div></td></tr><tr><td>IsConstructor</td><td><div class=\"dni-plaintext\"><pre>False</pre></div></td></tr><tr><td>IsFinal</td><td><div class=\"dni-plaintext\"><pre>False</pre></div></td></tr><tr><td>IsHideBySig</td><td><div class=\"dni-plaintext\"><pre>True</pre></div></td></tr><tr><td>IsSpecialName</td><td><div class=\"dni-plaintext\"><pre>True</pre></div></td></tr><tr><td>IsStatic</td><td><div class=\"dni-plaintext\"><pre>False</pre></div></td></tr><tr><td>IsVirtual</td><td><div class=\"dni-plaintext\"><pre>False</pre></div></td></tr><tr><td>IsAssembly</td><td><div class=\"dni-plaintext\"><pre>False</pre></div></td></tr><tr><td>IsFamily</td><td><div class=\"dni-plaintext\"><pre>False</pre></div></td></tr><tr><td>IsFamilyAndAssembly</td><td><div class=\"dni-plaintext\"><pre>False</pre></div></td></tr><tr><td>IsFamilyOrAssembly</td><td><div class=\"dni-plaintext\"><pre>False</pre></div></td></tr><tr><td>IsPrivate</td><td><div class=\"dni-plaintext\"><pre>False</pre></div></td></tr><tr><td>IsPublic</td><td><div class=\"dni-plaintext\"><pre>True</pre></div></td></tr><tr><td>IsConstructedGenericMethod</td><td><div class=\"dni-plaintext\"><pre>False</pre></div></td></tr><tr><td>CustomAttributes</td><td><i>(empty)</i></td></tr></tbody></table></div></details></td></tr><tr><td>Message</td><td><div class=\"dni-plaintext\"><pre>The input list was empty.</pre></div></td></tr><tr><td>Data</td><td><i>(empty)</i></td></tr><tr><td>InnerException</td><td><div class=\"dni-plaintext\"><pre>&lt;null&gt;</pre></div></td></tr><tr><td>HelpLink</td><td><div class=\"dni-plaintext\"><pre>&lt;null&gt;</pre></div></td></tr><tr><td>Source</td><td><div class=\"dni-plaintext\"><pre>FSharp.Core</pre></div></td></tr><tr><td>HResult</td><td><div class=\"dni-plaintext\"><pre>-2146233079</pre></div></td></tr><tr><td>StackTrace</td><td><div class=\"dni-plaintext\"><pre>   at Microsoft.FSharp.Collections.FSharpList`1.get_Head() in D:\\a\\_work\\1\\s\\src\\FSharp.Core\\prim-types.fs:line 4142\r\n",
       "   at lambda_method152(Closure, FSharpList`1)\r\n",
       "   at Microsoft.DotNet.Interactive.Formatting.MemberAccessor`1.GetValueOrException(T instance) in D:\\a\\_work\\1\\s\\src\\Microsoft.DotNet.Interactive.Formatting\\MemberAccessor{T}.cs:line 58</pre></div></td></tr></tbody></table></div></details></td></tr><tr><td>Tail</td><td><details class=\"dni-treeview\"><summary><span class=\"dni-code-hint\"><code>System.InvalidOperationException: The input list was empty.\\r\\n   at Microsoft.FSharp.Collections.FSharpList`1.get_Tail() in D:\\a\\_work\\1\\s\\src\\FSharp.Core\\prim-types.fs:line 4147\\r\\n   at lambda_method153(Closure, FSharpList`1)\\r\\n   at Microsoft.DotNet.Interactive.Formatting.MemberAccessor`1.GetVa...</code></span></summary><div><table><thead><tr></tr></thead><tbody><tr><td>TargetSite</td><td><details class=\"dni-treeview\"><summary><span class=\"dni-code-hint\"><code>Microsoft.FSharp.Collections.FSharpList`1[T] get_Tail()</code></span></summary><div><table><thead><tr></tr></thead><tbody><tr><td>Name</td><td><div class=\"dni-plaintext\"><pre>get_Tail</pre></div></td></tr><tr><td>DeclaringType</td><td><span><a href=\"https://docs.microsoft.com/dotnet/api/microsoft.fsharp.collections.fsharplist-1?view=net-7.0\">Microsoft.FSharp.Collections.FSharpList&lt;T&gt;</a></span></td></tr><tr><td>ReflectedType</td><td><span><a href=\"https://docs.microsoft.com/dotnet/api/microsoft.fsharp.collections.fsharplist-1?view=net-7.0\">Microsoft.FSharp.Collections.FSharpList&lt;T&gt;</a></span></td></tr><tr><td>MemberType</td><td><span>Method</span></td></tr><tr><td>MetadataToken</td><td><div class=\"dni-plaintext\"><pre>100663766</pre></div></td></tr><tr><td>Module</td><td><details class=\"dni-treeview\"><summary><span class=\"dni-code-hint\"><code>FSharp.Core.dll</code></span></summary><div><table><thead><tr></tr></thead><tbody><tr><td>MDStreamVersion</td><td>131072</td></tr><tr><td>FullyQualifiedName</td><td>C:\\Users\\Allister\\.dotnet\\tools\\.store\\microsoft.dotnet-interactive\\1.0.561101\\microsoft.dotnet-interactive\\1.0.561101\\tools\\net8.0\\any\\FSharp.Core.dll</td></tr><tr><td>ModuleVersionId</td><td>57a9edab-ee61-61ca-19e6-f818cb833bb4</td></tr><tr><td>MetadataToken</td><td>1</td></tr><tr><td>ScopeName</td><td>FSharp.Core.dll</td></tr><tr><td>Name</td><td>FSharp.Core.dll</td></tr><tr><td>Assembly</td><td>FSharp.Core, Version=8.0.0.0, Culture=neutral, PublicKeyToken=b03f5f7f11d50a3a</td></tr><tr><td>ModuleHandle</td><td>System.ModuleHandle</td></tr><tr><td>CustomAttributes</td><td>[  ]</td></tr></tbody></table></div></details></td></tr><tr><td>IsSecurityCritical</td><td><div class=\"dni-plaintext\"><pre>True</pre></div></td></tr><tr><td>IsSecuritySafeCritical</td><td><div class=\"dni-plaintext\"><pre>False</pre></div></td></tr><tr><td>IsSecurityTransparent</td><td><div class=\"dni-plaintext\"><pre>False</pre></div></td></tr><tr><td>MethodHandle</td><td><details class=\"dni-treeview\"><summary><span class=\"dni-code-hint\"><code>System.RuntimeMethodHandle</code></span></summary><div><table><thead><tr></tr></thead><tbody><tr><td>Value</td><td>140719915284904</td></tr></tbody></table></div></details></td></tr><tr><td>Attributes</td><td><span>Public, HideBySig, SpecialName</span></td></tr><tr><td>CallingConvention</td><td><span>Standard, HasThis</span></td></tr><tr><td>ReturnType</td><td><span><a href=\"https://docs.microsoft.com/dotnet/api/microsoft.fsharp.collections.fsharplist-1?view=net-7.0\">Microsoft.FSharp.Collections.FSharpList&lt;T&gt;</a></span></td></tr><tr><td>ReturnTypeCustomAttributes</td><td><details class=\"dni-treeview\"><summary><span class=\"dni-code-hint\"><code>Microsoft.FSharp.Collections.FSharpList`1[T]</code></span></summary><div><table><thead><tr></tr></thead><tbody><tr><td>ParameterType</td><td>Microsoft.FSharp.Collections.FSharpList`1[T]</td></tr><tr><td>Name</td><td><div class=\"dni-plaintext\"><pre>&lt;null&gt;</pre></div></td></tr><tr><td>HasDefaultValue</td><td>False</td></tr><tr><td>DefaultValue</td><td></td></tr><tr><td>RawDefaultValue</td><td></td></tr><tr><td>MetadataToken</td><td>134217728</td></tr><tr><td>Attributes</td><td>None</td></tr><tr><td>Member</td><td>Microsoft.FSharp.Collections.FSharpList`1[T] get_Tail()</td></tr><tr><td>Position</td><td>-1</td></tr><tr><td>IsIn</td><td>False</td></tr><tr><td>IsLcid</td><td>False</td></tr><tr><td>IsOptional</td><td>False</td></tr><tr><td>IsOut</td><td>False</td></tr><tr><td>IsRetval</td><td>False</td></tr><tr><td>CustomAttributes</td><td>[  ]</td></tr></tbody></table></div></details></td></tr><tr><td>ReturnParameter</td><td><details class=\"dni-treeview\"><summary><span class=\"dni-code-hint\"><code>Microsoft.FSharp.Collections.FSharpList`1[T]</code></span></summary><div><table><thead><tr></tr></thead><tbody><tr><td>ParameterType</td><td>Microsoft.FSharp.Collections.FSharpList`1[T]</td></tr><tr><td>Name</td><td><div class=\"dni-plaintext\"><pre>&lt;null&gt;</pre></div></td></tr><tr><td>HasDefaultValue</td><td>False</td></tr><tr><td>DefaultValue</td><td></td></tr><tr><td>RawDefaultValue</td><td></td></tr><tr><td>MetadataToken</td><td>134217728</td></tr><tr><td>Attributes</td><td>None</td></tr><tr><td>Member</td><td>Microsoft.FSharp.Collections.FSharpList`1[T] get_Tail()</td></tr><tr><td>Position</td><td>-1</td></tr><tr><td>IsIn</td><td>False</td></tr><tr><td>IsLcid</td><td>False</td></tr><tr><td>IsOptional</td><td>False</td></tr><tr><td>IsOut</td><td>False</td></tr><tr><td>IsRetval</td><td>False</td></tr><tr><td>CustomAttributes</td><td>[  ]</td></tr></tbody></table></div></details></td></tr><tr><td>IsCollectible</td><td><div class=\"dni-plaintext\"><pre>False</pre></div></td></tr><tr><td>IsGenericMethod</td><td><div class=\"dni-plaintext\"><pre>False</pre></div></td></tr><tr><td>IsGenericMethodDefinition</td><td><div class=\"dni-plaintext\"><pre>False</pre></div></td></tr><tr><td>ContainsGenericParameters</td><td><div class=\"dni-plaintext\"><pre>True</pre></div></td></tr><tr><td>MethodImplementationFlags</td><td><span>IL</span></td></tr><tr><td>IsAbstract</td><td><div class=\"dni-plaintext\"><pre>False</pre></div></td></tr><tr><td>IsConstructor</td><td><div class=\"dni-plaintext\"><pre>False</pre></div></td></tr><tr><td>IsFinal</td><td><div class=\"dni-plaintext\"><pre>False</pre></div></td></tr><tr><td>IsHideBySig</td><td><div class=\"dni-plaintext\"><pre>True</pre></div></td></tr><tr><td>IsSpecialName</td><td><div class=\"dni-plaintext\"><pre>True</pre></div></td></tr><tr><td>IsStatic</td><td><div class=\"dni-plaintext\"><pre>False</pre></div></td></tr><tr><td>IsVirtual</td><td><div class=\"dni-plaintext\"><pre>False</pre></div></td></tr><tr><td>IsAssembly</td><td><div class=\"dni-plaintext\"><pre>False</pre></div></td></tr><tr><td>IsFamily</td><td><div class=\"dni-plaintext\"><pre>False</pre></div></td></tr><tr><td>IsFamilyAndAssembly</td><td><div class=\"dni-plaintext\"><pre>False</pre></div></td></tr><tr><td>IsFamilyOrAssembly</td><td><div class=\"dni-plaintext\"><pre>False</pre></div></td></tr><tr><td>IsPrivate</td><td><div class=\"dni-plaintext\"><pre>False</pre></div></td></tr><tr><td>IsPublic</td><td><div class=\"dni-plaintext\"><pre>True</pre></div></td></tr><tr><td>IsConstructedGenericMethod</td><td><div class=\"dni-plaintext\"><pre>False</pre></div></td></tr><tr><td>CustomAttributes</td><td><i>(empty)</i></td></tr></tbody></table></div></details></td></tr><tr><td>Message</td><td><div class=\"dni-plaintext\"><pre>The input list was empty.</pre></div></td></tr><tr><td>Data</td><td><i>(empty)</i></td></tr><tr><td>InnerException</td><td><div class=\"dni-plaintext\"><pre>&lt;null&gt;</pre></div></td></tr><tr><td>HelpLink</td><td><div class=\"dni-plaintext\"><pre>&lt;null&gt;</pre></div></td></tr><tr><td>Source</td><td><div class=\"dni-plaintext\"><pre>FSharp.Core</pre></div></td></tr><tr><td>HResult</td><td><div class=\"dni-plaintext\"><pre>-2146233079</pre></div></td></tr><tr><td>StackTrace</td><td><div class=\"dni-plaintext\"><pre>   at Microsoft.FSharp.Collections.FSharpList`1.get_Tail() in D:\\a\\_work\\1\\s\\src\\FSharp.Core\\prim-types.fs:line 4147\r\n",
       "   at lambda_method153(Closure, FSharpList`1)\r\n",
       "   at Microsoft.DotNet.Interactive.Formatting.MemberAccessor`1.GetValueOrException(T instance) in D:\\a\\_work\\1\\s\\src\\Microsoft.DotNet.Interactive.Formatting\\MemberAccessor{T}.cs:line 58</pre></div></td></tr></tbody></table></div></details></td></tr><tr><td><i>(values)</i></td><td><i>(empty)</i></td></tr></tbody></table></div></details></td></tr><tr><td>Type</td><td><span><a href=\"https://docs.microsoft.com/dotnet/api/system.double?view=net-7.0\">System.Double</a></span></td></tr></tbody></table></div></details></td></tr><tr><td>CustomAttributes</td><td><details class=\"dni-treeview\"><summary><span class=\"dni-code-hint\"><code>[  ]</code></span></summary><div><table><thead><tr></tr></thead><tbody><tr><td>HeadOrDefault</td><td><div class=\"dni-plaintext\"><pre>&lt;null&gt;</pre></div></td></tr><tr><td>TailOrNull</td><td><div class=\"dni-plaintext\"><pre>&lt;null&gt;</pre></div></td></tr><tr><td>Head</td><td><details class=\"dni-treeview\"><summary><span class=\"dni-code-hint\"><code>System.InvalidOperationException: The input list was empty.\\r\\n   at Microsoft.FSharp.Collections.FSharpList`1.get_Head() in D:\\a\\_work\\1\\s\\src\\FSharp.Core\\prim-types.fs:line 4142\\r\\n   at lambda_method152(Closure, FSharpList`1)\\r\\n   at Microsoft.DotNet.Interactive.Formatting.MemberAccessor`1.GetVa...</code></span></summary><div><table><thead><tr></tr></thead><tbody><tr><td>TargetSite</td><td><details class=\"dni-treeview\"><summary><span class=\"dni-code-hint\"><code>T get_Head()</code></span></summary><div><table><thead><tr></tr></thead><tbody><tr><td>Name</td><td><div class=\"dni-plaintext\"><pre>get_Head</pre></div></td></tr><tr><td>DeclaringType</td><td><span><a href=\"https://docs.microsoft.com/dotnet/api/microsoft.fsharp.collections.fsharplist-1?view=net-7.0\">Microsoft.FSharp.Collections.FSharpList&lt;T&gt;</a></span></td></tr><tr><td>ReflectedType</td><td><span><a href=\"https://docs.microsoft.com/dotnet/api/microsoft.fsharp.collections.fsharplist-1?view=net-7.0\">Microsoft.FSharp.Collections.FSharpList&lt;T&gt;</a></span></td></tr><tr><td>MemberType</td><td><span>Method</span></td></tr><tr><td>MetadataToken</td><td><div class=\"dni-plaintext\"><pre>100663765</pre></div></td></tr><tr><td>Module</td><td><details class=\"dni-treeview\"><summary><span class=\"dni-code-hint\"><code>FSharp.Core.dll</code></span></summary><div><table><thead><tr></tr></thead><tbody><tr><td>MDStreamVersion</td><td><div class=\"dni-plaintext\"><pre>131072</pre></div></td></tr><tr><td>FullyQualifiedName</td><td><div class=\"dni-plaintext\"><pre>C:\\Users\\Allister\\.dotnet\\tools\\.store\\microsoft.dotnet-interactive\\1.0.561101\\microsoft.dotnet-interactive\\1.0.561101\\tools\\net8.0\\any\\FSharp.Core.dll</pre></div></td></tr><tr><td>ModuleVersionId</td><td><div class=\"dni-plaintext\"><pre>57a9edab-ee61-61ca-19e6-f818cb833bb4</pre></div></td></tr><tr><td>MetadataToken</td><td><div class=\"dni-plaintext\"><pre>1</pre></div></td></tr><tr><td>ScopeName</td><td><div class=\"dni-plaintext\"><pre>FSharp.Core.dll</pre></div></td></tr><tr><td>Name</td><td><div class=\"dni-plaintext\"><pre>FSharp.Core.dll</pre></div></td></tr><tr><td>Assembly</td><td><details class=\"dni-treeview\"><summary><span class=\"dni-code-hint\"><code>FSharp.Core, Version=8.0.0.0, Culture=neutral, PublicKeyToken=b03f5f7f11d50a3a</code></span></summary><div><table><thead><tr></tr></thead><tbody><tr><td>CodeBase</td><td>file:///C:/Users/Allister/.dotnet/tools/.store/microsoft.dotnet-interactive/1.0.561101/microsoft.dotnet-interactive/1.0.561101/tools/net8.0/any/FSharp.Core.dll</td></tr><tr><td>FullName</td><td>FSharp.Core, Version=8.0.0.0, Culture=neutral, PublicKeyToken=b03f5f7f11d50a3a</td></tr><tr><td>EntryPoint</td><td><div class=\"dni-plaintext\"><pre>&lt;null&gt;</pre></div></td></tr><tr><td>DefinedTypes</td><td>[ Microsoft.FSharp.Core.Unit, Microsoft.FSharp.Core.SourceConstructFlags, Microsoft.FSharp.Core.CompilationRepresentationFlags, Microsoft.FSharp.Core.SealedAttribute, Microsoft.FSharp.Core.AbstractClassAttribute, Microsoft.FSharp.Core.EqualityConditionalOnAttribute, Microsoft.FSharp.Core.ComparisonConditionalOnAttribute, Microsoft.FSharp.Core.AllowNullLiteralAttribute, Microsoft.FSharp.Core.VolatileFieldAttribute, Microsoft.FSharp.Core.DefaultAugmentationAttribute, Microsoft.FSharp.Core.CLIEventAttribute, Microsoft.FSharp.Core.CLIMutableAttribute, Microsoft.FSharp.Core.AutoSerializableAttribute, Microsoft.FSharp.Core.DefaultValueAttribute, Microsoft.FSharp.Core.EntryPointAttribute, Microsoft.FSharp.Core.ReferenceEqualityAttribute, Microsoft.FSharp.Core.StructuralComparisonAttribute, Microsoft.FSharp.Core.StructuralEqualityAttribute, Microsoft.FSharp.Core.NoEqualityAttribute, Microsoft.FSharp.Core.CustomEqualityAttribute ... (2189 more) ]</td></tr><tr><td>IsCollectible</td><td>False</td></tr><tr><td>ManifestModule</td><td>FSharp.Core.dll</td></tr><tr><td>ReflectionOnly</td><td>False</td></tr><tr><td>Location</td><td>C:\\Users\\Allister\\.dotnet\\tools\\.store\\microsoft.dotnet-interactive\\1.0.561101\\microsoft.dotnet-interactive\\1.0.561101\\tools\\net8.0\\any\\FSharp.Core.dll</td></tr><tr><td>ImageRuntimeVersion</td><td>v4.0.30319</td></tr><tr><td>GlobalAssemblyCache</td><td>False</td></tr><tr><td>HostContext</td><td>0</td></tr><tr><td>IsDynamic</td><td>False</td></tr><tr><td>ExportedTypes</td><td>[ Microsoft.FSharp.Core.Unit, Microsoft.FSharp.Core.SourceConstructFlags, Microsoft.FSharp.Core.CompilationRepresentationFlags, Microsoft.FSharp.Core.SealedAttribute, Microsoft.FSharp.Core.AbstractClassAttribute, Microsoft.FSharp.Core.EqualityConditionalOnAttribute, Microsoft.FSharp.Core.ComparisonConditionalOnAttribute, Microsoft.FSharp.Core.AllowNullLiteralAttribute, Microsoft.FSharp.Core.VolatileFieldAttribute, Microsoft.FSharp.Core.DefaultAugmentationAttribute, Microsoft.FSharp.Core.CLIEventAttribute, Microsoft.FSharp.Core.CLIMutableAttribute, Microsoft.FSharp.Core.AutoSerializableAttribute, Microsoft.FSharp.Core.DefaultValueAttribute, Microsoft.FSharp.Core.EntryPointAttribute, Microsoft.FSharp.Core.ReferenceEqualityAttribute, Microsoft.FSharp.Core.StructuralComparisonAttribute, Microsoft.FSharp.Core.StructuralEqualityAttribute, Microsoft.FSharp.Core.NoEqualityAttribute, Microsoft.FSharp.Core.CustomEqualityAttribute ... (215 more) ]</td></tr><tr><td>IsFullyTrusted</td><td>True</td></tr><tr><td>CustomAttributes</td><td>[ [Microsoft.FSharp.Core.FSharpInterfaceDataVersionAttribute((Int32)2, (Int32)0, (Int32)0)], [System.Runtime.Versioning.TargetFrameworkAttribute(\".NETStandard,Version=v2.1\", FrameworkDisplayName = \".NET Standard 2.1\")], [System.Reflection.AssemblyCompanyAttribute(\"Microsoft Corporation\")], [System.Reflection.AssemblyConfigurationAttribute(\"Release\")], [System.Reflection.AssemblyCopyrightAttribute(\"© Microsoft Corporation. All rights reserved.\")], [System.Reflection.AssemblyFileVersionAttribute(\"8.2.24.6203\")], [System.Reflection.AssemblyInformationalVersionAttribute(\"8.0.200-beta.24062.3+a7979111f86ab7332897ea617635bf3435c39bc3\")], [System.Reflection.AssemblyProductAttribute(\"FSharp.Core\")], [System.Reflection.AssemblyTitleAttribute(\"FSharp.Core\")], [System.Reflection.AssemblyMetadataAttribute(\"RepositoryUrl\", \"https://github.com/dotnet/fsharp\")], [System.Resources.NeutralResourcesLanguageAttribute(\"en-US\")], [System.Runtime.InteropServices.ComVisibleAttribute((Boolean)False)], [System.CLSCompliantAttribute((Boolean)True)], [System.Security.SecurityTransparentAttribute()], [Microsoft.FSharp.Core.AutoOpenAttribute(\"Microsoft.FSharp\")], [Microsoft.FSharp.Core.AutoOpenAttribute(\"Microsoft.FSharp.Core.LanguagePrimitives.IntrinsicOperators\")], [Microsoft.FSharp.Core.AutoOpenAttribute(\"Microsoft.FSharp.Core\")], [Microsoft.FSharp.Core.AutoOpenAttribute(\"Microsoft.FSharp.Collections\")], [Microsoft.FSharp.Core.AutoOpenAttribute(\"Microsoft.FSharp.Control\")], [Microsoft.FSharp.Core.AutoOpenAttribute(\"Microsoft.FSharp.Control.TaskBuilderExtensions.LowPriority\")] ... (5 more) ]</td></tr><tr><td>EscapedCodeBase</td><td>file:///C:/Users/Allister/.dotnet/tools/.store/microsoft.dotnet-interactive/1.0.561101/microsoft.dotnet-interactive/1.0.561101/tools/net8.0/any/FSharp.Core.dll</td></tr><tr><td>Modules</td><td>[ FSharp.Core.dll ]</td></tr><tr><td>SecurityRuleSet</td><td>None</td></tr></tbody></table></div></details></td></tr><tr><td>ModuleHandle</td><td><details class=\"dni-treeview\"><summary><span class=\"dni-code-hint\"><code>System.ModuleHandle</code></span></summary><div><table><thead><tr></tr></thead><tbody><tr><td>MDStreamVersion</td><td>131072</td></tr></tbody></table></div></details></td></tr><tr><td>CustomAttributes</td><td><i>(empty)</i></td></tr></tbody></table></div></details></td></tr><tr><td>IsSecurityCritical</td><td><div class=\"dni-plaintext\"><pre>True</pre></div></td></tr><tr><td>IsSecuritySafeCritical</td><td><div class=\"dni-plaintext\"><pre>False</pre></div></td></tr><tr><td>IsSecurityTransparent</td><td><div class=\"dni-plaintext\"><pre>False</pre></div></td></tr><tr><td>MethodHandle</td><td><details class=\"dni-treeview\"><summary><span class=\"dni-code-hint\"><code>System.RuntimeMethodHandle</code></span></summary><div><table><thead><tr></tr></thead><tbody><tr><td>Value</td><td><div class=\"dni-plaintext\"><pre>140719915284888</pre></div></td></tr></tbody></table></div></details></td></tr><tr><td>Attributes</td><td><span>Public, HideBySig, SpecialName</span></td></tr><tr><td>CallingConvention</td><td><span>Standard, HasThis</span></td></tr><tr><td>ReturnType</td><td>T</td></tr><tr><td>ReturnTypeCustomAttributes</td><td><details class=\"dni-treeview\"><summary><span class=\"dni-code-hint\"><code>T</code></span></summary><div><table><thead><tr></tr></thead><tbody><tr><td>ParameterType</td><td>T</td></tr><tr><td>Name</td><td><div class=\"dni-plaintext\"><pre>&lt;null&gt;</pre></div></td></tr><tr><td>HasDefaultValue</td><td><div class=\"dni-plaintext\"><pre>False</pre></div></td></tr><tr><td>DefaultValue</td><td><details class=\"dni-treeview\"><summary><span class=\"dni-code-hint\"><code></code></span></summary><div><table><thead><tr></tr></thead><tbody></tbody></table></div></details></td></tr><tr><td>RawDefaultValue</td><td><details class=\"dni-treeview\"><summary><span class=\"dni-code-hint\"><code></code></span></summary><div><table><thead><tr></tr></thead><tbody></tbody></table></div></details></td></tr><tr><td>MetadataToken</td><td><div class=\"dni-plaintext\"><pre>134217728</pre></div></td></tr><tr><td>Attributes</td><td><span>None</span></td></tr><tr><td>Member</td><td><details class=\"dni-treeview\"><summary><span class=\"dni-code-hint\"><code>T get_Head()</code></span></summary><div><table><thead><tr></tr></thead><tbody><tr><td>Name</td><td>get_Head</td></tr><tr><td>DeclaringType</td><td>Microsoft.FSharp.Collections.FSharpList`1[T]</td></tr><tr><td>ReflectedType</td><td>Microsoft.FSharp.Collections.FSharpList`1[T]</td></tr><tr><td>MemberType</td><td>Method</td></tr><tr><td>MetadataToken</td><td>100663765</td></tr><tr><td>Module</td><td>FSharp.Core.dll</td></tr><tr><td>IsSecurityCritical</td><td>True</td></tr><tr><td>IsSecuritySafeCritical</td><td>False</td></tr><tr><td>IsSecurityTransparent</td><td>False</td></tr><tr><td>MethodHandle</td><td>System.RuntimeMethodHandle</td></tr><tr><td>Attributes</td><td>Public, HideBySig, SpecialName</td></tr><tr><td>CallingConvention</td><td>Standard, HasThis</td></tr><tr><td>ReturnType</td><td>T</td></tr><tr><td>ReturnTypeCustomAttributes</td><td>T</td></tr><tr><td>ReturnParameter</td><td>T</td></tr><tr><td>IsCollectible</td><td>False</td></tr><tr><td>IsGenericMethod</td><td>False</td></tr><tr><td>IsGenericMethodDefinition</td><td>False</td></tr><tr><td>ContainsGenericParameters</td><td>True</td></tr><tr><td>MethodImplementationFlags</td><td>IL</td></tr><tr><td>IsAbstract</td><td>False</td></tr><tr><td>IsConstructor</td><td>False</td></tr><tr><td>IsFinal</td><td>False</td></tr><tr><td>IsHideBySig</td><td>True</td></tr><tr><td>IsSpecialName</td><td>True</td></tr><tr><td>IsStatic</td><td>False</td></tr><tr><td>IsVirtual</td><td>False</td></tr><tr><td>IsAssembly</td><td>False</td></tr><tr><td>IsFamily</td><td>False</td></tr><tr><td>IsFamilyAndAssembly</td><td>False</td></tr><tr><td>IsFamilyOrAssembly</td><td>False</td></tr><tr><td>IsPrivate</td><td>False</td></tr><tr><td>IsPublic</td><td>True</td></tr><tr><td>IsConstructedGenericMethod</td><td>False</td></tr><tr><td>CustomAttributes</td><td>[  ]</td></tr></tbody></table></div></details></td></tr><tr><td>Position</td><td><div class=\"dni-plaintext\"><pre>-1</pre></div></td></tr><tr><td>IsIn</td><td><div class=\"dni-plaintext\"><pre>False</pre></div></td></tr><tr><td>IsLcid</td><td><div class=\"dni-plaintext\"><pre>False</pre></div></td></tr><tr><td>IsOptional</td><td><div class=\"dni-plaintext\"><pre>False</pre></div></td></tr><tr><td>IsOut</td><td><div class=\"dni-plaintext\"><pre>False</pre></div></td></tr><tr><td>IsRetval</td><td><div class=\"dni-plaintext\"><pre>False</pre></div></td></tr><tr><td>CustomAttributes</td><td><i>(empty)</i></td></tr></tbody></table></div></details></td></tr><tr><td>ReturnParameter</td><td><details class=\"dni-treeview\"><summary><span class=\"dni-code-hint\"><code>T</code></span></summary><div><table><thead><tr></tr></thead><tbody><tr><td>ParameterType</td><td>T</td></tr><tr><td>Name</td><td><div class=\"dni-plaintext\"><pre>&lt;null&gt;</pre></div></td></tr><tr><td>HasDefaultValue</td><td><div class=\"dni-plaintext\"><pre>False</pre></div></td></tr><tr><td>DefaultValue</td><td><details class=\"dni-treeview\"><summary><span class=\"dni-code-hint\"><code></code></span></summary><div><table><thead><tr></tr></thead><tbody></tbody></table></div></details></td></tr><tr><td>RawDefaultValue</td><td><details class=\"dni-treeview\"><summary><span class=\"dni-code-hint\"><code></code></span></summary><div><table><thead><tr></tr></thead><tbody></tbody></table></div></details></td></tr><tr><td>MetadataToken</td><td><div class=\"dni-plaintext\"><pre>134217728</pre></div></td></tr><tr><td>Attributes</td><td><span>None</span></td></tr><tr><td>Member</td><td><details class=\"dni-treeview\"><summary><span class=\"dni-code-hint\"><code>T get_Head()</code></span></summary><div><table><thead><tr></tr></thead><tbody><tr><td>Name</td><td>get_Head</td></tr><tr><td>DeclaringType</td><td>Microsoft.FSharp.Collections.FSharpList`1[T]</td></tr><tr><td>ReflectedType</td><td>Microsoft.FSharp.Collections.FSharpList`1[T]</td></tr><tr><td>MemberType</td><td>Method</td></tr><tr><td>MetadataToken</td><td>100663765</td></tr><tr><td>Module</td><td>FSharp.Core.dll</td></tr><tr><td>IsSecurityCritical</td><td>True</td></tr><tr><td>IsSecuritySafeCritical</td><td>False</td></tr><tr><td>IsSecurityTransparent</td><td>False</td></tr><tr><td>MethodHandle</td><td>System.RuntimeMethodHandle</td></tr><tr><td>Attributes</td><td>Public, HideBySig, SpecialName</td></tr><tr><td>CallingConvention</td><td>Standard, HasThis</td></tr><tr><td>ReturnType</td><td>T</td></tr><tr><td>ReturnTypeCustomAttributes</td><td>T</td></tr><tr><td>ReturnParameter</td><td>T</td></tr><tr><td>IsCollectible</td><td>False</td></tr><tr><td>IsGenericMethod</td><td>False</td></tr><tr><td>IsGenericMethodDefinition</td><td>False</td></tr><tr><td>ContainsGenericParameters</td><td>True</td></tr><tr><td>MethodImplementationFlags</td><td>IL</td></tr><tr><td>IsAbstract</td><td>False</td></tr><tr><td>IsConstructor</td><td>False</td></tr><tr><td>IsFinal</td><td>False</td></tr><tr><td>IsHideBySig</td><td>True</td></tr><tr><td>IsSpecialName</td><td>True</td></tr><tr><td>IsStatic</td><td>False</td></tr><tr><td>IsVirtual</td><td>False</td></tr><tr><td>IsAssembly</td><td>False</td></tr><tr><td>IsFamily</td><td>False</td></tr><tr><td>IsFamilyAndAssembly</td><td>False</td></tr><tr><td>IsFamilyOrAssembly</td><td>False</td></tr><tr><td>IsPrivate</td><td>False</td></tr><tr><td>IsPublic</td><td>True</td></tr><tr><td>IsConstructedGenericMethod</td><td>False</td></tr><tr><td>CustomAttributes</td><td>[  ]</td></tr></tbody></table></div></details></td></tr><tr><td>Position</td><td><div class=\"dni-plaintext\"><pre>-1</pre></div></td></tr><tr><td>IsIn</td><td><div class=\"dni-plaintext\"><pre>False</pre></div></td></tr><tr><td>IsLcid</td><td><div class=\"dni-plaintext\"><pre>False</pre></div></td></tr><tr><td>IsOptional</td><td><div class=\"dni-plaintext\"><pre>False</pre></div></td></tr><tr><td>IsOut</td><td><div class=\"dni-plaintext\"><pre>False</pre></div></td></tr><tr><td>IsRetval</td><td><div class=\"dni-plaintext\"><pre>False</pre></div></td></tr><tr><td>CustomAttributes</td><td><i>(empty)</i></td></tr></tbody></table></div></details></td></tr><tr><td>IsCollectible</td><td><div class=\"dni-plaintext\"><pre>False</pre></div></td></tr><tr><td>IsGenericMethod</td><td><div class=\"dni-plaintext\"><pre>False</pre></div></td></tr><tr><td>IsGenericMethodDefinition</td><td><div class=\"dni-plaintext\"><pre>False</pre></div></td></tr><tr><td>ContainsGenericParameters</td><td><div class=\"dni-plaintext\"><pre>True</pre></div></td></tr><tr><td>MethodImplementationFlags</td><td><span>IL</span></td></tr><tr><td>IsAbstract</td><td><div class=\"dni-plaintext\"><pre>False</pre></div></td></tr><tr><td>IsConstructor</td><td><div class=\"dni-plaintext\"><pre>False</pre></div></td></tr><tr><td>IsFinal</td><td><div class=\"dni-plaintext\"><pre>False</pre></div></td></tr><tr><td>IsHideBySig</td><td><div class=\"dni-plaintext\"><pre>True</pre></div></td></tr><tr><td>IsSpecialName</td><td><div class=\"dni-plaintext\"><pre>True</pre></div></td></tr><tr><td>IsStatic</td><td><div class=\"dni-plaintext\"><pre>False</pre></div></td></tr><tr><td>IsVirtual</td><td><div class=\"dni-plaintext\"><pre>False</pre></div></td></tr><tr><td>IsAssembly</td><td><div class=\"dni-plaintext\"><pre>False</pre></div></td></tr><tr><td>IsFamily</td><td><div class=\"dni-plaintext\"><pre>False</pre></div></td></tr><tr><td>IsFamilyAndAssembly</td><td><div class=\"dni-plaintext\"><pre>False</pre></div></td></tr><tr><td>IsFamilyOrAssembly</td><td><div class=\"dni-plaintext\"><pre>False</pre></div></td></tr><tr><td>IsPrivate</td><td><div class=\"dni-plaintext\"><pre>False</pre></div></td></tr><tr><td>IsPublic</td><td><div class=\"dni-plaintext\"><pre>True</pre></div></td></tr><tr><td>IsConstructedGenericMethod</td><td><div class=\"dni-plaintext\"><pre>False</pre></div></td></tr><tr><td>CustomAttributes</td><td><i>(empty)</i></td></tr></tbody></table></div></details></td></tr><tr><td>Message</td><td><div class=\"dni-plaintext\"><pre>The input list was empty.</pre></div></td></tr><tr><td>Data</td><td><i>(empty)</i></td></tr><tr><td>InnerException</td><td><div class=\"dni-plaintext\"><pre>&lt;null&gt;</pre></div></td></tr><tr><td>HelpLink</td><td><div class=\"dni-plaintext\"><pre>&lt;null&gt;</pre></div></td></tr><tr><td>Source</td><td><div class=\"dni-plaintext\"><pre>FSharp.Core</pre></div></td></tr><tr><td>HResult</td><td><div class=\"dni-plaintext\"><pre>-2146233079</pre></div></td></tr><tr><td>StackTrace</td><td><div class=\"dni-plaintext\"><pre>   at Microsoft.FSharp.Collections.FSharpList`1.get_Head() in D:\\a\\_work\\1\\s\\src\\FSharp.Core\\prim-types.fs:line 4142\r\n",
       "   at lambda_method152(Closure, FSharpList`1)\r\n",
       "   at Microsoft.DotNet.Interactive.Formatting.MemberAccessor`1.GetValueOrException(T instance) in D:\\a\\_work\\1\\s\\src\\Microsoft.DotNet.Interactive.Formatting\\MemberAccessor{T}.cs:line 58</pre></div></td></tr></tbody></table></div></details></td></tr><tr><td>Tail</td><td><details class=\"dni-treeview\"><summary><span class=\"dni-code-hint\"><code>System.InvalidOperationException: The input list was empty.\\r\\n   at Microsoft.FSharp.Collections.FSharpList`1.get_Tail() in D:\\a\\_work\\1\\s\\src\\FSharp.Core\\prim-types.fs:line 4147\\r\\n   at lambda_method153(Closure, FSharpList`1)\\r\\n   at Microsoft.DotNet.Interactive.Formatting.MemberAccessor`1.GetVa...</code></span></summary><div><table><thead><tr></tr></thead><tbody><tr><td>TargetSite</td><td><details class=\"dni-treeview\"><summary><span class=\"dni-code-hint\"><code>Microsoft.FSharp.Collections.FSharpList`1[T] get_Tail()</code></span></summary><div><table><thead><tr></tr></thead><tbody><tr><td>Name</td><td><div class=\"dni-plaintext\"><pre>get_Tail</pre></div></td></tr><tr><td>DeclaringType</td><td><span><a href=\"https://docs.microsoft.com/dotnet/api/microsoft.fsharp.collections.fsharplist-1?view=net-7.0\">Microsoft.FSharp.Collections.FSharpList&lt;T&gt;</a></span></td></tr><tr><td>ReflectedType</td><td><span><a href=\"https://docs.microsoft.com/dotnet/api/microsoft.fsharp.collections.fsharplist-1?view=net-7.0\">Microsoft.FSharp.Collections.FSharpList&lt;T&gt;</a></span></td></tr><tr><td>MemberType</td><td><span>Method</span></td></tr><tr><td>MetadataToken</td><td><div class=\"dni-plaintext\"><pre>100663766</pre></div></td></tr><tr><td>Module</td><td><details class=\"dni-treeview\"><summary><span class=\"dni-code-hint\"><code>FSharp.Core.dll</code></span></summary><div><table><thead><tr></tr></thead><tbody><tr><td>MDStreamVersion</td><td><div class=\"dni-plaintext\"><pre>131072</pre></div></td></tr><tr><td>FullyQualifiedName</td><td><div class=\"dni-plaintext\"><pre>C:\\Users\\Allister\\.dotnet\\tools\\.store\\microsoft.dotnet-interactive\\1.0.561101\\microsoft.dotnet-interactive\\1.0.561101\\tools\\net8.0\\any\\FSharp.Core.dll</pre></div></td></tr><tr><td>ModuleVersionId</td><td><div class=\"dni-plaintext\"><pre>57a9edab-ee61-61ca-19e6-f818cb833bb4</pre></div></td></tr><tr><td>MetadataToken</td><td><div class=\"dni-plaintext\"><pre>1</pre></div></td></tr><tr><td>ScopeName</td><td><div class=\"dni-plaintext\"><pre>FSharp.Core.dll</pre></div></td></tr><tr><td>Name</td><td><div class=\"dni-plaintext\"><pre>FSharp.Core.dll</pre></div></td></tr><tr><td>Assembly</td><td><details class=\"dni-treeview\"><summary><span class=\"dni-code-hint\"><code>FSharp.Core, Version=8.0.0.0, Culture=neutral, PublicKeyToken=b03f5f7f11d50a3a</code></span></summary><div><table><thead><tr></tr></thead><tbody><tr><td>CodeBase</td><td>file:///C:/Users/Allister/.dotnet/tools/.store/microsoft.dotnet-interactive/1.0.561101/microsoft.dotnet-interactive/1.0.561101/tools/net8.0/any/FSharp.Core.dll</td></tr><tr><td>FullName</td><td>FSharp.Core, Version=8.0.0.0, Culture=neutral, PublicKeyToken=b03f5f7f11d50a3a</td></tr><tr><td>EntryPoint</td><td><div class=\"dni-plaintext\"><pre>&lt;null&gt;</pre></div></td></tr><tr><td>DefinedTypes</td><td>[ Microsoft.FSharp.Core.Unit, Microsoft.FSharp.Core.SourceConstructFlags, Microsoft.FSharp.Core.CompilationRepresentationFlags, Microsoft.FSharp.Core.SealedAttribute, Microsoft.FSharp.Core.AbstractClassAttribute, Microsoft.FSharp.Core.EqualityConditionalOnAttribute, Microsoft.FSharp.Core.ComparisonConditionalOnAttribute, Microsoft.FSharp.Core.AllowNullLiteralAttribute, Microsoft.FSharp.Core.VolatileFieldAttribute, Microsoft.FSharp.Core.DefaultAugmentationAttribute, Microsoft.FSharp.Core.CLIEventAttribute, Microsoft.FSharp.Core.CLIMutableAttribute, Microsoft.FSharp.Core.AutoSerializableAttribute, Microsoft.FSharp.Core.DefaultValueAttribute, Microsoft.FSharp.Core.EntryPointAttribute, Microsoft.FSharp.Core.ReferenceEqualityAttribute, Microsoft.FSharp.Core.StructuralComparisonAttribute, Microsoft.FSharp.Core.StructuralEqualityAttribute, Microsoft.FSharp.Core.NoEqualityAttribute, Microsoft.FSharp.Core.CustomEqualityAttribute ... (2189 more) ]</td></tr><tr><td>IsCollectible</td><td>False</td></tr><tr><td>ManifestModule</td><td>FSharp.Core.dll</td></tr><tr><td>ReflectionOnly</td><td>False</td></tr><tr><td>Location</td><td>C:\\Users\\Allister\\.dotnet\\tools\\.store\\microsoft.dotnet-interactive\\1.0.561101\\microsoft.dotnet-interactive\\1.0.561101\\tools\\net8.0\\any\\FSharp.Core.dll</td></tr><tr><td>ImageRuntimeVersion</td><td>v4.0.30319</td></tr><tr><td>GlobalAssemblyCache</td><td>False</td></tr><tr><td>HostContext</td><td>0</td></tr><tr><td>IsDynamic</td><td>False</td></tr><tr><td>ExportedTypes</td><td>[ Microsoft.FSharp.Core.Unit, Microsoft.FSharp.Core.SourceConstructFlags, Microsoft.FSharp.Core.CompilationRepresentationFlags, Microsoft.FSharp.Core.SealedAttribute, Microsoft.FSharp.Core.AbstractClassAttribute, Microsoft.FSharp.Core.EqualityConditionalOnAttribute, Microsoft.FSharp.Core.ComparisonConditionalOnAttribute, Microsoft.FSharp.Core.AllowNullLiteralAttribute, Microsoft.FSharp.Core.VolatileFieldAttribute, Microsoft.FSharp.Core.DefaultAugmentationAttribute, Microsoft.FSharp.Core.CLIEventAttribute, Microsoft.FSharp.Core.CLIMutableAttribute, Microsoft.FSharp.Core.AutoSerializableAttribute, Microsoft.FSharp.Core.DefaultValueAttribute, Microsoft.FSharp.Core.EntryPointAttribute, Microsoft.FSharp.Core.ReferenceEqualityAttribute, Microsoft.FSharp.Core.StructuralComparisonAttribute, Microsoft.FSharp.Core.StructuralEqualityAttribute, Microsoft.FSharp.Core.NoEqualityAttribute, Microsoft.FSharp.Core.CustomEqualityAttribute ... (215 more) ]</td></tr><tr><td>IsFullyTrusted</td><td>True</td></tr><tr><td>CustomAttributes</td><td>[ [Microsoft.FSharp.Core.FSharpInterfaceDataVersionAttribute((Int32)2, (Int32)0, (Int32)0)], [System.Runtime.Versioning.TargetFrameworkAttribute(\".NETStandard,Version=v2.1\", FrameworkDisplayName = \".NET Standard 2.1\")], [System.Reflection.AssemblyCompanyAttribute(\"Microsoft Corporation\")], [System.Reflection.AssemblyConfigurationAttribute(\"Release\")], [System.Reflection.AssemblyCopyrightAttribute(\"© Microsoft Corporation. All rights reserved.\")], [System.Reflection.AssemblyFileVersionAttribute(\"8.2.24.6203\")], [System.Reflection.AssemblyInformationalVersionAttribute(\"8.0.200-beta.24062.3+a7979111f86ab7332897ea617635bf3435c39bc3\")], [System.Reflection.AssemblyProductAttribute(\"FSharp.Core\")], [System.Reflection.AssemblyTitleAttribute(\"FSharp.Core\")], [System.Reflection.AssemblyMetadataAttribute(\"RepositoryUrl\", \"https://github.com/dotnet/fsharp\")], [System.Resources.NeutralResourcesLanguageAttribute(\"en-US\")], [System.Runtime.InteropServices.ComVisibleAttribute((Boolean)False)], [System.CLSCompliantAttribute((Boolean)True)], [System.Security.SecurityTransparentAttribute()], [Microsoft.FSharp.Core.AutoOpenAttribute(\"Microsoft.FSharp\")], [Microsoft.FSharp.Core.AutoOpenAttribute(\"Microsoft.FSharp.Core.LanguagePrimitives.IntrinsicOperators\")], [Microsoft.FSharp.Core.AutoOpenAttribute(\"Microsoft.FSharp.Core\")], [Microsoft.FSharp.Core.AutoOpenAttribute(\"Microsoft.FSharp.Collections\")], [Microsoft.FSharp.Core.AutoOpenAttribute(\"Microsoft.FSharp.Control\")], [Microsoft.FSharp.Core.AutoOpenAttribute(\"Microsoft.FSharp.Control.TaskBuilderExtensions.LowPriority\")] ... (5 more) ]</td></tr><tr><td>EscapedCodeBase</td><td>file:///C:/Users/Allister/.dotnet/tools/.store/microsoft.dotnet-interactive/1.0.561101/microsoft.dotnet-interactive/1.0.561101/tools/net8.0/any/FSharp.Core.dll</td></tr><tr><td>Modules</td><td>[ FSharp.Core.dll ]</td></tr><tr><td>SecurityRuleSet</td><td>None</td></tr></tbody></table></div></details></td></tr><tr><td>ModuleHandle</td><td><details class=\"dni-treeview\"><summary><span class=\"dni-code-hint\"><code>System.ModuleHandle</code></span></summary><div><table><thead><tr></tr></thead><tbody><tr><td>MDStreamVersion</td><td>131072</td></tr></tbody></table></div></details></td></tr><tr><td>CustomAttributes</td><td><i>(empty)</i></td></tr></tbody></table></div></details></td></tr><tr><td>IsSecurityCritical</td><td><div class=\"dni-plaintext\"><pre>True</pre></div></td></tr><tr><td>IsSecuritySafeCritical</td><td><div class=\"dni-plaintext\"><pre>False</pre></div></td></tr><tr><td>IsSecurityTransparent</td><td><div class=\"dni-plaintext\"><pre>False</pre></div></td></tr><tr><td>MethodHandle</td><td><details class=\"dni-treeview\"><summary><span class=\"dni-code-hint\"><code>System.RuntimeMethodHandle</code></span></summary><div><table><thead><tr></tr></thead><tbody><tr><td>Value</td><td><div class=\"dni-plaintext\"><pre>140719915284904</pre></div></td></tr></tbody></table></div></details></td></tr><tr><td>Attributes</td><td><span>Public, HideBySig, SpecialName</span></td></tr><tr><td>CallingConvention</td><td><span>Standard, HasThis</span></td></tr><tr><td>ReturnType</td><td><span><a href=\"https://docs.microsoft.com/dotnet/api/microsoft.fsharp.collections.fsharplist-1?view=net-7.0\">Microsoft.FSharp.Collections.FSharpList&lt;T&gt;</a></span></td></tr><tr><td>ReturnTypeCustomAttributes</td><td><details class=\"dni-treeview\"><summary><span class=\"dni-code-hint\"><code>Microsoft.FSharp.Collections.FSharpList`1[T]</code></span></summary><div><table><thead><tr></tr></thead><tbody><tr><td>ParameterType</td><td><span><a href=\"https://docs.microsoft.com/dotnet/api/microsoft.fsharp.collections.fsharplist-1?view=net-7.0\">Microsoft.FSharp.Collections.FSharpList&lt;T&gt;</a></span></td></tr><tr><td>Name</td><td><div class=\"dni-plaintext\"><pre>&lt;null&gt;</pre></div></td></tr><tr><td>HasDefaultValue</td><td><div class=\"dni-plaintext\"><pre>False</pre></div></td></tr><tr><td>DefaultValue</td><td><details class=\"dni-treeview\"><summary><span class=\"dni-code-hint\"><code></code></span></summary><div><table><thead><tr></tr></thead><tbody></tbody></table></div></details></td></tr><tr><td>RawDefaultValue</td><td><details class=\"dni-treeview\"><summary><span class=\"dni-code-hint\"><code></code></span></summary><div><table><thead><tr></tr></thead><tbody></tbody></table></div></details></td></tr><tr><td>MetadataToken</td><td><div class=\"dni-plaintext\"><pre>134217728</pre></div></td></tr><tr><td>Attributes</td><td><span>None</span></td></tr><tr><td>Member</td><td><details class=\"dni-treeview\"><summary><span class=\"dni-code-hint\"><code>Microsoft.FSharp.Collections.FSharpList`1[T] get_Tail()</code></span></summary><div><table><thead><tr></tr></thead><tbody><tr><td>Name</td><td>get_Tail</td></tr><tr><td>DeclaringType</td><td>Microsoft.FSharp.Collections.FSharpList`1[T]</td></tr><tr><td>ReflectedType</td><td>Microsoft.FSharp.Collections.FSharpList`1[T]</td></tr><tr><td>MemberType</td><td>Method</td></tr><tr><td>MetadataToken</td><td>100663766</td></tr><tr><td>Module</td><td>FSharp.Core.dll</td></tr><tr><td>IsSecurityCritical</td><td>True</td></tr><tr><td>IsSecuritySafeCritical</td><td>False</td></tr><tr><td>IsSecurityTransparent</td><td>False</td></tr><tr><td>MethodHandle</td><td>System.RuntimeMethodHandle</td></tr><tr><td>Attributes</td><td>Public, HideBySig, SpecialName</td></tr><tr><td>CallingConvention</td><td>Standard, HasThis</td></tr><tr><td>ReturnType</td><td>Microsoft.FSharp.Collections.FSharpList`1[T]</td></tr><tr><td>ReturnTypeCustomAttributes</td><td>Microsoft.FSharp.Collections.FSharpList`1[T]</td></tr><tr><td>ReturnParameter</td><td>Microsoft.FSharp.Collections.FSharpList`1[T]</td></tr><tr><td>IsCollectible</td><td>False</td></tr><tr><td>IsGenericMethod</td><td>False</td></tr><tr><td>IsGenericMethodDefinition</td><td>False</td></tr><tr><td>ContainsGenericParameters</td><td>True</td></tr><tr><td>MethodImplementationFlags</td><td>IL</td></tr><tr><td>IsAbstract</td><td>False</td></tr><tr><td>IsConstructor</td><td>False</td></tr><tr><td>IsFinal</td><td>False</td></tr><tr><td>IsHideBySig</td><td>True</td></tr><tr><td>IsSpecialName</td><td>True</td></tr><tr><td>IsStatic</td><td>False</td></tr><tr><td>IsVirtual</td><td>False</td></tr><tr><td>IsAssembly</td><td>False</td></tr><tr><td>IsFamily</td><td>False</td></tr><tr><td>IsFamilyAndAssembly</td><td>False</td></tr><tr><td>IsFamilyOrAssembly</td><td>False</td></tr><tr><td>IsPrivate</td><td>False</td></tr><tr><td>IsPublic</td><td>True</td></tr><tr><td>IsConstructedGenericMethod</td><td>False</td></tr><tr><td>CustomAttributes</td><td>[  ]</td></tr></tbody></table></div></details></td></tr><tr><td>Position</td><td><div class=\"dni-plaintext\"><pre>-1</pre></div></td></tr><tr><td>IsIn</td><td><div class=\"dni-plaintext\"><pre>False</pre></div></td></tr><tr><td>IsLcid</td><td><div class=\"dni-plaintext\"><pre>False</pre></div></td></tr><tr><td>IsOptional</td><td><div class=\"dni-plaintext\"><pre>False</pre></div></td></tr><tr><td>IsOut</td><td><div class=\"dni-plaintext\"><pre>False</pre></div></td></tr><tr><td>IsRetval</td><td><div class=\"dni-plaintext\"><pre>False</pre></div></td></tr><tr><td>CustomAttributes</td><td><i>(empty)</i></td></tr></tbody></table></div></details></td></tr><tr><td>ReturnParameter</td><td><details class=\"dni-treeview\"><summary><span class=\"dni-code-hint\"><code>Microsoft.FSharp.Collections.FSharpList`1[T]</code></span></summary><div><table><thead><tr></tr></thead><tbody><tr><td>ParameterType</td><td><span><a href=\"https://docs.microsoft.com/dotnet/api/microsoft.fsharp.collections.fsharplist-1?view=net-7.0\">Microsoft.FSharp.Collections.FSharpList&lt;T&gt;</a></span></td></tr><tr><td>Name</td><td><div class=\"dni-plaintext\"><pre>&lt;null&gt;</pre></div></td></tr><tr><td>HasDefaultValue</td><td><div class=\"dni-plaintext\"><pre>False</pre></div></td></tr><tr><td>DefaultValue</td><td><details class=\"dni-treeview\"><summary><span class=\"dni-code-hint\"><code></code></span></summary><div><table><thead><tr></tr></thead><tbody></tbody></table></div></details></td></tr><tr><td>RawDefaultValue</td><td><details class=\"dni-treeview\"><summary><span class=\"dni-code-hint\"><code></code></span></summary><div><table><thead><tr></tr></thead><tbody></tbody></table></div></details></td></tr><tr><td>MetadataToken</td><td><div class=\"dni-plaintext\"><pre>134217728</pre></div></td></tr><tr><td>Attributes</td><td><span>None</span></td></tr><tr><td>Member</td><td><details class=\"dni-treeview\"><summary><span class=\"dni-code-hint\"><code>Microsoft.FSharp.Collections.FSharpList`1[T] get_Tail()</code></span></summary><div><table><thead><tr></tr></thead><tbody><tr><td>Name</td><td>get_Tail</td></tr><tr><td>DeclaringType</td><td>Microsoft.FSharp.Collections.FSharpList`1[T]</td></tr><tr><td>ReflectedType</td><td>Microsoft.FSharp.Collections.FSharpList`1[T]</td></tr><tr><td>MemberType</td><td>Method</td></tr><tr><td>MetadataToken</td><td>100663766</td></tr><tr><td>Module</td><td>FSharp.Core.dll</td></tr><tr><td>IsSecurityCritical</td><td>True</td></tr><tr><td>IsSecuritySafeCritical</td><td>False</td></tr><tr><td>IsSecurityTransparent</td><td>False</td></tr><tr><td>MethodHandle</td><td>System.RuntimeMethodHandle</td></tr><tr><td>Attributes</td><td>Public, HideBySig, SpecialName</td></tr><tr><td>CallingConvention</td><td>Standard, HasThis</td></tr><tr><td>ReturnType</td><td>Microsoft.FSharp.Collections.FSharpList`1[T]</td></tr><tr><td>ReturnTypeCustomAttributes</td><td>Microsoft.FSharp.Collections.FSharpList`1[T]</td></tr><tr><td>ReturnParameter</td><td>Microsoft.FSharp.Collections.FSharpList`1[T]</td></tr><tr><td>IsCollectible</td><td>False</td></tr><tr><td>IsGenericMethod</td><td>False</td></tr><tr><td>IsGenericMethodDefinition</td><td>False</td></tr><tr><td>ContainsGenericParameters</td><td>True</td></tr><tr><td>MethodImplementationFlags</td><td>IL</td></tr><tr><td>IsAbstract</td><td>False</td></tr><tr><td>IsConstructor</td><td>False</td></tr><tr><td>IsFinal</td><td>False</td></tr><tr><td>IsHideBySig</td><td>True</td></tr><tr><td>IsSpecialName</td><td>True</td></tr><tr><td>IsStatic</td><td>False</td></tr><tr><td>IsVirtual</td><td>False</td></tr><tr><td>IsAssembly</td><td>False</td></tr><tr><td>IsFamily</td><td>False</td></tr><tr><td>IsFamilyAndAssembly</td><td>False</td></tr><tr><td>IsFamilyOrAssembly</td><td>False</td></tr><tr><td>IsPrivate</td><td>False</td></tr><tr><td>IsPublic</td><td>True</td></tr><tr><td>IsConstructedGenericMethod</td><td>False</td></tr><tr><td>CustomAttributes</td><td>[  ]</td></tr></tbody></table></div></details></td></tr><tr><td>Position</td><td><div class=\"dni-plaintext\"><pre>-1</pre></div></td></tr><tr><td>IsIn</td><td><div class=\"dni-plaintext\"><pre>False</pre></div></td></tr><tr><td>IsLcid</td><td><div class=\"dni-plaintext\"><pre>False</pre></div></td></tr><tr><td>IsOptional</td><td><div class=\"dni-plaintext\"><pre>False</pre></div></td></tr><tr><td>IsOut</td><td><div class=\"dni-plaintext\"><pre>False</pre></div></td></tr><tr><td>IsRetval</td><td><div class=\"dni-plaintext\"><pre>False</pre></div></td></tr><tr><td>CustomAttributes</td><td><i>(empty)</i></td></tr></tbody></table></div></details></td></tr><tr><td>IsCollectible</td><td><div class=\"dni-plaintext\"><pre>False</pre></div></td></tr><tr><td>IsGenericMethod</td><td><div class=\"dni-plaintext\"><pre>False</pre></div></td></tr><tr><td>IsGenericMethodDefinition</td><td><div class=\"dni-plaintext\"><pre>False</pre></div></td></tr><tr><td>ContainsGenericParameters</td><td><div class=\"dni-plaintext\"><pre>True</pre></div></td></tr><tr><td>MethodImplementationFlags</td><td><span>IL</span></td></tr><tr><td>IsAbstract</td><td><div class=\"dni-plaintext\"><pre>False</pre></div></td></tr><tr><td>IsConstructor</td><td><div class=\"dni-plaintext\"><pre>False</pre></div></td></tr><tr><td>IsFinal</td><td><div class=\"dni-plaintext\"><pre>False</pre></div></td></tr><tr><td>IsHideBySig</td><td><div class=\"dni-plaintext\"><pre>True</pre></div></td></tr><tr><td>IsSpecialName</td><td><div class=\"dni-plaintext\"><pre>True</pre></div></td></tr><tr><td>IsStatic</td><td><div class=\"dni-plaintext\"><pre>False</pre></div></td></tr><tr><td>IsVirtual</td><td><div class=\"dni-plaintext\"><pre>False</pre></div></td></tr><tr><td>IsAssembly</td><td><div class=\"dni-plaintext\"><pre>False</pre></div></td></tr><tr><td>IsFamily</td><td><div class=\"dni-plaintext\"><pre>False</pre></div></td></tr><tr><td>IsFamilyAndAssembly</td><td><div class=\"dni-plaintext\"><pre>False</pre></div></td></tr><tr><td>IsFamilyOrAssembly</td><td><div class=\"dni-plaintext\"><pre>False</pre></div></td></tr><tr><td>IsPrivate</td><td><div class=\"dni-plaintext\"><pre>False</pre></div></td></tr><tr><td>IsPublic</td><td><div class=\"dni-plaintext\"><pre>True</pre></div></td></tr><tr><td>IsConstructedGenericMethod</td><td><div class=\"dni-plaintext\"><pre>False</pre></div></td></tr><tr><td>CustomAttributes</td><td><i>(empty)</i></td></tr></tbody></table></div></details></td></tr><tr><td>Message</td><td><div class=\"dni-plaintext\"><pre>The input list was empty.</pre></div></td></tr><tr><td>Data</td><td><i>(empty)</i></td></tr><tr><td>InnerException</td><td><div class=\"dni-plaintext\"><pre>&lt;null&gt;</pre></div></td></tr><tr><td>HelpLink</td><td><div class=\"dni-plaintext\"><pre>&lt;null&gt;</pre></div></td></tr><tr><td>Source</td><td><div class=\"dni-plaintext\"><pre>FSharp.Core</pre></div></td></tr><tr><td>HResult</td><td><div class=\"dni-plaintext\"><pre>-2146233079</pre></div></td></tr><tr><td>StackTrace</td><td><div class=\"dni-plaintext\"><pre>   at Microsoft.FSharp.Collections.FSharpList`1.get_Tail() in D:\\a\\_work\\1\\s\\src\\FSharp.Core\\prim-types.fs:line 4147\r\n",
       "   at lambda_method153(Closure, FSharpList`1)\r\n",
       "   at Microsoft.DotNet.Interactive.Formatting.MemberAccessor`1.GetValueOrException(T instance) in D:\\a\\_work\\1\\s\\src\\Microsoft.DotNet.Interactive.Formatting\\MemberAccessor{T}.cs:line 58</pre></div></td></tr></tbody></table></div></details></td></tr><tr><td><i>(values)</i></td><td><i>(empty)</i></td></tr></tbody></table></div></details></td></tr><tr><td>Type</td><td><span><a href=\"https://docs.microsoft.com/dotnet/api/system.double?view=net-7.0\">System.Double</a></span></td></tr></tbody></table></div></details><style>\r\n",
       ".dni-code-hint {\r\n",
       "    font-style: italic;\r\n",
       "    overflow: hidden;\r\n",
       "    white-space: nowrap;\r\n",
       "}\r\n",
       ".dni-treeview {\r\n",
       "    white-space: nowrap;\r\n",
       "}\r\n",
       ".dni-treeview td {\r\n",
       "    vertical-align: top;\r\n",
       "    text-align: start;\r\n",
       "}\r\n",
       "details.dni-treeview {\r\n",
       "    padding-left: 1em;\r\n",
       "}\r\n",
       "table td {\r\n",
       "    text-align: start;\r\n",
       "}\r\n",
       "table tr { \r\n",
       "    vertical-align: top; \r\n",
       "    margin: 0em 0px;\r\n",
       "}\r\n",
       "table tr td pre \r\n",
       "{ \r\n",
       "    vertical-align: top !important; \r\n",
       "    margin: 0em 0px !important;\r\n",
       "} \r\n",
       "table th {\r\n",
       "    text-align: start;\r\n",
       "}\r\n",
       "</style>"
      ]
     },
     "execution_count": 32,
     "metadata": {},
     "output_type": "execute_result"
    }
   ],
   "source": [
    "2 *(x *** 2) |> sexpr //Get the underlying F# quotation corresponding to this expression"
   ]
  },
  {
   "cell_type": "code",
   "execution_count": 33,
   "id": "8811433a",
   "metadata": {
    "slideshow": {
     "slide_type": "fragment"
    }
   },
   "outputs": [
    {
     "data": {
      "text/html": [
       "<details open=\"open\" class=\"dni-treeview\"><summary><span class=\"dni-code-hint\"><code>Call (None, op_Addition,\\n      [Value (-4.0),\\n       Call (None, op_Multiply,\\n             [Value (2.0), Call (None, op_Exponentiation, [x, Value (2.0)])])])</code></span></summary><div><table><thead><tr></tr></thead><tbody><tr><td>Raw</td><td><details class=\"dni-treeview\"><summary><span class=\"dni-code-hint\"><code>Call (None, op_Addition,\\n      [Value (-4.0),\\n       Call (None, op_Multiply,\\n             [Value (2.0), Call (None, op_Exponentiation, [x, Value (2.0)])])])</code></span></summary><div><table><thead><tr></tr></thead><tbody><tr><td>Raw</td><td><details class=\"dni-treeview\"><summary><span class=\"dni-code-hint\"><code>Call (None, op_Addition,\\n      [Value (-4.0),\\n       Call (None, op_Multiply,\\n             [Value (2.0), Call (None, op_Exponentiation, [x, Value (2.0)])])])</code></span></summary><div><table><thead><tr></tr></thead><tbody><tr><td>Raw</td><td><details class=\"dni-treeview\"><summary><span class=\"dni-code-hint\"><code>Call (None, op_Addition,\\n      [Value (-4.0),\\n       Call (None, op_Multiply,\\n             [Value (2.0), Call (None, op_Exponentiation, [x, Value (2.0)])])])</code></span></summary><div><table><thead><tr></tr></thead><tbody><tr><td>Raw</td><td><details class=\"dni-treeview\"><summary><span class=\"dni-code-hint\"><code>Call (None, op_Addition,\\n      [Value (-4.0),\\n       Call (None, op_Multiply,\\n             [Value (2.0), Call (None, op_Exponentiation, [x, Value (2.0)])])])</code></span></summary><div><table><thead><tr></tr></thead><tbody><tr><td>Raw</td><td><details class=\"dni-treeview\"><summary><span class=\"dni-code-hint\"><code>Call (None, op_Addition,\\n      [Value (-4.0),\\n       Call (None, op_Multiply,\\n             [Value (2.0), Call (None, op_Exponentiation, [x, Value (2.0)])])])</code></span></summary><div><table><thead><tr></tr></thead><tbody><tr><td>Raw</td><td>Call (None, op_Addition,\n",
       "      [Value (-4.0),\n",
       "       Call (None, op_Multiply,\n",
       "             [Value (2.0), Call (None, op_Exponentiation, [x, Value (2.0)])])])</td></tr><tr><td>CustomAttributes</td><td>[  ]</td></tr><tr><td>Type</td><td>System.Double</td></tr></tbody></table></div></details></td></tr><tr><td>CustomAttributes</td><td><details class=\"dni-treeview\"><summary><span class=\"dni-code-hint\"><code>[  ]</code></span></summary><div><table><thead><tr></tr></thead><tbody><tr><td>HeadOrDefault</td><td><div class=\"dni-plaintext\"><pre>&lt;null&gt;</pre></div></td></tr><tr><td>TailOrNull</td><td><div class=\"dni-plaintext\"><pre>&lt;null&gt;</pre></div></td></tr><tr><td>Head</td><td>System.InvalidOperationException: The input list was empty.\r\n",
       "   at Microsoft.FSharp.Collections.FSharpList`1.get_Head() in D:\\a\\_work\\1\\s\\src\\FSharp.Core\\prim-types.fs:line 4142\r\n",
       "   at lambda_method152(Closure, FSharpList`1)\r\n",
       "   at Microsoft.DotNet.Interactive.Formatting.MemberAccessor`1.GetValueOrException(T instance) in D:\\a\\_work\\1\\s\\src\\Microsoft.DotNet.Interactive.Formatting\\MemberAccessor{T}.cs:line 58</td></tr><tr><td>Tail</td><td>System.InvalidOperationException: The input list was empty.\r\n",
       "   at Microsoft.FSharp.Collections.FSharpList`1.get_Tail() in D:\\a\\_work\\1\\s\\src\\FSharp.Core\\prim-types.fs:line 4147\r\n",
       "   at lambda_method153(Closure, FSharpList`1)\r\n",
       "   at Microsoft.DotNet.Interactive.Formatting.MemberAccessor`1.GetValueOrException(T instance) in D:\\a\\_work\\1\\s\\src\\Microsoft.DotNet.Interactive.Formatting\\MemberAccessor{T}.cs:line 58</td></tr><tr><td><i>(values)</i></td><td><i>(empty)</i></td></tr></tbody></table></div></details></td></tr><tr><td>Type</td><td><span><a href=\"https://docs.microsoft.com/dotnet/api/system.double?view=net-7.0\">System.Double</a></span></td></tr></tbody></table></div></details></td></tr><tr><td>CustomAttributes</td><td><details class=\"dni-treeview\"><summary><span class=\"dni-code-hint\"><code>[  ]</code></span></summary><div><table><thead><tr></tr></thead><tbody><tr><td>HeadOrDefault</td><td><div class=\"dni-plaintext\"><pre>&lt;null&gt;</pre></div></td></tr><tr><td>TailOrNull</td><td><div class=\"dni-plaintext\"><pre>&lt;null&gt;</pre></div></td></tr><tr><td>Head</td><td><details class=\"dni-treeview\"><summary><span class=\"dni-code-hint\"><code>System.InvalidOperationException: The input list was empty.\\r\\n   at Microsoft.FSharp.Collections.FSharpList`1.get_Head() in D:\\a\\_work\\1\\s\\src\\FSharp.Core\\prim-types.fs:line 4142\\r\\n   at lambda_method152(Closure, FSharpList`1)\\r\\n   at Microsoft.DotNet.Interactive.Formatting.MemberAccessor`1.GetVa...</code></span></summary><div><table><thead><tr></tr></thead><tbody><tr><td>TargetSite</td><td>T get_Head()</td></tr><tr><td>Message</td><td>The input list was empty.</td></tr><tr><td>Data</td><td>[  ]</td></tr><tr><td>InnerException</td><td><div class=\"dni-plaintext\"><pre>&lt;null&gt;</pre></div></td></tr><tr><td>HelpLink</td><td><div class=\"dni-plaintext\"><pre>&lt;null&gt;</pre></div></td></tr><tr><td>Source</td><td>FSharp.Core</td></tr><tr><td>HResult</td><td>-2146233079</td></tr><tr><td>StackTrace</td><td>   at Microsoft.FSharp.Collections.FSharpList`1.get_Head() in D:\\a\\_work\\1\\s\\src\\FSharp.Core\\prim-types.fs:line 4142\r\n",
       "   at lambda_method152(Closure, FSharpList`1)\r\n",
       "   at Microsoft.DotNet.Interactive.Formatting.MemberAccessor`1.GetValueOrException(T instance) in D:\\a\\_work\\1\\s\\src\\Microsoft.DotNet.Interactive.Formatting\\MemberAccessor{T}.cs:line 58</td></tr></tbody></table></div></details></td></tr><tr><td>Tail</td><td><details class=\"dni-treeview\"><summary><span class=\"dni-code-hint\"><code>System.InvalidOperationException: The input list was empty.\\r\\n   at Microsoft.FSharp.Collections.FSharpList`1.get_Tail() in D:\\a\\_work\\1\\s\\src\\FSharp.Core\\prim-types.fs:line 4147\\r\\n   at lambda_method153(Closure, FSharpList`1)\\r\\n   at Microsoft.DotNet.Interactive.Formatting.MemberAccessor`1.GetVa...</code></span></summary><div><table><thead><tr></tr></thead><tbody><tr><td>TargetSite</td><td>Microsoft.FSharp.Collections.FSharpList`1[T] get_Tail()</td></tr><tr><td>Message</td><td>The input list was empty.</td></tr><tr><td>Data</td><td>[  ]</td></tr><tr><td>InnerException</td><td><div class=\"dni-plaintext\"><pre>&lt;null&gt;</pre></div></td></tr><tr><td>HelpLink</td><td><div class=\"dni-plaintext\"><pre>&lt;null&gt;</pre></div></td></tr><tr><td>Source</td><td>FSharp.Core</td></tr><tr><td>HResult</td><td>-2146233079</td></tr><tr><td>StackTrace</td><td>   at Microsoft.FSharp.Collections.FSharpList`1.get_Tail() in D:\\a\\_work\\1\\s\\src\\FSharp.Core\\prim-types.fs:line 4147\r\n",
       "   at lambda_method153(Closure, FSharpList`1)\r\n",
       "   at Microsoft.DotNet.Interactive.Formatting.MemberAccessor`1.GetValueOrException(T instance) in D:\\a\\_work\\1\\s\\src\\Microsoft.DotNet.Interactive.Formatting\\MemberAccessor{T}.cs:line 58</td></tr></tbody></table></div></details></td></tr><tr><td><i>(values)</i></td><td><i>(empty)</i></td></tr></tbody></table></div></details></td></tr><tr><td>Type</td><td><span><a href=\"https://docs.microsoft.com/dotnet/api/system.double?view=net-7.0\">System.Double</a></span></td></tr></tbody></table></div></details></td></tr><tr><td>CustomAttributes</td><td><details class=\"dni-treeview\"><summary><span class=\"dni-code-hint\"><code>[  ]</code></span></summary><div><table><thead><tr></tr></thead><tbody><tr><td>HeadOrDefault</td><td><div class=\"dni-plaintext\"><pre>&lt;null&gt;</pre></div></td></tr><tr><td>TailOrNull</td><td><div class=\"dni-plaintext\"><pre>&lt;null&gt;</pre></div></td></tr><tr><td>Head</td><td><details class=\"dni-treeview\"><summary><span class=\"dni-code-hint\"><code>System.InvalidOperationException: The input list was empty.\\r\\n   at Microsoft.FSharp.Collections.FSharpList`1.get_Head() in D:\\a\\_work\\1\\s\\src\\FSharp.Core\\prim-types.fs:line 4142\\r\\n   at lambda_method152(Closure, FSharpList`1)\\r\\n   at Microsoft.DotNet.Interactive.Formatting.MemberAccessor`1.GetVa...</code></span></summary><div><table><thead><tr></tr></thead><tbody><tr><td>TargetSite</td><td><details class=\"dni-treeview\"><summary><span class=\"dni-code-hint\"><code>T get_Head()</code></span></summary><div><table><thead><tr></tr></thead><tbody><tr><td>Name</td><td>get_Head</td></tr><tr><td>DeclaringType</td><td>Microsoft.FSharp.Collections.FSharpList`1[T]</td></tr><tr><td>ReflectedType</td><td>Microsoft.FSharp.Collections.FSharpList`1[T]</td></tr><tr><td>MemberType</td><td>Method</td></tr><tr><td>MetadataToken</td><td>100663765</td></tr><tr><td>Module</td><td>FSharp.Core.dll</td></tr><tr><td>IsSecurityCritical</td><td>True</td></tr><tr><td>IsSecuritySafeCritical</td><td>False</td></tr><tr><td>IsSecurityTransparent</td><td>False</td></tr><tr><td>MethodHandle</td><td>System.RuntimeMethodHandle</td></tr><tr><td>Attributes</td><td>Public, HideBySig, SpecialName</td></tr><tr><td>CallingConvention</td><td>Standard, HasThis</td></tr><tr><td>ReturnType</td><td>T</td></tr><tr><td>ReturnTypeCustomAttributes</td><td>T</td></tr><tr><td>ReturnParameter</td><td>T</td></tr><tr><td>IsCollectible</td><td>False</td></tr><tr><td>IsGenericMethod</td><td>False</td></tr><tr><td>IsGenericMethodDefinition</td><td>False</td></tr><tr><td>ContainsGenericParameters</td><td>True</td></tr><tr><td>MethodImplementationFlags</td><td>IL</td></tr><tr><td>IsAbstract</td><td>False</td></tr><tr><td>IsConstructor</td><td>False</td></tr><tr><td>IsFinal</td><td>False</td></tr><tr><td>IsHideBySig</td><td>True</td></tr><tr><td>IsSpecialName</td><td>True</td></tr><tr><td>IsStatic</td><td>False</td></tr><tr><td>IsVirtual</td><td>False</td></tr><tr><td>IsAssembly</td><td>False</td></tr><tr><td>IsFamily</td><td>False</td></tr><tr><td>IsFamilyAndAssembly</td><td>False</td></tr><tr><td>IsFamilyOrAssembly</td><td>False</td></tr><tr><td>IsPrivate</td><td>False</td></tr><tr><td>IsPublic</td><td>True</td></tr><tr><td>IsConstructedGenericMethod</td><td>False</td></tr><tr><td>CustomAttributes</td><td>[  ]</td></tr></tbody></table></div></details></td></tr><tr><td>Message</td><td><div class=\"dni-plaintext\"><pre>The input list was empty.</pre></div></td></tr><tr><td>Data</td><td><i>(empty)</i></td></tr><tr><td>InnerException</td><td><div class=\"dni-plaintext\"><pre>&lt;null&gt;</pre></div></td></tr><tr><td>HelpLink</td><td><div class=\"dni-plaintext\"><pre>&lt;null&gt;</pre></div></td></tr><tr><td>Source</td><td><div class=\"dni-plaintext\"><pre>FSharp.Core</pre></div></td></tr><tr><td>HResult</td><td><div class=\"dni-plaintext\"><pre>-2146233079</pre></div></td></tr><tr><td>StackTrace</td><td><div class=\"dni-plaintext\"><pre>   at Microsoft.FSharp.Collections.FSharpList`1.get_Head() in D:\\a\\_work\\1\\s\\src\\FSharp.Core\\prim-types.fs:line 4142\r\n",
       "   at lambda_method152(Closure, FSharpList`1)\r\n",
       "   at Microsoft.DotNet.Interactive.Formatting.MemberAccessor`1.GetValueOrException(T instance) in D:\\a\\_work\\1\\s\\src\\Microsoft.DotNet.Interactive.Formatting\\MemberAccessor{T}.cs:line 58</pre></div></td></tr></tbody></table></div></details></td></tr><tr><td>Tail</td><td><details class=\"dni-treeview\"><summary><span class=\"dni-code-hint\"><code>System.InvalidOperationException: The input list was empty.\\r\\n   at Microsoft.FSharp.Collections.FSharpList`1.get_Tail() in D:\\a\\_work\\1\\s\\src\\FSharp.Core\\prim-types.fs:line 4147\\r\\n   at lambda_method153(Closure, FSharpList`1)\\r\\n   at Microsoft.DotNet.Interactive.Formatting.MemberAccessor`1.GetVa...</code></span></summary><div><table><thead><tr></tr></thead><tbody><tr><td>TargetSite</td><td><details class=\"dni-treeview\"><summary><span class=\"dni-code-hint\"><code>Microsoft.FSharp.Collections.FSharpList`1[T] get_Tail()</code></span></summary><div><table><thead><tr></tr></thead><tbody><tr><td>Name</td><td>get_Tail</td></tr><tr><td>DeclaringType</td><td>Microsoft.FSharp.Collections.FSharpList`1[T]</td></tr><tr><td>ReflectedType</td><td>Microsoft.FSharp.Collections.FSharpList`1[T]</td></tr><tr><td>MemberType</td><td>Method</td></tr><tr><td>MetadataToken</td><td>100663766</td></tr><tr><td>Module</td><td>FSharp.Core.dll</td></tr><tr><td>IsSecurityCritical</td><td>True</td></tr><tr><td>IsSecuritySafeCritical</td><td>False</td></tr><tr><td>IsSecurityTransparent</td><td>False</td></tr><tr><td>MethodHandle</td><td>System.RuntimeMethodHandle</td></tr><tr><td>Attributes</td><td>Public, HideBySig, SpecialName</td></tr><tr><td>CallingConvention</td><td>Standard, HasThis</td></tr><tr><td>ReturnType</td><td>Microsoft.FSharp.Collections.FSharpList`1[T]</td></tr><tr><td>ReturnTypeCustomAttributes</td><td>Microsoft.FSharp.Collections.FSharpList`1[T]</td></tr><tr><td>ReturnParameter</td><td>Microsoft.FSharp.Collections.FSharpList`1[T]</td></tr><tr><td>IsCollectible</td><td>False</td></tr><tr><td>IsGenericMethod</td><td>False</td></tr><tr><td>IsGenericMethodDefinition</td><td>False</td></tr><tr><td>ContainsGenericParameters</td><td>True</td></tr><tr><td>MethodImplementationFlags</td><td>IL</td></tr><tr><td>IsAbstract</td><td>False</td></tr><tr><td>IsConstructor</td><td>False</td></tr><tr><td>IsFinal</td><td>False</td></tr><tr><td>IsHideBySig</td><td>True</td></tr><tr><td>IsSpecialName</td><td>True</td></tr><tr><td>IsStatic</td><td>False</td></tr><tr><td>IsVirtual</td><td>False</td></tr><tr><td>IsAssembly</td><td>False</td></tr><tr><td>IsFamily</td><td>False</td></tr><tr><td>IsFamilyAndAssembly</td><td>False</td></tr><tr><td>IsFamilyOrAssembly</td><td>False</td></tr><tr><td>IsPrivate</td><td>False</td></tr><tr><td>IsPublic</td><td>True</td></tr><tr><td>IsConstructedGenericMethod</td><td>False</td></tr><tr><td>CustomAttributes</td><td>[  ]</td></tr></tbody></table></div></details></td></tr><tr><td>Message</td><td><div class=\"dni-plaintext\"><pre>The input list was empty.</pre></div></td></tr><tr><td>Data</td><td><i>(empty)</i></td></tr><tr><td>InnerException</td><td><div class=\"dni-plaintext\"><pre>&lt;null&gt;</pre></div></td></tr><tr><td>HelpLink</td><td><div class=\"dni-plaintext\"><pre>&lt;null&gt;</pre></div></td></tr><tr><td>Source</td><td><div class=\"dni-plaintext\"><pre>FSharp.Core</pre></div></td></tr><tr><td>HResult</td><td><div class=\"dni-plaintext\"><pre>-2146233079</pre></div></td></tr><tr><td>StackTrace</td><td><div class=\"dni-plaintext\"><pre>   at Microsoft.FSharp.Collections.FSharpList`1.get_Tail() in D:\\a\\_work\\1\\s\\src\\FSharp.Core\\prim-types.fs:line 4147\r\n",
       "   at lambda_method153(Closure, FSharpList`1)\r\n",
       "   at Microsoft.DotNet.Interactive.Formatting.MemberAccessor`1.GetValueOrException(T instance) in D:\\a\\_work\\1\\s\\src\\Microsoft.DotNet.Interactive.Formatting\\MemberAccessor{T}.cs:line 58</pre></div></td></tr></tbody></table></div></details></td></tr><tr><td><i>(values)</i></td><td><i>(empty)</i></td></tr></tbody></table></div></details></td></tr><tr><td>Type</td><td><span><a href=\"https://docs.microsoft.com/dotnet/api/system.double?view=net-7.0\">System.Double</a></span></td></tr></tbody></table></div></details></td></tr><tr><td>CustomAttributes</td><td><details class=\"dni-treeview\"><summary><span class=\"dni-code-hint\"><code>[  ]</code></span></summary><div><table><thead><tr></tr></thead><tbody><tr><td>HeadOrDefault</td><td><div class=\"dni-plaintext\"><pre>&lt;null&gt;</pre></div></td></tr><tr><td>TailOrNull</td><td><div class=\"dni-plaintext\"><pre>&lt;null&gt;</pre></div></td></tr><tr><td>Head</td><td><details class=\"dni-treeview\"><summary><span class=\"dni-code-hint\"><code>System.InvalidOperationException: The input list was empty.\\r\\n   at Microsoft.FSharp.Collections.FSharpList`1.get_Head() in D:\\a\\_work\\1\\s\\src\\FSharp.Core\\prim-types.fs:line 4142\\r\\n   at lambda_method152(Closure, FSharpList`1)\\r\\n   at Microsoft.DotNet.Interactive.Formatting.MemberAccessor`1.GetVa...</code></span></summary><div><table><thead><tr></tr></thead><tbody><tr><td>TargetSite</td><td><details class=\"dni-treeview\"><summary><span class=\"dni-code-hint\"><code>T get_Head()</code></span></summary><div><table><thead><tr></tr></thead><tbody><tr><td>Name</td><td><div class=\"dni-plaintext\"><pre>get_Head</pre></div></td></tr><tr><td>DeclaringType</td><td><span><a href=\"https://docs.microsoft.com/dotnet/api/microsoft.fsharp.collections.fsharplist-1?view=net-7.0\">Microsoft.FSharp.Collections.FSharpList&lt;T&gt;</a></span></td></tr><tr><td>ReflectedType</td><td><span><a href=\"https://docs.microsoft.com/dotnet/api/microsoft.fsharp.collections.fsharplist-1?view=net-7.0\">Microsoft.FSharp.Collections.FSharpList&lt;T&gt;</a></span></td></tr><tr><td>MemberType</td><td><span>Method</span></td></tr><tr><td>MetadataToken</td><td><div class=\"dni-plaintext\"><pre>100663765</pre></div></td></tr><tr><td>Module</td><td><details class=\"dni-treeview\"><summary><span class=\"dni-code-hint\"><code>FSharp.Core.dll</code></span></summary><div><table><thead><tr></tr></thead><tbody><tr><td>MDStreamVersion</td><td>131072</td></tr><tr><td>FullyQualifiedName</td><td>C:\\Users\\Allister\\.dotnet\\tools\\.store\\microsoft.dotnet-interactive\\1.0.561101\\microsoft.dotnet-interactive\\1.0.561101\\tools\\net8.0\\any\\FSharp.Core.dll</td></tr><tr><td>ModuleVersionId</td><td>57a9edab-ee61-61ca-19e6-f818cb833bb4</td></tr><tr><td>MetadataToken</td><td>1</td></tr><tr><td>ScopeName</td><td>FSharp.Core.dll</td></tr><tr><td>Name</td><td>FSharp.Core.dll</td></tr><tr><td>Assembly</td><td>FSharp.Core, Version=8.0.0.0, Culture=neutral, PublicKeyToken=b03f5f7f11d50a3a</td></tr><tr><td>ModuleHandle</td><td>System.ModuleHandle</td></tr><tr><td>CustomAttributes</td><td>[  ]</td></tr></tbody></table></div></details></td></tr><tr><td>IsSecurityCritical</td><td><div class=\"dni-plaintext\"><pre>True</pre></div></td></tr><tr><td>IsSecuritySafeCritical</td><td><div class=\"dni-plaintext\"><pre>False</pre></div></td></tr><tr><td>IsSecurityTransparent</td><td><div class=\"dni-plaintext\"><pre>False</pre></div></td></tr><tr><td>MethodHandle</td><td><details class=\"dni-treeview\"><summary><span class=\"dni-code-hint\"><code>System.RuntimeMethodHandle</code></span></summary><div><table><thead><tr></tr></thead><tbody><tr><td>Value</td><td>140719915284888</td></tr></tbody></table></div></details></td></tr><tr><td>Attributes</td><td><span>Public, HideBySig, SpecialName</span></td></tr><tr><td>CallingConvention</td><td><span>Standard, HasThis</span></td></tr><tr><td>ReturnType</td><td>T</td></tr><tr><td>ReturnTypeCustomAttributes</td><td><details class=\"dni-treeview\"><summary><span class=\"dni-code-hint\"><code>T</code></span></summary><div><table><thead><tr></tr></thead><tbody><tr><td>ParameterType</td><td>T</td></tr><tr><td>Name</td><td><div class=\"dni-plaintext\"><pre>&lt;null&gt;</pre></div></td></tr><tr><td>HasDefaultValue</td><td>False</td></tr><tr><td>DefaultValue</td><td></td></tr><tr><td>RawDefaultValue</td><td></td></tr><tr><td>MetadataToken</td><td>134217728</td></tr><tr><td>Attributes</td><td>None</td></tr><tr><td>Member</td><td>T get_Head()</td></tr><tr><td>Position</td><td>-1</td></tr><tr><td>IsIn</td><td>False</td></tr><tr><td>IsLcid</td><td>False</td></tr><tr><td>IsOptional</td><td>False</td></tr><tr><td>IsOut</td><td>False</td></tr><tr><td>IsRetval</td><td>False</td></tr><tr><td>CustomAttributes</td><td>[  ]</td></tr></tbody></table></div></details></td></tr><tr><td>ReturnParameter</td><td><details class=\"dni-treeview\"><summary><span class=\"dni-code-hint\"><code>T</code></span></summary><div><table><thead><tr></tr></thead><tbody><tr><td>ParameterType</td><td>T</td></tr><tr><td>Name</td><td><div class=\"dni-plaintext\"><pre>&lt;null&gt;</pre></div></td></tr><tr><td>HasDefaultValue</td><td>False</td></tr><tr><td>DefaultValue</td><td></td></tr><tr><td>RawDefaultValue</td><td></td></tr><tr><td>MetadataToken</td><td>134217728</td></tr><tr><td>Attributes</td><td>None</td></tr><tr><td>Member</td><td>T get_Head()</td></tr><tr><td>Position</td><td>-1</td></tr><tr><td>IsIn</td><td>False</td></tr><tr><td>IsLcid</td><td>False</td></tr><tr><td>IsOptional</td><td>False</td></tr><tr><td>IsOut</td><td>False</td></tr><tr><td>IsRetval</td><td>False</td></tr><tr><td>CustomAttributes</td><td>[  ]</td></tr></tbody></table></div></details></td></tr><tr><td>IsCollectible</td><td><div class=\"dni-plaintext\"><pre>False</pre></div></td></tr><tr><td>IsGenericMethod</td><td><div class=\"dni-plaintext\"><pre>False</pre></div></td></tr><tr><td>IsGenericMethodDefinition</td><td><div class=\"dni-plaintext\"><pre>False</pre></div></td></tr><tr><td>ContainsGenericParameters</td><td><div class=\"dni-plaintext\"><pre>True</pre></div></td></tr><tr><td>MethodImplementationFlags</td><td><span>IL</span></td></tr><tr><td>IsAbstract</td><td><div class=\"dni-plaintext\"><pre>False</pre></div></td></tr><tr><td>IsConstructor</td><td><div class=\"dni-plaintext\"><pre>False</pre></div></td></tr><tr><td>IsFinal</td><td><div class=\"dni-plaintext\"><pre>False</pre></div></td></tr><tr><td>IsHideBySig</td><td><div class=\"dni-plaintext\"><pre>True</pre></div></td></tr><tr><td>IsSpecialName</td><td><div class=\"dni-plaintext\"><pre>True</pre></div></td></tr><tr><td>IsStatic</td><td><div class=\"dni-plaintext\"><pre>False</pre></div></td></tr><tr><td>IsVirtual</td><td><div class=\"dni-plaintext\"><pre>False</pre></div></td></tr><tr><td>IsAssembly</td><td><div class=\"dni-plaintext\"><pre>False</pre></div></td></tr><tr><td>IsFamily</td><td><div class=\"dni-plaintext\"><pre>False</pre></div></td></tr><tr><td>IsFamilyAndAssembly</td><td><div class=\"dni-plaintext\"><pre>False</pre></div></td></tr><tr><td>IsFamilyOrAssembly</td><td><div class=\"dni-plaintext\"><pre>False</pre></div></td></tr><tr><td>IsPrivate</td><td><div class=\"dni-plaintext\"><pre>False</pre></div></td></tr><tr><td>IsPublic</td><td><div class=\"dni-plaintext\"><pre>True</pre></div></td></tr><tr><td>IsConstructedGenericMethod</td><td><div class=\"dni-plaintext\"><pre>False</pre></div></td></tr><tr><td>CustomAttributes</td><td><i>(empty)</i></td></tr></tbody></table></div></details></td></tr><tr><td>Message</td><td><div class=\"dni-plaintext\"><pre>The input list was empty.</pre></div></td></tr><tr><td>Data</td><td><i>(empty)</i></td></tr><tr><td>InnerException</td><td><div class=\"dni-plaintext\"><pre>&lt;null&gt;</pre></div></td></tr><tr><td>HelpLink</td><td><div class=\"dni-plaintext\"><pre>&lt;null&gt;</pre></div></td></tr><tr><td>Source</td><td><div class=\"dni-plaintext\"><pre>FSharp.Core</pre></div></td></tr><tr><td>HResult</td><td><div class=\"dni-plaintext\"><pre>-2146233079</pre></div></td></tr><tr><td>StackTrace</td><td><div class=\"dni-plaintext\"><pre>   at Microsoft.FSharp.Collections.FSharpList`1.get_Head() in D:\\a\\_work\\1\\s\\src\\FSharp.Core\\prim-types.fs:line 4142\r\n",
       "   at lambda_method152(Closure, FSharpList`1)\r\n",
       "   at Microsoft.DotNet.Interactive.Formatting.MemberAccessor`1.GetValueOrException(T instance) in D:\\a\\_work\\1\\s\\src\\Microsoft.DotNet.Interactive.Formatting\\MemberAccessor{T}.cs:line 58</pre></div></td></tr></tbody></table></div></details></td></tr><tr><td>Tail</td><td><details class=\"dni-treeview\"><summary><span class=\"dni-code-hint\"><code>System.InvalidOperationException: The input list was empty.\\r\\n   at Microsoft.FSharp.Collections.FSharpList`1.get_Tail() in D:\\a\\_work\\1\\s\\src\\FSharp.Core\\prim-types.fs:line 4147\\r\\n   at lambda_method153(Closure, FSharpList`1)\\r\\n   at Microsoft.DotNet.Interactive.Formatting.MemberAccessor`1.GetVa...</code></span></summary><div><table><thead><tr></tr></thead><tbody><tr><td>TargetSite</td><td><details class=\"dni-treeview\"><summary><span class=\"dni-code-hint\"><code>Microsoft.FSharp.Collections.FSharpList`1[T] get_Tail()</code></span></summary><div><table><thead><tr></tr></thead><tbody><tr><td>Name</td><td><div class=\"dni-plaintext\"><pre>get_Tail</pre></div></td></tr><tr><td>DeclaringType</td><td><span><a href=\"https://docs.microsoft.com/dotnet/api/microsoft.fsharp.collections.fsharplist-1?view=net-7.0\">Microsoft.FSharp.Collections.FSharpList&lt;T&gt;</a></span></td></tr><tr><td>ReflectedType</td><td><span><a href=\"https://docs.microsoft.com/dotnet/api/microsoft.fsharp.collections.fsharplist-1?view=net-7.0\">Microsoft.FSharp.Collections.FSharpList&lt;T&gt;</a></span></td></tr><tr><td>MemberType</td><td><span>Method</span></td></tr><tr><td>MetadataToken</td><td><div class=\"dni-plaintext\"><pre>100663766</pre></div></td></tr><tr><td>Module</td><td><details class=\"dni-treeview\"><summary><span class=\"dni-code-hint\"><code>FSharp.Core.dll</code></span></summary><div><table><thead><tr></tr></thead><tbody><tr><td>MDStreamVersion</td><td>131072</td></tr><tr><td>FullyQualifiedName</td><td>C:\\Users\\Allister\\.dotnet\\tools\\.store\\microsoft.dotnet-interactive\\1.0.561101\\microsoft.dotnet-interactive\\1.0.561101\\tools\\net8.0\\any\\FSharp.Core.dll</td></tr><tr><td>ModuleVersionId</td><td>57a9edab-ee61-61ca-19e6-f818cb833bb4</td></tr><tr><td>MetadataToken</td><td>1</td></tr><tr><td>ScopeName</td><td>FSharp.Core.dll</td></tr><tr><td>Name</td><td>FSharp.Core.dll</td></tr><tr><td>Assembly</td><td>FSharp.Core, Version=8.0.0.0, Culture=neutral, PublicKeyToken=b03f5f7f11d50a3a</td></tr><tr><td>ModuleHandle</td><td>System.ModuleHandle</td></tr><tr><td>CustomAttributes</td><td>[  ]</td></tr></tbody></table></div></details></td></tr><tr><td>IsSecurityCritical</td><td><div class=\"dni-plaintext\"><pre>True</pre></div></td></tr><tr><td>IsSecuritySafeCritical</td><td><div class=\"dni-plaintext\"><pre>False</pre></div></td></tr><tr><td>IsSecurityTransparent</td><td><div class=\"dni-plaintext\"><pre>False</pre></div></td></tr><tr><td>MethodHandle</td><td><details class=\"dni-treeview\"><summary><span class=\"dni-code-hint\"><code>System.RuntimeMethodHandle</code></span></summary><div><table><thead><tr></tr></thead><tbody><tr><td>Value</td><td>140719915284904</td></tr></tbody></table></div></details></td></tr><tr><td>Attributes</td><td><span>Public, HideBySig, SpecialName</span></td></tr><tr><td>CallingConvention</td><td><span>Standard, HasThis</span></td></tr><tr><td>ReturnType</td><td><span><a href=\"https://docs.microsoft.com/dotnet/api/microsoft.fsharp.collections.fsharplist-1?view=net-7.0\">Microsoft.FSharp.Collections.FSharpList&lt;T&gt;</a></span></td></tr><tr><td>ReturnTypeCustomAttributes</td><td><details class=\"dni-treeview\"><summary><span class=\"dni-code-hint\"><code>Microsoft.FSharp.Collections.FSharpList`1[T]</code></span></summary><div><table><thead><tr></tr></thead><tbody><tr><td>ParameterType</td><td>Microsoft.FSharp.Collections.FSharpList`1[T]</td></tr><tr><td>Name</td><td><div class=\"dni-plaintext\"><pre>&lt;null&gt;</pre></div></td></tr><tr><td>HasDefaultValue</td><td>False</td></tr><tr><td>DefaultValue</td><td></td></tr><tr><td>RawDefaultValue</td><td></td></tr><tr><td>MetadataToken</td><td>134217728</td></tr><tr><td>Attributes</td><td>None</td></tr><tr><td>Member</td><td>Microsoft.FSharp.Collections.FSharpList`1[T] get_Tail()</td></tr><tr><td>Position</td><td>-1</td></tr><tr><td>IsIn</td><td>False</td></tr><tr><td>IsLcid</td><td>False</td></tr><tr><td>IsOptional</td><td>False</td></tr><tr><td>IsOut</td><td>False</td></tr><tr><td>IsRetval</td><td>False</td></tr><tr><td>CustomAttributes</td><td>[  ]</td></tr></tbody></table></div></details></td></tr><tr><td>ReturnParameter</td><td><details class=\"dni-treeview\"><summary><span class=\"dni-code-hint\"><code>Microsoft.FSharp.Collections.FSharpList`1[T]</code></span></summary><div><table><thead><tr></tr></thead><tbody><tr><td>ParameterType</td><td>Microsoft.FSharp.Collections.FSharpList`1[T]</td></tr><tr><td>Name</td><td><div class=\"dni-plaintext\"><pre>&lt;null&gt;</pre></div></td></tr><tr><td>HasDefaultValue</td><td>False</td></tr><tr><td>DefaultValue</td><td></td></tr><tr><td>RawDefaultValue</td><td></td></tr><tr><td>MetadataToken</td><td>134217728</td></tr><tr><td>Attributes</td><td>None</td></tr><tr><td>Member</td><td>Microsoft.FSharp.Collections.FSharpList`1[T] get_Tail()</td></tr><tr><td>Position</td><td>-1</td></tr><tr><td>IsIn</td><td>False</td></tr><tr><td>IsLcid</td><td>False</td></tr><tr><td>IsOptional</td><td>False</td></tr><tr><td>IsOut</td><td>False</td></tr><tr><td>IsRetval</td><td>False</td></tr><tr><td>CustomAttributes</td><td>[  ]</td></tr></tbody></table></div></details></td></tr><tr><td>IsCollectible</td><td><div class=\"dni-plaintext\"><pre>False</pre></div></td></tr><tr><td>IsGenericMethod</td><td><div class=\"dni-plaintext\"><pre>False</pre></div></td></tr><tr><td>IsGenericMethodDefinition</td><td><div class=\"dni-plaintext\"><pre>False</pre></div></td></tr><tr><td>ContainsGenericParameters</td><td><div class=\"dni-plaintext\"><pre>True</pre></div></td></tr><tr><td>MethodImplementationFlags</td><td><span>IL</span></td></tr><tr><td>IsAbstract</td><td><div class=\"dni-plaintext\"><pre>False</pre></div></td></tr><tr><td>IsConstructor</td><td><div class=\"dni-plaintext\"><pre>False</pre></div></td></tr><tr><td>IsFinal</td><td><div class=\"dni-plaintext\"><pre>False</pre></div></td></tr><tr><td>IsHideBySig</td><td><div class=\"dni-plaintext\"><pre>True</pre></div></td></tr><tr><td>IsSpecialName</td><td><div class=\"dni-plaintext\"><pre>True</pre></div></td></tr><tr><td>IsStatic</td><td><div class=\"dni-plaintext\"><pre>False</pre></div></td></tr><tr><td>IsVirtual</td><td><div class=\"dni-plaintext\"><pre>False</pre></div></td></tr><tr><td>IsAssembly</td><td><div class=\"dni-plaintext\"><pre>False</pre></div></td></tr><tr><td>IsFamily</td><td><div class=\"dni-plaintext\"><pre>False</pre></div></td></tr><tr><td>IsFamilyAndAssembly</td><td><div class=\"dni-plaintext\"><pre>False</pre></div></td></tr><tr><td>IsFamilyOrAssembly</td><td><div class=\"dni-plaintext\"><pre>False</pre></div></td></tr><tr><td>IsPrivate</td><td><div class=\"dni-plaintext\"><pre>False</pre></div></td></tr><tr><td>IsPublic</td><td><div class=\"dni-plaintext\"><pre>True</pre></div></td></tr><tr><td>IsConstructedGenericMethod</td><td><div class=\"dni-plaintext\"><pre>False</pre></div></td></tr><tr><td>CustomAttributes</td><td><i>(empty)</i></td></tr></tbody></table></div></details></td></tr><tr><td>Message</td><td><div class=\"dni-plaintext\"><pre>The input list was empty.</pre></div></td></tr><tr><td>Data</td><td><i>(empty)</i></td></tr><tr><td>InnerException</td><td><div class=\"dni-plaintext\"><pre>&lt;null&gt;</pre></div></td></tr><tr><td>HelpLink</td><td><div class=\"dni-plaintext\"><pre>&lt;null&gt;</pre></div></td></tr><tr><td>Source</td><td><div class=\"dni-plaintext\"><pre>FSharp.Core</pre></div></td></tr><tr><td>HResult</td><td><div class=\"dni-plaintext\"><pre>-2146233079</pre></div></td></tr><tr><td>StackTrace</td><td><div class=\"dni-plaintext\"><pre>   at Microsoft.FSharp.Collections.FSharpList`1.get_Tail() in D:\\a\\_work\\1\\s\\src\\FSharp.Core\\prim-types.fs:line 4147\r\n",
       "   at lambda_method153(Closure, FSharpList`1)\r\n",
       "   at Microsoft.DotNet.Interactive.Formatting.MemberAccessor`1.GetValueOrException(T instance) in D:\\a\\_work\\1\\s\\src\\Microsoft.DotNet.Interactive.Formatting\\MemberAccessor{T}.cs:line 58</pre></div></td></tr></tbody></table></div></details></td></tr><tr><td><i>(values)</i></td><td><i>(empty)</i></td></tr></tbody></table></div></details></td></tr><tr><td>Type</td><td><span><a href=\"https://docs.microsoft.com/dotnet/api/system.double?view=net-7.0\">System.Double</a></span></td></tr></tbody></table></div></details></td></tr><tr><td>CustomAttributes</td><td><details class=\"dni-treeview\"><summary><span class=\"dni-code-hint\"><code>[  ]</code></span></summary><div><table><thead><tr></tr></thead><tbody><tr><td>HeadOrDefault</td><td><div class=\"dni-plaintext\"><pre>&lt;null&gt;</pre></div></td></tr><tr><td>TailOrNull</td><td><div class=\"dni-plaintext\"><pre>&lt;null&gt;</pre></div></td></tr><tr><td>Head</td><td><details class=\"dni-treeview\"><summary><span class=\"dni-code-hint\"><code>System.InvalidOperationException: The input list was empty.\\r\\n   at Microsoft.FSharp.Collections.FSharpList`1.get_Head() in D:\\a\\_work\\1\\s\\src\\FSharp.Core\\prim-types.fs:line 4142\\r\\n   at lambda_method152(Closure, FSharpList`1)\\r\\n   at Microsoft.DotNet.Interactive.Formatting.MemberAccessor`1.GetVa...</code></span></summary><div><table><thead><tr></tr></thead><tbody><tr><td>TargetSite</td><td><details class=\"dni-treeview\"><summary><span class=\"dni-code-hint\"><code>T get_Head()</code></span></summary><div><table><thead><tr></tr></thead><tbody><tr><td>Name</td><td><div class=\"dni-plaintext\"><pre>get_Head</pre></div></td></tr><tr><td>DeclaringType</td><td><span><a href=\"https://docs.microsoft.com/dotnet/api/microsoft.fsharp.collections.fsharplist-1?view=net-7.0\">Microsoft.FSharp.Collections.FSharpList&lt;T&gt;</a></span></td></tr><tr><td>ReflectedType</td><td><span><a href=\"https://docs.microsoft.com/dotnet/api/microsoft.fsharp.collections.fsharplist-1?view=net-7.0\">Microsoft.FSharp.Collections.FSharpList&lt;T&gt;</a></span></td></tr><tr><td>MemberType</td><td><span>Method</span></td></tr><tr><td>MetadataToken</td><td><div class=\"dni-plaintext\"><pre>100663765</pre></div></td></tr><tr><td>Module</td><td><details class=\"dni-treeview\"><summary><span class=\"dni-code-hint\"><code>FSharp.Core.dll</code></span></summary><div><table><thead><tr></tr></thead><tbody><tr><td>MDStreamVersion</td><td><div class=\"dni-plaintext\"><pre>131072</pre></div></td></tr><tr><td>FullyQualifiedName</td><td><div class=\"dni-plaintext\"><pre>C:\\Users\\Allister\\.dotnet\\tools\\.store\\microsoft.dotnet-interactive\\1.0.561101\\microsoft.dotnet-interactive\\1.0.561101\\tools\\net8.0\\any\\FSharp.Core.dll</pre></div></td></tr><tr><td>ModuleVersionId</td><td><div class=\"dni-plaintext\"><pre>57a9edab-ee61-61ca-19e6-f818cb833bb4</pre></div></td></tr><tr><td>MetadataToken</td><td><div class=\"dni-plaintext\"><pre>1</pre></div></td></tr><tr><td>ScopeName</td><td><div class=\"dni-plaintext\"><pre>FSharp.Core.dll</pre></div></td></tr><tr><td>Name</td><td><div class=\"dni-plaintext\"><pre>FSharp.Core.dll</pre></div></td></tr><tr><td>Assembly</td><td><details class=\"dni-treeview\"><summary><span class=\"dni-code-hint\"><code>FSharp.Core, Version=8.0.0.0, Culture=neutral, PublicKeyToken=b03f5f7f11d50a3a</code></span></summary><div><table><thead><tr></tr></thead><tbody><tr><td>CodeBase</td><td>file:///C:/Users/Allister/.dotnet/tools/.store/microsoft.dotnet-interactive/1.0.561101/microsoft.dotnet-interactive/1.0.561101/tools/net8.0/any/FSharp.Core.dll</td></tr><tr><td>FullName</td><td>FSharp.Core, Version=8.0.0.0, Culture=neutral, PublicKeyToken=b03f5f7f11d50a3a</td></tr><tr><td>EntryPoint</td><td><div class=\"dni-plaintext\"><pre>&lt;null&gt;</pre></div></td></tr><tr><td>DefinedTypes</td><td>[ Microsoft.FSharp.Core.Unit, Microsoft.FSharp.Core.SourceConstructFlags, Microsoft.FSharp.Core.CompilationRepresentationFlags, Microsoft.FSharp.Core.SealedAttribute, Microsoft.FSharp.Core.AbstractClassAttribute, Microsoft.FSharp.Core.EqualityConditionalOnAttribute, Microsoft.FSharp.Core.ComparisonConditionalOnAttribute, Microsoft.FSharp.Core.AllowNullLiteralAttribute, Microsoft.FSharp.Core.VolatileFieldAttribute, Microsoft.FSharp.Core.DefaultAugmentationAttribute, Microsoft.FSharp.Core.CLIEventAttribute, Microsoft.FSharp.Core.CLIMutableAttribute, Microsoft.FSharp.Core.AutoSerializableAttribute, Microsoft.FSharp.Core.DefaultValueAttribute, Microsoft.FSharp.Core.EntryPointAttribute, Microsoft.FSharp.Core.ReferenceEqualityAttribute, Microsoft.FSharp.Core.StructuralComparisonAttribute, Microsoft.FSharp.Core.StructuralEqualityAttribute, Microsoft.FSharp.Core.NoEqualityAttribute, Microsoft.FSharp.Core.CustomEqualityAttribute ... (2189 more) ]</td></tr><tr><td>IsCollectible</td><td>False</td></tr><tr><td>ManifestModule</td><td>FSharp.Core.dll</td></tr><tr><td>ReflectionOnly</td><td>False</td></tr><tr><td>Location</td><td>C:\\Users\\Allister\\.dotnet\\tools\\.store\\microsoft.dotnet-interactive\\1.0.561101\\microsoft.dotnet-interactive\\1.0.561101\\tools\\net8.0\\any\\FSharp.Core.dll</td></tr><tr><td>ImageRuntimeVersion</td><td>v4.0.30319</td></tr><tr><td>GlobalAssemblyCache</td><td>False</td></tr><tr><td>HostContext</td><td>0</td></tr><tr><td>IsDynamic</td><td>False</td></tr><tr><td>ExportedTypes</td><td>[ Microsoft.FSharp.Core.Unit, Microsoft.FSharp.Core.SourceConstructFlags, Microsoft.FSharp.Core.CompilationRepresentationFlags, Microsoft.FSharp.Core.SealedAttribute, Microsoft.FSharp.Core.AbstractClassAttribute, Microsoft.FSharp.Core.EqualityConditionalOnAttribute, Microsoft.FSharp.Core.ComparisonConditionalOnAttribute, Microsoft.FSharp.Core.AllowNullLiteralAttribute, Microsoft.FSharp.Core.VolatileFieldAttribute, Microsoft.FSharp.Core.DefaultAugmentationAttribute, Microsoft.FSharp.Core.CLIEventAttribute, Microsoft.FSharp.Core.CLIMutableAttribute, Microsoft.FSharp.Core.AutoSerializableAttribute, Microsoft.FSharp.Core.DefaultValueAttribute, Microsoft.FSharp.Core.EntryPointAttribute, Microsoft.FSharp.Core.ReferenceEqualityAttribute, Microsoft.FSharp.Core.StructuralComparisonAttribute, Microsoft.FSharp.Core.StructuralEqualityAttribute, Microsoft.FSharp.Core.NoEqualityAttribute, Microsoft.FSharp.Core.CustomEqualityAttribute ... (215 more) ]</td></tr><tr><td>IsFullyTrusted</td><td>True</td></tr><tr><td>CustomAttributes</td><td>[ [Microsoft.FSharp.Core.FSharpInterfaceDataVersionAttribute((Int32)2, (Int32)0, (Int32)0)], [System.Runtime.Versioning.TargetFrameworkAttribute(\".NETStandard,Version=v2.1\", FrameworkDisplayName = \".NET Standard 2.1\")], [System.Reflection.AssemblyCompanyAttribute(\"Microsoft Corporation\")], [System.Reflection.AssemblyConfigurationAttribute(\"Release\")], [System.Reflection.AssemblyCopyrightAttribute(\"© Microsoft Corporation. All rights reserved.\")], [System.Reflection.AssemblyFileVersionAttribute(\"8.2.24.6203\")], [System.Reflection.AssemblyInformationalVersionAttribute(\"8.0.200-beta.24062.3+a7979111f86ab7332897ea617635bf3435c39bc3\")], [System.Reflection.AssemblyProductAttribute(\"FSharp.Core\")], [System.Reflection.AssemblyTitleAttribute(\"FSharp.Core\")], [System.Reflection.AssemblyMetadataAttribute(\"RepositoryUrl\", \"https://github.com/dotnet/fsharp\")], [System.Resources.NeutralResourcesLanguageAttribute(\"en-US\")], [System.Runtime.InteropServices.ComVisibleAttribute((Boolean)False)], [System.CLSCompliantAttribute((Boolean)True)], [System.Security.SecurityTransparentAttribute()], [Microsoft.FSharp.Core.AutoOpenAttribute(\"Microsoft.FSharp\")], [Microsoft.FSharp.Core.AutoOpenAttribute(\"Microsoft.FSharp.Core.LanguagePrimitives.IntrinsicOperators\")], [Microsoft.FSharp.Core.AutoOpenAttribute(\"Microsoft.FSharp.Core\")], [Microsoft.FSharp.Core.AutoOpenAttribute(\"Microsoft.FSharp.Collections\")], [Microsoft.FSharp.Core.AutoOpenAttribute(\"Microsoft.FSharp.Control\")], [Microsoft.FSharp.Core.AutoOpenAttribute(\"Microsoft.FSharp.Control.TaskBuilderExtensions.LowPriority\")] ... (5 more) ]</td></tr><tr><td>EscapedCodeBase</td><td>file:///C:/Users/Allister/.dotnet/tools/.store/microsoft.dotnet-interactive/1.0.561101/microsoft.dotnet-interactive/1.0.561101/tools/net8.0/any/FSharp.Core.dll</td></tr><tr><td>Modules</td><td>[ FSharp.Core.dll ]</td></tr><tr><td>SecurityRuleSet</td><td>None</td></tr></tbody></table></div></details></td></tr><tr><td>ModuleHandle</td><td><details class=\"dni-treeview\"><summary><span class=\"dni-code-hint\"><code>System.ModuleHandle</code></span></summary><div><table><thead><tr></tr></thead><tbody><tr><td>MDStreamVersion</td><td>131072</td></tr></tbody></table></div></details></td></tr><tr><td>CustomAttributes</td><td><i>(empty)</i></td></tr></tbody></table></div></details></td></tr><tr><td>IsSecurityCritical</td><td><div class=\"dni-plaintext\"><pre>True</pre></div></td></tr><tr><td>IsSecuritySafeCritical</td><td><div class=\"dni-plaintext\"><pre>False</pre></div></td></tr><tr><td>IsSecurityTransparent</td><td><div class=\"dni-plaintext\"><pre>False</pre></div></td></tr><tr><td>MethodHandle</td><td><details class=\"dni-treeview\"><summary><span class=\"dni-code-hint\"><code>System.RuntimeMethodHandle</code></span></summary><div><table><thead><tr></tr></thead><tbody><tr><td>Value</td><td><div class=\"dni-plaintext\"><pre>140719915284888</pre></div></td></tr></tbody></table></div></details></td></tr><tr><td>Attributes</td><td><span>Public, HideBySig, SpecialName</span></td></tr><tr><td>CallingConvention</td><td><span>Standard, HasThis</span></td></tr><tr><td>ReturnType</td><td>T</td></tr><tr><td>ReturnTypeCustomAttributes</td><td><details class=\"dni-treeview\"><summary><span class=\"dni-code-hint\"><code>T</code></span></summary><div><table><thead><tr></tr></thead><tbody><tr><td>ParameterType</td><td>T</td></tr><tr><td>Name</td><td><div class=\"dni-plaintext\"><pre>&lt;null&gt;</pre></div></td></tr><tr><td>HasDefaultValue</td><td><div class=\"dni-plaintext\"><pre>False</pre></div></td></tr><tr><td>DefaultValue</td><td><details class=\"dni-treeview\"><summary><span class=\"dni-code-hint\"><code></code></span></summary><div><table><thead><tr></tr></thead><tbody></tbody></table></div></details></td></tr><tr><td>RawDefaultValue</td><td><details class=\"dni-treeview\"><summary><span class=\"dni-code-hint\"><code></code></span></summary><div><table><thead><tr></tr></thead><tbody></tbody></table></div></details></td></tr><tr><td>MetadataToken</td><td><div class=\"dni-plaintext\"><pre>134217728</pre></div></td></tr><tr><td>Attributes</td><td><span>None</span></td></tr><tr><td>Member</td><td><details class=\"dni-treeview\"><summary><span class=\"dni-code-hint\"><code>T get_Head()</code></span></summary><div><table><thead><tr></tr></thead><tbody><tr><td>Name</td><td>get_Head</td></tr><tr><td>DeclaringType</td><td>Microsoft.FSharp.Collections.FSharpList`1[T]</td></tr><tr><td>ReflectedType</td><td>Microsoft.FSharp.Collections.FSharpList`1[T]</td></tr><tr><td>MemberType</td><td>Method</td></tr><tr><td>MetadataToken</td><td>100663765</td></tr><tr><td>Module</td><td>FSharp.Core.dll</td></tr><tr><td>IsSecurityCritical</td><td>True</td></tr><tr><td>IsSecuritySafeCritical</td><td>False</td></tr><tr><td>IsSecurityTransparent</td><td>False</td></tr><tr><td>MethodHandle</td><td>System.RuntimeMethodHandle</td></tr><tr><td>Attributes</td><td>Public, HideBySig, SpecialName</td></tr><tr><td>CallingConvention</td><td>Standard, HasThis</td></tr><tr><td>ReturnType</td><td>T</td></tr><tr><td>ReturnTypeCustomAttributes</td><td>T</td></tr><tr><td>ReturnParameter</td><td>T</td></tr><tr><td>IsCollectible</td><td>False</td></tr><tr><td>IsGenericMethod</td><td>False</td></tr><tr><td>IsGenericMethodDefinition</td><td>False</td></tr><tr><td>ContainsGenericParameters</td><td>True</td></tr><tr><td>MethodImplementationFlags</td><td>IL</td></tr><tr><td>IsAbstract</td><td>False</td></tr><tr><td>IsConstructor</td><td>False</td></tr><tr><td>IsFinal</td><td>False</td></tr><tr><td>IsHideBySig</td><td>True</td></tr><tr><td>IsSpecialName</td><td>True</td></tr><tr><td>IsStatic</td><td>False</td></tr><tr><td>IsVirtual</td><td>False</td></tr><tr><td>IsAssembly</td><td>False</td></tr><tr><td>IsFamily</td><td>False</td></tr><tr><td>IsFamilyAndAssembly</td><td>False</td></tr><tr><td>IsFamilyOrAssembly</td><td>False</td></tr><tr><td>IsPrivate</td><td>False</td></tr><tr><td>IsPublic</td><td>True</td></tr><tr><td>IsConstructedGenericMethod</td><td>False</td></tr><tr><td>CustomAttributes</td><td>[  ]</td></tr></tbody></table></div></details></td></tr><tr><td>Position</td><td><div class=\"dni-plaintext\"><pre>-1</pre></div></td></tr><tr><td>IsIn</td><td><div class=\"dni-plaintext\"><pre>False</pre></div></td></tr><tr><td>IsLcid</td><td><div class=\"dni-plaintext\"><pre>False</pre></div></td></tr><tr><td>IsOptional</td><td><div class=\"dni-plaintext\"><pre>False</pre></div></td></tr><tr><td>IsOut</td><td><div class=\"dni-plaintext\"><pre>False</pre></div></td></tr><tr><td>IsRetval</td><td><div class=\"dni-plaintext\"><pre>False</pre></div></td></tr><tr><td>CustomAttributes</td><td><i>(empty)</i></td></tr></tbody></table></div></details></td></tr><tr><td>ReturnParameter</td><td><details class=\"dni-treeview\"><summary><span class=\"dni-code-hint\"><code>T</code></span></summary><div><table><thead><tr></tr></thead><tbody><tr><td>ParameterType</td><td>T</td></tr><tr><td>Name</td><td><div class=\"dni-plaintext\"><pre>&lt;null&gt;</pre></div></td></tr><tr><td>HasDefaultValue</td><td><div class=\"dni-plaintext\"><pre>False</pre></div></td></tr><tr><td>DefaultValue</td><td><details class=\"dni-treeview\"><summary><span class=\"dni-code-hint\"><code></code></span></summary><div><table><thead><tr></tr></thead><tbody></tbody></table></div></details></td></tr><tr><td>RawDefaultValue</td><td><details class=\"dni-treeview\"><summary><span class=\"dni-code-hint\"><code></code></span></summary><div><table><thead><tr></tr></thead><tbody></tbody></table></div></details></td></tr><tr><td>MetadataToken</td><td><div class=\"dni-plaintext\"><pre>134217728</pre></div></td></tr><tr><td>Attributes</td><td><span>None</span></td></tr><tr><td>Member</td><td><details class=\"dni-treeview\"><summary><span class=\"dni-code-hint\"><code>T get_Head()</code></span></summary><div><table><thead><tr></tr></thead><tbody><tr><td>Name</td><td>get_Head</td></tr><tr><td>DeclaringType</td><td>Microsoft.FSharp.Collections.FSharpList`1[T]</td></tr><tr><td>ReflectedType</td><td>Microsoft.FSharp.Collections.FSharpList`1[T]</td></tr><tr><td>MemberType</td><td>Method</td></tr><tr><td>MetadataToken</td><td>100663765</td></tr><tr><td>Module</td><td>FSharp.Core.dll</td></tr><tr><td>IsSecurityCritical</td><td>True</td></tr><tr><td>IsSecuritySafeCritical</td><td>False</td></tr><tr><td>IsSecurityTransparent</td><td>False</td></tr><tr><td>MethodHandle</td><td>System.RuntimeMethodHandle</td></tr><tr><td>Attributes</td><td>Public, HideBySig, SpecialName</td></tr><tr><td>CallingConvention</td><td>Standard, HasThis</td></tr><tr><td>ReturnType</td><td>T</td></tr><tr><td>ReturnTypeCustomAttributes</td><td>T</td></tr><tr><td>ReturnParameter</td><td>T</td></tr><tr><td>IsCollectible</td><td>False</td></tr><tr><td>IsGenericMethod</td><td>False</td></tr><tr><td>IsGenericMethodDefinition</td><td>False</td></tr><tr><td>ContainsGenericParameters</td><td>True</td></tr><tr><td>MethodImplementationFlags</td><td>IL</td></tr><tr><td>IsAbstract</td><td>False</td></tr><tr><td>IsConstructor</td><td>False</td></tr><tr><td>IsFinal</td><td>False</td></tr><tr><td>IsHideBySig</td><td>True</td></tr><tr><td>IsSpecialName</td><td>True</td></tr><tr><td>IsStatic</td><td>False</td></tr><tr><td>IsVirtual</td><td>False</td></tr><tr><td>IsAssembly</td><td>False</td></tr><tr><td>IsFamily</td><td>False</td></tr><tr><td>IsFamilyAndAssembly</td><td>False</td></tr><tr><td>IsFamilyOrAssembly</td><td>False</td></tr><tr><td>IsPrivate</td><td>False</td></tr><tr><td>IsPublic</td><td>True</td></tr><tr><td>IsConstructedGenericMethod</td><td>False</td></tr><tr><td>CustomAttributes</td><td>[  ]</td></tr></tbody></table></div></details></td></tr><tr><td>Position</td><td><div class=\"dni-plaintext\"><pre>-1</pre></div></td></tr><tr><td>IsIn</td><td><div class=\"dni-plaintext\"><pre>False</pre></div></td></tr><tr><td>IsLcid</td><td><div class=\"dni-plaintext\"><pre>False</pre></div></td></tr><tr><td>IsOptional</td><td><div class=\"dni-plaintext\"><pre>False</pre></div></td></tr><tr><td>IsOut</td><td><div class=\"dni-plaintext\"><pre>False</pre></div></td></tr><tr><td>IsRetval</td><td><div class=\"dni-plaintext\"><pre>False</pre></div></td></tr><tr><td>CustomAttributes</td><td><i>(empty)</i></td></tr></tbody></table></div></details></td></tr><tr><td>IsCollectible</td><td><div class=\"dni-plaintext\"><pre>False</pre></div></td></tr><tr><td>IsGenericMethod</td><td><div class=\"dni-plaintext\"><pre>False</pre></div></td></tr><tr><td>IsGenericMethodDefinition</td><td><div class=\"dni-plaintext\"><pre>False</pre></div></td></tr><tr><td>ContainsGenericParameters</td><td><div class=\"dni-plaintext\"><pre>True</pre></div></td></tr><tr><td>MethodImplementationFlags</td><td><span>IL</span></td></tr><tr><td>IsAbstract</td><td><div class=\"dni-plaintext\"><pre>False</pre></div></td></tr><tr><td>IsConstructor</td><td><div class=\"dni-plaintext\"><pre>False</pre></div></td></tr><tr><td>IsFinal</td><td><div class=\"dni-plaintext\"><pre>False</pre></div></td></tr><tr><td>IsHideBySig</td><td><div class=\"dni-plaintext\"><pre>True</pre></div></td></tr><tr><td>IsSpecialName</td><td><div class=\"dni-plaintext\"><pre>True</pre></div></td></tr><tr><td>IsStatic</td><td><div class=\"dni-plaintext\"><pre>False</pre></div></td></tr><tr><td>IsVirtual</td><td><div class=\"dni-plaintext\"><pre>False</pre></div></td></tr><tr><td>IsAssembly</td><td><div class=\"dni-plaintext\"><pre>False</pre></div></td></tr><tr><td>IsFamily</td><td><div class=\"dni-plaintext\"><pre>False</pre></div></td></tr><tr><td>IsFamilyAndAssembly</td><td><div class=\"dni-plaintext\"><pre>False</pre></div></td></tr><tr><td>IsFamilyOrAssembly</td><td><div class=\"dni-plaintext\"><pre>False</pre></div></td></tr><tr><td>IsPrivate</td><td><div class=\"dni-plaintext\"><pre>False</pre></div></td></tr><tr><td>IsPublic</td><td><div class=\"dni-plaintext\"><pre>True</pre></div></td></tr><tr><td>IsConstructedGenericMethod</td><td><div class=\"dni-plaintext\"><pre>False</pre></div></td></tr><tr><td>CustomAttributes</td><td><i>(empty)</i></td></tr></tbody></table></div></details></td></tr><tr><td>Message</td><td><div class=\"dni-plaintext\"><pre>The input list was empty.</pre></div></td></tr><tr><td>Data</td><td><i>(empty)</i></td></tr><tr><td>InnerException</td><td><div class=\"dni-plaintext\"><pre>&lt;null&gt;</pre></div></td></tr><tr><td>HelpLink</td><td><div class=\"dni-plaintext\"><pre>&lt;null&gt;</pre></div></td></tr><tr><td>Source</td><td><div class=\"dni-plaintext\"><pre>FSharp.Core</pre></div></td></tr><tr><td>HResult</td><td><div class=\"dni-plaintext\"><pre>-2146233079</pre></div></td></tr><tr><td>StackTrace</td><td><div class=\"dni-plaintext\"><pre>   at Microsoft.FSharp.Collections.FSharpList`1.get_Head() in D:\\a\\_work\\1\\s\\src\\FSharp.Core\\prim-types.fs:line 4142\r\n",
       "   at lambda_method152(Closure, FSharpList`1)\r\n",
       "   at Microsoft.DotNet.Interactive.Formatting.MemberAccessor`1.GetValueOrException(T instance) in D:\\a\\_work\\1\\s\\src\\Microsoft.DotNet.Interactive.Formatting\\MemberAccessor{T}.cs:line 58</pre></div></td></tr></tbody></table></div></details></td></tr><tr><td>Tail</td><td><details class=\"dni-treeview\"><summary><span class=\"dni-code-hint\"><code>System.InvalidOperationException: The input list was empty.\\r\\n   at Microsoft.FSharp.Collections.FSharpList`1.get_Tail() in D:\\a\\_work\\1\\s\\src\\FSharp.Core\\prim-types.fs:line 4147\\r\\n   at lambda_method153(Closure, FSharpList`1)\\r\\n   at Microsoft.DotNet.Interactive.Formatting.MemberAccessor`1.GetVa...</code></span></summary><div><table><thead><tr></tr></thead><tbody><tr><td>TargetSite</td><td><details class=\"dni-treeview\"><summary><span class=\"dni-code-hint\"><code>Microsoft.FSharp.Collections.FSharpList`1[T] get_Tail()</code></span></summary><div><table><thead><tr></tr></thead><tbody><tr><td>Name</td><td><div class=\"dni-plaintext\"><pre>get_Tail</pre></div></td></tr><tr><td>DeclaringType</td><td><span><a href=\"https://docs.microsoft.com/dotnet/api/microsoft.fsharp.collections.fsharplist-1?view=net-7.0\">Microsoft.FSharp.Collections.FSharpList&lt;T&gt;</a></span></td></tr><tr><td>ReflectedType</td><td><span><a href=\"https://docs.microsoft.com/dotnet/api/microsoft.fsharp.collections.fsharplist-1?view=net-7.0\">Microsoft.FSharp.Collections.FSharpList&lt;T&gt;</a></span></td></tr><tr><td>MemberType</td><td><span>Method</span></td></tr><tr><td>MetadataToken</td><td><div class=\"dni-plaintext\"><pre>100663766</pre></div></td></tr><tr><td>Module</td><td><details class=\"dni-treeview\"><summary><span class=\"dni-code-hint\"><code>FSharp.Core.dll</code></span></summary><div><table><thead><tr></tr></thead><tbody><tr><td>MDStreamVersion</td><td><div class=\"dni-plaintext\"><pre>131072</pre></div></td></tr><tr><td>FullyQualifiedName</td><td><div class=\"dni-plaintext\"><pre>C:\\Users\\Allister\\.dotnet\\tools\\.store\\microsoft.dotnet-interactive\\1.0.561101\\microsoft.dotnet-interactive\\1.0.561101\\tools\\net8.0\\any\\FSharp.Core.dll</pre></div></td></tr><tr><td>ModuleVersionId</td><td><div class=\"dni-plaintext\"><pre>57a9edab-ee61-61ca-19e6-f818cb833bb4</pre></div></td></tr><tr><td>MetadataToken</td><td><div class=\"dni-plaintext\"><pre>1</pre></div></td></tr><tr><td>ScopeName</td><td><div class=\"dni-plaintext\"><pre>FSharp.Core.dll</pre></div></td></tr><tr><td>Name</td><td><div class=\"dni-plaintext\"><pre>FSharp.Core.dll</pre></div></td></tr><tr><td>Assembly</td><td><details class=\"dni-treeview\"><summary><span class=\"dni-code-hint\"><code>FSharp.Core, Version=8.0.0.0, Culture=neutral, PublicKeyToken=b03f5f7f11d50a3a</code></span></summary><div><table><thead><tr></tr></thead><tbody><tr><td>CodeBase</td><td>file:///C:/Users/Allister/.dotnet/tools/.store/microsoft.dotnet-interactive/1.0.561101/microsoft.dotnet-interactive/1.0.561101/tools/net8.0/any/FSharp.Core.dll</td></tr><tr><td>FullName</td><td>FSharp.Core, Version=8.0.0.0, Culture=neutral, PublicKeyToken=b03f5f7f11d50a3a</td></tr><tr><td>EntryPoint</td><td><div class=\"dni-plaintext\"><pre>&lt;null&gt;</pre></div></td></tr><tr><td>DefinedTypes</td><td>[ Microsoft.FSharp.Core.Unit, Microsoft.FSharp.Core.SourceConstructFlags, Microsoft.FSharp.Core.CompilationRepresentationFlags, Microsoft.FSharp.Core.SealedAttribute, Microsoft.FSharp.Core.AbstractClassAttribute, Microsoft.FSharp.Core.EqualityConditionalOnAttribute, Microsoft.FSharp.Core.ComparisonConditionalOnAttribute, Microsoft.FSharp.Core.AllowNullLiteralAttribute, Microsoft.FSharp.Core.VolatileFieldAttribute, Microsoft.FSharp.Core.DefaultAugmentationAttribute, Microsoft.FSharp.Core.CLIEventAttribute, Microsoft.FSharp.Core.CLIMutableAttribute, Microsoft.FSharp.Core.AutoSerializableAttribute, Microsoft.FSharp.Core.DefaultValueAttribute, Microsoft.FSharp.Core.EntryPointAttribute, Microsoft.FSharp.Core.ReferenceEqualityAttribute, Microsoft.FSharp.Core.StructuralComparisonAttribute, Microsoft.FSharp.Core.StructuralEqualityAttribute, Microsoft.FSharp.Core.NoEqualityAttribute, Microsoft.FSharp.Core.CustomEqualityAttribute ... (2189 more) ]</td></tr><tr><td>IsCollectible</td><td>False</td></tr><tr><td>ManifestModule</td><td>FSharp.Core.dll</td></tr><tr><td>ReflectionOnly</td><td>False</td></tr><tr><td>Location</td><td>C:\\Users\\Allister\\.dotnet\\tools\\.store\\microsoft.dotnet-interactive\\1.0.561101\\microsoft.dotnet-interactive\\1.0.561101\\tools\\net8.0\\any\\FSharp.Core.dll</td></tr><tr><td>ImageRuntimeVersion</td><td>v4.0.30319</td></tr><tr><td>GlobalAssemblyCache</td><td>False</td></tr><tr><td>HostContext</td><td>0</td></tr><tr><td>IsDynamic</td><td>False</td></tr><tr><td>ExportedTypes</td><td>[ Microsoft.FSharp.Core.Unit, Microsoft.FSharp.Core.SourceConstructFlags, Microsoft.FSharp.Core.CompilationRepresentationFlags, Microsoft.FSharp.Core.SealedAttribute, Microsoft.FSharp.Core.AbstractClassAttribute, Microsoft.FSharp.Core.EqualityConditionalOnAttribute, Microsoft.FSharp.Core.ComparisonConditionalOnAttribute, Microsoft.FSharp.Core.AllowNullLiteralAttribute, Microsoft.FSharp.Core.VolatileFieldAttribute, Microsoft.FSharp.Core.DefaultAugmentationAttribute, Microsoft.FSharp.Core.CLIEventAttribute, Microsoft.FSharp.Core.CLIMutableAttribute, Microsoft.FSharp.Core.AutoSerializableAttribute, Microsoft.FSharp.Core.DefaultValueAttribute, Microsoft.FSharp.Core.EntryPointAttribute, Microsoft.FSharp.Core.ReferenceEqualityAttribute, Microsoft.FSharp.Core.StructuralComparisonAttribute, Microsoft.FSharp.Core.StructuralEqualityAttribute, Microsoft.FSharp.Core.NoEqualityAttribute, Microsoft.FSharp.Core.CustomEqualityAttribute ... (215 more) ]</td></tr><tr><td>IsFullyTrusted</td><td>True</td></tr><tr><td>CustomAttributes</td><td>[ [Microsoft.FSharp.Core.FSharpInterfaceDataVersionAttribute((Int32)2, (Int32)0, (Int32)0)], [System.Runtime.Versioning.TargetFrameworkAttribute(\".NETStandard,Version=v2.1\", FrameworkDisplayName = \".NET Standard 2.1\")], [System.Reflection.AssemblyCompanyAttribute(\"Microsoft Corporation\")], [System.Reflection.AssemblyConfigurationAttribute(\"Release\")], [System.Reflection.AssemblyCopyrightAttribute(\"© Microsoft Corporation. All rights reserved.\")], [System.Reflection.AssemblyFileVersionAttribute(\"8.2.24.6203\")], [System.Reflection.AssemblyInformationalVersionAttribute(\"8.0.200-beta.24062.3+a7979111f86ab7332897ea617635bf3435c39bc3\")], [System.Reflection.AssemblyProductAttribute(\"FSharp.Core\")], [System.Reflection.AssemblyTitleAttribute(\"FSharp.Core\")], [System.Reflection.AssemblyMetadataAttribute(\"RepositoryUrl\", \"https://github.com/dotnet/fsharp\")], [System.Resources.NeutralResourcesLanguageAttribute(\"en-US\")], [System.Runtime.InteropServices.ComVisibleAttribute((Boolean)False)], [System.CLSCompliantAttribute((Boolean)True)], [System.Security.SecurityTransparentAttribute()], [Microsoft.FSharp.Core.AutoOpenAttribute(\"Microsoft.FSharp\")], [Microsoft.FSharp.Core.AutoOpenAttribute(\"Microsoft.FSharp.Core.LanguagePrimitives.IntrinsicOperators\")], [Microsoft.FSharp.Core.AutoOpenAttribute(\"Microsoft.FSharp.Core\")], [Microsoft.FSharp.Core.AutoOpenAttribute(\"Microsoft.FSharp.Collections\")], [Microsoft.FSharp.Core.AutoOpenAttribute(\"Microsoft.FSharp.Control\")], [Microsoft.FSharp.Core.AutoOpenAttribute(\"Microsoft.FSharp.Control.TaskBuilderExtensions.LowPriority\")] ... (5 more) ]</td></tr><tr><td>EscapedCodeBase</td><td>file:///C:/Users/Allister/.dotnet/tools/.store/microsoft.dotnet-interactive/1.0.561101/microsoft.dotnet-interactive/1.0.561101/tools/net8.0/any/FSharp.Core.dll</td></tr><tr><td>Modules</td><td>[ FSharp.Core.dll ]</td></tr><tr><td>SecurityRuleSet</td><td>None</td></tr></tbody></table></div></details></td></tr><tr><td>ModuleHandle</td><td><details class=\"dni-treeview\"><summary><span class=\"dni-code-hint\"><code>System.ModuleHandle</code></span></summary><div><table><thead><tr></tr></thead><tbody><tr><td>MDStreamVersion</td><td>131072</td></tr></tbody></table></div></details></td></tr><tr><td>CustomAttributes</td><td><i>(empty)</i></td></tr></tbody></table></div></details></td></tr><tr><td>IsSecurityCritical</td><td><div class=\"dni-plaintext\"><pre>True</pre></div></td></tr><tr><td>IsSecuritySafeCritical</td><td><div class=\"dni-plaintext\"><pre>False</pre></div></td></tr><tr><td>IsSecurityTransparent</td><td><div class=\"dni-plaintext\"><pre>False</pre></div></td></tr><tr><td>MethodHandle</td><td><details class=\"dni-treeview\"><summary><span class=\"dni-code-hint\"><code>System.RuntimeMethodHandle</code></span></summary><div><table><thead><tr></tr></thead><tbody><tr><td>Value</td><td><div class=\"dni-plaintext\"><pre>140719915284904</pre></div></td></tr></tbody></table></div></details></td></tr><tr><td>Attributes</td><td><span>Public, HideBySig, SpecialName</span></td></tr><tr><td>CallingConvention</td><td><span>Standard, HasThis</span></td></tr><tr><td>ReturnType</td><td><span><a href=\"https://docs.microsoft.com/dotnet/api/microsoft.fsharp.collections.fsharplist-1?view=net-7.0\">Microsoft.FSharp.Collections.FSharpList&lt;T&gt;</a></span></td></tr><tr><td>ReturnTypeCustomAttributes</td><td><details class=\"dni-treeview\"><summary><span class=\"dni-code-hint\"><code>Microsoft.FSharp.Collections.FSharpList`1[T]</code></span></summary><div><table><thead><tr></tr></thead><tbody><tr><td>ParameterType</td><td><span><a href=\"https://docs.microsoft.com/dotnet/api/microsoft.fsharp.collections.fsharplist-1?view=net-7.0\">Microsoft.FSharp.Collections.FSharpList&lt;T&gt;</a></span></td></tr><tr><td>Name</td><td><div class=\"dni-plaintext\"><pre>&lt;null&gt;</pre></div></td></tr><tr><td>HasDefaultValue</td><td><div class=\"dni-plaintext\"><pre>False</pre></div></td></tr><tr><td>DefaultValue</td><td><details class=\"dni-treeview\"><summary><span class=\"dni-code-hint\"><code></code></span></summary><div><table><thead><tr></tr></thead><tbody></tbody></table></div></details></td></tr><tr><td>RawDefaultValue</td><td><details class=\"dni-treeview\"><summary><span class=\"dni-code-hint\"><code></code></span></summary><div><table><thead><tr></tr></thead><tbody></tbody></table></div></details></td></tr><tr><td>MetadataToken</td><td><div class=\"dni-plaintext\"><pre>134217728</pre></div></td></tr><tr><td>Attributes</td><td><span>None</span></td></tr><tr><td>Member</td><td><details class=\"dni-treeview\"><summary><span class=\"dni-code-hint\"><code>Microsoft.FSharp.Collections.FSharpList`1[T] get_Tail()</code></span></summary><div><table><thead><tr></tr></thead><tbody><tr><td>Name</td><td>get_Tail</td></tr><tr><td>DeclaringType</td><td>Microsoft.FSharp.Collections.FSharpList`1[T]</td></tr><tr><td>ReflectedType</td><td>Microsoft.FSharp.Collections.FSharpList`1[T]</td></tr><tr><td>MemberType</td><td>Method</td></tr><tr><td>MetadataToken</td><td>100663766</td></tr><tr><td>Module</td><td>FSharp.Core.dll</td></tr><tr><td>IsSecurityCritical</td><td>True</td></tr><tr><td>IsSecuritySafeCritical</td><td>False</td></tr><tr><td>IsSecurityTransparent</td><td>False</td></tr><tr><td>MethodHandle</td><td>System.RuntimeMethodHandle</td></tr><tr><td>Attributes</td><td>Public, HideBySig, SpecialName</td></tr><tr><td>CallingConvention</td><td>Standard, HasThis</td></tr><tr><td>ReturnType</td><td>Microsoft.FSharp.Collections.FSharpList`1[T]</td></tr><tr><td>ReturnTypeCustomAttributes</td><td>Microsoft.FSharp.Collections.FSharpList`1[T]</td></tr><tr><td>ReturnParameter</td><td>Microsoft.FSharp.Collections.FSharpList`1[T]</td></tr><tr><td>IsCollectible</td><td>False</td></tr><tr><td>IsGenericMethod</td><td>False</td></tr><tr><td>IsGenericMethodDefinition</td><td>False</td></tr><tr><td>ContainsGenericParameters</td><td>True</td></tr><tr><td>MethodImplementationFlags</td><td>IL</td></tr><tr><td>IsAbstract</td><td>False</td></tr><tr><td>IsConstructor</td><td>False</td></tr><tr><td>IsFinal</td><td>False</td></tr><tr><td>IsHideBySig</td><td>True</td></tr><tr><td>IsSpecialName</td><td>True</td></tr><tr><td>IsStatic</td><td>False</td></tr><tr><td>IsVirtual</td><td>False</td></tr><tr><td>IsAssembly</td><td>False</td></tr><tr><td>IsFamily</td><td>False</td></tr><tr><td>IsFamilyAndAssembly</td><td>False</td></tr><tr><td>IsFamilyOrAssembly</td><td>False</td></tr><tr><td>IsPrivate</td><td>False</td></tr><tr><td>IsPublic</td><td>True</td></tr><tr><td>IsConstructedGenericMethod</td><td>False</td></tr><tr><td>CustomAttributes</td><td>[  ]</td></tr></tbody></table></div></details></td></tr><tr><td>Position</td><td><div class=\"dni-plaintext\"><pre>-1</pre></div></td></tr><tr><td>IsIn</td><td><div class=\"dni-plaintext\"><pre>False</pre></div></td></tr><tr><td>IsLcid</td><td><div class=\"dni-plaintext\"><pre>False</pre></div></td></tr><tr><td>IsOptional</td><td><div class=\"dni-plaintext\"><pre>False</pre></div></td></tr><tr><td>IsOut</td><td><div class=\"dni-plaintext\"><pre>False</pre></div></td></tr><tr><td>IsRetval</td><td><div class=\"dni-plaintext\"><pre>False</pre></div></td></tr><tr><td>CustomAttributes</td><td><i>(empty)</i></td></tr></tbody></table></div></details></td></tr><tr><td>ReturnParameter</td><td><details class=\"dni-treeview\"><summary><span class=\"dni-code-hint\"><code>Microsoft.FSharp.Collections.FSharpList`1[T]</code></span></summary><div><table><thead><tr></tr></thead><tbody><tr><td>ParameterType</td><td><span><a href=\"https://docs.microsoft.com/dotnet/api/microsoft.fsharp.collections.fsharplist-1?view=net-7.0\">Microsoft.FSharp.Collections.FSharpList&lt;T&gt;</a></span></td></tr><tr><td>Name</td><td><div class=\"dni-plaintext\"><pre>&lt;null&gt;</pre></div></td></tr><tr><td>HasDefaultValue</td><td><div class=\"dni-plaintext\"><pre>False</pre></div></td></tr><tr><td>DefaultValue</td><td><details class=\"dni-treeview\"><summary><span class=\"dni-code-hint\"><code></code></span></summary><div><table><thead><tr></tr></thead><tbody></tbody></table></div></details></td></tr><tr><td>RawDefaultValue</td><td><details class=\"dni-treeview\"><summary><span class=\"dni-code-hint\"><code></code></span></summary><div><table><thead><tr></tr></thead><tbody></tbody></table></div></details></td></tr><tr><td>MetadataToken</td><td><div class=\"dni-plaintext\"><pre>134217728</pre></div></td></tr><tr><td>Attributes</td><td><span>None</span></td></tr><tr><td>Member</td><td><details class=\"dni-treeview\"><summary><span class=\"dni-code-hint\"><code>Microsoft.FSharp.Collections.FSharpList`1[T] get_Tail()</code></span></summary><div><table><thead><tr></tr></thead><tbody><tr><td>Name</td><td>get_Tail</td></tr><tr><td>DeclaringType</td><td>Microsoft.FSharp.Collections.FSharpList`1[T]</td></tr><tr><td>ReflectedType</td><td>Microsoft.FSharp.Collections.FSharpList`1[T]</td></tr><tr><td>MemberType</td><td>Method</td></tr><tr><td>MetadataToken</td><td>100663766</td></tr><tr><td>Module</td><td>FSharp.Core.dll</td></tr><tr><td>IsSecurityCritical</td><td>True</td></tr><tr><td>IsSecuritySafeCritical</td><td>False</td></tr><tr><td>IsSecurityTransparent</td><td>False</td></tr><tr><td>MethodHandle</td><td>System.RuntimeMethodHandle</td></tr><tr><td>Attributes</td><td>Public, HideBySig, SpecialName</td></tr><tr><td>CallingConvention</td><td>Standard, HasThis</td></tr><tr><td>ReturnType</td><td>Microsoft.FSharp.Collections.FSharpList`1[T]</td></tr><tr><td>ReturnTypeCustomAttributes</td><td>Microsoft.FSharp.Collections.FSharpList`1[T]</td></tr><tr><td>ReturnParameter</td><td>Microsoft.FSharp.Collections.FSharpList`1[T]</td></tr><tr><td>IsCollectible</td><td>False</td></tr><tr><td>IsGenericMethod</td><td>False</td></tr><tr><td>IsGenericMethodDefinition</td><td>False</td></tr><tr><td>ContainsGenericParameters</td><td>True</td></tr><tr><td>MethodImplementationFlags</td><td>IL</td></tr><tr><td>IsAbstract</td><td>False</td></tr><tr><td>IsConstructor</td><td>False</td></tr><tr><td>IsFinal</td><td>False</td></tr><tr><td>IsHideBySig</td><td>True</td></tr><tr><td>IsSpecialName</td><td>True</td></tr><tr><td>IsStatic</td><td>False</td></tr><tr><td>IsVirtual</td><td>False</td></tr><tr><td>IsAssembly</td><td>False</td></tr><tr><td>IsFamily</td><td>False</td></tr><tr><td>IsFamilyAndAssembly</td><td>False</td></tr><tr><td>IsFamilyOrAssembly</td><td>False</td></tr><tr><td>IsPrivate</td><td>False</td></tr><tr><td>IsPublic</td><td>True</td></tr><tr><td>IsConstructedGenericMethod</td><td>False</td></tr><tr><td>CustomAttributes</td><td>[  ]</td></tr></tbody></table></div></details></td></tr><tr><td>Position</td><td><div class=\"dni-plaintext\"><pre>-1</pre></div></td></tr><tr><td>IsIn</td><td><div class=\"dni-plaintext\"><pre>False</pre></div></td></tr><tr><td>IsLcid</td><td><div class=\"dni-plaintext\"><pre>False</pre></div></td></tr><tr><td>IsOptional</td><td><div class=\"dni-plaintext\"><pre>False</pre></div></td></tr><tr><td>IsOut</td><td><div class=\"dni-plaintext\"><pre>False</pre></div></td></tr><tr><td>IsRetval</td><td><div class=\"dni-plaintext\"><pre>False</pre></div></td></tr><tr><td>CustomAttributes</td><td><i>(empty)</i></td></tr></tbody></table></div></details></td></tr><tr><td>IsCollectible</td><td><div class=\"dni-plaintext\"><pre>False</pre></div></td></tr><tr><td>IsGenericMethod</td><td><div class=\"dni-plaintext\"><pre>False</pre></div></td></tr><tr><td>IsGenericMethodDefinition</td><td><div class=\"dni-plaintext\"><pre>False</pre></div></td></tr><tr><td>ContainsGenericParameters</td><td><div class=\"dni-plaintext\"><pre>True</pre></div></td></tr><tr><td>MethodImplementationFlags</td><td><span>IL</span></td></tr><tr><td>IsAbstract</td><td><div class=\"dni-plaintext\"><pre>False</pre></div></td></tr><tr><td>IsConstructor</td><td><div class=\"dni-plaintext\"><pre>False</pre></div></td></tr><tr><td>IsFinal</td><td><div class=\"dni-plaintext\"><pre>False</pre></div></td></tr><tr><td>IsHideBySig</td><td><div class=\"dni-plaintext\"><pre>True</pre></div></td></tr><tr><td>IsSpecialName</td><td><div class=\"dni-plaintext\"><pre>True</pre></div></td></tr><tr><td>IsStatic</td><td><div class=\"dni-plaintext\"><pre>False</pre></div></td></tr><tr><td>IsVirtual</td><td><div class=\"dni-plaintext\"><pre>False</pre></div></td></tr><tr><td>IsAssembly</td><td><div class=\"dni-plaintext\"><pre>False</pre></div></td></tr><tr><td>IsFamily</td><td><div class=\"dni-plaintext\"><pre>False</pre></div></td></tr><tr><td>IsFamilyAndAssembly</td><td><div class=\"dni-plaintext\"><pre>False</pre></div></td></tr><tr><td>IsFamilyOrAssembly</td><td><div class=\"dni-plaintext\"><pre>False</pre></div></td></tr><tr><td>IsPrivate</td><td><div class=\"dni-plaintext\"><pre>False</pre></div></td></tr><tr><td>IsPublic</td><td><div class=\"dni-plaintext\"><pre>True</pre></div></td></tr><tr><td>IsConstructedGenericMethod</td><td><div class=\"dni-plaintext\"><pre>False</pre></div></td></tr><tr><td>CustomAttributes</td><td><i>(empty)</i></td></tr></tbody></table></div></details></td></tr><tr><td>Message</td><td><div class=\"dni-plaintext\"><pre>The input list was empty.</pre></div></td></tr><tr><td>Data</td><td><i>(empty)</i></td></tr><tr><td>InnerException</td><td><div class=\"dni-plaintext\"><pre>&lt;null&gt;</pre></div></td></tr><tr><td>HelpLink</td><td><div class=\"dni-plaintext\"><pre>&lt;null&gt;</pre></div></td></tr><tr><td>Source</td><td><div class=\"dni-plaintext\"><pre>FSharp.Core</pre></div></td></tr><tr><td>HResult</td><td><div class=\"dni-plaintext\"><pre>-2146233079</pre></div></td></tr><tr><td>StackTrace</td><td><div class=\"dni-plaintext\"><pre>   at Microsoft.FSharp.Collections.FSharpList`1.get_Tail() in D:\\a\\_work\\1\\s\\src\\FSharp.Core\\prim-types.fs:line 4147\r\n",
       "   at lambda_method153(Closure, FSharpList`1)\r\n",
       "   at Microsoft.DotNet.Interactive.Formatting.MemberAccessor`1.GetValueOrException(T instance) in D:\\a\\_work\\1\\s\\src\\Microsoft.DotNet.Interactive.Formatting\\MemberAccessor{T}.cs:line 58</pre></div></td></tr></tbody></table></div></details></td></tr><tr><td><i>(values)</i></td><td><i>(empty)</i></td></tr></tbody></table></div></details></td></tr><tr><td>Type</td><td><span><a href=\"https://docs.microsoft.com/dotnet/api/system.double?view=net-7.0\">System.Double</a></span></td></tr></tbody></table></div></details><style>\r\n",
       ".dni-code-hint {\r\n",
       "    font-style: italic;\r\n",
       "    overflow: hidden;\r\n",
       "    white-space: nowrap;\r\n",
       "}\r\n",
       ".dni-treeview {\r\n",
       "    white-space: nowrap;\r\n",
       "}\r\n",
       ".dni-treeview td {\r\n",
       "    vertical-align: top;\r\n",
       "    text-align: start;\r\n",
       "}\r\n",
       "details.dni-treeview {\r\n",
       "    padding-left: 1em;\r\n",
       "}\r\n",
       "table td {\r\n",
       "    text-align: start;\r\n",
       "}\r\n",
       "table tr { \r\n",
       "    vertical-align: top; \r\n",
       "    margin: 0em 0px;\r\n",
       "}\r\n",
       "table tr td pre \r\n",
       "{ \r\n",
       "    vertical-align: top !important; \r\n",
       "    margin: 0em 0px !important;\r\n",
       "} \r\n",
       "table th {\r\n",
       "    text-align: start;\r\n",
       "}\r\n",
       "</style>"
      ]
     },
     "execution_count": 33,
     "metadata": {},
     "output_type": "execute_result"
    }
   ],
   "source": [
    "2 * (x***2) - 4 |> sexpr // We define operators and functions on symbolic types that produce new quotationd "
   ]
  },
  {
   "cell_type": "code",
   "execution_count": null,
   "id": "38991e70",
   "metadata": {
    "slideshow": {
     "slide_type": "fragment"
    }
   },
   "outputs": [],
   "source": [
    "// We use patterns like the following to generate code for symbolic tools and libraries like Maxima and Z3 from the quotationd\n",
    "        | Double n -> create_numeral solver n\n",
    "        | Rational n -> create_numeral solver n\n",
    "        | Call(None, Op \"FromOne\" , []) as e when e.Type = typeof<Rational> -> create_numeral solver 1Q\n",
    "        | Call(None, Op \"FromInt32\", (Int32 i)::[]) as e when  e.Type = typeof<Rational> -> create_numeral solver i\n",
    "        | Call(None, Op \"op_Addition\" ,l::r::[]) -> solver.Ctx.MkAdd((create_arith_expr solver l), (create_arith_expr solver r))\n",
    "        | Call(None, Op \"op_Multiply\" ,l::r::[]) -> solver.Ctx.MkMul((create_arith_expr solver l), (create_arith_expr solver r))"
   ]
  },
  {
   "cell_type": "markdown",
   "id": "05d4597b",
   "metadata": {
    "slideshow": {
     "slide_type": "slide"
    }
   },
   "source": [
    "### Sylvester :: Language Internals"
   ]
  },
  {
   "cell_type": "code",
   "execution_count": 34,
   "id": "9b071b2d",
   "metadata": {
    "slideshow": {
     "slide_type": "fragment"
    }
   },
   "outputs": [
    {
     "data": {
      "text/plain": [
       "(%i22) \r\n",
       "(%o21) [x = -sqrt(2),x = sqrt(2)]\r\n",
       "(%i21) \r\n",
       "(%o20) [[x = 2,y = 8]]\r\n",
       "(%i20) \r\n",
       "(%o19) [x = -5,x = 1]\r\n",
       "(%i19) \r\n",
       "(%o18) [[x = -8,y = -16,z = -96]]\r\n",
       "(%i18) \r\n",
       "(%o17) [[x = (a-35)/4,y = -(3*a+55)/4,z = -(13*a+345)/4]]\r\n",
       "(%i17) \r\n",
       "(%o16) 2.0*cos(2.0*x)-1.0*sin(2*x)\r\n",
       "(%i16) \r\n",
       "(%o15) 2.0*cos(2.0*x)-2.0*cos(x)*sin(x)\r\n",
       "(%i15) \r\n",
       "(%o14) 0\r\n",
       "(%i14) \r\n",
       "(%o13) 3.0*(y+x)^2.0-6.0*x\r\n",
       "(%i13) \r\n",
       "(%o12) 0.05*a^5.0+0.5*a^2.0"
      ]
     },
     "execution_count": 34,
     "metadata": {},
     "output_type": "execute_result"
    }
   ],
   "source": [
    "// We send expressions and equations to Maxima for evaluation\n",
    "solve defaults [x] [2 * (x***2) - 4 == 0.] |> ignore\n",
    "CAS.Maxima.last_output 20"
   ]
  },
  {
   "cell_type": "markdown",
   "id": "95efacb4",
   "metadata": {
    "slideshow": {
     "slide_type": "slide"
    }
   },
   "source": [
    "### Sylvester :: Language Internals\n",
    "* The hybrid OOP-functional nature of F# is ideal for mathematical computing and symbolic expressions since mathematical objects naturally form hierarchies and can have several interfaces and behave as many different kinds of objects"
   ]
  },
  {
   "cell_type": "markdown",
   "id": "d19336c7",
   "metadata": {
    "slideshow": {
     "slide_type": "slide"
    }
   },
   "source": [
    "<div style=\"margin-top:100px\">\n",
    "    <h1>Visualization in Sylvester</h1>\n",
    "</div>\n",
    "<center>\n",
    "<img src = \"https://ajb.nyc3.cdn.digitaloceanspaces.com/funcon25/sd.png\" style=\"width:900px; height:600px\" />\n",
    "</center>\n"
   ]
  },
  {
   "cell_type": "markdown",
   "id": "41513d65",
   "metadata": {
    "slideshow": {
     "slide_type": "slide"
    }
   },
   "source": [
    "# Visualization in Sylvester\n",
    "### Overview\n",
    "\n",
    "* The Sylvester EDSL allows you to create interactive mathematical visualizations from mathematical objects like functions\n",
    "* Visualization is done through the JSXGraph visualization library\n",
    "* F# code is compiled to JavaScript and executes in the user's browser\n",
    "* Sylvester provides a low-level drawing API for use by developers and extenders, and a high-level drawing API for regular users"
   ]
  },
  {
   "cell_type": "code",
   "execution_count": 35,
   "id": "1a6f3d85",
   "metadata": {
    "slideshow": {
     "slide_type": "slide"
    }
   },
   "outputs": [
    {
     "data": {
      "text/html": [
       "<div>\r\n",
       " <div id=\"08ac9407-d433-4293-97f9-115096e3c3fe\" class=\"jxgbox\" style=\"width:100%;height:640px\"></div>\r\n",
       " <script>require(['https://cdn.jsdelivr.net/npm/jsxgraph/distrib/jsxgraphcore.js'], function(JXG) {\n",
       "JXG.Options.text.useMathJax = true;\n",
       "var rsum__upper, rsum__get_upper$, MathJS__Sin$, MathJS__Cos$, Board__get_defaults$, Board__get_autoPosition$, Board__draw_ge$GeometryElement_GeometryElement_, Board__defaults, Board__autoPosition, Board__area$, Array__BoxedLength$;\r\n",
       "Array__BoxedLength$ = (function(xs)\r\n",
       "{\r\n",
       "    return xs.length;;\r\n",
       "});\r\n",
       "Board__area$ = (function(d,h,o)\r\n",
       "{\r\n",
       "    return [((o - d) - 0.500000), ((o + h) + 0.500000), ((o + d) + 0.500000), ((o - h) - 0.500000)];\r\n",
       "});\r\n",
       "Board__draw_ge$GeometryElement_GeometryElement_ = (function(board,elems)\r\n",
       "{\r\n",
       "    for (var _133 = 0; _133 <= (Array__BoxedLength$(elems) - 1); _133++)\r\n",
       "    {\r\n",
       "      (function(i)\r\n",
       "      {\r\n",
       "        var ignored0 = elems[i](board);\r\n",
       "      })(_133);\r\n",
       "    };\r\n",
       "    return board;\r\n",
       "});\r\n",
       "Board__get_autoPosition$ = (function()\r\n",
       "{\r\n",
       "    var useMathJax = true;\r\n",
       "    var display = \"html\";\r\n",
       "    return {autoPosition: true, display: display, useMathJax: useMathJax};\r\n",
       "});\r\n",
       "Board__get_defaults$ = (function()\r\n",
       "{\r\n",
       "    return {};\r\n",
       "});\r\n",
       "MathJS__Cos$ = (function(x)\r\n",
       "{\r\n",
       "    return Math.cos(x);;\r\n",
       "});\r\n",
       "MathJS__Sin$ = (function(x)\r\n",
       "{\r\n",
       "    return Math.sin(x);;\r\n",
       "});\r\n",
       "rsum__get_upper$ = (function()\r\n",
       "{\r\n",
       "    return \"upper\";\r\n",
       "});\r\n",
       "Board__autoPosition = Board__get_autoPosition$();\r\n",
       "rsum__upper = rsum__get_upper$();\r\n",
       "Board__defaults = Board__get_defaults$();\r\n",
       "var boundingbox = Board__area$(0.000000, 5.000000, 1.000000);\r\n",
       "var showCopyright = false;\r\n",
       "var keepAspectRatio = true;\r\n",
       "var b = {axis: true, boundingbox: boundingbox, keepAspectRatio: keepAspectRatio, showCopyright: showCopyright};\r\n",
       "var board = JXG.JSXGraph.initBoard(\"08ac9407-d433-4293-97f9-115096e3c3fe\", b);\r\n",
       "var a = board.create('slider', [[-5.000000, 3.000000], [-5.000000 + 4.000000, 3.000000], [-10.000000, -10.000000, -20.000000]], {name: \"a\", snapWidth: 1});\r\n",
       "var _b = board.create('slider', [[-5.000000, 4.000000], [-5.000000 + 4.000000, 4.000000], [10.000000, 10.000000, 20.000000]], {name: \"b\", snapWidth: 1});\r\n",
       "var n = board.create('slider', [[-5.000000, 5.000000], [-5.000000 + 4.000000, 5.000000], [1.000000, 40.000000, 50.000000]], {name: \"n\", snapWidth: 1});\r\n",
       "var f = (function(x)\r\n",
       "{\r\n",
       "    return (MathJS__Sin$(x) + (2.000000 * MathJS__Cos$(x)));\r\n",
       "});\r\n",
       "var min = (function(unitVar)\r\n",
       "{\r\n",
       "    return a.Value();\r\n",
       "});\r\n",
       "var max = (function(unitVar)\r\n",
       "{\r\n",
       "    return _b.Value();\r\n",
       "});\r\n",
       "var name = \"g(x)=x sin(x)\";\r\n",
       "var withLabel = true;\r\n",
       "var attr = {label: Board__autoPosition, name: name, withLabel: withLabel};\r\n",
       "var _f = (function(x)\r\n",
       "{\r\n",
       "    return (MathJS__Sin$(x) + (2.000000 * MathJS__Cos$(x)));\r\n",
       "});\r\n",
       "var _n = (function(unitVar)\r\n",
       "{\r\n",
       "    return n.Value();\r\n",
       "});\r\n",
       "var _a = (function(unitVar)\r\n",
       "{\r\n",
       "    return a.Value();\r\n",
       "});\r\n",
       "var __b = (function(unitVar)\r\n",
       "{\r\n",
       "    return _b.Value();\r\n",
       "});\r\n",
       "Board__draw_ge$GeometryElement_GeometryElement_(board, [(function(_board)\r\n",
       "{\r\n",
       "    return _board.create('functiongraph', [f, min, max], attr);\r\n",
       "}), (function(_board)\r\n",
       "{\r\n",
       "    return _board.create('riemannsum', [_f, _n, rsum__upper, _a, __b], Board__defaults);\r\n",
       "})])});</script>\r\n",
       "</div>\r\n"
      ]
     },
     "execution_count": 35,
     "metadata": {},
     "output_type": "execute_result"
    }
   ],
   "source": [
    "let h = realfun \"h\" (2 * cos x + sin x)\n",
    "<@ //Use quotation to indicate this F# code must be compiled to JavaScript. This uses the low-level JSXGraph API.\n",
    "let b = {| boundingbox = area 0. 5. 1.; showCopyright = false; keepAspectRatio = true; axis = true \n",
    "|}\n",
    "let board = board b\n",
    "let a = slider -5. 3. 4. -10. -20. -10. {|name = \"a\"; snapWidth = 1|} board\n",
    "let b = slider -5. 4. 4. 10. 20. 10. {|name = \"b\"; snapWidth = 1|} board\n",
    "let n = slider -5. 5. 4. 1. 50. 40. {|name = \"n\"; snapWidth = 1|} board \n",
    "draw_ge board [|\n",
    "    ge.functiongraph %(h.MapExpr) a.Value b.Value {|name=\"g(x)=x sin(x)\"; withLabel=true; label=autoPosition|}\n",
    "    ge.riemannsum %(h.MapExpr) n.Value rsum.upper a.Value b.Value defaults \n",
    "|]\n",
    "@>"
   ]
  },
  {
   "cell_type": "markdown",
   "id": "bfe7e8f8",
   "metadata": {
    "slideshow": {
     "slide_type": "slide"
    }
   },
   "source": [
    "<div style=\"margin-top:100px\">\n",
    "    <h1>Game Theory</h1>\n",
    "</div>\n",
    "<center>\n",
    "<img src = \"https://ajb.nyc3.cdn.digitaloceanspaces.com/funcon25/gt2.jpg\" style=\"width:600px; height:600px\" />\n",
    "</center>"
   ]
  },
  {
   "cell_type": "markdown",
   "id": "ebf813a8",
   "metadata": {
    "slideshow": {
     "slide_type": "slide"
    }
   },
   "source": [
    "# Game Theory\n",
    "## Overview\n",
    "* Game theory models and analyzes how *rational* decision makers interact\n",
    "* Game theory as an independent field started in 1940's by John von Neumann and Oskar Morgenstern\n",
    "* Game theory is used extensively in natural and social sciences, business, politics, defense, diplomacy, and all fields that require plannning and analyzing situations where intelligent agents interact and compete \n",
    "* *Static or simultaneous* games consist of two-or-more players who have *perfect information* about each other's possible *actions* and *payoffs* and are assumed to act simultaneously without knowledge of what the other players will do"
   ]
  },
  {
   "cell_type": "markdown",
   "id": "587d5e5f",
   "metadata": {
    "slideshow": {
     "slide_type": "slide"
    }
   },
   "source": [
    "# Game Theory :: Static Game Examples\n",
    "### Arms Race\n",
    "Two neighboring countries must each decide on a level of military spending. If both countries choose a low-level of spending they will both benefit greatly. If one country chooses a high-level of military spending and the other low then the low-spending country will be at a severe disadvantage. If both choose high-military spending they will both be disadvantaged compared to both choosing low spending, but not as much as if one chooses to arm and the other not to.\n",
    "<center>\n",
    "<img src = \"gt.jpg\" style=\"width:400px; height:400px\" />\n",
    "</center>"
   ]
  },
  {
   "cell_type": "markdown",
   "id": "0c134975",
   "metadata": {
    "slideshow": {
     "slide_type": "slide"
    }
   },
   "source": [
    "# Game Theory :: Static Game Examples\n",
    "### Stag Hunt\n",
    "Two hunters are on a stag hunt where they can't observe what the other is doing. Catching a stag is hard and requires both hunters to cooperate.  Catching a hare is much easier than catching a stag though and doesn't require cooperation but will benefit an individual hunter less than a stag. If one hunter hunts a stag and one a hare, only the hare hunter will benefit.\n",
    "<center>\n",
    "<img src = \"https://ajb.nyc3.cdn.digitaloceanspaces.com/funcon25/staghunt.jpg\" style=\"width:400px; height:400px\" />\n",
    "</center>"
   ]
  },
  {
   "cell_type": "markdown",
   "id": "5fef9995",
   "metadata": {
    "slideshow": {
     "slide_type": "slide"
    }
   },
   "source": [
    "# Game Theory\n",
    "## Basic Elements of a Static Game\n",
    "* **Players**: represents decision-makers who must choose from a set of *actions*\n",
    "* **Actions**: Usually a simple label representing a player choice like \"Cooperate\" or \"Defect\". Actions may be *discrete* or *continuous*\n",
    "* **Action Profiles**: A set of individual actions chosen by each player representing a possible outcome of the game e.g. `{Defect, Defect}` is the action profile where both hunters choose not to cooperate\n",
    "* **Preferences**: Each player has a preference for the different outcomes of a game\n",
    "* **Payoffs**: a function that assigns to each action profile a number where higher numbers are preferred by the player e.g `(2,2)` assigns the payoff 2 to each player which is preferred by both to `(1,1)`\n",
    "* We can represent a two-player static game in *normal form* - a matrix with the player payoffs for each action profile as the elements"
   ]
  },
  {
   "cell_type": "markdown",
   "id": "f0684110",
   "metadata": {
    "slideshow": {
     "slide_type": "slide"
    }
   },
   "source": [
    "### Game Theory :: Game Theory in Sylvester"
   ]
  },
  {
   "cell_type": "code",
   "execution_count": 36,
   "id": "d856ca3d",
   "metadata": {
    "slideshow": {
     "slide_type": "fragment"
    }
   },
   "outputs": [
    {
     "data": {
      "text/html": [
       "<div class=\"nfg_2p\">\r\n",
       "<div class=\"title\" style=\"text-align:center\">Prisoner's Dilemna</div>\r\n",
       "<div style=\"float:left;margin-top:35pt;margin-right:15pt\"><b>Player 1</b></div>\r\n",
       "<div style=\"margin-left:75pt\"><b>Player 2</b></div>\r\n",
       "<table style=\"border: 1px solid black; border-collapse: collapse;\">\r\n",
       "<tbody>\r\n",
       "<tr>\r\n",
       "<td></td>\r\n",
       "<td style =\"border: 1px solid black; border-collapse: collapse;\"><tt>Cooperate</tt></td>\r\n",
       "<td style =\"border: 1px solid black; border-collapse: collapse;\"><tt>Defect</tt></td>\r\n",
       "</tr>\r\n",
       "<tr>\r\n",
       "<td style =\"border: 1px solid black; border-collapse: collapse;\"><tt>Cooperate</tt></td>\r\n",
       "<td style =\"border: 1px solid black; border-collapse: collapse;\" align=\"center\">(-1,-1)</td><td style =\"border: 1px solid black; border-collapse: collapse;\" align=\"center\">(-3,0)</td></tr>\r\n",
       "<tr>\r\n",
       "<td style =\"border: 1px solid black; border-collapse: collapse;\"><tt>Defect</tt></td>\r\n",
       "<td style =\"border: 1px solid black; border-collapse: collapse;\" align=\"center\">(0,-3)</td><td style =\"border: 1px solid black; border-collapse: collapse;\" align=\"center\">(-2,-2)</td></tr>\r\n",
       "</tbody>\r\n",
       "</table>\r\n",
       "</div>\r\n"
      ]
     },
     "execution_count": 36,
     "metadata": {},
     "output_type": "execute_result"
    }
   ],
   "source": [
    "let pd = nfg_2p \"Prisoner's Dilemna\" [\"Cooperate\"; \"Defect\"] [\"Cooperate\"; \"Defect\"] [ // Define a normal form two-player game\n",
    "            (-1,-1); (-3, 0)\n",
    "            ( 0,-3); (-2,-2)\n",
    "    ]\n",
    "pd"
   ]
  },
  {
   "cell_type": "code",
   "execution_count": 37,
   "id": "ee799ecd",
   "metadata": {
    "slideshow": {
     "slide_type": "fragment"
    }
   },
   "outputs": [
    {
     "data": {
      "text/html": [
       "<div class=\"nfg_2p\">\r\n",
       "<div class=\"title\" style=\"text-align:center\">Stag Hunt</div>\r\n",
       "<div style=\"float:left;margin-top:35pt;margin-right:15pt\"><b>Player 1</b></div>\r\n",
       "<div style=\"margin-left:75pt\"><b>Player 2</b></div>\r\n",
       "<table style=\"border: 1px solid black; border-collapse: collapse;\">\r\n",
       "<tbody>\r\n",
       "<tr>\r\n",
       "<td></td>\r\n",
       "<td style =\"border: 1px solid black; border-collapse: collapse;\"><tt>Cooperate</tt></td>\r\n",
       "<td style =\"border: 1px solid black; border-collapse: collapse;\"><tt>Defect</tt></td>\r\n",
       "</tr>\r\n",
       "<tr>\r\n",
       "<td style =\"border: 1px solid black; border-collapse: collapse;\"><tt>Cooperate</tt></td>\r\n",
       "<td style =\"border: 1px solid black; border-collapse: collapse;\" align=\"center\">(4,4)</td><td style =\"border: 1px solid black; border-collapse: collapse;\" align=\"center\">(0,2)</td></tr>\r\n",
       "<tr>\r\n",
       "<td style =\"border: 1px solid black; border-collapse: collapse;\"><tt>Defect</tt></td>\r\n",
       "<td style =\"border: 1px solid black; border-collapse: collapse;\" align=\"center\">(2,0)</td><td style =\"border: 1px solid black; border-collapse: collapse;\" align=\"center\">(2,2)</td></tr>\r\n",
       "</tbody>\r\n",
       "</table>\r\n",
       "</div>\r\n"
      ]
     },
     "execution_count": 37,
     "metadata": {},
     "output_type": "execute_result"
    }
   ],
   "source": [
    "let sh = nfg_2p \"Stag Hunt\" [\"Cooperate\"; \"Defect\"] [\"Cooperate\"; \"Defect\"] [ // Define a normal form two-player game\n",
    "            (4, 4); (0, 2)\n",
    "            (2, 0); (2, 2)\n",
    "    ]\n",
    "sh"
   ]
  },
  {
   "cell_type": "markdown",
   "id": "ebf4d54f",
   "metadata": {
    "slideshow": {
     "slide_type": "slide"
    }
   },
   "source": [
    "### Game Theory :: Game Theory in Sylvester"
   ]
  },
  {
   "cell_type": "code",
   "execution_count": 38,
   "id": "4700d763",
   "metadata": {
    "slideshow": {
     "slide_type": "fragment"
    }
   },
   "outputs": [
    {
     "data": {
      "text/html": [
       "<div class=\"nfg_2p\">\r\n",
       "<div class=\"title\" style=\"text-align:center\">Rock Paper Scissors</div>\r\n",
       "<div style=\"float:left;margin-top:35pt;margin-right:15pt\"><b>Player 1</b></div>\r\n",
       "<div style=\"margin-left:75pt\"><b>Player 2</b></div>\r\n",
       "<table style=\"border: 1px solid black; border-collapse: collapse;\">\r\n",
       "<tbody>\r\n",
       "<tr>\r\n",
       "<td></td>\r\n",
       "<td style =\"border: 1px solid black; border-collapse: collapse;\"><tt>Rock</tt></td>\r\n",
       "<td style =\"border: 1px solid black; border-collapse: collapse;\"><tt>Paper</tt></td>\r\n",
       "<td style =\"border: 1px solid black; border-collapse: collapse;\"><tt>Scissors</tt></td>\r\n",
       "</tr>\r\n",
       "<tr>\r\n",
       "<td style =\"border: 1px solid black; border-collapse: collapse;\"><tt>Rock</tt></td>\r\n",
       "<td style =\"border: 1px solid black; border-collapse: collapse;\" align=\"center\">(0,0)</td><td style =\"border: 1px solid black; border-collapse: collapse;\" align=\"center\">(-1,1)</td><td style =\"border: 1px solid black; border-collapse: collapse;\" align=\"center\">(1,-1)</td></tr>\r\n",
       "<tr>\r\n",
       "<td style =\"border: 1px solid black; border-collapse: collapse;\"><tt>Paper</tt></td>\r\n",
       "<td style =\"border: 1px solid black; border-collapse: collapse;\" align=\"center\">(1,-1)</td><td style =\"border: 1px solid black; border-collapse: collapse;\" align=\"center\">(0,0)</td><td style =\"border: 1px solid black; border-collapse: collapse;\" align=\"center\">(-1,1)</td></tr>\r\n",
       "<tr>\r\n",
       "<td style =\"border: 1px solid black; border-collapse: collapse;\"><tt>Scissors</tt></td>\r\n",
       "<td style =\"border: 1px solid black; border-collapse: collapse;\" align=\"center\">(-1,1)</td><td style =\"border: 1px solid black; border-collapse: collapse;\" align=\"center\">(1,-1)</td><td style =\"border: 1px solid black; border-collapse: collapse;\" align=\"center\">(0,0)</td></tr>\r\n",
       "</tbody>\r\n",
       "</table>\r\n",
       "</div>\r\n"
      ]
     },
     "execution_count": 38,
     "metadata": {},
     "output_type": "execute_result"
    }
   ],
   "source": [
    "// Define a normal form two-player zero-sum game\n",
    "let rps = nfg_2p_zs \"Rock Paper Scissors\" [\"Rock\"; \"Paper\"; \"Scissors\"] [\"Rock\"; \"Paper\"; \"Scissors\"] [\n",
    "            0; -1; 1\n",
    "            1; 0; -1\n",
    "            -1; 1; 0\n",
    "]\n",
    "rps"
   ]
  },
  {
   "cell_type": "markdown",
   "id": "77331295",
   "metadata": {
    "slideshow": {
     "slide_type": "slide"
    }
   },
   "source": [
    "### Game Theory :: Nash Equilibrium\n",
    "* A common solution concept for games is the *Nash Equilbrium*\n",
    "* A Nash Equilibrium is an action profile where no player can do better choosing a different action if all other players choose their actions from the equilibrium profile\n",
    "* Since cooperation can't be enforced the rational strategy for a player is to maximize payoffs regardless of what the other players do\n",
    "* This means Nash Equilibrium will typically not be *Pareto optimal*. There are other outcomes that would benefit all players more, if all players could cooperate and trust each other not to deviate from the best mutually beneficial actions\n",
    "* A pure strategy Nash Equilibrium means a single action chosen by each player every time\n",
    "* A mixed strategy is a probability distribution over all actions e.g. choose Rock 1/3 of the time, choose Paper 2/3 etc.\n",
    "* A famous theorem by John Nash states that every finite game has a Nash Equilibrium as a mixed strategy"
   ]
  },
  {
   "cell_type": "code",
   "execution_count": 39,
   "id": "b38864bb",
   "metadata": {
    "slideshow": {
     "slide_type": "slide"
    }
   },
   "outputs": [
    {
     "data": {
      "text/html": [
       "<div class=\"nfg_2p\">\r\n",
       "<div class=\"title\" style=\"text-align:center\">Prisoner's Dilemna - 1 pure strategy solution(s)</div>\r\n",
       "<div style=\"float:left;margin-top:35pt;margin-right:15pt\"><b>Player 1</b></div>\r\n",
       "<div style=\"margin-left:75pt\"><b>Player 2</b></div>\r\n",
       "<table>\r\n",
       "<tbody>\r\n",
       "<tr >\r\n",
       "<td style =\"border: 1px solid black; border-collapse: collapse;\"></td>\r\n",
       "<td style =\"border: 1px solid black; border-collapse: collapse;\"><tt>Cooperate</tt></td>\r\n",
       "<td style =\"border: 1px solid black; border-collapse: collapse;\"><tt>Defect</tt></td>\r\n",
       "</tr>\r\n",
       "<tr>\r\n",
       "<td style =\"border: 1px solid black; border-collapse: collapse;\"><tt>Cooperate</tt></td>\r\n",
       "<td style =\"border: 1px solid black; border-collapse: collapse;\" align=\"center\">(-1,-1)</td><td style =\"border: 1px solid black; border-collapse: collapse;\" align=\"center\">(-3,0)</td></tr>\r\n",
       "<tr>\r\n",
       "<td style =\"border: 1px solid black; border-collapse: collapse;\"><tt>Defect</tt></td>\r\n",
       "<td style =\"border: 1px solid black; border-collapse: collapse;\" align=\"center\">(0,-3)</td><td align=\"center\" style =\"border: 1px solid black; border-collapse: collapse;background-color:lightblue\">(<u>-2</u>,<u>-2</u>)</td></tr>\r\n",
       "</tbody>\r\n",
       "</table>\r\n",
       "</div>\r\n"
      ]
     },
     "execution_count": 39,
     "metadata": {},
     "output_type": "execute_result"
    }
   ],
   "source": [
    "solve_enum_pure pd //Find any pure strategy Nash Equilibrium"
   ]
  },
  {
   "cell_type": "code",
   "execution_count": 40,
   "id": "cd464ac4",
   "metadata": {
    "slideshow": {
     "slide_type": "fragment"
    }
   },
   "outputs": [
    {
     "data": {
      "text/html": [
       "<div class=\"nfg_2p\">\r\n",
       "<div class=\"title\" style=\"text-align:center\">Stag Hunt - 2 pure strategy solution(s)</div>\r\n",
       "<div style=\"float:left;margin-top:35pt;margin-right:15pt\"><b>Player 1</b></div>\r\n",
       "<div style=\"margin-left:75pt\"><b>Player 2</b></div>\r\n",
       "<table>\r\n",
       "<tbody>\r\n",
       "<tr >\r\n",
       "<td style =\"border: 1px solid black; border-collapse: collapse;\"></td>\r\n",
       "<td style =\"border: 1px solid black; border-collapse: collapse;\"><tt>Cooperate</tt></td>\r\n",
       "<td style =\"border: 1px solid black; border-collapse: collapse;\"><tt>Defect</tt></td>\r\n",
       "</tr>\r\n",
       "<tr>\r\n",
       "<td style =\"border: 1px solid black; border-collapse: collapse;\"><tt>Cooperate</tt></td>\r\n",
       "<td align=\"center\" style =\"border: 1px solid black; border-collapse: collapse;background-color:lightblue\">(<u>4</u>,<u>4</u>)</td><td style =\"border: 1px solid black; border-collapse: collapse;\" align=\"center\">(0,2)</td></tr>\r\n",
       "<tr>\r\n",
       "<td style =\"border: 1px solid black; border-collapse: collapse;\"><tt>Defect</tt></td>\r\n",
       "<td style =\"border: 1px solid black; border-collapse: collapse;\" align=\"center\">(2,0)</td><td align=\"center\" style =\"border: 1px solid black; border-collapse: collapse;background-color:lightblue\">(<u>2</u>,<u>2</u>)</td></tr>\r\n",
       "</tbody>\r\n",
       "</table>\r\n",
       "</div>\r\n"
      ]
     },
     "execution_count": 40,
     "metadata": {},
     "output_type": "execute_result"
    }
   ],
   "source": [
    "solve_enum_pure sh //Find any pure strategy Nash Equilibrium"
   ]
  },
  {
   "cell_type": "code",
   "execution_count": 41,
   "id": "ede5e702",
   "metadata": {
    "slideshow": {
     "slide_type": "fragment"
    }
   },
   "outputs": [
    {
     "data": {
      "text/html": [
       "Rock Paper Scissors has no pure strategy solutions."
      ]
     },
     "execution_count": 41,
     "metadata": {},
     "output_type": "execute_result"
    }
   ],
   "source": [
    "solve_enum_pure rps"
   ]
  },
  {
   "cell_type": "markdown",
   "id": "d8afebdb",
   "metadata": {
    "slideshow": {
     "slide_type": "slide"
    }
   },
   "source": [
    "### Game Theory :: Game Theory in Sylvester"
   ]
  },
  {
   "cell_type": "code",
   "execution_count": 42,
   "id": "c2faf201",
   "metadata": {
    "slideshow": {
     "slide_type": "fragment"
    }
   },
   "outputs": [
    {
     "data": {
      "text/html": [
       "<div class=\"nfg_2p\">\r\n",
       "<div class=\"title\" style=\"text-align:center\">Rock Paper Scissors - 1 mixed strategy solution(s)</div>\r\n",
       "<div style=\"float:left;margin-top:35pt;margin-right:15pt\"><b>Player 1</b></div>\r\n",
       "<div style=\"margin-left:75pt\"><b>Player 2</b></div>\r\n",
       "<table>\r\n",
       "<tbody>\r\n",
       "<tr >\r\n",
       "<td style =\"border: 1px solid black; border-collapse: collapse;\"></td>\r\n",
       "<td style =\"border: 1px solid black; border-collapse: collapse;\"><tt>Rock</tt><sup>1/3</sup></td>\r\n",
       "<td style =\"border: 1px solid black; border-collapse: collapse;\"><tt>Paper</tt><sup>1/3</sup></td>\r\n",
       "<td style =\"border: 1px solid black; border-collapse: collapse;\"><tt>Scissors</tt><sup>1/3</sup></td>\r\n",
       "</tr>\r\n",
       "<tr>\r\n",
       "<td style =\"border: 1px solid black; border-collapse: collapse;\"><tt>Rock</tt><sup>1/3</sup></td>\r\n",
       "<td align=\"center\" style =\"border: 1px solid black; border-collapse: collapse;\">(0,0) (<u>0</u>,<u>0</u>)</td><td align=\"center\" style =\"border: 1px solid black; border-collapse: collapse;\">(-1,1) (<u>-1/3</u>,<u>1/3</u>)</td><td align=\"center\" style =\"border: 1px solid black; border-collapse: collapse;\">(1,-1) (<u>1/3</u>,<u>-1/3</u>)</td></tr>\r\n",
       "<tr>\r\n",
       "<td style =\"border: 1px solid black; border-collapse: collapse;\"><tt>Paper</tt><sup>1/3</sup></td>\r\n",
       "<td align=\"center\" style =\"border: 1px solid black; border-collapse: collapse;\">(1,-1) (<u>1/3</u>,<u>-1/3</u>)</td><td align=\"center\" style =\"border: 1px solid black; border-collapse: collapse;\">(0,0) (<u>0</u>,<u>0</u>)</td><td align=\"center\" style =\"border: 1px solid black; border-collapse: collapse;\">(-1,1) (<u>-1/3</u>,<u>1/3</u>)</td></tr>\r\n",
       "<tr>\r\n",
       "<td style =\"border: 1px solid black; border-collapse: collapse;\"><tt>Scissors</tt><sup>1/3</sup></td>\r\n",
       "<td align=\"center\" style =\"border: 1px solid black; border-collapse: collapse;\">(-1,1) (<u>-1/3</u>,<u>1/3</u>)</td><td align=\"center\" style =\"border: 1px solid black; border-collapse: collapse;\">(1,-1) (<u>1/3</u>,<u>-1/3</u>)</td><td align=\"center\" style =\"border: 1px solid black; border-collapse: collapse;\">(0,0) (<u>0</u>,<u>0</u>)</td></tr>\r\n",
       "</tbody>\r\n",
       "</table>\r\n",
       "</div>\r\n"
      ]
     },
     "execution_count": 42,
     "metadata": {},
     "output_type": "execute_result"
    }
   ],
   "source": [
    "solve_enum_mixed rps"
   ]
  },
  {
   "cell_type": "markdown",
   "id": "3732b3c3",
   "metadata": {
    "slideshow": {
     "slide_type": "slide"
    }
   },
   "source": [
    "# Economic Concepts in Sylvester\n",
    "<center>\n",
    "<img src = \"https://ajb.nyc3.cdn.digitaloceanspaces.com/funcon25/mpl.png\" style=\"width:1000px; height:600px\" />\n",
    "</center>"
   ]
  },
  {
   "cell_type": "markdown",
   "id": "cf35f95f",
   "metadata": {
    "slideshow": {
     "slide_type": "slide"
    }
   },
   "source": [
    "# Economics Concepts in Sylvester \n",
    "## Overview\n",
    "* Economics - *how a society uses scarce resources and decides what to produce, for whom, by whom*.\n",
    "* Basic concepts - *supply*, *demand*, *consumer*,  *preference*, *utility*, *firm*, *production*, *capital*, *labour*...\n",
    "* Economics requires extensive usage of algebraic manipulation of real functions and expressions, equation and constraint solving, graphs and visualization\n",
    "* We can use the features of Sylvester demonstrated to implement and work with these concepts"
   ]
  },
  {
   "cell_type": "markdown",
   "id": "beaaaaa5",
   "metadata": {
    "slideshow": {
     "slide_type": "slide"
    }
   },
   "source": [
    "## Economics Concepts in Sylvester :: Production Functions\n",
    "### Theory\n",
    "* *Production function*: the ways a firm can transform inputs into outputs defined by relationship between the quantities of inputs used and\n",
    "the maximum quantity of output *q* that can be produced. The production function for a firm that uses\n",
    "labor and capital only is a function of 2 real variables: $$q = f(L,K)$$ \n",
    "\n",
    "* The *marginal product* of labor (MPL) is the change in total output resulting from using an extra unit of labor, holding other factors (capital) constant. The marginal product of labor is the partial derivative of the production function\n",
    "with respect to labor: $$MP_L=\\frac{\\partial f(L, K)}{\\partial L}$$\n",
    "\n",
    "* The *average product of labor* (APL) is the ratio of output to the number of workers\n",
    "used to produce that output. $$AP_L=\\frac{q}{L}$$"
   ]
  },
  {
   "cell_type": "markdown",
   "id": "9f1abc11",
   "metadata": {
    "slideshow": {
     "slide_type": "slide"
    }
   },
   "source": [
    "## Economics Concepts in Sylvester :: Production Functions"
   ]
  },
  {
   "cell_type": "code",
   "execution_count": 43,
   "id": "8eafd493",
   "metadata": {
    "slideshow": {
     "slide_type": "fragment"
    }
   },
   "outputs": [
    {
     "data": {
      "text/html": [
       "$q(L) = {\\frac{1}{10}}{\\bar{K}}L + {3}{\\bar{K}}L^2 + {\\frac{-1}{10}}{\\bar{K}}L^3$"
      ]
     },
     "execution_count": 43,
     "metadata": {},
     "output_type": "execute_result"
    }
   ],
   "source": [
    "// Open Sylvester Economics module\n",
    "open Economics\n",
    "\n",
    "// Declare 4 real variables\n",
    "let p, q, L, K = realvar4 \"p\" \"q\" \"L\" \"K\" \n",
    "\n",
    "// Declare 4 real symbolic constants\n",
    "let alpha, beta, A, Kbar  = realconst4 \"alpha\" \"beta\" \"A\" \"K_bar\" \n",
    "\n",
    "// let QP be a short-run production function holding K constant\n",
    "let QP = prodfun \"q\" (0.1 * L * Kbar + 3 * L *** 2 * Kbar - 0.1 * L *** 3 * Kbar) \n",
    "QP"
   ]
  },
  {
   "cell_type": "code",
   "execution_count": 44,
   "id": "47a70ae5",
   "metadata": {
    "slideshow": {
     "slide_type": "fragment"
    }
   },
   "outputs": [
    {
     "data": {
      "text/html": [
       "$q(L) = {\\frac{1}{10}}{\\bar{K}}L + {3}{\\bar{K}}L^2 + {\\frac{-1}{10}}{\\bar{K}}L^3$"
      ]
     },
     "execution_count": 44,
     "metadata": {},
     "output_type": "execute_result"
    }
   ],
   "source": [
    "QP"
   ]
  },
  {
   "cell_type": "code",
   "execution_count": 45,
   "id": "6dddcf7c",
   "metadata": {
    "slideshow": {
     "slide_type": "fragment"
    }
   },
   "outputs": [
    {
     "data": {
      "text/html": [
       "$q(L) = L + 30L^2 - (L^{3})$"
      ]
     },
     "execution_count": 45,
     "metadata": {},
     "output_type": "execute_result"
    }
   ],
   "source": [
    "// fix Kbar at 10 in our production function\n",
    "let QP1 = fix {|Kbar=10.|} QP\n",
    "QP1"
   ]
  },
  {
   "cell_type": "code",
   "execution_count": 46,
   "id": "5f487a62",
   "metadata": {
    "slideshow": {
     "slide_type": "slide"
    }
   },
   "outputs": [
    {
     "data": {
      "text/html": [
       "$MP_L(L) = 1 + 60L + -3L^2$"
      ]
     },
     "execution_count": 46,
     "metadata": {},
     "output_type": "execute_result"
    }
   ],
   "source": [
    "// Calculate the marginal product of labour\n",
    "let MPL = marginal L QP1 |> with_symbol \"MP_L\"\n",
    "MPL"
   ]
  },
  {
   "cell_type": "code",
   "execution_count": 48,
   "id": "6855dcb6",
   "metadata": {
    "slideshow": {
     "slide_type": "fragment"
    }
   },
   "outputs": [
    {
     "data": {
      "text/html": [
       "$AP_L(L) = \\frac{L + 30L^2 - (L^{3})}{L}$"
      ]
     },
     "execution_count": 48,
     "metadata": {},
     "output_type": "execute_result"
    }
   ],
   "source": [
    "// Calculate the average product of labout\n",
    "let APL = realfun \"AP_L\" (QP1.[L] / L)\n",
    "APL"
   ]
  },
  {
   "cell_type": "code",
   "execution_count": 49,
   "id": "ec9199b2",
   "metadata": {
    "slideshow": {
     "slide_type": "slide"
    }
   },
   "outputs": [
    {
     "data": {
      "text/html": [
       "<div>\r\n",
       " <div id=\"153136ee-c477-4dfb-ad2a-66458ac43ad9\" class=\"jxgbox\" style=\"width:100%;height:640px\"></div>\r\n",
       " <script>require(['https://cdn.jsdelivr.net/npm/jsxgraph/distrib/jsxgraphcore.js'], function(JXG) {\n",
       "JXG.Options.text.useMathJax = true;\n",
       "var MathJS__Pow$, Board__invisible, Board__get_invisible$;\r\n",
       "Board__get_invisible$ = (function()\r\n",
       "{\r\n",
       "    var size = 0.000000;\r\n",
       "    var withLabel = false;\r\n",
       "    return {label: \"\", size: size, strokeWidth: 0.000000, withLabel: withLabel};\r\n",
       "});\r\n",
       "MathJS__Pow$ = (function(x,y)\r\n",
       "{\r\n",
       "    return Math.pow(x, y);;\r\n",
       "});\r\n",
       "Board__invisible = Board__get_invisible$();\r\n",
       "var boundingbox = [(0.000000 - ((20.000000 - 0.000000) / 10.000000)), (300.000000 + ((300.000000 - 0.000000) / 10.000000)), (20.000000 + (20.000000 / 10.000000)), (0.000000 - (300.000000 / 10.000000))];\r\n",
       "var showNavigation = true;\r\n",
       "var showCopyright = false;\r\n",
       "var keepAspectRatio = false;\r\n",
       "var name = \"L\";\r\n",
       "var withLabel = true;\r\n",
       "var position = \"rt\";\r\n",
       "var offset = [-300, -40];\r\n",
       "var _name = \"Q\";\r\n",
       "var _withLabel = true;\r\n",
       "var _position = \"rt\";\r\n",
       "var rotate = 90;\r\n",
       "var _offset = [-40, -300];\r\n",
       "var b = JXG.JSXGraph.initBoard(\"153136ee-c477-4dfb-ad2a-66458ac43ad9\", {axis: true, boundingbox: boundingbox, defaultAxes: {x: {label: {anchorX: \"middle\", offset: offset, position: position}, name: name, withLabel: withLabel}, y: {label: {anchorX: \"middle\", offset: _offset, position: _position, rotate: rotate}, name: _name, withLabel: _withLabel}}, keepAspectRatio: keepAspectRatio, showCopyright: showCopyright, showNavigation: showNavigation});\r\n",
       "var strokeColor = \"blue\";\r\n",
       "var strokeWidth = 4;\r\n",
       "var __withLabel = true;\r\n",
       "var fg0 = b.create('functiongraph', [(function(L)\r\n",
       "{\r\n",
       "    return ((((1.000000 * L) + (30.000000 * MathJS__Pow$(L, 2.000000))) + (-1.000000 * MathJS__Pow$(L, 3.000000))) / L);\r\n",
       "}), 0.000000, 20.000000], {name: \"$AP_L(L) = \\\\frac{L + 30L^2 - (L^{3})}{L}$\", strokeColor: strokeColor, strokeWidth: strokeWidth, withLabel: __withLabel});\r\n",
       "var pt0_j0 = b.create('point', [2.000000, 57.000000], {name: \"L=2(2.0, 57.0)\"});\r\n",
       "var _strokeColor = \"green\";\r\n",
       "var _strokeWidth = 4;\r\n",
       "var ___withLabel = true;\r\n",
       "var fg1 = b.create('functiongraph', [(function(L)\r\n",
       "{\r\n",
       "    return ((1.000000 + (60.000000 * L)) + (-3.000000 * MathJS__Pow$(L, 2.000000)));\r\n",
       "}), 0.000000, 20.000000], {name: \"$MP_L(L) = 1 + 60L + -3L^2$\", strokeColor: _strokeColor, strokeWidth: _strokeWidth, withLabel: ___withLabel});\r\n",
       "var pt1_j0 = b.create('point', [2.000000, 109.000000], {name: \"L=2(2.0, 109.0)\"});\r\n",
       "var t = b.create('text', [((20.000000 - 0.000000) * 0.500000), (300.000000 - ((300.000000 - 0.000000) / 10.000000)), \"Production Function\"], Board__invisible);\r\n",
       "b});</script>\r\n",
       "</div>\r\n"
      ]
     },
     "execution_count": 49,
     "metadata": {},
     "output_type": "execute_result"
    }
   ],
   "source": [
    "let graphs = {|\n",
    "    xrange=0.,20.; yrange=0.,300. \n",
    "    name1=(APL.Html()); name2=(MPL.Html()); points=[(2., \"L=2\")]\n",
    "    title=\"Production Function\"; xtitle=\"L\"; ytitle=\"Q\"\n",
    "    strokeColor2=green; strokeWidth=4\n",
    "|}\n",
    "draw graphs (realfungrpv [APL;MPL])"
   ]
  },
  {
   "cell_type": "code",
   "execution_count": 50,
   "id": "acad4f31",
   "metadata": {
    "slideshow": {
     "slide_type": "slide"
    }
   },
   "outputs": [
    {
     "data": {
      "text/html": [
       "$q(K,L) = {A}{K^{\\beta}}L^\\alpha$"
      ]
     },
     "execution_count": 50,
     "metadata": {},
     "output_type": "execute_result"
    }
   ],
   "source": [
    "// Consider the Cobb-Douglas production function\n",
    "let QCD = prodfun2 \"q\" (A * L *** alpha * K *** beta)\n",
    "QCD"
   ]
  },
  {
   "cell_type": "code",
   "execution_count": 51,
   "id": "20e695e1",
   "metadata": {
    "slideshow": {
     "slide_type": "fragment"
    }
   },
   "outputs": [
    {
     "data": {
      "text/html": [
       "$q(K,L) = K^{\\frac{1}{2}}L^\\frac{1}{2}$"
      ]
     },
     "execution_count": 51,
     "metadata": {},
     "output_type": "execute_result"
    }
   ],
   "source": [
    "// consider a Cobb-Douglas function with A=1,alpha and beta = 0.5\n",
    "let QCD1 = fix{|A=1.; alpha=0.5;beta=0.5|} QCD\n",
    "QCD1"
   ]
  },
  {
   "cell_type": "code",
   "execution_count": 52,
   "id": "26bb099b",
   "metadata": {
    "slideshow": {
     "slide_type": "slide"
    }
   },
   "outputs": [
    {
     "data": {
      "text/html": [
       "<div>\r\n",
       " <div id=\"ed508bbc-b4a9-48bb-abbe-b4311da96c5d\" class=\"jxgbox\" style=\"width:100%;height:640px\"></div>\r\n",
       " <script>require(['https://cdn.jsdelivr.net/npm/jsxgraph/distrib/jsxgraphcore.js'], function(JXG) {\n",
       "JXG.Options.text.useMathJax = true;\n",
       "var Board__invisible, Board__get_invisible$;\r\n",
       "Board__get_invisible$ = (function()\r\n",
       "{\r\n",
       "    var size = 0.000000;\r\n",
       "    var withLabel = false;\r\n",
       "    return {label: \"\", size: size, strokeWidth: 0.000000, withLabel: withLabel};\r\n",
       "});\r\n",
       "Board__invisible = Board__get_invisible$();\r\n",
       "var boundingbox = [(0.000000 - ((18.000000 - 0.000000) / 10.000000)), (20.000000 + ((20.000000 - 0.000000) / 10.000000)), (18.000000 + (18.000000 / 10.000000)), (0.000000 - (20.000000 / 10.000000))];\r\n",
       "var showNavigation = true;\r\n",
       "var showCopyright = false;\r\n",
       "var keepAspectRatio = false;\r\n",
       "var name = \"L\";\r\n",
       "var withLabel = true;\r\n",
       "var position = \"rt\";\r\n",
       "var offset = [-300, -40];\r\n",
       "var _name = \"Y\";\r\n",
       "var _withLabel = true;\r\n",
       "var _position = \"rt\";\r\n",
       "var rotate = 90;\r\n",
       "var _offset = [-40, -300];\r\n",
       "var b = JXG.JSXGraph.initBoard(\"ed508bbc-b4a9-48bb-abbe-b4311da96c5d\", {axis: true, boundingbox: boundingbox, defaultAxes: {x: {label: {anchorX: \"middle\", offset: offset, position: position}, name: name, withLabel: withLabel}, y: {label: {anchorX: \"middle\", offset: _offset, position: _position, rotate: rotate}, name: _name, withLabel: _withLabel}}, keepAspectRatio: keepAspectRatio, showCopyright: showCopyright, showNavigation: showNavigation});\r\n",
       "var strokeColor = \"blue\";\r\n",
       "var strokeWidth = 1;\r\n",
       "var __withLabel = true;\r\n",
       "var fg0 = b.create('functiongraph', [(function(L)\r\n",
       "{\r\n",
       "    return (36.000000 / L);\r\n",
       "}), 0.000000, 18.000000], {name: \"q=6\", strokeColor: strokeColor, strokeWidth: strokeWidth, withLabel: __withLabel});\r\n",
       "var pt0_j0 = b.create('point', [11.000000, 3.272727], {name: \"A(11.0, 3.272727273)\"});\r\n",
       "var _strokeColor = \"blue\";\r\n",
       "var _strokeWidth = 1;\r\n",
       "var ___withLabel = true;\r\n",
       "var fg1 = b.create('functiongraph', [(function(L)\r\n",
       "{\r\n",
       "    return (81.000000 / L);\r\n",
       "}), 0.000000, 18.000000], {name: \"q=9\", strokeColor: _strokeColor, strokeWidth: _strokeWidth, withLabel: ___withLabel});\r\n",
       "var pt1_j0 = b.create('point', [11.000000, 7.363636], {name: \"A(11.0, 7.363636364)\"});\r\n",
       "var __strokeColor = \"blue\";\r\n",
       "var __strokeWidth = 1;\r\n",
       "var ____withLabel = true;\r\n",
       "var fg2 = b.create('functiongraph', [(function(L)\r\n",
       "{\r\n",
       "    return (144.000000 / L);\r\n",
       "}), 0.000000, 18.000000], {name: \"q=12\", strokeColor: __strokeColor, strokeWidth: __strokeWidth, withLabel: ____withLabel});\r\n",
       "var pt2_j0 = b.create('point', [11.000000, 13.090909], {name: \"A(11.0, 13.09090909)\"});\r\n",
       "var t = b.create('text', [((18.000000 - 0.000000) * 0.500000), (20.000000 - ((20.000000 - 0.000000) / 10.000000)), \"\"], Board__invisible);\r\n",
       "b});</script>\r\n",
       "</div>\r\n"
      ]
     },
     "execution_count": 52,
     "metadata": {},
     "output_type": "execute_result"
    }
   ],
   "source": [
    "isoquants {|points=[11., \"A\"]; xtitle=\"L\"; ytitle=\"Y\"; xrange=0.,18.; yrange=0.,20.; name1=\"q=6\"; name2=\"q=9\";  name3=\"q=12\"|} K QCD1 [|6.;9.;12.|]"
   ]
  },
  {
   "cell_type": "markdown",
   "id": "c402cece",
   "metadata": {
    "slideshow": {
     "slide_type": "slide"
    }
   },
   "source": [
    "## Economics Concepts in Sylvester :: Cost Functions"
   ]
  },
  {
   "cell_type": "markdown",
   "id": "0a426362",
   "metadata": {
    "slideshow": {
     "slide_type": "slide"
    }
   },
   "source": [
    "## Economics Concepts in Sylvester :: Cost Functions\n",
    "### Theory\n",
    "* *Cost function*: The total cost $C$ to a firm of producing a quantity $q$ of goods \n",
    "\n",
    "* Costs are often broken down into *fixed costs* and *variable costs*\n",
    "\n",
    "* The *marginal cost* of labor (MC) is the cost of producing one more item. The marginal cost is the just the partial derivative of the cost function with respect to $q$: $MC(q) = C'(q)$\n",
    "\n",
    "* The *average cost* (AC) is the total cost divided by the numer of items produced: $C(q) / q$"
   ]
  },
  {
   "cell_type": "code",
   "execution_count": 53,
   "id": "96869095",
   "metadata": {
    "slideshow": {
     "slide_type": "slide"
    }
   },
   "outputs": [
    {
     "data": {
      "text/html": [
       "$C(q) = 450 + 2q + q^{3}$"
      ]
     },
     "execution_count": 53,
     "metadata": {},
     "output_type": "execute_result"
    }
   ],
   "source": [
    "// C is a 1-variable cost function\n",
    "let C = costfun \"C\" (q *** 3 + 2 * q + 450)\n",
    "C"
   ]
  },
  {
   "cell_type": "code",
   "execution_count": 54,
   "id": "d4e8828c",
   "metadata": {
    "slideshow": {
     "slide_type": "fragment"
    }
   },
   "outputs": [
    {
     "data": {
      "text/html": [
       "$450$"
      ]
     },
     "execution_count": 54,
     "metadata": {},
     "output_type": "execute_result"
    }
   ],
   "source": [
    "// set q = 0 to find the fixed costs\n",
    "C[0]"
   ]
  },
  {
   "cell_type": "code",
   "execution_count": 55,
   "id": "18fe588f",
   "metadata": {
    "slideshow": {
     "slide_type": "fragment"
    }
   },
   "outputs": [
    {
     "data": {
      "text/html": [
       "$MC_q(q) = 2 + 3q^2$"
      ]
     },
     "execution_count": 55,
     "metadata": {},
     "output_type": "execute_result"
    }
   ],
   "source": [
    "// marginal costs - how much costs increase for an additional unit of output\n",
    "let MC = marginal q C\n",
    "MC"
   ]
  },
  {
   "cell_type": "code",
   "execution_count": 56,
   "id": "8e8c9dce",
   "metadata": {
    "slideshow": {
     "slide_type": "slide"
    }
   },
   "outputs": [
    {
     "data": {
      "text/html": [
       "<div>\r\n",
       " <div id=\"2becc7f9-8051-4616-9ac4-48702bdedba0\" class=\"jxgbox\" style=\"width:100%;height:640px\"></div>\r\n",
       " <script>require(['https://cdn.jsdelivr.net/npm/jsxgraph/distrib/jsxgraphcore.js'], function(JXG) {\n",
       "JXG.Options.text.useMathJax = true;\n",
       "var MathJS__Pow$, Board__invisible, Board__get_invisible$;\r\n",
       "Board__get_invisible$ = (function()\r\n",
       "{\r\n",
       "    var size = 0.000000;\r\n",
       "    var withLabel = false;\r\n",
       "    return {label: \"\", size: size, strokeWidth: 0.000000, withLabel: withLabel};\r\n",
       "});\r\n",
       "MathJS__Pow$ = (function(x,y)\r\n",
       "{\r\n",
       "    return Math.pow(x, y);;\r\n",
       "});\r\n",
       "Board__invisible = Board__get_invisible$();\r\n",
       "var boundingbox = [(0.000000 - ((10.000000 - 0.000000) / 10.000000)), (800.000000 + ((800.000000 - 0.000000) / 10.000000)), (10.000000 + (10.000000 / 10.000000)), (0.000000 - (800.000000 / 10.000000))];\r\n",
       "var showNavigation = true;\r\n",
       "var showCopyright = false;\r\n",
       "var keepAspectRatio = false;\r\n",
       "var name = \"X\";\r\n",
       "var withLabel = true;\r\n",
       "var position = \"rt\";\r\n",
       "var offset = [-300, -40];\r\n",
       "var _name = \"Y\";\r\n",
       "var _withLabel = true;\r\n",
       "var _position = \"rt\";\r\n",
       "var rotate = 90;\r\n",
       "var _offset = [-40, -300];\r\n",
       "var b = JXG.JSXGraph.initBoard(\"2becc7f9-8051-4616-9ac4-48702bdedba0\", {axis: true, boundingbox: boundingbox, defaultAxes: {x: {label: {anchorX: \"middle\", offset: offset, position: position}, name: name, withLabel: withLabel}, y: {label: {anchorX: \"middle\", offset: _offset, position: _position, rotate: rotate}, name: _name, withLabel: _withLabel}}, keepAspectRatio: keepAspectRatio, showCopyright: showCopyright, showNavigation: showNavigation});\r\n",
       "var strokeColor = \"lightblue\";\r\n",
       "var strokeWidth = 4;\r\n",
       "var __withLabel = true;\r\n",
       "var fg0 = b.create('functiongraph', [(function(q)\r\n",
       "{\r\n",
       "    return ((450.000000 + (2.000000 * q)) + MathJS__Pow$(q, 3.000000));\r\n",
       "}), 0.000000, 10.000000], {name: \"$C(q) = 450 + 2q + q^{3}$\", strokeColor: strokeColor, strokeWidth: strokeWidth, withLabel: __withLabel});\r\n",
       "var _strokeColor = \"lightblue\";\r\n",
       "var _strokeWidth = 4;\r\n",
       "var ___withLabel = true;\r\n",
       "var fg1 = b.create('functiongraph', [(function(q)\r\n",
       "{\r\n",
       "    return (2.000000 + (3.000000 * MathJS__Pow$(q, 2.000000)));\r\n",
       "}), 0.000000, 10.000000], {name: \"$MC_q(q) = 2 + 3q^2$\", strokeColor: _strokeColor, strokeWidth: _strokeWidth, withLabel: ___withLabel});\r\n",
       "var t = b.create('text', [((10.000000 - 0.000000) * 0.500000), (800.000000 - ((800.000000 - 0.000000) / 10.000000)), \"Cost Functions\"], Board__invisible);\r\n",
       "b});</script>\r\n",
       "</div>\r\n"
      ]
     },
     "execution_count": 56,
     "metadata": {},
     "output_type": "execute_result"
    }
   ],
   "source": [
    "draw {|yrange=0.,800.;strokeColor=\"lightblue\";strokeWidth=4; title=\"Cost Functions\"|} (realfungrpv [|C; MC|])"
   ]
  },
  {
   "cell_type": "markdown",
   "id": "01c9c496",
   "metadata": {
    "slideshow": {
     "slide_type": "slide"
    }
   },
   "source": [
    "<div style=\"margin-top:100px\">\n",
    "    <h1>Economic Models in Sylvester</h1>\n",
    "</div>\n",
    "<center>\n",
    "<img src = \"https://public.bnbstatic.com/static/academy/static/academy/editor-uploads/76e342331fc849dd8236e7cdfa3cae50.\" style=\"width:800px; height:600px\" />\n",
    "</center>"
   ]
  },
  {
   "cell_type": "markdown",
   "id": "6ce35a7a",
   "metadata": {
    "slideshow": {
     "slide_type": "slide"
    }
   },
   "source": [
    "### Economic Models in Sylvester :: Overview\n",
    "* Economic models mathematically model economic scenarios and phenomena in a radically simplified setting given certain assumptions\n",
    "* *All economic models are wrong* but some are useful in helping us understand certain things better\n",
    "* Economic models requires a great deal of algebraic manipulation, equation and constraint solving, and visualization\n",
    "* We can combine the capabilties we saw before into language types that represent economic models and allow the user to automate much of the mathematical operations required in analysis"
   ]
  },
  {
   "cell_type": "markdown",
   "id": "32b5b125",
   "metadata": {
    "slideshow": {
     "slide_type": "slide"
    }
   },
   "source": [
    "### Economic Models in Sylvester :: Consumer Preference\n",
    "<center>\n",
    "<img src = \"https://ajb.nyc3.cdn.digitaloceanspaces.com/funcon25/ct.png\" style=\"width:1200px; height:600px\" />\n",
    "</center>"
   ]
  },
  {
   "cell_type": "markdown",
   "id": "db9d5cde",
   "metadata": {
    "slideshow": {
     "slide_type": "slide"
    }
   },
   "source": [
    "### Economic Models in Sylvester :: Consumer Preference :: Overview"
   ]
  },
  {
   "cell_type": "markdown",
   "id": "36a8e1e1",
   "metadata": {
    "slideshow": {
     "slide_type": "fragment"
    }
   },
   "source": [
    "* Consumer preference models analyze how consumers choose goods to purchase and the price they are willing to pay\n",
    "* Consumers assumed to derive utility from goods that can be modelled as a function of the amount of goods they own\n",
    "* Goods have prices e.g. for 2 goods $p1$ and $p2$ are the prices of each good\n",
    "* Consumers have a budget constraint which limits how much they can spend on a particular bundle of goods\n",
    "* A demand function indicates how much of a good consumers will buy at a particular price"
   ]
  },
  {
   "cell_type": "code",
   "execution_count": null,
   "id": "6cbeaf6e",
   "metadata": {
    "slideshow": {
     "slide_type": "slide"
    }
   },
   "outputs": [],
   "source": [
    "// Definition of consumer preference model in Sylvester\n",
    "type ConsumerPreference2() =\n",
    "    inherit EconomicModel()\n",
    "    do\n",
    "        base.CreateVars((\"Y\", \"Y\"), (\"q1\", \"q_1\"), (\"q2\", \"q_2\"), (\"p1\", \"p_1\"), (\"p2\", \"p_2)\"))\n",
    "        base.CreateUtilFun2(\"U\", \"q1\", \"q2\")\n",
    "\n",
    "    member x.q1\n",
    "        with get() = x.GetVar \"q1\" and set(value) = x.SetVar (\"q1\", value)\n",
    "    member x.q2\n",
    "        with get() = x.GetVar \"q2\" and set(value) = x.SetVar (\"q2\", value)\n",
    "    member x.p1\n",
    "        with get() = x.GetVar \"p1\"\n",
    "        and set(value) = x.SetVar (\"p1\", value)\n",
    "    member x.p2\n",
    "        with get() = x.GetVar \"p2\"\n",
    "        and set(value) = x.SetVar (\"p2\", value)\n",
    "    member x.Y\n",
    "        with get() = x.GetVar \"Y\"\n",
    "        and set(value) = x.SetVar (\"Y\", value)\n",
    "    member x.U\n",
    "        with get() = x.GetFun2<UtilityFunction2> \"U\" \n",
    "        and set(value:UtilityFunction2) = x.SetFun2(\"U\", value)\n",
    "    member x.BudgetConstraint = x.Y == x.  p1 * x.q1 + x.p2 * x.q2\n",
    "    member x.UtilityMaximization = mrs x.U == x.p1 / x.p2\n",
    "    override x.Constraints = [x.BudgetConstraint; x.UtilityMaximization]"
   ]
  },
  {
   "cell_type": "markdown",
   "id": "173bed80",
   "metadata": {
    "slideshow": {
     "slide_type": "slide"
    }
   },
   "source": [
    "### Economic Models in Sylvester :: Consumer Preference"
   ]
  },
  {
   "cell_type": "code",
   "execution_count": 57,
   "id": "8260d5f4",
   "metadata": {
    "slideshow": {
     "slide_type": "fragment"
    }
   },
   "outputs": [
    {
     "data": {
      "text/html": [
       "A consumer preference model with quantities $q_1$ and $q_2$, prices $p_1$ and $p_2$, utility function $U(q_1,q_2) = q_1^{\\frac{1}{2}}q_2^\\frac{1}{2}$,and budget $Y$. The model constraints are:<br/>$$Y = p_1q_1 + p_2q_2$$$$MRS_U = \\frac{p_1}{p_2}$$."
      ]
     },
     "execution_count": 57,
     "metadata": {},
     "output_type": "execute_result"
    }
   ],
   "source": [
    "let x = econ_model<ConsumerPreference> //Create a consumer preference model\n",
    "do x.U <- utilfun2 \"U\" ((x.q1***0.5) * (x.q2***0.5))//Assign a Cobb-Douglas utility function as the consumer's utility function\n",
    "x"
   ]
  },
  {
   "cell_type": "code",
   "execution_count": 58,
   "id": "45daa658",
   "metadata": {
    "slideshow": {
     "slide_type": "fragment"
    }
   },
   "outputs": [
    {
     "data": {
      "text/html": [
       "$\\frac{q_2}{q_1}$"
      ]
     },
     "execution_count": 58,
     "metadata": {},
     "output_type": "execute_result"
    }
   ],
   "source": [
    "// The marginal rate of substitution for the model's utility function\n",
    "mrs x.U"
   ]
  },
  {
   "cell_type": "code",
   "execution_count": 59,
   "id": "fd41ded0",
   "metadata": {
    "slideshow": {
     "slide_type": "fragment"
    }
   },
   "outputs": [
    {
     "data": {
      "text/html": [
       "$$q_1 = \\frac{\\frac{1}{2}Y}{p_1}, q_2 = \\frac{\\frac{1}{2}Y}{p_2}$$"
      ]
     },
     "execution_count": 59,
     "metadata": {},
     "output_type": "execute_result"
    }
   ],
   "source": [
    "// Solve the model equations to derive the demand functions\n",
    "solve {|posvars=true|} [x.q1;x.q2] x.Equations"
   ]
  },
  {
   "cell_type": "code",
   "execution_count": 60,
   "id": "4ed5bf86",
   "metadata": {
    "slideshow": {
     "slide_type": "fragment"
    }
   },
   "outputs": [
    {
     "data": {
      "text/html": [
       "$q1(p_1) = \\frac{{\\frac{1}{2}}{Y}}{p_1}$, $q2(p_2) = \\frac{{\\frac{1}{2}}{Y}}{p_2}$"
      ]
     },
     "execution_count": 60,
     "metadata": {},
     "output_type": "execute_result"
    }
   ],
   "source": [
    "// We can bundle the necessary solving and derivation code into properties of the model easily accessed by the user\n",
    "x.DemandFunctions"
   ]
  },
  {
   "cell_type": "markdown",
   "id": "37f6e458",
   "metadata": {
    "slideshow": {
     "slide_type": "slide"
    }
   },
   "source": [
    "# Economic Models in Sylvester :: Consumer Preference \n",
    "\n",
    "## Visualization"
   ]
  },
  {
   "cell_type": "code",
   "execution_count": 61,
   "id": "f7f6dbf8",
   "metadata": {
    "slideshow": {
     "slide_type": "slide"
    }
   },
   "outputs": [
    {
     "data": {
      "text/html": [
       "<div>\r\n",
       " <div id=\"f8c78fab-7ad9-4260-9a36-bfd50da473ae\" class=\"jxgbox\" style=\"width:100%;height:640px\"></div>\r\n",
       " <script>require(['https://cdn.jsdelivr.net/npm/jsxgraph/distrib/jsxgraphcore.js'], function(JXG) {\n",
       "JXG.Options.text.useMathJax = true;\n",
       "var Board__invisible, Board__get_invisible$;\r\n",
       "Board__get_invisible$ = (function()\r\n",
       "{\r\n",
       "    var size = 0.000000;\r\n",
       "    var withLabel = false;\r\n",
       "    return {label: \"\", size: size, strokeWidth: 0.000000, withLabel: withLabel};\r\n",
       "});\r\n",
       "Board__invisible = Board__get_invisible$();\r\n",
       "var boundingbox = [(0.000000 - ((50.000000 - 0.000000) / 10.000000)), (50.000000 + ((50.000000 - 0.000000) / 10.000000)), (50.000000 + (50.000000 / 10.000000)), (0.000000 - (50.000000 / 10.000000))];\r\n",
       "var showNavigation = true;\r\n",
       "var showCopyright = false;\r\n",
       "var keepAspectRatio = false;\r\n",
       "var name = \"X\";\r\n",
       "var withLabel = true;\r\n",
       "var position = \"rt\";\r\n",
       "var offset = [-300, -40];\r\n",
       "var _name = \"Y\";\r\n",
       "var _withLabel = true;\r\n",
       "var _position = \"rt\";\r\n",
       "var rotate = 90;\r\n",
       "var _offset = [-40, -300];\r\n",
       "var b = JXG.JSXGraph.initBoard(\"f8c78fab-7ad9-4260-9a36-bfd50da473ae\", {axis: true, boundingbox: boundingbox, defaultAxes: {x: {label: {anchorX: \"middle\", offset: offset, position: position}, name: name, withLabel: withLabel}, y: {label: {anchorX: \"middle\", offset: _offset, position: _position, rotate: rotate}, name: _name, withLabel: _withLabel}}, keepAspectRatio: keepAspectRatio, showCopyright: showCopyright, showNavigation: showNavigation});\r\n",
       "var Y = b.create('slider', [[(0.750000 * 50.000000), ((0.750000 * 50.000000) - ((1.000000 - 1.000000) * ((50.000000 - 0.000000) / 10.000000)))], [(0.750000 * 50.000000) + 2.000000, ((0.750000 * 50.000000) - ((1.000000 - 1.000000) * ((50.000000 - 0.000000) / 10.000000)))], [400.000000, 1.000000, 1500.000000]], {name: \"Y\"});\r\n",
       "var strokeColor = \"blue\";\r\n",
       "var strokeWidth = 1;\r\n",
       "var __withLabel = true;\r\n",
       "var fg0 = b.create('functiongraph', [(function(q_1)\r\n",
       "{\r\n",
       "    return (-0.066667 * ((35.000000 * q_1) - (1.000000 * Y.Value())));\r\n",
       "}), 0.000000, 50.000000], {name: \"Y\", strokeColor: strokeColor, strokeWidth: strokeWidth, withLabel: __withLabel});\r\n",
       "var _strokeColor = \"red\";\r\n",
       "var _strokeWidth = 1;\r\n",
       "var ___withLabel = true;\r\n",
       "var fg1 = b.create('functiongraph', [(function(q_1)\r\n",
       "{\r\n",
       "    return (49.000000 / q_1);\r\n",
       "}), 0.000000, 50.000000], {name: \"$U(q_1, q_2) = 7.0$\", strokeColor: _strokeColor, strokeWidth: _strokeWidth, withLabel: ___withLabel});\r\n",
       "var __strokeColor = \"red\";\r\n",
       "var __strokeWidth = 1;\r\n",
       "var ____withLabel = true;\r\n",
       "var fg2 = b.create('functiongraph', [(function(q_1)\r\n",
       "{\r\n",
       "    return (324.000000 / q_1);\r\n",
       "}), 0.000000, 50.000000], {name: \"$U(q_1, q_2) = 18.0$\", strokeColor: __strokeColor, strokeWidth: __strokeWidth, withLabel: ____withLabel});\r\n",
       "var ___strokeColor = \"red\";\r\n",
       "var ___strokeWidth = 1;\r\n",
       "var _____withLabel = true;\r\n",
       "var fg3 = b.create('functiongraph', [(function(q_1)\r\n",
       "{\r\n",
       "    return (225.000000 / q_1);\r\n",
       "}), 0.000000, 50.000000], {name: \"$U(q_1, q_2) = 15.0$\", strokeColor: ___strokeColor, strokeWidth: ___strokeWidth, withLabel: _____withLabel});\r\n",
       "var ____strokeColor = \"red\";\r\n",
       "var ____strokeWidth = 1;\r\n",
       "var ______withLabel = true;\r\n",
       "var fg4 = b.create('functiongraph', [(function(q_1)\r\n",
       "{\r\n",
       "    return (676.000000 / q_1);\r\n",
       "}), 0.000000, 50.000000], {name: \"$U(q_1, q_2) = 26.0$\", strokeColor: ____strokeColor, strokeWidth: ____strokeWidth, withLabel: ______withLabel});\r\n",
       "var t = b.create('text', [((50.000000 - 0.000000) * 0.500000), (50.000000 - ((50.000000 - 0.000000) / 10.000000)), \"Consumer Preference Indifference Curves for $$q_1^{\\\\frac{1}{2}}q_2^\\\\frac{1}{2}$$\"], Board__invisible);\r\n",
       "b});</script>\r\n",
       "</div>\r\n"
      ]
     },
     "execution_count": 61,
     "metadata": {},
     "output_type": "execute_result"
    }
   ],
   "source": [
    "let diagram = {|\n",
    "    View=ConsumerPreferenceView.IndifferenceCurves \n",
    "    Y=(400.,1500.)\n",
    "    p1=35.;p2=15.\n",
    "    U = [7.; 18.; 15.; 26.] \n",
    "    xrange=(0.,50.);yrange=(0.,50.)\n",
    "    strokeColor=red\n",
    "    strokeColor1=blue\n",
    "|} \n",
    "draw diagram x"
   ]
  },
  {
   "cell_type": "markdown",
   "id": "065a01a0",
   "metadata": {
    "slideshow": {
     "slide_type": "slide"
    }
   },
   "source": [
    "# Summary\n",
    "* Sylvester is an F# EDSL for symbolic, logical, and visual mathematical computing\n",
    "* We can use Sylvester to represent and work with different mathematical objects and economics concepts\n",
    "* We can create economic models, find solutions to equations and constraints, draw diagrams, and automate a lot of paperwork when studying economics topics"
   ]
  },
  {
   "cell_type": "markdown",
   "id": "24e728fa",
   "metadata": {
    "slideshow": {
     "slide_type": "slide"
    }
   },
   "source": [
    "# More Information\n",
    "* https://github.com/allisterb/Sylvester\n",
    "\n",
    "* https://github.com/allisterb/GambitSharp\n",
    "\n",
    "* @allisterbeharry\n",
    "\n",
    "# Credits\n",
    "* Game theory graphics from Evolutionary Games Infographic Project http://egip.christopherxjjensen.com/\n",
    "* Some slide graphics from FreePik https://www.freepik.com\n",
    "* Some economics graphs and examples from *Microeconomics Theory and Applications with Calculus* by Jeffrey Perloff"
   ]
  }
 ],
 "metadata": {
  "celltoolbar": "Slideshow",
  "kernelspec": {
   "display_name": ".NET (F#)",
   "language": "F#",
   "name": ".net-fsharp"
  },
  "language_info": {
   "file_extension": ".fs",
   "mimetype": "text/x-fsharp",
   "name": "F#",
   "pygments_lexer": "fsharp",
   "version": "8.0"
  },
  "rise": {
   "overlay": "<div class='myheader'><img src='https://functionalconf.com/wp-content/uploads/2024/09/Functional-Conf-Horizontal-Logo-170px.png' style='width:170px;height:100px'/>A Functional EDSL for Economics Concepts and Models</center></div>",
   "theme": "simple"
  }
 },
 "nbformat": 4,
 "nbformat_minor": 5
}
