{
 "cells": [
  {
   "cell_type": "code",
   "execution_count": 1,
   "id": "b605477f",
   "metadata": {
    "slideshow": {
     "slide_type": "skip"
    },
    "tags": []
   },
   "outputs": [
    {
     "data": {
      "text/html": [
       "\r\n",
       "<div>\r\n",
       "    <div id='dotnet-interactive-this-cell-71840.Microsoft.DotNet.Interactive.Http.HttpPort' style='display: none'>\r\n",
       "        The below script needs to be able to find the current output cell; this is an easy method to get it.\r\n",
       "    </div>\r\n",
       "    <script type='text/javascript'>\r\n",
       "async function probeAddresses(probingAddresses) {\r\n",
       "    function timeout(ms, promise) {\r\n",
       "        return new Promise(function (resolve, reject) {\r\n",
       "            setTimeout(function () {\r\n",
       "                reject(new Error('timeout'))\r\n",
       "            }, ms)\r\n",
       "            promise.then(resolve, reject)\r\n",
       "        })\r\n",
       "    }\r\n",
       "\r\n",
       "    if (Array.isArray(probingAddresses)) {\r\n",
       "        for (let i = 0; i < probingAddresses.length; i++) {\r\n",
       "\r\n",
       "            let rootUrl = probingAddresses[i];\r\n",
       "\r\n",
       "            if (!rootUrl.endsWith('/')) {\r\n",
       "                rootUrl = `${rootUrl}/`;\r\n",
       "            }\r\n",
       "\r\n",
       "            try {\r\n",
       "                let response = await timeout(1000, fetch(`${rootUrl}discovery`, {\r\n",
       "                    method: 'POST',\r\n",
       "                    cache: 'no-cache',\r\n",
       "                    mode: 'cors',\r\n",
       "                    timeout: 1000,\r\n",
       "                    headers: {\r\n",
       "                        'Content-Type': 'text/plain'\r\n",
       "                    },\r\n",
       "                    body: probingAddresses[i]\r\n",
       "                }));\r\n",
       "\r\n",
       "                if (response.status == 200) {\r\n",
       "                    return rootUrl;\r\n",
       "                }\r\n",
       "            }\r\n",
       "            catch (e) { }\r\n",
       "        }\r\n",
       "    }\r\n",
       "}\r\n",
       "\r\n",
       "function loadDotnetInteractiveApi() {\r\n",
       "    probeAddresses([\"http://192.168.56.1:1000/\", \"http://192.168.169.1:1000/\", \"http://192.168.128.1:1000/\", \"http://192.168.8.190:1000/\", \"http://127.0.0.1:1000/\"])\r\n",
       "        .then((root) => {\r\n",
       "        // use probing to find host url and api resources\r\n",
       "        // load interactive helpers and language services\r\n",
       "        let dotnetInteractiveRequire = require.config({\r\n",
       "        context: '71840.Microsoft.DotNet.Interactive.Http.HttpPort',\r\n",
       "                paths:\r\n",
       "            {\r\n",
       "                'dotnet-interactive': `${root}resources`\r\n",
       "                }\r\n",
       "        }) || require;\r\n",
       "\r\n",
       "            window.dotnetInteractiveRequire = dotnetInteractiveRequire;\r\n",
       "\r\n",
       "            window.configureRequireFromExtension = function(extensionName, extensionCacheBuster) {\r\n",
       "                let paths = {};\r\n",
       "                paths[extensionName] = `${root}extensions/${extensionName}/resources/`;\r\n",
       "                \r\n",
       "                let internalRequire = require.config({\r\n",
       "                    context: extensionCacheBuster,\r\n",
       "                    paths: paths,\r\n",
       "                    urlArgs: `cacheBuster=${extensionCacheBuster}`\r\n",
       "                    }) || require;\r\n",
       "\r\n",
       "                return internalRequire\r\n",
       "            };\r\n",
       "        \r\n",
       "            dotnetInteractiveRequire([\r\n",
       "                    'dotnet-interactive/dotnet-interactive'\r\n",
       "                ],\r\n",
       "                function (dotnet) {\r\n",
       "                    dotnet.init(window);\r\n",
       "                },\r\n",
       "                function (error) {\r\n",
       "                    console.log(error);\r\n",
       "                }\r\n",
       "            );\r\n",
       "        })\r\n",
       "        .catch(error => {console.log(error);});\r\n",
       "    }\r\n",
       "\r\n",
       "// ensure `require` is available globally\r\n",
       "if ((typeof(require) !==  typeof(Function)) || (typeof(require.config) !== typeof(Function))) {\r\n",
       "    let require_script = document.createElement('script');\r\n",
       "    require_script.setAttribute('src', 'https://cdnjs.cloudflare.com/ajax/libs/require.js/2.3.6/require.min.js');\r\n",
       "    require_script.setAttribute('type', 'text/javascript');\r\n",
       "    \r\n",
       "    \r\n",
       "    require_script.onload = function() {\r\n",
       "        loadDotnetInteractiveApi();\r\n",
       "    };\r\n",
       "\r\n",
       "    document.getElementsByTagName('head')[0].appendChild(require_script);\r\n",
       "}\r\n",
       "else {\r\n",
       "    loadDotnetInteractiveApi();\r\n",
       "}\r\n",
       "\r\n",
       "    </script>\r\n",
       "</div>"
      ]
     },
     "metadata": {},
     "output_type": "display_data"
    }
   ],
   "source": [
    "#load \"Include.fsx\""
   ]
  },
  {
   "cell_type": "code",
   "execution_count": 2,
   "id": "b9945bd3",
   "metadata": {
    "slideshow": {
     "slide_type": "skip"
    },
    "tags": []
   },
   "outputs": [],
   "source": [
    "open Sylvester\n",
    "open Microsoft.DotNet.Interactive.Formatting\n",
    "do Formatter.Register<IHtmlDisplay>((fun (hd:Sylvester.IHtmlDisplay) -> hd.Html()),  \"text/html\")\n",
    "do Formatter.Register<Sylvester.Html>((fun (h) -> h.ToString()),  \"text/html\")\n",
    "do Formatter.Register<Sylvester.ScalarVarMap<real> list>((fun (l:  Sylvester.ScalarVarMap<real> list) -> \"$$\" + (l |> List.map(fun m -> sprintf (\"%s = %s\") (latexe m.Lhs.Expr) (latexe m.Rhs.Expr)) |> List.reduce (fun x y -> x + \", \" + y)) + \"$$\"), \"text/html\")\n",
    "do Formatter.Register<FSharp.Quotations.Expr<FunScript.Bindings.JSXGraph.Board>>((fun (b:FSharp.Quotations.Expr<FunScript.Bindings.JSXGraph.Board>) -> (draw_board b).ToString()), \"text/html\")\n",
    "do Formatter.Register<SharpGambit.NormalFormGame>((fun (g:SharpGambit.NormalFormGame) -> g.Html),  \"text/html\")\n",
    "do Formatter.Register<SharpGambit.PureStrategySolution>((fun (g:SharpGambit.PureStrategySolution) -> g.Html),  \"text/html\")\n",
    "\n",
    "do SharpGambit.Game.HtmlLatexMode <- false"
   ]
  },
  {
   "cell_type": "code",
   "execution_count": 3,
   "id": "653cc784",
   "metadata": {
    "slideshow": {
     "slide_type": "slide"
    }
   },
   "outputs": [
    {
     "data": {
      "text/html": [
       "<script type=\"text/javascript\">\n",
       "if (typeof window.createDotnetInteractiveClient === typeof Function) {\n",
       "    window.createDotnetInteractiveClient('http://192.168.56.1:1000/').then(async function (interactive) {\n",
       "        const console = interactive.getConsole('25be0f67e9644fd39e77720a36501a1d');\n",
       "        const notebookScope = getDotnetInteractiveScope('http://192.168.56.1:1000/');\n",
       "        try {\n",
       "\n",
       "await Object.getPrototypeOf(async function() {}).constructor(\n",
       "    \"interactive\",\n",
       "    \"console\",\n",
       "    \"notebookScope\",\n",
       "    \"Reveal.addEventListener(\\u0027slidechanged\\u0027, (event) =\\u003e {\\n  // event.previousSlide, event.currentSlide, event.indexh, event.indexv\\n  if (event.indexh == 1)\\n  {\\n      document.getElementsByClassName(\\\"myheader\\\")[0].style.visibility = \\\"hidden\\\"; \\n  }\\n  else\\n  {\\n      document.getElementsByClassName(\\\"myheader\\\")[0].style.visibility = \\\"visible\\\";\\n  }\\n});\"\n",
       ")(\n",
       "    interactive,\n",
       "    console,\n",
       "    notebookScope\n",
       ");\n",
       "\n",
       "        } catch (err) {\n",
       "            interactive.failCommand(err, '25be0f67e9644fd39e77720a36501a1d');\n",
       "        } finally {\n",
       "            await interactive.waitForAllEventsToPublish('25be0f67e9644fd39e77720a36501a1d');\n",
       "            await interactive.markExecutionComplete('25be0f67e9644fd39e77720a36501a1d');\n",
       "        }\n",
       "    });\n",
       "}\n",
       "</script>"
      ]
     },
     "metadata": {},
     "output_type": "display_data"
    }
   ],
   "source": [
    "#!javascript\n",
    "Reveal.addEventListener('slidechanged', (event) => {\n",
    "  // event.previousSlide, event.currentSlide, event.indexh, event.indexv\n",
    "  if (event.indexh == 1)\n",
    "  {\n",
    "      document.getElementsByClassName(\"myheader\")[0].style.visibility = \"hidden\"; \n",
    "  }\n",
    "  else\n",
    "  {\n",
    "      document.getElementsByClassName(\"myheader\")[0].style.visibility = \"visible\";\n",
    "  }\n",
    "});"
   ]
  },
  {
   "cell_type": "markdown",
   "id": "0887c825",
   "metadata": {
    "hide_input": false,
    "slideshow": {
     "slide_type": "slide"
    },
    "tags": []
   },
   "source": [
    "<center>\n",
    "    <h2> A Functional EDSL for Economics Concepts and Models</h2>\n",
    "    <div style=\"margin-top:100px\">\n",
    "        <div style=\"margin: auto;width:1400px\">\n",
    "        <img src=\"fsharplogo3.png\" style=\"width:400px;height:400px;float:left;margin-right:10px\"/>\n",
    "        <img src=\"economics.png\" style=\"width:400px;height:400px;float:left;margin-right:10px\"/>\n",
    "        <img src=\"gt.jpg\" style=\"width:400px;height:400px;float:left;margin-right:10px\"/>\n",
    "        </div>\n",
    "        <br/>\n",
    "        <div style=\"float:none;clear:left\">\n",
    "            <img src=\"Functional-Conf-Horizontal-Logo-170px.png\" style=\"width:300px\" />\n",
    "        </div>\n",
    "    </div>\n",
    "        <h2> Allister Beharry </h2>\n",
    "    <h2> 25th January 2025</h2>\n",
    "</center>\n"
   ]
  },
  {
   "cell_type": "markdown",
   "id": "6deb4c42",
   "metadata": {
    "slideshow": {
     "slide_type": "slide"
    }
   },
   "source": [
    "## Introduction\n",
    "## About F#\n",
    "\n",
    "* Hybrid, functional-first, object-based open-source .NET language from Microsoft\n",
    "* Member of the ML family of functional programming languages, like OCaml\n",
    "* Can run in desktop IDEs, web browsers, Jupyter notebooks (like this one)\n",
    "* Used in many different areas including financial programming, web development,...\n",
    "* Contains features that make it easier to be used interactively and interoperate with dynamic languages\n",
    "* Can interoperate with C/C++ libraries or any library with a C ABI"
   ]
  },
  {
   "cell_type": "markdown",
   "id": "6d7ecaf8",
   "metadata": {
    "slideshow": {
     "slide_type": "slide"
    },
    "tags": []
   },
   "source": [
    "## Introduction\n",
    "## About Sylvester\n"
   ]
  },
  {
   "cell_type": "markdown",
   "id": "d7ea6354",
   "metadata": {
    "slideshow": {
     "slide_type": "fragment"
    }
   },
   "source": [
    "* F# EDSL for mathematical computing and visualization"
   ]
  },
  {
   "cell_type": "markdown",
   "id": "8d834bf8",
   "metadata": {
    "slideshow": {
     "slide_type": "fragment"
    }
   },
   "source": [
    "* Provide a unified notatation for symbolic, logical, visual aspects of mathematics"
   ]
  },
  {
   "cell_type": "markdown",
   "id": "c26099d8",
   "metadata": {
    "slideshow": {
     "slide_type": "fragment"
    }
   },
   "source": [
    "* Provide syntax and types for expressing formulas and properties and operations and theorems and interactive diagrams from different mathematical domains"
   ]
  },
  {
   "cell_type": "markdown",
   "id": "03c8b487",
   "metadata": {
    "slideshow": {
     "slide_type": "fragment"
    }
   },
   "source": [
    "* Provide unified functional language interface to different open-source tools and libraries for mathematical computing - Maxima, Z3, Gambit, JSXGraph.... "
   ]
  },
  {
   "cell_type": "markdown",
   "id": "efd18948",
   "metadata": {
    "slideshow": {
     "slide_type": "slide"
    }
   },
   "source": [
    "# Why Sylvester?\n",
    "<div style=\"float:left\">\n",
    "    <h3> Math education in ancient times </h3>\n",
    "    <img src=\"https://miro.medium.com/v2/resize:fit:1100/format:webp/0*6yXIe83hJbIaf6m4.jpg\"/>\n",
    "    \n",
    "</div>\n",
    "<div style=\"float:right\">\n",
    "     <h3> Math education in the 21st century </h3>\n",
    "    <img src=\"schools.webp\"/>\n",
    "</div>\n",
    "<div style=\"clear:right\">\n",
    "    <br>\n",
    "    <center><h3>Computers and software have not fundamentally altered the core processes of math education. Can we change this?</h3></center>\n",
    "</div>"
   ]
  },
  {
   "cell_type": "code",
   "execution_count": null,
   "id": "d21a9d2e",
   "metadata": {
    "slideshow": {
     "slide_type": "skip"
    }
   },
   "outputs": [],
   "source": [
    "#!html\n",
    "<link href=\"https://cdn.jsdelivr.net/npm/jsxgraph/distrib/jsxgraph.css\" rel=\"stylesheet\" type=\"text/css\" />\n",
    "<script src=\"https://cdn.jsdelivr.net/npm/jsxgraph@1.4.6/distrib/jsxgraphcore.js\" type=\"text/javascript\" charset=\"UTF-8\"></script>"
   ]
  },
  {
   "cell_type": "markdown",
   "id": "807af1ab",
   "metadata": {
    "slideshow": {
     "slide_type": "slide"
    }
   },
   "source": [
    "## Starting up"
   ]
  },
  {
   "cell_type": "code",
   "execution_count": null,
   "id": "august-beverage",
   "metadata": {
    "slideshow": {
     "slide_type": "fragment"
    },
    "tags": []
   },
   "outputs": [],
   "source": [
    "// Open namespaces and modules\n",
    "open Sylvester\n",
    "open RealNumbers"
   ]
  },
  {
   "cell_type": "code",
   "execution_count": null,
   "id": "stupid-mystery",
   "metadata": {
    "slideshow": {
     "slide_type": "fragment"
    },
    "tags": []
   },
   "outputs": [],
   "source": [
    "// Initialize the Maxima CAS\n",
    "do CAS.Maxima.init \"C:\\\\MathTools\\\\maxima-5.44.0\\\\bin\\\\maxima.bat\""
   ]
  },
  {
   "cell_type": "code",
   "execution_count": null,
   "id": "2342c200",
   "metadata": {},
   "outputs": [],
   "source": [
    "let x,y,z = realvar3 \"x\" \"y\" \"z\"\n",
    "\n",
    "solve defaults [x;y;z] [\n",
    "    x - 6 *x + y == 30.\n",
    "    x - y == 5.\n",
    "    z == 5 * y + 2 * x\n",
    "]"
   ]
  },
  {
   "cell_type": "code",
   "execution_count": null,
   "id": "aa2ca956",
   "metadata": {},
   "outputs": [],
   "source": [
    "4 / ((x+2)+(x+6))"
   ]
  },
  {
   "cell_type": "code",
   "execution_count": null,
   "id": "4f8a3052",
   "metadata": {},
   "outputs": [],
   "source": [
    "4 / ((x+2)+(x+6)) |> partfrac_of x"
   ]
  },
  {
   "cell_type": "code",
   "execution_count": null,
   "id": "metallic-prospect",
   "metadata": {
    "slideshow": {
     "slide_type": "slide"
    },
    "tags": []
   },
   "outputs": [],
   "source": [
    "// Define a real variable and mathematical function of a single variable\n",
    "let x = realvar \"x\"\n",
    "let f = realfun \"f\" (x *** 3 + 1)\n",
    "f"
   ]
  },
  {
   "cell_type": "code",
   "execution_count": null,
   "id": "baf37946",
   "metadata": {
    "slideshow": {
     "slide_type": "fragment"
    }
   },
   "outputs": [],
   "source": [
    "// Sylvester functions overload the [] operator for mathematical function evaluation\n",
    "f[5]"
   ]
  },
  {
   "cell_type": "code",
   "execution_count": null,
   "id": "3afb169c",
   "metadata": {
    "slideshow": {
     "slide_type": "fragment"
    }
   },
   "outputs": [],
   "source": [
    "// Sylvester functions are fully symbolic e.g. define a real constant \"a\"\n",
    "let a = realconst \"a\"\n",
    "// This is a symbolic scalar expression\n",
    "f[3] + f[a] "
   ]
  },
  {
   "cell_type": "code",
   "execution_count": null,
   "id": "653129b6",
   "metadata": {},
   "outputs": [],
   "source": []
  },
  {
   "cell_type": "code",
   "execution_count": null,
   "id": "e1902c86",
   "metadata": {
    "slideshow": {
     "slide_type": "fragment"
    }
   },
   "outputs": [],
   "source": [
    "// We can fix constants and variables in symbolic expressions\n",
    "fix {|a=6.|} (f[3] + f[a]) "
   ]
  },
  {
   "cell_type": "code",
   "execution_count": null,
   "id": "1e4f9368",
   "metadata": {
    "slideshow": {
     "slide_type": "fragment"
    }
   },
   "outputs": [],
   "source": [
    "// Simplify \n",
    "ratexpand (f[x] + x * (a + x))"
   ]
  },
  {
   "cell_type": "code",
   "execution_count": null,
   "id": "5ebf71f4",
   "metadata": {
    "slideshow": {
     "slide_type": "slide"
    }
   },
   "outputs": [],
   "source": [
    "// Basic calculus operations are supported\n",
    "diff x f"
   ]
  },
  {
   "cell_type": "code",
   "execution_count": null,
   "id": "fbf2975d",
   "metadata": {},
   "outputs": [],
   "source": [
    "integrate x f"
   ]
  },
  {
   "cell_type": "code",
   "execution_count": null,
   "id": "0aebc4de",
   "metadata": {},
   "outputs": [],
   "source": [
    "inf 4."
   ]
  },
  {
   "cell_type": "code",
   "execution_count": null,
   "id": "33944f25",
   "metadata": {},
   "outputs": [],
   "source": [
    "// We can combine operations on functions in the usual way, e.g. integrate f twice wrt x and find limit as x -> a\n",
    "integrate x f |> integrate x |> lim x a"
   ]
  },
  {
   "cell_type": "code",
   "execution_count": null,
   "id": "a07659d5",
   "metadata": {},
   "outputs": [],
   "source": []
  },
  {
   "cell_type": "markdown",
   "id": "8568374d",
   "metadata": {
    "slideshow": {
     "slide_type": "slide"
    }
   },
   "source": [
    "## Game Theory::Examples\n",
    "### Stag Hunt\n",
    "Two hunters are on a stag hunt where they can't observe what the other is doing. Catching a stag is hard and requires both hunters to cooperate.  Catching a hare is much easier than catching a stag though and doesn't require cooperation but will benefit an individual hunter less than a stag. If one hunter hunts a stag and one a hare, only the hare hunter will benefit.\n",
    "<center>\n",
    "<img src = \"staghunt.jpg\" style=\"width:400px; height:400px\" />\n",
    "</center>"
   ]
  },
  {
   "cell_type": "code",
   "execution_count": null,
   "id": "05dcfa90",
   "metadata": {},
   "outputs": [],
   "source": [
    "#nowarn \"3391\""
   ]
  },
  {
   "cell_type": "code",
   "execution_count": null,
   "id": "alternative-disney",
   "metadata": {
    "tags": []
   },
   "outputs": [],
   "source": [
    "lim x a f"
   ]
  },
  {
   "cell_type": "code",
   "execution_count": null,
   "id": "f42300c1",
   "metadata": {},
   "outputs": [],
   "source": [
    "maximize x [\n",
    "    f[x] == 0.\n",
    "]"
   ]
  },
  {
   "cell_type": "markdown",
   "id": "5ca00a5b",
   "metadata": {
    "slideshow": {
     "slide_type": "slide"
    }
   },
   "source": [
    "### Sylvester :: Trigonometric Functions"
   ]
  },
  {
   "cell_type": "code",
   "execution_count": null,
   "id": "3824c248",
   "metadata": {
    "slideshow": {
     "slide_type": "fragment"
    }
   },
   "outputs": [],
   "source": [
    "// Define a trigonometric function\n",
    "let g = realfun \"g\" (sin (2*x) + (cos x) *** 2)\n",
    "g"
   ]
  },
  {
   "cell_type": "code",
   "execution_count": null,
   "id": "5b267a87",
   "metadata": {
    "slideshow": {
     "slide_type": "fragment"
    }
   },
   "outputs": [],
   "source": [
    "let h = diff x g\n",
    "h"
   ]
  },
  {
   "cell_type": "code",
   "execution_count": null,
   "id": "6a8082e4",
   "metadata": {
    "slideshow": {
     "slide_type": "fragment"
    }
   },
   "outputs": [],
   "source": [
    "trigreduce h"
   ]
  },
  {
   "cell_type": "code",
   "execution_count": null,
   "id": "generous-macedonia",
   "metadata": {
    "slideshow": {
     "slide_type": "slide"
    },
    "tags": []
   },
   "outputs": [],
   "source": [
    "\n",
    "draw defaults f"
   ]
  },
  {
   "cell_type": "code",
   "execution_count": null,
   "id": "presidential-german",
   "metadata": {
    "slideshow": {
     "slide_type": "slide"
    }
   },
   "outputs": [],
   "source": []
  },
  {
   "cell_type": "code",
   "execution_count": 4,
   "id": "184ba578",
   "metadata": {
    "slideshow": {
     "slide_type": "slide"
    }
   },
   "outputs": [
    {
     "data": {
      "text/html": [
       "<div class=\"nfg_2p\">\r\n",
       "<div class=\"title\" style=\"text-align:center\">Prisoner's Dilemna</div>\r\n",
       "<div style=\"float:left;margin-top:35pt;margin-right:15pt\"><b>Player 1</b></div>\r\n",
       "<div style=\"margin-left:75pt\"><b>Player 2</b></div>\r\n",
       "<table style=\"border: 1px solid black; border-collapse: collapse;\">\r\n",
       "<tbody>\r\n",
       "<tr>\r\n",
       "<td></td>\r\n",
       "<td><tt>Quiet</tt></td>\r\n",
       "<td><tt>Fink</tt></td>\r\n",
       "</tr>\r\n",
       "<tr>\r\n",
       "<td><tt>Quiet</tt></td>\r\n",
       "<td align=\"center\">(3,3)</td><td align=\"center\">(4,0)</td></tr>\r\n",
       "<tr>\r\n",
       "<td><tt>Fink</tt></td>\r\n",
       "<td align=\"center\">(0,4)</td><td align=\"center\">(2,2)</td></tr>\r\n",
       "</tbody>\r\n",
       "</table>\r\n",
       "</div>\r\n"
      ]
     },
     "execution_count": 4,
     "metadata": {},
     "output_type": "execute_result"
    }
   ],
   "source": [
    "// Open SharpGambit modules\n",
    "open SharpGambit\n",
    "\n",
    "// Declare a two-player normal form game\n",
    "let g = nfg_2p \"Prisoner's Dilemna\" [\"Quiet\"; \"Fink\"] [\"Quiet\"; \"Fink\"] [\n",
    "            (3,3); (4,0)\n",
    "            (0,4); (2,2)\n",
    "    ]\n",
    "g"
   ]
  },
  {
   "cell_type": "markdown",
   "id": "bfe7e8f8",
   "metadata": {
    "slideshow": {
     "slide_type": "slide"
    }
   },
   "source": [
    "<div style=\"margin-top:100px\">\n",
    "    <h1>Game Theory</h1>\n",
    "</div>\n",
    "<center>\n",
    "<img src = \"gt2.jpg\" style=\"width:600px; height:600px\" />\n",
    "</center>"
   ]
  },
  {
   "cell_type": "markdown",
   "id": "ebf813a8",
   "metadata": {
    "slideshow": {
     "slide_type": "slide"
    }
   },
   "source": [
    "# Game Theory\n",
    "## Overview\n",
    "* Game theory models and analyzes how *rational* decision makers interact\n",
    "* Game theory as an independent field started in 1940's by John von Neumann and Oscar Morgensten\n",
    "* Game theory is used extensively in natural and social sciences, business, politics, defense, diplomacy, plannning and analyzing situations where intelligent agents interact and compete \n",
    "\n"
   ]
  },
  {
   "cell_type": "markdown",
   "id": "0c134975",
   "metadata": {
    "slideshow": {
     "slide_type": "slide"
    }
   },
   "source": [
    "# Game Theory::Examples\n",
    "## Stag Hunt\n",
    "Two hunters are on a stag hunt where they can't observe what the other is doing. Catching a stag is hard and requires both hunters to cooperate.  Catching a hare is much easier than catching a stag though and doesn't require cooperation but will benefit an individual hunter less than a stag. If one hunter hunts a stag and one a hare, only the hare hunter will benefit.\n",
    "<center>\n",
    "<img src = \"staghunt.jpg\" style=\"width:400px; height:400px\" />\n",
    "</center>"
   ]
  },
  {
   "cell_type": "markdown",
   "id": "5fef9995",
   "metadata": {
    "slideshow": {
     "slide_type": "slide"
    }
   },
   "source": [
    "# Game Theory\n",
    "## Basic Elements of a Game\n",
    "* Players: represents decision-makers who must choose from a set of *actions*\n",
    "* Actions or Strategies: Usually a simple label representing a player choice like \"Cooperate\" or \"Defect\"\n",
    "* Action or Strategy Profiles: A set of individual strategies chosen by each player representing a possible outcome of the game e.g. `{Defect, Defect}` is the outcome where both hunters choose not to cooperate\n",
    "* Preferences: Each player has a preference for the different outcomes\n",
    "* Payoffs: a function that assigns to each strategy profile a number where higher numbers are preferred by the player e.g (2,2"
   ]
  },
  {
   "cell_type": "markdown",
   "id": "6b5d8d91",
   "metadata": {
    "slideshow": {
     "slide_type": "slide"
    }
   },
   "source": [
    "# Game Theory\n",
    "## Representing a Game\n",
    "\n",
    "* Strategic Games - assumbe players act simultaneously\n",
    "* Normal-form game - represent a game using a matrix"
   ]
  },
  {
   "cell_type": "markdown",
   "id": "f0684110",
   "metadata": {
    "slideshow": {
     "slide_type": "slide"
    }
   },
   "source": [
    "### Game Theory::Game Theory in F#"
   ]
  },
  {
   "cell_type": "code",
   "execution_count": 6,
   "id": "efa41365",
   "metadata": {
    "slideshow": {
     "slide_type": "fragment"
    }
   },
   "outputs": [
    {
     "data": {
      "text/html": [
       "<div class=\"nfg_2p\">\r\n",
       "<div class=\"title\" style=\"text-align:center\">Stag Hunt</div>\r\n",
       "<div style=\"float:left;margin-top:35pt;margin-right:15pt\"><b>Player 1</b></div>\r\n",
       "<div style=\"margin-left:75pt\"><b>Player 2</b></div>\r\n",
       "<table style=\"border: 1px solid black; border-collapse: collapse;\">\r\n",
       "<tbody>\r\n",
       "<tr>\r\n",
       "<td></td>\r\n",
       "<td><tt>Cooperate</tt></td>\r\n",
       "<td><tt>Defect</tt></td>\r\n",
       "</tr>\r\n",
       "<tr>\r\n",
       "<td><tt>Cooperate</tt></td>\r\n",
       "<td align=\"center\">(4,4)</td><td align=\"center\">(0,2)</td></tr>\r\n",
       "<tr>\r\n",
       "<td><tt>Defect</tt></td>\r\n",
       "<td align=\"center\">(2,0)</td><td align=\"center\">(2,2)</td></tr>\r\n",
       "</tbody>\r\n",
       "</table>\r\n",
       "</div>\r\n"
      ]
     },
     "execution_count": 6,
     "metadata": {},
     "output_type": "execute_result"
    }
   ],
   "source": [
    "// Open SharpGambit modules\n",
    "open SharpGambit\n",
    "\n",
    "// Declare a two-player normal form game\n",
    "let g = nfg_2p \"Stag Hunt\" [\"Cooperate\"; \"Defect\"] [\"Cooperate\"; \"Defect\"] [\n",
    "            (4,4); (0,2)\n",
    "            (2,0); (2,2)\n",
    "    ]\n",
    "g"
   ]
  },
  {
   "cell_type": "code",
   "execution_count": 7,
   "id": "fa3753c0",
   "metadata": {},
   "outputs": [
    {
     "data": {
      "text/html": [
       "<div class=\"nfg_2p\">\r\n",
       "<div class=\"title\" style=\"text-align:center\">Stag Hunt solutions</div>\r\n",
       "<div style=\"float:left;margin-top:35pt;margin-right:15pt\"><b>Player 1</b></div>\r\n",
       "<div style=\"margin-left:75pt\"><b>Player 2</b></div>\r\n",
       "<table>\r\n",
       "<tbody>\r\n",
       "<tr >\r\n",
       "<td style =\"border: 1px solid black; border-collapse: collapse;\"></td>\r\n",
       "<td style =\"border: 1px solid black; border-collapse: collapse;\"><tt>Cooperate</tt></td>\r\n",
       "<td style =\"border: 1px solid black; border-collapse: collapse;\"><tt>Defect</tt></td>\r\n",
       "</tr>\r\n",
       "<tr>\r\n",
       "<td style =\"border: 1px solid black; border-collapse: collapse;\"><tt>Cooperate</tt></td>\r\n",
       "<td  align=\"center\" style =\"border: 1px solid black; border-collapse: collapse;background-color:blue;foreground-color:white\">(4,4)</td><td style =\"border: 1px solid black; border-collapse: collapse;\" align=\"center\">(0,2)</td></tr>\r\n",
       "<tr>\r\n",
       "<td style =\"border: 1px solid black; border-collapse: collapse;\"><tt>Defect</tt></td>\r\n",
       "<td style =\"border: 1px solid black; border-collapse: collapse;\" align=\"center\">(2,0)</td><td  align=\"center\" style =\"border: 1px solid black; border-collapse: collapse;background-color:blue;foreground-color:white\">(2,2)</td></tr>\r\n",
       "</tbody>\r\n",
       "</table>\r\n",
       "</div>\r\n"
      ]
     },
     "execution_count": 7,
     "metadata": {},
     "output_type": "execute_result"
    }
   ],
   "source": [
    "solve_enum_pure g"
   ]
  },
  {
   "cell_type": "code",
   "execution_count": null,
   "id": "6cbeaf6e",
   "metadata": {},
   "outputs": [],
   "source": [
    "open System.Collections.Generic\n",
    "open System.Linq\n",
    "\n",
    "open FSharp.Quotations\n",
    "open FSharp.Quotations.DerivedPatterns\n",
    "\n",
    "open MathNet.Numerics\n",
    "\n",
    "open FunScript\n",
    "open FunScript.Bindings.JSXGraph\n",
    "\n",
    "open Economics\n",
    "type ConsumerPreference2() =\n",
    "    inherit EconomicModel()\n",
    "    do\n",
    "        //base.CreateVar(\"Y\")\n",
    "        base.CreateVars((\"Y\", \"Y\"), (\"q1\", \"q_1\"), (\"q2\", \"q_2\"), (\"p1\", \"p_1\"), (\"p2\", \"p_2)\"))\n",
    "        base.CreateUtilFun2(\"U\", \"q1\", \"q2\")\n",
    "\n",
    "    member x.q1\n",
    "        with get() = x.GetVar \"q1\" and set(value) = x.SetVar (\"q1\", value)\n",
    "    member x.q2\n",
    "        with get() = x.GetVar \"q2\" and set(value) = x.SetVar (\"q2\", value)\n",
    "    member x.p1\n",
    "        with get() = x.GetVar \"p1\"\n",
    "        and set(value) = x.SetVar (\"p1\", value)\n",
    "    member x.p2\n",
    "        with get() = x.GetVar \"p2\"\n",
    "        and set(value) = x.SetVar (\"p2\", value)\n",
    "    member x.Y\n",
    "        with get() = x.GetVar \"Y\"\n",
    "        and set(value) = x.SetVar (\"Y\", value)\n",
    "    member x.U\n",
    "        with get() = x.GetFun2<UtilityFunction2> \"U\" \n",
    "        and set(value:UtilityFunction2) = x.SetFun2(\"U\", value)\n",
    "    member x.BudgetConstraint = x.Y == x.p1 * x.q1 + x.p2 * x.q2\n",
    "    member x.UtilityMaximization = mrs x.U == x.p1 / x.p2\n",
    "    override x.Constraints = [x.BudgetConstraint; x.UtilityMaximization]\n",
    "    \n",
    "    member x.DemandFunctions =\n",
    "        let q = solve {|posvars=true|} [x.q1;x.q2] x.Equations\n",
    "        do if q.Length <> 2 then failwithf \"Could not solve constraints for %A and %A.\" x.q1 x.q2\n",
    "        [demandfun \"q1\" (fixvar [x.p2; x.Y] (rhs q.[0])); demandfun \"q2\" (fixvar [x.p1; x.Y] (rhs q.[1]))]\n",
    "\n",
    "    interface IWebVisualization with\n",
    "        member x.Draw(attrs:_) = \n",
    "             let view = if has_prop<ConsumerPreferenceView> \"View\" attrs then get_prop<ConsumerPreferenceView> \"View\" attrs else failwith \"A view must be specified for this consumer preference diagram\"\n",
    "             match view with\n",
    "             | UtililtyMaximization ->\n",
    "                let uvals = if has_prop<real list> \"U\" attrs then get_prop<real list> \"U\" attrs else failwith \"You must specify some utility values to plot indifference curves.\" \n",
    "                let fs = uvals |> Seq.map(fun v -> utilfun_im x.q2.Name x.q2 (x.U == v) :> IRealFunction<RealFunction>)\n",
    "                //let Y = get_prop_else<real*real> \"Y\" (0.,10.) attrs \n",
    "                //let p1 = get_prop_else<real*real> \"p1\" (0.,10.) attrs\n",
    "                //let p2 = get_prop_else<real*real> \"p2\" (0.,10.) attrs\n",
    "                let dict = to_dict attrs\n",
    "                dict[\"title\"] <- sprintf \"Consumer Preference isoquants for %s\" (\"$$\" + latex x.U + \"$$\")\n",
    "                WebVisualization.draw_realfuns_dict dict (fs |> Seq.map(fun x->x.Html()) |> Seq.toArray) (fs |> Seq.map(fun x ->x.Term.MapExpr) |> Seq.toArray) |> draw_board    \n",
    "            \n",
    "//and ConsumerPreferenceView =\n",
    "//| UtililtyMaximization\n",
    "            \n",
    "let get_prop_or_fail<'t> (p:string) (f:string) (attrs:'a) =\n",
    "   if has_prop<'t> p attrs then get_prop<'t> p attrs else failwith f\n",
    "   \n",
    "let drawx (attrs:'a) (x:ConsumerPreference2) =\n",
    "     let view = if has_prop<ConsumerPreferenceView> \"View\" attrs then get_prop<ConsumerPreferenceView> \"View\" attrs else failwith \"A view must be specified for this consumer preference diagram\"\n",
    "            \n",
    "     match view with\n",
    "     | UtililtyMaximization ->\n",
    "            let uvals = if has_prop<real list> \"U\" attrs then get_prop<real list> \"U\" attrs else failwith \"You must specify some utility values to plot indifference curves.\" \n",
    "            let fs = uvals |> Seq.map(fun v -> utilfun_im \"U\" x.q2 (x.U == v) :> IRealFunction<RealFunction>)\n",
    "            let Y = get_prop_or_fail<real*real> \"Y\" \"You must specify a range for Y.\" attrs \n",
    "            //let p1 = get_prop_else<real*real> \"p1\" (0.,10.) attrs\n",
    "            //let p2 = get_prop_else<real*real> \"p2\" (0.,10.) attrs\n",
    "            let dict = to_dict attrs\n",
    "            dict[\"title\"] <- sprintf \"Consumer Preference Isoquants for %s\" (\"$$\" + latex x.U + \"$$\")\n",
    "            let names = uvals |> List.map(fun v -> (sprintf \"$$%s(%s, %s) = %A$$\" x.U.Symbol.Value x.q1.Name x.q2.Name v)) |> List.toArray\n",
    "            WebVisualization.draw_realfuns_dict dict names (fs |> Seq.map(fun x ->x.Term.MapExpr) |> Seq.toArray) |> draw_board\n",
    "    \n",
    "let m = econ_model<ConsumerPreference2>\n",
    "(m.BudgetConstraint.Fix({|Y=4.|}))\n",
    "let y = realfun_im \"Y\" m.p2 ((m.BudgetConstraint.Fix({|Y=4.|})))\n",
    "y\n",
    "//m.U <- utilfun2 \"U\" ((m.q1 * m.q2) *** 0.5)\n",
    "//drawx {|View=ConsumerPreferenceView.UtililtyMaximization; U = [7.; 18.; 15.; 26.]; xrange=(0.,10.);yrange=(0.,100.)|} m"
   ]
  },
  {
   "cell_type": "code",
   "execution_count": null,
   "id": "8260d5f4",
   "metadata": {},
   "outputs": [],
   "source": [
    "Sylvester.Util.Html"
   ]
  },
  {
   "cell_type": "code",
   "execution_count": null,
   "id": "45daa658",
   "metadata": {},
   "outputs": [],
   "source": []
  },
  {
   "cell_type": "code",
   "execution_count": null,
   "id": "fd41ded0",
   "metadata": {},
   "outputs": [],
   "source": []
  }
 ],
 "metadata": {
  "celltoolbar": "Slideshow",
  "kernelspec": {
   "display_name": ".NET (F#)",
   "language": "F#",
   "name": ".net-fsharp"
  },
  "language_info": {
   "file_extension": ".fs",
   "mimetype": "text/x-fsharp",
   "name": "F#",
   "pygments_lexer": "fsharp",
   "version": "8.0"
  },
  "rise": {
   "overlay": "<div class='myheader'><img src='https://functionalconf.com/wp-content/uploads/2024/09/Functional-Conf-Horizontal-Logo-170px.png' style='width:170px;height:100px'/>A Functional EDSL for Economics Concepts and Models</center></div>",
   "theme": "simple"
  }
 },
 "nbformat": 4,
 "nbformat_minor": 5
}
