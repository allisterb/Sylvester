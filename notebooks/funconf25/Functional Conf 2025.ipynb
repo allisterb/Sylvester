{
 "cells": [
  {
   "cell_type": "code",
   "execution_count": null,
   "id": "d3201b84",
   "metadata": {
    "slideshow": {
     "slide_type": "skip"
    }
   },
   "outputs": [
    {
     "data": {
      "text/html": [
       "<script type=\"text/javascript\">\n",
       "if (typeof window.createDotnetInteractiveClient === typeof Function) {\n",
       "    window.createDotnetInteractiveClient('http://192.168.56.1:1000/').then(async function (interactive) {\n",
       "        const console = interactive.getConsole('31c08ffb9c124b33978a87e0361a0001');\n",
       "        const notebookScope = getDotnetInteractiveScope('http://192.168.56.1:1000/');\n",
       "        try {\n",
       "\n",
       "await Object.getPrototypeOf(async function() {}).constructor(\n",
       "    \"interactive\",\n",
       "    \"console\",\n",
       "    \"notebookScope\",\n",
       "    \"alert(\\u0027foo\\u0027);\"\n",
       ")(\n",
       "    interactive,\n",
       "    console,\n",
       "    notebookScope\n",
       ");\n",
       "\n",
       "        } catch (err) {\n",
       "            interactive.failCommand(err, '31c08ffb9c124b33978a87e0361a0001');\n",
       "        } finally {\n",
       "            await interactive.waitForAllEventsToPublish('31c08ffb9c124b33978a87e0361a0001');\n",
       "            await interactive.markExecutionComplete('31c08ffb9c124b33978a87e0361a0001');\n",
       "        }\n",
       "    });\n",
       "}\n",
       "</script>"
      ]
     },
     "metadata": {},
     "output_type": "display_data"
    }
   ],
   "source": []
  },
  {
   "cell_type": "markdown",
   "id": "65295bb7",
   "metadata": {
    "slideshow": {
     "slide_type": "slide"
    },
    "tags": []
   },
   "source": [
    "<style>\n",
    "div.myheader {\n",
    "    visibility:hidden\n",
    "}\n",
    "</style>\n",
    "<center>\n",
    "    <h2> A Functional EDSL for Economics Concepts and Models</h2>\n",
    "    <div style=\"margin-top:100px\">\n",
    "        <div style=\"margin: auto;width:1400px\">\n",
    "        <img src=\"fsharplogo3.png\" style=\"width:400px;height:400px;float:left;margin-right:10px\"/>\n",
    "        <img src=\"economics.png\" style=\"width:400px;height:400px;float:left;margin-right:10px\"/>\n",
    "        <img src=\"gt.jpg\" style=\"width:400px;height:400px;float:left;margin-right:10px\"/>\n",
    "        </div>\n",
    "        <br/>\n",
    "        <div style=\"float:none;clear:left\">\n",
    "            <img src=\"Functional-Conf-Horizontal-Logo-170px.png\" style=\"width:300px\" />\n",
    "        </div>\n",
    "    </div>\n",
    "        <h2> Allister Beharry </h2>\n",
    "    <h2> 25th January 2025</h2>\n",
    "</center>\n"
   ]
  },
  {
   "cell_type": "markdown",
   "id": "b0fbac3b",
   "metadata": {
    "slideshow": {
     "slide_type": "slide"
    }
   },
   "source": [
    "<div style=\"margin-top:50px\">\n",
    "    <h1>Introduction</h1>\n",
    "</div>\n",
    "<center>\n",
    "<img src = \"econ2.jpg\" style=\"width:1000px; height:600px\" />\n",
    "</center>"
   ]
  },
  {
   "cell_type": "markdown",
   "id": "e9e013a9",
   "metadata": {
    "slideshow": {
     "slide_type": "slide"
    }
   },
   "source": [
    "# Introduction\n",
    "## About Me\n",
    "* .NET programmer for ~ 25 years, F# programmer for ~ 6 years\n",
    "* Currently student at University of London\n",
    "* Interested in open source mathematical computing software and languages"
   ]
  },
  {
   "cell_type": "markdown",
   "id": "6deb4c42",
   "metadata": {
    "slideshow": {
     "slide_type": "slide"
    }
   },
   "source": [
    "## Introduction\n",
    "## About F#\n",
    "\n",
    "* Hybrid, functional-first, object-based open-source .NET language from Microsoft\n",
    "* Member of the ML family of functional programming languages, like OCaml\n",
    "* Can run in desktop IDEs, web browsers, Jupyter notebooks (like this one)\n",
    "* Used in many different areas including financial programming, web development,...\n",
    "* Contains features that make it easier to be used interactively and interoperate with dynamic languages\n",
    "* Can interoperate with C/C++ libraries or any library with a C ABI"
   ]
  },
  {
   "cell_type": "markdown",
   "id": "6d7ecaf8",
   "metadata": {
    "slideshow": {
     "slide_type": "slide"
    },
    "tags": []
   },
   "source": [
    "## Introduction\n",
    "## About Sylvester\n"
   ]
  },
  {
   "cell_type": "markdown",
   "id": "d7ea6354",
   "metadata": {
    "slideshow": {
     "slide_type": "fragment"
    }
   },
   "source": [
    "* F# EDSL for mathematical computing and visualization"
   ]
  },
  {
   "cell_type": "markdown",
   "id": "8d834bf8",
   "metadata": {
    "slideshow": {
     "slide_type": "fragment"
    }
   },
   "source": [
    "* Provide a unified notatation for symbolic, logical, visual aspects of mathematics"
   ]
  },
  {
   "cell_type": "markdown",
   "id": "c26099d8",
   "metadata": {
    "slideshow": {
     "slide_type": "fragment"
    }
   },
   "source": [
    "* Provide syntax and types for expressing formulas and properties and operations and theorems and interactive diagrams from different mathematical domains"
   ]
  },
  {
   "cell_type": "markdown",
   "id": "03c8b487",
   "metadata": {
    "slideshow": {
     "slide_type": "fragment"
    }
   },
   "source": [
    "* Provide unified functional language interface to different open-source tools and libraries for mathematical computing - Maxima, Z3, Gambit, JSXGraph.... "
   ]
  },
  {
   "cell_type": "markdown",
   "id": "efd18948",
   "metadata": {
    "slideshow": {
     "slide_type": "slide"
    }
   },
   "source": [
    "# Why Sylvester?\n",
    "<div style=\"float:left\">\n",
    "    <h3> Math education in ancient times </h3>\n",
    "    <img src=\"https://miro.medium.com/v2/resize:fit:1100/format:webp/0*6yXIe83hJbIaf6m4.jpg\"/>\n",
    "    \n",
    "</div>\n",
    "<div style=\"float:right\">\n",
    "     <h3> Math education in the 21st century </h3>\n",
    "    <img src=\"schools.webp\"/>\n",
    "</div>\n",
    "<div style=\"clear:right\">\n",
    "    <br>\n",
    "    <center><h3>Computers and software have not fundamentally altered the core processes of math education. Can we change this?</h3></center>\n",
    "</div>"
   ]
  },
  {
   "cell_type": "code",
   "execution_count": 1,
   "id": "b663e09e",
   "metadata": {
    "slideshow": {
     "slide_type": "skip"
    }
   },
   "outputs": [
    {
     "data": {
      "text/html": [
       "\r\n",
       "<div>\r\n",
       "    <div id='dotnet-interactive-this-cell-43816.Microsoft.DotNet.Interactive.Http.HttpPort' style='display: none'>\r\n",
       "        The below script needs to be able to find the current output cell; this is an easy method to get it.\r\n",
       "    </div>\r\n",
       "    <script type='text/javascript'>\r\n",
       "async function probeAddresses(probingAddresses) {\r\n",
       "    function timeout(ms, promise) {\r\n",
       "        return new Promise(function (resolve, reject) {\r\n",
       "            setTimeout(function () {\r\n",
       "                reject(new Error('timeout'))\r\n",
       "            }, ms)\r\n",
       "            promise.then(resolve, reject)\r\n",
       "        })\r\n",
       "    }\r\n",
       "\r\n",
       "    if (Array.isArray(probingAddresses)) {\r\n",
       "        for (let i = 0; i < probingAddresses.length; i++) {\r\n",
       "\r\n",
       "            let rootUrl = probingAddresses[i];\r\n",
       "\r\n",
       "            if (!rootUrl.endsWith('/')) {\r\n",
       "                rootUrl = `${rootUrl}/`;\r\n",
       "            }\r\n",
       "\r\n",
       "            try {\r\n",
       "                let response = await timeout(1000, fetch(`${rootUrl}discovery`, {\r\n",
       "                    method: 'POST',\r\n",
       "                    cache: 'no-cache',\r\n",
       "                    mode: 'cors',\r\n",
       "                    timeout: 1000,\r\n",
       "                    headers: {\r\n",
       "                        'Content-Type': 'text/plain'\r\n",
       "                    },\r\n",
       "                    body: probingAddresses[i]\r\n",
       "                }));\r\n",
       "\r\n",
       "                if (response.status == 200) {\r\n",
       "                    return rootUrl;\r\n",
       "                }\r\n",
       "            }\r\n",
       "            catch (e) { }\r\n",
       "        }\r\n",
       "    }\r\n",
       "}\r\n",
       "\r\n",
       "function loadDotnetInteractiveApi() {\r\n",
       "    probeAddresses([\"http://192.168.56.1:1000/\", \"http://192.168.169.1:1000/\", \"http://192.168.128.1:1000/\", \"http://192.168.8.190:1000/\", \"http://127.0.0.1:1000/\"])\r\n",
       "        .then((root) => {\r\n",
       "        // use probing to find host url and api resources\r\n",
       "        // load interactive helpers and language services\r\n",
       "        let dotnetInteractiveRequire = require.config({\r\n",
       "        context: '43816.Microsoft.DotNet.Interactive.Http.HttpPort',\r\n",
       "                paths:\r\n",
       "            {\r\n",
       "                'dotnet-interactive': `${root}resources`\r\n",
       "                }\r\n",
       "        }) || require;\r\n",
       "\r\n",
       "            window.dotnetInteractiveRequire = dotnetInteractiveRequire;\r\n",
       "\r\n",
       "            window.configureRequireFromExtension = function(extensionName, extensionCacheBuster) {\r\n",
       "                let paths = {};\r\n",
       "                paths[extensionName] = `${root}extensions/${extensionName}/resources/`;\r\n",
       "                \r\n",
       "                let internalRequire = require.config({\r\n",
       "                    context: extensionCacheBuster,\r\n",
       "                    paths: paths,\r\n",
       "                    urlArgs: `cacheBuster=${extensionCacheBuster}`\r\n",
       "                    }) || require;\r\n",
       "\r\n",
       "                return internalRequire\r\n",
       "            };\r\n",
       "        \r\n",
       "            dotnetInteractiveRequire([\r\n",
       "                    'dotnet-interactive/dotnet-interactive'\r\n",
       "                ],\r\n",
       "                function (dotnet) {\r\n",
       "                    dotnet.init(window);\r\n",
       "                },\r\n",
       "                function (error) {\r\n",
       "                    console.log(error);\r\n",
       "                }\r\n",
       "            );\r\n",
       "        })\r\n",
       "        .catch(error => {console.log(error);});\r\n",
       "    }\r\n",
       "\r\n",
       "// ensure `require` is available globally\r\n",
       "if ((typeof(require) !==  typeof(Function)) || (typeof(require.config) !== typeof(Function))) {\r\n",
       "    let require_script = document.createElement('script');\r\n",
       "    require_script.setAttribute('src', 'https://cdnjs.cloudflare.com/ajax/libs/require.js/2.3.6/require.min.js');\r\n",
       "    require_script.setAttribute('type', 'text/javascript');\r\n",
       "    \r\n",
       "    \r\n",
       "    require_script.onload = function() {\r\n",
       "        loadDotnetInteractiveApi();\r\n",
       "    };\r\n",
       "\r\n",
       "    document.getElementsByTagName('head')[0].appendChild(require_script);\r\n",
       "}\r\n",
       "else {\r\n",
       "    loadDotnetInteractiveApi();\r\n",
       "}\r\n",
       "\r\n",
       "    </script>\r\n",
       "</div>"
      ]
     },
     "metadata": {},
     "output_type": "display_data"
    },
    {
     "data": {
      "text/html": [
       "<link href=\"https://cdn.jsdelivr.net/npm/jsxgraph/distrib/jsxgraph.css\" rel=\"stylesheet\" type=\"text/css\" />\n",
       "<script src=\"https://cdn.jsdelivr.net/npm/jsxgraph@1.4.6/distrib/jsxgraphcore.js\" type=\"text/javascript\" charset=\"UTF-8\"></script>"
      ]
     },
     "metadata": {},
     "output_type": "display_data"
    }
   ],
   "source": [
    "#!html\n",
    "<link href=\"https://cdn.jsdelivr.net/npm/jsxgraph/distrib/jsxgraph.css\" rel=\"stylesheet\" type=\"text/css\" />\n",
    "<script src=\"https://cdn.jsdelivr.net/npm/jsxgraph@1.4.6/distrib/jsxgraphcore.js\" type=\"text/javascript\" charset=\"UTF-8\"></script>"
   ]
  },
  {
   "cell_type": "code",
   "execution_count": 1,
   "id": "distinct-screw",
   "metadata": {
    "slideshow": {
     "slide_type": "skip"
    },
    "tags": []
   },
   "outputs": [
    {
     "data": {
      "text/html": [
       "\r\n",
       "<div>\r\n",
       "    <div id='dotnet-interactive-this-cell-24864.Microsoft.DotNet.Interactive.Http.HttpPort' style='display: none'>\r\n",
       "        The below script needs to be able to find the current output cell; this is an easy method to get it.\r\n",
       "    </div>\r\n",
       "    <script type='text/javascript'>\r\n",
       "async function probeAddresses(probingAddresses) {\r\n",
       "    function timeout(ms, promise) {\r\n",
       "        return new Promise(function (resolve, reject) {\r\n",
       "            setTimeout(function () {\r\n",
       "                reject(new Error('timeout'))\r\n",
       "            }, ms)\r\n",
       "            promise.then(resolve, reject)\r\n",
       "        })\r\n",
       "    }\r\n",
       "\r\n",
       "    if (Array.isArray(probingAddresses)) {\r\n",
       "        for (let i = 0; i < probingAddresses.length; i++) {\r\n",
       "\r\n",
       "            let rootUrl = probingAddresses[i];\r\n",
       "\r\n",
       "            if (!rootUrl.endsWith('/')) {\r\n",
       "                rootUrl = `${rootUrl}/`;\r\n",
       "            }\r\n",
       "\r\n",
       "            try {\r\n",
       "                let response = await timeout(1000, fetch(`${rootUrl}discovery`, {\r\n",
       "                    method: 'POST',\r\n",
       "                    cache: 'no-cache',\r\n",
       "                    mode: 'cors',\r\n",
       "                    timeout: 1000,\r\n",
       "                    headers: {\r\n",
       "                        'Content-Type': 'text/plain'\r\n",
       "                    },\r\n",
       "                    body: probingAddresses[i]\r\n",
       "                }));\r\n",
       "\r\n",
       "                if (response.status == 200) {\r\n",
       "                    return rootUrl;\r\n",
       "                }\r\n",
       "            }\r\n",
       "            catch (e) { }\r\n",
       "        }\r\n",
       "    }\r\n",
       "}\r\n",
       "\r\n",
       "function loadDotnetInteractiveApi() {\r\n",
       "    probeAddresses([\"http://192.168.56.1:1000/\", \"http://192.168.169.1:1000/\", \"http://192.168.128.1:1000/\", \"http://192.168.8.190:1000/\", \"http://127.0.0.1:1000/\"])\r\n",
       "        .then((root) => {\r\n",
       "        // use probing to find host url and api resources\r\n",
       "        // load interactive helpers and language services\r\n",
       "        let dotnetInteractiveRequire = require.config({\r\n",
       "        context: '24864.Microsoft.DotNet.Interactive.Http.HttpPort',\r\n",
       "                paths:\r\n",
       "            {\r\n",
       "                'dotnet-interactive': `${root}resources`\r\n",
       "                }\r\n",
       "        }) || require;\r\n",
       "\r\n",
       "            window.dotnetInteractiveRequire = dotnetInteractiveRequire;\r\n",
       "\r\n",
       "            window.configureRequireFromExtension = function(extensionName, extensionCacheBuster) {\r\n",
       "                let paths = {};\r\n",
       "                paths[extensionName] = `${root}extensions/${extensionName}/resources/`;\r\n",
       "                \r\n",
       "                let internalRequire = require.config({\r\n",
       "                    context: extensionCacheBuster,\r\n",
       "                    paths: paths,\r\n",
       "                    urlArgs: `cacheBuster=${extensionCacheBuster}`\r\n",
       "                    }) || require;\r\n",
       "\r\n",
       "                return internalRequire\r\n",
       "            };\r\n",
       "        \r\n",
       "            dotnetInteractiveRequire([\r\n",
       "                    'dotnet-interactive/dotnet-interactive'\r\n",
       "                ],\r\n",
       "                function (dotnet) {\r\n",
       "                    dotnet.init(window);\r\n",
       "                },\r\n",
       "                function (error) {\r\n",
       "                    console.log(error);\r\n",
       "                }\r\n",
       "            );\r\n",
       "        })\r\n",
       "        .catch(error => {console.log(error);});\r\n",
       "    }\r\n",
       "\r\n",
       "// ensure `require` is available globally\r\n",
       "if ((typeof(require) !==  typeof(Function)) || (typeof(require.config) !== typeof(Function))) {\r\n",
       "    let require_script = document.createElement('script');\r\n",
       "    require_script.setAttribute('src', 'https://cdnjs.cloudflare.com/ajax/libs/require.js/2.3.6/require.min.js');\r\n",
       "    require_script.setAttribute('type', 'text/javascript');\r\n",
       "    \r\n",
       "    \r\n",
       "    require_script.onload = function() {\r\n",
       "        loadDotnetInteractiveApi();\r\n",
       "    };\r\n",
       "\r\n",
       "    document.getElementsByTagName('head')[0].appendChild(require_script);\r\n",
       "}\r\n",
       "else {\r\n",
       "    loadDotnetInteractiveApi();\r\n",
       "}\r\n",
       "\r\n",
       "    </script>\r\n",
       "</div>"
      ]
     },
     "metadata": {},
     "output_type": "display_data"
    }
   ],
   "source": [
    "#load \"Include.fsx\""
   ]
  },
  {
   "cell_type": "markdown",
   "id": "807af1ab",
   "metadata": {
    "slideshow": {
     "slide_type": "slide"
    }
   },
   "source": [
    "## Starting up"
   ]
  },
  {
   "cell_type": "code",
   "execution_count": 2,
   "id": "august-beverage",
   "metadata": {
    "slideshow": {
     "slide_type": "fragment"
    },
    "tags": []
   },
   "outputs": [],
   "source": [
    "// Open namespaces and modules\n",
    "open Sylvester\n",
    "open RealNumbers"
   ]
  },
  {
   "cell_type": "code",
   "execution_count": 3,
   "id": "stupid-mystery",
   "metadata": {
    "slideshow": {
     "slide_type": "fragment"
    },
    "tags": []
   },
   "outputs": [
    {
     "name": "stdout",
     "output_type": "stream",
     "text": [
      "Using default console logger.\n",
      "Process cmd started with pid 68860.\n"
     ]
    }
   ],
   "source": [
    "// Initialize the Maxima CAS\n",
    "do CAS.Maxima.init \"C:\\\\MathTools\\\\maxima-5.44.0\\\\bin\\\\maxima.bat\""
   ]
  },
  {
   "cell_type": "code",
   "execution_count": 4,
   "id": "changed-observer",
   "metadata": {
    "slideshow": {
     "slide_type": "skip"
    },
    "tags": []
   },
   "outputs": [],
   "source": [
    "open Microsoft.DotNet.Interactive.Formatting\n",
    "do Formatter.Register<IHtmlDisplay>((fun (hd:IHtmlDisplay) -> hd.Html()),  \"text/html\")\n",
    "do Formatter.Register<Sylvester.Html>((fun (h) -> h.ToString()),  \"text/html\")\n",
    "do Formatter.Register<Sylvester.ScalarVarMap<real> list>((fun (l:  Sylvester.ScalarVarMap<real> list) -> \"$$\" + (l |> List.map(fun m -> sprintf (\"%s = %s\") (latexe m.Lhs.Expr) (latexe m.Rhs.Expr)) |> List.reduce (fun x y -> x + \", \" + y)) + \"$$\"), \"text/html\")\n",
    "do Formatter.Register<FSharp.Quotations.Expr<FunScript.Bindings.JSXGraph.Board>>((fun (b:FSharp.Quotations.Expr<FunScript.Bindings.JSXGraph.Board>) -> (draw_board b).ToString()), \"text/html\")\n",
    "do Formatter.Register<SharpGambit.NormalFormGame>((fun (g:SharpGambit.NormalFormGame) -> g.Html),  \"text/html\")"
   ]
  },
  {
   "cell_type": "code",
   "execution_count": 5,
   "id": "2342c200",
   "metadata": {},
   "outputs": [
    {
     "data": {
      "text/html": [
       "$$x = -8.75, y = -13.75, z = -86.25$$"
      ]
     },
     "execution_count": 5,
     "metadata": {},
     "output_type": "execute_result"
    }
   ],
   "source": [
    "let x,y,z = realvar3 \"x\" \"y\" \"z\"\n",
    "\n",
    "solve defaults [x;y;z] [\n",
    "    x - 6 *x + y == 30.\n",
    "    x - y == 5.\n",
    "    z == 5 * y + 2 * x\n",
    "]"
   ]
  },
  {
   "cell_type": "code",
   "execution_count": 7,
   "id": "aa2ca956",
   "metadata": {},
   "outputs": [
    {
     "data": {
      "text/html": [
       "$$\\frac{4}{(8 + 2x)}$$"
      ]
     },
     "execution_count": 7,
     "metadata": {},
     "output_type": "execute_result"
    }
   ],
   "source": [
    "4 / ((x+2)+(x+6))"
   ]
  },
  {
   "cell_type": "code",
   "execution_count": 9,
   "id": "4f8a3052",
   "metadata": {},
   "outputs": [
    {
     "data": {
      "text/html": [
       "$$\\frac{2}{(4 + x)}$$"
      ]
     },
     "execution_count": 9,
     "metadata": {},
     "output_type": "execute_result"
    }
   ],
   "source": [
    "4 / ((x+2)+(x+6)) |> partfrac_of x"
   ]
  },
  {
   "cell_type": "code",
   "execution_count": 30,
   "id": "metallic-prospect",
   "metadata": {
    "slideshow": {
     "slide_type": "slide"
    },
    "tags": []
   },
   "outputs": [
    {
     "data": {
      "text/html": [
       "$$f(x) = 1 + x^{3}$$"
      ]
     },
     "execution_count": 30,
     "metadata": {},
     "output_type": "execute_result"
    }
   ],
   "source": [
    "// Define a real variable and mathematical function of a single variable\n",
    "let x = realvar \"x\"\n",
    "let f = realfun \"f\" (x *** 3 + 1)\n",
    "f"
   ]
  },
  {
   "cell_type": "code",
   "execution_count": 6,
   "id": "baf37946",
   "metadata": {
    "slideshow": {
     "slide_type": "fragment"
    }
   },
   "outputs": [
    {
     "data": {
      "text/html": [
       "$$126$$"
      ]
     },
     "execution_count": 6,
     "metadata": {},
     "output_type": "execute_result"
    }
   ],
   "source": [
    "// Sylvester functions overload the [] operator for mathematical function evaluation\n",
    "f[5]"
   ]
  },
  {
   "cell_type": "code",
   "execution_count": 13,
   "id": "3afb169c",
   "metadata": {
    "slideshow": {
     "slide_type": "fragment"
    }
   },
   "outputs": [
    {
     "data": {
      "text/html": [
       "$$29 + a^{3}$$"
      ]
     },
     "execution_count": 13,
     "metadata": {},
     "output_type": "execute_result"
    }
   ],
   "source": [
    "// Sylvester functions are fully symbolic e.g. define a real constant \"a\"\n",
    "let a = realconst \"a\"\n",
    "// This is a symbolic scalar expression\n",
    "f[3] + f[a] "
   ]
  },
  {
   "cell_type": "code",
   "execution_count": null,
   "id": "653129b6",
   "metadata": {},
   "outputs": [],
   "source": []
  },
  {
   "cell_type": "code",
   "execution_count": 35,
   "id": "e1902c86",
   "metadata": {
    "slideshow": {
     "slide_type": "fragment"
    }
   },
   "outputs": [
    {
     "data": {
      "text/html": [
       "$$245$$"
      ]
     },
     "execution_count": 35,
     "metadata": {},
     "output_type": "execute_result"
    }
   ],
   "source": [
    "// We can fix constants and variables in symbolic expressions\n",
    "fix {|a=6.|} (f[3] + f[a]) "
   ]
  },
  {
   "cell_type": "code",
   "execution_count": 26,
   "id": "1e4f9368",
   "metadata": {
    "slideshow": {
     "slide_type": "fragment"
    }
   },
   "outputs": [
    {
     "data": {
      "text/html": [
       "$$1 + {a}{x} + x^{2} + x^{3}$$"
      ]
     },
     "execution_count": 26,
     "metadata": {},
     "output_type": "execute_result"
    }
   ],
   "source": [
    "// Simplify \n",
    "ratexpand (f[x] + x * (a + x))"
   ]
  },
  {
   "cell_type": "code",
   "execution_count": 7,
   "id": "5ebf71f4",
   "metadata": {
    "slideshow": {
     "slide_type": "slide"
    }
   },
   "outputs": [
    {
     "data": {
      "text/html": [
       "$$f'(x) = 3x^{2}$$"
      ]
     },
     "execution_count": 7,
     "metadata": {},
     "output_type": "execute_result"
    }
   ],
   "source": [
    "// Basic calculus operations are supported\n",
    "diff x f"
   ]
  },
  {
   "cell_type": "code",
   "execution_count": 9,
   "id": "fbf2975d",
   "metadata": {},
   "outputs": [
    {
     "data": {
      "text/html": [
       "$$F(x) = x + \\frac{1}{4}x^{4}$$"
      ]
     },
     "execution_count": 9,
     "metadata": {},
     "output_type": "execute_result"
    }
   ],
   "source": [
    "integrate x f"
   ]
  },
  {
   "cell_type": "code",
   "execution_count": 19,
   "id": "0aebc4de",
   "metadata": {},
   "outputs": [
    {
     "name": "stderr",
     "output_type": "stream",
     "text": [
      "\r\n",
      "input.fsx (1,5)-(1,7) typecheck error The type 'float' is not compatible with the type 'ITotalOrder<real>'\r\n",
      "\r\n"
     ]
    },
    {
     "ename": "Error",
     "evalue": "compilation error",
     "output_type": "error",
     "traceback": []
    }
   ],
   "source": [
    "inf 4."
   ]
  },
  {
   "cell_type": "code",
   "execution_count": 14,
   "id": "33944f25",
   "metadata": {},
   "outputs": [
    {
     "data": {
      "text/html": [
       "$$\\frac{1}{2}(a^{2}) + \\frac{1}{20}(a^{5})$$"
      ]
     },
     "execution_count": 14,
     "metadata": {},
     "output_type": "execute_result"
    }
   ],
   "source": [
    "// We can combine operations on functions in the usual way, e.g. integrate f twice and find limit as x -> a\n",
    "integrate x f |> integrate x |> lim x a"
   ]
  },
  {
   "cell_type": "code",
   "execution_count": null,
   "id": "a07659d5",
   "metadata": {},
   "outputs": [],
   "source": []
  },
  {
   "cell_type": "markdown",
   "id": "8568374d",
   "metadata": {
    "slideshow": {
     "slide_type": "slide"
    }
   },
   "source": [
    "# Game Theory::Examples\n",
    "## Stag Hunt\n",
    "Two hunters are on a stag hunt where they can't observe what the other is doing. Catching a stag is hard and requires both hunters to cooperate.  Catching a hare is much easier than catching a stag though and doesn't require cooperation but will benefit an individual hunter less than a stag. If one hunter hunts a stag and one a hare, only the hare hunter will benefit.\n",
    "<center>\n",
    "<img src = \"staghunt.jpg\" style=\"width:400px; height:400px\" />\n",
    "</center>"
   ]
  },
  {
   "cell_type": "code",
   "execution_count": 10,
   "id": "05dcfa90",
   "metadata": {},
   "outputs": [],
   "source": [
    "#nowarn \"3391\""
   ]
  },
  {
   "cell_type": "code",
   "execution_count": 14,
   "id": "alternative-disney",
   "metadata": {
    "tags": []
   },
   "outputs": [
    {
     "data": {
      "text/html": [
       "$$1 + 1a^{3}$$"
      ]
     },
     "execution_count": 14,
     "metadata": {},
     "output_type": "execute_result"
    }
   ],
   "source": [
    "lim x a f"
   ]
  },
  {
   "cell_type": "code",
   "execution_count": 27,
   "id": "f42300c1",
   "metadata": {},
   "outputs": [
    {
     "data": {
      "text/html": [
       "<details open=\"open\" class=\"dni-treeview\"><summary><span class=\"dni-code-hint\"><code>Some([x = -1])</code></span></summary><div><table><thead><tr></tr></thead><tbody><tr><td>Value</td><td>$$x = -1$$</td></tr></tbody></table></div></details><style>\r\n",
       ".dni-code-hint {\r\n",
       "    font-style: italic;\r\n",
       "    overflow: hidden;\r\n",
       "    white-space: nowrap;\r\n",
       "}\r\n",
       ".dni-treeview {\r\n",
       "    white-space: nowrap;\r\n",
       "}\r\n",
       ".dni-treeview td {\r\n",
       "    vertical-align: top;\r\n",
       "    text-align: start;\r\n",
       "}\r\n",
       "details.dni-treeview {\r\n",
       "    padding-left: 1em;\r\n",
       "}\r\n",
       "table td {\r\n",
       "    text-align: start;\r\n",
       "}\r\n",
       "table tr { \r\n",
       "    vertical-align: top; \r\n",
       "    margin: 0em 0px;\r\n",
       "}\r\n",
       "table tr td pre \r\n",
       "{ \r\n",
       "    vertical-align: top !important; \r\n",
       "    margin: 0em 0px !important;\r\n",
       "} \r\n",
       "table th {\r\n",
       "    text-align: start;\r\n",
       "}\r\n",
       "</style>"
      ]
     },
     "execution_count": 27,
     "metadata": {},
     "output_type": "execute_result"
    }
   ],
   "source": [
    "maximize x [\n",
    "    f[x] == 0.\n",
    "]"
   ]
  },
  {
   "cell_type": "markdown",
   "id": "5ca00a5b",
   "metadata": {
    "slideshow": {
     "slide_type": "slide"
    }
   },
   "source": [
    "### Sylvester :: Trigonometric Functions"
   ]
  },
  {
   "cell_type": "code",
   "execution_count": 37,
   "id": "3824c248",
   "metadata": {
    "slideshow": {
     "slide_type": "fragment"
    }
   },
   "outputs": [
    {
     "data": {
      "text/html": [
       "$$g(x) = \\sin{2.0x} + (\\cos{x})^{2}$$"
      ]
     },
     "execution_count": 37,
     "metadata": {},
     "output_type": "execute_result"
    }
   ],
   "source": [
    "// Define a trigonometric function\n",
    "let g = realfun \"g\" (sin (2*x) + (cos x) *** 2)\n",
    "g"
   ]
  },
  {
   "cell_type": "code",
   "execution_count": 10,
   "id": "5b267a87",
   "metadata": {
    "slideshow": {
     "slide_type": "fragment"
    }
   },
   "outputs": [
    {
     "ename": "Error",
     "evalue": "System.Exception: The default Maxima interpreter is not initialized.\r\n   at Sylvester.CAS.MaximaModule.send'(String s) in C:\\Projects\\Sylvester.git\\src\\Math\\CAS\\Sylvester.CAS.Maxima\\Maxima.fs:line 149\r\n   at Sylvester.CAS.Analysis.send(String s) in C:\\Projects\\Sylvester.git\\src\\Math\\CAS\\Sylvester.CAS.Maxima\\Analysis.fs:line 11\r\n   at Sylvester.CAS.Analysis.sendCmd[t](FSharpList`1 vars, String cmd) in C:\\Projects\\Sylvester.git\\src\\Math\\CAS\\Sylvester.CAS.Maxima\\Analysis.fs:line 14\r\n   at Sylvester.CAS.Analysis.diffn[t](Int32 n, FSharpExpr x, FSharpExpr`1 expr) in C:\\Projects\\Sylvester.git\\src\\Math\\CAS\\Sylvester.CAS.Maxima\\Analysis.fs:line 69\r\n   at Sylvester.MaximaRealAnalysisOps.Sylvester.IRealAnalysisSymbolicOps.Diff(Int32 n, FSharpExpr`1 x, FSharpExpr`1 e) in C:\\Projects\\Sylvester.git\\src\\Math\\Sylvester.RealAnalysis\\Definitions\\Ops.fs:line 44\r\n   at Sylvester.R.diff[a](ScalarVar`1 x, ISymbolic`2 s) in C:\\Projects\\Sylvester.git\\src\\Math\\Sylvester.RealAnalysis\\Definitions\\R.fs:line 89\r\n   at <StartupCode$FSI_0013>.$FSI_0013.main@()\r\n   at System.RuntimeMethodHandle.InvokeMethod(Object target, Void** arguments, Signature sig, Boolean isConstructor)\r\n   at System.Reflection.MethodBaseInvoker.InvokeWithNoArgs(Object obj, BindingFlags invokeAttr)",
     "output_type": "error",
     "traceback": [
      "System.Exception: The default Maxima interpreter is not initialized.\r\n   at Sylvester.CAS.MaximaModule.send'(String s) in C:\\Projects\\Sylvester.git\\src\\Math\\CAS\\Sylvester.CAS.Maxima\\Maxima.fs:line 149\r\n   at Sylvester.CAS.Analysis.send(String s) in C:\\Projects\\Sylvester.git\\src\\Math\\CAS\\Sylvester.CAS.Maxima\\Analysis.fs:line 11\r\n   at Sylvester.CAS.Analysis.sendCmd[t](FSharpList`1 vars, String cmd) in C:\\Projects\\Sylvester.git\\src\\Math\\CAS\\Sylvester.CAS.Maxima\\Analysis.fs:line 14\r\n   at Sylvester.CAS.Analysis.diffn[t](Int32 n, FSharpExpr x, FSharpExpr`1 expr) in C:\\Projects\\Sylvester.git\\src\\Math\\CAS\\Sylvester.CAS.Maxima\\Analysis.fs:line 69\r\n   at Sylvester.MaximaRealAnalysisOps.Sylvester.IRealAnalysisSymbolicOps.Diff(Int32 n, FSharpExpr`1 x, FSharpExpr`1 e) in C:\\Projects\\Sylvester.git\\src\\Math\\Sylvester.RealAnalysis\\Definitions\\Ops.fs:line 44\r\n   at Sylvester.R.diff[a](ScalarVar`1 x, ISymbolic`2 s) in C:\\Projects\\Sylvester.git\\src\\Math\\Sylvester.RealAnalysis\\Definitions\\R.fs:line 89\r\n   at <StartupCode$FSI_0013>.$FSI_0013.main@()\r\n   at System.RuntimeMethodHandle.InvokeMethod(Object target, Void** arguments, Signature sig, Boolean isConstructor)\r\n   at System.Reflection.MethodBaseInvoker.InvokeWithNoArgs(Object obj, BindingFlags invokeAttr)",
      "   at Sylvester.CAS.MaximaModule.send'(String s) in C:\\Projects\\Sylvester.git\\src\\Math\\CAS\\Sylvester.CAS.Maxima\\Maxima.fs:line 149",
      "   at Sylvester.CAS.Analysis.send(String s) in C:\\Projects\\Sylvester.git\\src\\Math\\CAS\\Sylvester.CAS.Maxima\\Analysis.fs:line 11",
      "   at Sylvester.CAS.Analysis.sendCmd[t](FSharpList`1 vars, String cmd) in C:\\Projects\\Sylvester.git\\src\\Math\\CAS\\Sylvester.CAS.Maxima\\Analysis.fs:line 14",
      "   at Sylvester.CAS.Analysis.diffn[t](Int32 n, FSharpExpr x, FSharpExpr`1 expr) in C:\\Projects\\Sylvester.git\\src\\Math\\CAS\\Sylvester.CAS.Maxima\\Analysis.fs:line 69",
      "   at Sylvester.MaximaRealAnalysisOps.Sylvester.IRealAnalysisSymbolicOps.Diff(Int32 n, FSharpExpr`1 x, FSharpExpr`1 e) in C:\\Projects\\Sylvester.git\\src\\Math\\Sylvester.RealAnalysis\\Definitions\\Ops.fs:line 44",
      "   at Sylvester.R.diff[a](ScalarVar`1 x, ISymbolic`2 s) in C:\\Projects\\Sylvester.git\\src\\Math\\Sylvester.RealAnalysis\\Definitions\\R.fs:line 89",
      "   at <StartupCode$FSI_0013>.$FSI_0013.main@()",
      "   at System.RuntimeMethodHandle.InvokeMethod(Object target, Void** arguments, Signature sig, Boolean isConstructor)",
      "   at System.Reflection.MethodBaseInvoker.InvokeWithNoArgs(Object obj, BindingFlags invokeAttr)"
     ]
    }
   ],
   "source": [
    "let h = diff x g\n",
    "h"
   ]
  },
  {
   "cell_type": "code",
   "execution_count": 34,
   "id": "6a8082e4",
   "metadata": {
    "slideshow": {
     "slide_type": "fragment"
    }
   },
   "outputs": [
    {
     "name": "stderr",
     "output_type": "stream",
     "text": [
      "\r\n",
      "input.fsx (1,12)-(1,13) typecheck error The value or constructor 'h' is not defined.\r\n",
      "\r\n"
     ]
    },
    {
     "ename": "Error",
     "evalue": "compilation error",
     "output_type": "error",
     "traceback": []
    }
   ],
   "source": [
    "trigreduce h"
   ]
  },
  {
   "cell_type": "code",
   "execution_count": 40,
   "id": "generous-macedonia",
   "metadata": {
    "slideshow": {
     "slide_type": "slide"
    },
    "tags": []
   },
   "outputs": [
    {
     "data": {
      "text/html": [
       "<div>\r\n",
       " <div id=\"9cb07092-566e-4275-bd97-527c042b85a9\" class=\"jxgbox\" style=\"width:100%;height:640px\"></div>\r\n",
       " <script>require(['https://cdn.jsdelivr.net/npm/jsxgraph/distrib/jsxgraphcore.js'], function(JXG) {\n",
       "JXG.Options.text.useMathJax = true;\n",
       "var MathJS__Pow$;\r\n",
       "MathJS__Pow$ = (function(x,y)\r\n",
       "{\r\n",
       "    return Math.pow(x, y);;\r\n",
       "});\r\n",
       "var boundingbox = [(0.000000 - ((10.000000 - 0.000000) / 10.000000)), (1001.000000 + ((1001.000000 - 1.000000) / 10.000000)), (10.000000 + (10.000000 / 10.000000)), (1.000000 - (1001.000000 / 10.000000))];\r\n",
       "var showNavigation = true;\r\n",
       "var showCopyright = false;\r\n",
       "var keepAspectRatio = false;\r\n",
       "var name = \"X\";\r\n",
       "var withLabel = true;\r\n",
       "var position = \"rt\";\r\n",
       "var offset = [-300, -40];\r\n",
       "var _name = \"Y\";\r\n",
       "var _withLabel = true;\r\n",
       "var _position = \"rt\";\r\n",
       "var rotate = 90;\r\n",
       "var _offset = [-40, -300];\r\n",
       "var b = JXG.JSXGraph.initBoard(\"9cb07092-566e-4275-bd97-527c042b85a9\", {axis: true, boundingbox: boundingbox, defaultAxes: {x: {label: {anchorX: \"middle\", offset: offset, position: position}, name: name, withLabel: withLabel}, y: {label: {anchorX: \"middle\", offset: _offset, position: _position, rotate: rotate}, name: _name, withLabel: _withLabel}}, keepAspectRatio: keepAspectRatio, showCopyright: showCopyright, showNavigation: showNavigation});\r\n",
       "var strokeColor = \"blue\";\r\n",
       "var strokeWidth = 1;\r\n",
       "var __withLabel = true;\r\n",
       "var fg = b.create('functiongraph', [(function(x)\r\n",
       "{\r\n",
       "    return (1.000000 + MathJS__Pow$(x, 3.000000));\r\n",
       "}), 0.000000, 10.000000], {name: \"$$f(x) = 1 + x^{3}$$\", strokeColor: strokeColor, strokeWidth: strokeWidth, withLabel: __withLabel});\r\n",
       "var t = b.create('text', [((10.000000 - 0.000000) * 0.500000), (1001.000000 - ((1001.000000 - 1.000000) / 10.000000)), \"\"], {fontSize: 24});\r\n",
       "b});</script>\r\n",
       "</div>\r\n"
      ]
     },
     "execution_count": 40,
     "metadata": {},
     "output_type": "execute_result"
    }
   ],
   "source": [
    "\n",
    "draw defaults f"
   ]
  },
  {
   "cell_type": "code",
   "execution_count": 10,
   "id": "presidential-german",
   "metadata": {
    "slideshow": {
     "slide_type": "slide"
    }
   },
   "outputs": [],
   "source": []
  },
  {
   "cell_type": "code",
   "execution_count": 6,
   "id": "184ba578",
   "metadata": {
    "slideshow": {
     "slide_type": "slide"
    }
   },
   "outputs": [
    {
     "data": {
      "text/html": [
       "<div class=\"nfg_2p\">\r\n",
       "<div class=\"title\" style=\"text-align:center\">Prisoner's Dilemna</div>\r\n",
       "<div style=\"float:left;margin-top:35pt;margin-right:15pt\"><b>Player 1</b></div>\r\n",
       "<div style=\"margin-left:75pt\"><b>Player 2</b></div>\r\n",
       "<table>\r\n",
       "<tbody>\r\n",
       "<tr>\r\n",
       "<td></td>\r\n",
       "<td><tt>Quiet</tt></td>\r\n",
       "<td><tt>Fink</tt></td>\r\n",
       "</tr>\r\n",
       "<tr>\r\n",
       "<td><tt>Quiet</tt></td>\r\n",
       "<td align=\"center\">(3,3)</td><td align=\"center\">(4,0)</td></tr>\r\n",
       "<tr>\r\n",
       "<td><tt>Fink</tt></td>\r\n",
       "<td align=\"center\">(0,4)</td><td align=\"center\">(2,2)</td></tr>\r\n",
       "</tbody>\r\n",
       "</table>\r\n",
       "</div>\r\n"
      ]
     },
     "execution_count": 6,
     "metadata": {},
     "output_type": "execute_result"
    }
   ],
   "source": [
    "// Open SharpGambit modules\n",
    "open SharpGambit\n",
    "\n",
    "// Declare a two-player normal form game\n",
    "let g = nfg_2p \"Prisoner's Dilemna\" [\"Quiet\"; \"Fink\"] [\"Quiet\"; \"Fink\"] [\n",
    "            (3,3); (4,0)\n",
    "            (0,4); (2,2)\n",
    "    ]\n",
    "g"
   ]
  },
  {
   "cell_type": "markdown",
   "id": "bfe7e8f8",
   "metadata": {
    "slideshow": {
     "slide_type": "slide"
    }
   },
   "source": [
    "<div style=\"margin-top:100px\">\n",
    "    <h1>Game Theory</h1>\n",
    "</div>\n",
    "<center>\n",
    "<img src = \"gt2.jpg\" style=\"width:600px; height:600px\" />\n",
    "</center>"
   ]
  },
  {
   "cell_type": "markdown",
   "id": "ebf813a8",
   "metadata": {
    "slideshow": {
     "slide_type": "slide"
    }
   },
   "source": [
    "# Game Theory\n",
    "## Overview\n",
    "* Game theory models and analyzes how *rational* decision makers interact\n",
    "* Game theory as an independent field started in 1940's by John von Neumann and Oscar Morgensten\n",
    "* Game theory is used extensively in natural and social sciences, business, politics, defense, diplomacy, plannning and analyzing situations where intelligent agents interact and compete \n",
    "\n"
   ]
  },
  {
   "cell_type": "markdown",
   "id": "0c134975",
   "metadata": {
    "slideshow": {
     "slide_type": "slide"
    }
   },
   "source": [
    "# Game Theory::Examples\n",
    "## Stag Hunt\n",
    "Two hunters are on a stag hunt where they can't observe what the other is doing. Catching a stag is hard and requires both hunters to cooperate.  Catching a hare is much easier than catching a stag though and doesn't require cooperation but will benefit an individual hunter less than a stag. If one hunter hunts a stag and one a hare, only the hare hunter will benefit.\n",
    "<center>\n",
    "<img src = \"staghunt.jpg\" style=\"width:400px; height:400px\" />\n",
    "</center>"
   ]
  },
  {
   "cell_type": "markdown",
   "id": "5fef9995",
   "metadata": {
    "slideshow": {
     "slide_type": "slide"
    }
   },
   "source": [
    "# Game Theory\n",
    "## Basic Elements of a Game\n",
    "* Players: represents decision-makers who must choose from a set of *actions*\n",
    "* Actions or Strategies: Usually a simple label representing a player choice like \"Cooperate\" or \"Defect\"\n",
    "* Action or Strategy Profiles: A set of individual strategies chosen by each player representing a possible outcome of the game e.g. `{Defect, Defect}` is the outcome where both hunters choose not to cooperate\n",
    "* Preferences: Each player has a preference for the different outcomes\n",
    "* Payoffs: a function that assigns to each strategy profile a number where higher numbers are preferred by the player e.g (2,2"
   ]
  },
  {
   "cell_type": "markdown",
   "id": "6b5d8d91",
   "metadata": {
    "slideshow": {
     "slide_type": "slide"
    }
   },
   "source": [
    "# Game Theory\n",
    "## Representing a Game\n",
    "\n",
    "* Strategic Games - assumbe players act simultaneously\n",
    "* Normal-form game - represent a game using a matrix"
   ]
  },
  {
   "cell_type": "markdown",
   "id": "f0684110",
   "metadata": {
    "slideshow": {
     "slide_type": "slide"
    }
   },
   "source": [
    "### Game Theory::Game Theory in F#"
   ]
  },
  {
   "cell_type": "code",
   "execution_count": 7,
   "id": "efa41365",
   "metadata": {
    "slideshow": {
     "slide_type": "fragment"
    }
   },
   "outputs": [
    {
     "data": {
      "text/html": [
       "<div class=\"nfg_2p\">\r\n",
       "<div class=\"title\" style=\"text-align:center\">Stag Hunt</div>\r\n",
       "<div style=\"float:left;margin-top:35pt;margin-right:15pt\"><b>Player 1</b></div>\r\n",
       "<div style=\"margin-left:75pt\"><b>Player 2</b></div>\r\n",
       "<table>\r\n",
       "<tbody>\r\n",
       "<tr>\r\n",
       "<td></td>\r\n",
       "<td><tt>Cooperate</tt></td>\r\n",
       "<td><tt>Defect</tt></td>\r\n",
       "</tr>\r\n",
       "<tr>\r\n",
       "<td><tt>Cooperate</tt></td>\r\n",
       "<td align=\"center\">(4,4)</td><td align=\"center\">(0,2)</td></tr>\r\n",
       "<tr>\r\n",
       "<td><tt>Defect</tt></td>\r\n",
       "<td align=\"center\">(2,0)</td><td align=\"center\">(2,2)</td></tr>\r\n",
       "</tbody>\r\n",
       "</table>\r\n",
       "</div>\r\n"
      ]
     },
     "execution_count": 7,
     "metadata": {},
     "output_type": "execute_result"
    }
   ],
   "source": [
    "// Open SharpGambit modules\n",
    "open SharpGambit\n",
    "\n",
    "// Declare a two-player normal form game\n",
    "let g = nfg_2p \"Stag Hunt\" [\"Cooperate\"; \"Defect\"] [\"Cooperate\"; \"Defect\"] [\n",
    "            (4,4); (0,2)\n",
    "            (2,0); (2,2)\n",
    "    ]\n",
    "g"
   ]
  },
  {
   "cell_type": "code",
   "execution_count": 12,
   "id": "fa3753c0",
   "metadata": {},
   "outputs": [
    {
     "data": {
      "text/html": [
       "<details open=\"open\" class=\"dni-treeview\"><summary><span class=\"dni-code-hint\"><code>SharpGambit.PureStrategySolution</code></span></summary><div><table><thead><tr></tr></thead><tbody><tr><td>solutions</td><td><table><thead><tr><th><i>index</i></th><th>value</th></tr></thead><tbody><tr><td>0</td><td><table><thead><tr><th><i>index</i></th><th>value</th></tr></thead><tbody><tr><td>0</td><td><details class=\"dni-treeview\"><summary><span class=\"dni-code-hint\"><code>SharpGambit.PureStrategy</code></span></summary><div><table><thead><tr></tr></thead><tbody><tr><td>Label</td><td><div class=\"dni-plaintext\"><pre>Cooperate</pre></div></td></tr><tr><td>Index</td><td><div class=\"dni-plaintext\"><pre>0</pre></div></td></tr><tr><td>Player</td><td><details class=\"dni-treeview\"><summary><span class=\"dni-code-hint\"><code>SharpGambit.Player</code></span></summary><div><table><thead><tr></tr></thead><tbody><tr><td>Index</td><td><div class=\"dni-plaintext\"><pre>0</pre></div></td></tr><tr><td>Label</td><td><div class=\"dni-plaintext\"><pre>Player 1</pre></div></td></tr><tr><td>StrategyCount</td><td><div class=\"dni-plaintext\"><pre>2</pre></div></td></tr><tr><td>Strategies</td><td><table><thead><tr><th><i>index</i></th><th>value</th></tr></thead><tbody><tr><td>0</td><td>SharpGambit.PureStrategy</td></tr><tr><td>1</td><td>SharpGambit.PureStrategy</td></tr></tbody></table></td></tr><tr><td>game</td><td><center><h1>Stag Hunt</h1></center>\n",
       "<table class='nfg_2p'><tr><td></td><td align=center><b>Cooperate</b></td><td align=center><b>Defect</b></td></tr><tr><td align=center><b>Cooperate</b></td><td align=center>4,4</td><td align=center>0,2</td></tr><tr><td align=center><b>Defect</b></td><td align=center>2,0</td><td align=center>2,2</td></tr></table>\n",
       "</td></tr></tbody></table></div></details></td></tr></tbody></table></div></details></td></tr><tr><td>1</td><td><details class=\"dni-treeview\"><summary><span class=\"dni-code-hint\"><code>SharpGambit.PureStrategy</code></span></summary><div><table><thead><tr></tr></thead><tbody><tr><td>Label</td><td><div class=\"dni-plaintext\"><pre>Cooperate</pre></div></td></tr><tr><td>Index</td><td><div class=\"dni-plaintext\"><pre>0</pre></div></td></tr><tr><td>Player</td><td><details class=\"dni-treeview\"><summary><span class=\"dni-code-hint\"><code>SharpGambit.Player</code></span></summary><div><table><thead><tr></tr></thead><tbody><tr><td>Index</td><td><div class=\"dni-plaintext\"><pre>1</pre></div></td></tr><tr><td>Label</td><td><div class=\"dni-plaintext\"><pre>Player 2</pre></div></td></tr><tr><td>StrategyCount</td><td><div class=\"dni-plaintext\"><pre>2</pre></div></td></tr><tr><td>Strategies</td><td><table><thead><tr><th><i>index</i></th><th>value</th></tr></thead><tbody><tr><td>0</td><td>SharpGambit.PureStrategy</td></tr><tr><td>1</td><td>SharpGambit.PureStrategy</td></tr></tbody></table></td></tr><tr><td>game</td><td><center><h1>Stag Hunt</h1></center>\n",
       "<table class='nfg_2p'><tr><td></td><td align=center><b>Cooperate</b></td><td align=center><b>Defect</b></td></tr><tr><td align=center><b>Cooperate</b></td><td align=center>4,4</td><td align=center>0,2</td></tr><tr><td align=center><b>Defect</b></td><td align=center>2,0</td><td align=center>2,2</td></tr></table>\n",
       "</td></tr></tbody></table></div></details></td></tr></tbody></table></div></details></td></tr></tbody></table></td></tr><tr><td>1</td><td><table><thead><tr><th><i>index</i></th><th>value</th></tr></thead><tbody><tr><td>0</td><td><details class=\"dni-treeview\"><summary><span class=\"dni-code-hint\"><code>SharpGambit.PureStrategy</code></span></summary><div><table><thead><tr></tr></thead><tbody><tr><td>Label</td><td><div class=\"dni-plaintext\"><pre>Defect</pre></div></td></tr><tr><td>Index</td><td><div class=\"dni-plaintext\"><pre>1</pre></div></td></tr><tr><td>Player</td><td><details class=\"dni-treeview\"><summary><span class=\"dni-code-hint\"><code>SharpGambit.Player</code></span></summary><div><table><thead><tr></tr></thead><tbody><tr><td>Index</td><td><div class=\"dni-plaintext\"><pre>0</pre></div></td></tr><tr><td>Label</td><td><div class=\"dni-plaintext\"><pre>Player 1</pre></div></td></tr><tr><td>StrategyCount</td><td><div class=\"dni-plaintext\"><pre>2</pre></div></td></tr><tr><td>Strategies</td><td><table><thead><tr><th><i>index</i></th><th>value</th></tr></thead><tbody><tr><td>0</td><td>SharpGambit.PureStrategy</td></tr><tr><td>1</td><td>SharpGambit.PureStrategy</td></tr></tbody></table></td></tr><tr><td>game</td><td><center><h1>Stag Hunt</h1></center>\n",
       "<table class='nfg_2p'><tr><td></td><td align=center><b>Cooperate</b></td><td align=center><b>Defect</b></td></tr><tr><td align=center><b>Cooperate</b></td><td align=center>4,4</td><td align=center>0,2</td></tr><tr><td align=center><b>Defect</b></td><td align=center>2,0</td><td align=center>2,2</td></tr></table>\n",
       "</td></tr></tbody></table></div></details></td></tr></tbody></table></div></details></td></tr><tr><td>1</td><td><details class=\"dni-treeview\"><summary><span class=\"dni-code-hint\"><code>SharpGambit.PureStrategy</code></span></summary><div><table><thead><tr></tr></thead><tbody><tr><td>Label</td><td><div class=\"dni-plaintext\"><pre>Defect</pre></div></td></tr><tr><td>Index</td><td><div class=\"dni-plaintext\"><pre>1</pre></div></td></tr><tr><td>Player</td><td><details class=\"dni-treeview\"><summary><span class=\"dni-code-hint\"><code>SharpGambit.Player</code></span></summary><div><table><thead><tr></tr></thead><tbody><tr><td>Index</td><td><div class=\"dni-plaintext\"><pre>1</pre></div></td></tr><tr><td>Label</td><td><div class=\"dni-plaintext\"><pre>Player 2</pre></div></td></tr><tr><td>StrategyCount</td><td><div class=\"dni-plaintext\"><pre>2</pre></div></td></tr><tr><td>Strategies</td><td><table><thead><tr><th><i>index</i></th><th>value</th></tr></thead><tbody><tr><td>0</td><td>SharpGambit.PureStrategy</td></tr><tr><td>1</td><td>SharpGambit.PureStrategy</td></tr></tbody></table></td></tr><tr><td>game</td><td><center><h1>Stag Hunt</h1></center>\n",
       "<table class='nfg_2p'><tr><td></td><td align=center><b>Cooperate</b></td><td align=center><b>Defect</b></td></tr><tr><td align=center><b>Cooperate</b></td><td align=center>4,4</td><td align=center>0,2</td></tr><tr><td align=center><b>Defect</b></td><td align=center>2,0</td><td align=center>2,2</td></tr></table>\n",
       "</td></tr></tbody></table></div></details></td></tr></tbody></table></div></details></td></tr></tbody></table></td></tr></tbody></table></td></tr></tbody></table></div></details><style>\r\n",
       ".dni-code-hint {\r\n",
       "    font-style: italic;\r\n",
       "    overflow: hidden;\r\n",
       "    white-space: nowrap;\r\n",
       "}\r\n",
       ".dni-treeview {\r\n",
       "    white-space: nowrap;\r\n",
       "}\r\n",
       ".dni-treeview td {\r\n",
       "    vertical-align: top;\r\n",
       "    text-align: start;\r\n",
       "}\r\n",
       "details.dni-treeview {\r\n",
       "    padding-left: 1em;\r\n",
       "}\r\n",
       "table td {\r\n",
       "    text-align: start;\r\n",
       "}\r\n",
       "table tr { \r\n",
       "    vertical-align: top; \r\n",
       "    margin: 0em 0px;\r\n",
       "}\r\n",
       "table tr td pre \r\n",
       "{ \r\n",
       "    vertical-align: top !important; \r\n",
       "    margin: 0em 0px !important;\r\n",
       "} \r\n",
       "table th {\r\n",
       "    text-align: start;\r\n",
       "}\r\n",
       "</style>"
      ]
     },
     "execution_count": 12,
     "metadata": {},
     "output_type": "execute_result"
    }
   ],
   "source": [
    "solve_enum_pure g"
   ]
  },
  {
   "cell_type": "code",
   "execution_count": 6,
   "id": "a2dddfde",
   "metadata": {},
   "outputs": [
    {
     "data": {
      "text/html": [
       "<div>\r\n",
       " <div id=\"5f23966b-ab8e-4184-966f-4913b84439e8\" class=\"jxgbox\" style=\"width:100%;height:640px\"></div>\r\n",
       " <script>require(['https://cdn.jsdelivr.net/npm/jsxgraph/distrib/jsxgraphcore.js'], function(JXG) {\n",
       "JXG.Options.text.useMathJax = true;\n",
       "var Board__invisible, Board__get_invisible$;\r\n",
       "Board__get_invisible$ = (function()\r\n",
       "{\r\n",
       "    var size = 0.000000;\r\n",
       "    var withLabel = false;\r\n",
       "    return {label: \"\", size: size, strokeWidth: 0.000000, withLabel: withLabel};\r\n",
       "});\r\n",
       "Board__invisible = Board__get_invisible$();\r\n",
       "var boundingbox = [(0.000000 - ((10.000000 - 0.000000) / 10.000000)), (100.000000 + ((100.000000 - 0.000000) / 10.000000)), (10.000000 + (10.000000 / 10.000000)), (0.000000 - (100.000000 / 10.000000))];\r\n",
       "var showNavigation = true;\r\n",
       "var showCopyright = false;\r\n",
       "var keepAspectRatio = false;\r\n",
       "var name = \"X\";\r\n",
       "var withLabel = true;\r\n",
       "var position = \"rt\";\r\n",
       "var offset = [-300, -40];\r\n",
       "var _name = \"Y\";\r\n",
       "var _withLabel = true;\r\n",
       "var _position = \"rt\";\r\n",
       "var rotate = 90;\r\n",
       "var _offset = [-40, -300];\r\n",
       "var b = JXG.JSXGraph.initBoard(\"5f23966b-ab8e-4184-966f-4913b84439e8\", {axis: true, boundingbox: boundingbox, defaultAxes: {x: {label: {anchorX: \"middle\", offset: offset, position: position}, name: name, withLabel: withLabel}, y: {label: {anchorX: \"middle\", offset: _offset, position: _position, rotate: rotate}, name: _name, withLabel: _withLabel}}, keepAspectRatio: keepAspectRatio, showCopyright: showCopyright, showNavigation: showNavigation});\r\n",
       "var strokeColor = \"blue\";\r\n",
       "var strokeWidth = 1;\r\n",
       "var __withLabel = true;\r\n",
       "var fg0 = b.create('functiongraph', [(function(q1)\r\n",
       "{\r\n",
       "    return (64.000000 / q1);\r\n",
       "}), 0.000000, 10.000000], {name: \"$$q2 = 8.0(q1) = \\\\frac{64}{q1}$$\", strokeColor: strokeColor, strokeWidth: strokeWidth, withLabel: __withLabel});\r\n",
       "var _strokeColor = \"blue\";\r\n",
       "var _strokeWidth = 1;\r\n",
       "var ___withLabel = true;\r\n",
       "var fg1 = b.create('functiongraph', [(function(q1)\r\n",
       "{\r\n",
       "    return (225.000000 / q1);\r\n",
       "}), 0.000000, 10.000000], {name: \"$$q2 = 15.0(q1) = \\\\frac{225}{q1}$$\", strokeColor: _strokeColor, strokeWidth: _strokeWidth, withLabel: ___withLabel});\r\n",
       "var __strokeColor = \"blue\";\r\n",
       "var __strokeWidth = 1;\r\n",
       "var ____withLabel = true;\r\n",
       "var fg2 = b.create('functiongraph', [(function(q1)\r\n",
       "{\r\n",
       "    return (676.000000 / q1);\r\n",
       "}), 0.000000, 10.000000], {name: \"$$q2 = 26.0(q1) = \\\\frac{676}{q1}$$\", strokeColor: __strokeColor, strokeWidth: __strokeWidth, withLabel: ____withLabel});\r\n",
       "var t = b.create('text', [((10.000000 - 0.000000) * 0.500000), (100.000000 - ((100.000000 - 0.000000) / 10.000000)), \"\"], Board__invisible);\r\n",
       "b});</script>\r\n",
       "</div>\r\n"
      ]
     },
     "execution_count": 6,
     "metadata": {},
     "output_type": "execute_result"
    }
   ],
   "source": [
    "open System.Collections.Generic\n",
    "open System.Linq\n",
    "\n",
    "open FSharp.Quotations\n",
    "open FSharp.Quotations.DerivedPatterns\n",
    "\n",
    "open MathNet.Numerics\n",
    "\n",
    "open FunScript\n",
    "open FunScript.Bindings.JSXGraph\n",
    "\n",
    "open Economics\n",
    "type ConsumerPreferenceView =\n",
    "| UtililtyMaximization\n",
    "            \n",
    "let drawx (attrs:'a) (x:ConsumerPreference) =\n",
    "     let view = if has_prop<ConsumerPreferenceView> \"View\" attrs then get_prop<ConsumerPreferenceView> \"View\" attrs else failwith \"A view must be specified for this consumer preference diagram\"\n",
    "            \n",
    "     match view with\n",
    "     | UtililtyMaximization ->\n",
    "            let uvals = if has_prop<real list> \"U\" attrs then get_prop<real list> \"U\" attrs else failwith \"You must specify some utility values to plot indifference curves.\" \n",
    "            let fs = uvals |> Seq.map(fun v -> utilfun_im (sprintf \"%s = %A\" x.q2.Name v) x.q2 (x.U == v) :> IRealFunction<RealFunction>)\n",
    "            //let Y = get_prop_else<real*real> \"Y\" (0.,10.) attrs \n",
    "            //let p1 = get_prop_else<real*real> \"p1\" (0.,10.) attrs\n",
    "            //let p2 = get_prop_else<real*real> \"p2\" (0.,10.) attrs\n",
    "\n",
    "            WebVisualization.draw_realfuns attrs (fs |> Seq.map(fun x->x.Html()) |> Seq.toArray) (fs |> Seq.map(fun x ->x.Term.MapExpr) |> Seq.toArray) |> draw_board\n",
    "    \n",
    "let m = econ_model<ConsumerPreference>\n",
    "m.U <- utilfun2 \"U\" ((m.q1 * m.q2) *** 0.5)\n",
    "drawx ({|View=ConsumerPreferenceView.UtililtyMaximization; U = [8.; 15.; 26.]; xrange=(0.,10.);yrange=(0.,100.)|}) m"
   ]
  },
  {
   "cell_type": "code",
   "execution_count": 48,
   "id": "4cbeeadb",
   "metadata": {},
   "outputs": [
    {
     "name": "stderr",
     "output_type": "stream",
     "text": [
      "\r\n",
      "input.fsx (1,11)-(1,15) typecheck error The value, constructor, namespace or type 'Util' is not defined.\r\n",
      "\r\n"
     ]
    },
    {
     "ename": "Error",
     "evalue": "compilation error",
     "output_type": "error",
     "traceback": []
    }
   ],
   "source": [
    "Sylvester.Util.Html"
   ]
  },
  {
   "cell_type": "code",
   "execution_count": null,
   "id": "9ed4255c",
   "metadata": {},
   "outputs": [],
   "source": []
  },
  {
   "cell_type": "code",
   "execution_count": null,
   "id": "eac4d482",
   "metadata": {},
   "outputs": [],
   "source": []
  }
 ],
 "metadata": {
  "celltoolbar": "Slideshow",
  "kernelspec": {
   "display_name": ".NET (F#)",
   "language": "F#",
   "name": ".net-fsharp"
  },
  "language_info": {
   "file_extension": ".fs",
   "mimetype": "text/x-fsharp",
   "name": "F#",
   "pygments_lexer": "fsharp",
   "version": "8.0"
  },
  "rise": {
   "overlay": "<div class='myheader'><img src='https://functionalconf.com/wp-content/uploads/2024/09/Functional-Conf-Horizontal-Logo-170px.png' style='width:160px;height:100px'/><b>FUNCTIONAL CONF '25</b>&nbsp;&nbsp;&nbsp;A Functional EDSL for Economics Concepts and Models</center></div>",
   "theme": "simple"
  }
 },
 "nbformat": 4,
 "nbformat_minor": 5
}
