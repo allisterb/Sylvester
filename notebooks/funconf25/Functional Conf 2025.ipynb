{
 "cells": [
  {
   "cell_type": "markdown",
   "id": "65295bb7",
   "metadata": {
    "slideshow": {
     "slide_type": "slide"
    },
    "tags": []
   },
   "source": [
    "<center>\n",
    "    <h2> A Functional EDSL for Economics Concepts and Models</h2>\n",
    "    <div>\n",
    "        <div style=\"margin: auto;width:800px\">\n",
    "        <img src=\"fsharplogo3.png\" style=\"width:200px;height:200px;float:left;margin-right:10px\"/>\n",
    "        <img src=\"economics.png\" style=\"width:200px;height:200px;float:left;margin-right:10px\"/>\n",
    "        <img src=\"gt.jpg\" style=\"width:200px;height:200px;float:left;margin-right:10px\"/>\n",
    "        </div>\n",
    "        <br/>\n",
    "        <div style=\"float:none;clear:left\">\n",
    "            <img src=\"Functional-Conf-Horizontal-Logo-170px.png\" style=\"width:300px\" />\n",
    "        </div>\n",
    "    </div>\n",
    "        <h2> Allister Beharry </h2>\n",
    "    <h2> 25th January 2025</h2>\n",
    "</center>\n"
   ]
  },
  {
   "cell_type": "markdown",
   "id": "b0fbac3b",
   "metadata": {
    "slideshow": {
     "slide_type": "slide"
    }
   },
   "source": [
    "# Introduction\n",
    "![img](econ2.jpg)"
   ]
  },
  {
   "cell_type": "markdown",
   "id": "e9e013a9",
   "metadata": {
    "slideshow": {
     "slide_type": "slide"
    }
   },
   "source": [
    "# Introduction\n",
    "## About Me\n",
    "* .NET programmer for > 20 years, F# programmer ~ 5 years\n",
    "* Currently student at University of London EMFSS\n",
    "* Interested in open source mathematical computing, software and languages in math education"
   ]
  },
  {
   "cell_type": "markdown",
   "id": "6deb4c42",
   "metadata": {
    "slideshow": {
     "slide_type": "slide"
    }
   },
   "source": [
    "## Introduction\n",
    "## About F#\n",
    "\n",
    "* Hybrid, functional-first, object-based open-source .NET language from Microsoft\n",
    "* Member of the ML family of functional programming languages, like OCaml\n",
    "* Can run in desktop IDEs, web browsers, Jupyter notebooks (like this one)\n",
    "* Used in many different areas including financial programming, web development,...\n",
    "* Contains features that make it easier to be used interactively and interoperate with dynamic languages"
   ]
  },
  {
   "cell_type": "markdown",
   "id": "6d7ecaf8",
   "metadata": {
    "slideshow": {
     "slide_type": "slide"
    },
    "tags": []
   },
   "source": [
    "<center>\n",
    "    <h2> A Functional EDSL for Economics Concepts and Models</h2>\n",
    "    <div>\n",
    "        \n",
    "        <img src=\"fsharplogo3.png\" />\n",
    "\n",
    "        <img src=\"Functional-Conf-Horizontal-Logo-170px.png\" />\n",
    "    </div>\n",
    "        <h2> Allister Beharry </h2>\n",
    "    <h2> 11th October 2023</h2>\n",
    "</center>\n"
   ]
  },
  {
   "cell_type": "code",
   "execution_count": 11,
   "id": "distinct-screw",
   "metadata": {
    "slideshow": {
     "slide_type": "skip"
    },
    "tags": []
   },
   "outputs": [],
   "source": [
    "#load \"Include.fsx\""
   ]
  },
  {
   "cell_type": "markdown",
   "id": "807af1ab",
   "metadata": {
    "slideshow": {
     "slide_type": "slide"
    }
   },
   "source": [
    "## Starting up"
   ]
  },
  {
   "cell_type": "code",
   "execution_count": 2,
   "id": "august-beverage",
   "metadata": {
    "slideshow": {
     "slide_type": "fragment"
    },
    "tags": []
   },
   "outputs": [],
   "source": [
    "// Open namespaces and modules\n",
    "open Sylvester\n",
    "open RealNumbers"
   ]
  },
  {
   "cell_type": "code",
   "execution_count": 3,
   "id": "stupid-mystery",
   "metadata": {
    "slideshow": {
     "slide_type": "fragment"
    },
    "tags": []
   },
   "outputs": [
    {
     "name": "stdout",
     "output_type": "stream",
     "text": [
      "Using default console logger.\n",
      "Process cmd started with pid 35532.\n"
     ]
    }
   ],
   "source": [
    "// Initialize the Maxima CAS\n",
    "do CAS.Maxima.init \"C:\\\\MathTools\\\\maxima-5.44.0\\\\bin\\\\maxima.bat\""
   ]
  },
  {
   "cell_type": "code",
   "execution_count": 4,
   "id": "changed-observer",
   "metadata": {
    "slideshow": {
     "slide_type": "skip"
    },
    "tags": []
   },
   "outputs": [],
   "source": [
    "open Microsoft.DotNet.Interactive.Formatting\n",
    "do Formatter.Register<IHtmlDisplay>((fun (hd:IHtmlDisplay) -> hd.Html()),  \"text/html\")\n",
    "do Formatter.Register<Sylvester.Html>((fun (h) -> h.ToString()),  \"text/html\")"
   ]
  },
  {
   "cell_type": "code",
   "execution_count": 5,
   "id": "metallic-prospect",
   "metadata": {
    "slideshow": {
     "slide_type": "slide"
    },
    "tags": []
   },
   "outputs": [
    {
     "data": {
      "text/html": [
       "$$f(x) = x^{3} + 1$$"
      ]
     },
     "execution_count": 5,
     "metadata": {},
     "output_type": "execute_result"
    }
   ],
   "source": [
    "// Define a real variable and function of a single variable\n",
    "let x = realvar \"x\"\n",
    "let f = realfun \"f\" (x *** 3 + 1)\n",
    "f"
   ]
  },
  {
   "cell_type": "code",
   "execution_count": null,
   "id": "baf37946",
   "metadata": {
    "slideshow": {
     "slide_type": "slide"
    }
   },
   "outputs": [],
   "source": [
    "// Sylvester functions overload the [] operator for symboli\n",
    "f[5]"
   ]
  },
  {
   "cell_type": "code",
   "execution_count": null,
   "id": "3afb169c",
   "metadata": {},
   "outputs": [],
   "source": [
    "// Sylvester functions are fully symbolic e.g. define a real constant\n",
    "let a = realconst \"a\"\n",
    "\n",
    "f[a] + 1"
   ]
  },
  {
   "cell_type": "code",
   "execution_count": null,
   "id": "alternative-disney",
   "metadata": {
    "tags": []
   },
   "outputs": [],
   "source": [
    "CAS.Maxima.last_output 10"
   ]
  },
  {
   "cell_type": "code",
   "execution_count": 6,
   "id": "generous-macedonia",
   "metadata": {
    "slideshow": {
     "slide_type": "slide"
    },
    "tags": []
   },
   "outputs": [
    {
     "data": {
      "text/html": [
       "<div>\r\n",
       " <div id=\"e062a306-57e5-45a7-9e9d-f1d12d989208\" class=\"jxgbox\" style=\"width:100%;height:640px\"></div>\r\n",
       " <script>require(['https://cdn.jsdelivr.net/npm/jsxgraph/distrib/jsxgraphcore.js'], function(JXG) {\n",
       "JXG.Options.text.useMathJax = true;\n",
       "var MathJS__Pow$;\r\n",
       "MathJS__Pow$ = (function(x,y)\r\n",
       "{\r\n",
       "    return Math.pow(x, y);;\r\n",
       "});\r\n",
       "var boundingbox = [(0.000000 - ((10.000000 - 0.000000) / 10.000000)), (1001.000000 + ((1001.000000 - 1.000000) / 10.000000)), (10.000000 + (10.000000 / 10.000000)), (1.000000 - (1001.000000 / 10.000000))];\r\n",
       "var showNavigation = true;\r\n",
       "var showCopyright = false;\r\n",
       "var keepAspectRatio = false;\r\n",
       "var name = \"quantity\";\r\n",
       "var withLabel = true;\r\n",
       "var position = \"rt\";\r\n",
       "var offset = [-300, -40];\r\n",
       "var _name = \"price\";\r\n",
       "var _withLabel = true;\r\n",
       "var _position = \"rt\";\r\n",
       "var rotate = 90;\r\n",
       "var _offset = [-40, -300];\r\n",
       "var b = JXG.JSXGraph.initBoard(\"e062a306-57e5-45a7-9e9d-f1d12d989208\", {axis: true, boundingbox: boundingbox, defaultAxes: {x: {label: {anchorX: \"middle\", offset: offset, position: position}, name: name, withLabel: withLabel}, y: {label: {anchorX: \"middle\", offset: _offset, position: _position, rotate: rotate}, name: _name, withLabel: _withLabel}}, keepAspectRatio: keepAspectRatio, showCopyright: showCopyright, showNavigation: showNavigation});\r\n",
       "var strokeColor = \"red\";\r\n",
       "var strokeWidth = 3;\r\n",
       "var __withLabel = true;\r\n",
       "var fg = b.create('functiongraph', [(function(x)\r\n",
       "{\r\n",
       "    return (MathJS__Pow$(x, 3.000000) + 1.000000);\r\n",
       "}), 0.000000, 10.000000], {name: \"$$f(x) = x^{3} + 1$$\", strokeColor: strokeColor, strokeWidth: strokeWidth, withLabel: __withLabel});\r\n",
       "var t = b.create('text', [((10.000000 - 0.000000) * 0.500000), (1001.000000 - ((1001.000000 - 1.000000) / 10.000000)), \"Worldwide Coffee Supply\"], {fontSize: 24});\r\n",
       "b});</script>\r\n",
       "</div>\r\n"
      ]
     },
     "execution_count": 6,
     "metadata": {},
     "output_type": "execute_result"
    }
   ],
   "source": [
    "let graph = \n",
    "    {|\n",
    "        xtitle=\"quantity\"\n",
    "        ytitle=\"price\"\n",
    "        strokeColor=red\n",
    "        strokeWidth=3\n",
    "        title=\"Worldwide Coffee Supply\" \n",
    "    |}\n",
    "in draw graph f"
   ]
  },
  {
   "cell_type": "code",
   "execution_count": 13,
   "id": "presidential-german",
   "metadata": {
    "slideshow": {
     "slide_type": "slide"
    }
   },
   "outputs": [],
   "source": [
    "module GameTheory =\n",
    "    open SharpGambit\n",
    "    let nfg_2p (title:string) (player1_strategies:string[]) (player2_strategies:string[]) = \n",
    "        NormalFormGame.TwoPlayerGame(title, player1_strategies, player2_strategies)"
   ]
  },
  {
   "cell_type": "code",
   "execution_count": 14,
   "id": "a028f385",
   "metadata": {},
   "outputs": [
    {
     "data": {
      "text/plain": [
       "Prisoner's Dilemna"
      ]
     },
     "execution_count": 14,
     "metadata": {},
     "output_type": "execute_result"
    }
   ],
   "source": [
    "open GameTheory\n",
    "let g = nfg_2p \"Prisoner's Dilemna\" [|\"Fink\"; \"Quiet\"|] [|\"Fink\"; \"Quiet\"|]\n",
    "g.Title"
   ]
  },
  {
   "cell_type": "code",
   "execution_count": null,
   "id": "980ae0bf",
   "metadata": {},
   "outputs": [],
   "source": []
  }
 ],
 "metadata": {
  "celltoolbar": "Slideshow",
  "kernelspec": {
   "display_name": ".NET (F#)",
   "language": "F#",
   "name": ".net-fsharp"
  },
  "language_info": {
   "file_extension": ".fs",
   "mimetype": "text/x-fsharp",
   "name": "F#",
   "pygments_lexer": "fsharp",
   "version": "8.0"
  },
  "rise": {
   "backimage": "econ2.png",
   "overlay": "<div class='myheader'><img src='https://functionalconf.com/wp-content/uploads/2024/09/Functional-Conf-Horizontal-Logo-170px.png' style='width:160px;height:100px'/><b>FUNCTIONAL CONF '25</b>&nbsp;&nbsp;&nbsp;A Functional EDSL for Economics Concepts and Models</center></div>",
   "theme": "simple"
  }
 },
 "nbformat": 4,
 "nbformat_minor": 5
}
