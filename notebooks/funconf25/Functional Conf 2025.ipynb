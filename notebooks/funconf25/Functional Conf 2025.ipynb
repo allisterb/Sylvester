{
 "cells": [
  {
   "cell_type": "code",
   "execution_count": 1,
   "id": "b605477f",
   "metadata": {
    "slideshow": {
     "slide_type": "skip"
    },
    "tags": []
   },
   "outputs": [
    {
     "data": {
      "text/html": [
       "\r\n",
       "<div>\r\n",
       "    <div id='dotnet-interactive-this-cell-76712.Microsoft.DotNet.Interactive.Http.HttpPort' style='display: none'>\r\n",
       "        The below script needs to be able to find the current output cell; this is an easy method to get it.\r\n",
       "    </div>\r\n",
       "    <script type='text/javascript'>\r\n",
       "async function probeAddresses(probingAddresses) {\r\n",
       "    function timeout(ms, promise) {\r\n",
       "        return new Promise(function (resolve, reject) {\r\n",
       "            setTimeout(function () {\r\n",
       "                reject(new Error('timeout'))\r\n",
       "            }, ms)\r\n",
       "            promise.then(resolve, reject)\r\n",
       "        })\r\n",
       "    }\r\n",
       "\r\n",
       "    if (Array.isArray(probingAddresses)) {\r\n",
       "        for (let i = 0; i < probingAddresses.length; i++) {\r\n",
       "\r\n",
       "            let rootUrl = probingAddresses[i];\r\n",
       "\r\n",
       "            if (!rootUrl.endsWith('/')) {\r\n",
       "                rootUrl = `${rootUrl}/`;\r\n",
       "            }\r\n",
       "\r\n",
       "            try {\r\n",
       "                let response = await timeout(1000, fetch(`${rootUrl}discovery`, {\r\n",
       "                    method: 'POST',\r\n",
       "                    cache: 'no-cache',\r\n",
       "                    mode: 'cors',\r\n",
       "                    timeout: 1000,\r\n",
       "                    headers: {\r\n",
       "                        'Content-Type': 'text/plain'\r\n",
       "                    },\r\n",
       "                    body: probingAddresses[i]\r\n",
       "                }));\r\n",
       "\r\n",
       "                if (response.status == 200) {\r\n",
       "                    return rootUrl;\r\n",
       "                }\r\n",
       "            }\r\n",
       "            catch (e) { }\r\n",
       "        }\r\n",
       "    }\r\n",
       "}\r\n",
       "\r\n",
       "function loadDotnetInteractiveApi() {\r\n",
       "    probeAddresses([\"http://192.168.56.1:1000/\", \"http://192.168.169.1:1000/\", \"http://192.168.128.1:1000/\", \"http://192.168.8.190:1000/\", \"http://127.0.0.1:1000/\"])\r\n",
       "        .then((root) => {\r\n",
       "        // use probing to find host url and api resources\r\n",
       "        // load interactive helpers and language services\r\n",
       "        let dotnetInteractiveRequire = require.config({\r\n",
       "        context: '76712.Microsoft.DotNet.Interactive.Http.HttpPort',\r\n",
       "                paths:\r\n",
       "            {\r\n",
       "                'dotnet-interactive': `${root}resources`\r\n",
       "                }\r\n",
       "        }) || require;\r\n",
       "\r\n",
       "            window.dotnetInteractiveRequire = dotnetInteractiveRequire;\r\n",
       "\r\n",
       "            window.configureRequireFromExtension = function(extensionName, extensionCacheBuster) {\r\n",
       "                let paths = {};\r\n",
       "                paths[extensionName] = `${root}extensions/${extensionName}/resources/`;\r\n",
       "                \r\n",
       "                let internalRequire = require.config({\r\n",
       "                    context: extensionCacheBuster,\r\n",
       "                    paths: paths,\r\n",
       "                    urlArgs: `cacheBuster=${extensionCacheBuster}`\r\n",
       "                    }) || require;\r\n",
       "\r\n",
       "                return internalRequire\r\n",
       "            };\r\n",
       "        \r\n",
       "            dotnetInteractiveRequire([\r\n",
       "                    'dotnet-interactive/dotnet-interactive'\r\n",
       "                ],\r\n",
       "                function (dotnet) {\r\n",
       "                    dotnet.init(window);\r\n",
       "                },\r\n",
       "                function (error) {\r\n",
       "                    console.log(error);\r\n",
       "                }\r\n",
       "            );\r\n",
       "        })\r\n",
       "        .catch(error => {console.log(error);});\r\n",
       "    }\r\n",
       "\r\n",
       "// ensure `require` is available globally\r\n",
       "if ((typeof(require) !==  typeof(Function)) || (typeof(require.config) !== typeof(Function))) {\r\n",
       "    let require_script = document.createElement('script');\r\n",
       "    require_script.setAttribute('src', 'https://cdnjs.cloudflare.com/ajax/libs/require.js/2.3.6/require.min.js');\r\n",
       "    require_script.setAttribute('type', 'text/javascript');\r\n",
       "    \r\n",
       "    \r\n",
       "    require_script.onload = function() {\r\n",
       "        loadDotnetInteractiveApi();\r\n",
       "    };\r\n",
       "\r\n",
       "    document.getElementsByTagName('head')[0].appendChild(require_script);\r\n",
       "}\r\n",
       "else {\r\n",
       "    loadDotnetInteractiveApi();\r\n",
       "}\r\n",
       "\r\n",
       "    </script>\r\n",
       "</div>"
      ]
     },
     "metadata": {},
     "output_type": "display_data"
    }
   ],
   "source": [
    "#load \"Include.fsx\""
   ]
  },
  {
   "cell_type": "code",
   "execution_count": 2,
   "id": "b9945bd3",
   "metadata": {
    "slideshow": {
     "slide_type": "skip"
    },
    "tags": []
   },
   "outputs": [],
   "source": [
    "#nowarn \"3391\"\n",
    "\n",
    "open Sylvester\n",
    "open SharpGambit\n",
    "open Microsoft.DotNet.Interactive.Formatting\n",
    "\n",
    "do Formatter.Register<IHtmlDisplay>((fun (hd:Sylvester.IHtmlDisplay) -> hd.Html()),  \"text/html\")\n",
    "do Formatter.Register<Sylvester.Html>((fun (h) -> h.ToString()),  \"text/html\")\n",
    "do Formatter.Register<Sylvester.ScalarVarMap<real> list>((fun (l:  Sylvester.ScalarVarMap<real> list) -> \"$$\" + (l |> List.map(fun m -> sprintf (\"%s = %s\") (latexe m.Lhs.Expr) (latexe m.Rhs.Expr)) |> List.reduce (fun x y -> x + \", \" + y)) + \"$$\"), \"text/html\")\n",
    "do Formatter.Register<Sylvester.ScalarEquation<real> list>((fun (l:  Sylvester.ScalarEquation<real> list) ->  l |> List.map(fun m -> \"$$\" + (sprintf (\"%s = %s\") (latexe m.Lhs.Expr) (latexe m.Rhs.Expr)) + \"$$\") |> List.reduce (fun x y -> x + \"\" + y)), \"text/html\")\n",
    "do Formatter.Register<FSharp.Quotations.Expr<FunScript.Bindings.JSXGraph.Board>>((fun (b:FSharp.Quotations.Expr<FunScript.Bindings.JSXGraph.Board>) -> (draw_board b).ToString()), \"text/html\")\n",
    "do Formatter.Register<SharpGambit.NormalFormGame>((fun (g:SharpGambit.NormalFormGame) -> g.Html),  \"text/html\")\n",
    "do Formatter.Register<SharpGambit.PureStrategySolution>((fun (g:SharpGambit.PureStrategySolution) -> g.Html),  \"text/html\")\n",
    "do Formatter.Register<SharpGambit.MixedStrategySolution>((fun (g:SharpGambit.MixedStrategySolution) -> g.Html),  \"text/html\")\n",
    "\n",
    "do SharpGambit.Game.HtmlLatexMode <- false"
   ]
  },
  {
   "cell_type": "code",
   "execution_count": 9,
   "id": "653cc784",
   "metadata": {
    "slideshow": {
     "slide_type": "slide"
    }
   },
   "outputs": [
    {
     "data": {
      "text/html": [
       "<script type=\"text/javascript\">\n",
       "if (typeof window.createDotnetInteractiveClient === typeof Function) {\n",
       "    window.createDotnetInteractiveClient('http://192.168.56.1:1000/').then(async function (interactive) {\n",
       "        const console = interactive.getConsole('97632668c7ac4e7aafc3d0292cee8cee');\n",
       "        const notebookScope = getDotnetInteractiveScope('http://192.168.56.1:1000/');\n",
       "        try {\n",
       "\n",
       "await Object.getPrototypeOf(async function() {}).constructor(\n",
       "    \"interactive\",\n",
       "    \"console\",\n",
       "    \"notebookScope\",\n",
       "    \"Reveal.addEventListener(\\u0027slidechanged\\u0027, (event) =\\u003e {\\n  // event.previousSlide, event.currentSlide, event.indexh, event.indexv\\n  if (event.indexh == 1)\\n  {\\n      document.getElementsByClassName(\\\"myheader\\\")[0].style.visibility = \\\"hidden\\\"; \\n  }\\n  else\\n  {\\n      document.getElementsByClassName(\\\"myheader\\\")[0].style.visibility = \\\"visible\\\";\\n  }\\n});\"\n",
       ")(\n",
       "    interactive,\n",
       "    console,\n",
       "    notebookScope\n",
       ");\n",
       "\n",
       "        } catch (err) {\n",
       "            interactive.failCommand(err, '97632668c7ac4e7aafc3d0292cee8cee');\n",
       "        } finally {\n",
       "            await interactive.waitForAllEventsToPublish('97632668c7ac4e7aafc3d0292cee8cee');\n",
       "            await interactive.markExecutionComplete('97632668c7ac4e7aafc3d0292cee8cee');\n",
       "        }\n",
       "    });\n",
       "}\n",
       "</script>"
      ]
     },
     "metadata": {},
     "output_type": "display_data"
    }
   ],
   "source": [
    "#!javascript\n",
    "Reveal.addEventListener('slidechanged', (event) => {\n",
    "  // event.previousSlide, event.currentSlide, event.indexh, event.indexv\n",
    "  if (event.indexh == 1)\n",
    "  {\n",
    "      document.getElementsByClassName(\"myheader\")[0].style.visibility = \"hidden\"; \n",
    "  }\n",
    "  else\n",
    "  {\n",
    "      document.getElementsByClassName(\"myheader\")[0].style.visibility = \"visible\";\n",
    "  }\n",
    "});"
   ]
  },
  {
   "cell_type": "markdown",
   "id": "0887c825",
   "metadata": {
    "hide_input": false,
    "slideshow": {
     "slide_type": "slide"
    },
    "tags": []
   },
   "source": [
    "<center>\n",
    "    <h2> A Functional EDSL for Economics Concepts and Models</h2>\n",
    "    <div style=\"margin-top:30px\">\n",
    "        <div style=\"margin: auto;width:1400px\">\n",
    "        <img src=\"economics.png\" style=\"width:400px;height:400px;float:left;margin-right:10px\"/>\n",
    "        <img src=\"fsharplogo3.png\" style=\"width:400px;height:400px;float:left;margin-right:10px\"/>\n",
    "        <img src=\"gt.jpg\" style=\"width:400px;height:400px;float:left;margin-right:10px\"/>\n",
    "        </div>\n",
    "        <br/>\n",
    "        <div style=\"float:none;clear:left\">\n",
    "            <img src=\"Functional-Conf-Horizontal-Logo-170px.png\" style=\"width:300px\" />\n",
    "        </div>\n",
    "    </div>\n",
    "        <h3> Allister Beharry </h2>\n",
    "    <h3> 25th January 2025</h3>\n",
    "</center>\n"
   ]
  },
  {
   "cell_type": "markdown",
   "id": "409bc80a",
   "metadata": {
    "slideshow": {
     "slide_type": "slide"
    }
   },
   "source": [
    "# Introduction\n",
    "## About Me\n",
    "* .NET programmer for ~ 25 years, F# programmer ~ 6 years\n",
    "* Currently student at University of London\n",
    "* Interested in open source mathematical computing, software and languages in math education"
   ]
  },
  {
   "cell_type": "markdown",
   "id": "6deb4c42",
   "metadata": {
    "slideshow": {
     "slide_type": "slide"
    }
   },
   "source": [
    "## Introduction\n",
    "## About F#\n",
    "\n",
    "* Hybrid, functional-first, object-based open-source .NET language from Microsoft\n",
    "* Member of the ML family of functional programming languages, like OCaml\n",
    "* Can run in desktop IDEs, web browsers, Jupyter notebooks (like this one)\n",
    "* Used in many different areas including financial programming, web development,...\n",
    "* Contains features that make it easier to be used interactively and interoperate with dynamic languages\n",
    "* Can interoperate with C/C++ libraries or any library with a C ABI"
   ]
  },
  {
   "cell_type": "markdown",
   "id": "6d7ecaf8",
   "metadata": {
    "slideshow": {
     "slide_type": "slide"
    },
    "tags": []
   },
   "source": [
    "## Introduction\n",
    "### About Sylvester\n"
   ]
  },
  {
   "cell_type": "markdown",
   "id": "d7ea6354",
   "metadata": {
    "slideshow": {
     "slide_type": "fragment"
    }
   },
   "source": [
    "* F# EDSL for mathematical computing and visualization"
   ]
  },
  {
   "cell_type": "markdown",
   "id": "8d834bf8",
   "metadata": {
    "slideshow": {
     "slide_type": "fragment"
    }
   },
   "source": [
    "* Provide a unified notatation for symbolic, logical, visual aspects of mathematics"
   ]
  },
  {
   "cell_type": "markdown",
   "id": "c26099d8",
   "metadata": {
    "slideshow": {
     "slide_type": "fragment"
    }
   },
   "source": [
    "* Provide syntax and types for expressing formulas and properties and operations and theorems and interactive diagrams from different mathematical domains"
   ]
  },
  {
   "cell_type": "markdown",
   "id": "03c8b487",
   "metadata": {
    "slideshow": {
     "slide_type": "fragment"
    }
   },
   "source": [
    "* Provide unified functional language interface to different open-source tools and libraries for mathematical computing - Maxima, Z3, Gambit, JSXGraph.... "
   ]
  },
  {
   "cell_type": "markdown",
   "id": "c24733c5",
   "metadata": {
    "slideshow": {
     "slide_type": "slide"
    }
   },
   "source": [
    "## Introduction\n",
    "### About EDSLs\n",
    "\n",
    "* Embedded Domain Specific Languages \"...exploit the syntax of their host general purpose language or a subset thereof while adding domain-specific language elements (data types, routines, methods, macros etc.).\""
   ]
  },
  {
   "cell_type": "markdown",
   "id": "c8662f3b",
   "metadata": {
    "slideshow": {
     "slide_type": "fragment"
    }
   },
   "source": [
    "* EDSLs allow you to utilize all the tooling, libraries, documentation, etc. of the host language while creating type and syntax support for different domains "
   ]
  },
  {
   "cell_type": "markdown",
   "id": "39180bde",
   "metadata": {
    "slideshow": {
     "slide_type": "fragment"
    }
   },
   "source": [
    "* F# supports implementing EDSLs with features like custom operators, operator overloading, and quotations"
   ]
  },
  {
   "cell_type": "markdown",
   "id": "350e0dd0",
   "metadata": {
    "slideshow": {
     "slide_type": "fragment"
    }
   },
   "source": [
    "* EDSLs in F# can also be compiled to different low-level languages like JavaScript."
   ]
  },
  {
   "cell_type": "markdown",
   "id": "efd18948",
   "metadata": {
    "slideshow": {
     "slide_type": "slide"
    }
   },
   "source": [
    "## Introduction\n",
    "### Why Sylvester?\n",
    "<div style=\"float:left\">\n",
    "    <h3> Math education in ancient times </h3>\n",
    "    <img src=\"https://miro.medium.com/v2/resize:fit:1100/format:webp/0*6yXIe83hJbIaf6m4.jpg\">\n",
    "</div>\n",
    "<div style=\"float:right\">\n",
    "     <h3> Math education in the 21st century </h3>\n",
    "    <img src=\"https://ajb.nyc3.cdn.digitaloceanspaces.com/funcon25/schools.webp\"/>\n",
    "</div>\n",
    "<div style=\"clear:right\">\n",
    "    <br>\n",
    "    <center><h3>Computers and software have not fundamentally altered the core processes of math education. Can we change this?</h3></center>\n",
    "</div>"
   ]
  },
  {
   "cell_type": "code",
   "execution_count": 15,
   "id": "d21a9d2e",
   "metadata": {
    "slideshow": {
     "slide_type": "skip"
    }
   },
   "outputs": [
    {
     "data": {
      "text/html": [
       "<link href=\"https://cdn.jsdelivr.net/npm/jsxgraph/distrib/jsxgraph.css\" rel=\"stylesheet\" type=\"text/css\" />\n",
       "<script src=\"https://cdn.jsdelivr.net/npm/jsxgraph@1.4.6/distrib/jsxgraphcore.js\" type=\"text/javascript\" charset=\"UTF-8\"></script>"
      ]
     },
     "metadata": {},
     "output_type": "display_data"
    }
   ],
   "source": [
    "#!html\n",
    "<link href=\"https://cdn.jsdelivr.net/npm/jsxgraph/distrib/jsxgraph.css\" rel=\"stylesheet\" type=\"text/css\" />\n",
    "<script src=\"https://cdn.jsdelivr.net/npm/jsxgraph@1.4.6/distrib/jsxgraphcore.js\" type=\"text/javascript\" charset=\"UTF-8\"></script>"
   ]
  },
  {
   "cell_type": "markdown",
   "id": "807af1ab",
   "metadata": {
    "slideshow": {
     "slide_type": "slide"
    }
   },
   "source": [
    "## Sylvester :: Expressions and Functions"
   ]
  },
  {
   "cell_type": "code",
   "execution_count": 3,
   "id": "august-beverage",
   "metadata": {
    "slideshow": {
     "slide_type": "fragment"
    },
    "tags": []
   },
   "outputs": [],
   "source": [
    "open Sylvester // Open Sylvester namespaces and modules"
   ]
  },
  {
   "cell_type": "code",
   "execution_count": 4,
   "id": "stupid-mystery",
   "metadata": {
    "slideshow": {
     "slide_type": "fragment"
    },
    "tags": []
   },
   "outputs": [
    {
     "name": "stdout",
     "output_type": "stream",
     "text": [
      "Using default console logger.\n",
      "Process cmd started with pid 15412.\n"
     ]
    }
   ],
   "source": [
    "do CAS.Maxima.init \"C:\\\\MathTools\\\\maxima-5.44.0\\\\bin\\\\maxima.bat\" // Initialize the Maxima CAS"
   ]
  },
  {
   "cell_type": "code",
   "execution_count": 5,
   "id": "2342c200",
   "metadata": {
    "slideshow": {
     "slide_type": "fragment"
    }
   },
   "outputs": [],
   "source": [
    "open RealNumbers  // open the real numbers module\n",
    "let x,y,z = realvar3 \"x\" \"y\" \"z\" //Define 3 symbolic real variables"
   ]
  },
  {
   "cell_type": "code",
   "execution_count": 6,
   "id": "87eee73d",
   "metadata": {
    "slideshow": {
     "slide_type": "fragment"
    }
   },
   "outputs": [
    {
     "data": {
      "text/html": [
       "$$\\frac{3x + 11}{(x^{2} - x - 6)}$$"
      ]
     },
     "execution_count": 6,
     "metadata": {},
     "output_type": "execute_result"
    }
   ],
   "source": [
    "let e1 = (3 * x + 11) / (x***2 - x - 6) // Define an algebraic expression\n",
    "e1"
   ]
  },
  {
   "cell_type": "code",
   "execution_count": 7,
   "id": "d0f2a31a",
   "metadata": {
    "slideshow": {
     "slide_type": "fragment"
    }
   },
   "outputs": [
    {
     "data": {
      "text/html": [
       "$$\\frac{11 + 3x}{(x - -3(2 + x))}$$"
      ]
     },
     "execution_count": 7,
     "metadata": {},
     "output_type": "execute_result"
    }
   ],
   "source": [
    "factor e1 // Factor expression"
   ]
  },
  {
   "cell_type": "code",
   "execution_count": 8,
   "id": "63045f1f",
   "metadata": {
    "slideshow": {
     "slide_type": "fragment"
    }
   },
   "outputs": [
    {
     "data": {
      "text/html": [
       "$$\\frac{4}{(x - -3)} - \\frac{1}{(2 + x)}$$"
      ]
     },
     "execution_count": 8,
     "metadata": {},
     "output_type": "execute_result"
    }
   ],
   "source": [
    "e1 |> factor |> partfrac_of x // Factor and expand into partial fractions  "
   ]
  },
  {
   "cell_type": "markdown",
   "id": "c69c3b1d",
   "metadata": {
    "slideshow": {
     "slide_type": "slide"
    }
   },
   "source": [
    "### Sylvester :: Expressions and Functions"
   ]
  },
  {
   "cell_type": "code",
   "execution_count": 9,
   "id": "metallic-prospect",
   "metadata": {
    "slideshow": {
     "slide_type": "fragment"
    },
    "tags": []
   },
   "outputs": [
    {
     "data": {
      "text/html": [
       "$$f(x) = x^{3} + 1$$"
      ]
     },
     "execution_count": 9,
     "metadata": {},
     "output_type": "execute_result"
    }
   ],
   "source": [
    "let f = realfun \"f\" (x *** 3 + 1) // Define a mathematical function of a single variable\n",
    "f"
   ]
  },
  {
   "cell_type": "code",
   "execution_count": 10,
   "id": "baf37946",
   "metadata": {
    "slideshow": {
     "slide_type": "fragment"
    }
   },
   "outputs": [
    {
     "data": {
      "text/html": [
       "$$126$$"
      ]
     },
     "execution_count": 10,
     "metadata": {},
     "output_type": "execute_result"
    }
   ],
   "source": [
    "f[5] // Sylvester functions overload the [] operator for mathematical function evaluation"
   ]
  },
  {
   "cell_type": "code",
   "execution_count": 11,
   "id": "3afb169c",
   "metadata": {
    "slideshow": {
     "slide_type": "fragment"
    }
   },
   "outputs": [
    {
     "data": {
      "text/html": [
       "$$28 + 1 + a^{3}$$"
      ]
     },
     "execution_count": 11,
     "metadata": {},
     "output_type": "execute_result"
    }
   ],
   "source": [
    "let a = realconst \"a\" // Sylvester functions are fully symbolic e.g. define a real constant \"a\"\n",
    "f[3] + f[a] // This is a symbolic scalar expression "
   ]
  },
  {
   "cell_type": "code",
   "execution_count": 12,
   "id": "e1902c86",
   "metadata": {
    "slideshow": {
     "slide_type": "fragment"
    }
   },
   "outputs": [
    {
     "data": {
      "text/html": [
       "$$245$$"
      ]
     },
     "execution_count": 12,
     "metadata": {},
     "output_type": "execute_result"
    }
   ],
   "source": [
    "fix {|a=6.|} (f[3] + f[a]) // We can fix constants and variables in symbolic expressions "
   ]
  },
  {
   "cell_type": "code",
   "execution_count": 13,
   "id": "1e4f9368",
   "metadata": {
    "slideshow": {
     "slide_type": "fragment"
    }
   },
   "outputs": [
    {
     "data": {
      "text/html": [
       "$$1 + x + {a}{x} + x^{3} + x^{4}$$"
      ]
     },
     "execution_count": 13,
     "metadata": {},
     "output_type": "execute_result"
    }
   ],
   "source": [
    "ratexpand (f[x] + x * (a + f[x])) //Expand algebraic expression"
   ]
  },
  {
   "cell_type": "code",
   "execution_count": 14,
   "id": "bcdc7494",
   "metadata": {
    "slideshow": {
     "slide_type": "fragment"
    }
   },
   "outputs": [
    {
     "data": {
      "text/html": [
       "$$1 + 1 + ax + x^{3} + x^{4}$$"
      ]
     },
     "execution_count": 14,
     "metadata": {},
     "output_type": "execute_result"
    }
   ],
   "source": [
    "(f[x] + x * (a + f[x])) |> ratexpand |> collect_terms x"
   ]
  },
  {
   "cell_type": "markdown",
   "id": "643e70d3",
   "metadata": {
    "slideshow": {
     "slide_type": "slide"
    }
   },
   "source": [
    "### Sylvester :: Calculus"
   ]
  },
  {
   "cell_type": "code",
   "execution_count": 15,
   "id": "5ebf71f4",
   "metadata": {
    "slideshow": {
     "slide_type": "fragment"
    }
   },
   "outputs": [
    {
     "data": {
      "text/html": [
       "$$f'(x) = 3x^2$$"
      ]
     },
     "execution_count": 15,
     "metadata": {},
     "output_type": "execute_result"
    }
   ],
   "source": [
    "diff x f // Find the derivative of f wrt x"
   ]
  },
  {
   "cell_type": "code",
   "execution_count": 16,
   "id": "fbf2975d",
   "metadata": {
    "slideshow": {
     "slide_type": "fragment"
    }
   },
   "outputs": [
    {
     "data": {
      "text/html": [
       "$$F(x) = x + \\frac{1}{4}x^4$$"
      ]
     },
     "execution_count": 16,
     "metadata": {},
     "output_type": "execute_result"
    }
   ],
   "source": [
    "integrate x f"
   ]
  },
  {
   "cell_type": "code",
   "execution_count": 17,
   "id": "33944f25",
   "metadata": {
    "slideshow": {
     "slide_type": "fragment"
    }
   },
   "outputs": [
    {
     "data": {
      "text/html": [
       "$$\\frac{1}{2}a^2 + \\frac{1}{20}a^5$$"
      ]
     },
     "execution_count": 17,
     "metadata": {},
     "output_type": "execute_result"
    }
   ],
   "source": [
    "// We can combine operations on functions in the usual way, e.g. integrate f twice wrt x and find limit as x -> a\n",
    "integrate x f |> integrate x |> lim x a"
   ]
  },
  {
   "cell_type": "code",
   "execution_count": 18,
   "id": "a07659d5",
   "metadata": {
    "slideshow": {
     "slide_type": "fragment"
    }
   },
   "outputs": [
    {
     "data": {
      "text/html": [
       "$$g(x,y) = (x + y)^{3} - 6xy + a$$"
      ]
     },
     "execution_count": 18,
     "metadata": {},
     "output_type": "execute_result"
    }
   ],
   "source": [
    "let g = realfun2 \"g\" ((x+y)***3 - 6*x*y + a) //Define a function of 2 variables\n",
    "g"
   ]
  },
  {
   "cell_type": "code",
   "execution_count": 19,
   "id": "67be0d49",
   "metadata": {
    "slideshow": {
     "slide_type": "fragment"
    }
   },
   "outputs": [
    {
     "data": {
      "text/html": [
       "$$g_y(x,y) = 3((x + y)^{2}) - 6x$$"
      ]
     },
     "execution_count": 19,
     "metadata": {},
     "output_type": "execute_result"
    }
   ],
   "source": [
    "diff y g // partial diffrentiation wrt y"
   ]
  },
  {
   "cell_type": "code",
   "execution_count": 20,
   "id": "ed95e9ec",
   "metadata": {
    "slideshow": {
     "slide_type": "fragment"
    }
   },
   "outputs": [
    {
     "data": {
      "text/html": [
       "$$0$$"
      ]
     },
     "execution_count": 20,
     "metadata": {},
     "output_type": "execute_result"
    }
   ],
   "source": [
    "lim x inf ((3 + x) / (x *** 2 + a)) //Find limits at infinity for an expression or function"
   ]
  },
  {
   "cell_type": "markdown",
   "id": "7e466574",
   "metadata": {
    "slideshow": {
     "slide_type": "slide"
    }
   },
   "source": [
    "### Sylvester :: Solving Equations"
   ]
  },
  {
   "cell_type": "code",
   "execution_count": 21,
   "id": "d994514b",
   "metadata": {
    "slideshow": {
     "slide_type": "fragment"
    }
   },
   "outputs": [
    {
     "data": {
      "text/html": [
       "$$x - 6x + y = 30 - {2}{a}$$$$x - y = 5 + a$$$$z = 5y + 2x$$"
      ]
     },
     "execution_count": 21,
     "metadata": {},
     "output_type": "execute_result"
    }
   ],
   "source": [
    "// Define an equation system. Sylvester uses == operator to denote mathematical or logic equality\n",
    "let eqns = [\n",
    "    x - 6 *x + y == 30 - 2 * a\n",
    "    x - y == 5 + a\n",
    "    z == 5 * y + 2 * x\n",
    "]\n",
    "eqns"
   ]
  },
  {
   "cell_type": "code",
   "execution_count": 22,
   "id": "969cd5b5",
   "metadata": {
    "slideshow": {
     "slide_type": "fragment"
    }
   },
   "outputs": [
    {
     "data": {
      "text/html": [
       "$$x = \\frac{1}{4}(a - -35), y = \\frac{-1}{4}(55 + {3}{a}), z = \\frac{-1}{4}(345 + {13}{a})$$"
      ]
     },
     "execution_count": 22,
     "metadata": {},
     "output_type": "execute_result"
    }
   ],
   "source": [
    "solve defaults [x;y;z] eqns //Solve the system for each variabe"
   ]
  },
  {
   "cell_type": "code",
   "execution_count": 23,
   "id": "849dbf43",
   "metadata": {
    "slideshow": {
     "slide_type": "fragment"
    }
   },
   "outputs": [
    {
     "data": {
      "text/html": [
       "$$x = -8, y = -16, z = -96$$"
      ]
     },
     "execution_count": 23,
     "metadata": {},
     "output_type": "execute_result"
    }
   ],
   "source": [
    "solve {|a=3.|} [x;y;z] eqns //Solve system when a=3"
   ]
  },
  {
   "cell_type": "markdown",
   "id": "c5f3f509",
   "metadata": {
    "slideshow": {
     "slide_type": "slide"
    }
   },
   "source": [
    "### Sylvester :: Solving Equations"
   ]
  },
  {
   "cell_type": "code",
   "execution_count": 131,
   "id": "402d693f",
   "metadata": {
    "slideshow": {
     "slide_type": "slide"
    }
   },
   "outputs": [
    {
     "data": {
      "text/html": [
       "$$x = -5, x = 1$$"
      ]
     },
     "execution_count": 131,
     "metadata": {},
     "output_type": "execute_result"
    }
   ],
   "source": [
    "solve defaults [x] [x***2 + 4*x - 5== 0.] // Solve standard quadratc eqn"
   ]
  },
  {
   "cell_type": "code",
   "execution_count": 117,
   "id": "60b6f304",
   "metadata": {
    "slideshow": {
     "slide_type": "fragment"
    }
   },
   "outputs": [
    {
     "data": {
      "text/html": [
       "$$3x - y = -2$$, $$2(x^{2}) - y = 0$$"
      ]
     },
     "execution_count": 117,
     "metadata": {},
     "output_type": "execute_result"
    }
   ],
   "source": [
    "// Define non-linear system\n",
    "let eqns2 = [\n",
    "    3*x - y == -2.\n",
    "    2 *(x *** 2) - y == 0.\n",
    "]\n",
    "eqns2"
   ]
  },
  {
   "cell_type": "code",
   "execution_count": 112,
   "id": "a7b9d554",
   "metadata": {
    "slideshow": {
     "slide_type": "fragment"
    }
   },
   "outputs": [
    {
     "data": {
      "text/html": [
       "$$x = 2, y = 8$$"
      ]
     },
     "execution_count": 112,
     "metadata": {},
     "output_type": "execute_result"
    }
   ],
   "source": [
    "solve defaults [x;y] eqns2"
   ]
  },
  {
   "cell_type": "markdown",
   "id": "c48b3751",
   "metadata": {
    "slideshow": {
     "slide_type": "slide"
    }
   },
   "source": [
    "### Sylvester :: Language Internals"
   ]
  },
  {
   "cell_type": "markdown",
   "id": "2eb2f9ee",
   "metadata": {
    "slideshow": {
     "slide_type": "fragment"
    }
   },
   "source": [
    "* Sylvester uses F# quotations to represent symbolic expressions"
   ]
  },
  {
   "cell_type": "code",
   "execution_count": 134,
   "id": "8a9f6686",
   "metadata": {
    "slideshow": {
     "slide_type": "fragment"
    }
   },
   "outputs": [
    {
     "data": {
      "text/html": [
       "<details open=\"open\" class=\"dni-treeview\"><summary><span class=\"dni-code-hint\"><code>Call (None, op_Multiply,\\n      [Value (2.0), Call (None, op_Exponentiation, [x, Value (2.0)])])</code></span></summary><div><table><thead><tr></tr></thead><tbody><tr><td>Raw</td><td><details class=\"dni-treeview\"><summary><span class=\"dni-code-hint\"><code>Call (None, op_Multiply,\\n      [Value (2.0), Call (None, op_Exponentiation, [x, Value (2.0)])])</code></span></summary><div><table><thead><tr></tr></thead><tbody><tr><td>Raw</td><td><details class=\"dni-treeview\"><summary><span class=\"dni-code-hint\"><code>Call (None, op_Multiply,\\n      [Value (2.0), Call (None, op_Exponentiation, [x, Value (2.0)])])</code></span></summary><div><table><thead><tr></tr></thead><tbody><tr><td>Raw</td><td><details class=\"dni-treeview\"><summary><span class=\"dni-code-hint\"><code>Call (None, op_Multiply,\\n      [Value (2.0), Call (None, op_Exponentiation, [x, Value (2.0)])])</code></span></summary><div><table><thead><tr></tr></thead><tbody><tr><td>Raw</td><td><details class=\"dni-treeview\"><summary><span class=\"dni-code-hint\"><code>Call (None, op_Multiply,\\n      [Value (2.0), Call (None, op_Exponentiation, [x, Value (2.0)])])</code></span></summary><div><table><thead><tr></tr></thead><tbody><tr><td>Raw</td><td><details class=\"dni-treeview\"><summary><span class=\"dni-code-hint\"><code>Call (None, op_Multiply,\\n      [Value (2.0), Call (None, op_Exponentiation, [x, Value (2.0)])])</code></span></summary><div><table><thead><tr></tr></thead><tbody><tr><td>Raw</td><td>Call (None, op_Multiply,\n",
       "      [Value (2.0), Call (None, op_Exponentiation, [x, Value (2.0)])])</td></tr><tr><td>CustomAttributes</td><td>[  ]</td></tr><tr><td>Type</td><td>System.Double</td></tr></tbody></table></div></details></td></tr><tr><td>CustomAttributes</td><td><details class=\"dni-treeview\"><summary><span class=\"dni-code-hint\"><code>[  ]</code></span></summary><div><table><thead><tr></tr></thead><tbody><tr><td>HeadOrDefault</td><td><div class=\"dni-plaintext\"><pre>&lt;null&gt;</pre></div></td></tr><tr><td>TailOrNull</td><td><div class=\"dni-plaintext\"><pre>&lt;null&gt;</pre></div></td></tr><tr><td>Head</td><td>System.InvalidOperationException: The input list was empty.\r\n",
       "   at Microsoft.FSharp.Collections.FSharpList`1.get_Head() in D:\\a\\_work\\1\\s\\src\\FSharp.Core\\prim-types.fs:line 4142\r\n",
       "   at lambda_method148(Closure, FSharpList`1)\r\n",
       "   at Microsoft.DotNet.Interactive.Formatting.MemberAccessor`1.GetValueOrException(T instance) in D:\\a\\_work\\1\\s\\src\\Microsoft.DotNet.Interactive.Formatting\\MemberAccessor{T}.cs:line 58</td></tr><tr><td>Tail</td><td>System.InvalidOperationException: The input list was empty.\r\n",
       "   at Microsoft.FSharp.Collections.FSharpList`1.get_Tail() in D:\\a\\_work\\1\\s\\src\\FSharp.Core\\prim-types.fs:line 4147\r\n",
       "   at lambda_method149(Closure, FSharpList`1)\r\n",
       "   at Microsoft.DotNet.Interactive.Formatting.MemberAccessor`1.GetValueOrException(T instance) in D:\\a\\_work\\1\\s\\src\\Microsoft.DotNet.Interactive.Formatting\\MemberAccessor{T}.cs:line 58</td></tr><tr><td><i>(values)</i></td><td><i>(empty)</i></td></tr></tbody></table></div></details></td></tr><tr><td>Type</td><td><span><a href=\"https://docs.microsoft.com/dotnet/api/system.double?view=net-7.0\">System.Double</a></span></td></tr></tbody></table></div></details></td></tr><tr><td>CustomAttributes</td><td><details class=\"dni-treeview\"><summary><span class=\"dni-code-hint\"><code>[  ]</code></span></summary><div><table><thead><tr></tr></thead><tbody><tr><td>HeadOrDefault</td><td><div class=\"dni-plaintext\"><pre>&lt;null&gt;</pre></div></td></tr><tr><td>TailOrNull</td><td><div class=\"dni-plaintext\"><pre>&lt;null&gt;</pre></div></td></tr><tr><td>Head</td><td><details class=\"dni-treeview\"><summary><span class=\"dni-code-hint\"><code>System.InvalidOperationException: The input list was empty.\\r\\n   at Microsoft.FSharp.Collections.FSharpList`1.get_Head() in D:\\a\\_work\\1\\s\\src\\FSharp.Core\\prim-types.fs:line 4142\\r\\n   at lambda_method148(Closure, FSharpList`1)\\r\\n   at Microsoft.DotNet.Interactive.Formatting.MemberAccessor`1.GetVa...</code></span></summary><div><table><thead><tr></tr></thead><tbody><tr><td>TargetSite</td><td>T get_Head()</td></tr><tr><td>Message</td><td>The input list was empty.</td></tr><tr><td>Data</td><td>[  ]</td></tr><tr><td>InnerException</td><td><div class=\"dni-plaintext\"><pre>&lt;null&gt;</pre></div></td></tr><tr><td>HelpLink</td><td><div class=\"dni-plaintext\"><pre>&lt;null&gt;</pre></div></td></tr><tr><td>Source</td><td>FSharp.Core</td></tr><tr><td>HResult</td><td>-2146233079</td></tr><tr><td>StackTrace</td><td>   at Microsoft.FSharp.Collections.FSharpList`1.get_Head() in D:\\a\\_work\\1\\s\\src\\FSharp.Core\\prim-types.fs:line 4142\r\n",
       "   at lambda_method148(Closure, FSharpList`1)\r\n",
       "   at Microsoft.DotNet.Interactive.Formatting.MemberAccessor`1.GetValueOrException(T instance) in D:\\a\\_work\\1\\s\\src\\Microsoft.DotNet.Interactive.Formatting\\MemberAccessor{T}.cs:line 58</td></tr></tbody></table></div></details></td></tr><tr><td>Tail</td><td><details class=\"dni-treeview\"><summary><span class=\"dni-code-hint\"><code>System.InvalidOperationException: The input list was empty.\\r\\n   at Microsoft.FSharp.Collections.FSharpList`1.get_Tail() in D:\\a\\_work\\1\\s\\src\\FSharp.Core\\prim-types.fs:line 4147\\r\\n   at lambda_method149(Closure, FSharpList`1)\\r\\n   at Microsoft.DotNet.Interactive.Formatting.MemberAccessor`1.GetVa...</code></span></summary><div><table><thead><tr></tr></thead><tbody><tr><td>TargetSite</td><td>Microsoft.FSharp.Collections.FSharpList`1[T] get_Tail()</td></tr><tr><td>Message</td><td>The input list was empty.</td></tr><tr><td>Data</td><td>[  ]</td></tr><tr><td>InnerException</td><td><div class=\"dni-plaintext\"><pre>&lt;null&gt;</pre></div></td></tr><tr><td>HelpLink</td><td><div class=\"dni-plaintext\"><pre>&lt;null&gt;</pre></div></td></tr><tr><td>Source</td><td>FSharp.Core</td></tr><tr><td>HResult</td><td>-2146233079</td></tr><tr><td>StackTrace</td><td>   at Microsoft.FSharp.Collections.FSharpList`1.get_Tail() in D:\\a\\_work\\1\\s\\src\\FSharp.Core\\prim-types.fs:line 4147\r\n",
       "   at lambda_method149(Closure, FSharpList`1)\r\n",
       "   at Microsoft.DotNet.Interactive.Formatting.MemberAccessor`1.GetValueOrException(T instance) in D:\\a\\_work\\1\\s\\src\\Microsoft.DotNet.Interactive.Formatting\\MemberAccessor{T}.cs:line 58</td></tr></tbody></table></div></details></td></tr><tr><td><i>(values)</i></td><td><i>(empty)</i></td></tr></tbody></table></div></details></td></tr><tr><td>Type</td><td><span><a href=\"https://docs.microsoft.com/dotnet/api/system.double?view=net-7.0\">System.Double</a></span></td></tr></tbody></table></div></details></td></tr><tr><td>CustomAttributes</td><td><details class=\"dni-treeview\"><summary><span class=\"dni-code-hint\"><code>[  ]</code></span></summary><div><table><thead><tr></tr></thead><tbody><tr><td>HeadOrDefault</td><td><div class=\"dni-plaintext\"><pre>&lt;null&gt;</pre></div></td></tr><tr><td>TailOrNull</td><td><div class=\"dni-plaintext\"><pre>&lt;null&gt;</pre></div></td></tr><tr><td>Head</td><td><details class=\"dni-treeview\"><summary><span class=\"dni-code-hint\"><code>System.InvalidOperationException: The input list was empty.\\r\\n   at Microsoft.FSharp.Collections.FSharpList`1.get_Head() in D:\\a\\_work\\1\\s\\src\\FSharp.Core\\prim-types.fs:line 4142\\r\\n   at lambda_method148(Closure, FSharpList`1)\\r\\n   at Microsoft.DotNet.Interactive.Formatting.MemberAccessor`1.GetVa...</code></span></summary><div><table><thead><tr></tr></thead><tbody><tr><td>TargetSite</td><td><details class=\"dni-treeview\"><summary><span class=\"dni-code-hint\"><code>T get_Head()</code></span></summary><div><table><thead><tr></tr></thead><tbody><tr><td>Name</td><td>get_Head</td></tr><tr><td>DeclaringType</td><td>Microsoft.FSharp.Collections.FSharpList`1[T]</td></tr><tr><td>ReflectedType</td><td>Microsoft.FSharp.Collections.FSharpList`1[T]</td></tr><tr><td>MemberType</td><td>Method</td></tr><tr><td>MetadataToken</td><td>100663765</td></tr><tr><td>Module</td><td>FSharp.Core.dll</td></tr><tr><td>IsSecurityCritical</td><td>True</td></tr><tr><td>IsSecuritySafeCritical</td><td>False</td></tr><tr><td>IsSecurityTransparent</td><td>False</td></tr><tr><td>MethodHandle</td><td>System.RuntimeMethodHandle</td></tr><tr><td>Attributes</td><td>Public, HideBySig, SpecialName</td></tr><tr><td>CallingConvention</td><td>Standard, HasThis</td></tr><tr><td>ReturnType</td><td>T</td></tr><tr><td>ReturnTypeCustomAttributes</td><td>T</td></tr><tr><td>ReturnParameter</td><td>T</td></tr><tr><td>IsCollectible</td><td>False</td></tr><tr><td>IsGenericMethod</td><td>False</td></tr><tr><td>IsGenericMethodDefinition</td><td>False</td></tr><tr><td>ContainsGenericParameters</td><td>True</td></tr><tr><td>MethodImplementationFlags</td><td>IL</td></tr><tr><td>IsAbstract</td><td>False</td></tr><tr><td>IsConstructor</td><td>False</td></tr><tr><td>IsFinal</td><td>False</td></tr><tr><td>IsHideBySig</td><td>True</td></tr><tr><td>IsSpecialName</td><td>True</td></tr><tr><td>IsStatic</td><td>False</td></tr><tr><td>IsVirtual</td><td>False</td></tr><tr><td>IsAssembly</td><td>False</td></tr><tr><td>IsFamily</td><td>False</td></tr><tr><td>IsFamilyAndAssembly</td><td>False</td></tr><tr><td>IsFamilyOrAssembly</td><td>False</td></tr><tr><td>IsPrivate</td><td>False</td></tr><tr><td>IsPublic</td><td>True</td></tr><tr><td>IsConstructedGenericMethod</td><td>False</td></tr><tr><td>CustomAttributes</td><td>[  ]</td></tr></tbody></table></div></details></td></tr><tr><td>Message</td><td><div class=\"dni-plaintext\"><pre>The input list was empty.</pre></div></td></tr><tr><td>Data</td><td><i>(empty)</i></td></tr><tr><td>InnerException</td><td><div class=\"dni-plaintext\"><pre>&lt;null&gt;</pre></div></td></tr><tr><td>HelpLink</td><td><div class=\"dni-plaintext\"><pre>&lt;null&gt;</pre></div></td></tr><tr><td>Source</td><td><div class=\"dni-plaintext\"><pre>FSharp.Core</pre></div></td></tr><tr><td>HResult</td><td><div class=\"dni-plaintext\"><pre>-2146233079</pre></div></td></tr><tr><td>StackTrace</td><td><div class=\"dni-plaintext\"><pre>   at Microsoft.FSharp.Collections.FSharpList`1.get_Head() in D:\\a\\_work\\1\\s\\src\\FSharp.Core\\prim-types.fs:line 4142\r\n",
       "   at lambda_method148(Closure, FSharpList`1)\r\n",
       "   at Microsoft.DotNet.Interactive.Formatting.MemberAccessor`1.GetValueOrException(T instance) in D:\\a\\_work\\1\\s\\src\\Microsoft.DotNet.Interactive.Formatting\\MemberAccessor{T}.cs:line 58</pre></div></td></tr></tbody></table></div></details></td></tr><tr><td>Tail</td><td><details class=\"dni-treeview\"><summary><span class=\"dni-code-hint\"><code>System.InvalidOperationException: The input list was empty.\\r\\n   at Microsoft.FSharp.Collections.FSharpList`1.get_Tail() in D:\\a\\_work\\1\\s\\src\\FSharp.Core\\prim-types.fs:line 4147\\r\\n   at lambda_method149(Closure, FSharpList`1)\\r\\n   at Microsoft.DotNet.Interactive.Formatting.MemberAccessor`1.GetVa...</code></span></summary><div><table><thead><tr></tr></thead><tbody><tr><td>TargetSite</td><td><details class=\"dni-treeview\"><summary><span class=\"dni-code-hint\"><code>Microsoft.FSharp.Collections.FSharpList`1[T] get_Tail()</code></span></summary><div><table><thead><tr></tr></thead><tbody><tr><td>Name</td><td>get_Tail</td></tr><tr><td>DeclaringType</td><td>Microsoft.FSharp.Collections.FSharpList`1[T]</td></tr><tr><td>ReflectedType</td><td>Microsoft.FSharp.Collections.FSharpList`1[T]</td></tr><tr><td>MemberType</td><td>Method</td></tr><tr><td>MetadataToken</td><td>100663766</td></tr><tr><td>Module</td><td>FSharp.Core.dll</td></tr><tr><td>IsSecurityCritical</td><td>True</td></tr><tr><td>IsSecuritySafeCritical</td><td>False</td></tr><tr><td>IsSecurityTransparent</td><td>False</td></tr><tr><td>MethodHandle</td><td>System.RuntimeMethodHandle</td></tr><tr><td>Attributes</td><td>Public, HideBySig, SpecialName</td></tr><tr><td>CallingConvention</td><td>Standard, HasThis</td></tr><tr><td>ReturnType</td><td>Microsoft.FSharp.Collections.FSharpList`1[T]</td></tr><tr><td>ReturnTypeCustomAttributes</td><td>Microsoft.FSharp.Collections.FSharpList`1[T]</td></tr><tr><td>ReturnParameter</td><td>Microsoft.FSharp.Collections.FSharpList`1[T]</td></tr><tr><td>IsCollectible</td><td>False</td></tr><tr><td>IsGenericMethod</td><td>False</td></tr><tr><td>IsGenericMethodDefinition</td><td>False</td></tr><tr><td>ContainsGenericParameters</td><td>True</td></tr><tr><td>MethodImplementationFlags</td><td>IL</td></tr><tr><td>IsAbstract</td><td>False</td></tr><tr><td>IsConstructor</td><td>False</td></tr><tr><td>IsFinal</td><td>False</td></tr><tr><td>IsHideBySig</td><td>True</td></tr><tr><td>IsSpecialName</td><td>True</td></tr><tr><td>IsStatic</td><td>False</td></tr><tr><td>IsVirtual</td><td>False</td></tr><tr><td>IsAssembly</td><td>False</td></tr><tr><td>IsFamily</td><td>False</td></tr><tr><td>IsFamilyAndAssembly</td><td>False</td></tr><tr><td>IsFamilyOrAssembly</td><td>False</td></tr><tr><td>IsPrivate</td><td>False</td></tr><tr><td>IsPublic</td><td>True</td></tr><tr><td>IsConstructedGenericMethod</td><td>False</td></tr><tr><td>CustomAttributes</td><td>[  ]</td></tr></tbody></table></div></details></td></tr><tr><td>Message</td><td><div class=\"dni-plaintext\"><pre>The input list was empty.</pre></div></td></tr><tr><td>Data</td><td><i>(empty)</i></td></tr><tr><td>InnerException</td><td><div class=\"dni-plaintext\"><pre>&lt;null&gt;</pre></div></td></tr><tr><td>HelpLink</td><td><div class=\"dni-plaintext\"><pre>&lt;null&gt;</pre></div></td></tr><tr><td>Source</td><td><div class=\"dni-plaintext\"><pre>FSharp.Core</pre></div></td></tr><tr><td>HResult</td><td><div class=\"dni-plaintext\"><pre>-2146233079</pre></div></td></tr><tr><td>StackTrace</td><td><div class=\"dni-plaintext\"><pre>   at Microsoft.FSharp.Collections.FSharpList`1.get_Tail() in D:\\a\\_work\\1\\s\\src\\FSharp.Core\\prim-types.fs:line 4147\r\n",
       "   at lambda_method149(Closure, FSharpList`1)\r\n",
       "   at Microsoft.DotNet.Interactive.Formatting.MemberAccessor`1.GetValueOrException(T instance) in D:\\a\\_work\\1\\s\\src\\Microsoft.DotNet.Interactive.Formatting\\MemberAccessor{T}.cs:line 58</pre></div></td></tr></tbody></table></div></details></td></tr><tr><td><i>(values)</i></td><td><i>(empty)</i></td></tr></tbody></table></div></details></td></tr><tr><td>Type</td><td><span><a href=\"https://docs.microsoft.com/dotnet/api/system.double?view=net-7.0\">System.Double</a></span></td></tr></tbody></table></div></details></td></tr><tr><td>CustomAttributes</td><td><details class=\"dni-treeview\"><summary><span class=\"dni-code-hint\"><code>[  ]</code></span></summary><div><table><thead><tr></tr></thead><tbody><tr><td>HeadOrDefault</td><td><div class=\"dni-plaintext\"><pre>&lt;null&gt;</pre></div></td></tr><tr><td>TailOrNull</td><td><div class=\"dni-plaintext\"><pre>&lt;null&gt;</pre></div></td></tr><tr><td>Head</td><td><details class=\"dni-treeview\"><summary><span class=\"dni-code-hint\"><code>System.InvalidOperationException: The input list was empty.\\r\\n   at Microsoft.FSharp.Collections.FSharpList`1.get_Head() in D:\\a\\_work\\1\\s\\src\\FSharp.Core\\prim-types.fs:line 4142\\r\\n   at lambda_method148(Closure, FSharpList`1)\\r\\n   at Microsoft.DotNet.Interactive.Formatting.MemberAccessor`1.GetVa...</code></span></summary><div><table><thead><tr></tr></thead><tbody><tr><td>TargetSite</td><td><details class=\"dni-treeview\"><summary><span class=\"dni-code-hint\"><code>T get_Head()</code></span></summary><div><table><thead><tr></tr></thead><tbody><tr><td>Name</td><td><div class=\"dni-plaintext\"><pre>get_Head</pre></div></td></tr><tr><td>DeclaringType</td><td><span><a href=\"https://docs.microsoft.com/dotnet/api/microsoft.fsharp.collections.fsharplist-1?view=net-7.0\">Microsoft.FSharp.Collections.FSharpList&lt;T&gt;</a></span></td></tr><tr><td>ReflectedType</td><td><span><a href=\"https://docs.microsoft.com/dotnet/api/microsoft.fsharp.collections.fsharplist-1?view=net-7.0\">Microsoft.FSharp.Collections.FSharpList&lt;T&gt;</a></span></td></tr><tr><td>MemberType</td><td><span>Method</span></td></tr><tr><td>MetadataToken</td><td><div class=\"dni-plaintext\"><pre>100663765</pre></div></td></tr><tr><td>Module</td><td><details class=\"dni-treeview\"><summary><span class=\"dni-code-hint\"><code>FSharp.Core.dll</code></span></summary><div><table><thead><tr></tr></thead><tbody><tr><td>MDStreamVersion</td><td>131072</td></tr><tr><td>FullyQualifiedName</td><td>C:\\Users\\Allister\\.dotnet\\tools\\.store\\microsoft.dotnet-interactive\\1.0.561101\\microsoft.dotnet-interactive\\1.0.561101\\tools\\net8.0\\any\\FSharp.Core.dll</td></tr><tr><td>ModuleVersionId</td><td>57a9edab-ee61-61ca-19e6-f818cb833bb4</td></tr><tr><td>MetadataToken</td><td>1</td></tr><tr><td>ScopeName</td><td>FSharp.Core.dll</td></tr><tr><td>Name</td><td>FSharp.Core.dll</td></tr><tr><td>Assembly</td><td>FSharp.Core, Version=8.0.0.0, Culture=neutral, PublicKeyToken=b03f5f7f11d50a3a</td></tr><tr><td>ModuleHandle</td><td>System.ModuleHandle</td></tr><tr><td>CustomAttributes</td><td>[  ]</td></tr></tbody></table></div></details></td></tr><tr><td>IsSecurityCritical</td><td><div class=\"dni-plaintext\"><pre>True</pre></div></td></tr><tr><td>IsSecuritySafeCritical</td><td><div class=\"dni-plaintext\"><pre>False</pre></div></td></tr><tr><td>IsSecurityTransparent</td><td><div class=\"dni-plaintext\"><pre>False</pre></div></td></tr><tr><td>MethodHandle</td><td><details class=\"dni-treeview\"><summary><span class=\"dni-code-hint\"><code>System.RuntimeMethodHandle</code></span></summary><div><table><thead><tr></tr></thead><tbody><tr><td>Value</td><td>2268442736496</td></tr></tbody></table></div></details></td></tr><tr><td>Attributes</td><td><span>Public, HideBySig, SpecialName</span></td></tr><tr><td>CallingConvention</td><td><span>Standard, HasThis</span></td></tr><tr><td>ReturnType</td><td>T</td></tr><tr><td>ReturnTypeCustomAttributes</td><td><details class=\"dni-treeview\"><summary><span class=\"dni-code-hint\"><code>T</code></span></summary><div><table><thead><tr></tr></thead><tbody><tr><td>ParameterType</td><td>T</td></tr><tr><td>Name</td><td><div class=\"dni-plaintext\"><pre>&lt;null&gt;</pre></div></td></tr><tr><td>HasDefaultValue</td><td>False</td></tr><tr><td>DefaultValue</td><td></td></tr><tr><td>RawDefaultValue</td><td></td></tr><tr><td>MetadataToken</td><td>134217728</td></tr><tr><td>Attributes</td><td>None</td></tr><tr><td>Member</td><td>T get_Head()</td></tr><tr><td>Position</td><td>-1</td></tr><tr><td>IsIn</td><td>False</td></tr><tr><td>IsLcid</td><td>False</td></tr><tr><td>IsOptional</td><td>False</td></tr><tr><td>IsOut</td><td>False</td></tr><tr><td>IsRetval</td><td>False</td></tr><tr><td>CustomAttributes</td><td>[  ]</td></tr></tbody></table></div></details></td></tr><tr><td>ReturnParameter</td><td><details class=\"dni-treeview\"><summary><span class=\"dni-code-hint\"><code>T</code></span></summary><div><table><thead><tr></tr></thead><tbody><tr><td>ParameterType</td><td>T</td></tr><tr><td>Name</td><td><div class=\"dni-plaintext\"><pre>&lt;null&gt;</pre></div></td></tr><tr><td>HasDefaultValue</td><td>False</td></tr><tr><td>DefaultValue</td><td></td></tr><tr><td>RawDefaultValue</td><td></td></tr><tr><td>MetadataToken</td><td>134217728</td></tr><tr><td>Attributes</td><td>None</td></tr><tr><td>Member</td><td>T get_Head()</td></tr><tr><td>Position</td><td>-1</td></tr><tr><td>IsIn</td><td>False</td></tr><tr><td>IsLcid</td><td>False</td></tr><tr><td>IsOptional</td><td>False</td></tr><tr><td>IsOut</td><td>False</td></tr><tr><td>IsRetval</td><td>False</td></tr><tr><td>CustomAttributes</td><td>[  ]</td></tr></tbody></table></div></details></td></tr><tr><td>IsCollectible</td><td><div class=\"dni-plaintext\"><pre>False</pre></div></td></tr><tr><td>IsGenericMethod</td><td><div class=\"dni-plaintext\"><pre>False</pre></div></td></tr><tr><td>IsGenericMethodDefinition</td><td><div class=\"dni-plaintext\"><pre>False</pre></div></td></tr><tr><td>ContainsGenericParameters</td><td><div class=\"dni-plaintext\"><pre>True</pre></div></td></tr><tr><td>MethodImplementationFlags</td><td><span>IL</span></td></tr><tr><td>IsAbstract</td><td><div class=\"dni-plaintext\"><pre>False</pre></div></td></tr><tr><td>IsConstructor</td><td><div class=\"dni-plaintext\"><pre>False</pre></div></td></tr><tr><td>IsFinal</td><td><div class=\"dni-plaintext\"><pre>False</pre></div></td></tr><tr><td>IsHideBySig</td><td><div class=\"dni-plaintext\"><pre>True</pre></div></td></tr><tr><td>IsSpecialName</td><td><div class=\"dni-plaintext\"><pre>True</pre></div></td></tr><tr><td>IsStatic</td><td><div class=\"dni-plaintext\"><pre>False</pre></div></td></tr><tr><td>IsVirtual</td><td><div class=\"dni-plaintext\"><pre>False</pre></div></td></tr><tr><td>IsAssembly</td><td><div class=\"dni-plaintext\"><pre>False</pre></div></td></tr><tr><td>IsFamily</td><td><div class=\"dni-plaintext\"><pre>False</pre></div></td></tr><tr><td>IsFamilyAndAssembly</td><td><div class=\"dni-plaintext\"><pre>False</pre></div></td></tr><tr><td>IsFamilyOrAssembly</td><td><div class=\"dni-plaintext\"><pre>False</pre></div></td></tr><tr><td>IsPrivate</td><td><div class=\"dni-plaintext\"><pre>False</pre></div></td></tr><tr><td>IsPublic</td><td><div class=\"dni-plaintext\"><pre>True</pre></div></td></tr><tr><td>IsConstructedGenericMethod</td><td><div class=\"dni-plaintext\"><pre>False</pre></div></td></tr><tr><td>CustomAttributes</td><td><i>(empty)</i></td></tr></tbody></table></div></details></td></tr><tr><td>Message</td><td><div class=\"dni-plaintext\"><pre>The input list was empty.</pre></div></td></tr><tr><td>Data</td><td><i>(empty)</i></td></tr><tr><td>InnerException</td><td><div class=\"dni-plaintext\"><pre>&lt;null&gt;</pre></div></td></tr><tr><td>HelpLink</td><td><div class=\"dni-plaintext\"><pre>&lt;null&gt;</pre></div></td></tr><tr><td>Source</td><td><div class=\"dni-plaintext\"><pre>FSharp.Core</pre></div></td></tr><tr><td>HResult</td><td><div class=\"dni-plaintext\"><pre>-2146233079</pre></div></td></tr><tr><td>StackTrace</td><td><div class=\"dni-plaintext\"><pre>   at Microsoft.FSharp.Collections.FSharpList`1.get_Head() in D:\\a\\_work\\1\\s\\src\\FSharp.Core\\prim-types.fs:line 4142\r\n",
       "   at lambda_method148(Closure, FSharpList`1)\r\n",
       "   at Microsoft.DotNet.Interactive.Formatting.MemberAccessor`1.GetValueOrException(T instance) in D:\\a\\_work\\1\\s\\src\\Microsoft.DotNet.Interactive.Formatting\\MemberAccessor{T}.cs:line 58</pre></div></td></tr></tbody></table></div></details></td></tr><tr><td>Tail</td><td><details class=\"dni-treeview\"><summary><span class=\"dni-code-hint\"><code>System.InvalidOperationException: The input list was empty.\\r\\n   at Microsoft.FSharp.Collections.FSharpList`1.get_Tail() in D:\\a\\_work\\1\\s\\src\\FSharp.Core\\prim-types.fs:line 4147\\r\\n   at lambda_method149(Closure, FSharpList`1)\\r\\n   at Microsoft.DotNet.Interactive.Formatting.MemberAccessor`1.GetVa...</code></span></summary><div><table><thead><tr></tr></thead><tbody><tr><td>TargetSite</td><td><details class=\"dni-treeview\"><summary><span class=\"dni-code-hint\"><code>Microsoft.FSharp.Collections.FSharpList`1[T] get_Tail()</code></span></summary><div><table><thead><tr></tr></thead><tbody><tr><td>Name</td><td><div class=\"dni-plaintext\"><pre>get_Tail</pre></div></td></tr><tr><td>DeclaringType</td><td><span><a href=\"https://docs.microsoft.com/dotnet/api/microsoft.fsharp.collections.fsharplist-1?view=net-7.0\">Microsoft.FSharp.Collections.FSharpList&lt;T&gt;</a></span></td></tr><tr><td>ReflectedType</td><td><span><a href=\"https://docs.microsoft.com/dotnet/api/microsoft.fsharp.collections.fsharplist-1?view=net-7.0\">Microsoft.FSharp.Collections.FSharpList&lt;T&gt;</a></span></td></tr><tr><td>MemberType</td><td><span>Method</span></td></tr><tr><td>MetadataToken</td><td><div class=\"dni-plaintext\"><pre>100663766</pre></div></td></tr><tr><td>Module</td><td><details class=\"dni-treeview\"><summary><span class=\"dni-code-hint\"><code>FSharp.Core.dll</code></span></summary><div><table><thead><tr></tr></thead><tbody><tr><td>MDStreamVersion</td><td>131072</td></tr><tr><td>FullyQualifiedName</td><td>C:\\Users\\Allister\\.dotnet\\tools\\.store\\microsoft.dotnet-interactive\\1.0.561101\\microsoft.dotnet-interactive\\1.0.561101\\tools\\net8.0\\any\\FSharp.Core.dll</td></tr><tr><td>ModuleVersionId</td><td>57a9edab-ee61-61ca-19e6-f818cb833bb4</td></tr><tr><td>MetadataToken</td><td>1</td></tr><tr><td>ScopeName</td><td>FSharp.Core.dll</td></tr><tr><td>Name</td><td>FSharp.Core.dll</td></tr><tr><td>Assembly</td><td>FSharp.Core, Version=8.0.0.0, Culture=neutral, PublicKeyToken=b03f5f7f11d50a3a</td></tr><tr><td>ModuleHandle</td><td>System.ModuleHandle</td></tr><tr><td>CustomAttributes</td><td>[  ]</td></tr></tbody></table></div></details></td></tr><tr><td>IsSecurityCritical</td><td><div class=\"dni-plaintext\"><pre>True</pre></div></td></tr><tr><td>IsSecuritySafeCritical</td><td><div class=\"dni-plaintext\"><pre>False</pre></div></td></tr><tr><td>IsSecurityTransparent</td><td><div class=\"dni-plaintext\"><pre>False</pre></div></td></tr><tr><td>MethodHandle</td><td><details class=\"dni-treeview\"><summary><span class=\"dni-code-hint\"><code>System.RuntimeMethodHandle</code></span></summary><div><table><thead><tr></tr></thead><tbody><tr><td>Value</td><td>2268442736512</td></tr></tbody></table></div></details></td></tr><tr><td>Attributes</td><td><span>Public, HideBySig, SpecialName</span></td></tr><tr><td>CallingConvention</td><td><span>Standard, HasThis</span></td></tr><tr><td>ReturnType</td><td><span><a href=\"https://docs.microsoft.com/dotnet/api/microsoft.fsharp.collections.fsharplist-1?view=net-7.0\">Microsoft.FSharp.Collections.FSharpList&lt;T&gt;</a></span></td></tr><tr><td>ReturnTypeCustomAttributes</td><td><details class=\"dni-treeview\"><summary><span class=\"dni-code-hint\"><code>Microsoft.FSharp.Collections.FSharpList`1[T]</code></span></summary><div><table><thead><tr></tr></thead><tbody><tr><td>ParameterType</td><td>Microsoft.FSharp.Collections.FSharpList`1[T]</td></tr><tr><td>Name</td><td><div class=\"dni-plaintext\"><pre>&lt;null&gt;</pre></div></td></tr><tr><td>HasDefaultValue</td><td>False</td></tr><tr><td>DefaultValue</td><td></td></tr><tr><td>RawDefaultValue</td><td></td></tr><tr><td>MetadataToken</td><td>134217728</td></tr><tr><td>Attributes</td><td>None</td></tr><tr><td>Member</td><td>Microsoft.FSharp.Collections.FSharpList`1[T] get_Tail()</td></tr><tr><td>Position</td><td>-1</td></tr><tr><td>IsIn</td><td>False</td></tr><tr><td>IsLcid</td><td>False</td></tr><tr><td>IsOptional</td><td>False</td></tr><tr><td>IsOut</td><td>False</td></tr><tr><td>IsRetval</td><td>False</td></tr><tr><td>CustomAttributes</td><td>[  ]</td></tr></tbody></table></div></details></td></tr><tr><td>ReturnParameter</td><td><details class=\"dni-treeview\"><summary><span class=\"dni-code-hint\"><code>Microsoft.FSharp.Collections.FSharpList`1[T]</code></span></summary><div><table><thead><tr></tr></thead><tbody><tr><td>ParameterType</td><td>Microsoft.FSharp.Collections.FSharpList`1[T]</td></tr><tr><td>Name</td><td><div class=\"dni-plaintext\"><pre>&lt;null&gt;</pre></div></td></tr><tr><td>HasDefaultValue</td><td>False</td></tr><tr><td>DefaultValue</td><td></td></tr><tr><td>RawDefaultValue</td><td></td></tr><tr><td>MetadataToken</td><td>134217728</td></tr><tr><td>Attributes</td><td>None</td></tr><tr><td>Member</td><td>Microsoft.FSharp.Collections.FSharpList`1[T] get_Tail()</td></tr><tr><td>Position</td><td>-1</td></tr><tr><td>IsIn</td><td>False</td></tr><tr><td>IsLcid</td><td>False</td></tr><tr><td>IsOptional</td><td>False</td></tr><tr><td>IsOut</td><td>False</td></tr><tr><td>IsRetval</td><td>False</td></tr><tr><td>CustomAttributes</td><td>[  ]</td></tr></tbody></table></div></details></td></tr><tr><td>IsCollectible</td><td><div class=\"dni-plaintext\"><pre>False</pre></div></td></tr><tr><td>IsGenericMethod</td><td><div class=\"dni-plaintext\"><pre>False</pre></div></td></tr><tr><td>IsGenericMethodDefinition</td><td><div class=\"dni-plaintext\"><pre>False</pre></div></td></tr><tr><td>ContainsGenericParameters</td><td><div class=\"dni-plaintext\"><pre>True</pre></div></td></tr><tr><td>MethodImplementationFlags</td><td><span>IL</span></td></tr><tr><td>IsAbstract</td><td><div class=\"dni-plaintext\"><pre>False</pre></div></td></tr><tr><td>IsConstructor</td><td><div class=\"dni-plaintext\"><pre>False</pre></div></td></tr><tr><td>IsFinal</td><td><div class=\"dni-plaintext\"><pre>False</pre></div></td></tr><tr><td>IsHideBySig</td><td><div class=\"dni-plaintext\"><pre>True</pre></div></td></tr><tr><td>IsSpecialName</td><td><div class=\"dni-plaintext\"><pre>True</pre></div></td></tr><tr><td>IsStatic</td><td><div class=\"dni-plaintext\"><pre>False</pre></div></td></tr><tr><td>IsVirtual</td><td><div class=\"dni-plaintext\"><pre>False</pre></div></td></tr><tr><td>IsAssembly</td><td><div class=\"dni-plaintext\"><pre>False</pre></div></td></tr><tr><td>IsFamily</td><td><div class=\"dni-plaintext\"><pre>False</pre></div></td></tr><tr><td>IsFamilyAndAssembly</td><td><div class=\"dni-plaintext\"><pre>False</pre></div></td></tr><tr><td>IsFamilyOrAssembly</td><td><div class=\"dni-plaintext\"><pre>False</pre></div></td></tr><tr><td>IsPrivate</td><td><div class=\"dni-plaintext\"><pre>False</pre></div></td></tr><tr><td>IsPublic</td><td><div class=\"dni-plaintext\"><pre>True</pre></div></td></tr><tr><td>IsConstructedGenericMethod</td><td><div class=\"dni-plaintext\"><pre>False</pre></div></td></tr><tr><td>CustomAttributes</td><td><i>(empty)</i></td></tr></tbody></table></div></details></td></tr><tr><td>Message</td><td><div class=\"dni-plaintext\"><pre>The input list was empty.</pre></div></td></tr><tr><td>Data</td><td><i>(empty)</i></td></tr><tr><td>InnerException</td><td><div class=\"dni-plaintext\"><pre>&lt;null&gt;</pre></div></td></tr><tr><td>HelpLink</td><td><div class=\"dni-plaintext\"><pre>&lt;null&gt;</pre></div></td></tr><tr><td>Source</td><td><div class=\"dni-plaintext\"><pre>FSharp.Core</pre></div></td></tr><tr><td>HResult</td><td><div class=\"dni-plaintext\"><pre>-2146233079</pre></div></td></tr><tr><td>StackTrace</td><td><div class=\"dni-plaintext\"><pre>   at Microsoft.FSharp.Collections.FSharpList`1.get_Tail() in D:\\a\\_work\\1\\s\\src\\FSharp.Core\\prim-types.fs:line 4147\r\n",
       "   at lambda_method149(Closure, FSharpList`1)\r\n",
       "   at Microsoft.DotNet.Interactive.Formatting.MemberAccessor`1.GetValueOrException(T instance) in D:\\a\\_work\\1\\s\\src\\Microsoft.DotNet.Interactive.Formatting\\MemberAccessor{T}.cs:line 58</pre></div></td></tr></tbody></table></div></details></td></tr><tr><td><i>(values)</i></td><td><i>(empty)</i></td></tr></tbody></table></div></details></td></tr><tr><td>Type</td><td><span><a href=\"https://docs.microsoft.com/dotnet/api/system.double?view=net-7.0\">System.Double</a></span></td></tr></tbody></table></div></details></td></tr><tr><td>CustomAttributes</td><td><details class=\"dni-treeview\"><summary><span class=\"dni-code-hint\"><code>[  ]</code></span></summary><div><table><thead><tr></tr></thead><tbody><tr><td>HeadOrDefault</td><td><div class=\"dni-plaintext\"><pre>&lt;null&gt;</pre></div></td></tr><tr><td>TailOrNull</td><td><div class=\"dni-plaintext\"><pre>&lt;null&gt;</pre></div></td></tr><tr><td>Head</td><td><details class=\"dni-treeview\"><summary><span class=\"dni-code-hint\"><code>System.InvalidOperationException: The input list was empty.\\r\\n   at Microsoft.FSharp.Collections.FSharpList`1.get_Head() in D:\\a\\_work\\1\\s\\src\\FSharp.Core\\prim-types.fs:line 4142\\r\\n   at lambda_method148(Closure, FSharpList`1)\\r\\n   at Microsoft.DotNet.Interactive.Formatting.MemberAccessor`1.GetVa...</code></span></summary><div><table><thead><tr></tr></thead><tbody><tr><td>TargetSite</td><td><details class=\"dni-treeview\"><summary><span class=\"dni-code-hint\"><code>T get_Head()</code></span></summary><div><table><thead><tr></tr></thead><tbody><tr><td>Name</td><td><div class=\"dni-plaintext\"><pre>get_Head</pre></div></td></tr><tr><td>DeclaringType</td><td><span><a href=\"https://docs.microsoft.com/dotnet/api/microsoft.fsharp.collections.fsharplist-1?view=net-7.0\">Microsoft.FSharp.Collections.FSharpList&lt;T&gt;</a></span></td></tr><tr><td>ReflectedType</td><td><span><a href=\"https://docs.microsoft.com/dotnet/api/microsoft.fsharp.collections.fsharplist-1?view=net-7.0\">Microsoft.FSharp.Collections.FSharpList&lt;T&gt;</a></span></td></tr><tr><td>MemberType</td><td><span>Method</span></td></tr><tr><td>MetadataToken</td><td><div class=\"dni-plaintext\"><pre>100663765</pre></div></td></tr><tr><td>Module</td><td><details class=\"dni-treeview\"><summary><span class=\"dni-code-hint\"><code>FSharp.Core.dll</code></span></summary><div><table><thead><tr></tr></thead><tbody><tr><td>MDStreamVersion</td><td><div class=\"dni-plaintext\"><pre>131072</pre></div></td></tr><tr><td>FullyQualifiedName</td><td><div class=\"dni-plaintext\"><pre>C:\\Users\\Allister\\.dotnet\\tools\\.store\\microsoft.dotnet-interactive\\1.0.561101\\microsoft.dotnet-interactive\\1.0.561101\\tools\\net8.0\\any\\FSharp.Core.dll</pre></div></td></tr><tr><td>ModuleVersionId</td><td><div class=\"dni-plaintext\"><pre>57a9edab-ee61-61ca-19e6-f818cb833bb4</pre></div></td></tr><tr><td>MetadataToken</td><td><div class=\"dni-plaintext\"><pre>1</pre></div></td></tr><tr><td>ScopeName</td><td><div class=\"dni-plaintext\"><pre>FSharp.Core.dll</pre></div></td></tr><tr><td>Name</td><td><div class=\"dni-plaintext\"><pre>FSharp.Core.dll</pre></div></td></tr><tr><td>Assembly</td><td><details class=\"dni-treeview\"><summary><span class=\"dni-code-hint\"><code>FSharp.Core, Version=8.0.0.0, Culture=neutral, PublicKeyToken=b03f5f7f11d50a3a</code></span></summary><div><table><thead><tr></tr></thead><tbody><tr><td>CodeBase</td><td>file:///C:/Users/Allister/.dotnet/tools/.store/microsoft.dotnet-interactive/1.0.561101/microsoft.dotnet-interactive/1.0.561101/tools/net8.0/any/FSharp.Core.dll</td></tr><tr><td>FullName</td><td>FSharp.Core, Version=8.0.0.0, Culture=neutral, PublicKeyToken=b03f5f7f11d50a3a</td></tr><tr><td>EntryPoint</td><td><div class=\"dni-plaintext\"><pre>&lt;null&gt;</pre></div></td></tr><tr><td>DefinedTypes</td><td>[ Microsoft.FSharp.Core.Unit, Microsoft.FSharp.Core.SourceConstructFlags, Microsoft.FSharp.Core.CompilationRepresentationFlags, Microsoft.FSharp.Core.SealedAttribute, Microsoft.FSharp.Core.AbstractClassAttribute, Microsoft.FSharp.Core.EqualityConditionalOnAttribute, Microsoft.FSharp.Core.ComparisonConditionalOnAttribute, Microsoft.FSharp.Core.AllowNullLiteralAttribute, Microsoft.FSharp.Core.VolatileFieldAttribute, Microsoft.FSharp.Core.DefaultAugmentationAttribute, Microsoft.FSharp.Core.CLIEventAttribute, Microsoft.FSharp.Core.CLIMutableAttribute, Microsoft.FSharp.Core.AutoSerializableAttribute, Microsoft.FSharp.Core.DefaultValueAttribute, Microsoft.FSharp.Core.EntryPointAttribute, Microsoft.FSharp.Core.ReferenceEqualityAttribute, Microsoft.FSharp.Core.StructuralComparisonAttribute, Microsoft.FSharp.Core.StructuralEqualityAttribute, Microsoft.FSharp.Core.NoEqualityAttribute, Microsoft.FSharp.Core.CustomEqualityAttribute ... (2189 more) ]</td></tr><tr><td>IsCollectible</td><td>False</td></tr><tr><td>ManifestModule</td><td>FSharp.Core.dll</td></tr><tr><td>ReflectionOnly</td><td>False</td></tr><tr><td>Location</td><td>C:\\Users\\Allister\\.dotnet\\tools\\.store\\microsoft.dotnet-interactive\\1.0.561101\\microsoft.dotnet-interactive\\1.0.561101\\tools\\net8.0\\any\\FSharp.Core.dll</td></tr><tr><td>ImageRuntimeVersion</td><td>v4.0.30319</td></tr><tr><td>GlobalAssemblyCache</td><td>False</td></tr><tr><td>HostContext</td><td>0</td></tr><tr><td>IsDynamic</td><td>False</td></tr><tr><td>ExportedTypes</td><td>[ Microsoft.FSharp.Core.Unit, Microsoft.FSharp.Core.SourceConstructFlags, Microsoft.FSharp.Core.CompilationRepresentationFlags, Microsoft.FSharp.Core.SealedAttribute, Microsoft.FSharp.Core.AbstractClassAttribute, Microsoft.FSharp.Core.EqualityConditionalOnAttribute, Microsoft.FSharp.Core.ComparisonConditionalOnAttribute, Microsoft.FSharp.Core.AllowNullLiteralAttribute, Microsoft.FSharp.Core.VolatileFieldAttribute, Microsoft.FSharp.Core.DefaultAugmentationAttribute, Microsoft.FSharp.Core.CLIEventAttribute, Microsoft.FSharp.Core.CLIMutableAttribute, Microsoft.FSharp.Core.AutoSerializableAttribute, Microsoft.FSharp.Core.DefaultValueAttribute, Microsoft.FSharp.Core.EntryPointAttribute, Microsoft.FSharp.Core.ReferenceEqualityAttribute, Microsoft.FSharp.Core.StructuralComparisonAttribute, Microsoft.FSharp.Core.StructuralEqualityAttribute, Microsoft.FSharp.Core.NoEqualityAttribute, Microsoft.FSharp.Core.CustomEqualityAttribute ... (215 more) ]</td></tr><tr><td>IsFullyTrusted</td><td>True</td></tr><tr><td>CustomAttributes</td><td>[ [Microsoft.FSharp.Core.FSharpInterfaceDataVersionAttribute((Int32)2, (Int32)0, (Int32)0)], [System.Runtime.Versioning.TargetFrameworkAttribute(\".NETStandard,Version=v2.1\", FrameworkDisplayName = \".NET Standard 2.1\")], [System.Reflection.AssemblyCompanyAttribute(\"Microsoft Corporation\")], [System.Reflection.AssemblyConfigurationAttribute(\"Release\")], [System.Reflection.AssemblyCopyrightAttribute(\"© Microsoft Corporation. All rights reserved.\")], [System.Reflection.AssemblyFileVersionAttribute(\"8.2.24.6203\")], [System.Reflection.AssemblyInformationalVersionAttribute(\"8.0.200-beta.24062.3+a7979111f86ab7332897ea617635bf3435c39bc3\")], [System.Reflection.AssemblyProductAttribute(\"FSharp.Core\")], [System.Reflection.AssemblyTitleAttribute(\"FSharp.Core\")], [System.Reflection.AssemblyMetadataAttribute(\"RepositoryUrl\", \"https://github.com/dotnet/fsharp\")], [System.Resources.NeutralResourcesLanguageAttribute(\"en-US\")], [System.Runtime.InteropServices.ComVisibleAttribute((Boolean)False)], [System.CLSCompliantAttribute((Boolean)True)], [System.Security.SecurityTransparentAttribute()], [Microsoft.FSharp.Core.AutoOpenAttribute(\"Microsoft.FSharp\")], [Microsoft.FSharp.Core.AutoOpenAttribute(\"Microsoft.FSharp.Core.LanguagePrimitives.IntrinsicOperators\")], [Microsoft.FSharp.Core.AutoOpenAttribute(\"Microsoft.FSharp.Core\")], [Microsoft.FSharp.Core.AutoOpenAttribute(\"Microsoft.FSharp.Collections\")], [Microsoft.FSharp.Core.AutoOpenAttribute(\"Microsoft.FSharp.Control\")], [Microsoft.FSharp.Core.AutoOpenAttribute(\"Microsoft.FSharp.Control.TaskBuilderExtensions.LowPriority\")] ... (5 more) ]</td></tr><tr><td>EscapedCodeBase</td><td>file:///C:/Users/Allister/.dotnet/tools/.store/microsoft.dotnet-interactive/1.0.561101/microsoft.dotnet-interactive/1.0.561101/tools/net8.0/any/FSharp.Core.dll</td></tr><tr><td>Modules</td><td>[ FSharp.Core.dll ]</td></tr><tr><td>SecurityRuleSet</td><td>None</td></tr></tbody></table></div></details></td></tr><tr><td>ModuleHandle</td><td><details class=\"dni-treeview\"><summary><span class=\"dni-code-hint\"><code>System.ModuleHandle</code></span></summary><div><table><thead><tr></tr></thead><tbody><tr><td>MDStreamVersion</td><td>131072</td></tr></tbody></table></div></details></td></tr><tr><td>CustomAttributes</td><td><i>(empty)</i></td></tr></tbody></table></div></details></td></tr><tr><td>IsSecurityCritical</td><td><div class=\"dni-plaintext\"><pre>True</pre></div></td></tr><tr><td>IsSecuritySafeCritical</td><td><div class=\"dni-plaintext\"><pre>False</pre></div></td></tr><tr><td>IsSecurityTransparent</td><td><div class=\"dni-plaintext\"><pre>False</pre></div></td></tr><tr><td>MethodHandle</td><td><details class=\"dni-treeview\"><summary><span class=\"dni-code-hint\"><code>System.RuntimeMethodHandle</code></span></summary><div><table><thead><tr></tr></thead><tbody><tr><td>Value</td><td><div class=\"dni-plaintext\"><pre>2268442736496</pre></div></td></tr></tbody></table></div></details></td></tr><tr><td>Attributes</td><td><span>Public, HideBySig, SpecialName</span></td></tr><tr><td>CallingConvention</td><td><span>Standard, HasThis</span></td></tr><tr><td>ReturnType</td><td>T</td></tr><tr><td>ReturnTypeCustomAttributes</td><td><details class=\"dni-treeview\"><summary><span class=\"dni-code-hint\"><code>T</code></span></summary><div><table><thead><tr></tr></thead><tbody><tr><td>ParameterType</td><td>T</td></tr><tr><td>Name</td><td><div class=\"dni-plaintext\"><pre>&lt;null&gt;</pre></div></td></tr><tr><td>HasDefaultValue</td><td><div class=\"dni-plaintext\"><pre>False</pre></div></td></tr><tr><td>DefaultValue</td><td><details class=\"dni-treeview\"><summary><span class=\"dni-code-hint\"><code></code></span></summary><div><table><thead><tr></tr></thead><tbody></tbody></table></div></details></td></tr><tr><td>RawDefaultValue</td><td><details class=\"dni-treeview\"><summary><span class=\"dni-code-hint\"><code></code></span></summary><div><table><thead><tr></tr></thead><tbody></tbody></table></div></details></td></tr><tr><td>MetadataToken</td><td><div class=\"dni-plaintext\"><pre>134217728</pre></div></td></tr><tr><td>Attributes</td><td><span>None</span></td></tr><tr><td>Member</td><td><details class=\"dni-treeview\"><summary><span class=\"dni-code-hint\"><code>T get_Head()</code></span></summary><div><table><thead><tr></tr></thead><tbody><tr><td>Name</td><td>get_Head</td></tr><tr><td>DeclaringType</td><td>Microsoft.FSharp.Collections.FSharpList`1[T]</td></tr><tr><td>ReflectedType</td><td>Microsoft.FSharp.Collections.FSharpList`1[T]</td></tr><tr><td>MemberType</td><td>Method</td></tr><tr><td>MetadataToken</td><td>100663765</td></tr><tr><td>Module</td><td>FSharp.Core.dll</td></tr><tr><td>IsSecurityCritical</td><td>True</td></tr><tr><td>IsSecuritySafeCritical</td><td>False</td></tr><tr><td>IsSecurityTransparent</td><td>False</td></tr><tr><td>MethodHandle</td><td>System.RuntimeMethodHandle</td></tr><tr><td>Attributes</td><td>Public, HideBySig, SpecialName</td></tr><tr><td>CallingConvention</td><td>Standard, HasThis</td></tr><tr><td>ReturnType</td><td>T</td></tr><tr><td>ReturnTypeCustomAttributes</td><td>T</td></tr><tr><td>ReturnParameter</td><td>T</td></tr><tr><td>IsCollectible</td><td>False</td></tr><tr><td>IsGenericMethod</td><td>False</td></tr><tr><td>IsGenericMethodDefinition</td><td>False</td></tr><tr><td>ContainsGenericParameters</td><td>True</td></tr><tr><td>MethodImplementationFlags</td><td>IL</td></tr><tr><td>IsAbstract</td><td>False</td></tr><tr><td>IsConstructor</td><td>False</td></tr><tr><td>IsFinal</td><td>False</td></tr><tr><td>IsHideBySig</td><td>True</td></tr><tr><td>IsSpecialName</td><td>True</td></tr><tr><td>IsStatic</td><td>False</td></tr><tr><td>IsVirtual</td><td>False</td></tr><tr><td>IsAssembly</td><td>False</td></tr><tr><td>IsFamily</td><td>False</td></tr><tr><td>IsFamilyAndAssembly</td><td>False</td></tr><tr><td>IsFamilyOrAssembly</td><td>False</td></tr><tr><td>IsPrivate</td><td>False</td></tr><tr><td>IsPublic</td><td>True</td></tr><tr><td>IsConstructedGenericMethod</td><td>False</td></tr><tr><td>CustomAttributes</td><td>[  ]</td></tr></tbody></table></div></details></td></tr><tr><td>Position</td><td><div class=\"dni-plaintext\"><pre>-1</pre></div></td></tr><tr><td>IsIn</td><td><div class=\"dni-plaintext\"><pre>False</pre></div></td></tr><tr><td>IsLcid</td><td><div class=\"dni-plaintext\"><pre>False</pre></div></td></tr><tr><td>IsOptional</td><td><div class=\"dni-plaintext\"><pre>False</pre></div></td></tr><tr><td>IsOut</td><td><div class=\"dni-plaintext\"><pre>False</pre></div></td></tr><tr><td>IsRetval</td><td><div class=\"dni-plaintext\"><pre>False</pre></div></td></tr><tr><td>CustomAttributes</td><td><i>(empty)</i></td></tr></tbody></table></div></details></td></tr><tr><td>ReturnParameter</td><td><details class=\"dni-treeview\"><summary><span class=\"dni-code-hint\"><code>T</code></span></summary><div><table><thead><tr></tr></thead><tbody><tr><td>ParameterType</td><td>T</td></tr><tr><td>Name</td><td><div class=\"dni-plaintext\"><pre>&lt;null&gt;</pre></div></td></tr><tr><td>HasDefaultValue</td><td><div class=\"dni-plaintext\"><pre>False</pre></div></td></tr><tr><td>DefaultValue</td><td><details class=\"dni-treeview\"><summary><span class=\"dni-code-hint\"><code></code></span></summary><div><table><thead><tr></tr></thead><tbody></tbody></table></div></details></td></tr><tr><td>RawDefaultValue</td><td><details class=\"dni-treeview\"><summary><span class=\"dni-code-hint\"><code></code></span></summary><div><table><thead><tr></tr></thead><tbody></tbody></table></div></details></td></tr><tr><td>MetadataToken</td><td><div class=\"dni-plaintext\"><pre>134217728</pre></div></td></tr><tr><td>Attributes</td><td><span>None</span></td></tr><tr><td>Member</td><td><details class=\"dni-treeview\"><summary><span class=\"dni-code-hint\"><code>T get_Head()</code></span></summary><div><table><thead><tr></tr></thead><tbody><tr><td>Name</td><td>get_Head</td></tr><tr><td>DeclaringType</td><td>Microsoft.FSharp.Collections.FSharpList`1[T]</td></tr><tr><td>ReflectedType</td><td>Microsoft.FSharp.Collections.FSharpList`1[T]</td></tr><tr><td>MemberType</td><td>Method</td></tr><tr><td>MetadataToken</td><td>100663765</td></tr><tr><td>Module</td><td>FSharp.Core.dll</td></tr><tr><td>IsSecurityCritical</td><td>True</td></tr><tr><td>IsSecuritySafeCritical</td><td>False</td></tr><tr><td>IsSecurityTransparent</td><td>False</td></tr><tr><td>MethodHandle</td><td>System.RuntimeMethodHandle</td></tr><tr><td>Attributes</td><td>Public, HideBySig, SpecialName</td></tr><tr><td>CallingConvention</td><td>Standard, HasThis</td></tr><tr><td>ReturnType</td><td>T</td></tr><tr><td>ReturnTypeCustomAttributes</td><td>T</td></tr><tr><td>ReturnParameter</td><td>T</td></tr><tr><td>IsCollectible</td><td>False</td></tr><tr><td>IsGenericMethod</td><td>False</td></tr><tr><td>IsGenericMethodDefinition</td><td>False</td></tr><tr><td>ContainsGenericParameters</td><td>True</td></tr><tr><td>MethodImplementationFlags</td><td>IL</td></tr><tr><td>IsAbstract</td><td>False</td></tr><tr><td>IsConstructor</td><td>False</td></tr><tr><td>IsFinal</td><td>False</td></tr><tr><td>IsHideBySig</td><td>True</td></tr><tr><td>IsSpecialName</td><td>True</td></tr><tr><td>IsStatic</td><td>False</td></tr><tr><td>IsVirtual</td><td>False</td></tr><tr><td>IsAssembly</td><td>False</td></tr><tr><td>IsFamily</td><td>False</td></tr><tr><td>IsFamilyAndAssembly</td><td>False</td></tr><tr><td>IsFamilyOrAssembly</td><td>False</td></tr><tr><td>IsPrivate</td><td>False</td></tr><tr><td>IsPublic</td><td>True</td></tr><tr><td>IsConstructedGenericMethod</td><td>False</td></tr><tr><td>CustomAttributes</td><td>[  ]</td></tr></tbody></table></div></details></td></tr><tr><td>Position</td><td><div class=\"dni-plaintext\"><pre>-1</pre></div></td></tr><tr><td>IsIn</td><td><div class=\"dni-plaintext\"><pre>False</pre></div></td></tr><tr><td>IsLcid</td><td><div class=\"dni-plaintext\"><pre>False</pre></div></td></tr><tr><td>IsOptional</td><td><div class=\"dni-plaintext\"><pre>False</pre></div></td></tr><tr><td>IsOut</td><td><div class=\"dni-plaintext\"><pre>False</pre></div></td></tr><tr><td>IsRetval</td><td><div class=\"dni-plaintext\"><pre>False</pre></div></td></tr><tr><td>CustomAttributes</td><td><i>(empty)</i></td></tr></tbody></table></div></details></td></tr><tr><td>IsCollectible</td><td><div class=\"dni-plaintext\"><pre>False</pre></div></td></tr><tr><td>IsGenericMethod</td><td><div class=\"dni-plaintext\"><pre>False</pre></div></td></tr><tr><td>IsGenericMethodDefinition</td><td><div class=\"dni-plaintext\"><pre>False</pre></div></td></tr><tr><td>ContainsGenericParameters</td><td><div class=\"dni-plaintext\"><pre>True</pre></div></td></tr><tr><td>MethodImplementationFlags</td><td><span>IL</span></td></tr><tr><td>IsAbstract</td><td><div class=\"dni-plaintext\"><pre>False</pre></div></td></tr><tr><td>IsConstructor</td><td><div class=\"dni-plaintext\"><pre>False</pre></div></td></tr><tr><td>IsFinal</td><td><div class=\"dni-plaintext\"><pre>False</pre></div></td></tr><tr><td>IsHideBySig</td><td><div class=\"dni-plaintext\"><pre>True</pre></div></td></tr><tr><td>IsSpecialName</td><td><div class=\"dni-plaintext\"><pre>True</pre></div></td></tr><tr><td>IsStatic</td><td><div class=\"dni-plaintext\"><pre>False</pre></div></td></tr><tr><td>IsVirtual</td><td><div class=\"dni-plaintext\"><pre>False</pre></div></td></tr><tr><td>IsAssembly</td><td><div class=\"dni-plaintext\"><pre>False</pre></div></td></tr><tr><td>IsFamily</td><td><div class=\"dni-plaintext\"><pre>False</pre></div></td></tr><tr><td>IsFamilyAndAssembly</td><td><div class=\"dni-plaintext\"><pre>False</pre></div></td></tr><tr><td>IsFamilyOrAssembly</td><td><div class=\"dni-plaintext\"><pre>False</pre></div></td></tr><tr><td>IsPrivate</td><td><div class=\"dni-plaintext\"><pre>False</pre></div></td></tr><tr><td>IsPublic</td><td><div class=\"dni-plaintext\"><pre>True</pre></div></td></tr><tr><td>IsConstructedGenericMethod</td><td><div class=\"dni-plaintext\"><pre>False</pre></div></td></tr><tr><td>CustomAttributes</td><td><i>(empty)</i></td></tr></tbody></table></div></details></td></tr><tr><td>Message</td><td><div class=\"dni-plaintext\"><pre>The input list was empty.</pre></div></td></tr><tr><td>Data</td><td><i>(empty)</i></td></tr><tr><td>InnerException</td><td><div class=\"dni-plaintext\"><pre>&lt;null&gt;</pre></div></td></tr><tr><td>HelpLink</td><td><div class=\"dni-plaintext\"><pre>&lt;null&gt;</pre></div></td></tr><tr><td>Source</td><td><div class=\"dni-plaintext\"><pre>FSharp.Core</pre></div></td></tr><tr><td>HResult</td><td><div class=\"dni-plaintext\"><pre>-2146233079</pre></div></td></tr><tr><td>StackTrace</td><td><div class=\"dni-plaintext\"><pre>   at Microsoft.FSharp.Collections.FSharpList`1.get_Head() in D:\\a\\_work\\1\\s\\src\\FSharp.Core\\prim-types.fs:line 4142\r\n",
       "   at lambda_method148(Closure, FSharpList`1)\r\n",
       "   at Microsoft.DotNet.Interactive.Formatting.MemberAccessor`1.GetValueOrException(T instance) in D:\\a\\_work\\1\\s\\src\\Microsoft.DotNet.Interactive.Formatting\\MemberAccessor{T}.cs:line 58</pre></div></td></tr></tbody></table></div></details></td></tr><tr><td>Tail</td><td><details class=\"dni-treeview\"><summary><span class=\"dni-code-hint\"><code>System.InvalidOperationException: The input list was empty.\\r\\n   at Microsoft.FSharp.Collections.FSharpList`1.get_Tail() in D:\\a\\_work\\1\\s\\src\\FSharp.Core\\prim-types.fs:line 4147\\r\\n   at lambda_method149(Closure, FSharpList`1)\\r\\n   at Microsoft.DotNet.Interactive.Formatting.MemberAccessor`1.GetVa...</code></span></summary><div><table><thead><tr></tr></thead><tbody><tr><td>TargetSite</td><td><details class=\"dni-treeview\"><summary><span class=\"dni-code-hint\"><code>Microsoft.FSharp.Collections.FSharpList`1[T] get_Tail()</code></span></summary><div><table><thead><tr></tr></thead><tbody><tr><td>Name</td><td><div class=\"dni-plaintext\"><pre>get_Tail</pre></div></td></tr><tr><td>DeclaringType</td><td><span><a href=\"https://docs.microsoft.com/dotnet/api/microsoft.fsharp.collections.fsharplist-1?view=net-7.0\">Microsoft.FSharp.Collections.FSharpList&lt;T&gt;</a></span></td></tr><tr><td>ReflectedType</td><td><span><a href=\"https://docs.microsoft.com/dotnet/api/microsoft.fsharp.collections.fsharplist-1?view=net-7.0\">Microsoft.FSharp.Collections.FSharpList&lt;T&gt;</a></span></td></tr><tr><td>MemberType</td><td><span>Method</span></td></tr><tr><td>MetadataToken</td><td><div class=\"dni-plaintext\"><pre>100663766</pre></div></td></tr><tr><td>Module</td><td><details class=\"dni-treeview\"><summary><span class=\"dni-code-hint\"><code>FSharp.Core.dll</code></span></summary><div><table><thead><tr></tr></thead><tbody><tr><td>MDStreamVersion</td><td><div class=\"dni-plaintext\"><pre>131072</pre></div></td></tr><tr><td>FullyQualifiedName</td><td><div class=\"dni-plaintext\"><pre>C:\\Users\\Allister\\.dotnet\\tools\\.store\\microsoft.dotnet-interactive\\1.0.561101\\microsoft.dotnet-interactive\\1.0.561101\\tools\\net8.0\\any\\FSharp.Core.dll</pre></div></td></tr><tr><td>ModuleVersionId</td><td><div class=\"dni-plaintext\"><pre>57a9edab-ee61-61ca-19e6-f818cb833bb4</pre></div></td></tr><tr><td>MetadataToken</td><td><div class=\"dni-plaintext\"><pre>1</pre></div></td></tr><tr><td>ScopeName</td><td><div class=\"dni-plaintext\"><pre>FSharp.Core.dll</pre></div></td></tr><tr><td>Name</td><td><div class=\"dni-plaintext\"><pre>FSharp.Core.dll</pre></div></td></tr><tr><td>Assembly</td><td><details class=\"dni-treeview\"><summary><span class=\"dni-code-hint\"><code>FSharp.Core, Version=8.0.0.0, Culture=neutral, PublicKeyToken=b03f5f7f11d50a3a</code></span></summary><div><table><thead><tr></tr></thead><tbody><tr><td>CodeBase</td><td>file:///C:/Users/Allister/.dotnet/tools/.store/microsoft.dotnet-interactive/1.0.561101/microsoft.dotnet-interactive/1.0.561101/tools/net8.0/any/FSharp.Core.dll</td></tr><tr><td>FullName</td><td>FSharp.Core, Version=8.0.0.0, Culture=neutral, PublicKeyToken=b03f5f7f11d50a3a</td></tr><tr><td>EntryPoint</td><td><div class=\"dni-plaintext\"><pre>&lt;null&gt;</pre></div></td></tr><tr><td>DefinedTypes</td><td>[ Microsoft.FSharp.Core.Unit, Microsoft.FSharp.Core.SourceConstructFlags, Microsoft.FSharp.Core.CompilationRepresentationFlags, Microsoft.FSharp.Core.SealedAttribute, Microsoft.FSharp.Core.AbstractClassAttribute, Microsoft.FSharp.Core.EqualityConditionalOnAttribute, Microsoft.FSharp.Core.ComparisonConditionalOnAttribute, Microsoft.FSharp.Core.AllowNullLiteralAttribute, Microsoft.FSharp.Core.VolatileFieldAttribute, Microsoft.FSharp.Core.DefaultAugmentationAttribute, Microsoft.FSharp.Core.CLIEventAttribute, Microsoft.FSharp.Core.CLIMutableAttribute, Microsoft.FSharp.Core.AutoSerializableAttribute, Microsoft.FSharp.Core.DefaultValueAttribute, Microsoft.FSharp.Core.EntryPointAttribute, Microsoft.FSharp.Core.ReferenceEqualityAttribute, Microsoft.FSharp.Core.StructuralComparisonAttribute, Microsoft.FSharp.Core.StructuralEqualityAttribute, Microsoft.FSharp.Core.NoEqualityAttribute, Microsoft.FSharp.Core.CustomEqualityAttribute ... (2189 more) ]</td></tr><tr><td>IsCollectible</td><td>False</td></tr><tr><td>ManifestModule</td><td>FSharp.Core.dll</td></tr><tr><td>ReflectionOnly</td><td>False</td></tr><tr><td>Location</td><td>C:\\Users\\Allister\\.dotnet\\tools\\.store\\microsoft.dotnet-interactive\\1.0.561101\\microsoft.dotnet-interactive\\1.0.561101\\tools\\net8.0\\any\\FSharp.Core.dll</td></tr><tr><td>ImageRuntimeVersion</td><td>v4.0.30319</td></tr><tr><td>GlobalAssemblyCache</td><td>False</td></tr><tr><td>HostContext</td><td>0</td></tr><tr><td>IsDynamic</td><td>False</td></tr><tr><td>ExportedTypes</td><td>[ Microsoft.FSharp.Core.Unit, Microsoft.FSharp.Core.SourceConstructFlags, Microsoft.FSharp.Core.CompilationRepresentationFlags, Microsoft.FSharp.Core.SealedAttribute, Microsoft.FSharp.Core.AbstractClassAttribute, Microsoft.FSharp.Core.EqualityConditionalOnAttribute, Microsoft.FSharp.Core.ComparisonConditionalOnAttribute, Microsoft.FSharp.Core.AllowNullLiteralAttribute, Microsoft.FSharp.Core.VolatileFieldAttribute, Microsoft.FSharp.Core.DefaultAugmentationAttribute, Microsoft.FSharp.Core.CLIEventAttribute, Microsoft.FSharp.Core.CLIMutableAttribute, Microsoft.FSharp.Core.AutoSerializableAttribute, Microsoft.FSharp.Core.DefaultValueAttribute, Microsoft.FSharp.Core.EntryPointAttribute, Microsoft.FSharp.Core.ReferenceEqualityAttribute, Microsoft.FSharp.Core.StructuralComparisonAttribute, Microsoft.FSharp.Core.StructuralEqualityAttribute, Microsoft.FSharp.Core.NoEqualityAttribute, Microsoft.FSharp.Core.CustomEqualityAttribute ... (215 more) ]</td></tr><tr><td>IsFullyTrusted</td><td>True</td></tr><tr><td>CustomAttributes</td><td>[ [Microsoft.FSharp.Core.FSharpInterfaceDataVersionAttribute((Int32)2, (Int32)0, (Int32)0)], [System.Runtime.Versioning.TargetFrameworkAttribute(\".NETStandard,Version=v2.1\", FrameworkDisplayName = \".NET Standard 2.1\")], [System.Reflection.AssemblyCompanyAttribute(\"Microsoft Corporation\")], [System.Reflection.AssemblyConfigurationAttribute(\"Release\")], [System.Reflection.AssemblyCopyrightAttribute(\"© Microsoft Corporation. All rights reserved.\")], [System.Reflection.AssemblyFileVersionAttribute(\"8.2.24.6203\")], [System.Reflection.AssemblyInformationalVersionAttribute(\"8.0.200-beta.24062.3+a7979111f86ab7332897ea617635bf3435c39bc3\")], [System.Reflection.AssemblyProductAttribute(\"FSharp.Core\")], [System.Reflection.AssemblyTitleAttribute(\"FSharp.Core\")], [System.Reflection.AssemblyMetadataAttribute(\"RepositoryUrl\", \"https://github.com/dotnet/fsharp\")], [System.Resources.NeutralResourcesLanguageAttribute(\"en-US\")], [System.Runtime.InteropServices.ComVisibleAttribute((Boolean)False)], [System.CLSCompliantAttribute((Boolean)True)], [System.Security.SecurityTransparentAttribute()], [Microsoft.FSharp.Core.AutoOpenAttribute(\"Microsoft.FSharp\")], [Microsoft.FSharp.Core.AutoOpenAttribute(\"Microsoft.FSharp.Core.LanguagePrimitives.IntrinsicOperators\")], [Microsoft.FSharp.Core.AutoOpenAttribute(\"Microsoft.FSharp.Core\")], [Microsoft.FSharp.Core.AutoOpenAttribute(\"Microsoft.FSharp.Collections\")], [Microsoft.FSharp.Core.AutoOpenAttribute(\"Microsoft.FSharp.Control\")], [Microsoft.FSharp.Core.AutoOpenAttribute(\"Microsoft.FSharp.Control.TaskBuilderExtensions.LowPriority\")] ... (5 more) ]</td></tr><tr><td>EscapedCodeBase</td><td>file:///C:/Users/Allister/.dotnet/tools/.store/microsoft.dotnet-interactive/1.0.561101/microsoft.dotnet-interactive/1.0.561101/tools/net8.0/any/FSharp.Core.dll</td></tr><tr><td>Modules</td><td>[ FSharp.Core.dll ]</td></tr><tr><td>SecurityRuleSet</td><td>None</td></tr></tbody></table></div></details></td></tr><tr><td>ModuleHandle</td><td><details class=\"dni-treeview\"><summary><span class=\"dni-code-hint\"><code>System.ModuleHandle</code></span></summary><div><table><thead><tr></tr></thead><tbody><tr><td>MDStreamVersion</td><td>131072</td></tr></tbody></table></div></details></td></tr><tr><td>CustomAttributes</td><td><i>(empty)</i></td></tr></tbody></table></div></details></td></tr><tr><td>IsSecurityCritical</td><td><div class=\"dni-plaintext\"><pre>True</pre></div></td></tr><tr><td>IsSecuritySafeCritical</td><td><div class=\"dni-plaintext\"><pre>False</pre></div></td></tr><tr><td>IsSecurityTransparent</td><td><div class=\"dni-plaintext\"><pre>False</pre></div></td></tr><tr><td>MethodHandle</td><td><details class=\"dni-treeview\"><summary><span class=\"dni-code-hint\"><code>System.RuntimeMethodHandle</code></span></summary><div><table><thead><tr></tr></thead><tbody><tr><td>Value</td><td><div class=\"dni-plaintext\"><pre>2268442736512</pre></div></td></tr></tbody></table></div></details></td></tr><tr><td>Attributes</td><td><span>Public, HideBySig, SpecialName</span></td></tr><tr><td>CallingConvention</td><td><span>Standard, HasThis</span></td></tr><tr><td>ReturnType</td><td><span><a href=\"https://docs.microsoft.com/dotnet/api/microsoft.fsharp.collections.fsharplist-1?view=net-7.0\">Microsoft.FSharp.Collections.FSharpList&lt;T&gt;</a></span></td></tr><tr><td>ReturnTypeCustomAttributes</td><td><details class=\"dni-treeview\"><summary><span class=\"dni-code-hint\"><code>Microsoft.FSharp.Collections.FSharpList`1[T]</code></span></summary><div><table><thead><tr></tr></thead><tbody><tr><td>ParameterType</td><td><span><a href=\"https://docs.microsoft.com/dotnet/api/microsoft.fsharp.collections.fsharplist-1?view=net-7.0\">Microsoft.FSharp.Collections.FSharpList&lt;T&gt;</a></span></td></tr><tr><td>Name</td><td><div class=\"dni-plaintext\"><pre>&lt;null&gt;</pre></div></td></tr><tr><td>HasDefaultValue</td><td><div class=\"dni-plaintext\"><pre>False</pre></div></td></tr><tr><td>DefaultValue</td><td><details class=\"dni-treeview\"><summary><span class=\"dni-code-hint\"><code></code></span></summary><div><table><thead><tr></tr></thead><tbody></tbody></table></div></details></td></tr><tr><td>RawDefaultValue</td><td><details class=\"dni-treeview\"><summary><span class=\"dni-code-hint\"><code></code></span></summary><div><table><thead><tr></tr></thead><tbody></tbody></table></div></details></td></tr><tr><td>MetadataToken</td><td><div class=\"dni-plaintext\"><pre>134217728</pre></div></td></tr><tr><td>Attributes</td><td><span>None</span></td></tr><tr><td>Member</td><td><details class=\"dni-treeview\"><summary><span class=\"dni-code-hint\"><code>Microsoft.FSharp.Collections.FSharpList`1[T] get_Tail()</code></span></summary><div><table><thead><tr></tr></thead><tbody><tr><td>Name</td><td>get_Tail</td></tr><tr><td>DeclaringType</td><td>Microsoft.FSharp.Collections.FSharpList`1[T]</td></tr><tr><td>ReflectedType</td><td>Microsoft.FSharp.Collections.FSharpList`1[T]</td></tr><tr><td>MemberType</td><td>Method</td></tr><tr><td>MetadataToken</td><td>100663766</td></tr><tr><td>Module</td><td>FSharp.Core.dll</td></tr><tr><td>IsSecurityCritical</td><td>True</td></tr><tr><td>IsSecuritySafeCritical</td><td>False</td></tr><tr><td>IsSecurityTransparent</td><td>False</td></tr><tr><td>MethodHandle</td><td>System.RuntimeMethodHandle</td></tr><tr><td>Attributes</td><td>Public, HideBySig, SpecialName</td></tr><tr><td>CallingConvention</td><td>Standard, HasThis</td></tr><tr><td>ReturnType</td><td>Microsoft.FSharp.Collections.FSharpList`1[T]</td></tr><tr><td>ReturnTypeCustomAttributes</td><td>Microsoft.FSharp.Collections.FSharpList`1[T]</td></tr><tr><td>ReturnParameter</td><td>Microsoft.FSharp.Collections.FSharpList`1[T]</td></tr><tr><td>IsCollectible</td><td>False</td></tr><tr><td>IsGenericMethod</td><td>False</td></tr><tr><td>IsGenericMethodDefinition</td><td>False</td></tr><tr><td>ContainsGenericParameters</td><td>True</td></tr><tr><td>MethodImplementationFlags</td><td>IL</td></tr><tr><td>IsAbstract</td><td>False</td></tr><tr><td>IsConstructor</td><td>False</td></tr><tr><td>IsFinal</td><td>False</td></tr><tr><td>IsHideBySig</td><td>True</td></tr><tr><td>IsSpecialName</td><td>True</td></tr><tr><td>IsStatic</td><td>False</td></tr><tr><td>IsVirtual</td><td>False</td></tr><tr><td>IsAssembly</td><td>False</td></tr><tr><td>IsFamily</td><td>False</td></tr><tr><td>IsFamilyAndAssembly</td><td>False</td></tr><tr><td>IsFamilyOrAssembly</td><td>False</td></tr><tr><td>IsPrivate</td><td>False</td></tr><tr><td>IsPublic</td><td>True</td></tr><tr><td>IsConstructedGenericMethod</td><td>False</td></tr><tr><td>CustomAttributes</td><td>[  ]</td></tr></tbody></table></div></details></td></tr><tr><td>Position</td><td><div class=\"dni-plaintext\"><pre>-1</pre></div></td></tr><tr><td>IsIn</td><td><div class=\"dni-plaintext\"><pre>False</pre></div></td></tr><tr><td>IsLcid</td><td><div class=\"dni-plaintext\"><pre>False</pre></div></td></tr><tr><td>IsOptional</td><td><div class=\"dni-plaintext\"><pre>False</pre></div></td></tr><tr><td>IsOut</td><td><div class=\"dni-plaintext\"><pre>False</pre></div></td></tr><tr><td>IsRetval</td><td><div class=\"dni-plaintext\"><pre>False</pre></div></td></tr><tr><td>CustomAttributes</td><td><i>(empty)</i></td></tr></tbody></table></div></details></td></tr><tr><td>ReturnParameter</td><td><details class=\"dni-treeview\"><summary><span class=\"dni-code-hint\"><code>Microsoft.FSharp.Collections.FSharpList`1[T]</code></span></summary><div><table><thead><tr></tr></thead><tbody><tr><td>ParameterType</td><td><span><a href=\"https://docs.microsoft.com/dotnet/api/microsoft.fsharp.collections.fsharplist-1?view=net-7.0\">Microsoft.FSharp.Collections.FSharpList&lt;T&gt;</a></span></td></tr><tr><td>Name</td><td><div class=\"dni-plaintext\"><pre>&lt;null&gt;</pre></div></td></tr><tr><td>HasDefaultValue</td><td><div class=\"dni-plaintext\"><pre>False</pre></div></td></tr><tr><td>DefaultValue</td><td><details class=\"dni-treeview\"><summary><span class=\"dni-code-hint\"><code></code></span></summary><div><table><thead><tr></tr></thead><tbody></tbody></table></div></details></td></tr><tr><td>RawDefaultValue</td><td><details class=\"dni-treeview\"><summary><span class=\"dni-code-hint\"><code></code></span></summary><div><table><thead><tr></tr></thead><tbody></tbody></table></div></details></td></tr><tr><td>MetadataToken</td><td><div class=\"dni-plaintext\"><pre>134217728</pre></div></td></tr><tr><td>Attributes</td><td><span>None</span></td></tr><tr><td>Member</td><td><details class=\"dni-treeview\"><summary><span class=\"dni-code-hint\"><code>Microsoft.FSharp.Collections.FSharpList`1[T] get_Tail()</code></span></summary><div><table><thead><tr></tr></thead><tbody><tr><td>Name</td><td>get_Tail</td></tr><tr><td>DeclaringType</td><td>Microsoft.FSharp.Collections.FSharpList`1[T]</td></tr><tr><td>ReflectedType</td><td>Microsoft.FSharp.Collections.FSharpList`1[T]</td></tr><tr><td>MemberType</td><td>Method</td></tr><tr><td>MetadataToken</td><td>100663766</td></tr><tr><td>Module</td><td>FSharp.Core.dll</td></tr><tr><td>IsSecurityCritical</td><td>True</td></tr><tr><td>IsSecuritySafeCritical</td><td>False</td></tr><tr><td>IsSecurityTransparent</td><td>False</td></tr><tr><td>MethodHandle</td><td>System.RuntimeMethodHandle</td></tr><tr><td>Attributes</td><td>Public, HideBySig, SpecialName</td></tr><tr><td>CallingConvention</td><td>Standard, HasThis</td></tr><tr><td>ReturnType</td><td>Microsoft.FSharp.Collections.FSharpList`1[T]</td></tr><tr><td>ReturnTypeCustomAttributes</td><td>Microsoft.FSharp.Collections.FSharpList`1[T]</td></tr><tr><td>ReturnParameter</td><td>Microsoft.FSharp.Collections.FSharpList`1[T]</td></tr><tr><td>IsCollectible</td><td>False</td></tr><tr><td>IsGenericMethod</td><td>False</td></tr><tr><td>IsGenericMethodDefinition</td><td>False</td></tr><tr><td>ContainsGenericParameters</td><td>True</td></tr><tr><td>MethodImplementationFlags</td><td>IL</td></tr><tr><td>IsAbstract</td><td>False</td></tr><tr><td>IsConstructor</td><td>False</td></tr><tr><td>IsFinal</td><td>False</td></tr><tr><td>IsHideBySig</td><td>True</td></tr><tr><td>IsSpecialName</td><td>True</td></tr><tr><td>IsStatic</td><td>False</td></tr><tr><td>IsVirtual</td><td>False</td></tr><tr><td>IsAssembly</td><td>False</td></tr><tr><td>IsFamily</td><td>False</td></tr><tr><td>IsFamilyAndAssembly</td><td>False</td></tr><tr><td>IsFamilyOrAssembly</td><td>False</td></tr><tr><td>IsPrivate</td><td>False</td></tr><tr><td>IsPublic</td><td>True</td></tr><tr><td>IsConstructedGenericMethod</td><td>False</td></tr><tr><td>CustomAttributes</td><td>[  ]</td></tr></tbody></table></div></details></td></tr><tr><td>Position</td><td><div class=\"dni-plaintext\"><pre>-1</pre></div></td></tr><tr><td>IsIn</td><td><div class=\"dni-plaintext\"><pre>False</pre></div></td></tr><tr><td>IsLcid</td><td><div class=\"dni-plaintext\"><pre>False</pre></div></td></tr><tr><td>IsOptional</td><td><div class=\"dni-plaintext\"><pre>False</pre></div></td></tr><tr><td>IsOut</td><td><div class=\"dni-plaintext\"><pre>False</pre></div></td></tr><tr><td>IsRetval</td><td><div class=\"dni-plaintext\"><pre>False</pre></div></td></tr><tr><td>CustomAttributes</td><td><i>(empty)</i></td></tr></tbody></table></div></details></td></tr><tr><td>IsCollectible</td><td><div class=\"dni-plaintext\"><pre>False</pre></div></td></tr><tr><td>IsGenericMethod</td><td><div class=\"dni-plaintext\"><pre>False</pre></div></td></tr><tr><td>IsGenericMethodDefinition</td><td><div class=\"dni-plaintext\"><pre>False</pre></div></td></tr><tr><td>ContainsGenericParameters</td><td><div class=\"dni-plaintext\"><pre>True</pre></div></td></tr><tr><td>MethodImplementationFlags</td><td><span>IL</span></td></tr><tr><td>IsAbstract</td><td><div class=\"dni-plaintext\"><pre>False</pre></div></td></tr><tr><td>IsConstructor</td><td><div class=\"dni-plaintext\"><pre>False</pre></div></td></tr><tr><td>IsFinal</td><td><div class=\"dni-plaintext\"><pre>False</pre></div></td></tr><tr><td>IsHideBySig</td><td><div class=\"dni-plaintext\"><pre>True</pre></div></td></tr><tr><td>IsSpecialName</td><td><div class=\"dni-plaintext\"><pre>True</pre></div></td></tr><tr><td>IsStatic</td><td><div class=\"dni-plaintext\"><pre>False</pre></div></td></tr><tr><td>IsVirtual</td><td><div class=\"dni-plaintext\"><pre>False</pre></div></td></tr><tr><td>IsAssembly</td><td><div class=\"dni-plaintext\"><pre>False</pre></div></td></tr><tr><td>IsFamily</td><td><div class=\"dni-plaintext\"><pre>False</pre></div></td></tr><tr><td>IsFamilyAndAssembly</td><td><div class=\"dni-plaintext\"><pre>False</pre></div></td></tr><tr><td>IsFamilyOrAssembly</td><td><div class=\"dni-plaintext\"><pre>False</pre></div></td></tr><tr><td>IsPrivate</td><td><div class=\"dni-plaintext\"><pre>False</pre></div></td></tr><tr><td>IsPublic</td><td><div class=\"dni-plaintext\"><pre>True</pre></div></td></tr><tr><td>IsConstructedGenericMethod</td><td><div class=\"dni-plaintext\"><pre>False</pre></div></td></tr><tr><td>CustomAttributes</td><td><i>(empty)</i></td></tr></tbody></table></div></details></td></tr><tr><td>Message</td><td><div class=\"dni-plaintext\"><pre>The input list was empty.</pre></div></td></tr><tr><td>Data</td><td><i>(empty)</i></td></tr><tr><td>InnerException</td><td><div class=\"dni-plaintext\"><pre>&lt;null&gt;</pre></div></td></tr><tr><td>HelpLink</td><td><div class=\"dni-plaintext\"><pre>&lt;null&gt;</pre></div></td></tr><tr><td>Source</td><td><div class=\"dni-plaintext\"><pre>FSharp.Core</pre></div></td></tr><tr><td>HResult</td><td><div class=\"dni-plaintext\"><pre>-2146233079</pre></div></td></tr><tr><td>StackTrace</td><td><div class=\"dni-plaintext\"><pre>   at Microsoft.FSharp.Collections.FSharpList`1.get_Tail() in D:\\a\\_work\\1\\s\\src\\FSharp.Core\\prim-types.fs:line 4147\r\n",
       "   at lambda_method149(Closure, FSharpList`1)\r\n",
       "   at Microsoft.DotNet.Interactive.Formatting.MemberAccessor`1.GetValueOrException(T instance) in D:\\a\\_work\\1\\s\\src\\Microsoft.DotNet.Interactive.Formatting\\MemberAccessor{T}.cs:line 58</pre></div></td></tr></tbody></table></div></details></td></tr><tr><td><i>(values)</i></td><td><i>(empty)</i></td></tr></tbody></table></div></details></td></tr><tr><td>Type</td><td><span><a href=\"https://docs.microsoft.com/dotnet/api/system.double?view=net-7.0\">System.Double</a></span></td></tr></tbody></table></div></details><style>\r\n",
       ".dni-code-hint {\r\n",
       "    font-style: italic;\r\n",
       "    overflow: hidden;\r\n",
       "    white-space: nowrap;\r\n",
       "}\r\n",
       ".dni-treeview {\r\n",
       "    white-space: nowrap;\r\n",
       "}\r\n",
       ".dni-treeview td {\r\n",
       "    vertical-align: top;\r\n",
       "    text-align: start;\r\n",
       "}\r\n",
       "details.dni-treeview {\r\n",
       "    padding-left: 1em;\r\n",
       "}\r\n",
       "table td {\r\n",
       "    text-align: start;\r\n",
       "}\r\n",
       "table tr { \r\n",
       "    vertical-align: top; \r\n",
       "    margin: 0em 0px;\r\n",
       "}\r\n",
       "table tr td pre \r\n",
       "{ \r\n",
       "    vertical-align: top !important; \r\n",
       "    margin: 0em 0px !important;\r\n",
       "} \r\n",
       "table th {\r\n",
       "    text-align: start;\r\n",
       "}\r\n",
       "</style>"
      ]
     },
     "execution_count": 134,
     "metadata": {},
     "output_type": "execute_result"
    }
   ],
   "source": [
    "2 *(x *** 2) |> sexpr //Get the underlying F# quotation corresponding to this expression"
   ]
  },
  {
   "cell_type": "code",
   "execution_count": 136,
   "id": "8811433a",
   "metadata": {
    "slideshow": {
     "slide_type": "fragment"
    }
   },
   "outputs": [
    {
     "data": {
      "text/html": [
       "<details open=\"open\" class=\"dni-treeview\"><summary><span class=\"dni-code-hint\"><code>Call (None, op_Addition,\\n      [Value (-4.0),\\n       Call (None, op_Multiply,\\n             [Value (2.0), Call (None, op_Exponentiation, [x, Value (2.0)])])])</code></span></summary><div><table><thead><tr></tr></thead><tbody><tr><td>Raw</td><td><details class=\"dni-treeview\"><summary><span class=\"dni-code-hint\"><code>Call (None, op_Addition,\\n      [Value (-4.0),\\n       Call (None, op_Multiply,\\n             [Value (2.0), Call (None, op_Exponentiation, [x, Value (2.0)])])])</code></span></summary><div><table><thead><tr></tr></thead><tbody><tr><td>Raw</td><td><details class=\"dni-treeview\"><summary><span class=\"dni-code-hint\"><code>Call (None, op_Addition,\\n      [Value (-4.0),\\n       Call (None, op_Multiply,\\n             [Value (2.0), Call (None, op_Exponentiation, [x, Value (2.0)])])])</code></span></summary><div><table><thead><tr></tr></thead><tbody><tr><td>Raw</td><td><details class=\"dni-treeview\"><summary><span class=\"dni-code-hint\"><code>Call (None, op_Addition,\\n      [Value (-4.0),\\n       Call (None, op_Multiply,\\n             [Value (2.0), Call (None, op_Exponentiation, [x, Value (2.0)])])])</code></span></summary><div><table><thead><tr></tr></thead><tbody><tr><td>Raw</td><td><details class=\"dni-treeview\"><summary><span class=\"dni-code-hint\"><code>Call (None, op_Addition,\\n      [Value (-4.0),\\n       Call (None, op_Multiply,\\n             [Value (2.0), Call (None, op_Exponentiation, [x, Value (2.0)])])])</code></span></summary><div><table><thead><tr></tr></thead><tbody><tr><td>Raw</td><td><details class=\"dni-treeview\"><summary><span class=\"dni-code-hint\"><code>Call (None, op_Addition,\\n      [Value (-4.0),\\n       Call (None, op_Multiply,\\n             [Value (2.0), Call (None, op_Exponentiation, [x, Value (2.0)])])])</code></span></summary><div><table><thead><tr></tr></thead><tbody><tr><td>Raw</td><td>Call (None, op_Addition,\n",
       "      [Value (-4.0),\n",
       "       Call (None, op_Multiply,\n",
       "             [Value (2.0), Call (None, op_Exponentiation, [x, Value (2.0)])])])</td></tr><tr><td>CustomAttributes</td><td>[  ]</td></tr><tr><td>Type</td><td>System.Double</td></tr></tbody></table></div></details></td></tr><tr><td>CustomAttributes</td><td><details class=\"dni-treeview\"><summary><span class=\"dni-code-hint\"><code>[  ]</code></span></summary><div><table><thead><tr></tr></thead><tbody><tr><td>HeadOrDefault</td><td><div class=\"dni-plaintext\"><pre>&lt;null&gt;</pre></div></td></tr><tr><td>TailOrNull</td><td><div class=\"dni-plaintext\"><pre>&lt;null&gt;</pre></div></td></tr><tr><td>Head</td><td>System.InvalidOperationException: The input list was empty.\r\n",
       "   at Microsoft.FSharp.Collections.FSharpList`1.get_Head() in D:\\a\\_work\\1\\s\\src\\FSharp.Core\\prim-types.fs:line 4142\r\n",
       "   at lambda_method148(Closure, FSharpList`1)\r\n",
       "   at Microsoft.DotNet.Interactive.Formatting.MemberAccessor`1.GetValueOrException(T instance) in D:\\a\\_work\\1\\s\\src\\Microsoft.DotNet.Interactive.Formatting\\MemberAccessor{T}.cs:line 58</td></tr><tr><td>Tail</td><td>System.InvalidOperationException: The input list was empty.\r\n",
       "   at Microsoft.FSharp.Collections.FSharpList`1.get_Tail() in D:\\a\\_work\\1\\s\\src\\FSharp.Core\\prim-types.fs:line 4147\r\n",
       "   at lambda_method149(Closure, FSharpList`1)\r\n",
       "   at Microsoft.DotNet.Interactive.Formatting.MemberAccessor`1.GetValueOrException(T instance) in D:\\a\\_work\\1\\s\\src\\Microsoft.DotNet.Interactive.Formatting\\MemberAccessor{T}.cs:line 58</td></tr><tr><td><i>(values)</i></td><td><i>(empty)</i></td></tr></tbody></table></div></details></td></tr><tr><td>Type</td><td><span><a href=\"https://docs.microsoft.com/dotnet/api/system.double?view=net-7.0\">System.Double</a></span></td></tr></tbody></table></div></details></td></tr><tr><td>CustomAttributes</td><td><details class=\"dni-treeview\"><summary><span class=\"dni-code-hint\"><code>[  ]</code></span></summary><div><table><thead><tr></tr></thead><tbody><tr><td>HeadOrDefault</td><td><div class=\"dni-plaintext\"><pre>&lt;null&gt;</pre></div></td></tr><tr><td>TailOrNull</td><td><div class=\"dni-plaintext\"><pre>&lt;null&gt;</pre></div></td></tr><tr><td>Head</td><td><details class=\"dni-treeview\"><summary><span class=\"dni-code-hint\"><code>System.InvalidOperationException: The input list was empty.\\r\\n   at Microsoft.FSharp.Collections.FSharpList`1.get_Head() in D:\\a\\_work\\1\\s\\src\\FSharp.Core\\prim-types.fs:line 4142\\r\\n   at lambda_method148(Closure, FSharpList`1)\\r\\n   at Microsoft.DotNet.Interactive.Formatting.MemberAccessor`1.GetVa...</code></span></summary><div><table><thead><tr></tr></thead><tbody><tr><td>TargetSite</td><td>T get_Head()</td></tr><tr><td>Message</td><td>The input list was empty.</td></tr><tr><td>Data</td><td>[  ]</td></tr><tr><td>InnerException</td><td><div class=\"dni-plaintext\"><pre>&lt;null&gt;</pre></div></td></tr><tr><td>HelpLink</td><td><div class=\"dni-plaintext\"><pre>&lt;null&gt;</pre></div></td></tr><tr><td>Source</td><td>FSharp.Core</td></tr><tr><td>HResult</td><td>-2146233079</td></tr><tr><td>StackTrace</td><td>   at Microsoft.FSharp.Collections.FSharpList`1.get_Head() in D:\\a\\_work\\1\\s\\src\\FSharp.Core\\prim-types.fs:line 4142\r\n",
       "   at lambda_method148(Closure, FSharpList`1)\r\n",
       "   at Microsoft.DotNet.Interactive.Formatting.MemberAccessor`1.GetValueOrException(T instance) in D:\\a\\_work\\1\\s\\src\\Microsoft.DotNet.Interactive.Formatting\\MemberAccessor{T}.cs:line 58</td></tr></tbody></table></div></details></td></tr><tr><td>Tail</td><td><details class=\"dni-treeview\"><summary><span class=\"dni-code-hint\"><code>System.InvalidOperationException: The input list was empty.\\r\\n   at Microsoft.FSharp.Collections.FSharpList`1.get_Tail() in D:\\a\\_work\\1\\s\\src\\FSharp.Core\\prim-types.fs:line 4147\\r\\n   at lambda_method149(Closure, FSharpList`1)\\r\\n   at Microsoft.DotNet.Interactive.Formatting.MemberAccessor`1.GetVa...</code></span></summary><div><table><thead><tr></tr></thead><tbody><tr><td>TargetSite</td><td>Microsoft.FSharp.Collections.FSharpList`1[T] get_Tail()</td></tr><tr><td>Message</td><td>The input list was empty.</td></tr><tr><td>Data</td><td>[  ]</td></tr><tr><td>InnerException</td><td><div class=\"dni-plaintext\"><pre>&lt;null&gt;</pre></div></td></tr><tr><td>HelpLink</td><td><div class=\"dni-plaintext\"><pre>&lt;null&gt;</pre></div></td></tr><tr><td>Source</td><td>FSharp.Core</td></tr><tr><td>HResult</td><td>-2146233079</td></tr><tr><td>StackTrace</td><td>   at Microsoft.FSharp.Collections.FSharpList`1.get_Tail() in D:\\a\\_work\\1\\s\\src\\FSharp.Core\\prim-types.fs:line 4147\r\n",
       "   at lambda_method149(Closure, FSharpList`1)\r\n",
       "   at Microsoft.DotNet.Interactive.Formatting.MemberAccessor`1.GetValueOrException(T instance) in D:\\a\\_work\\1\\s\\src\\Microsoft.DotNet.Interactive.Formatting\\MemberAccessor{T}.cs:line 58</td></tr></tbody></table></div></details></td></tr><tr><td><i>(values)</i></td><td><i>(empty)</i></td></tr></tbody></table></div></details></td></tr><tr><td>Type</td><td><span><a href=\"https://docs.microsoft.com/dotnet/api/system.double?view=net-7.0\">System.Double</a></span></td></tr></tbody></table></div></details></td></tr><tr><td>CustomAttributes</td><td><details class=\"dni-treeview\"><summary><span class=\"dni-code-hint\"><code>[  ]</code></span></summary><div><table><thead><tr></tr></thead><tbody><tr><td>HeadOrDefault</td><td><div class=\"dni-plaintext\"><pre>&lt;null&gt;</pre></div></td></tr><tr><td>TailOrNull</td><td><div class=\"dni-plaintext\"><pre>&lt;null&gt;</pre></div></td></tr><tr><td>Head</td><td><details class=\"dni-treeview\"><summary><span class=\"dni-code-hint\"><code>System.InvalidOperationException: The input list was empty.\\r\\n   at Microsoft.FSharp.Collections.FSharpList`1.get_Head() in D:\\a\\_work\\1\\s\\src\\FSharp.Core\\prim-types.fs:line 4142\\r\\n   at lambda_method148(Closure, FSharpList`1)\\r\\n   at Microsoft.DotNet.Interactive.Formatting.MemberAccessor`1.GetVa...</code></span></summary><div><table><thead><tr></tr></thead><tbody><tr><td>TargetSite</td><td><details class=\"dni-treeview\"><summary><span class=\"dni-code-hint\"><code>T get_Head()</code></span></summary><div><table><thead><tr></tr></thead><tbody><tr><td>Name</td><td>get_Head</td></tr><tr><td>DeclaringType</td><td>Microsoft.FSharp.Collections.FSharpList`1[T]</td></tr><tr><td>ReflectedType</td><td>Microsoft.FSharp.Collections.FSharpList`1[T]</td></tr><tr><td>MemberType</td><td>Method</td></tr><tr><td>MetadataToken</td><td>100663765</td></tr><tr><td>Module</td><td>FSharp.Core.dll</td></tr><tr><td>IsSecurityCritical</td><td>True</td></tr><tr><td>IsSecuritySafeCritical</td><td>False</td></tr><tr><td>IsSecurityTransparent</td><td>False</td></tr><tr><td>MethodHandle</td><td>System.RuntimeMethodHandle</td></tr><tr><td>Attributes</td><td>Public, HideBySig, SpecialName</td></tr><tr><td>CallingConvention</td><td>Standard, HasThis</td></tr><tr><td>ReturnType</td><td>T</td></tr><tr><td>ReturnTypeCustomAttributes</td><td>T</td></tr><tr><td>ReturnParameter</td><td>T</td></tr><tr><td>IsCollectible</td><td>False</td></tr><tr><td>IsGenericMethod</td><td>False</td></tr><tr><td>IsGenericMethodDefinition</td><td>False</td></tr><tr><td>ContainsGenericParameters</td><td>True</td></tr><tr><td>MethodImplementationFlags</td><td>IL</td></tr><tr><td>IsAbstract</td><td>False</td></tr><tr><td>IsConstructor</td><td>False</td></tr><tr><td>IsFinal</td><td>False</td></tr><tr><td>IsHideBySig</td><td>True</td></tr><tr><td>IsSpecialName</td><td>True</td></tr><tr><td>IsStatic</td><td>False</td></tr><tr><td>IsVirtual</td><td>False</td></tr><tr><td>IsAssembly</td><td>False</td></tr><tr><td>IsFamily</td><td>False</td></tr><tr><td>IsFamilyAndAssembly</td><td>False</td></tr><tr><td>IsFamilyOrAssembly</td><td>False</td></tr><tr><td>IsPrivate</td><td>False</td></tr><tr><td>IsPublic</td><td>True</td></tr><tr><td>IsConstructedGenericMethod</td><td>False</td></tr><tr><td>CustomAttributes</td><td>[  ]</td></tr></tbody></table></div></details></td></tr><tr><td>Message</td><td><div class=\"dni-plaintext\"><pre>The input list was empty.</pre></div></td></tr><tr><td>Data</td><td><i>(empty)</i></td></tr><tr><td>InnerException</td><td><div class=\"dni-plaintext\"><pre>&lt;null&gt;</pre></div></td></tr><tr><td>HelpLink</td><td><div class=\"dni-plaintext\"><pre>&lt;null&gt;</pre></div></td></tr><tr><td>Source</td><td><div class=\"dni-plaintext\"><pre>FSharp.Core</pre></div></td></tr><tr><td>HResult</td><td><div class=\"dni-plaintext\"><pre>-2146233079</pre></div></td></tr><tr><td>StackTrace</td><td><div class=\"dni-plaintext\"><pre>   at Microsoft.FSharp.Collections.FSharpList`1.get_Head() in D:\\a\\_work\\1\\s\\src\\FSharp.Core\\prim-types.fs:line 4142\r\n",
       "   at lambda_method148(Closure, FSharpList`1)\r\n",
       "   at Microsoft.DotNet.Interactive.Formatting.MemberAccessor`1.GetValueOrException(T instance) in D:\\a\\_work\\1\\s\\src\\Microsoft.DotNet.Interactive.Formatting\\MemberAccessor{T}.cs:line 58</pre></div></td></tr></tbody></table></div></details></td></tr><tr><td>Tail</td><td><details class=\"dni-treeview\"><summary><span class=\"dni-code-hint\"><code>System.InvalidOperationException: The input list was empty.\\r\\n   at Microsoft.FSharp.Collections.FSharpList`1.get_Tail() in D:\\a\\_work\\1\\s\\src\\FSharp.Core\\prim-types.fs:line 4147\\r\\n   at lambda_method149(Closure, FSharpList`1)\\r\\n   at Microsoft.DotNet.Interactive.Formatting.MemberAccessor`1.GetVa...</code></span></summary><div><table><thead><tr></tr></thead><tbody><tr><td>TargetSite</td><td><details class=\"dni-treeview\"><summary><span class=\"dni-code-hint\"><code>Microsoft.FSharp.Collections.FSharpList`1[T] get_Tail()</code></span></summary><div><table><thead><tr></tr></thead><tbody><tr><td>Name</td><td>get_Tail</td></tr><tr><td>DeclaringType</td><td>Microsoft.FSharp.Collections.FSharpList`1[T]</td></tr><tr><td>ReflectedType</td><td>Microsoft.FSharp.Collections.FSharpList`1[T]</td></tr><tr><td>MemberType</td><td>Method</td></tr><tr><td>MetadataToken</td><td>100663766</td></tr><tr><td>Module</td><td>FSharp.Core.dll</td></tr><tr><td>IsSecurityCritical</td><td>True</td></tr><tr><td>IsSecuritySafeCritical</td><td>False</td></tr><tr><td>IsSecurityTransparent</td><td>False</td></tr><tr><td>MethodHandle</td><td>System.RuntimeMethodHandle</td></tr><tr><td>Attributes</td><td>Public, HideBySig, SpecialName</td></tr><tr><td>CallingConvention</td><td>Standard, HasThis</td></tr><tr><td>ReturnType</td><td>Microsoft.FSharp.Collections.FSharpList`1[T]</td></tr><tr><td>ReturnTypeCustomAttributes</td><td>Microsoft.FSharp.Collections.FSharpList`1[T]</td></tr><tr><td>ReturnParameter</td><td>Microsoft.FSharp.Collections.FSharpList`1[T]</td></tr><tr><td>IsCollectible</td><td>False</td></tr><tr><td>IsGenericMethod</td><td>False</td></tr><tr><td>IsGenericMethodDefinition</td><td>False</td></tr><tr><td>ContainsGenericParameters</td><td>True</td></tr><tr><td>MethodImplementationFlags</td><td>IL</td></tr><tr><td>IsAbstract</td><td>False</td></tr><tr><td>IsConstructor</td><td>False</td></tr><tr><td>IsFinal</td><td>False</td></tr><tr><td>IsHideBySig</td><td>True</td></tr><tr><td>IsSpecialName</td><td>True</td></tr><tr><td>IsStatic</td><td>False</td></tr><tr><td>IsVirtual</td><td>False</td></tr><tr><td>IsAssembly</td><td>False</td></tr><tr><td>IsFamily</td><td>False</td></tr><tr><td>IsFamilyAndAssembly</td><td>False</td></tr><tr><td>IsFamilyOrAssembly</td><td>False</td></tr><tr><td>IsPrivate</td><td>False</td></tr><tr><td>IsPublic</td><td>True</td></tr><tr><td>IsConstructedGenericMethod</td><td>False</td></tr><tr><td>CustomAttributes</td><td>[  ]</td></tr></tbody></table></div></details></td></tr><tr><td>Message</td><td><div class=\"dni-plaintext\"><pre>The input list was empty.</pre></div></td></tr><tr><td>Data</td><td><i>(empty)</i></td></tr><tr><td>InnerException</td><td><div class=\"dni-plaintext\"><pre>&lt;null&gt;</pre></div></td></tr><tr><td>HelpLink</td><td><div class=\"dni-plaintext\"><pre>&lt;null&gt;</pre></div></td></tr><tr><td>Source</td><td><div class=\"dni-plaintext\"><pre>FSharp.Core</pre></div></td></tr><tr><td>HResult</td><td><div class=\"dni-plaintext\"><pre>-2146233079</pre></div></td></tr><tr><td>StackTrace</td><td><div class=\"dni-plaintext\"><pre>   at Microsoft.FSharp.Collections.FSharpList`1.get_Tail() in D:\\a\\_work\\1\\s\\src\\FSharp.Core\\prim-types.fs:line 4147\r\n",
       "   at lambda_method149(Closure, FSharpList`1)\r\n",
       "   at Microsoft.DotNet.Interactive.Formatting.MemberAccessor`1.GetValueOrException(T instance) in D:\\a\\_work\\1\\s\\src\\Microsoft.DotNet.Interactive.Formatting\\MemberAccessor{T}.cs:line 58</pre></div></td></tr></tbody></table></div></details></td></tr><tr><td><i>(values)</i></td><td><i>(empty)</i></td></tr></tbody></table></div></details></td></tr><tr><td>Type</td><td><span><a href=\"https://docs.microsoft.com/dotnet/api/system.double?view=net-7.0\">System.Double</a></span></td></tr></tbody></table></div></details></td></tr><tr><td>CustomAttributes</td><td><details class=\"dni-treeview\"><summary><span class=\"dni-code-hint\"><code>[  ]</code></span></summary><div><table><thead><tr></tr></thead><tbody><tr><td>HeadOrDefault</td><td><div class=\"dni-plaintext\"><pre>&lt;null&gt;</pre></div></td></tr><tr><td>TailOrNull</td><td><div class=\"dni-plaintext\"><pre>&lt;null&gt;</pre></div></td></tr><tr><td>Head</td><td><details class=\"dni-treeview\"><summary><span class=\"dni-code-hint\"><code>System.InvalidOperationException: The input list was empty.\\r\\n   at Microsoft.FSharp.Collections.FSharpList`1.get_Head() in D:\\a\\_work\\1\\s\\src\\FSharp.Core\\prim-types.fs:line 4142\\r\\n   at lambda_method148(Closure, FSharpList`1)\\r\\n   at Microsoft.DotNet.Interactive.Formatting.MemberAccessor`1.GetVa...</code></span></summary><div><table><thead><tr></tr></thead><tbody><tr><td>TargetSite</td><td><details class=\"dni-treeview\"><summary><span class=\"dni-code-hint\"><code>T get_Head()</code></span></summary><div><table><thead><tr></tr></thead><tbody><tr><td>Name</td><td><div class=\"dni-plaintext\"><pre>get_Head</pre></div></td></tr><tr><td>DeclaringType</td><td><span><a href=\"https://docs.microsoft.com/dotnet/api/microsoft.fsharp.collections.fsharplist-1?view=net-7.0\">Microsoft.FSharp.Collections.FSharpList&lt;T&gt;</a></span></td></tr><tr><td>ReflectedType</td><td><span><a href=\"https://docs.microsoft.com/dotnet/api/microsoft.fsharp.collections.fsharplist-1?view=net-7.0\">Microsoft.FSharp.Collections.FSharpList&lt;T&gt;</a></span></td></tr><tr><td>MemberType</td><td><span>Method</span></td></tr><tr><td>MetadataToken</td><td><div class=\"dni-plaintext\"><pre>100663765</pre></div></td></tr><tr><td>Module</td><td><details class=\"dni-treeview\"><summary><span class=\"dni-code-hint\"><code>FSharp.Core.dll</code></span></summary><div><table><thead><tr></tr></thead><tbody><tr><td>MDStreamVersion</td><td>131072</td></tr><tr><td>FullyQualifiedName</td><td>C:\\Users\\Allister\\.dotnet\\tools\\.store\\microsoft.dotnet-interactive\\1.0.561101\\microsoft.dotnet-interactive\\1.0.561101\\tools\\net8.0\\any\\FSharp.Core.dll</td></tr><tr><td>ModuleVersionId</td><td>57a9edab-ee61-61ca-19e6-f818cb833bb4</td></tr><tr><td>MetadataToken</td><td>1</td></tr><tr><td>ScopeName</td><td>FSharp.Core.dll</td></tr><tr><td>Name</td><td>FSharp.Core.dll</td></tr><tr><td>Assembly</td><td>FSharp.Core, Version=8.0.0.0, Culture=neutral, PublicKeyToken=b03f5f7f11d50a3a</td></tr><tr><td>ModuleHandle</td><td>System.ModuleHandle</td></tr><tr><td>CustomAttributes</td><td>[  ]</td></tr></tbody></table></div></details></td></tr><tr><td>IsSecurityCritical</td><td><div class=\"dni-plaintext\"><pre>True</pre></div></td></tr><tr><td>IsSecuritySafeCritical</td><td><div class=\"dni-plaintext\"><pre>False</pre></div></td></tr><tr><td>IsSecurityTransparent</td><td><div class=\"dni-plaintext\"><pre>False</pre></div></td></tr><tr><td>MethodHandle</td><td><details class=\"dni-treeview\"><summary><span class=\"dni-code-hint\"><code>System.RuntimeMethodHandle</code></span></summary><div><table><thead><tr></tr></thead><tbody><tr><td>Value</td><td>2268442736496</td></tr></tbody></table></div></details></td></tr><tr><td>Attributes</td><td><span>Public, HideBySig, SpecialName</span></td></tr><tr><td>CallingConvention</td><td><span>Standard, HasThis</span></td></tr><tr><td>ReturnType</td><td>T</td></tr><tr><td>ReturnTypeCustomAttributes</td><td><details class=\"dni-treeview\"><summary><span class=\"dni-code-hint\"><code>T</code></span></summary><div><table><thead><tr></tr></thead><tbody><tr><td>ParameterType</td><td>T</td></tr><tr><td>Name</td><td><div class=\"dni-plaintext\"><pre>&lt;null&gt;</pre></div></td></tr><tr><td>HasDefaultValue</td><td>False</td></tr><tr><td>DefaultValue</td><td></td></tr><tr><td>RawDefaultValue</td><td></td></tr><tr><td>MetadataToken</td><td>134217728</td></tr><tr><td>Attributes</td><td>None</td></tr><tr><td>Member</td><td>T get_Head()</td></tr><tr><td>Position</td><td>-1</td></tr><tr><td>IsIn</td><td>False</td></tr><tr><td>IsLcid</td><td>False</td></tr><tr><td>IsOptional</td><td>False</td></tr><tr><td>IsOut</td><td>False</td></tr><tr><td>IsRetval</td><td>False</td></tr><tr><td>CustomAttributes</td><td>[  ]</td></tr></tbody></table></div></details></td></tr><tr><td>ReturnParameter</td><td><details class=\"dni-treeview\"><summary><span class=\"dni-code-hint\"><code>T</code></span></summary><div><table><thead><tr></tr></thead><tbody><tr><td>ParameterType</td><td>T</td></tr><tr><td>Name</td><td><div class=\"dni-plaintext\"><pre>&lt;null&gt;</pre></div></td></tr><tr><td>HasDefaultValue</td><td>False</td></tr><tr><td>DefaultValue</td><td></td></tr><tr><td>RawDefaultValue</td><td></td></tr><tr><td>MetadataToken</td><td>134217728</td></tr><tr><td>Attributes</td><td>None</td></tr><tr><td>Member</td><td>T get_Head()</td></tr><tr><td>Position</td><td>-1</td></tr><tr><td>IsIn</td><td>False</td></tr><tr><td>IsLcid</td><td>False</td></tr><tr><td>IsOptional</td><td>False</td></tr><tr><td>IsOut</td><td>False</td></tr><tr><td>IsRetval</td><td>False</td></tr><tr><td>CustomAttributes</td><td>[  ]</td></tr></tbody></table></div></details></td></tr><tr><td>IsCollectible</td><td><div class=\"dni-plaintext\"><pre>False</pre></div></td></tr><tr><td>IsGenericMethod</td><td><div class=\"dni-plaintext\"><pre>False</pre></div></td></tr><tr><td>IsGenericMethodDefinition</td><td><div class=\"dni-plaintext\"><pre>False</pre></div></td></tr><tr><td>ContainsGenericParameters</td><td><div class=\"dni-plaintext\"><pre>True</pre></div></td></tr><tr><td>MethodImplementationFlags</td><td><span>IL</span></td></tr><tr><td>IsAbstract</td><td><div class=\"dni-plaintext\"><pre>False</pre></div></td></tr><tr><td>IsConstructor</td><td><div class=\"dni-plaintext\"><pre>False</pre></div></td></tr><tr><td>IsFinal</td><td><div class=\"dni-plaintext\"><pre>False</pre></div></td></tr><tr><td>IsHideBySig</td><td><div class=\"dni-plaintext\"><pre>True</pre></div></td></tr><tr><td>IsSpecialName</td><td><div class=\"dni-plaintext\"><pre>True</pre></div></td></tr><tr><td>IsStatic</td><td><div class=\"dni-plaintext\"><pre>False</pre></div></td></tr><tr><td>IsVirtual</td><td><div class=\"dni-plaintext\"><pre>False</pre></div></td></tr><tr><td>IsAssembly</td><td><div class=\"dni-plaintext\"><pre>False</pre></div></td></tr><tr><td>IsFamily</td><td><div class=\"dni-plaintext\"><pre>False</pre></div></td></tr><tr><td>IsFamilyAndAssembly</td><td><div class=\"dni-plaintext\"><pre>False</pre></div></td></tr><tr><td>IsFamilyOrAssembly</td><td><div class=\"dni-plaintext\"><pre>False</pre></div></td></tr><tr><td>IsPrivate</td><td><div class=\"dni-plaintext\"><pre>False</pre></div></td></tr><tr><td>IsPublic</td><td><div class=\"dni-plaintext\"><pre>True</pre></div></td></tr><tr><td>IsConstructedGenericMethod</td><td><div class=\"dni-plaintext\"><pre>False</pre></div></td></tr><tr><td>CustomAttributes</td><td><i>(empty)</i></td></tr></tbody></table></div></details></td></tr><tr><td>Message</td><td><div class=\"dni-plaintext\"><pre>The input list was empty.</pre></div></td></tr><tr><td>Data</td><td><i>(empty)</i></td></tr><tr><td>InnerException</td><td><div class=\"dni-plaintext\"><pre>&lt;null&gt;</pre></div></td></tr><tr><td>HelpLink</td><td><div class=\"dni-plaintext\"><pre>&lt;null&gt;</pre></div></td></tr><tr><td>Source</td><td><div class=\"dni-plaintext\"><pre>FSharp.Core</pre></div></td></tr><tr><td>HResult</td><td><div class=\"dni-plaintext\"><pre>-2146233079</pre></div></td></tr><tr><td>StackTrace</td><td><div class=\"dni-plaintext\"><pre>   at Microsoft.FSharp.Collections.FSharpList`1.get_Head() in D:\\a\\_work\\1\\s\\src\\FSharp.Core\\prim-types.fs:line 4142\r\n",
       "   at lambda_method148(Closure, FSharpList`1)\r\n",
       "   at Microsoft.DotNet.Interactive.Formatting.MemberAccessor`1.GetValueOrException(T instance) in D:\\a\\_work\\1\\s\\src\\Microsoft.DotNet.Interactive.Formatting\\MemberAccessor{T}.cs:line 58</pre></div></td></tr></tbody></table></div></details></td></tr><tr><td>Tail</td><td><details class=\"dni-treeview\"><summary><span class=\"dni-code-hint\"><code>System.InvalidOperationException: The input list was empty.\\r\\n   at Microsoft.FSharp.Collections.FSharpList`1.get_Tail() in D:\\a\\_work\\1\\s\\src\\FSharp.Core\\prim-types.fs:line 4147\\r\\n   at lambda_method149(Closure, FSharpList`1)\\r\\n   at Microsoft.DotNet.Interactive.Formatting.MemberAccessor`1.GetVa...</code></span></summary><div><table><thead><tr></tr></thead><tbody><tr><td>TargetSite</td><td><details class=\"dni-treeview\"><summary><span class=\"dni-code-hint\"><code>Microsoft.FSharp.Collections.FSharpList`1[T] get_Tail()</code></span></summary><div><table><thead><tr></tr></thead><tbody><tr><td>Name</td><td><div class=\"dni-plaintext\"><pre>get_Tail</pre></div></td></tr><tr><td>DeclaringType</td><td><span><a href=\"https://docs.microsoft.com/dotnet/api/microsoft.fsharp.collections.fsharplist-1?view=net-7.0\">Microsoft.FSharp.Collections.FSharpList&lt;T&gt;</a></span></td></tr><tr><td>ReflectedType</td><td><span><a href=\"https://docs.microsoft.com/dotnet/api/microsoft.fsharp.collections.fsharplist-1?view=net-7.0\">Microsoft.FSharp.Collections.FSharpList&lt;T&gt;</a></span></td></tr><tr><td>MemberType</td><td><span>Method</span></td></tr><tr><td>MetadataToken</td><td><div class=\"dni-plaintext\"><pre>100663766</pre></div></td></tr><tr><td>Module</td><td><details class=\"dni-treeview\"><summary><span class=\"dni-code-hint\"><code>FSharp.Core.dll</code></span></summary><div><table><thead><tr></tr></thead><tbody><tr><td>MDStreamVersion</td><td>131072</td></tr><tr><td>FullyQualifiedName</td><td>C:\\Users\\Allister\\.dotnet\\tools\\.store\\microsoft.dotnet-interactive\\1.0.561101\\microsoft.dotnet-interactive\\1.0.561101\\tools\\net8.0\\any\\FSharp.Core.dll</td></tr><tr><td>ModuleVersionId</td><td>57a9edab-ee61-61ca-19e6-f818cb833bb4</td></tr><tr><td>MetadataToken</td><td>1</td></tr><tr><td>ScopeName</td><td>FSharp.Core.dll</td></tr><tr><td>Name</td><td>FSharp.Core.dll</td></tr><tr><td>Assembly</td><td>FSharp.Core, Version=8.0.0.0, Culture=neutral, PublicKeyToken=b03f5f7f11d50a3a</td></tr><tr><td>ModuleHandle</td><td>System.ModuleHandle</td></tr><tr><td>CustomAttributes</td><td>[  ]</td></tr></tbody></table></div></details></td></tr><tr><td>IsSecurityCritical</td><td><div class=\"dni-plaintext\"><pre>True</pre></div></td></tr><tr><td>IsSecuritySafeCritical</td><td><div class=\"dni-plaintext\"><pre>False</pre></div></td></tr><tr><td>IsSecurityTransparent</td><td><div class=\"dni-plaintext\"><pre>False</pre></div></td></tr><tr><td>MethodHandle</td><td><details class=\"dni-treeview\"><summary><span class=\"dni-code-hint\"><code>System.RuntimeMethodHandle</code></span></summary><div><table><thead><tr></tr></thead><tbody><tr><td>Value</td><td>2268442736512</td></tr></tbody></table></div></details></td></tr><tr><td>Attributes</td><td><span>Public, HideBySig, SpecialName</span></td></tr><tr><td>CallingConvention</td><td><span>Standard, HasThis</span></td></tr><tr><td>ReturnType</td><td><span><a href=\"https://docs.microsoft.com/dotnet/api/microsoft.fsharp.collections.fsharplist-1?view=net-7.0\">Microsoft.FSharp.Collections.FSharpList&lt;T&gt;</a></span></td></tr><tr><td>ReturnTypeCustomAttributes</td><td><details class=\"dni-treeview\"><summary><span class=\"dni-code-hint\"><code>Microsoft.FSharp.Collections.FSharpList`1[T]</code></span></summary><div><table><thead><tr></tr></thead><tbody><tr><td>ParameterType</td><td>Microsoft.FSharp.Collections.FSharpList`1[T]</td></tr><tr><td>Name</td><td><div class=\"dni-plaintext\"><pre>&lt;null&gt;</pre></div></td></tr><tr><td>HasDefaultValue</td><td>False</td></tr><tr><td>DefaultValue</td><td></td></tr><tr><td>RawDefaultValue</td><td></td></tr><tr><td>MetadataToken</td><td>134217728</td></tr><tr><td>Attributes</td><td>None</td></tr><tr><td>Member</td><td>Microsoft.FSharp.Collections.FSharpList`1[T] get_Tail()</td></tr><tr><td>Position</td><td>-1</td></tr><tr><td>IsIn</td><td>False</td></tr><tr><td>IsLcid</td><td>False</td></tr><tr><td>IsOptional</td><td>False</td></tr><tr><td>IsOut</td><td>False</td></tr><tr><td>IsRetval</td><td>False</td></tr><tr><td>CustomAttributes</td><td>[  ]</td></tr></tbody></table></div></details></td></tr><tr><td>ReturnParameter</td><td><details class=\"dni-treeview\"><summary><span class=\"dni-code-hint\"><code>Microsoft.FSharp.Collections.FSharpList`1[T]</code></span></summary><div><table><thead><tr></tr></thead><tbody><tr><td>ParameterType</td><td>Microsoft.FSharp.Collections.FSharpList`1[T]</td></tr><tr><td>Name</td><td><div class=\"dni-plaintext\"><pre>&lt;null&gt;</pre></div></td></tr><tr><td>HasDefaultValue</td><td>False</td></tr><tr><td>DefaultValue</td><td></td></tr><tr><td>RawDefaultValue</td><td></td></tr><tr><td>MetadataToken</td><td>134217728</td></tr><tr><td>Attributes</td><td>None</td></tr><tr><td>Member</td><td>Microsoft.FSharp.Collections.FSharpList`1[T] get_Tail()</td></tr><tr><td>Position</td><td>-1</td></tr><tr><td>IsIn</td><td>False</td></tr><tr><td>IsLcid</td><td>False</td></tr><tr><td>IsOptional</td><td>False</td></tr><tr><td>IsOut</td><td>False</td></tr><tr><td>IsRetval</td><td>False</td></tr><tr><td>CustomAttributes</td><td>[  ]</td></tr></tbody></table></div></details></td></tr><tr><td>IsCollectible</td><td><div class=\"dni-plaintext\"><pre>False</pre></div></td></tr><tr><td>IsGenericMethod</td><td><div class=\"dni-plaintext\"><pre>False</pre></div></td></tr><tr><td>IsGenericMethodDefinition</td><td><div class=\"dni-plaintext\"><pre>False</pre></div></td></tr><tr><td>ContainsGenericParameters</td><td><div class=\"dni-plaintext\"><pre>True</pre></div></td></tr><tr><td>MethodImplementationFlags</td><td><span>IL</span></td></tr><tr><td>IsAbstract</td><td><div class=\"dni-plaintext\"><pre>False</pre></div></td></tr><tr><td>IsConstructor</td><td><div class=\"dni-plaintext\"><pre>False</pre></div></td></tr><tr><td>IsFinal</td><td><div class=\"dni-plaintext\"><pre>False</pre></div></td></tr><tr><td>IsHideBySig</td><td><div class=\"dni-plaintext\"><pre>True</pre></div></td></tr><tr><td>IsSpecialName</td><td><div class=\"dni-plaintext\"><pre>True</pre></div></td></tr><tr><td>IsStatic</td><td><div class=\"dni-plaintext\"><pre>False</pre></div></td></tr><tr><td>IsVirtual</td><td><div class=\"dni-plaintext\"><pre>False</pre></div></td></tr><tr><td>IsAssembly</td><td><div class=\"dni-plaintext\"><pre>False</pre></div></td></tr><tr><td>IsFamily</td><td><div class=\"dni-plaintext\"><pre>False</pre></div></td></tr><tr><td>IsFamilyAndAssembly</td><td><div class=\"dni-plaintext\"><pre>False</pre></div></td></tr><tr><td>IsFamilyOrAssembly</td><td><div class=\"dni-plaintext\"><pre>False</pre></div></td></tr><tr><td>IsPrivate</td><td><div class=\"dni-plaintext\"><pre>False</pre></div></td></tr><tr><td>IsPublic</td><td><div class=\"dni-plaintext\"><pre>True</pre></div></td></tr><tr><td>IsConstructedGenericMethod</td><td><div class=\"dni-plaintext\"><pre>False</pre></div></td></tr><tr><td>CustomAttributes</td><td><i>(empty)</i></td></tr></tbody></table></div></details></td></tr><tr><td>Message</td><td><div class=\"dni-plaintext\"><pre>The input list was empty.</pre></div></td></tr><tr><td>Data</td><td><i>(empty)</i></td></tr><tr><td>InnerException</td><td><div class=\"dni-plaintext\"><pre>&lt;null&gt;</pre></div></td></tr><tr><td>HelpLink</td><td><div class=\"dni-plaintext\"><pre>&lt;null&gt;</pre></div></td></tr><tr><td>Source</td><td><div class=\"dni-plaintext\"><pre>FSharp.Core</pre></div></td></tr><tr><td>HResult</td><td><div class=\"dni-plaintext\"><pre>-2146233079</pre></div></td></tr><tr><td>StackTrace</td><td><div class=\"dni-plaintext\"><pre>   at Microsoft.FSharp.Collections.FSharpList`1.get_Tail() in D:\\a\\_work\\1\\s\\src\\FSharp.Core\\prim-types.fs:line 4147\r\n",
       "   at lambda_method149(Closure, FSharpList`1)\r\n",
       "   at Microsoft.DotNet.Interactive.Formatting.MemberAccessor`1.GetValueOrException(T instance) in D:\\a\\_work\\1\\s\\src\\Microsoft.DotNet.Interactive.Formatting\\MemberAccessor{T}.cs:line 58</pre></div></td></tr></tbody></table></div></details></td></tr><tr><td><i>(values)</i></td><td><i>(empty)</i></td></tr></tbody></table></div></details></td></tr><tr><td>Type</td><td><span><a href=\"https://docs.microsoft.com/dotnet/api/system.double?view=net-7.0\">System.Double</a></span></td></tr></tbody></table></div></details></td></tr><tr><td>CustomAttributes</td><td><details class=\"dni-treeview\"><summary><span class=\"dni-code-hint\"><code>[  ]</code></span></summary><div><table><thead><tr></tr></thead><tbody><tr><td>HeadOrDefault</td><td><div class=\"dni-plaintext\"><pre>&lt;null&gt;</pre></div></td></tr><tr><td>TailOrNull</td><td><div class=\"dni-plaintext\"><pre>&lt;null&gt;</pre></div></td></tr><tr><td>Head</td><td><details class=\"dni-treeview\"><summary><span class=\"dni-code-hint\"><code>System.InvalidOperationException: The input list was empty.\\r\\n   at Microsoft.FSharp.Collections.FSharpList`1.get_Head() in D:\\a\\_work\\1\\s\\src\\FSharp.Core\\prim-types.fs:line 4142\\r\\n   at lambda_method148(Closure, FSharpList`1)\\r\\n   at Microsoft.DotNet.Interactive.Formatting.MemberAccessor`1.GetVa...</code></span></summary><div><table><thead><tr></tr></thead><tbody><tr><td>TargetSite</td><td><details class=\"dni-treeview\"><summary><span class=\"dni-code-hint\"><code>T get_Head()</code></span></summary><div><table><thead><tr></tr></thead><tbody><tr><td>Name</td><td><div class=\"dni-plaintext\"><pre>get_Head</pre></div></td></tr><tr><td>DeclaringType</td><td><span><a href=\"https://docs.microsoft.com/dotnet/api/microsoft.fsharp.collections.fsharplist-1?view=net-7.0\">Microsoft.FSharp.Collections.FSharpList&lt;T&gt;</a></span></td></tr><tr><td>ReflectedType</td><td><span><a href=\"https://docs.microsoft.com/dotnet/api/microsoft.fsharp.collections.fsharplist-1?view=net-7.0\">Microsoft.FSharp.Collections.FSharpList&lt;T&gt;</a></span></td></tr><tr><td>MemberType</td><td><span>Method</span></td></tr><tr><td>MetadataToken</td><td><div class=\"dni-plaintext\"><pre>100663765</pre></div></td></tr><tr><td>Module</td><td><details class=\"dni-treeview\"><summary><span class=\"dni-code-hint\"><code>FSharp.Core.dll</code></span></summary><div><table><thead><tr></tr></thead><tbody><tr><td>MDStreamVersion</td><td><div class=\"dni-plaintext\"><pre>131072</pre></div></td></tr><tr><td>FullyQualifiedName</td><td><div class=\"dni-plaintext\"><pre>C:\\Users\\Allister\\.dotnet\\tools\\.store\\microsoft.dotnet-interactive\\1.0.561101\\microsoft.dotnet-interactive\\1.0.561101\\tools\\net8.0\\any\\FSharp.Core.dll</pre></div></td></tr><tr><td>ModuleVersionId</td><td><div class=\"dni-plaintext\"><pre>57a9edab-ee61-61ca-19e6-f818cb833bb4</pre></div></td></tr><tr><td>MetadataToken</td><td><div class=\"dni-plaintext\"><pre>1</pre></div></td></tr><tr><td>ScopeName</td><td><div class=\"dni-plaintext\"><pre>FSharp.Core.dll</pre></div></td></tr><tr><td>Name</td><td><div class=\"dni-plaintext\"><pre>FSharp.Core.dll</pre></div></td></tr><tr><td>Assembly</td><td><details class=\"dni-treeview\"><summary><span class=\"dni-code-hint\"><code>FSharp.Core, Version=8.0.0.0, Culture=neutral, PublicKeyToken=b03f5f7f11d50a3a</code></span></summary><div><table><thead><tr></tr></thead><tbody><tr><td>CodeBase</td><td>file:///C:/Users/Allister/.dotnet/tools/.store/microsoft.dotnet-interactive/1.0.561101/microsoft.dotnet-interactive/1.0.561101/tools/net8.0/any/FSharp.Core.dll</td></tr><tr><td>FullName</td><td>FSharp.Core, Version=8.0.0.0, Culture=neutral, PublicKeyToken=b03f5f7f11d50a3a</td></tr><tr><td>EntryPoint</td><td><div class=\"dni-plaintext\"><pre>&lt;null&gt;</pre></div></td></tr><tr><td>DefinedTypes</td><td>[ Microsoft.FSharp.Core.Unit, Microsoft.FSharp.Core.SourceConstructFlags, Microsoft.FSharp.Core.CompilationRepresentationFlags, Microsoft.FSharp.Core.SealedAttribute, Microsoft.FSharp.Core.AbstractClassAttribute, Microsoft.FSharp.Core.EqualityConditionalOnAttribute, Microsoft.FSharp.Core.ComparisonConditionalOnAttribute, Microsoft.FSharp.Core.AllowNullLiteralAttribute, Microsoft.FSharp.Core.VolatileFieldAttribute, Microsoft.FSharp.Core.DefaultAugmentationAttribute, Microsoft.FSharp.Core.CLIEventAttribute, Microsoft.FSharp.Core.CLIMutableAttribute, Microsoft.FSharp.Core.AutoSerializableAttribute, Microsoft.FSharp.Core.DefaultValueAttribute, Microsoft.FSharp.Core.EntryPointAttribute, Microsoft.FSharp.Core.ReferenceEqualityAttribute, Microsoft.FSharp.Core.StructuralComparisonAttribute, Microsoft.FSharp.Core.StructuralEqualityAttribute, Microsoft.FSharp.Core.NoEqualityAttribute, Microsoft.FSharp.Core.CustomEqualityAttribute ... (2189 more) ]</td></tr><tr><td>IsCollectible</td><td>False</td></tr><tr><td>ManifestModule</td><td>FSharp.Core.dll</td></tr><tr><td>ReflectionOnly</td><td>False</td></tr><tr><td>Location</td><td>C:\\Users\\Allister\\.dotnet\\tools\\.store\\microsoft.dotnet-interactive\\1.0.561101\\microsoft.dotnet-interactive\\1.0.561101\\tools\\net8.0\\any\\FSharp.Core.dll</td></tr><tr><td>ImageRuntimeVersion</td><td>v4.0.30319</td></tr><tr><td>GlobalAssemblyCache</td><td>False</td></tr><tr><td>HostContext</td><td>0</td></tr><tr><td>IsDynamic</td><td>False</td></tr><tr><td>ExportedTypes</td><td>[ Microsoft.FSharp.Core.Unit, Microsoft.FSharp.Core.SourceConstructFlags, Microsoft.FSharp.Core.CompilationRepresentationFlags, Microsoft.FSharp.Core.SealedAttribute, Microsoft.FSharp.Core.AbstractClassAttribute, Microsoft.FSharp.Core.EqualityConditionalOnAttribute, Microsoft.FSharp.Core.ComparisonConditionalOnAttribute, Microsoft.FSharp.Core.AllowNullLiteralAttribute, Microsoft.FSharp.Core.VolatileFieldAttribute, Microsoft.FSharp.Core.DefaultAugmentationAttribute, Microsoft.FSharp.Core.CLIEventAttribute, Microsoft.FSharp.Core.CLIMutableAttribute, Microsoft.FSharp.Core.AutoSerializableAttribute, Microsoft.FSharp.Core.DefaultValueAttribute, Microsoft.FSharp.Core.EntryPointAttribute, Microsoft.FSharp.Core.ReferenceEqualityAttribute, Microsoft.FSharp.Core.StructuralComparisonAttribute, Microsoft.FSharp.Core.StructuralEqualityAttribute, Microsoft.FSharp.Core.NoEqualityAttribute, Microsoft.FSharp.Core.CustomEqualityAttribute ... (215 more) ]</td></tr><tr><td>IsFullyTrusted</td><td>True</td></tr><tr><td>CustomAttributes</td><td>[ [Microsoft.FSharp.Core.FSharpInterfaceDataVersionAttribute((Int32)2, (Int32)0, (Int32)0)], [System.Runtime.Versioning.TargetFrameworkAttribute(\".NETStandard,Version=v2.1\", FrameworkDisplayName = \".NET Standard 2.1\")], [System.Reflection.AssemblyCompanyAttribute(\"Microsoft Corporation\")], [System.Reflection.AssemblyConfigurationAttribute(\"Release\")], [System.Reflection.AssemblyCopyrightAttribute(\"© Microsoft Corporation. All rights reserved.\")], [System.Reflection.AssemblyFileVersionAttribute(\"8.2.24.6203\")], [System.Reflection.AssemblyInformationalVersionAttribute(\"8.0.200-beta.24062.3+a7979111f86ab7332897ea617635bf3435c39bc3\")], [System.Reflection.AssemblyProductAttribute(\"FSharp.Core\")], [System.Reflection.AssemblyTitleAttribute(\"FSharp.Core\")], [System.Reflection.AssemblyMetadataAttribute(\"RepositoryUrl\", \"https://github.com/dotnet/fsharp\")], [System.Resources.NeutralResourcesLanguageAttribute(\"en-US\")], [System.Runtime.InteropServices.ComVisibleAttribute((Boolean)False)], [System.CLSCompliantAttribute((Boolean)True)], [System.Security.SecurityTransparentAttribute()], [Microsoft.FSharp.Core.AutoOpenAttribute(\"Microsoft.FSharp\")], [Microsoft.FSharp.Core.AutoOpenAttribute(\"Microsoft.FSharp.Core.LanguagePrimitives.IntrinsicOperators\")], [Microsoft.FSharp.Core.AutoOpenAttribute(\"Microsoft.FSharp.Core\")], [Microsoft.FSharp.Core.AutoOpenAttribute(\"Microsoft.FSharp.Collections\")], [Microsoft.FSharp.Core.AutoOpenAttribute(\"Microsoft.FSharp.Control\")], [Microsoft.FSharp.Core.AutoOpenAttribute(\"Microsoft.FSharp.Control.TaskBuilderExtensions.LowPriority\")] ... (5 more) ]</td></tr><tr><td>EscapedCodeBase</td><td>file:///C:/Users/Allister/.dotnet/tools/.store/microsoft.dotnet-interactive/1.0.561101/microsoft.dotnet-interactive/1.0.561101/tools/net8.0/any/FSharp.Core.dll</td></tr><tr><td>Modules</td><td>[ FSharp.Core.dll ]</td></tr><tr><td>SecurityRuleSet</td><td>None</td></tr></tbody></table></div></details></td></tr><tr><td>ModuleHandle</td><td><details class=\"dni-treeview\"><summary><span class=\"dni-code-hint\"><code>System.ModuleHandle</code></span></summary><div><table><thead><tr></tr></thead><tbody><tr><td>MDStreamVersion</td><td>131072</td></tr></tbody></table></div></details></td></tr><tr><td>CustomAttributes</td><td><i>(empty)</i></td></tr></tbody></table></div></details></td></tr><tr><td>IsSecurityCritical</td><td><div class=\"dni-plaintext\"><pre>True</pre></div></td></tr><tr><td>IsSecuritySafeCritical</td><td><div class=\"dni-plaintext\"><pre>False</pre></div></td></tr><tr><td>IsSecurityTransparent</td><td><div class=\"dni-plaintext\"><pre>False</pre></div></td></tr><tr><td>MethodHandle</td><td><details class=\"dni-treeview\"><summary><span class=\"dni-code-hint\"><code>System.RuntimeMethodHandle</code></span></summary><div><table><thead><tr></tr></thead><tbody><tr><td>Value</td><td><div class=\"dni-plaintext\"><pre>2268442736496</pre></div></td></tr></tbody></table></div></details></td></tr><tr><td>Attributes</td><td><span>Public, HideBySig, SpecialName</span></td></tr><tr><td>CallingConvention</td><td><span>Standard, HasThis</span></td></tr><tr><td>ReturnType</td><td>T</td></tr><tr><td>ReturnTypeCustomAttributes</td><td><details class=\"dni-treeview\"><summary><span class=\"dni-code-hint\"><code>T</code></span></summary><div><table><thead><tr></tr></thead><tbody><tr><td>ParameterType</td><td>T</td></tr><tr><td>Name</td><td><div class=\"dni-plaintext\"><pre>&lt;null&gt;</pre></div></td></tr><tr><td>HasDefaultValue</td><td><div class=\"dni-plaintext\"><pre>False</pre></div></td></tr><tr><td>DefaultValue</td><td><details class=\"dni-treeview\"><summary><span class=\"dni-code-hint\"><code></code></span></summary><div><table><thead><tr></tr></thead><tbody></tbody></table></div></details></td></tr><tr><td>RawDefaultValue</td><td><details class=\"dni-treeview\"><summary><span class=\"dni-code-hint\"><code></code></span></summary><div><table><thead><tr></tr></thead><tbody></tbody></table></div></details></td></tr><tr><td>MetadataToken</td><td><div class=\"dni-plaintext\"><pre>134217728</pre></div></td></tr><tr><td>Attributes</td><td><span>None</span></td></tr><tr><td>Member</td><td><details class=\"dni-treeview\"><summary><span class=\"dni-code-hint\"><code>T get_Head()</code></span></summary><div><table><thead><tr></tr></thead><tbody><tr><td>Name</td><td>get_Head</td></tr><tr><td>DeclaringType</td><td>Microsoft.FSharp.Collections.FSharpList`1[T]</td></tr><tr><td>ReflectedType</td><td>Microsoft.FSharp.Collections.FSharpList`1[T]</td></tr><tr><td>MemberType</td><td>Method</td></tr><tr><td>MetadataToken</td><td>100663765</td></tr><tr><td>Module</td><td>FSharp.Core.dll</td></tr><tr><td>IsSecurityCritical</td><td>True</td></tr><tr><td>IsSecuritySafeCritical</td><td>False</td></tr><tr><td>IsSecurityTransparent</td><td>False</td></tr><tr><td>MethodHandle</td><td>System.RuntimeMethodHandle</td></tr><tr><td>Attributes</td><td>Public, HideBySig, SpecialName</td></tr><tr><td>CallingConvention</td><td>Standard, HasThis</td></tr><tr><td>ReturnType</td><td>T</td></tr><tr><td>ReturnTypeCustomAttributes</td><td>T</td></tr><tr><td>ReturnParameter</td><td>T</td></tr><tr><td>IsCollectible</td><td>False</td></tr><tr><td>IsGenericMethod</td><td>False</td></tr><tr><td>IsGenericMethodDefinition</td><td>False</td></tr><tr><td>ContainsGenericParameters</td><td>True</td></tr><tr><td>MethodImplementationFlags</td><td>IL</td></tr><tr><td>IsAbstract</td><td>False</td></tr><tr><td>IsConstructor</td><td>False</td></tr><tr><td>IsFinal</td><td>False</td></tr><tr><td>IsHideBySig</td><td>True</td></tr><tr><td>IsSpecialName</td><td>True</td></tr><tr><td>IsStatic</td><td>False</td></tr><tr><td>IsVirtual</td><td>False</td></tr><tr><td>IsAssembly</td><td>False</td></tr><tr><td>IsFamily</td><td>False</td></tr><tr><td>IsFamilyAndAssembly</td><td>False</td></tr><tr><td>IsFamilyOrAssembly</td><td>False</td></tr><tr><td>IsPrivate</td><td>False</td></tr><tr><td>IsPublic</td><td>True</td></tr><tr><td>IsConstructedGenericMethod</td><td>False</td></tr><tr><td>CustomAttributes</td><td>[  ]</td></tr></tbody></table></div></details></td></tr><tr><td>Position</td><td><div class=\"dni-plaintext\"><pre>-1</pre></div></td></tr><tr><td>IsIn</td><td><div class=\"dni-plaintext\"><pre>False</pre></div></td></tr><tr><td>IsLcid</td><td><div class=\"dni-plaintext\"><pre>False</pre></div></td></tr><tr><td>IsOptional</td><td><div class=\"dni-plaintext\"><pre>False</pre></div></td></tr><tr><td>IsOut</td><td><div class=\"dni-plaintext\"><pre>False</pre></div></td></tr><tr><td>IsRetval</td><td><div class=\"dni-plaintext\"><pre>False</pre></div></td></tr><tr><td>CustomAttributes</td><td><i>(empty)</i></td></tr></tbody></table></div></details></td></tr><tr><td>ReturnParameter</td><td><details class=\"dni-treeview\"><summary><span class=\"dni-code-hint\"><code>T</code></span></summary><div><table><thead><tr></tr></thead><tbody><tr><td>ParameterType</td><td>T</td></tr><tr><td>Name</td><td><div class=\"dni-plaintext\"><pre>&lt;null&gt;</pre></div></td></tr><tr><td>HasDefaultValue</td><td><div class=\"dni-plaintext\"><pre>False</pre></div></td></tr><tr><td>DefaultValue</td><td><details class=\"dni-treeview\"><summary><span class=\"dni-code-hint\"><code></code></span></summary><div><table><thead><tr></tr></thead><tbody></tbody></table></div></details></td></tr><tr><td>RawDefaultValue</td><td><details class=\"dni-treeview\"><summary><span class=\"dni-code-hint\"><code></code></span></summary><div><table><thead><tr></tr></thead><tbody></tbody></table></div></details></td></tr><tr><td>MetadataToken</td><td><div class=\"dni-plaintext\"><pre>134217728</pre></div></td></tr><tr><td>Attributes</td><td><span>None</span></td></tr><tr><td>Member</td><td><details class=\"dni-treeview\"><summary><span class=\"dni-code-hint\"><code>T get_Head()</code></span></summary><div><table><thead><tr></tr></thead><tbody><tr><td>Name</td><td>get_Head</td></tr><tr><td>DeclaringType</td><td>Microsoft.FSharp.Collections.FSharpList`1[T]</td></tr><tr><td>ReflectedType</td><td>Microsoft.FSharp.Collections.FSharpList`1[T]</td></tr><tr><td>MemberType</td><td>Method</td></tr><tr><td>MetadataToken</td><td>100663765</td></tr><tr><td>Module</td><td>FSharp.Core.dll</td></tr><tr><td>IsSecurityCritical</td><td>True</td></tr><tr><td>IsSecuritySafeCritical</td><td>False</td></tr><tr><td>IsSecurityTransparent</td><td>False</td></tr><tr><td>MethodHandle</td><td>System.RuntimeMethodHandle</td></tr><tr><td>Attributes</td><td>Public, HideBySig, SpecialName</td></tr><tr><td>CallingConvention</td><td>Standard, HasThis</td></tr><tr><td>ReturnType</td><td>T</td></tr><tr><td>ReturnTypeCustomAttributes</td><td>T</td></tr><tr><td>ReturnParameter</td><td>T</td></tr><tr><td>IsCollectible</td><td>False</td></tr><tr><td>IsGenericMethod</td><td>False</td></tr><tr><td>IsGenericMethodDefinition</td><td>False</td></tr><tr><td>ContainsGenericParameters</td><td>True</td></tr><tr><td>MethodImplementationFlags</td><td>IL</td></tr><tr><td>IsAbstract</td><td>False</td></tr><tr><td>IsConstructor</td><td>False</td></tr><tr><td>IsFinal</td><td>False</td></tr><tr><td>IsHideBySig</td><td>True</td></tr><tr><td>IsSpecialName</td><td>True</td></tr><tr><td>IsStatic</td><td>False</td></tr><tr><td>IsVirtual</td><td>False</td></tr><tr><td>IsAssembly</td><td>False</td></tr><tr><td>IsFamily</td><td>False</td></tr><tr><td>IsFamilyAndAssembly</td><td>False</td></tr><tr><td>IsFamilyOrAssembly</td><td>False</td></tr><tr><td>IsPrivate</td><td>False</td></tr><tr><td>IsPublic</td><td>True</td></tr><tr><td>IsConstructedGenericMethod</td><td>False</td></tr><tr><td>CustomAttributes</td><td>[  ]</td></tr></tbody></table></div></details></td></tr><tr><td>Position</td><td><div class=\"dni-plaintext\"><pre>-1</pre></div></td></tr><tr><td>IsIn</td><td><div class=\"dni-plaintext\"><pre>False</pre></div></td></tr><tr><td>IsLcid</td><td><div class=\"dni-plaintext\"><pre>False</pre></div></td></tr><tr><td>IsOptional</td><td><div class=\"dni-plaintext\"><pre>False</pre></div></td></tr><tr><td>IsOut</td><td><div class=\"dni-plaintext\"><pre>False</pre></div></td></tr><tr><td>IsRetval</td><td><div class=\"dni-plaintext\"><pre>False</pre></div></td></tr><tr><td>CustomAttributes</td><td><i>(empty)</i></td></tr></tbody></table></div></details></td></tr><tr><td>IsCollectible</td><td><div class=\"dni-plaintext\"><pre>False</pre></div></td></tr><tr><td>IsGenericMethod</td><td><div class=\"dni-plaintext\"><pre>False</pre></div></td></tr><tr><td>IsGenericMethodDefinition</td><td><div class=\"dni-plaintext\"><pre>False</pre></div></td></tr><tr><td>ContainsGenericParameters</td><td><div class=\"dni-plaintext\"><pre>True</pre></div></td></tr><tr><td>MethodImplementationFlags</td><td><span>IL</span></td></tr><tr><td>IsAbstract</td><td><div class=\"dni-plaintext\"><pre>False</pre></div></td></tr><tr><td>IsConstructor</td><td><div class=\"dni-plaintext\"><pre>False</pre></div></td></tr><tr><td>IsFinal</td><td><div class=\"dni-plaintext\"><pre>False</pre></div></td></tr><tr><td>IsHideBySig</td><td><div class=\"dni-plaintext\"><pre>True</pre></div></td></tr><tr><td>IsSpecialName</td><td><div class=\"dni-plaintext\"><pre>True</pre></div></td></tr><tr><td>IsStatic</td><td><div class=\"dni-plaintext\"><pre>False</pre></div></td></tr><tr><td>IsVirtual</td><td><div class=\"dni-plaintext\"><pre>False</pre></div></td></tr><tr><td>IsAssembly</td><td><div class=\"dni-plaintext\"><pre>False</pre></div></td></tr><tr><td>IsFamily</td><td><div class=\"dni-plaintext\"><pre>False</pre></div></td></tr><tr><td>IsFamilyAndAssembly</td><td><div class=\"dni-plaintext\"><pre>False</pre></div></td></tr><tr><td>IsFamilyOrAssembly</td><td><div class=\"dni-plaintext\"><pre>False</pre></div></td></tr><tr><td>IsPrivate</td><td><div class=\"dni-plaintext\"><pre>False</pre></div></td></tr><tr><td>IsPublic</td><td><div class=\"dni-plaintext\"><pre>True</pre></div></td></tr><tr><td>IsConstructedGenericMethod</td><td><div class=\"dni-plaintext\"><pre>False</pre></div></td></tr><tr><td>CustomAttributes</td><td><i>(empty)</i></td></tr></tbody></table></div></details></td></tr><tr><td>Message</td><td><div class=\"dni-plaintext\"><pre>The input list was empty.</pre></div></td></tr><tr><td>Data</td><td><i>(empty)</i></td></tr><tr><td>InnerException</td><td><div class=\"dni-plaintext\"><pre>&lt;null&gt;</pre></div></td></tr><tr><td>HelpLink</td><td><div class=\"dni-plaintext\"><pre>&lt;null&gt;</pre></div></td></tr><tr><td>Source</td><td><div class=\"dni-plaintext\"><pre>FSharp.Core</pre></div></td></tr><tr><td>HResult</td><td><div class=\"dni-plaintext\"><pre>-2146233079</pre></div></td></tr><tr><td>StackTrace</td><td><div class=\"dni-plaintext\"><pre>   at Microsoft.FSharp.Collections.FSharpList`1.get_Head() in D:\\a\\_work\\1\\s\\src\\FSharp.Core\\prim-types.fs:line 4142\r\n",
       "   at lambda_method148(Closure, FSharpList`1)\r\n",
       "   at Microsoft.DotNet.Interactive.Formatting.MemberAccessor`1.GetValueOrException(T instance) in D:\\a\\_work\\1\\s\\src\\Microsoft.DotNet.Interactive.Formatting\\MemberAccessor{T}.cs:line 58</pre></div></td></tr></tbody></table></div></details></td></tr><tr><td>Tail</td><td><details class=\"dni-treeview\"><summary><span class=\"dni-code-hint\"><code>System.InvalidOperationException: The input list was empty.\\r\\n   at Microsoft.FSharp.Collections.FSharpList`1.get_Tail() in D:\\a\\_work\\1\\s\\src\\FSharp.Core\\prim-types.fs:line 4147\\r\\n   at lambda_method149(Closure, FSharpList`1)\\r\\n   at Microsoft.DotNet.Interactive.Formatting.MemberAccessor`1.GetVa...</code></span></summary><div><table><thead><tr></tr></thead><tbody><tr><td>TargetSite</td><td><details class=\"dni-treeview\"><summary><span class=\"dni-code-hint\"><code>Microsoft.FSharp.Collections.FSharpList`1[T] get_Tail()</code></span></summary><div><table><thead><tr></tr></thead><tbody><tr><td>Name</td><td><div class=\"dni-plaintext\"><pre>get_Tail</pre></div></td></tr><tr><td>DeclaringType</td><td><span><a href=\"https://docs.microsoft.com/dotnet/api/microsoft.fsharp.collections.fsharplist-1?view=net-7.0\">Microsoft.FSharp.Collections.FSharpList&lt;T&gt;</a></span></td></tr><tr><td>ReflectedType</td><td><span><a href=\"https://docs.microsoft.com/dotnet/api/microsoft.fsharp.collections.fsharplist-1?view=net-7.0\">Microsoft.FSharp.Collections.FSharpList&lt;T&gt;</a></span></td></tr><tr><td>MemberType</td><td><span>Method</span></td></tr><tr><td>MetadataToken</td><td><div class=\"dni-plaintext\"><pre>100663766</pre></div></td></tr><tr><td>Module</td><td><details class=\"dni-treeview\"><summary><span class=\"dni-code-hint\"><code>FSharp.Core.dll</code></span></summary><div><table><thead><tr></tr></thead><tbody><tr><td>MDStreamVersion</td><td><div class=\"dni-plaintext\"><pre>131072</pre></div></td></tr><tr><td>FullyQualifiedName</td><td><div class=\"dni-plaintext\"><pre>C:\\Users\\Allister\\.dotnet\\tools\\.store\\microsoft.dotnet-interactive\\1.0.561101\\microsoft.dotnet-interactive\\1.0.561101\\tools\\net8.0\\any\\FSharp.Core.dll</pre></div></td></tr><tr><td>ModuleVersionId</td><td><div class=\"dni-plaintext\"><pre>57a9edab-ee61-61ca-19e6-f818cb833bb4</pre></div></td></tr><tr><td>MetadataToken</td><td><div class=\"dni-plaintext\"><pre>1</pre></div></td></tr><tr><td>ScopeName</td><td><div class=\"dni-plaintext\"><pre>FSharp.Core.dll</pre></div></td></tr><tr><td>Name</td><td><div class=\"dni-plaintext\"><pre>FSharp.Core.dll</pre></div></td></tr><tr><td>Assembly</td><td><details class=\"dni-treeview\"><summary><span class=\"dni-code-hint\"><code>FSharp.Core, Version=8.0.0.0, Culture=neutral, PublicKeyToken=b03f5f7f11d50a3a</code></span></summary><div><table><thead><tr></tr></thead><tbody><tr><td>CodeBase</td><td>file:///C:/Users/Allister/.dotnet/tools/.store/microsoft.dotnet-interactive/1.0.561101/microsoft.dotnet-interactive/1.0.561101/tools/net8.0/any/FSharp.Core.dll</td></tr><tr><td>FullName</td><td>FSharp.Core, Version=8.0.0.0, Culture=neutral, PublicKeyToken=b03f5f7f11d50a3a</td></tr><tr><td>EntryPoint</td><td><div class=\"dni-plaintext\"><pre>&lt;null&gt;</pre></div></td></tr><tr><td>DefinedTypes</td><td>[ Microsoft.FSharp.Core.Unit, Microsoft.FSharp.Core.SourceConstructFlags, Microsoft.FSharp.Core.CompilationRepresentationFlags, Microsoft.FSharp.Core.SealedAttribute, Microsoft.FSharp.Core.AbstractClassAttribute, Microsoft.FSharp.Core.EqualityConditionalOnAttribute, Microsoft.FSharp.Core.ComparisonConditionalOnAttribute, Microsoft.FSharp.Core.AllowNullLiteralAttribute, Microsoft.FSharp.Core.VolatileFieldAttribute, Microsoft.FSharp.Core.DefaultAugmentationAttribute, Microsoft.FSharp.Core.CLIEventAttribute, Microsoft.FSharp.Core.CLIMutableAttribute, Microsoft.FSharp.Core.AutoSerializableAttribute, Microsoft.FSharp.Core.DefaultValueAttribute, Microsoft.FSharp.Core.EntryPointAttribute, Microsoft.FSharp.Core.ReferenceEqualityAttribute, Microsoft.FSharp.Core.StructuralComparisonAttribute, Microsoft.FSharp.Core.StructuralEqualityAttribute, Microsoft.FSharp.Core.NoEqualityAttribute, Microsoft.FSharp.Core.CustomEqualityAttribute ... (2189 more) ]</td></tr><tr><td>IsCollectible</td><td>False</td></tr><tr><td>ManifestModule</td><td>FSharp.Core.dll</td></tr><tr><td>ReflectionOnly</td><td>False</td></tr><tr><td>Location</td><td>C:\\Users\\Allister\\.dotnet\\tools\\.store\\microsoft.dotnet-interactive\\1.0.561101\\microsoft.dotnet-interactive\\1.0.561101\\tools\\net8.0\\any\\FSharp.Core.dll</td></tr><tr><td>ImageRuntimeVersion</td><td>v4.0.30319</td></tr><tr><td>GlobalAssemblyCache</td><td>False</td></tr><tr><td>HostContext</td><td>0</td></tr><tr><td>IsDynamic</td><td>False</td></tr><tr><td>ExportedTypes</td><td>[ Microsoft.FSharp.Core.Unit, Microsoft.FSharp.Core.SourceConstructFlags, Microsoft.FSharp.Core.CompilationRepresentationFlags, Microsoft.FSharp.Core.SealedAttribute, Microsoft.FSharp.Core.AbstractClassAttribute, Microsoft.FSharp.Core.EqualityConditionalOnAttribute, Microsoft.FSharp.Core.ComparisonConditionalOnAttribute, Microsoft.FSharp.Core.AllowNullLiteralAttribute, Microsoft.FSharp.Core.VolatileFieldAttribute, Microsoft.FSharp.Core.DefaultAugmentationAttribute, Microsoft.FSharp.Core.CLIEventAttribute, Microsoft.FSharp.Core.CLIMutableAttribute, Microsoft.FSharp.Core.AutoSerializableAttribute, Microsoft.FSharp.Core.DefaultValueAttribute, Microsoft.FSharp.Core.EntryPointAttribute, Microsoft.FSharp.Core.ReferenceEqualityAttribute, Microsoft.FSharp.Core.StructuralComparisonAttribute, Microsoft.FSharp.Core.StructuralEqualityAttribute, Microsoft.FSharp.Core.NoEqualityAttribute, Microsoft.FSharp.Core.CustomEqualityAttribute ... (215 more) ]</td></tr><tr><td>IsFullyTrusted</td><td>True</td></tr><tr><td>CustomAttributes</td><td>[ [Microsoft.FSharp.Core.FSharpInterfaceDataVersionAttribute((Int32)2, (Int32)0, (Int32)0)], [System.Runtime.Versioning.TargetFrameworkAttribute(\".NETStandard,Version=v2.1\", FrameworkDisplayName = \".NET Standard 2.1\")], [System.Reflection.AssemblyCompanyAttribute(\"Microsoft Corporation\")], [System.Reflection.AssemblyConfigurationAttribute(\"Release\")], [System.Reflection.AssemblyCopyrightAttribute(\"© Microsoft Corporation. All rights reserved.\")], [System.Reflection.AssemblyFileVersionAttribute(\"8.2.24.6203\")], [System.Reflection.AssemblyInformationalVersionAttribute(\"8.0.200-beta.24062.3+a7979111f86ab7332897ea617635bf3435c39bc3\")], [System.Reflection.AssemblyProductAttribute(\"FSharp.Core\")], [System.Reflection.AssemblyTitleAttribute(\"FSharp.Core\")], [System.Reflection.AssemblyMetadataAttribute(\"RepositoryUrl\", \"https://github.com/dotnet/fsharp\")], [System.Resources.NeutralResourcesLanguageAttribute(\"en-US\")], [System.Runtime.InteropServices.ComVisibleAttribute((Boolean)False)], [System.CLSCompliantAttribute((Boolean)True)], [System.Security.SecurityTransparentAttribute()], [Microsoft.FSharp.Core.AutoOpenAttribute(\"Microsoft.FSharp\")], [Microsoft.FSharp.Core.AutoOpenAttribute(\"Microsoft.FSharp.Core.LanguagePrimitives.IntrinsicOperators\")], [Microsoft.FSharp.Core.AutoOpenAttribute(\"Microsoft.FSharp.Core\")], [Microsoft.FSharp.Core.AutoOpenAttribute(\"Microsoft.FSharp.Collections\")], [Microsoft.FSharp.Core.AutoOpenAttribute(\"Microsoft.FSharp.Control\")], [Microsoft.FSharp.Core.AutoOpenAttribute(\"Microsoft.FSharp.Control.TaskBuilderExtensions.LowPriority\")] ... (5 more) ]</td></tr><tr><td>EscapedCodeBase</td><td>file:///C:/Users/Allister/.dotnet/tools/.store/microsoft.dotnet-interactive/1.0.561101/microsoft.dotnet-interactive/1.0.561101/tools/net8.0/any/FSharp.Core.dll</td></tr><tr><td>Modules</td><td>[ FSharp.Core.dll ]</td></tr><tr><td>SecurityRuleSet</td><td>None</td></tr></tbody></table></div></details></td></tr><tr><td>ModuleHandle</td><td><details class=\"dni-treeview\"><summary><span class=\"dni-code-hint\"><code>System.ModuleHandle</code></span></summary><div><table><thead><tr></tr></thead><tbody><tr><td>MDStreamVersion</td><td>131072</td></tr></tbody></table></div></details></td></tr><tr><td>CustomAttributes</td><td><i>(empty)</i></td></tr></tbody></table></div></details></td></tr><tr><td>IsSecurityCritical</td><td><div class=\"dni-plaintext\"><pre>True</pre></div></td></tr><tr><td>IsSecuritySafeCritical</td><td><div class=\"dni-plaintext\"><pre>False</pre></div></td></tr><tr><td>IsSecurityTransparent</td><td><div class=\"dni-plaintext\"><pre>False</pre></div></td></tr><tr><td>MethodHandle</td><td><details class=\"dni-treeview\"><summary><span class=\"dni-code-hint\"><code>System.RuntimeMethodHandle</code></span></summary><div><table><thead><tr></tr></thead><tbody><tr><td>Value</td><td><div class=\"dni-plaintext\"><pre>2268442736512</pre></div></td></tr></tbody></table></div></details></td></tr><tr><td>Attributes</td><td><span>Public, HideBySig, SpecialName</span></td></tr><tr><td>CallingConvention</td><td><span>Standard, HasThis</span></td></tr><tr><td>ReturnType</td><td><span><a href=\"https://docs.microsoft.com/dotnet/api/microsoft.fsharp.collections.fsharplist-1?view=net-7.0\">Microsoft.FSharp.Collections.FSharpList&lt;T&gt;</a></span></td></tr><tr><td>ReturnTypeCustomAttributes</td><td><details class=\"dni-treeview\"><summary><span class=\"dni-code-hint\"><code>Microsoft.FSharp.Collections.FSharpList`1[T]</code></span></summary><div><table><thead><tr></tr></thead><tbody><tr><td>ParameterType</td><td><span><a href=\"https://docs.microsoft.com/dotnet/api/microsoft.fsharp.collections.fsharplist-1?view=net-7.0\">Microsoft.FSharp.Collections.FSharpList&lt;T&gt;</a></span></td></tr><tr><td>Name</td><td><div class=\"dni-plaintext\"><pre>&lt;null&gt;</pre></div></td></tr><tr><td>HasDefaultValue</td><td><div class=\"dni-plaintext\"><pre>False</pre></div></td></tr><tr><td>DefaultValue</td><td><details class=\"dni-treeview\"><summary><span class=\"dni-code-hint\"><code></code></span></summary><div><table><thead><tr></tr></thead><tbody></tbody></table></div></details></td></tr><tr><td>RawDefaultValue</td><td><details class=\"dni-treeview\"><summary><span class=\"dni-code-hint\"><code></code></span></summary><div><table><thead><tr></tr></thead><tbody></tbody></table></div></details></td></tr><tr><td>MetadataToken</td><td><div class=\"dni-plaintext\"><pre>134217728</pre></div></td></tr><tr><td>Attributes</td><td><span>None</span></td></tr><tr><td>Member</td><td><details class=\"dni-treeview\"><summary><span class=\"dni-code-hint\"><code>Microsoft.FSharp.Collections.FSharpList`1[T] get_Tail()</code></span></summary><div><table><thead><tr></tr></thead><tbody><tr><td>Name</td><td>get_Tail</td></tr><tr><td>DeclaringType</td><td>Microsoft.FSharp.Collections.FSharpList`1[T]</td></tr><tr><td>ReflectedType</td><td>Microsoft.FSharp.Collections.FSharpList`1[T]</td></tr><tr><td>MemberType</td><td>Method</td></tr><tr><td>MetadataToken</td><td>100663766</td></tr><tr><td>Module</td><td>FSharp.Core.dll</td></tr><tr><td>IsSecurityCritical</td><td>True</td></tr><tr><td>IsSecuritySafeCritical</td><td>False</td></tr><tr><td>IsSecurityTransparent</td><td>False</td></tr><tr><td>MethodHandle</td><td>System.RuntimeMethodHandle</td></tr><tr><td>Attributes</td><td>Public, HideBySig, SpecialName</td></tr><tr><td>CallingConvention</td><td>Standard, HasThis</td></tr><tr><td>ReturnType</td><td>Microsoft.FSharp.Collections.FSharpList`1[T]</td></tr><tr><td>ReturnTypeCustomAttributes</td><td>Microsoft.FSharp.Collections.FSharpList`1[T]</td></tr><tr><td>ReturnParameter</td><td>Microsoft.FSharp.Collections.FSharpList`1[T]</td></tr><tr><td>IsCollectible</td><td>False</td></tr><tr><td>IsGenericMethod</td><td>False</td></tr><tr><td>IsGenericMethodDefinition</td><td>False</td></tr><tr><td>ContainsGenericParameters</td><td>True</td></tr><tr><td>MethodImplementationFlags</td><td>IL</td></tr><tr><td>IsAbstract</td><td>False</td></tr><tr><td>IsConstructor</td><td>False</td></tr><tr><td>IsFinal</td><td>False</td></tr><tr><td>IsHideBySig</td><td>True</td></tr><tr><td>IsSpecialName</td><td>True</td></tr><tr><td>IsStatic</td><td>False</td></tr><tr><td>IsVirtual</td><td>False</td></tr><tr><td>IsAssembly</td><td>False</td></tr><tr><td>IsFamily</td><td>False</td></tr><tr><td>IsFamilyAndAssembly</td><td>False</td></tr><tr><td>IsFamilyOrAssembly</td><td>False</td></tr><tr><td>IsPrivate</td><td>False</td></tr><tr><td>IsPublic</td><td>True</td></tr><tr><td>IsConstructedGenericMethod</td><td>False</td></tr><tr><td>CustomAttributes</td><td>[  ]</td></tr></tbody></table></div></details></td></tr><tr><td>Position</td><td><div class=\"dni-plaintext\"><pre>-1</pre></div></td></tr><tr><td>IsIn</td><td><div class=\"dni-plaintext\"><pre>False</pre></div></td></tr><tr><td>IsLcid</td><td><div class=\"dni-plaintext\"><pre>False</pre></div></td></tr><tr><td>IsOptional</td><td><div class=\"dni-plaintext\"><pre>False</pre></div></td></tr><tr><td>IsOut</td><td><div class=\"dni-plaintext\"><pre>False</pre></div></td></tr><tr><td>IsRetval</td><td><div class=\"dni-plaintext\"><pre>False</pre></div></td></tr><tr><td>CustomAttributes</td><td><i>(empty)</i></td></tr></tbody></table></div></details></td></tr><tr><td>ReturnParameter</td><td><details class=\"dni-treeview\"><summary><span class=\"dni-code-hint\"><code>Microsoft.FSharp.Collections.FSharpList`1[T]</code></span></summary><div><table><thead><tr></tr></thead><tbody><tr><td>ParameterType</td><td><span><a href=\"https://docs.microsoft.com/dotnet/api/microsoft.fsharp.collections.fsharplist-1?view=net-7.0\">Microsoft.FSharp.Collections.FSharpList&lt;T&gt;</a></span></td></tr><tr><td>Name</td><td><div class=\"dni-plaintext\"><pre>&lt;null&gt;</pre></div></td></tr><tr><td>HasDefaultValue</td><td><div class=\"dni-plaintext\"><pre>False</pre></div></td></tr><tr><td>DefaultValue</td><td><details class=\"dni-treeview\"><summary><span class=\"dni-code-hint\"><code></code></span></summary><div><table><thead><tr></tr></thead><tbody></tbody></table></div></details></td></tr><tr><td>RawDefaultValue</td><td><details class=\"dni-treeview\"><summary><span class=\"dni-code-hint\"><code></code></span></summary><div><table><thead><tr></tr></thead><tbody></tbody></table></div></details></td></tr><tr><td>MetadataToken</td><td><div class=\"dni-plaintext\"><pre>134217728</pre></div></td></tr><tr><td>Attributes</td><td><span>None</span></td></tr><tr><td>Member</td><td><details class=\"dni-treeview\"><summary><span class=\"dni-code-hint\"><code>Microsoft.FSharp.Collections.FSharpList`1[T] get_Tail()</code></span></summary><div><table><thead><tr></tr></thead><tbody><tr><td>Name</td><td>get_Tail</td></tr><tr><td>DeclaringType</td><td>Microsoft.FSharp.Collections.FSharpList`1[T]</td></tr><tr><td>ReflectedType</td><td>Microsoft.FSharp.Collections.FSharpList`1[T]</td></tr><tr><td>MemberType</td><td>Method</td></tr><tr><td>MetadataToken</td><td>100663766</td></tr><tr><td>Module</td><td>FSharp.Core.dll</td></tr><tr><td>IsSecurityCritical</td><td>True</td></tr><tr><td>IsSecuritySafeCritical</td><td>False</td></tr><tr><td>IsSecurityTransparent</td><td>False</td></tr><tr><td>MethodHandle</td><td>System.RuntimeMethodHandle</td></tr><tr><td>Attributes</td><td>Public, HideBySig, SpecialName</td></tr><tr><td>CallingConvention</td><td>Standard, HasThis</td></tr><tr><td>ReturnType</td><td>Microsoft.FSharp.Collections.FSharpList`1[T]</td></tr><tr><td>ReturnTypeCustomAttributes</td><td>Microsoft.FSharp.Collections.FSharpList`1[T]</td></tr><tr><td>ReturnParameter</td><td>Microsoft.FSharp.Collections.FSharpList`1[T]</td></tr><tr><td>IsCollectible</td><td>False</td></tr><tr><td>IsGenericMethod</td><td>False</td></tr><tr><td>IsGenericMethodDefinition</td><td>False</td></tr><tr><td>ContainsGenericParameters</td><td>True</td></tr><tr><td>MethodImplementationFlags</td><td>IL</td></tr><tr><td>IsAbstract</td><td>False</td></tr><tr><td>IsConstructor</td><td>False</td></tr><tr><td>IsFinal</td><td>False</td></tr><tr><td>IsHideBySig</td><td>True</td></tr><tr><td>IsSpecialName</td><td>True</td></tr><tr><td>IsStatic</td><td>False</td></tr><tr><td>IsVirtual</td><td>False</td></tr><tr><td>IsAssembly</td><td>False</td></tr><tr><td>IsFamily</td><td>False</td></tr><tr><td>IsFamilyAndAssembly</td><td>False</td></tr><tr><td>IsFamilyOrAssembly</td><td>False</td></tr><tr><td>IsPrivate</td><td>False</td></tr><tr><td>IsPublic</td><td>True</td></tr><tr><td>IsConstructedGenericMethod</td><td>False</td></tr><tr><td>CustomAttributes</td><td>[  ]</td></tr></tbody></table></div></details></td></tr><tr><td>Position</td><td><div class=\"dni-plaintext\"><pre>-1</pre></div></td></tr><tr><td>IsIn</td><td><div class=\"dni-plaintext\"><pre>False</pre></div></td></tr><tr><td>IsLcid</td><td><div class=\"dni-plaintext\"><pre>False</pre></div></td></tr><tr><td>IsOptional</td><td><div class=\"dni-plaintext\"><pre>False</pre></div></td></tr><tr><td>IsOut</td><td><div class=\"dni-plaintext\"><pre>False</pre></div></td></tr><tr><td>IsRetval</td><td><div class=\"dni-plaintext\"><pre>False</pre></div></td></tr><tr><td>CustomAttributes</td><td><i>(empty)</i></td></tr></tbody></table></div></details></td></tr><tr><td>IsCollectible</td><td><div class=\"dni-plaintext\"><pre>False</pre></div></td></tr><tr><td>IsGenericMethod</td><td><div class=\"dni-plaintext\"><pre>False</pre></div></td></tr><tr><td>IsGenericMethodDefinition</td><td><div class=\"dni-plaintext\"><pre>False</pre></div></td></tr><tr><td>ContainsGenericParameters</td><td><div class=\"dni-plaintext\"><pre>True</pre></div></td></tr><tr><td>MethodImplementationFlags</td><td><span>IL</span></td></tr><tr><td>IsAbstract</td><td><div class=\"dni-plaintext\"><pre>False</pre></div></td></tr><tr><td>IsConstructor</td><td><div class=\"dni-plaintext\"><pre>False</pre></div></td></tr><tr><td>IsFinal</td><td><div class=\"dni-plaintext\"><pre>False</pre></div></td></tr><tr><td>IsHideBySig</td><td><div class=\"dni-plaintext\"><pre>True</pre></div></td></tr><tr><td>IsSpecialName</td><td><div class=\"dni-plaintext\"><pre>True</pre></div></td></tr><tr><td>IsStatic</td><td><div class=\"dni-plaintext\"><pre>False</pre></div></td></tr><tr><td>IsVirtual</td><td><div class=\"dni-plaintext\"><pre>False</pre></div></td></tr><tr><td>IsAssembly</td><td><div class=\"dni-plaintext\"><pre>False</pre></div></td></tr><tr><td>IsFamily</td><td><div class=\"dni-plaintext\"><pre>False</pre></div></td></tr><tr><td>IsFamilyAndAssembly</td><td><div class=\"dni-plaintext\"><pre>False</pre></div></td></tr><tr><td>IsFamilyOrAssembly</td><td><div class=\"dni-plaintext\"><pre>False</pre></div></td></tr><tr><td>IsPrivate</td><td><div class=\"dni-plaintext\"><pre>False</pre></div></td></tr><tr><td>IsPublic</td><td><div class=\"dni-plaintext\"><pre>True</pre></div></td></tr><tr><td>IsConstructedGenericMethod</td><td><div class=\"dni-plaintext\"><pre>False</pre></div></td></tr><tr><td>CustomAttributes</td><td><i>(empty)</i></td></tr></tbody></table></div></details></td></tr><tr><td>Message</td><td><div class=\"dni-plaintext\"><pre>The input list was empty.</pre></div></td></tr><tr><td>Data</td><td><i>(empty)</i></td></tr><tr><td>InnerException</td><td><div class=\"dni-plaintext\"><pre>&lt;null&gt;</pre></div></td></tr><tr><td>HelpLink</td><td><div class=\"dni-plaintext\"><pre>&lt;null&gt;</pre></div></td></tr><tr><td>Source</td><td><div class=\"dni-plaintext\"><pre>FSharp.Core</pre></div></td></tr><tr><td>HResult</td><td><div class=\"dni-plaintext\"><pre>-2146233079</pre></div></td></tr><tr><td>StackTrace</td><td><div class=\"dni-plaintext\"><pre>   at Microsoft.FSharp.Collections.FSharpList`1.get_Tail() in D:\\a\\_work\\1\\s\\src\\FSharp.Core\\prim-types.fs:line 4147\r\n",
       "   at lambda_method149(Closure, FSharpList`1)\r\n",
       "   at Microsoft.DotNet.Interactive.Formatting.MemberAccessor`1.GetValueOrException(T instance) in D:\\a\\_work\\1\\s\\src\\Microsoft.DotNet.Interactive.Formatting\\MemberAccessor{T}.cs:line 58</pre></div></td></tr></tbody></table></div></details></td></tr><tr><td><i>(values)</i></td><td><i>(empty)</i></td></tr></tbody></table></div></details></td></tr><tr><td>Type</td><td><span><a href=\"https://docs.microsoft.com/dotnet/api/system.double?view=net-7.0\">System.Double</a></span></td></tr></tbody></table></div></details><style>\r\n",
       ".dni-code-hint {\r\n",
       "    font-style: italic;\r\n",
       "    overflow: hidden;\r\n",
       "    white-space: nowrap;\r\n",
       "}\r\n",
       ".dni-treeview {\r\n",
       "    white-space: nowrap;\r\n",
       "}\r\n",
       ".dni-treeview td {\r\n",
       "    vertical-align: top;\r\n",
       "    text-align: start;\r\n",
       "}\r\n",
       "details.dni-treeview {\r\n",
       "    padding-left: 1em;\r\n",
       "}\r\n",
       "table td {\r\n",
       "    text-align: start;\r\n",
       "}\r\n",
       "table tr { \r\n",
       "    vertical-align: top; \r\n",
       "    margin: 0em 0px;\r\n",
       "}\r\n",
       "table tr td pre \r\n",
       "{ \r\n",
       "    vertical-align: top !important; \r\n",
       "    margin: 0em 0px !important;\r\n",
       "} \r\n",
       "table th {\r\n",
       "    text-align: start;\r\n",
       "}\r\n",
       "</style>"
      ]
     },
     "execution_count": 136,
     "metadata": {},
     "output_type": "execute_result"
    }
   ],
   "source": [
    "2 * (x***2) - 4 |> sexpr // We define operators and functions on symbolic types that produce new quotationd "
   ]
  },
  {
   "cell_type": "code",
   "execution_count": null,
   "id": "38991e70",
   "metadata": {
    "slideshow": {
     "slide_type": "fragment"
    }
   },
   "outputs": [],
   "source": [
    "// We use patterns like the following to generate code for symbolic tools and libraries like Maxima and Z3 from the quotationd\n",
    "        | Double n -> create_numeral solver n\n",
    "        | Rational n -> create_numeral solver n\n",
    "        | Call(None, Op \"FromOne\" , []) as e when e.Type = typeof<Rational> -> create_numeral solver 1Q\n",
    "        | Call(None, Op \"FromInt32\", (Int32 i)::[]) as e when  e.Type = typeof<Rational> -> create_numeral solver i\n",
    "        | Call(None, Op \"op_Addition\" ,l::r::[]) -> solver.Ctx.MkAdd((create_arith_expr solver l), (create_arith_expr solver r))\n",
    "        | Call(None, Op \"op_Multiply\" ,l::r::[]) -> solver.Ctx.MkMul((create_arith_expr solver l), (create_arith_expr solver r))"
   ]
  },
  {
   "cell_type": "markdown",
   "id": "05d4597b",
   "metadata": {
    "slideshow": {
     "slide_type": "slide"
    }
   },
   "source": [
    "### Sylvester :: Language Internals"
   ]
  },
  {
   "cell_type": "code",
   "execution_count": 155,
   "id": "9b071b2d",
   "metadata": {
    "slideshow": {
     "slide_type": "fragment"
    }
   },
   "outputs": [
    {
     "data": {
      "text/plain": [
       "(%i74) \r\n",
       "(%o73) [x = -sqrt(2),x = sqrt(2)]\r\n",
       "(%i73) \r\n",
       "(%o72) [x = -sqrt(2),x = sqrt(2)]\r\n",
       "(%i72) \r\n",
       "(%o71) [x = -sqrt(2),x = sqrt(2)]\r\n",
       "(%i71) \r\n",
       "(%o70) 2.0*cos(2.0*x)-1.0*sin(2*x)\r\n",
       "(%i70) \r\n",
       "(%o69) 2.0*cos(2.0*x)-2.0*cos(x)*sin(x)\r\n",
       "(%i69) \r\n",
       "(%o68) [x = -sqrt(2),x = sqrt(2)]\r\n",
       "(%i68) \r\n",
       "(%o67) [x = -sqrt(2),x = sqrt(2)]\r\n",
       "(%i67) \r\n",
       "(%o66) [x = -sqrt(2),x = sqrt(2)]\r\n",
       "(%i66) \r\n",
       "(%o65) [x = -sqrt(2),x = sqrt(2)]\r\n",
       "(%i65) \r\n",
       "(%o64) [x = -5,x = 1]"
      ]
     },
     "execution_count": 155,
     "metadata": {},
     "output_type": "execute_result"
    }
   ],
   "source": [
    "// We send expressions and equations to Maxima for evaluation\n",
    "solve defaults [x] [2 * (x***2) - 4 == 0.] |> ignore\n",
    "CAS.Maxima.last_output 20"
   ]
  },
  {
   "cell_type": "markdown",
   "id": "b13e66fd",
   "metadata": {
    "slideshow": {
     "slide_type": "slide"
    }
   },
   "source": [
    "### Sylvester :: Optimization"
   ]
  },
  {
   "cell_type": "code",
   "execution_count": 37,
   "id": "ca7d6858",
   "metadata": {},
   "outputs": [
    {
     "data": {
      "text/html": [
       "<details open=\"open\" class=\"dni-treeview\"><summary><span class=\"dni-code-hint\"><code>Some([x = 5; y = 45])</code></span></summary><div><table><thead><tr></tr></thead><tbody><tr><td>Value</td><td>$$x = 5, y = 45$$</td></tr></tbody></table></div></details><style>\r\n",
       ".dni-code-hint {\r\n",
       "    font-style: italic;\r\n",
       "    overflow: hidden;\r\n",
       "    white-space: nowrap;\r\n",
       "}\r\n",
       ".dni-treeview {\r\n",
       "    white-space: nowrap;\r\n",
       "}\r\n",
       ".dni-treeview td {\r\n",
       "    vertical-align: top;\r\n",
       "    text-align: start;\r\n",
       "}\r\n",
       "details.dni-treeview {\r\n",
       "    padding-left: 1em;\r\n",
       "}\r\n",
       "table td {\r\n",
       "    text-align: start;\r\n",
       "}\r\n",
       "table tr { \r\n",
       "    vertical-align: top; \r\n",
       "    margin: 0em 0px;\r\n",
       "}\r\n",
       "table tr td pre \r\n",
       "{ \r\n",
       "    vertical-align: top !important; \r\n",
       "    margin: 0em 0px !important;\r\n",
       "} \r\n",
       "table th {\r\n",
       "    text-align: start;\r\n",
       "}\r\n",
       "</style>"
      ]
     },
     "execution_count": 37,
     "metadata": {},
     "output_type": "execute_result"
    }
   ],
   "source": [
    "maximize f [ //maximize the objective function g using the following constraints\n",
    "    2*(x + y) == 100.\n",
    "    x == 5. \n",
    "    y <+ 50. //Less-than operator\n",
    "] "
   ]
  },
  {
   "cell_type": "markdown",
   "id": "b7045253",
   "metadata": {
    "slideshow": {
     "slide_type": "slide"
    }
   },
   "source": [
    "### Sylvester Vectors and Matrices"
   ]
  },
  {
   "cell_type": "code",
   "execution_count": 94,
   "id": "78e0ab4b",
   "metadata": {
    "slideshow": {
     "slide_type": "fragment"
    }
   },
   "outputs": [
    {
     "data": {
      "text/html": [
       "$$ \\begin{pmatrix} x & y & z \\\\ 1 & 2 & 3 \\\\ 4 + x & x + y & {a}{z} \\end{pmatrix} $$"
      ]
     },
     "execution_count": 94,
     "metadata": {},
     "output_type": "execute_result"
    }
   ],
   "source": [
    "open Matrix\n",
    "let m = mat [\n",
    "    [x;y;z;]\n",
    "    [1;2;3]\n",
    "    [4 + x; x + y; z * a]\n",
    "]\n",
    "m"
   ]
  },
  {
   "cell_type": "code",
   "execution_count": 98,
   "id": "f10b2df0",
   "metadata": {},
   "outputs": [
    {
     "name": "stderr",
     "output_type": "stream",
     "text": [
      "\r\n",
      "input.fsx (6,1)-(6,5) typecheck error The value or constructor 'mdet' is not defined. Maybe you want one of the following:\r\n",
      "   def\r\n",
      "\r\n"
     ]
    },
    {
     "ename": "Error",
     "evalue": "compilation error",
     "output_type": "error",
     "traceback": []
    }
   ],
   "source": [
    "let n = mat [\n",
    "    [4]\n",
    "    [5]\n",
    "    [y]\n",
    "]\n",
    "mdet m"
   ]
  },
  {
   "cell_type": "markdown",
   "id": "8568374d",
   "metadata": {
    "slideshow": {
     "slide_type": "slide"
    }
   },
   "source": [
    "## Game Theory::Examples\n",
    "### Stag Hunt\n",
    "Two hunters are on a stag hunt where they can't observe what the other is doing. Catching a stag is hard and requires both hunters to cooperate.  Catching a hare is much easier than catching a stag though and doesn't require cooperation but will benefit an individual hunter less than a stag. If one hunter hunts a stag and one a hare, only the hare hunter will benefit.\n",
    "<center>\n",
    "<img src = \"staghunt.jpg\" style=\"width:400px; height:400px\" />\n",
    "</center>"
   ]
  },
  {
   "cell_type": "code",
   "execution_count": null,
   "id": "05dcfa90",
   "metadata": {},
   "outputs": [],
   "source": [
    "#nowarn \"3391\""
   ]
  },
  {
   "cell_type": "code",
   "execution_count": null,
   "id": "alternative-disney",
   "metadata": {
    "tags": []
   },
   "outputs": [],
   "source": [
    "lim x a f"
   ]
  },
  {
   "cell_type": "code",
   "execution_count": 28,
   "id": "f42300c1",
   "metadata": {},
   "outputs": [
    {
     "data": {
      "text/html": [
       "<details open=\"open\" class=\"dni-treeview\"><summary><span class=\"dni-code-hint\"><code>Some([x = -1])</code></span></summary><div><table><thead><tr></tr></thead><tbody><tr><td>Value</td><td>$$x = -1$$</td></tr></tbody></table></div></details><style>\r\n",
       ".dni-code-hint {\r\n",
       "    font-style: italic;\r\n",
       "    overflow: hidden;\r\n",
       "    white-space: nowrap;\r\n",
       "}\r\n",
       ".dni-treeview {\r\n",
       "    white-space: nowrap;\r\n",
       "}\r\n",
       ".dni-treeview td {\r\n",
       "    vertical-align: top;\r\n",
       "    text-align: start;\r\n",
       "}\r\n",
       "details.dni-treeview {\r\n",
       "    padding-left: 1em;\r\n",
       "}\r\n",
       "table td {\r\n",
       "    text-align: start;\r\n",
       "}\r\n",
       "table tr { \r\n",
       "    vertical-align: top; \r\n",
       "    margin: 0em 0px;\r\n",
       "}\r\n",
       "table tr td pre \r\n",
       "{ \r\n",
       "    vertical-align: top !important; \r\n",
       "    margin: 0em 0px !important;\r\n",
       "} \r\n",
       "table th {\r\n",
       "    text-align: start;\r\n",
       "}\r\n",
       "</style>"
      ]
     },
     "execution_count": 28,
     "metadata": {},
     "output_type": "execute_result"
    }
   ],
   "source": [
    "maximize x [\n",
    "    f[x] == 0.\n",
    "]"
   ]
  },
  {
   "cell_type": "markdown",
   "id": "5ca00a5b",
   "metadata": {
    "slideshow": {
     "slide_type": "slide"
    }
   },
   "source": [
    "### Sylvester :: Trigonometric Functions"
   ]
  },
  {
   "cell_type": "code",
   "execution_count": 30,
   "id": "3824c248",
   "metadata": {
    "slideshow": {
     "slide_type": "fragment"
    }
   },
   "outputs": [
    {
     "data": {
      "text/html": [
       "$$g(x) = \\sin{2.0x} + (\\cos{x})^{2}$$"
      ]
     },
     "execution_count": 30,
     "metadata": {},
     "output_type": "execute_result"
    }
   ],
   "source": [
    "// Define a trigonometric function\n",
    "let g = realfun \"g\" (sin (2*x) + (cos x) *** 2)\n",
    "g"
   ]
  },
  {
   "cell_type": "code",
   "execution_count": 31,
   "id": "5b267a87",
   "metadata": {
    "slideshow": {
     "slide_type": "fragment"
    }
   },
   "outputs": [
    {
     "data": {
      "text/html": [
       "$$g'(x) = -2(\\sin{x})(\\cos{x}) + 2(\\cos{2.0x})$$"
      ]
     },
     "execution_count": 31,
     "metadata": {},
     "output_type": "execute_result"
    }
   ],
   "source": [
    "let h = diff x g\n",
    "h"
   ]
  },
  {
   "cell_type": "code",
   "execution_count": 32,
   "id": "6a8082e4",
   "metadata": {
    "slideshow": {
     "slide_type": "fragment"
    }
   },
   "outputs": [
    {
     "data": {
      "text/html": [
       "$$2(\\cos{2.0x}) - \\sin{2.0x}$$"
      ]
     },
     "execution_count": 32,
     "metadata": {},
     "output_type": "execute_result"
    }
   ],
   "source": [
    "trigreduce h //simplify expression using well-known trigonometric identities"
   ]
  },
  {
   "cell_type": "code",
   "execution_count": 35,
   "id": "b24511c3",
   "metadata": {
    "slideshow": {
     "slide_type": "slide"
    },
    "tags": []
   },
   "outputs": [
    {
     "data": {
      "text/html": [
       "<div>\r\n",
       " <div id=\"9bbf68b2-2242-44f9-8d3a-c3712abf2460\" class=\"jxgbox\" style=\"width:100%;height:640px\"></div>\r\n",
       " <script>require(['https://cdn.jsdelivr.net/npm/jsxgraph/distrib/jsxgraphcore.js'], function(JXG) {\n",
       "JXG.Options.text.useMathJax = true;\n",
       "var MathJS__Sin$, MathJS__Pow$, MathJS__Cos$;\r\n",
       "MathJS__Cos$ = (function(x)\r\n",
       "{\r\n",
       "    return Math.cos(x);;\r\n",
       "});\r\n",
       "MathJS__Pow$ = (function(x,y)\r\n",
       "{\r\n",
       "    return Math.pow(x, y);;\r\n",
       "});\r\n",
       "MathJS__Sin$ = (function(x)\r\n",
       "{\r\n",
       "    return Math.sin(x);;\r\n",
       "});\r\n",
       "var boundingbox = [(0.000000 - ((10.000000 - 0.000000) / 10.000000)), (1.616986 + ((1.616986 - 1.000000) / 10.000000)), (10.000000 + (10.000000 / 10.000000)), (1.000000 - (1.616986 / 10.000000))];\r\n",
       "var showNavigation = true;\r\n",
       "var showCopyright = false;\r\n",
       "var keepAspectRatio = false;\r\n",
       "var name = \"X\";\r\n",
       "var withLabel = true;\r\n",
       "var position = \"rt\";\r\n",
       "var offset = [-300, -40];\r\n",
       "var _name = \"Y\";\r\n",
       "var _withLabel = true;\r\n",
       "var _position = \"rt\";\r\n",
       "var rotate = 90;\r\n",
       "var _offset = [-40, -300];\r\n",
       "var b = JXG.JSXGraph.initBoard(\"9bbf68b2-2242-44f9-8d3a-c3712abf2460\", {axis: true, boundingbox: boundingbox, defaultAxes: {x: {label: {anchorX: \"middle\", offset: offset, position: position}, name: name, withLabel: withLabel}, y: {label: {anchorX: \"middle\", offset: _offset, position: _position, rotate: rotate}, name: _name, withLabel: _withLabel}}, keepAspectRatio: keepAspectRatio, showCopyright: showCopyright, showNavigation: showNavigation});\r\n",
       "var strokeColor = \"blue\";\r\n",
       "var strokeWidth = 1;\r\n",
       "var __withLabel = true;\r\n",
       "var fg = b.create('functiongraph', [(function(x)\r\n",
       "{\r\n",
       "    return (MathJS__Sin$((2.000000 * x)) + MathJS__Pow$(MathJS__Cos$(x), 2.000000));\r\n",
       "}), 0.000000, 10.000000], {name: \"$$g(x) = \\\\sin{2.0x} + (\\\\cos{x})^{2}$$\", strokeColor: strokeColor, strokeWidth: strokeWidth, withLabel: __withLabel});\r\n",
       "var t = b.create('text', [((10.000000 - 0.000000) * 0.500000), (1.616986 - ((1.616986 - 1.000000) / 10.000000)), \"\"], {fontSize: 24});\r\n",
       "b});</script>\r\n",
       "</div>\r\n"
      ]
     },
     "execution_count": 35,
     "metadata": {},
     "output_type": "execute_result"
    }
   ],
   "source": [
    "draw defaults g"
   ]
  },
  {
   "cell_type": "code",
   "execution_count": null,
   "id": "presidential-german",
   "metadata": {
    "slideshow": {
     "slide_type": "slide"
    }
   },
   "outputs": [],
   "source": []
  },
  {
   "cell_type": "code",
   "execution_count": 4,
   "id": "184ba578",
   "metadata": {
    "slideshow": {
     "slide_type": "slide"
    }
   },
   "outputs": [
    {
     "data": {
      "text/html": [
       "<div class=\"nfg_2p\">\r\n",
       "<div class=\"title\" style=\"text-align:center\">Prisoner's Dilemna</div>\r\n",
       "<div style=\"float:left;margin-top:35pt;margin-right:15pt\"><b>Player 1</b></div>\r\n",
       "<div style=\"margin-left:75pt\"><b>Player 2</b></div>\r\n",
       "<table style=\"border: 1px solid black; border-collapse: collapse;\">\r\n",
       "<tbody>\r\n",
       "<tr>\r\n",
       "<td></td>\r\n",
       "<td><tt>Quiet</tt></td>\r\n",
       "<td><tt>Fink</tt></td>\r\n",
       "</tr>\r\n",
       "<tr>\r\n",
       "<td><tt>Quiet</tt></td>\r\n",
       "<td align=\"center\">(3,3)</td><td align=\"center\">(4,0)</td></tr>\r\n",
       "<tr>\r\n",
       "<td><tt>Fink</tt></td>\r\n",
       "<td align=\"center\">(0,4)</td><td align=\"center\">(2,2)</td></tr>\r\n",
       "</tbody>\r\n",
       "</table>\r\n",
       "</div>\r\n"
      ]
     },
     "execution_count": 4,
     "metadata": {},
     "output_type": "execute_result"
    }
   ],
   "source": [
    "\n",
    "\n",
    "// Declare a two-player normal form game\n",
    "let g = nfg_2p \"Prisoner's Dilemna\" [\"Quiet\"; \"Fink\"] [\"Quiet\"; \"Fink\"] [\n",
    "            (3,3); (4,0)\n",
    "            (0,4); (2,2)\n",
    "    ]\n",
    "g"
   ]
  },
  {
   "cell_type": "markdown",
   "id": "d19336c7",
   "metadata": {
    "slideshow": {
     "slide_type": "slide"
    }
   },
   "source": [
    "<div style=\"margin-top:100px\">\n",
    "    <h1>Visualization in Sylvester</h1>\n",
    "</div>\n",
    "<center>\n",
    "<img src = \"https://ajb.nyc3.cdn.digitaloceanspaces.com/funcon25/sd.png\" style=\"width:900px; height:600px\" />\n",
    "</center>\n"
   ]
  },
  {
   "cell_type": "markdown",
   "id": "41513d65",
   "metadata": {
    "slideshow": {
     "slide_type": "slide"
    }
   },
   "source": [
    "# Visualization in Sylvester\n",
    "### Overview\n",
    "\n",
    "* The Sylvester EDSL allows you to create interactive mathematical visualizations from mathematical objects like functions\n",
    "* Visualization is done through the JSXGraph visualization library\n",
    "* F# code is compiled to JavaScript and executes in the user's browser\n",
    "* Sylvester provides a low-level drawing API for use by developers and extenders, and and high-level drawing API for regular users"
   ]
  },
  {
   "cell_type": "code",
   "execution_count": 7,
   "id": "1a6f3d85",
   "metadata": {
    "slideshow": {
     "slide_type": "slide"
    }
   },
   "outputs": [
    {
     "ename": "Error",
     "evalue": "System.Exception: Could not compile expression: Call (None, op_Exponentiation, [x, Value (3.0)])\r\n   at Microsoft.FSharp.Core.PrintfModule.PrintFormatToStringThenFail@1448.Invoke(String message)\r\n   at FunScript.InternalCompiler.Compiler.compile(IReturnStrategy returnStrategy, FSharpExpr expr) in C:\\Projects\\Sylvester.git\\ext\\FunScript\\src\\main\\FunScript\\InternalCompiler.fs:line 129\r\n   at FunScript.InternalCompiler.Compiler.FunScript.InternalCompiler.ICompiler.Compile(IReturnStrategy returnStrategy, FSharpExpr expr) in C:\\Projects\\Sylvester.git\\ext\\FunScript\\src\\main\\FunScript\\InternalCompiler.fs:line 189\r\n   at FunScript.CompilerComponent.splitDeclarationFromUsageIfNeeded(ICompiler compiler, FSharpExpr expr) in C:\\Projects\\Sylvester.git\\ext\\FunScript\\src\\main\\FunScript\\CompilerComponent.fs:line 11\r\n   at FunScript.CompilerComponent.split@22.Invoke(a expr) in C:\\Projects\\Sylvester.git\\ext\\FunScript\\src\\main\\FunScript\\CompilerComponent.fs:line 22\r\n   at FunScript.CompilerComponent.binaryTyped@107.Invoke(MethodBase mi, FSharpFunc`2 |Split|, FSharpList`1 _arg1)\r\n   at FunScript.CompilerComponent.generateArityWithCompiler@62.Invoke(FSharpFunc`2 split, ICompiler compiler, IReturnStrategy returnStrategy, Tuple`3 _arg1) in C:\\Projects\\Sylvester.git\\ext\\FunScript\\src\\main\\FunScript\\CompilerComponent.fs:line 65\r\n   at Microsoft.FSharp.Core.OptimizedClosures.Invoke@3683-2.Invoke(T2 u, T3 v, T4 w) in D:\\a\\_work\\1\\s\\src\\FSharp.Core\\prim-types.fs:line 3683\r\n   at FunScript.InternalCompiler.Compiler.tryCompileCall(CallType callType, IReturnStrategy returnStrategy, MethodBase mi, FSharpOption`1 obj, FSharpList`1 exprs) in C:\\Projects\\Sylvester.git\\ext\\FunScript\\src\\main\\FunScript\\InternalCompiler.fs:line 110\r\n   at FunScript.InternalCompiler.Compiler.compile(IReturnStrategy returnStrategy, FSharpExpr expr) in C:\\Projects\\Sylvester.git\\ext\\FunScript\\src\\main\\FunScript\\InternalCompiler.fs:line 122\r\n   at FunScript.InternalCompiler.Compiler.FunScript.InternalCompiler.ICompiler.Compile(IReturnStrategy returnStrategy, FSharpExpr expr) in C:\\Projects\\Sylvester.git\\ext\\FunScript\\src\\main\\FunScript\\InternalCompiler.fs:line 189\r\n   at FunScript.LambdaApplication.definition@40-1.Invoke(FSharpExpr _arg1) in C:\\Projects\\Sylvester.git\\ext\\FunScript\\src\\main\\FunScript\\LambdaApplication.fs:line 42\r\n   at FunScript.CompilerComponent.create@26.FunScript.InternalCompiler.ICompilerComponent.TryCompile(ICompiler compiler, IReturnStrategy returnStrategy, FSharpExpr expr) in C:\\Projects\\Sylvester.git\\ext\\FunScript\\src\\main\\FunScript\\CompilerComponent.fs:line 29\r\n   at FunScript.InternalCompiler.Compiler.tryComponent(IReturnStrategy returnStrategy, FSharpExpr expr, ICompilerComponent part) in C:\\Projects\\Sylvester.git\\ext\\FunScript\\src\\main\\FunScript\\InternalCompiler.fs:line 69\r\n   at FunScript.InternalCompiler.result@75.Invoke(ICompilerComponent part) in C:\\Projects\\Sylvester.git\\ext\\FunScript\\src\\main\\FunScript\\InternalCompiler.fs:line 75\r\n   at Microsoft.FSharp.Collections.ListModule.TryPick[T,TResult](FSharpFunc`2 chooser, FSharpList`1 list) in D:\\a\\_work\\1\\s\\src\\FSharp.Core\\list.fs:line 515\r\n   at FunScript.InternalCompiler.Compiler.tryAllComponents(IReturnStrategy returnStrategy, FSharpExpr expr) in C:\\Projects\\Sylvester.git\\ext\\FunScript\\src\\main\\FunScript\\InternalCompiler.fs:line 74\r\n   at FunScript.InternalCompiler.Compiler.compile(IReturnStrategy returnStrategy, FSharpExpr expr) in C:\\Projects\\Sylvester.git\\ext\\FunScript\\src\\main\\FunScript\\InternalCompiler.fs:line 126\r\n   at FunScript.InternalCompiler.Compiler.FunScript.InternalCompiler.ICompiler.Compile(IReturnStrategy returnStrategy, FSharpExpr expr) in C:\\Projects\\Sylvester.git\\ext\\FunScript\\src\\main\\FunScript\\InternalCompiler.fs:line 189\r\n   at FunScript.CompilerComponent.splitDeclarationFromUsageIfNeeded(ICompiler compiler, FSharpExpr expr) in C:\\Projects\\Sylvester.git\\ext\\FunScript\\src\\main\\FunScript\\CompilerComponent.fs:line 11\r\n   at FunScript.CompilerComponent.split@22.Invoke(a expr) in C:\\Projects\\Sylvester.git\\ext\\FunScript\\src\\main\\FunScript\\CompilerComponent.fs:line 22\r\n   at FunScript.LetBindings.binding@9-1.Invoke(FSharpExpr _arg1)\r\n   at FunScript.CompilerComponent.create@26.FunScript.InternalCompiler.ICompilerComponent.TryCompile(ICompiler compiler, IReturnStrategy returnStrategy, FSharpExpr expr) in C:\\Projects\\Sylvester.git\\ext\\FunScript\\src\\main\\FunScript\\CompilerComponent.fs:line 29\r\n   at FunScript.InternalCompiler.Compiler.tryComponent(IReturnStrategy returnStrategy, FSharpExpr expr, ICompilerComponent part) in C:\\Projects\\Sylvester.git\\ext\\FunScript\\src\\main\\FunScript\\InternalCompiler.fs:line 69\r\n   at FunScript.InternalCompiler.result@75.Invoke(ICompilerComponent part) in C:\\Projects\\Sylvester.git\\ext\\FunScript\\src\\main\\FunScript\\InternalCompiler.fs:line 75\r\n   at Microsoft.FSharp.Collections.ListModule.TryPick[T,TResult](FSharpFunc`2 chooser, FSharpList`1 list) in D:\\a\\_work\\1\\s\\src\\FSharp.Core\\list.fs:line 515\r\n   at FunScript.InternalCompiler.Compiler.tryAllComponents(IReturnStrategy returnStrategy, FSharpExpr expr) in C:\\Projects\\Sylvester.git\\ext\\FunScript\\src\\main\\FunScript\\InternalCompiler.fs:line 74\r\n   at FunScript.InternalCompiler.Compiler.compile(IReturnStrategy returnStrategy, FSharpExpr expr) in C:\\Projects\\Sylvester.git\\ext\\FunScript\\src\\main\\FunScript\\InternalCompiler.fs:line 126\r\n   at FunScript.InternalCompiler.Compiler.FunScript.InternalCompiler.ICompiler.Compile(IReturnStrategy returnStrategy, FSharpExpr expr) in C:\\Projects\\Sylvester.git\\ext\\FunScript\\src\\main\\FunScript\\InternalCompiler.fs:line 189\r\n   at FunScript.CompilerComponent.splitDeclarationFromUsageIfNeeded(ICompiler compiler, FSharpExpr expr) in C:\\Projects\\Sylvester.git\\ext\\FunScript\\src\\main\\FunScript\\CompilerComponent.fs:line 11\r\n   at FunScript.CompilerComponent.split@22.Invoke(a expr) in C:\\Projects\\Sylvester.git\\ext\\FunScript\\src\\main\\FunScript\\CompilerComponent.fs:line 22\r\n   at FunScript.Reflection.getDeclarationAndReferences@68.Invoke(a _arg1)\r\n   at Microsoft.FSharp.Primitives.Basics.List.map[T,TResult](FSharpFunc`2 mapping, FSharpList`1 x) in D:\\a\\_work\\1\\s\\src\\FSharp.Core\\local.fs:line 241\r\n   at FunScript.Reflection.getDeclarationAndReferences[a,b,c](FSharpFunc`2 |Split|, FSharpList`1 exprs) in C:\\Projects\\Sylvester.git\\ext\\FunScript\\src\\main\\FunScript\\Reflection.fs:line 67\r\n   at FunScript.Arrays.creation@9-1.Invoke(FSharpExpr _arg1) in C:\\Projects\\Sylvester.git\\ext\\FunScript\\src\\main\\FunScript\\Arrays.fs:line 11\r\n   at FunScript.CompilerComponent.create@26.FunScript.InternalCompiler.ICompilerComponent.TryCompile(ICompiler compiler, IReturnStrategy returnStrategy, FSharpExpr expr) in C:\\Projects\\Sylvester.git\\ext\\FunScript\\src\\main\\FunScript\\CompilerComponent.fs:line 29\r\n   at FunScript.InternalCompiler.Compiler.tryComponent(IReturnStrategy returnStrategy, FSharpExpr expr, ICompilerComponent part) in C:\\Projects\\Sylvester.git\\ext\\FunScript\\src\\main\\FunScript\\InternalCompiler.fs:line 69\r\n   at FunScript.InternalCompiler.result@75.Invoke(ICompilerComponent part) in C:\\Projects\\Sylvester.git\\ext\\FunScript\\src\\main\\FunScript\\InternalCompiler.fs:line 75\r\n   at Microsoft.FSharp.Collections.ListModule.TryPick[T,TResult](FSharpFunc`2 chooser, FSharpList`1 list) in D:\\a\\_work\\1\\s\\src\\FSharp.Core\\list.fs:line 515\r\n   at FunScript.InternalCompiler.Compiler.tryAllComponents(IReturnStrategy returnStrategy, FSharpExpr expr) in C:\\Projects\\Sylvester.git\\ext\\FunScript\\src\\main\\FunScript\\InternalCompiler.fs:line 74\r\n   at FunScript.InternalCompiler.Compiler.compile(IReturnStrategy returnStrategy, FSharpExpr expr) in C:\\Projects\\Sylvester.git\\ext\\FunScript\\src\\main\\FunScript\\InternalCompiler.fs:line 126\r\n   at FunScript.InternalCompiler.Compiler.FunScript.InternalCompiler.ICompiler.Compile(IReturnStrategy returnStrategy, FSharpExpr expr) in C:\\Projects\\Sylvester.git\\ext\\FunScript\\src\\main\\FunScript\\InternalCompiler.fs:line 189\r\n   at FunScript.CompilerComponent.splitDeclarationFromUsageIfNeeded(ICompiler compiler, FSharpExpr expr) in C:\\Projects\\Sylvester.git\\ext\\FunScript\\src\\main\\FunScript\\CompilerComponent.fs:line 11\r\n   at FunScript.CompilerComponent.split@22.Invoke(a expr) in C:\\Projects\\Sylvester.git\\ext\\FunScript\\src\\main\\FunScript\\CompilerComponent.fs:line 22\r\n   at FunScript.Reflection.getDeclarationAndReferences@68.Invoke(a _arg1)\r\n   at Microsoft.FSharp.Primitives.Basics.List.mapToFreshConsTail[a,b](FSharpList`1 cons, FSharpFunc`2 f, FSharpList`1 x) in D:\\a\\_work\\1\\s\\src\\FSharp.Core\\local.fs:line 232\r\n   at Microsoft.FSharp.Primitives.Basics.List.map[T,TResult](FSharpFunc`2 mapping, FSharpList`1 x) in D:\\a\\_work\\1\\s\\src\\FSharp.Core\\local.fs:line 241\r\n   at FunScript.Reflection.getDeclarationAndReferences[a,b,c](FSharpFunc`2 |Split|, FSharpList`1 exprs) in C:\\Projects\\Sylvester.git\\ext\\FunScript\\src\\main\\FunScript\\Reflection.fs:line 67\r\n   at FunScript.ReflectedDefinitions.createCall[a](FSharpFunc`2 |Split|, IReturnStrategy returnStategy, ICompiler compiler, IEnumerable`1 exprs, MethodInfo mi) in C:\\Projects\\Sylvester.git\\ext\\FunScript\\src\\main\\FunScript\\ReflectedDefinitions.fs:line 330\r\n   at FunScript.ReflectedDefinitions.methodCalling@347.Invoke(FSharpFunc`2 split, ICompiler compiler, IReturnStrategy returnStategy, FSharpExpr _arg1) in C:\\Projects\\Sylvester.git\\ext\\FunScript\\src\\main\\FunScript\\ReflectedDefinitions.fs:line 350\r\n   at Microsoft.FSharp.Core.OptimizedClosures.Invoke@3683-2.Invoke(T2 u, T3 v, T4 w) in D:\\a\\_work\\1\\s\\src\\FSharp.Core\\prim-types.fs:line 3683\r\n   at FunScript.CompilerComponent.create@26.FunScript.InternalCompiler.ICompilerComponent.TryCompile(ICompiler compiler, IReturnStrategy returnStrategy, FSharpExpr expr) in C:\\Projects\\Sylvester.git\\ext\\FunScript\\src\\main\\FunScript\\CompilerComponent.fs:line 29\r\n   at FunScript.InternalCompiler.Compiler.tryComponent(IReturnStrategy returnStrategy, FSharpExpr expr, ICompilerComponent part) in C:\\Projects\\Sylvester.git\\ext\\FunScript\\src\\main\\FunScript\\InternalCompiler.fs:line 69\r\n   at FunScript.InternalCompiler.result@75.Invoke(ICompilerComponent part) in C:\\Projects\\Sylvester.git\\ext\\FunScript\\src\\main\\FunScript\\InternalCompiler.fs:line 75\r\n   at Microsoft.FSharp.Collections.ListModule.TryPick[T,TResult](FSharpFunc`2 chooser, FSharpList`1 list) in D:\\a\\_work\\1\\s\\src\\FSharp.Core\\list.fs:line 515\r\n   at FunScript.InternalCompiler.Compiler.tryAllComponents(IReturnStrategy returnStrategy, FSharpExpr expr) in C:\\Projects\\Sylvester.git\\ext\\FunScript\\src\\main\\FunScript\\InternalCompiler.fs:line 74\r\n   at FunScript.InternalCompiler.Compiler.compile(IReturnStrategy returnStrategy, FSharpExpr expr) in C:\\Projects\\Sylvester.git\\ext\\FunScript\\src\\main\\FunScript\\InternalCompiler.fs:line 126\r\n   at FunScript.InternalCompiler.Compiler.FunScript.InternalCompiler.ICompiler.Compile(IReturnStrategy returnStrategy, FSharpExpr expr) in C:\\Projects\\Sylvester.git\\ext\\FunScript\\src\\main\\FunScript\\InternalCompiler.fs:line 189\r\n   at FunScript.LetBindings.|Return|@8.Invoke(IReturnStrategy arg00, FSharpExpr arg10) in C:\\Projects\\Sylvester.git\\ext\\FunScript\\src\\main\\FunScript\\LetBindings.fs:line 8\r\n   at FunScript.LetBindings.binding@9-1.Invoke(FSharpExpr _arg1)\r\n   at FunScript.CompilerComponent.create@26.FunScript.InternalCompiler.ICompilerComponent.TryCompile(ICompiler compiler, IReturnStrategy returnStrategy, FSharpExpr expr) in C:\\Projects\\Sylvester.git\\ext\\FunScript\\src\\main\\FunScript\\CompilerComponent.fs:line 29\r\n   at FunScript.InternalCompiler.Compiler.tryComponent(IReturnStrategy returnStrategy, FSharpExpr expr, ICompilerComponent part) in C:\\Projects\\Sylvester.git\\ext\\FunScript\\src\\main\\FunScript\\InternalCompiler.fs:line 69\r\n   at FunScript.InternalCompiler.result@75.Invoke(ICompilerComponent part) in C:\\Projects\\Sylvester.git\\ext\\FunScript\\src\\main\\FunScript\\InternalCompiler.fs:line 75\r\n   at Microsoft.FSharp.Collections.ListModule.TryPick[T,TResult](FSharpFunc`2 chooser, FSharpList`1 list) in D:\\a\\_work\\1\\s\\src\\FSharp.Core\\list.fs:line 515\r\n   at FunScript.InternalCompiler.Compiler.tryAllComponents(IReturnStrategy returnStrategy, FSharpExpr expr) in C:\\Projects\\Sylvester.git\\ext\\FunScript\\src\\main\\FunScript\\InternalCompiler.fs:line 74\r\n   at FunScript.InternalCompiler.Compiler.compile(IReturnStrategy returnStrategy, FSharpExpr expr) in C:\\Projects\\Sylvester.git\\ext\\FunScript\\src\\main\\FunScript\\InternalCompiler.fs:line 126\r\n   at FunScript.InternalCompiler.Compiler.FunScript.InternalCompiler.ICompiler.Compile(IReturnStrategy returnStrategy, FSharpExpr expr) in C:\\Projects\\Sylvester.git\\ext\\FunScript\\src\\main\\FunScript\\InternalCompiler.fs:line 189\r\n   at FunScript.LetBindings.|Return|@8.Invoke(IReturnStrategy arg00, FSharpExpr arg10) in C:\\Projects\\Sylvester.git\\ext\\FunScript\\src\\main\\FunScript\\LetBindings.fs:line 8\r\n   at FunScript.LetBindings.binding@9-1.Invoke(FSharpExpr _arg1)\r\n   at FunScript.CompilerComponent.create@26.FunScript.InternalCompiler.ICompilerComponent.TryCompile(ICompiler compiler, IReturnStrategy returnStrategy, FSharpExpr expr) in C:\\Projects\\Sylvester.git\\ext\\FunScript\\src\\main\\FunScript\\CompilerComponent.fs:line 29\r\n   at FunScript.InternalCompiler.Compiler.tryComponent(IReturnStrategy returnStrategy, FSharpExpr expr, ICompilerComponent part) in C:\\Projects\\Sylvester.git\\ext\\FunScript\\src\\main\\FunScript\\InternalCompiler.fs:line 69\r\n   at FunScript.InternalCompiler.result@75.Invoke(ICompilerComponent part) in C:\\Projects\\Sylvester.git\\ext\\FunScript\\src\\main\\FunScript\\InternalCompiler.fs:line 75\r\n   at Microsoft.FSharp.Collections.ListModule.TryPick[T,TResult](FSharpFunc`2 chooser, FSharpList`1 list) in D:\\a\\_work\\1\\s\\src\\FSharp.Core\\list.fs:line 515\r\n   at FunScript.InternalCompiler.Compiler.tryAllComponents(IReturnStrategy returnStrategy, FSharpExpr expr) in C:\\Projects\\Sylvester.git\\ext\\FunScript\\src\\main\\FunScript\\InternalCompiler.fs:line 74\r\n   at FunScript.InternalCompiler.Compiler.compile(IReturnStrategy returnStrategy, FSharpExpr expr) in C:\\Projects\\Sylvester.git\\ext\\FunScript\\src\\main\\FunScript\\InternalCompiler.fs:line 126\r\n   at FunScript.InternalCompiler.Compiler.FunScript.InternalCompiler.ICompiler.Compile(IReturnStrategy returnStrategy, FSharpExpr expr) in C:\\Projects\\Sylvester.git\\ext\\FunScript\\src\\main\\FunScript\\InternalCompiler.fs:line 189\r\n   at FunScript.LetBindings.|Return|@8.Invoke(IReturnStrategy arg00, FSharpExpr arg10) in C:\\Projects\\Sylvester.git\\ext\\FunScript\\src\\main\\FunScript\\LetBindings.fs:line 8\r\n   at FunScript.LetBindings.binding@9-1.Invoke(FSharpExpr _arg1)\r\n   at FunScript.CompilerComponent.create@26.FunScript.InternalCompiler.ICompilerComponent.TryCompile(ICompiler compiler, IReturnStrategy returnStrategy, FSharpExpr expr) in C:\\Projects\\Sylvester.git\\ext\\FunScript\\src\\main\\FunScript\\CompilerComponent.fs:line 29\r\n   at FunScript.InternalCompiler.Compiler.tryComponent(IReturnStrategy returnStrategy, FSharpExpr expr, ICompilerComponent part) in C:\\Projects\\Sylvester.git\\ext\\FunScript\\src\\main\\FunScript\\InternalCompiler.fs:line 69\r\n   at FunScript.InternalCompiler.result@75.Invoke(ICompilerComponent part) in C:\\Projects\\Sylvester.git\\ext\\FunScript\\src\\main\\FunScript\\InternalCompiler.fs:line 75\r\n   at Microsoft.FSharp.Collections.ListModule.TryPick[T,TResult](FSharpFunc`2 chooser, FSharpList`1 list) in D:\\a\\_work\\1\\s\\src\\FSharp.Core\\list.fs:line 515\r\n   at FunScript.InternalCompiler.Compiler.tryAllComponents(IReturnStrategy returnStrategy, FSharpExpr expr) in C:\\Projects\\Sylvester.git\\ext\\FunScript\\src\\main\\FunScript\\InternalCompiler.fs:line 74\r\n   at FunScript.InternalCompiler.Compiler.compile(IReturnStrategy returnStrategy, FSharpExpr expr) in C:\\Projects\\Sylvester.git\\ext\\FunScript\\src\\main\\FunScript\\InternalCompiler.fs:line 126\r\n   at FunScript.InternalCompiler.Compiler.FunScript.InternalCompiler.ICompiler.Compile(IReturnStrategy returnStrategy, FSharpExpr expr) in C:\\Projects\\Sylvester.git\\ext\\FunScript\\src\\main\\FunScript\\InternalCompiler.fs:line 189\r\n   at FunScript.LetBindings.|Return|@8.Invoke(IReturnStrategy arg00, FSharpExpr arg10) in C:\\Projects\\Sylvester.git\\ext\\FunScript\\src\\main\\FunScript\\LetBindings.fs:line 8\r\n   at FunScript.LetBindings.binding@9-1.Invoke(FSharpExpr _arg1)\r\n   at FunScript.CompilerComponent.create@26.FunScript.InternalCompiler.ICompilerComponent.TryCompile(ICompiler compiler, IReturnStrategy returnStrategy, FSharpExpr expr) in C:\\Projects\\Sylvester.git\\ext\\FunScript\\src\\main\\FunScript\\CompilerComponent.fs:line 29\r\n   at FunScript.InternalCompiler.Compiler.tryComponent(IReturnStrategy returnStrategy, FSharpExpr expr, ICompilerComponent part) in C:\\Projects\\Sylvester.git\\ext\\FunScript\\src\\main\\FunScript\\InternalCompiler.fs:line 69\r\n   at FunScript.InternalCompiler.result@75.Invoke(ICompilerComponent part) in C:\\Projects\\Sylvester.git\\ext\\FunScript\\src\\main\\FunScript\\InternalCompiler.fs:line 75\r\n   at Microsoft.FSharp.Collections.ListModule.TryPick[T,TResult](FSharpFunc`2 chooser, FSharpList`1 list) in D:\\a\\_work\\1\\s\\src\\FSharp.Core\\list.fs:line 515\r\n   at FunScript.InternalCompiler.Compiler.tryAllComponents(IReturnStrategy returnStrategy, FSharpExpr expr) in C:\\Projects\\Sylvester.git\\ext\\FunScript\\src\\main\\FunScript\\InternalCompiler.fs:line 74\r\n   at FunScript.InternalCompiler.Compiler.compile(IReturnStrategy returnStrategy, FSharpExpr expr) in C:\\Projects\\Sylvester.git\\ext\\FunScript\\src\\main\\FunScript\\InternalCompiler.fs:line 126\r\n   at FunScript.InternalCompiler.Compiler.FunScript.InternalCompiler.ICompiler.Compile(IReturnStrategy returnStrategy, FSharpExpr expr) in C:\\Projects\\Sylvester.git\\ext\\FunScript\\src\\main\\FunScript\\InternalCompiler.fs:line 189\r\n   at FunScript.LetBindings.|Return|@8.Invoke(IReturnStrategy arg00, FSharpExpr arg10) in C:\\Projects\\Sylvester.git\\ext\\FunScript\\src\\main\\FunScript\\LetBindings.fs:line 8\r\n   at FunScript.LetBindings.binding@9-1.Invoke(FSharpExpr _arg1)\r\n   at FunScript.CompilerComponent.create@26.FunScript.InternalCompiler.ICompilerComponent.TryCompile(ICompiler compiler, IReturnStrategy returnStrategy, FSharpExpr expr) in C:\\Projects\\Sylvester.git\\ext\\FunScript\\src\\main\\FunScript\\CompilerComponent.fs:line 29\r\n   at FunScript.InternalCompiler.Compiler.tryComponent(IReturnStrategy returnStrategy, FSharpExpr expr, ICompilerComponent part) in C:\\Projects\\Sylvester.git\\ext\\FunScript\\src\\main\\FunScript\\InternalCompiler.fs:line 69\r\n   at FunScript.InternalCompiler.result@75.Invoke(ICompilerComponent part) in C:\\Projects\\Sylvester.git\\ext\\FunScript\\src\\main\\FunScript\\InternalCompiler.fs:line 75\r\n   at Microsoft.FSharp.Collections.ListModule.TryPick[T,TResult](FSharpFunc`2 chooser, FSharpList`1 list) in D:\\a\\_work\\1\\s\\src\\FSharp.Core\\list.fs:line 515\r\n   at FunScript.InternalCompiler.Compiler.tryAllComponents(IReturnStrategy returnStrategy, FSharpExpr expr) in C:\\Projects\\Sylvester.git\\ext\\FunScript\\src\\main\\FunScript\\InternalCompiler.fs:line 74\r\n   at FunScript.InternalCompiler.Compiler.compile(IReturnStrategy returnStrategy, FSharpExpr expr) in C:\\Projects\\Sylvester.git\\ext\\FunScript\\src\\main\\FunScript\\InternalCompiler.fs:line 126\r\n   at FunScript.InternalCompiler.Compiler.Compile(IReturnStrategy returnStrategy, FSharpExpr expr) in C:\\Projects\\Sylvester.git\\ext\\FunScript\\src\\main\\FunScript\\InternalCompiler.fs:line 182\r\n   at FunScript.Compiler.Compiler.CompileImpl[a](FSharpExpr expression, FSharpFunc`2 adjustComponents, FSharpOption`1 noReturn, FSharpOption`1 shouldCompress, FSharpOption`1 isEventMappingEnabled) in C:\\Projects\\Sylvester.git\\ext\\FunScript\\src\\main\\FunScript\\Compiler.fs:line 49\r\n   at FunScript.Compiler.Compiler.Compile(FSharpExpr expression, FSharpOption`1 components, FSharpOption`1 noReturn, FSharpOption`1 shouldCompress, FSharpOption`1 isEventMappingEnabled) in C:\\Projects\\Sylvester.git\\ext\\FunScript\\src\\main\\FunScript\\Compiler.fs:line 60\r\n   at FunScript.TypeScriptMappings.compile(FSharpExpr expr) in C:\\Projects\\Sylvester.git\\ext\\FunScript\\src\\main\\FunScript\\TypeScriptMappings.fs:line 40\r\n   at Sylvester.Board.draw_board(FSharpExpr src) in C:\\Projects\\Sylvester.git\\src\\Visualization\\Sylvester.Visualization.Web\\Board.fs:line 36\r\n   at FSI_0005.clo@11-12.Invoke(FSharpExpr`1 b)\r\n   at Microsoft.DotNet.Interactive.Formatting.Formatter.<>c__DisplayClass47_0`1.<Register>b__0(T value, FormatContext context) in D:\\a\\_work\\1\\s\\src\\Microsoft.DotNet.Interactive.Formatting\\Formatter.cs:line 443\r\n   at Microsoft.DotNet.Interactive.Formatting.AnonymousTypeFormatter`1.Format(T instance, FormatContext context) in D:\\a\\_work\\1\\s\\src\\Microsoft.DotNet.Interactive.Formatting\\AnonymousTypeFormatter{T}.cs:line 30\r\n   at Microsoft.DotNet.Interactive.Formatting.TypeFormatter`1.Microsoft.DotNet.Interactive.Formatting.ITypeFormatter.Format(Object instance, FormatContext context) in D:\\a\\_work\\1\\s\\src\\Microsoft.DotNet.Interactive.Formatting\\TypeFormatter{T}.cs:line 23\r\n   at Microsoft.DotNet.Interactive.Formatting.Formatter`1.FormatTo(T obj, FormatContext context, String mimeType) in D:\\a\\_work\\1\\s\\src\\Microsoft.DotNet.Interactive.Formatting\\Formatter{T}.cs:line 79\r\n   at Microsoft.DotNet.Interactive.Formatting.Formatter.FormatTo[T](T obj, FormatContext context, String mimeType) in D:\\a\\_work\\1\\s\\src\\Microsoft.DotNet.Interactive.Formatting\\Formatter.cs:line 320\r\n   at Microsoft.DotNet.Interactive.Formatting.Formatter.ToDisplayString(Object obj, String mimeType) in D:\\a\\_work\\1\\s\\src\\Microsoft.DotNet.Interactive.Formatting\\Formatter.cs:line 277\r\n   at Microsoft.DotNet.Interactive.FormattedValue.<>c__DisplayClass12_0.<CreateManyFromObject>b__0(String mimeType) in D:\\a\\_work\\1\\s\\src\\Microsoft.DotNet.Interactive\\FormattedValue.cs:line 49\r\n   at System.Linq.Enumerable.SelectArrayIterator`2.Fill(ReadOnlySpan`1 source, Span`1 destination, Func`2 func)\r\n   at System.Linq.Enumerable.SelectArrayIterator`2.ToArray()\r\n   at Microsoft.DotNet.Interactive.FormattedValue.CreateManyFromObject(Object value, String[] mimeTypes) in D:\\a\\_work\\1\\s\\src\\Microsoft.DotNet.Interactive\\FormattedValue.cs:line 47\r\n   at <StartupCode$Microsoft-DotNet-Interactive-FSharp>.$FSharpKernel.clo@191-3.MoveNext() in D:\\a\\_work\\1\\s\\src\\Microsoft.DotNet.Interactive.FSharp\\FSharpKernel.fs:line 223\r\n   at Microsoft.DotNet.Interactive.Kernel.HandleAsync(KernelCommand command, KernelInvocationContext context) in D:\\a\\_work\\1\\s\\src\\Microsoft.DotNet.Interactive\\Kernel.cs:line 365\r\n   at Microsoft.DotNet.Interactive.KernelCommandPipeline.<BuildPipeline>b__6_0(KernelCommand command, KernelInvocationContext context, KernelPipelineContinuation _) in D:\\a\\_work\\1\\s\\src\\Microsoft.DotNet.Interactive\\KernelCommandPipeline.cs:line 60\r\n   at Microsoft.DotNet.Interactive.KernelCommandPipeline.SendAsync(KernelCommand command, KernelInvocationContext context) in D:\\a\\_work\\1\\s\\src\\Microsoft.DotNet.Interactive\\KernelCommandPipeline.cs:line 41",
     "output_type": "error",
     "traceback": [
      "System.Exception: Could not compile expression: Call (None, op_Exponentiation, [x, Value (3.0)])\r\n   at Microsoft.FSharp.Core.PrintfModule.PrintFormatToStringThenFail@1448.Invoke(String message)\r\n   at FunScript.InternalCompiler.Compiler.compile(IReturnStrategy returnStrategy, FSharpExpr expr) in C:\\Projects\\Sylvester.git\\ext\\FunScript\\src\\main\\FunScript\\InternalCompiler.fs:line 129\r\n   at FunScript.InternalCompiler.Compiler.FunScript.InternalCompiler.ICompiler.Compile(IReturnStrategy returnStrategy, FSharpExpr expr) in C:\\Projects\\Sylvester.git\\ext\\FunScript\\src\\main\\FunScript\\InternalCompiler.fs:line 189\r\n   at FunScript.CompilerComponent.splitDeclarationFromUsageIfNeeded(ICompiler compiler, FSharpExpr expr) in C:\\Projects\\Sylvester.git\\ext\\FunScript\\src\\main\\FunScript\\CompilerComponent.fs:line 11\r\n   at FunScript.CompilerComponent.split@22.Invoke(a expr) in C:\\Projects\\Sylvester.git\\ext\\FunScript\\src\\main\\FunScript\\CompilerComponent.fs:line 22\r\n   at FunScript.CompilerComponent.binaryTyped@107.Invoke(MethodBase mi, FSharpFunc`2 |Split|, FSharpList`1 _arg1)\r\n   at FunScript.CompilerComponent.generateArityWithCompiler@62.Invoke(FSharpFunc`2 split, ICompiler compiler, IReturnStrategy returnStrategy, Tuple`3 _arg1) in C:\\Projects\\Sylvester.git\\ext\\FunScript\\src\\main\\FunScript\\CompilerComponent.fs:line 65\r\n   at Microsoft.FSharp.Core.OptimizedClosures.Invoke@3683-2.Invoke(T2 u, T3 v, T4 w) in D:\\a\\_work\\1\\s\\src\\FSharp.Core\\prim-types.fs:line 3683\r\n   at FunScript.InternalCompiler.Compiler.tryCompileCall(CallType callType, IReturnStrategy returnStrategy, MethodBase mi, FSharpOption`1 obj, FSharpList`1 exprs) in C:\\Projects\\Sylvester.git\\ext\\FunScript\\src\\main\\FunScript\\InternalCompiler.fs:line 110\r\n   at FunScript.InternalCompiler.Compiler.compile(IReturnStrategy returnStrategy, FSharpExpr expr) in C:\\Projects\\Sylvester.git\\ext\\FunScript\\src\\main\\FunScript\\InternalCompiler.fs:line 122\r\n   at FunScript.InternalCompiler.Compiler.FunScript.InternalCompiler.ICompiler.Compile(IReturnStrategy returnStrategy, FSharpExpr expr) in C:\\Projects\\Sylvester.git\\ext\\FunScript\\src\\main\\FunScript\\InternalCompiler.fs:line 189\r\n   at FunScript.LambdaApplication.definition@40-1.Invoke(FSharpExpr _arg1) in C:\\Projects\\Sylvester.git\\ext\\FunScript\\src\\main\\FunScript\\LambdaApplication.fs:line 42\r\n   at FunScript.CompilerComponent.create@26.FunScript.InternalCompiler.ICompilerComponent.TryCompile(ICompiler compiler, IReturnStrategy returnStrategy, FSharpExpr expr) in C:\\Projects\\Sylvester.git\\ext\\FunScript\\src\\main\\FunScript\\CompilerComponent.fs:line 29\r\n   at FunScript.InternalCompiler.Compiler.tryComponent(IReturnStrategy returnStrategy, FSharpExpr expr, ICompilerComponent part) in C:\\Projects\\Sylvester.git\\ext\\FunScript\\src\\main\\FunScript\\InternalCompiler.fs:line 69\r\n   at FunScript.InternalCompiler.result@75.Invoke(ICompilerComponent part) in C:\\Projects\\Sylvester.git\\ext\\FunScript\\src\\main\\FunScript\\InternalCompiler.fs:line 75\r\n   at Microsoft.FSharp.Collections.ListModule.TryPick[T,TResult](FSharpFunc`2 chooser, FSharpList`1 list) in D:\\a\\_work\\1\\s\\src\\FSharp.Core\\list.fs:line 515\r\n   at FunScript.InternalCompiler.Compiler.tryAllComponents(IReturnStrategy returnStrategy, FSharpExpr expr) in C:\\Projects\\Sylvester.git\\ext\\FunScript\\src\\main\\FunScript\\InternalCompiler.fs:line 74\r\n   at FunScript.InternalCompiler.Compiler.compile(IReturnStrategy returnStrategy, FSharpExpr expr) in C:\\Projects\\Sylvester.git\\ext\\FunScript\\src\\main\\FunScript\\InternalCompiler.fs:line 126\r\n   at FunScript.InternalCompiler.Compiler.FunScript.InternalCompiler.ICompiler.Compile(IReturnStrategy returnStrategy, FSharpExpr expr) in C:\\Projects\\Sylvester.git\\ext\\FunScript\\src\\main\\FunScript\\InternalCompiler.fs:line 189\r\n   at FunScript.CompilerComponent.splitDeclarationFromUsageIfNeeded(ICompiler compiler, FSharpExpr expr) in C:\\Projects\\Sylvester.git\\ext\\FunScript\\src\\main\\FunScript\\CompilerComponent.fs:line 11\r\n   at FunScript.CompilerComponent.split@22.Invoke(a expr) in C:\\Projects\\Sylvester.git\\ext\\FunScript\\src\\main\\FunScript\\CompilerComponent.fs:line 22\r\n   at FunScript.LetBindings.binding@9-1.Invoke(FSharpExpr _arg1)\r\n   at FunScript.CompilerComponent.create@26.FunScript.InternalCompiler.ICompilerComponent.TryCompile(ICompiler compiler, IReturnStrategy returnStrategy, FSharpExpr expr) in C:\\Projects\\Sylvester.git\\ext\\FunScript\\src\\main\\FunScript\\CompilerComponent.fs:line 29\r\n   at FunScript.InternalCompiler.Compiler.tryComponent(IReturnStrategy returnStrategy, FSharpExpr expr, ICompilerComponent part) in C:\\Projects\\Sylvester.git\\ext\\FunScript\\src\\main\\FunScript\\InternalCompiler.fs:line 69\r\n   at FunScript.InternalCompiler.result@75.Invoke(ICompilerComponent part) in C:\\Projects\\Sylvester.git\\ext\\FunScript\\src\\main\\FunScript\\InternalCompiler.fs:line 75\r\n   at Microsoft.FSharp.Collections.ListModule.TryPick[T,TResult](FSharpFunc`2 chooser, FSharpList`1 list) in D:\\a\\_work\\1\\s\\src\\FSharp.Core\\list.fs:line 515\r\n   at FunScript.InternalCompiler.Compiler.tryAllComponents(IReturnStrategy returnStrategy, FSharpExpr expr) in C:\\Projects\\Sylvester.git\\ext\\FunScript\\src\\main\\FunScript\\InternalCompiler.fs:line 74\r\n   at FunScript.InternalCompiler.Compiler.compile(IReturnStrategy returnStrategy, FSharpExpr expr) in C:\\Projects\\Sylvester.git\\ext\\FunScript\\src\\main\\FunScript\\InternalCompiler.fs:line 126\r\n   at FunScript.InternalCompiler.Compiler.FunScript.InternalCompiler.ICompiler.Compile(IReturnStrategy returnStrategy, FSharpExpr expr) in C:\\Projects\\Sylvester.git\\ext\\FunScript\\src\\main\\FunScript\\InternalCompiler.fs:line 189\r\n   at FunScript.CompilerComponent.splitDeclarationFromUsageIfNeeded(ICompiler compiler, FSharpExpr expr) in C:\\Projects\\Sylvester.git\\ext\\FunScript\\src\\main\\FunScript\\CompilerComponent.fs:line 11\r\n   at FunScript.CompilerComponent.split@22.Invoke(a expr) in C:\\Projects\\Sylvester.git\\ext\\FunScript\\src\\main\\FunScript\\CompilerComponent.fs:line 22\r\n   at FunScript.Reflection.getDeclarationAndReferences@68.Invoke(a _arg1)\r\n   at Microsoft.FSharp.Primitives.Basics.List.map[T,TResult](FSharpFunc`2 mapping, FSharpList`1 x) in D:\\a\\_work\\1\\s\\src\\FSharp.Core\\local.fs:line 241\r\n   at FunScript.Reflection.getDeclarationAndReferences[a,b,c](FSharpFunc`2 |Split|, FSharpList`1 exprs) in C:\\Projects\\Sylvester.git\\ext\\FunScript\\src\\main\\FunScript\\Reflection.fs:line 67\r\n   at FunScript.Arrays.creation@9-1.Invoke(FSharpExpr _arg1) in C:\\Projects\\Sylvester.git\\ext\\FunScript\\src\\main\\FunScript\\Arrays.fs:line 11\r\n   at FunScript.CompilerComponent.create@26.FunScript.InternalCompiler.ICompilerComponent.TryCompile(ICompiler compiler, IReturnStrategy returnStrategy, FSharpExpr expr) in C:\\Projects\\Sylvester.git\\ext\\FunScript\\src\\main\\FunScript\\CompilerComponent.fs:line 29\r\n   at FunScript.InternalCompiler.Compiler.tryComponent(IReturnStrategy returnStrategy, FSharpExpr expr, ICompilerComponent part) in C:\\Projects\\Sylvester.git\\ext\\FunScript\\src\\main\\FunScript\\InternalCompiler.fs:line 69\r\n   at FunScript.InternalCompiler.result@75.Invoke(ICompilerComponent part) in C:\\Projects\\Sylvester.git\\ext\\FunScript\\src\\main\\FunScript\\InternalCompiler.fs:line 75\r\n   at Microsoft.FSharp.Collections.ListModule.TryPick[T,TResult](FSharpFunc`2 chooser, FSharpList`1 list) in D:\\a\\_work\\1\\s\\src\\FSharp.Core\\list.fs:line 515\r\n   at FunScript.InternalCompiler.Compiler.tryAllComponents(IReturnStrategy returnStrategy, FSharpExpr expr) in C:\\Projects\\Sylvester.git\\ext\\FunScript\\src\\main\\FunScript\\InternalCompiler.fs:line 74\r\n   at FunScript.InternalCompiler.Compiler.compile(IReturnStrategy returnStrategy, FSharpExpr expr) in C:\\Projects\\Sylvester.git\\ext\\FunScript\\src\\main\\FunScript\\InternalCompiler.fs:line 126\r\n   at FunScript.InternalCompiler.Compiler.FunScript.InternalCompiler.ICompiler.Compile(IReturnStrategy returnStrategy, FSharpExpr expr) in C:\\Projects\\Sylvester.git\\ext\\FunScript\\src\\main\\FunScript\\InternalCompiler.fs:line 189\r\n   at FunScript.CompilerComponent.splitDeclarationFromUsageIfNeeded(ICompiler compiler, FSharpExpr expr) in C:\\Projects\\Sylvester.git\\ext\\FunScript\\src\\main\\FunScript\\CompilerComponent.fs:line 11\r\n   at FunScript.CompilerComponent.split@22.Invoke(a expr) in C:\\Projects\\Sylvester.git\\ext\\FunScript\\src\\main\\FunScript\\CompilerComponent.fs:line 22\r\n   at FunScript.Reflection.getDeclarationAndReferences@68.Invoke(a _arg1)\r\n   at Microsoft.FSharp.Primitives.Basics.List.mapToFreshConsTail[a,b](FSharpList`1 cons, FSharpFunc`2 f, FSharpList`1 x) in D:\\a\\_work\\1\\s\\src\\FSharp.Core\\local.fs:line 232\r\n   at Microsoft.FSharp.Primitives.Basics.List.map[T,TResult](FSharpFunc`2 mapping, FSharpList`1 x) in D:\\a\\_work\\1\\s\\src\\FSharp.Core\\local.fs:line 241\r\n   at FunScript.Reflection.getDeclarationAndReferences[a,b,c](FSharpFunc`2 |Split|, FSharpList`1 exprs) in C:\\Projects\\Sylvester.git\\ext\\FunScript\\src\\main\\FunScript\\Reflection.fs:line 67\r\n   at FunScript.ReflectedDefinitions.createCall[a](FSharpFunc`2 |Split|, IReturnStrategy returnStategy, ICompiler compiler, IEnumerable`1 exprs, MethodInfo mi) in C:\\Projects\\Sylvester.git\\ext\\FunScript\\src\\main\\FunScript\\ReflectedDefinitions.fs:line 330\r\n   at FunScript.ReflectedDefinitions.methodCalling@347.Invoke(FSharpFunc`2 split, ICompiler compiler, IReturnStrategy returnStategy, FSharpExpr _arg1) in C:\\Projects\\Sylvester.git\\ext\\FunScript\\src\\main\\FunScript\\ReflectedDefinitions.fs:line 350\r\n   at Microsoft.FSharp.Core.OptimizedClosures.Invoke@3683-2.Invoke(T2 u, T3 v, T4 w) in D:\\a\\_work\\1\\s\\src\\FSharp.Core\\prim-types.fs:line 3683\r\n   at FunScript.CompilerComponent.create@26.FunScript.InternalCompiler.ICompilerComponent.TryCompile(ICompiler compiler, IReturnStrategy returnStrategy, FSharpExpr expr) in C:\\Projects\\Sylvester.git\\ext\\FunScript\\src\\main\\FunScript\\CompilerComponent.fs:line 29\r\n   at FunScript.InternalCompiler.Compiler.tryComponent(IReturnStrategy returnStrategy, FSharpExpr expr, ICompilerComponent part) in C:\\Projects\\Sylvester.git\\ext\\FunScript\\src\\main\\FunScript\\InternalCompiler.fs:line 69\r\n   at FunScript.InternalCompiler.result@75.Invoke(ICompilerComponent part) in C:\\Projects\\Sylvester.git\\ext\\FunScript\\src\\main\\FunScript\\InternalCompiler.fs:line 75\r\n   at Microsoft.FSharp.Collections.ListModule.TryPick[T,TResult](FSharpFunc`2 chooser, FSharpList`1 list) in D:\\a\\_work\\1\\s\\src\\FSharp.Core\\list.fs:line 515\r\n   at FunScript.InternalCompiler.Compiler.tryAllComponents(IReturnStrategy returnStrategy, FSharpExpr expr) in C:\\Projects\\Sylvester.git\\ext\\FunScript\\src\\main\\FunScript\\InternalCompiler.fs:line 74\r\n   at FunScript.InternalCompiler.Compiler.compile(IReturnStrategy returnStrategy, FSharpExpr expr) in C:\\Projects\\Sylvester.git\\ext\\FunScript\\src\\main\\FunScript\\InternalCompiler.fs:line 126\r\n   at FunScript.InternalCompiler.Compiler.FunScript.InternalCompiler.ICompiler.Compile(IReturnStrategy returnStrategy, FSharpExpr expr) in C:\\Projects\\Sylvester.git\\ext\\FunScript\\src\\main\\FunScript\\InternalCompiler.fs:line 189\r\n   at FunScript.LetBindings.|Return|@8.Invoke(IReturnStrategy arg00, FSharpExpr arg10) in C:\\Projects\\Sylvester.git\\ext\\FunScript\\src\\main\\FunScript\\LetBindings.fs:line 8\r\n   at FunScript.LetBindings.binding@9-1.Invoke(FSharpExpr _arg1)\r\n   at FunScript.CompilerComponent.create@26.FunScript.InternalCompiler.ICompilerComponent.TryCompile(ICompiler compiler, IReturnStrategy returnStrategy, FSharpExpr expr) in C:\\Projects\\Sylvester.git\\ext\\FunScript\\src\\main\\FunScript\\CompilerComponent.fs:line 29\r\n   at FunScript.InternalCompiler.Compiler.tryComponent(IReturnStrategy returnStrategy, FSharpExpr expr, ICompilerComponent part) in C:\\Projects\\Sylvester.git\\ext\\FunScript\\src\\main\\FunScript\\InternalCompiler.fs:line 69\r\n   at FunScript.InternalCompiler.result@75.Invoke(ICompilerComponent part) in C:\\Projects\\Sylvester.git\\ext\\FunScript\\src\\main\\FunScript\\InternalCompiler.fs:line 75\r\n   at Microsoft.FSharp.Collections.ListModule.TryPick[T,TResult](FSharpFunc`2 chooser, FSharpList`1 list) in D:\\a\\_work\\1\\s\\src\\FSharp.Core\\list.fs:line 515\r\n   at FunScript.InternalCompiler.Compiler.tryAllComponents(IReturnStrategy returnStrategy, FSharpExpr expr) in C:\\Projects\\Sylvester.git\\ext\\FunScript\\src\\main\\FunScript\\InternalCompiler.fs:line 74\r\n   at FunScript.InternalCompiler.Compiler.compile(IReturnStrategy returnStrategy, FSharpExpr expr) in C:\\Projects\\Sylvester.git\\ext\\FunScript\\src\\main\\FunScript\\InternalCompiler.fs:line 126\r\n   at FunScript.InternalCompiler.Compiler.FunScript.InternalCompiler.ICompiler.Compile(IReturnStrategy returnStrategy, FSharpExpr expr) in C:\\Projects\\Sylvester.git\\ext\\FunScript\\src\\main\\FunScript\\InternalCompiler.fs:line 189\r\n   at FunScript.LetBindings.|Return|@8.Invoke(IReturnStrategy arg00, FSharpExpr arg10) in C:\\Projects\\Sylvester.git\\ext\\FunScript\\src\\main\\FunScript\\LetBindings.fs:line 8\r\n   at FunScript.LetBindings.binding@9-1.Invoke(FSharpExpr _arg1)\r\n   at FunScript.CompilerComponent.create@26.FunScript.InternalCompiler.ICompilerComponent.TryCompile(ICompiler compiler, IReturnStrategy returnStrategy, FSharpExpr expr) in C:\\Projects\\Sylvester.git\\ext\\FunScript\\src\\main\\FunScript\\CompilerComponent.fs:line 29\r\n   at FunScript.InternalCompiler.Compiler.tryComponent(IReturnStrategy returnStrategy, FSharpExpr expr, ICompilerComponent part) in C:\\Projects\\Sylvester.git\\ext\\FunScript\\src\\main\\FunScript\\InternalCompiler.fs:line 69\r\n   at FunScript.InternalCompiler.result@75.Invoke(ICompilerComponent part) in C:\\Projects\\Sylvester.git\\ext\\FunScript\\src\\main\\FunScript\\InternalCompiler.fs:line 75\r\n   at Microsoft.FSharp.Collections.ListModule.TryPick[T,TResult](FSharpFunc`2 chooser, FSharpList`1 list) in D:\\a\\_work\\1\\s\\src\\FSharp.Core\\list.fs:line 515\r\n   at FunScript.InternalCompiler.Compiler.tryAllComponents(IReturnStrategy returnStrategy, FSharpExpr expr) in C:\\Projects\\Sylvester.git\\ext\\FunScript\\src\\main\\FunScript\\InternalCompiler.fs:line 74\r\n   at FunScript.InternalCompiler.Compiler.compile(IReturnStrategy returnStrategy, FSharpExpr expr) in C:\\Projects\\Sylvester.git\\ext\\FunScript\\src\\main\\FunScript\\InternalCompiler.fs:line 126\r\n   at FunScript.InternalCompiler.Compiler.FunScript.InternalCompiler.ICompiler.Compile(IReturnStrategy returnStrategy, FSharpExpr expr) in C:\\Projects\\Sylvester.git\\ext\\FunScript\\src\\main\\FunScript\\InternalCompiler.fs:line 189\r\n   at FunScript.LetBindings.|Return|@8.Invoke(IReturnStrategy arg00, FSharpExpr arg10) in C:\\Projects\\Sylvester.git\\ext\\FunScript\\src\\main\\FunScript\\LetBindings.fs:line 8\r\n   at FunScript.LetBindings.binding@9-1.Invoke(FSharpExpr _arg1)\r\n   at FunScript.CompilerComponent.create@26.FunScript.InternalCompiler.ICompilerComponent.TryCompile(ICompiler compiler, IReturnStrategy returnStrategy, FSharpExpr expr) in C:\\Projects\\Sylvester.git\\ext\\FunScript\\src\\main\\FunScript\\CompilerComponent.fs:line 29\r\n   at FunScript.InternalCompiler.Compiler.tryComponent(IReturnStrategy returnStrategy, FSharpExpr expr, ICompilerComponent part) in C:\\Projects\\Sylvester.git\\ext\\FunScript\\src\\main\\FunScript\\InternalCompiler.fs:line 69\r\n   at FunScript.InternalCompiler.result@75.Invoke(ICompilerComponent part) in C:\\Projects\\Sylvester.git\\ext\\FunScript\\src\\main\\FunScript\\InternalCompiler.fs:line 75\r\n   at Microsoft.FSharp.Collections.ListModule.TryPick[T,TResult](FSharpFunc`2 chooser, FSharpList`1 list) in D:\\a\\_work\\1\\s\\src\\FSharp.Core\\list.fs:line 515\r\n   at FunScript.InternalCompiler.Compiler.tryAllComponents(IReturnStrategy returnStrategy, FSharpExpr expr) in C:\\Projects\\Sylvester.git\\ext\\FunScript\\src\\main\\FunScript\\InternalCompiler.fs:line 74\r\n   at FunScript.InternalCompiler.Compiler.compile(IReturnStrategy returnStrategy, FSharpExpr expr) in C:\\Projects\\Sylvester.git\\ext\\FunScript\\src\\main\\FunScript\\InternalCompiler.fs:line 126\r\n   at FunScript.InternalCompiler.Compiler.FunScript.InternalCompiler.ICompiler.Compile(IReturnStrategy returnStrategy, FSharpExpr expr) in C:\\Projects\\Sylvester.git\\ext\\FunScript\\src\\main\\FunScript\\InternalCompiler.fs:line 189\r\n   at FunScript.LetBindings.|Return|@8.Invoke(IReturnStrategy arg00, FSharpExpr arg10) in C:\\Projects\\Sylvester.git\\ext\\FunScript\\src\\main\\FunScript\\LetBindings.fs:line 8\r\n   at FunScript.LetBindings.binding@9-1.Invoke(FSharpExpr _arg1)\r\n   at FunScript.CompilerComponent.create@26.FunScript.InternalCompiler.ICompilerComponent.TryCompile(ICompiler compiler, IReturnStrategy returnStrategy, FSharpExpr expr) in C:\\Projects\\Sylvester.git\\ext\\FunScript\\src\\main\\FunScript\\CompilerComponent.fs:line 29\r\n   at FunScript.InternalCompiler.Compiler.tryComponent(IReturnStrategy returnStrategy, FSharpExpr expr, ICompilerComponent part) in C:\\Projects\\Sylvester.git\\ext\\FunScript\\src\\main\\FunScript\\InternalCompiler.fs:line 69\r\n   at FunScript.InternalCompiler.result@75.Invoke(ICompilerComponent part) in C:\\Projects\\Sylvester.git\\ext\\FunScript\\src\\main\\FunScript\\InternalCompiler.fs:line 75\r\n   at Microsoft.FSharp.Collections.ListModule.TryPick[T,TResult](FSharpFunc`2 chooser, FSharpList`1 list) in D:\\a\\_work\\1\\s\\src\\FSharp.Core\\list.fs:line 515\r\n   at FunScript.InternalCompiler.Compiler.tryAllComponents(IReturnStrategy returnStrategy, FSharpExpr expr) in C:\\Projects\\Sylvester.git\\ext\\FunScript\\src\\main\\FunScript\\InternalCompiler.fs:line 74\r\n   at FunScript.InternalCompiler.Compiler.compile(IReturnStrategy returnStrategy, FSharpExpr expr) in C:\\Projects\\Sylvester.git\\ext\\FunScript\\src\\main\\FunScript\\InternalCompiler.fs:line 126\r\n   at FunScript.InternalCompiler.Compiler.FunScript.InternalCompiler.ICompiler.Compile(IReturnStrategy returnStrategy, FSharpExpr expr) in C:\\Projects\\Sylvester.git\\ext\\FunScript\\src\\main\\FunScript\\InternalCompiler.fs:line 189\r\n   at FunScript.LetBindings.|Return|@8.Invoke(IReturnStrategy arg00, FSharpExpr arg10) in C:\\Projects\\Sylvester.git\\ext\\FunScript\\src\\main\\FunScript\\LetBindings.fs:line 8\r\n   at FunScript.LetBindings.binding@9-1.Invoke(FSharpExpr _arg1)\r\n   at FunScript.CompilerComponent.create@26.FunScript.InternalCompiler.ICompilerComponent.TryCompile(ICompiler compiler, IReturnStrategy returnStrategy, FSharpExpr expr) in C:\\Projects\\Sylvester.git\\ext\\FunScript\\src\\main\\FunScript\\CompilerComponent.fs:line 29\r\n   at FunScript.InternalCompiler.Compiler.tryComponent(IReturnStrategy returnStrategy, FSharpExpr expr, ICompilerComponent part) in C:\\Projects\\Sylvester.git\\ext\\FunScript\\src\\main\\FunScript\\InternalCompiler.fs:line 69\r\n   at FunScript.InternalCompiler.result@75.Invoke(ICompilerComponent part) in C:\\Projects\\Sylvester.git\\ext\\FunScript\\src\\main\\FunScript\\InternalCompiler.fs:line 75\r\n   at Microsoft.FSharp.Collections.ListModule.TryPick[T,TResult](FSharpFunc`2 chooser, FSharpList`1 list) in D:\\a\\_work\\1\\s\\src\\FSharp.Core\\list.fs:line 515\r\n   at FunScript.InternalCompiler.Compiler.tryAllComponents(IReturnStrategy returnStrategy, FSharpExpr expr) in C:\\Projects\\Sylvester.git\\ext\\FunScript\\src\\main\\FunScript\\InternalCompiler.fs:line 74\r\n   at FunScript.InternalCompiler.Compiler.compile(IReturnStrategy returnStrategy, FSharpExpr expr) in C:\\Projects\\Sylvester.git\\ext\\FunScript\\src\\main\\FunScript\\InternalCompiler.fs:line 126\r\n   at FunScript.InternalCompiler.Compiler.Compile(IReturnStrategy returnStrategy, FSharpExpr expr) in C:\\Projects\\Sylvester.git\\ext\\FunScript\\src\\main\\FunScript\\InternalCompiler.fs:line 182\r\n   at FunScript.Compiler.Compiler.CompileImpl[a](FSharpExpr expression, FSharpFunc`2 adjustComponents, FSharpOption`1 noReturn, FSharpOption`1 shouldCompress, FSharpOption`1 isEventMappingEnabled) in C:\\Projects\\Sylvester.git\\ext\\FunScript\\src\\main\\FunScript\\Compiler.fs:line 49\r\n   at FunScript.Compiler.Compiler.Compile(FSharpExpr expression, FSharpOption`1 components, FSharpOption`1 noReturn, FSharpOption`1 shouldCompress, FSharpOption`1 isEventMappingEnabled) in C:\\Projects\\Sylvester.git\\ext\\FunScript\\src\\main\\FunScript\\Compiler.fs:line 60\r\n   at FunScript.TypeScriptMappings.compile(FSharpExpr expr) in C:\\Projects\\Sylvester.git\\ext\\FunScript\\src\\main\\FunScript\\TypeScriptMappings.fs:line 40\r\n   at Sylvester.Board.draw_board(FSharpExpr src) in C:\\Projects\\Sylvester.git\\src\\Visualization\\Sylvester.Visualization.Web\\Board.fs:line 36\r\n   at FSI_0005.clo@11-12.Invoke(FSharpExpr`1 b)\r\n   at Microsoft.DotNet.Interactive.Formatting.Formatter.<>c__DisplayClass47_0`1.<Register>b__0(T value, FormatContext context) in D:\\a\\_work\\1\\s\\src\\Microsoft.DotNet.Interactive.Formatting\\Formatter.cs:line 443\r\n   at Microsoft.DotNet.Interactive.Formatting.AnonymousTypeFormatter`1.Format(T instance, FormatContext context) in D:\\a\\_work\\1\\s\\src\\Microsoft.DotNet.Interactive.Formatting\\AnonymousTypeFormatter{T}.cs:line 30\r\n   at Microsoft.DotNet.Interactive.Formatting.TypeFormatter`1.Microsoft.DotNet.Interactive.Formatting.ITypeFormatter.Format(Object instance, FormatContext context) in D:\\a\\_work\\1\\s\\src\\Microsoft.DotNet.Interactive.Formatting\\TypeFormatter{T}.cs:line 23\r\n   at Microsoft.DotNet.Interactive.Formatting.Formatter`1.FormatTo(T obj, FormatContext context, String mimeType) in D:\\a\\_work\\1\\s\\src\\Microsoft.DotNet.Interactive.Formatting\\Formatter{T}.cs:line 79\r\n   at Microsoft.DotNet.Interactive.Formatting.Formatter.FormatTo[T](T obj, FormatContext context, String mimeType) in D:\\a\\_work\\1\\s\\src\\Microsoft.DotNet.Interactive.Formatting\\Formatter.cs:line 320\r\n   at Microsoft.DotNet.Interactive.Formatting.Formatter.ToDisplayString(Object obj, String mimeType) in D:\\a\\_work\\1\\s\\src\\Microsoft.DotNet.Interactive.Formatting\\Formatter.cs:line 277\r\n   at Microsoft.DotNet.Interactive.FormattedValue.<>c__DisplayClass12_0.<CreateManyFromObject>b__0(String mimeType) in D:\\a\\_work\\1\\s\\src\\Microsoft.DotNet.Interactive\\FormattedValue.cs:line 49\r\n   at System.Linq.Enumerable.SelectArrayIterator`2.Fill(ReadOnlySpan`1 source, Span`1 destination, Func`2 func)\r\n   at System.Linq.Enumerable.SelectArrayIterator`2.ToArray()\r\n   at Microsoft.DotNet.Interactive.FormattedValue.CreateManyFromObject(Object value, String[] mimeTypes) in D:\\a\\_work\\1\\s\\src\\Microsoft.DotNet.Interactive\\FormattedValue.cs:line 47\r\n   at <StartupCode$Microsoft-DotNet-Interactive-FSharp>.$FSharpKernel.clo@191-3.MoveNext() in D:\\a\\_work\\1\\s\\src\\Microsoft.DotNet.Interactive.FSharp\\FSharpKernel.fs:line 223\r\n   at Microsoft.DotNet.Interactive.Kernel.HandleAsync(KernelCommand command, KernelInvocationContext context) in D:\\a\\_work\\1\\s\\src\\Microsoft.DotNet.Interactive\\Kernel.cs:line 365\r\n   at Microsoft.DotNet.Interactive.KernelCommandPipeline.<BuildPipeline>b__6_0(KernelCommand command, KernelInvocationContext context, KernelPipelineContinuation _) in D:\\a\\_work\\1\\s\\src\\Microsoft.DotNet.Interactive\\KernelCommandPipeline.cs:line 60\r\n   at Microsoft.DotNet.Interactive.KernelCommandPipeline.SendAsync(KernelCommand command, KernelInvocationContext context) in D:\\a\\_work\\1\\s\\src\\Microsoft.DotNet.Interactive\\KernelCommandPipeline.cs:line 41",
      "   at Microsoft.FSharp.Core.PrintfModule.PrintFormatToStringThenFail@1448.Invoke(String message)",
      "   at FunScript.InternalCompiler.Compiler.compile(IReturnStrategy returnStrategy, FSharpExpr expr) in C:\\Projects\\Sylvester.git\\ext\\FunScript\\src\\main\\FunScript\\InternalCompiler.fs:line 129",
      "   at FunScript.InternalCompiler.Compiler.FunScript.InternalCompiler.ICompiler.Compile(IReturnStrategy returnStrategy, FSharpExpr expr) in C:\\Projects\\Sylvester.git\\ext\\FunScript\\src\\main\\FunScript\\InternalCompiler.fs:line 189",
      "   at FunScript.CompilerComponent.splitDeclarationFromUsageIfNeeded(ICompiler compiler, FSharpExpr expr) in C:\\Projects\\Sylvester.git\\ext\\FunScript\\src\\main\\FunScript\\CompilerComponent.fs:line 11",
      "   at FunScript.CompilerComponent.split@22.Invoke(a expr) in C:\\Projects\\Sylvester.git\\ext\\FunScript\\src\\main\\FunScript\\CompilerComponent.fs:line 22",
      "   at FunScript.CompilerComponent.binaryTyped@107.Invoke(MethodBase mi, FSharpFunc`2 |Split|, FSharpList`1 _arg1)",
      "   at FunScript.CompilerComponent.generateArityWithCompiler@62.Invoke(FSharpFunc`2 split, ICompiler compiler, IReturnStrategy returnStrategy, Tuple`3 _arg1) in C:\\Projects\\Sylvester.git\\ext\\FunScript\\src\\main\\FunScript\\CompilerComponent.fs:line 65",
      "   at Microsoft.FSharp.Core.OptimizedClosures.Invoke@3683-2.Invoke(T2 u, T3 v, T4 w) in D:\\a\\_work\\1\\s\\src\\FSharp.Core\\prim-types.fs:line 3683",
      "   at FunScript.InternalCompiler.Compiler.tryCompileCall(CallType callType, IReturnStrategy returnStrategy, MethodBase mi, FSharpOption`1 obj, FSharpList`1 exprs) in C:\\Projects\\Sylvester.git\\ext\\FunScript\\src\\main\\FunScript\\InternalCompiler.fs:line 110",
      "   at FunScript.InternalCompiler.Compiler.compile(IReturnStrategy returnStrategy, FSharpExpr expr) in C:\\Projects\\Sylvester.git\\ext\\FunScript\\src\\main\\FunScript\\InternalCompiler.fs:line 122",
      "   at FunScript.InternalCompiler.Compiler.FunScript.InternalCompiler.ICompiler.Compile(IReturnStrategy returnStrategy, FSharpExpr expr) in C:\\Projects\\Sylvester.git\\ext\\FunScript\\src\\main\\FunScript\\InternalCompiler.fs:line 189",
      "   at FunScript.LambdaApplication.definition@40-1.Invoke(FSharpExpr _arg1) in C:\\Projects\\Sylvester.git\\ext\\FunScript\\src\\main\\FunScript\\LambdaApplication.fs:line 42",
      "   at FunScript.CompilerComponent.create@26.FunScript.InternalCompiler.ICompilerComponent.TryCompile(ICompiler compiler, IReturnStrategy returnStrategy, FSharpExpr expr) in C:\\Projects\\Sylvester.git\\ext\\FunScript\\src\\main\\FunScript\\CompilerComponent.fs:line 29",
      "   at FunScript.InternalCompiler.Compiler.tryComponent(IReturnStrategy returnStrategy, FSharpExpr expr, ICompilerComponent part) in C:\\Projects\\Sylvester.git\\ext\\FunScript\\src\\main\\FunScript\\InternalCompiler.fs:line 69",
      "   at FunScript.InternalCompiler.result@75.Invoke(ICompilerComponent part) in C:\\Projects\\Sylvester.git\\ext\\FunScript\\src\\main\\FunScript\\InternalCompiler.fs:line 75",
      "   at Microsoft.FSharp.Collections.ListModule.TryPick[T,TResult](FSharpFunc`2 chooser, FSharpList`1 list) in D:\\a\\_work\\1\\s\\src\\FSharp.Core\\list.fs:line 515",
      "   at FunScript.InternalCompiler.Compiler.tryAllComponents(IReturnStrategy returnStrategy, FSharpExpr expr) in C:\\Projects\\Sylvester.git\\ext\\FunScript\\src\\main\\FunScript\\InternalCompiler.fs:line 74",
      "   at FunScript.InternalCompiler.Compiler.compile(IReturnStrategy returnStrategy, FSharpExpr expr) in C:\\Projects\\Sylvester.git\\ext\\FunScript\\src\\main\\FunScript\\InternalCompiler.fs:line 126",
      "   at FunScript.InternalCompiler.Compiler.FunScript.InternalCompiler.ICompiler.Compile(IReturnStrategy returnStrategy, FSharpExpr expr) in C:\\Projects\\Sylvester.git\\ext\\FunScript\\src\\main\\FunScript\\InternalCompiler.fs:line 189",
      "   at FunScript.CompilerComponent.splitDeclarationFromUsageIfNeeded(ICompiler compiler, FSharpExpr expr) in C:\\Projects\\Sylvester.git\\ext\\FunScript\\src\\main\\FunScript\\CompilerComponent.fs:line 11",
      "   at FunScript.CompilerComponent.split@22.Invoke(a expr) in C:\\Projects\\Sylvester.git\\ext\\FunScript\\src\\main\\FunScript\\CompilerComponent.fs:line 22",
      "   at FunScript.LetBindings.binding@9-1.Invoke(FSharpExpr _arg1)",
      "   at FunScript.CompilerComponent.create@26.FunScript.InternalCompiler.ICompilerComponent.TryCompile(ICompiler compiler, IReturnStrategy returnStrategy, FSharpExpr expr) in C:\\Projects\\Sylvester.git\\ext\\FunScript\\src\\main\\FunScript\\CompilerComponent.fs:line 29",
      "   at FunScript.InternalCompiler.Compiler.tryComponent(IReturnStrategy returnStrategy, FSharpExpr expr, ICompilerComponent part) in C:\\Projects\\Sylvester.git\\ext\\FunScript\\src\\main\\FunScript\\InternalCompiler.fs:line 69",
      "   at FunScript.InternalCompiler.result@75.Invoke(ICompilerComponent part) in C:\\Projects\\Sylvester.git\\ext\\FunScript\\src\\main\\FunScript\\InternalCompiler.fs:line 75",
      "   at Microsoft.FSharp.Collections.ListModule.TryPick[T,TResult](FSharpFunc`2 chooser, FSharpList`1 list) in D:\\a\\_work\\1\\s\\src\\FSharp.Core\\list.fs:line 515",
      "   at FunScript.InternalCompiler.Compiler.tryAllComponents(IReturnStrategy returnStrategy, FSharpExpr expr) in C:\\Projects\\Sylvester.git\\ext\\FunScript\\src\\main\\FunScript\\InternalCompiler.fs:line 74",
      "   at FunScript.InternalCompiler.Compiler.compile(IReturnStrategy returnStrategy, FSharpExpr expr) in C:\\Projects\\Sylvester.git\\ext\\FunScript\\src\\main\\FunScript\\InternalCompiler.fs:line 126",
      "   at FunScript.InternalCompiler.Compiler.FunScript.InternalCompiler.ICompiler.Compile(IReturnStrategy returnStrategy, FSharpExpr expr) in C:\\Projects\\Sylvester.git\\ext\\FunScript\\src\\main\\FunScript\\InternalCompiler.fs:line 189",
      "   at FunScript.CompilerComponent.splitDeclarationFromUsageIfNeeded(ICompiler compiler, FSharpExpr expr) in C:\\Projects\\Sylvester.git\\ext\\FunScript\\src\\main\\FunScript\\CompilerComponent.fs:line 11",
      "   at FunScript.CompilerComponent.split@22.Invoke(a expr) in C:\\Projects\\Sylvester.git\\ext\\FunScript\\src\\main\\FunScript\\CompilerComponent.fs:line 22",
      "   at FunScript.Reflection.getDeclarationAndReferences@68.Invoke(a _arg1)",
      "   at Microsoft.FSharp.Primitives.Basics.List.map[T,TResult](FSharpFunc`2 mapping, FSharpList`1 x) in D:\\a\\_work\\1\\s\\src\\FSharp.Core\\local.fs:line 241",
      "   at FunScript.Reflection.getDeclarationAndReferences[a,b,c](FSharpFunc`2 |Split|, FSharpList`1 exprs) in C:\\Projects\\Sylvester.git\\ext\\FunScript\\src\\main\\FunScript\\Reflection.fs:line 67",
      "   at FunScript.Arrays.creation@9-1.Invoke(FSharpExpr _arg1) in C:\\Projects\\Sylvester.git\\ext\\FunScript\\src\\main\\FunScript\\Arrays.fs:line 11",
      "   at FunScript.CompilerComponent.create@26.FunScript.InternalCompiler.ICompilerComponent.TryCompile(ICompiler compiler, IReturnStrategy returnStrategy, FSharpExpr expr) in C:\\Projects\\Sylvester.git\\ext\\FunScript\\src\\main\\FunScript\\CompilerComponent.fs:line 29",
      "   at FunScript.InternalCompiler.Compiler.tryComponent(IReturnStrategy returnStrategy, FSharpExpr expr, ICompilerComponent part) in C:\\Projects\\Sylvester.git\\ext\\FunScript\\src\\main\\FunScript\\InternalCompiler.fs:line 69",
      "   at FunScript.InternalCompiler.result@75.Invoke(ICompilerComponent part) in C:\\Projects\\Sylvester.git\\ext\\FunScript\\src\\main\\FunScript\\InternalCompiler.fs:line 75",
      "   at Microsoft.FSharp.Collections.ListModule.TryPick[T,TResult](FSharpFunc`2 chooser, FSharpList`1 list) in D:\\a\\_work\\1\\s\\src\\FSharp.Core\\list.fs:line 515",
      "   at FunScript.InternalCompiler.Compiler.tryAllComponents(IReturnStrategy returnStrategy, FSharpExpr expr) in C:\\Projects\\Sylvester.git\\ext\\FunScript\\src\\main\\FunScript\\InternalCompiler.fs:line 74",
      "   at FunScript.InternalCompiler.Compiler.compile(IReturnStrategy returnStrategy, FSharpExpr expr) in C:\\Projects\\Sylvester.git\\ext\\FunScript\\src\\main\\FunScript\\InternalCompiler.fs:line 126",
      "   at FunScript.InternalCompiler.Compiler.FunScript.InternalCompiler.ICompiler.Compile(IReturnStrategy returnStrategy, FSharpExpr expr) in C:\\Projects\\Sylvester.git\\ext\\FunScript\\src\\main\\FunScript\\InternalCompiler.fs:line 189",
      "   at FunScript.CompilerComponent.splitDeclarationFromUsageIfNeeded(ICompiler compiler, FSharpExpr expr) in C:\\Projects\\Sylvester.git\\ext\\FunScript\\src\\main\\FunScript\\CompilerComponent.fs:line 11",
      "   at FunScript.CompilerComponent.split@22.Invoke(a expr) in C:\\Projects\\Sylvester.git\\ext\\FunScript\\src\\main\\FunScript\\CompilerComponent.fs:line 22",
      "   at FunScript.Reflection.getDeclarationAndReferences@68.Invoke(a _arg1)",
      "   at Microsoft.FSharp.Primitives.Basics.List.mapToFreshConsTail[a,b](FSharpList`1 cons, FSharpFunc`2 f, FSharpList`1 x) in D:\\a\\_work\\1\\s\\src\\FSharp.Core\\local.fs:line 232",
      "   at Microsoft.FSharp.Primitives.Basics.List.map[T,TResult](FSharpFunc`2 mapping, FSharpList`1 x) in D:\\a\\_work\\1\\s\\src\\FSharp.Core\\local.fs:line 241",
      "   at FunScript.Reflection.getDeclarationAndReferences[a,b,c](FSharpFunc`2 |Split|, FSharpList`1 exprs) in C:\\Projects\\Sylvester.git\\ext\\FunScript\\src\\main\\FunScript\\Reflection.fs:line 67",
      "   at FunScript.ReflectedDefinitions.createCall[a](FSharpFunc`2 |Split|, IReturnStrategy returnStategy, ICompiler compiler, IEnumerable`1 exprs, MethodInfo mi) in C:\\Projects\\Sylvester.git\\ext\\FunScript\\src\\main\\FunScript\\ReflectedDefinitions.fs:line 330",
      "   at FunScript.ReflectedDefinitions.methodCalling@347.Invoke(FSharpFunc`2 split, ICompiler compiler, IReturnStrategy returnStategy, FSharpExpr _arg1) in C:\\Projects\\Sylvester.git\\ext\\FunScript\\src\\main\\FunScript\\ReflectedDefinitions.fs:line 350",
      "   at Microsoft.FSharp.Core.OptimizedClosures.Invoke@3683-2.Invoke(T2 u, T3 v, T4 w) in D:\\a\\_work\\1\\s\\src\\FSharp.Core\\prim-types.fs:line 3683",
      "   at FunScript.CompilerComponent.create@26.FunScript.InternalCompiler.ICompilerComponent.TryCompile(ICompiler compiler, IReturnStrategy returnStrategy, FSharpExpr expr) in C:\\Projects\\Sylvester.git\\ext\\FunScript\\src\\main\\FunScript\\CompilerComponent.fs:line 29",
      "   at FunScript.InternalCompiler.Compiler.tryComponent(IReturnStrategy returnStrategy, FSharpExpr expr, ICompilerComponent part) in C:\\Projects\\Sylvester.git\\ext\\FunScript\\src\\main\\FunScript\\InternalCompiler.fs:line 69",
      "   at FunScript.InternalCompiler.result@75.Invoke(ICompilerComponent part) in C:\\Projects\\Sylvester.git\\ext\\FunScript\\src\\main\\FunScript\\InternalCompiler.fs:line 75",
      "   at Microsoft.FSharp.Collections.ListModule.TryPick[T,TResult](FSharpFunc`2 chooser, FSharpList`1 list) in D:\\a\\_work\\1\\s\\src\\FSharp.Core\\list.fs:line 515",
      "   at FunScript.InternalCompiler.Compiler.tryAllComponents(IReturnStrategy returnStrategy, FSharpExpr expr) in C:\\Projects\\Sylvester.git\\ext\\FunScript\\src\\main\\FunScript\\InternalCompiler.fs:line 74",
      "   at FunScript.InternalCompiler.Compiler.compile(IReturnStrategy returnStrategy, FSharpExpr expr) in C:\\Projects\\Sylvester.git\\ext\\FunScript\\src\\main\\FunScript\\InternalCompiler.fs:line 126",
      "   at FunScript.InternalCompiler.Compiler.FunScript.InternalCompiler.ICompiler.Compile(IReturnStrategy returnStrategy, FSharpExpr expr) in C:\\Projects\\Sylvester.git\\ext\\FunScript\\src\\main\\FunScript\\InternalCompiler.fs:line 189",
      "   at FunScript.LetBindings.|Return|@8.Invoke(IReturnStrategy arg00, FSharpExpr arg10) in C:\\Projects\\Sylvester.git\\ext\\FunScript\\src\\main\\FunScript\\LetBindings.fs:line 8",
      "   at FunScript.LetBindings.binding@9-1.Invoke(FSharpExpr _arg1)",
      "   at FunScript.CompilerComponent.create@26.FunScript.InternalCompiler.ICompilerComponent.TryCompile(ICompiler compiler, IReturnStrategy returnStrategy, FSharpExpr expr) in C:\\Projects\\Sylvester.git\\ext\\FunScript\\src\\main\\FunScript\\CompilerComponent.fs:line 29",
      "   at FunScript.InternalCompiler.Compiler.tryComponent(IReturnStrategy returnStrategy, FSharpExpr expr, ICompilerComponent part) in C:\\Projects\\Sylvester.git\\ext\\FunScript\\src\\main\\FunScript\\InternalCompiler.fs:line 69",
      "   at FunScript.InternalCompiler.result@75.Invoke(ICompilerComponent part) in C:\\Projects\\Sylvester.git\\ext\\FunScript\\src\\main\\FunScript\\InternalCompiler.fs:line 75",
      "   at Microsoft.FSharp.Collections.ListModule.TryPick[T,TResult](FSharpFunc`2 chooser, FSharpList`1 list) in D:\\a\\_work\\1\\s\\src\\FSharp.Core\\list.fs:line 515",
      "   at FunScript.InternalCompiler.Compiler.tryAllComponents(IReturnStrategy returnStrategy, FSharpExpr expr) in C:\\Projects\\Sylvester.git\\ext\\FunScript\\src\\main\\FunScript\\InternalCompiler.fs:line 74",
      "   at FunScript.InternalCompiler.Compiler.compile(IReturnStrategy returnStrategy, FSharpExpr expr) in C:\\Projects\\Sylvester.git\\ext\\FunScript\\src\\main\\FunScript\\InternalCompiler.fs:line 126",
      "   at FunScript.InternalCompiler.Compiler.FunScript.InternalCompiler.ICompiler.Compile(IReturnStrategy returnStrategy, FSharpExpr expr) in C:\\Projects\\Sylvester.git\\ext\\FunScript\\src\\main\\FunScript\\InternalCompiler.fs:line 189",
      "   at FunScript.LetBindings.|Return|@8.Invoke(IReturnStrategy arg00, FSharpExpr arg10) in C:\\Projects\\Sylvester.git\\ext\\FunScript\\src\\main\\FunScript\\LetBindings.fs:line 8",
      "   at FunScript.LetBindings.binding@9-1.Invoke(FSharpExpr _arg1)",
      "   at FunScript.CompilerComponent.create@26.FunScript.InternalCompiler.ICompilerComponent.TryCompile(ICompiler compiler, IReturnStrategy returnStrategy, FSharpExpr expr) in C:\\Projects\\Sylvester.git\\ext\\FunScript\\src\\main\\FunScript\\CompilerComponent.fs:line 29",
      "   at FunScript.InternalCompiler.Compiler.tryComponent(IReturnStrategy returnStrategy, FSharpExpr expr, ICompilerComponent part) in C:\\Projects\\Sylvester.git\\ext\\FunScript\\src\\main\\FunScript\\InternalCompiler.fs:line 69",
      "   at FunScript.InternalCompiler.result@75.Invoke(ICompilerComponent part) in C:\\Projects\\Sylvester.git\\ext\\FunScript\\src\\main\\FunScript\\InternalCompiler.fs:line 75",
      "   at Microsoft.FSharp.Collections.ListModule.TryPick[T,TResult](FSharpFunc`2 chooser, FSharpList`1 list) in D:\\a\\_work\\1\\s\\src\\FSharp.Core\\list.fs:line 515",
      "   at FunScript.InternalCompiler.Compiler.tryAllComponents(IReturnStrategy returnStrategy, FSharpExpr expr) in C:\\Projects\\Sylvester.git\\ext\\FunScript\\src\\main\\FunScript\\InternalCompiler.fs:line 74",
      "   at FunScript.InternalCompiler.Compiler.compile(IReturnStrategy returnStrategy, FSharpExpr expr) in C:\\Projects\\Sylvester.git\\ext\\FunScript\\src\\main\\FunScript\\InternalCompiler.fs:line 126",
      "   at FunScript.InternalCompiler.Compiler.FunScript.InternalCompiler.ICompiler.Compile(IReturnStrategy returnStrategy, FSharpExpr expr) in C:\\Projects\\Sylvester.git\\ext\\FunScript\\src\\main\\FunScript\\InternalCompiler.fs:line 189",
      "   at FunScript.LetBindings.|Return|@8.Invoke(IReturnStrategy arg00, FSharpExpr arg10) in C:\\Projects\\Sylvester.git\\ext\\FunScript\\src\\main\\FunScript\\LetBindings.fs:line 8",
      "   at FunScript.LetBindings.binding@9-1.Invoke(FSharpExpr _arg1)",
      "   at FunScript.CompilerComponent.create@26.FunScript.InternalCompiler.ICompilerComponent.TryCompile(ICompiler compiler, IReturnStrategy returnStrategy, FSharpExpr expr) in C:\\Projects\\Sylvester.git\\ext\\FunScript\\src\\main\\FunScript\\CompilerComponent.fs:line 29",
      "   at FunScript.InternalCompiler.Compiler.tryComponent(IReturnStrategy returnStrategy, FSharpExpr expr, ICompilerComponent part) in C:\\Projects\\Sylvester.git\\ext\\FunScript\\src\\main\\FunScript\\InternalCompiler.fs:line 69",
      "   at FunScript.InternalCompiler.result@75.Invoke(ICompilerComponent part) in C:\\Projects\\Sylvester.git\\ext\\FunScript\\src\\main\\FunScript\\InternalCompiler.fs:line 75",
      "   at Microsoft.FSharp.Collections.ListModule.TryPick[T,TResult](FSharpFunc`2 chooser, FSharpList`1 list) in D:\\a\\_work\\1\\s\\src\\FSharp.Core\\list.fs:line 515",
      "   at FunScript.InternalCompiler.Compiler.tryAllComponents(IReturnStrategy returnStrategy, FSharpExpr expr) in C:\\Projects\\Sylvester.git\\ext\\FunScript\\src\\main\\FunScript\\InternalCompiler.fs:line 74",
      "   at FunScript.InternalCompiler.Compiler.compile(IReturnStrategy returnStrategy, FSharpExpr expr) in C:\\Projects\\Sylvester.git\\ext\\FunScript\\src\\main\\FunScript\\InternalCompiler.fs:line 126",
      "   at FunScript.InternalCompiler.Compiler.FunScript.InternalCompiler.ICompiler.Compile(IReturnStrategy returnStrategy, FSharpExpr expr) in C:\\Projects\\Sylvester.git\\ext\\FunScript\\src\\main\\FunScript\\InternalCompiler.fs:line 189",
      "   at FunScript.LetBindings.|Return|@8.Invoke(IReturnStrategy arg00, FSharpExpr arg10) in C:\\Projects\\Sylvester.git\\ext\\FunScript\\src\\main\\FunScript\\LetBindings.fs:line 8",
      "   at FunScript.LetBindings.binding@9-1.Invoke(FSharpExpr _arg1)",
      "   at FunScript.CompilerComponent.create@26.FunScript.InternalCompiler.ICompilerComponent.TryCompile(ICompiler compiler, IReturnStrategy returnStrategy, FSharpExpr expr) in C:\\Projects\\Sylvester.git\\ext\\FunScript\\src\\main\\FunScript\\CompilerComponent.fs:line 29",
      "   at FunScript.InternalCompiler.Compiler.tryComponent(IReturnStrategy returnStrategy, FSharpExpr expr, ICompilerComponent part) in C:\\Projects\\Sylvester.git\\ext\\FunScript\\src\\main\\FunScript\\InternalCompiler.fs:line 69",
      "   at FunScript.InternalCompiler.result@75.Invoke(ICompilerComponent part) in C:\\Projects\\Sylvester.git\\ext\\FunScript\\src\\main\\FunScript\\InternalCompiler.fs:line 75",
      "   at Microsoft.FSharp.Collections.ListModule.TryPick[T,TResult](FSharpFunc`2 chooser, FSharpList`1 list) in D:\\a\\_work\\1\\s\\src\\FSharp.Core\\list.fs:line 515",
      "   at FunScript.InternalCompiler.Compiler.tryAllComponents(IReturnStrategy returnStrategy, FSharpExpr expr) in C:\\Projects\\Sylvester.git\\ext\\FunScript\\src\\main\\FunScript\\InternalCompiler.fs:line 74",
      "   at FunScript.InternalCompiler.Compiler.compile(IReturnStrategy returnStrategy, FSharpExpr expr) in C:\\Projects\\Sylvester.git\\ext\\FunScript\\src\\main\\FunScript\\InternalCompiler.fs:line 126",
      "   at FunScript.InternalCompiler.Compiler.FunScript.InternalCompiler.ICompiler.Compile(IReturnStrategy returnStrategy, FSharpExpr expr) in C:\\Projects\\Sylvester.git\\ext\\FunScript\\src\\main\\FunScript\\InternalCompiler.fs:line 189",
      "   at FunScript.LetBindings.|Return|@8.Invoke(IReturnStrategy arg00, FSharpExpr arg10) in C:\\Projects\\Sylvester.git\\ext\\FunScript\\src\\main\\FunScript\\LetBindings.fs:line 8",
      "   at FunScript.LetBindings.binding@9-1.Invoke(FSharpExpr _arg1)",
      "   at FunScript.CompilerComponent.create@26.FunScript.InternalCompiler.ICompilerComponent.TryCompile(ICompiler compiler, IReturnStrategy returnStrategy, FSharpExpr expr) in C:\\Projects\\Sylvester.git\\ext\\FunScript\\src\\main\\FunScript\\CompilerComponent.fs:line 29",
      "   at FunScript.InternalCompiler.Compiler.tryComponent(IReturnStrategy returnStrategy, FSharpExpr expr, ICompilerComponent part) in C:\\Projects\\Sylvester.git\\ext\\FunScript\\src\\main\\FunScript\\InternalCompiler.fs:line 69",
      "   at FunScript.InternalCompiler.result@75.Invoke(ICompilerComponent part) in C:\\Projects\\Sylvester.git\\ext\\FunScript\\src\\main\\FunScript\\InternalCompiler.fs:line 75",
      "   at Microsoft.FSharp.Collections.ListModule.TryPick[T,TResult](FSharpFunc`2 chooser, FSharpList`1 list) in D:\\a\\_work\\1\\s\\src\\FSharp.Core\\list.fs:line 515",
      "   at FunScript.InternalCompiler.Compiler.tryAllComponents(IReturnStrategy returnStrategy, FSharpExpr expr) in C:\\Projects\\Sylvester.git\\ext\\FunScript\\src\\main\\FunScript\\InternalCompiler.fs:line 74",
      "   at FunScript.InternalCompiler.Compiler.compile(IReturnStrategy returnStrategy, FSharpExpr expr) in C:\\Projects\\Sylvester.git\\ext\\FunScript\\src\\main\\FunScript\\InternalCompiler.fs:line 126",
      "   at FunScript.InternalCompiler.Compiler.Compile(IReturnStrategy returnStrategy, FSharpExpr expr) in C:\\Projects\\Sylvester.git\\ext\\FunScript\\src\\main\\FunScript\\InternalCompiler.fs:line 182",
      "   at FunScript.Compiler.Compiler.CompileImpl[a](FSharpExpr expression, FSharpFunc`2 adjustComponents, FSharpOption`1 noReturn, FSharpOption`1 shouldCompress, FSharpOption`1 isEventMappingEnabled) in C:\\Projects\\Sylvester.git\\ext\\FunScript\\src\\main\\FunScript\\Compiler.fs:line 49",
      "   at FunScript.Compiler.Compiler.Compile(FSharpExpr expression, FSharpOption`1 components, FSharpOption`1 noReturn, FSharpOption`1 shouldCompress, FSharpOption`1 isEventMappingEnabled) in C:\\Projects\\Sylvester.git\\ext\\FunScript\\src\\main\\FunScript\\Compiler.fs:line 60",
      "   at FunScript.TypeScriptMappings.compile(FSharpExpr expr) in C:\\Projects\\Sylvester.git\\ext\\FunScript\\src\\main\\FunScript\\TypeScriptMappings.fs:line 40",
      "   at Sylvester.Board.draw_board(FSharpExpr src) in C:\\Projects\\Sylvester.git\\src\\Visualization\\Sylvester.Visualization.Web\\Board.fs:line 36",
      "   at FSI_0005.clo@11-12.Invoke(FSharpExpr`1 b)",
      "   at Microsoft.DotNet.Interactive.Formatting.Formatter.<>c__DisplayClass47_0`1.<Register>b__0(T value, FormatContext context) in D:\\a\\_work\\1\\s\\src\\Microsoft.DotNet.Interactive.Formatting\\Formatter.cs:line 443",
      "   at Microsoft.DotNet.Interactive.Formatting.AnonymousTypeFormatter`1.Format(T instance, FormatContext context) in D:\\a\\_work\\1\\s\\src\\Microsoft.DotNet.Interactive.Formatting\\AnonymousTypeFormatter{T}.cs:line 30",
      "   at Microsoft.DotNet.Interactive.Formatting.TypeFormatter`1.Microsoft.DotNet.Interactive.Formatting.ITypeFormatter.Format(Object instance, FormatContext context) in D:\\a\\_work\\1\\s\\src\\Microsoft.DotNet.Interactive.Formatting\\TypeFormatter{T}.cs:line 23",
      "   at Microsoft.DotNet.Interactive.Formatting.Formatter`1.FormatTo(T obj, FormatContext context, String mimeType) in D:\\a\\_work\\1\\s\\src\\Microsoft.DotNet.Interactive.Formatting\\Formatter{T}.cs:line 79",
      "   at Microsoft.DotNet.Interactive.Formatting.Formatter.FormatTo[T](T obj, FormatContext context, String mimeType) in D:\\a\\_work\\1\\s\\src\\Microsoft.DotNet.Interactive.Formatting\\Formatter.cs:line 320",
      "   at Microsoft.DotNet.Interactive.Formatting.Formatter.ToDisplayString(Object obj, String mimeType) in D:\\a\\_work\\1\\s\\src\\Microsoft.DotNet.Interactive.Formatting\\Formatter.cs:line 277",
      "   at Microsoft.DotNet.Interactive.FormattedValue.<>c__DisplayClass12_0.<CreateManyFromObject>b__0(String mimeType) in D:\\a\\_work\\1\\s\\src\\Microsoft.DotNet.Interactive\\FormattedValue.cs:line 49",
      "   at System.Linq.Enumerable.SelectArrayIterator`2.Fill(ReadOnlySpan`1 source, Span`1 destination, Func`2 func)",
      "   at System.Linq.Enumerable.SelectArrayIterator`2.ToArray()",
      "   at Microsoft.DotNet.Interactive.FormattedValue.CreateManyFromObject(Object value, String[] mimeTypes) in D:\\a\\_work\\1\\s\\src\\Microsoft.DotNet.Interactive\\FormattedValue.cs:line 47",
      "   at <StartupCode$Microsoft-DotNet-Interactive-FSharp>.$FSharpKernel.clo@191-3.MoveNext() in D:\\a\\_work\\1\\s\\src\\Microsoft.DotNet.Interactive.FSharp\\FSharpKernel.fs:line 223",
      "   at Microsoft.DotNet.Interactive.Kernel.HandleAsync(KernelCommand command, KernelInvocationContext context) in D:\\a\\_work\\1\\s\\src\\Microsoft.DotNet.Interactive\\Kernel.cs:line 365",
      "   at Microsoft.DotNet.Interactive.KernelCommandPipeline.<BuildPipeline>b__6_0(KernelCommand command, KernelInvocationContext context, KernelPipelineContinuation _) in D:\\a\\_work\\1\\s\\src\\Microsoft.DotNet.Interactive\\KernelCommandPipeline.cs:line 60",
      "   at Microsoft.DotNet.Interactive.KernelCommandPipeline.SendAsync(KernelCommand command, KernelInvocationContext context) in D:\\a\\_work\\1\\s\\src\\Microsoft.DotNet.Interactive\\KernelCommandPipeline.cs:line 41"
     ]
    }
   ],
   "source": [
    "let jsfun (f:RealFunction) =f.MapExpr\n",
    "let g = realfun \"g\" (x***3 + 5)\n",
    "//Use quotation to indicate this F# code must be compiled to JavaScript\n",
    "<@ \n",
    "let b = {| \n",
    "    boundingbox = area 5. 8. 0. \n",
    "    showNavigation = true \n",
    "    showCopyright = false\n",
    "    keepAspectRatio = true\n",
    "    axis = true \n",
    "|}\n",
    "let board = board b\n",
    "let a = slider -10. -6. 4. -10. -20. -10. {|name = \"a\"; snapWidth = 1|} board\n",
    "let b = slider -10. -7. 4. 10. 20. 10. {|name = \"b\"; snapWidth = 1|} board\n",
    "let n = slider -10. -8. 4. 1. 50. 40. {|name = \"n\"; snapWidth = 1|} board \n",
    "draw_ge board [|\n",
    "    ge.functiongraph %(g.MapExpr) a.Value b.Value {|name=\"g(x)=x sin(x)\"; withLabel=true; label=autoPosition |}\n",
    "    ge.riemannsum %(g.MapExpr) n.Value rsum.upper a.Value b.Value defaults \n",
    "|]\n",
    "@>"
   ]
  },
  {
   "cell_type": "markdown",
   "id": "bfe7e8f8",
   "metadata": {
    "slideshow": {
     "slide_type": "slide"
    }
   },
   "source": [
    "<div style=\"margin-top:100px\">\n",
    "    <h1>Game Theory</h1>\n",
    "</div>\n",
    "<center>\n",
    "<img src = \"https://ajb.nyc3.cdn.digitaloceanspaces.com/funcon25/gt2.jpg\" style=\"width:600px; height:600px\" />\n",
    "</center>"
   ]
  },
  {
   "cell_type": "markdown",
   "id": "ebf813a8",
   "metadata": {
    "slideshow": {
     "slide_type": "slide"
    }
   },
   "source": [
    "# Game Theory\n",
    "## Overview\n",
    "* Game theory models and analyzes how *rational* decision makers interact\n",
    "* Game theory as an independent field started in 1940's by John von Neumann and Oskar Morgenstern\n",
    "* Game theory is used extensively in natural and social sciences, business, politics, defense, diplomacy, and all fields that require plannning and analyzing situations where intelligent agents interact and compete \n",
    "* *Static or simultaneous* games consist of two-or-more players who have *perfect information* about each other's possible *actions* and *payoffs* and are assumed to act simultaneously without knowledge of what the other players will do"
   ]
  },
  {
   "cell_type": "markdown",
   "id": "587d5e5f",
   "metadata": {
    "slideshow": {
     "slide_type": "slide"
    }
   },
   "source": [
    "# Game Theory :: Static Game Examples\n",
    "### Arms Race\n",
    "Two neighboring countries must each decide on a level of military spending. If both countries choose a low-level of spending they will both benefit greatly. If one country chooses a high-level of military spending and the other low then the low-spending country will be at a severe disadvantage. If both choose high-military spending they will both be disadvantaged compared to both choosing low spending, but not as much as if one chooses to arm and the other not to.\n",
    "<center>\n",
    "<img src = \"gt.jpg\" style=\"width:400px; height:400px\" />\n",
    "</center>"
   ]
  },
  {
   "cell_type": "markdown",
   "id": "0c134975",
   "metadata": {
    "slideshow": {
     "slide_type": "slide"
    }
   },
   "source": [
    "# Game Theory :: Static Game Examples\n",
    "### Stag Hunt\n",
    "Two hunters are on a stag hunt where they can't observe what the other is doing. Catching a stag is hard and requires both hunters to cooperate.  Catching a hare is much easier than catching a stag though and doesn't require cooperation but will benefit an individual hunter less than a stag. If one hunter hunts a stag and one a hare, only the hare hunter will benefit.\n",
    "<center>\n",
    "<img src = \"https://ajb.nyc3.cdn.digitaloceanspaces.com/funcon25/staghunt.jpg\" style=\"width:400px; height:400px\" />\n",
    "</center>"
   ]
  },
  {
   "cell_type": "markdown",
   "id": "5fef9995",
   "metadata": {
    "slideshow": {
     "slide_type": "slide"
    }
   },
   "source": [
    "# Game Theory\n",
    "## Basic Elements of a Static Game\n",
    "* Players: represents decision-makers who must choose from a set of *actions*\n",
    "* Action: Usually a simple label representing a player choice like \"Cooperate\" or \"Defect\". Actions may be *discrete* or *continuous*\n",
    "* Action Profile: A set of individual actions chosen by each player representing a possible outcome of the game e.g. `{Defect, Defect}` is the action profile where both hunters choose not to cooperate\n",
    "* Preferences: Each player has a preference for the different outcomes of a game\n",
    "* Payoffs: a function that assigns to each action profile a number where higher numbers are preferred by the player e.g `(2,2)` assigns the payoff 2 to each player which is preferred by both to `(1,1)`\n",
    "* We can represent a two-player static game in *normal form* - a matrix with the player payoffs for each action profile as the elements"
   ]
  },
  {
   "cell_type": "markdown",
   "id": "f0684110",
   "metadata": {
    "slideshow": {
     "slide_type": "slide"
    }
   },
   "source": [
    "### Game Theory :: Game Theory in Sylvester"
   ]
  },
  {
   "cell_type": "code",
   "execution_count": 6,
   "id": "d856ca3d",
   "metadata": {
    "slideshow": {
     "slide_type": "fragment"
    }
   },
   "outputs": [
    {
     "data": {
      "text/html": [
       "<div class=\"nfg_2p\">\r\n",
       "<div class=\"title\" style=\"text-align:center\">Prisoner's Dilemna</div>\r\n",
       "<div style=\"float:left;margin-top:35pt;margin-right:15pt\"><b>Player 1</b></div>\r\n",
       "<div style=\"margin-left:75pt\"><b>Player 2</b></div>\r\n",
       "<table style=\"border: 1px solid black; border-collapse: collapse;\">\r\n",
       "<tbody>\r\n",
       "<tr>\r\n",
       "<td></td>\r\n",
       "<td style =\"border: 1px solid black; border-collapse: collapse;\"><tt>Cooperate</tt></td>\r\n",
       "<td style =\"border: 1px solid black; border-collapse: collapse;\"><tt>Defect</tt></td>\r\n",
       "</tr>\r\n",
       "<tr>\r\n",
       "<td style =\"border: 1px solid black; border-collapse: collapse;\"><tt>Cooperate</tt></td>\r\n",
       "<td style =\"border: 1px solid black; border-collapse: collapse;\" align=\"center\">(-1,-1)</td><td style =\"border: 1px solid black; border-collapse: collapse;\" align=\"center\">(-3,0)</td></tr>\r\n",
       "<tr>\r\n",
       "<td style =\"border: 1px solid black; border-collapse: collapse;\"><tt>Defect</tt></td>\r\n",
       "<td style =\"border: 1px solid black; border-collapse: collapse;\" align=\"center\">(0,-3)</td><td style =\"border: 1px solid black; border-collapse: collapse;\" align=\"center\">(-2,-2)</td></tr>\r\n",
       "</tbody>\r\n",
       "</table>\r\n",
       "</div>\r\n"
      ]
     },
     "execution_count": 6,
     "metadata": {},
     "output_type": "execute_result"
    }
   ],
   "source": [
    "// Define a normal form two-player game\n",
    "let pd = nfg_2p \"Prisoner's Dilemna\" [\"Cooperate\"; \"Defect\"] [\"Cooperate\"; \"Defect\"] [\n",
    "            (-1,-1); (-3, 0)\n",
    "            ( 0,-3); (-2,-2)\n",
    "    ]\n",
    "pd"
   ]
  },
  {
   "cell_type": "code",
   "execution_count": 7,
   "id": "c5f8ea4a",
   "metadata": {},
   "outputs": [
    {
     "data": {
      "text/html": [
       "<div class=\"nfg_2p\">\r\n",
       "<div class=\"title\" style=\"text-align:center\">Rock Paper Scissors</div>\r\n",
       "<div style=\"float:left;margin-top:35pt;margin-right:15pt\"><b>Player 1</b></div>\r\n",
       "<div style=\"margin-left:75pt\"><b>Player 2</b></div>\r\n",
       "<table style=\"border: 1px solid black; border-collapse: collapse;\">\r\n",
       "<tbody>\r\n",
       "<tr>\r\n",
       "<td></td>\r\n",
       "<td style =\"border: 1px solid black; border-collapse: collapse;\"><tt>Rock</tt></td>\r\n",
       "<td style =\"border: 1px solid black; border-collapse: collapse;\"><tt>Paper</tt></td>\r\n",
       "<td style =\"border: 1px solid black; border-collapse: collapse;\"><tt>Scissors</tt></td>\r\n",
       "</tr>\r\n",
       "<tr>\r\n",
       "<td style =\"border: 1px solid black; border-collapse: collapse;\"><tt>Rock</tt></td>\r\n",
       "<td style =\"border: 1px solid black; border-collapse: collapse;\" align=\"center\">(0,0)</td><td style =\"border: 1px solid black; border-collapse: collapse;\" align=\"center\">(-1,1)</td><td style =\"border: 1px solid black; border-collapse: collapse;\" align=\"center\">(1,-1)</td></tr>\r\n",
       "<tr>\r\n",
       "<td style =\"border: 1px solid black; border-collapse: collapse;\"><tt>Paper</tt></td>\r\n",
       "<td style =\"border: 1px solid black; border-collapse: collapse;\" align=\"center\">(1,-1)</td><td style =\"border: 1px solid black; border-collapse: collapse;\" align=\"center\">(0,0)</td><td style =\"border: 1px solid black; border-collapse: collapse;\" align=\"center\">(-1,1)</td></tr>\r\n",
       "<tr>\r\n",
       "<td style =\"border: 1px solid black; border-collapse: collapse;\"><tt>Scissors</tt></td>\r\n",
       "<td style =\"border: 1px solid black; border-collapse: collapse;\" align=\"center\">(-1,1)</td><td style =\"border: 1px solid black; border-collapse: collapse;\" align=\"center\">(1,-1)</td><td style =\"border: 1px solid black; border-collapse: collapse;\" align=\"center\">(0,0)</td></tr>\r\n",
       "</tbody>\r\n",
       "</table>\r\n",
       "</div>\r\n"
      ]
     },
     "execution_count": 7,
     "metadata": {},
     "output_type": "execute_result"
    }
   ],
   "source": [
    "// Define a normal form two-player zero-sum game\n",
    "let rps = nfg_2p_zs \"Rock Paper Scissors\" [\"Rock\"; \"Paper\"; \"Scissors\"] [\"Rock\"; \"Paper\"; \"Scissors\"] [\n",
    "            0; -1; 1\n",
    "            1; 0; -1\n",
    "            -1; 1; 0\n",
    "]\n",
    "rps"
   ]
  },
  {
   "cell_type": "code",
   "execution_count": 8,
   "id": "109315bb",
   "metadata": {
    "slideshow": {
     "slide_type": "fragment"
    }
   },
   "outputs": [
    {
     "data": {
      "text/html": [
       "<div class=\"nfg_2p\">\r\n",
       "<div class=\"title\" style=\"text-align:center\">Prisoner's Dilemna - 1 pure strategy solution(s)</div>\r\n",
       "<div style=\"float:left;margin-top:35pt;margin-right:15pt\"><b>Player 1</b></div>\r\n",
       "<div style=\"margin-left:75pt\"><b>Player 2</b></div>\r\n",
       "<table>\r\n",
       "<tbody>\r\n",
       "<tr >\r\n",
       "<td style =\"border: 1px solid black; border-collapse: collapse;\"></td>\r\n",
       "<td style =\"border: 1px solid black; border-collapse: collapse;\"><tt>Cooperate</tt></td>\r\n",
       "<td style =\"border: 1px solid black; border-collapse: collapse;\"><tt>Defect</tt></td>\r\n",
       "</tr>\r\n",
       "<tr>\r\n",
       "<td style =\"border: 1px solid black; border-collapse: collapse;\"><tt>Cooperate</tt></td>\r\n",
       "<td style =\"border: 1px solid black; border-collapse: collapse;\" align=\"center\">(-1,-1)</td><td style =\"border: 1px solid black; border-collapse: collapse;\" align=\"center\">(-3,0)</td></tr>\r\n",
       "<tr>\r\n",
       "<td style =\"border: 1px solid black; border-collapse: collapse;\"><tt>Defect</tt></td>\r\n",
       "<td style =\"border: 1px solid black; border-collapse: collapse;\" align=\"center\">(0,-3)</td><td align=\"center\" style =\"border: 1px solid black; border-collapse: collapse;background-color:lightblue\">(<u>-2</u>,<u>-2</u>)</td></tr>\r\n",
       "</tbody>\r\n",
       "</table>\r\n",
       "</div>\r\n"
      ]
     },
     "execution_count": 8,
     "metadata": {},
     "output_type": "execute_result"
    }
   ],
   "source": [
    "solve_enum_pure pd // Find the Nash Equilibirium by enumerating pure strategies"
   ]
  },
  {
   "cell_type": "code",
   "execution_count": 9,
   "id": "9704cefe",
   "metadata": {},
   "outputs": [
    {
     "data": {
      "text/html": [
       "<div class=\"nfg_2p\">\r\n",
       "<div class=\"title\" style=\"text-align:center\">Prisoner's Dilemna - 1 mixed strategy solution(s)</div>\r\n",
       "<div style=\"float:left;margin-top:35pt;margin-right:15pt\"><b>Player 1</b></div>\r\n",
       "<div style=\"margin-left:75pt\"><b>Player 2</b></div>\r\n",
       "<table>\r\n",
       "<tbody>\r\n",
       "<tr >\r\n",
       "<td style =\"border: 1px solid black; border-collapse: collapse;\"></td>\r\n",
       "<td style =\"border: 1px solid black; border-collapse: collapse;\"><tt>Cooperate</tt><sup>0</sup></td>\r\n",
       "<td style =\"border: 1px solid black; border-collapse: collapse;\"><tt>Defect</tt><sup>1</sup></td>\r\n",
       "</tr>\r\n",
       "<tr>\r\n",
       "<td style =\"border: 1px solid black; border-collapse: collapse;\"><tt>Cooperate</tt><sup>0</sup></td>\r\n",
       "<td align=\"center\" style =\"border: 1px solid black; border-collapse: collapse;\">(-1,-1) (<u>0</u>,<u>0</u>)</td><td align=\"center\" style =\"border: 1px solid black; border-collapse: collapse;\">(-3,0) (<u>0</u>,<u>0</u>)</td></tr>\r\n",
       "<tr>\r\n",
       "<td style =\"border: 1px solid black; border-collapse: collapse;\"><tt>Defect</tt><sup>1</sup></td>\r\n",
       "<td align=\"center\" style =\"border: 1px solid black; border-collapse: collapse;\">(0,-3) (<u>0</u>,<u>0</u>)</td><td align=\"center\" style =\"border: 1px solid black; border-collapse: collapse;\">(-2,-2) (<u>-2</u>,<u>-2</u>)</td></tr>\r\n",
       "</tbody>\r\n",
       "</table>\r\n",
       "</div>\r\n"
      ]
     },
     "execution_count": 9,
     "metadata": {},
     "output_type": "execute_result"
    }
   ],
   "source": [
    "solve_enum_mixed pd"
   ]
  },
  {
   "cell_type": "code",
   "execution_count": 6,
   "id": "efa41365",
   "metadata": {
    "slideshow": {
     "slide_type": "fragment"
    }
   },
   "outputs": [
    {
     "data": {
      "text/html": [
       "<div class=\"nfg_2p\">\r\n",
       "<div class=\"title\" style=\"text-align:center\">Stag Hunt</div>\r\n",
       "<div style=\"float:left;margin-top:35pt;margin-right:15pt\"><b>Player 1</b></div>\r\n",
       "<div style=\"margin-left:75pt\"><b>Player 2</b></div>\r\n",
       "<table style=\"border: 1px solid black; border-collapse: collapse;\">\r\n",
       "<tbody>\r\n",
       "<tr>\r\n",
       "<td></td>\r\n",
       "<td><tt>Cooperate</tt></td>\r\n",
       "<td><tt>Defect</tt></td>\r\n",
       "</tr>\r\n",
       "<tr>\r\n",
       "<td><tt>Cooperate</tt></td>\r\n",
       "<td align=\"center\">(4,4)</td><td align=\"center\">(0,2)</td></tr>\r\n",
       "<tr>\r\n",
       "<td><tt>Defect</tt></td>\r\n",
       "<td align=\"center\">(2,0)</td><td align=\"center\">(2,2)</td></tr>\r\n",
       "</tbody>\r\n",
       "</table>\r\n",
       "</div>\r\n"
      ]
     },
     "execution_count": 6,
     "metadata": {},
     "output_type": "execute_result"
    }
   ],
   "source": [
    "// Open SharpGambit modules\n",
    "open SharpGambit\n",
    "\n",
    "// Declare a two-player normal form game\n",
    "let g = nfg_2p \"Stag Hunt\" [\"Cooperate\"; \"Defect\"] [\"Cooperate\"; \"Defect\"] [\n",
    "            (4,4); (0,2)\n",
    "            (2,0); (2,2)\n",
    "    ]\n",
    "g"
   ]
  },
  {
   "cell_type": "code",
   "execution_count": 13,
   "id": "fa3753c0",
   "metadata": {},
   "outputs": [
    {
     "name": "stderr",
     "output_type": "stream",
     "text": [
      "\r\n",
      "input.fsx (1,17)-(1,18) typecheck error The value or constructor 'g' is not defined.\r\n",
      "\r\n"
     ]
    },
    {
     "ename": "Error",
     "evalue": "compilation error",
     "output_type": "error",
     "traceback": []
    }
   ],
   "source": [
    "solve_enum_pure g"
   ]
  },
  {
   "cell_type": "markdown",
   "id": "77331295",
   "metadata": {
    "slideshow": {
     "slide_type": "slide"
    }
   },
   "source": [
    "### Game Theory :: Nash Equilibrium\n",
    "* A common solution concept for games is the *Nash Equilbrium*\n",
    "* A Nash Equilibrium is an action profile where no player can do better choosing a different action if all other players choose their actions from the equilibrium profile\n",
    "* Since cooperation can't be enforced the rational strategy for a player is to maximize payoffs regardless of what the other players do\n",
    "* This means Nash Equilibrium will typically not be *Pareto-optimal*. There are other outcomes that would benefit all players more, if all players could cooperate and trust each other not to deviate from the best mutually beneficial actions\n",
    "* A mixed strategy is \n",
    "* A famous theorem by John Nash states that every "
   ]
  },
  {
   "cell_type": "code",
   "execution_count": 12,
   "id": "b38864bb",
   "metadata": {
    "slideshow": {
     "slide_type": "slide"
    }
   },
   "outputs": [
    {
     "data": {
      "text/html": [
       "<div class=\"nfg_2p\">\r\n",
       "<div class=\"title\" style=\"text-align:center\">Prisoner's Dilemna - 1 pure strategy solution(s)</div>\r\n",
       "<div style=\"float:left;margin-top:35pt;margin-right:15pt\"><b>Player 1</b></div>\r\n",
       "<div style=\"margin-left:75pt\"><b>Player 2</b></div>\r\n",
       "<table>\r\n",
       "<tbody>\r\n",
       "<tr >\r\n",
       "<td style =\"border: 1px solid black; border-collapse: collapse;\"></td>\r\n",
       "<td style =\"border: 1px solid black; border-collapse: collapse;\"><tt>Cooperate</tt></td>\r\n",
       "<td style =\"border: 1px solid black; border-collapse: collapse;\"><tt>Defect</tt></td>\r\n",
       "</tr>\r\n",
       "<tr>\r\n",
       "<td style =\"border: 1px solid black; border-collapse: collapse;\"><tt>Cooperate</tt></td>\r\n",
       "<td style =\"border: 1px solid black; border-collapse: collapse;\" align=\"center\">(-1,-1)</td><td style =\"border: 1px solid black; border-collapse: collapse;\" align=\"center\">(-3,0)</td></tr>\r\n",
       "<tr>\r\n",
       "<td style =\"border: 1px solid black; border-collapse: collapse;\"><tt>Defect</tt></td>\r\n",
       "<td style =\"border: 1px solid black; border-collapse: collapse;\" align=\"center\">(0,-3)</td><td align=\"center\" style =\"border: 1px solid black; border-collapse: collapse;background-color:lightblue\">(<u>-2</u>,<u>-2</u>)</td></tr>\r\n",
       "</tbody>\r\n",
       "</table>\r\n",
       "</div>\r\n"
      ]
     },
     "execution_count": 12,
     "metadata": {},
     "output_type": "execute_result"
    }
   ],
   "source": [
    "solve_enum_pure pd //Find any pure strategy Nash Equilibrium"
   ]
  },
  {
   "cell_type": "code",
   "execution_count": 11,
   "id": "d49133b1",
   "metadata": {
    "slideshow": {
     "slide_type": "fragment"
    }
   },
   "outputs": [
    {
     "data": {
      "text/html": [
       "<div class=\"nfg_2p\">\r\n",
       "<div class=\"title\" style=\"text-align:center\">Rock Paper Scissors - 1 mixed strategy solution(s)</div>\r\n",
       "<div style=\"float:left;margin-top:35pt;margin-right:15pt\"><b>Player 1</b></div>\r\n",
       "<div style=\"margin-left:75pt\"><b>Player 2</b></div>\r\n",
       "<table>\r\n",
       "<tbody>\r\n",
       "<tr >\r\n",
       "<td style =\"border: 1px solid black; border-collapse: collapse;\"></td>\r\n",
       "<td style =\"border: 1px solid black; border-collapse: collapse;\"><tt>Rock</tt><sup>1/3</sup></td>\r\n",
       "<td style =\"border: 1px solid black; border-collapse: collapse;\"><tt>Paper</tt><sup>1/3</sup></td>\r\n",
       "<td style =\"border: 1px solid black; border-collapse: collapse;\"><tt>Scissors</tt><sup>1/3</sup></td>\r\n",
       "</tr>\r\n",
       "<tr>\r\n",
       "<td style =\"border: 1px solid black; border-collapse: collapse;\"><tt>Rock</tt><sup>1/3</sup></td>\r\n",
       "<td align=\"center\" style =\"border: 1px solid black; border-collapse: collapse;\">(0,0) (<u>0</u>,<u>0</u>)</td><td align=\"center\" style =\"border: 1px solid black; border-collapse: collapse;\">(-1,1) (<u>-1/3</u>,<u>1/3</u>)</td><td align=\"center\" style =\"border: 1px solid black; border-collapse: collapse;\">(1,-1) (<u>1/3</u>,<u>-1/3</u>)</td></tr>\r\n",
       "<tr>\r\n",
       "<td style =\"border: 1px solid black; border-collapse: collapse;\"><tt>Paper</tt><sup>1/3</sup></td>\r\n",
       "<td align=\"center\" style =\"border: 1px solid black; border-collapse: collapse;\">(1,-1) (<u>1/3</u>,<u>-1/3</u>)</td><td align=\"center\" style =\"border: 1px solid black; border-collapse: collapse;\">(0,0) (<u>0</u>,<u>0</u>)</td><td align=\"center\" style =\"border: 1px solid black; border-collapse: collapse;\">(-1,1) (<u>-1/3</u>,<u>1/3</u>)</td></tr>\r\n",
       "<tr>\r\n",
       "<td style =\"border: 1px solid black; border-collapse: collapse;\"><tt>Scissors</tt><sup>1/3</sup></td>\r\n",
       "<td align=\"center\" style =\"border: 1px solid black; border-collapse: collapse;\">(-1,1) (<u>-1/3</u>,<u>1/3</u>)</td><td align=\"center\" style =\"border: 1px solid black; border-collapse: collapse;\">(1,-1) (<u>1/3</u>,<u>-1/3</u>)</td><td align=\"center\" style =\"border: 1px solid black; border-collapse: collapse;\">(0,0) (<u>0</u>,<u>0</u>)</td></tr>\r\n",
       "</tbody>\r\n",
       "</table>\r\n",
       "</div>\r\n"
      ]
     },
     "execution_count": 11,
     "metadata": {},
     "output_type": "execute_result"
    }
   ],
   "source": [
    "solve_enum_mixed rps"
   ]
  },
  {
   "cell_type": "markdown",
   "id": "3732b3c3",
   "metadata": {
    "slideshow": {
     "slide_type": "slide"
    }
   },
   "source": [
    "# Economic Concepts in Sylvester\n",
    "<center>\n",
    "<img src = \"https://ajb.nyc3.cdn.digitaloceanspaces.com/funcon25/mpl.png\" style=\"width:1000px; height:600px\" />\n",
    "</center>"
   ]
  },
  {
   "cell_type": "markdown",
   "id": "cf35f95f",
   "metadata": {
    "slideshow": {
     "slide_type": "slide"
    }
   },
   "source": [
    "# Economics Concepts in Sylvester \n",
    "## Overview\n",
    "* Economics - *how a society uses scarce resources and decides what to produce, for whom, by whom*.\n",
    "* Basic concepts - *supply*, *demand*, *consumer*,  *preference*, *utility*, *firm*, *production*, *capital*, *labour*...\n",
    "* Economics requires extensive usage of algebraic manipulation of real functions and expressions, equation and constraint solving, graphs and visualization\n",
    "* We can use the features of Sylvester demonstrated to implement and work with these concepts"
   ]
  },
  {
   "cell_type": "markdown",
   "id": "beaaaaa5",
   "metadata": {
    "slideshow": {
     "slide_type": "slide"
    }
   },
   "source": [
    "## Economics Concepts in Sylvester :: Production and Cost Functions\n",
    "### Theory\n",
    "* *Production function*: the ways a firm can transform inputs into outputs defined by relationship between the quantities of inputs used and\n",
    "the maximum quantity of output *q* that can be produced. The production function for a firm that uses\n",
    "labor and capital only is a function of 2 real variables: $$q = f(L,K)$$ \n",
    "\n",
    "* The *marginal product* of labor (MPL) is the change in total output resulting from using an extra unit of labor, holding other factors (capital) constant. The marginal product of labor is the partial derivative of the production function\n",
    "with respect to labor: $$MP_L=\\frac{\\partial f(L, K)}{\\partial L}$$\n",
    "\n",
    "* The *average product of labor* (APL) is the ratio of output to the number of workers\n",
    "used to produce that output. $$AP_L=\\frac{q}{L}$$"
   ]
  },
  {
   "cell_type": "markdown",
   "id": "9f1abc11",
   "metadata": {
    "slideshow": {
     "slide_type": "slide"
    }
   },
   "source": [
    "## Economics Concepts in Sylvester :: Production and Cost Functions"
   ]
  },
  {
   "cell_type": "code",
   "execution_count": 27,
   "id": "8eafd493",
   "metadata": {
    "slideshow": {
     "slide_type": "fragment"
    }
   },
   "outputs": [
    {
     "data": {
      "text/html": [
       "<div>\r\n",
       " <div id=\"27479fad-380d-4327-8413-27a572c68965\" class=\"jxgbox\" style=\"width:100%;height:640px\"></div>\r\n",
       " <script>require(['https://cdn.jsdelivr.net/npm/jsxgraph/distrib/jsxgraphcore.js'], function(JXG) {\n",
       "JXG.Options.text.useMathJax = true;\n",
       "var MathJS__Pow$;\r\n",
       "MathJS__Pow$ = (function(x,y)\r\n",
       "{\r\n",
       "    return Math.pow(x, y);;\r\n",
       "});\r\n",
       "var boundingbox = [(0.000000 - ((25.000000 - 0.000000) / 10.000000)), (500.000000 + ((500.000000 - 0.000000) / 10.000000)), (25.000000 + (25.000000 / 10.000000)), (0.000000 - (500.000000 / 10.000000))];\r\n",
       "var showNavigation = true;\r\n",
       "var showCopyright = false;\r\n",
       "var keepAspectRatio = false;\r\n",
       "var name = \"X\";\r\n",
       "var withLabel = true;\r\n",
       "var position = \"rt\";\r\n",
       "var offset = [-300, -40];\r\n",
       "var _name = \"Y\";\r\n",
       "var _withLabel = true;\r\n",
       "var _position = \"rt\";\r\n",
       "var rotate = 90;\r\n",
       "var _offset = [-40, -300];\r\n",
       "var b = JXG.JSXGraph.initBoard(\"27479fad-380d-4327-8413-27a572c68965\", {axis: true, boundingbox: boundingbox, defaultAxes: {x: {label: {anchorX: \"middle\", offset: offset, position: position}, name: name, withLabel: withLabel}, y: {label: {anchorX: \"middle\", offset: _offset, position: _position, rotate: rotate}, name: _name, withLabel: _withLabel}}, keepAspectRatio: keepAspectRatio, showCopyright: showCopyright, showNavigation: showNavigation});\r\n",
       "var K_bar = b.create('slider', [[(0.750000 * 25.000000), ((0.750000 * 500.000000) - ((1.000000 - 1.000000) * ((500.000000 - 0.000000) / 10.000000)))], [(0.750000 * 25.000000) + 2.000000, ((0.750000 * 500.000000) - ((1.000000 - 1.000000) * ((500.000000 - 0.000000) / 10.000000)))], [0.000000, 1.000000, 5.000000]], {name: \"K_bar\"});\r\n",
       "var strokeColor = \"blue\";\r\n",
       "var strokeWidth = 1;\r\n",
       "var __withLabel = true;\r\n",
       "var fg = b.create('functiongraph', [(function(L)\r\n",
       "{\r\n",
       "    return ((((0.100000 * L) * K_bar.Value()) + ((3.000000 * MathJS__Pow$(L, 2.000000)) * K_bar.Value())) - ((0.100000 * MathJS__Pow$(L, 3.000000)) * K_bar.Value()));\r\n",
       "}), 0.000000, 25.000000], {name: \"$$q(L) = {\\\\frac{1}{10}L}{\\\\bar{K}} + {3L^2}{\\\\bar{K}} - {\\\\frac{1}{10}L^3}{\\\\bar{K}}$$\", strokeColor: strokeColor, strokeWidth: strokeWidth, withLabel: __withLabel});\r\n",
       "var t = b.create('text', [((25.000000 - 0.000000) * 0.500000), (500.000000 - ((500.000000 - 0.000000) / 10.000000)), \"\"], {fontSize: 24});\r\n",
       "b});</script>\r\n",
       "</div>\r\n"
      ]
     },
     "execution_count": 27,
     "metadata": {},
     "output_type": "execute_result"
    }
   ],
   "source": [
    "// Open Sylvester Economics module\n",
    "open Economics\n",
    "\n",
    "// Declare 4 real variables\n",
    "let p, q, L, K = realvar4 \"p\" \"q\" \"L\" \"K\" \n",
    "\n",
    "// Declare 4 real symbolic constants\n",
    "let alpha, beta, A, Kbar  = realconst4 \"alpha\" \"beta\" \"A\" \"K_bar\" \n",
    "\n",
    "// let QP be a short-run production function holding K constant\n",
    "let QP = prodfun \"q\" (0.1 * L * Kbar + 3 * L *** 2 * Kbar - 0.1 * L *** 3 * Kbar) \n",
    "// draw QP with K_bar ranging from 1 to 5\n",
    "draw {|K_bar=(0.,5.);xrange=0.,25.;yrange=(0.,500.) |} QP"
   ]
  },
  {
   "cell_type": "code",
   "execution_count": 118,
   "id": "47a70ae5",
   "metadata": {
    "slideshow": {
     "slide_type": "fragment"
    }
   },
   "outputs": [
    {
     "data": {
      "text/html": [
       "$$q(L) = 5 + {-0.9}{\\bar{K}}L + {3}{\\bar{K}}L^3$$"
      ]
     },
     "execution_count": 118,
     "metadata": {},
     "output_type": "execute_result"
    }
   ],
   "source": [
    "QP"
   ]
  },
  {
   "cell_type": "code",
   "execution_count": 113,
   "id": "534edd97",
   "metadata": {
    "slideshow": {
     "slide_type": "slide"
    }
   },
   "outputs": [
    {
     "data": {
      "text/html": [
       "<div>\r\n",
       " <div id=\"4fe94ec5-7b2a-4d75-995b-c40866136ca6\" class=\"jxgbox\" style=\"width:100%;height:640px\"></div>\r\n",
       " <script>require(['https://cdn.jsdelivr.net/npm/jsxgraph/distrib/jsxgraphcore.js'], function(JXG) {\n",
       "JXG.Options.text.useMathJax = true;\n",
       "var MathJS__Pow$;\r\n",
       "MathJS__Pow$ = (function(x,y)\r\n",
       "{\r\n",
       "    return Math.pow(x, y);;\r\n",
       "});\r\n",
       "var boundingbox = [(0.000000 - ((10.000000 - 0.000000) / 10.000000)), (100.000000 + ((100.000000 - 0.000000) / 10.000000)), (10.000000 + (10.000000 / 10.000000)), (0.000000 - (100.000000 / 10.000000))];\r\n",
       "var showNavigation = true;\r\n",
       "var showCopyright = false;\r\n",
       "var keepAspectRatio = false;\r\n",
       "var name = \"X\";\r\n",
       "var withLabel = true;\r\n",
       "var position = \"rt\";\r\n",
       "var offset = [-300, -40];\r\n",
       "var _name = \"Y\";\r\n",
       "var _withLabel = true;\r\n",
       "var _position = \"rt\";\r\n",
       "var rotate = 90;\r\n",
       "var _offset = [-40, -300];\r\n",
       "var b = JXG.JSXGraph.initBoard(\"4fe94ec5-7b2a-4d75-995b-c40866136ca6\", {axis: true, boundingbox: boundingbox, defaultAxes: {x: {label: {anchorX: \"middle\", offset: offset, position: position}, name: name, withLabel: withLabel}, y: {label: {anchorX: \"middle\", offset: _offset, position: _position, rotate: rotate}, name: _name, withLabel: _withLabel}}, keepAspectRatio: keepAspectRatio, showCopyright: showCopyright, showNavigation: showNavigation});\r\n",
       "var strokeColor = \"blue\";\r\n",
       "var strokeWidth = 1;\r\n",
       "var __withLabel = true;\r\n",
       "var fg = b.create('functiongraph', [(function(L)\r\n",
       "{\r\n",
       "    return ((5.000000 + ((-0.900000 * 0.000000) * L)) + ((3.000000 * 0.000000) * MathJS__Pow$(this, 2.000000)));\r\n",
       "}), 0.000000, 10.000000], {name: \"$$q(L) = 5 + {-0.9}{\\\\bar{K}}L + {3}{\\\\bar{K}}L^2$$\", strokeColor: strokeColor, strokeWidth: strokeWidth, withLabel: __withLabel});\r\n",
       "var t = b.create('text', [((10.000000 - 0.000000) * 0.500000), (100.000000 - ((100.000000 - 0.000000) / 10.000000)), \"\"], {fontSize: 24});\r\n",
       "b});</script>\r\n",
       "</div>\r\n"
      ]
     },
     "execution_count": 113,
     "metadata": {},
     "output_type": "execute_result"
    }
   ],
   "source": [
    "// draw QP with K_bar ranging from 1 to 5\n",
    "draw {|Kbar=(-5.);xrange=0.,10.;yrange=(0.,100.) |} QP"
   ]
  },
  {
   "cell_type": "code",
   "execution_count": 23,
   "id": "6dddcf7c",
   "metadata": {},
   "outputs": [
    {
     "data": {
      "text/html": [
       "$$q(L) = L + 30L^2 - (L^{3})$$"
      ]
     },
     "execution_count": 23,
     "metadata": {},
     "output_type": "execute_result"
    }
   ],
   "source": [
    "// fix Kbar at 10 in our production function\n",
    "let QP1 = fix {|Kbar=10.|} QP\n",
    "QP1"
   ]
  },
  {
   "cell_type": "code",
   "execution_count": 17,
   "id": "afeeea97",
   "metadata": {
    "slideshow": {
     "slide_type": "slide"
    }
   },
   "outputs": [
    {
     "data": {
      "text/html": [
       "$$q(K,L) = {A}{K^{\\beta}}L^\\alpha$$"
      ]
     },
     "execution_count": 17,
     "metadata": {},
     "output_type": "execute_result"
    }
   ],
   "source": [
    "// Consider the general Cobb-Douglas production function\n",
    "let QCD = prodfun2 \"q\" (A * L *** alpha * K *** beta)\n",
    "QCD"
   ]
  },
  {
   "cell_type": "code",
   "execution_count": 18,
   "id": "d31702f3",
   "metadata": {},
   "outputs": [
    {
     "data": {
      "text/html": [
       "$$q(K,L) = K^{\\frac{1}{2}}L^\\frac{1}{2}$$"
      ]
     },
     "execution_count": 18,
     "metadata": {},
     "output_type": "execute_result"
    }
   ],
   "source": [
    "// consider a Cobb-Douglas function with A=1, alpha and beta = 0.5\n",
    "let QCD1 = fix {|A=1.; alpha=0.5;beta=0.5|} QCD\n",
    "QCD1"
   ]
  },
  {
   "cell_type": "code",
   "execution_count": 21,
   "id": "75747d25",
   "metadata": {},
   "outputs": [
    {
     "data": {
      "text/html": [
       "$$Mq_L(K,L) = {{A}{K^{\\beta}}L^\\alpha - -1}{\\alpha}$$"
      ]
     },
     "execution_count": 21,
     "metadata": {},
     "output_type": "execute_result"
    }
   ],
   "source": [
    "marginal L QCD"
   ]
  },
  {
   "cell_type": "code",
   "execution_count": 19,
   "id": "bcd1628e",
   "metadata": {},
   "outputs": [
    {
     "data": {
      "text/html": [
       "$$K^{\\frac{1}{2}}L^\\frac{1}{2} = 6$$"
      ]
     },
     "execution_count": 19,
     "metadata": {},
     "output_type": "execute_result"
    }
   ],
   "source": [
    "// In Sylvester we can also define functions implicitly\n",
    "// A function of two variables set equal to a constant implicitly defines a function of 1 variable\n",
    "QCD1 == 6."
   ]
  },
  {
   "cell_type": "code",
   "execution_count": 20,
   "id": "78cf3682",
   "metadata": {},
   "outputs": [
    {
     "data": {
      "text/html": [
       "$$q(L) = \\frac{36}{L}$$"
      ]
     },
     "execution_count": 20,
     "metadata": {},
     "output_type": "execute_result"
    }
   ],
   "source": [
    "// let's define a one-variable production function of L implicity using our 2 variable function above = to a constant\n",
    "let LS1 = prodfun_im \"q\" L (QCD1 == 6.)\n",
    "LS1"
   ]
  },
  {
   "cell_type": "markdown",
   "id": "01c9c496",
   "metadata": {
    "slideshow": {
     "slide_type": "slide"
    }
   },
   "source": [
    "<div style=\"margin-top:100px\">\n",
    "    <h1>Economic Models in Sylvester</h1>\n",
    "</div>\n",
    "<center>\n",
    "<img src = \"https://public.bnbstatic.com/static/academy/static/academy/editor-uploads/76e342331fc849dd8236e7cdfa3cae50.\" style=\"width:800px; height:600px\" />\n",
    "</center>"
   ]
  },
  {
   "cell_type": "markdown",
   "id": "6ce35a7a",
   "metadata": {
    "slideshow": {
     "slide_type": "slide"
    }
   },
   "source": [
    "### Economic Models in Sylvester :: Overview\n",
    "* Economic models mathematically model economic scenarios and phenomena in a radically simplified setting given certain assumptions\n",
    "* All economic models are wrong but some are useful in helping us understand certain things better\n",
    "* Economic models requires a great deal of algebraic manipulation, equation and constraint solving, and visualization\n",
    "* We can combine the capabilties we saw before into language types that represent economic models and allow the user to automate much of the mathematical operations required in analysis"
   ]
  },
  {
   "cell_type": "markdown",
   "id": "32b5b125",
   "metadata": {
    "slideshow": {
     "slide_type": "slide"
    }
   },
   "source": [
    "### Economic Models in Sylvester :: Consumer Preference\n",
    "<center>\n",
    "<img src = \"https://ajb.nyc3.cdn.digitaloceanspaces.com/funcon25/ct.png\" style=\"width:1200px; height:600px\" />\n",
    "</center>"
   ]
  },
  {
   "cell_type": "markdown",
   "id": "db9d5cde",
   "metadata": {
    "slideshow": {
     "slide_type": "slide"
    }
   },
   "source": [
    "### Economic Models in Sylvester :: Overview"
   ]
  },
  {
   "cell_type": "markdown",
   "id": "36a8e1e1",
   "metadata": {
    "slideshow": {
     "slide_type": "fragment"
    }
   },
   "source": [
    "Consumer preference models analyze how consumers choose goods to purchase and the price they are willing "
   ]
  },
  {
   "cell_type": "code",
   "execution_count": null,
   "id": "6cbeaf6e",
   "metadata": {
    "slideshow": {
     "slide_type": "slide"
    }
   },
   "outputs": [],
   "source": [
    "open System.Collections.Generic\n",
    "open System.Linq\n",
    "\n",
    "open FSharp.Quotations\n",
    "open FSharp.Quotations.DerivedPatterns\n",
    "\n",
    "open MathNet.Numerics\n",
    "\n",
    "open FunScript\n",
    "open FunScript.Bindings.JSXGraph\n",
    "\n",
    "open Economics\n",
    "type ConsumerPreference2() =\n",
    "    inherit EconomicModel()\n",
    "    do\n",
    "        //base.CreateVar(\"Y\")\n",
    "        base.CreateVars((\"Y\", \"Y\"), (\"q1\", \"q_1\"), (\"q2\", \"q_2\"), (\"p1\", \"p_1\"), (\"p2\", \"p_2)\"))\n",
    "        base.CreateUtilFun2(\"U\", \"q1\", \"q2\")\n",
    "\n",
    "    member x.q1\n",
    "        with get() = x.GetVar \"q1\" and set(value) = x.SetVar (\"q1\", value)\n",
    "    member x.q2\n",
    "        with get() = x.GetVar \"q2\" and set(value) = x.SetVar (\"q2\", value)\n",
    "    member x.p1\n",
    "        with get() = x.GetVar \"p1\"\n",
    "        and set(value) = x.SetVar (\"p1\", value)\n",
    "    member x.p2\n",
    "        with get() = x.GetVar \"p2\"\n",
    "        and set(value) = x.SetVar (\"p2\", value)\n",
    "    member x.Y\n",
    "        with get() = x.GetVar \"Y\"\n",
    "        and set(value) = x.SetVar (\"Y\", value)\n",
    "    member x.U\n",
    "        with get() = x.GetFun2<UtilityFunction2> \"U\" \n",
    "        and set(value:UtilityFunction2) = x.SetFun2(\"U\", value)\n",
    "    member x.BudgetConstraint = x.Y == x.p1 * x.q1 + x.p2 * x.q2\n",
    "    member x.UtilityMaximization = mrs x.U == x.p1 / x.p2\n",
    "    override x.Constraints = [x.BudgetConstraint; x.UtilityMaximization]\n",
    "    \n",
    "    member x.DemandFunctions =\n",
    "        let q = solve {|posvars=true|} [x.q1;x.q2] x.Equations\n",
    "        do if q.Length <> 2 then failwithf \"Could not solve constraints for %A and %A.\" x.q1 x.q2\n",
    "        [demandfun \"q1\" (fixvar [x.p2; x.Y] (rhs q.[0])); demandfun \"q2\" (fixvar [x.p1; x.Y] (rhs q.[1]))]\n",
    "\n",
    "    interface IWebVisualization with\n",
    "        member x.Draw(attrs:_) = \n",
    "             let view = if has_prop<ConsumerPreferenceView> \"View\" attrs then get_prop<ConsumerPreferenceView> \"View\" attrs else failwith \"A view must be specified for this consumer preference diagram\"\n",
    "             match view with\n",
    "             | UtililtyMaximization ->\n",
    "                let uvals = if has_prop<real list> \"U\" attrs then get_prop<real list> \"U\" attrs else failwith \"You must specify some utility values to plot indifference curves.\" \n",
    "                let fs = uvals |> Seq.map(fun v -> utilfun_im x.q2.Name x.q2 (x.U == v) :> IRealFunction<RealFunction>)\n",
    "                //let Y = get_prop_else<real*real> \"Y\" (0.,10.) attrs \n",
    "                //let p1 = get_prop_else<real*real> \"p1\" (0.,10.) attrs\n",
    "                //let p2 = get_prop_else<real*real> \"p2\" (0.,10.) attrs\n",
    "                let dict = to_dict attrs\n",
    "                dict[\"title\"] <- sprintf \"Consumer Preference isoquants for %s\" (\"$$\" + latex x.U + \"$$\")\n",
    "                WebVisualization.draw_realfuns_dict dict (fs |> Seq.map(fun x->x.Html()) |> Seq.toArray) (fs |> Seq.map(fun x ->x.Term.MapExpr) |> Seq.toArray) |> draw_board    \n",
    "            \n",
    "//and ConsumerPreferenceView =\n",
    "//| UtililtyMaximization\n",
    "            \n",
    "let get_prop_or_fail<'t> (p:string) (f:string) (attrs:'a) =\n",
    "   if has_prop<'t> p attrs then get_prop<'t> p attrs else failwith f\n",
    "   \n",
    "let drawx (attrs:'a) (x:ConsumerPreference2) =\n",
    "     let view = if has_prop<ConsumerPreferenceView> \"View\" attrs then get_prop<ConsumerPreferenceView> \"View\" attrs else failwith \"A view must be specified for this consumer preference diagram\"\n",
    "            \n",
    "     match view with\n",
    "     | UtililtyMaximization ->\n",
    "            let uvals = if has_prop<real list> \"U\" attrs then get_prop<real list> \"U\" attrs else failwith \"You must specify some utility values to plot indifference curves.\" \n",
    "            let fs = uvals |> Seq.map(fun v -> utilfun_im \"U\" x.q2 (x.U == v) :> IRealFunction<RealFunction>)\n",
    "            let Y = get_prop_or_fail<real*real> \"Y\" \"You must specify a range for Y.\" attrs \n",
    "            //let p1 = get_prop_else<real*real> \"p1\" (0.,10.) attrs\n",
    "            //let p2 = get_prop_else<real*real> \"p2\" (0.,10.) attrs\n",
    "            let dict = to_dict attrs\n",
    "            dict[\"title\"] <- sprintf \"Consumer Preference Isoquants for %s\" (\"$$\" + latex x.U + \"$$\")\n",
    "            let names = uvals |> List.map(fun v -> (sprintf \"$$%s(%s, %s) = %A$$\" x.U.Symbol.Value x.q1.Name x.q2.Name v)) |> List.toArray\n",
    "            WebVisualization.draw_realfuns_dict dict names (fs |> Seq.map(fun x ->x.Term.MapExpr) |> Seq.toArray) |> draw_board\n",
    "    \n",
    "let m = econ_model<ConsumerPreference2>\n",
    "(m.BudgetConstraint.Fix({|Y=4.|}))\n",
    "let y = realfun_im \"Y\" m.p2 ((m.BudgetConstraint.Fix({|Y=4.|})))\n",
    "y\n",
    "//m.U <- utilfun2 \"U\" ((m.q1 * m.q2) *** 0.5)\n",
    "//drawx {|View=ConsumerPreferenceView.UtililtyMaximization; U = [7.; 18.; 15.; 26.]; xrange=(0.,10.);yrange=(0.,100.)|} m"
   ]
  },
  {
   "cell_type": "code",
   "execution_count": null,
   "id": "8260d5f4",
   "metadata": {
    "slideshow": {
     "slide_type": "slide"
    }
   },
   "outputs": [],
   "source": [
    "let m = econ_model<ConsumerPreference> //Create a consu\n",
    "do m.U <- //Assign a Cobb-Douglass Utility function"
   ]
  },
  {
   "cell_type": "code",
   "execution_count": null,
   "id": "45daa658",
   "metadata": {},
   "outputs": [],
   "source": []
  },
  {
   "cell_type": "code",
   "execution_count": null,
   "id": "fd41ded0",
   "metadata": {},
   "outputs": [],
   "source": []
  }
 ],
 "metadata": {
  "celltoolbar": "Slideshow",
  "kernelspec": {
   "display_name": ".NET (F#)",
   "language": "F#",
   "name": ".net-fsharp"
  },
  "language_info": {
   "file_extension": ".fs",
   "mimetype": "text/x-fsharp",
   "name": "F#",
   "pygments_lexer": "fsharp",
   "version": "8.0"
  },
  "rise": {
   "overlay": "<div class='myheader'><img src='https://functionalconf.com/wp-content/uploads/2024/09/Functional-Conf-Horizontal-Logo-170px.png' style='width:170px;height:100px'/>A Functional EDSL for Economics Concepts and Models</center></div>",
   "theme": "simple"
  }
 },
 "nbformat": 4,
 "nbformat_minor": 5
}
