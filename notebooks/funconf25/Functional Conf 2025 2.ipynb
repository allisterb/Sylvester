{
 "cells": [
  {
   "cell_type": "code",
   "execution_count": 1,
   "id": "a152be21",
   "metadata": {
    "slideshow": {
     "slide_type": "skip"
    }
   },
   "outputs": [
    {
     "data": {
      "text/html": [
       "\r\n",
       "<div>\r\n",
       "    <div id='dotnet-interactive-this-cell-22464.Microsoft.DotNet.Interactive.Http.HttpPort' style='display: none'>\r\n",
       "        The below script needs to be able to find the current output cell; this is an easy method to get it.\r\n",
       "    </div>\r\n",
       "    <script type='text/javascript'>\r\n",
       "async function probeAddresses(probingAddresses) {\r\n",
       "    function timeout(ms, promise) {\r\n",
       "        return new Promise(function (resolve, reject) {\r\n",
       "            setTimeout(function () {\r\n",
       "                reject(new Error('timeout'))\r\n",
       "            }, ms)\r\n",
       "            promise.then(resolve, reject)\r\n",
       "        })\r\n",
       "    }\r\n",
       "\r\n",
       "    if (Array.isArray(probingAddresses)) {\r\n",
       "        for (let i = 0; i < probingAddresses.length; i++) {\r\n",
       "\r\n",
       "            let rootUrl = probingAddresses[i];\r\n",
       "\r\n",
       "            if (!rootUrl.endsWith('/')) {\r\n",
       "                rootUrl = `${rootUrl}/`;\r\n",
       "            }\r\n",
       "\r\n",
       "            try {\r\n",
       "                let response = await timeout(1000, fetch(`${rootUrl}discovery`, {\r\n",
       "                    method: 'POST',\r\n",
       "                    cache: 'no-cache',\r\n",
       "                    mode: 'cors',\r\n",
       "                    timeout: 1000,\r\n",
       "                    headers: {\r\n",
       "                        'Content-Type': 'text/plain'\r\n",
       "                    },\r\n",
       "                    body: probingAddresses[i]\r\n",
       "                }));\r\n",
       "\r\n",
       "                if (response.status == 200) {\r\n",
       "                    return rootUrl;\r\n",
       "                }\r\n",
       "            }\r\n",
       "            catch (e) { }\r\n",
       "        }\r\n",
       "    }\r\n",
       "}\r\n",
       "\r\n",
       "function loadDotnetInteractiveApi() {\r\n",
       "    probeAddresses([\"http://192.168.56.1:1000/\", \"http://192.168.169.1:1000/\", \"http://192.168.128.1:1000/\", \"http://192.168.8.190:1000/\", \"http://127.0.0.1:1000/\"])\r\n",
       "        .then((root) => {\r\n",
       "        // use probing to find host url and api resources\r\n",
       "        // load interactive helpers and language services\r\n",
       "        let dotnetInteractiveRequire = require.config({\r\n",
       "        context: '22464.Microsoft.DotNet.Interactive.Http.HttpPort',\r\n",
       "                paths:\r\n",
       "            {\r\n",
       "                'dotnet-interactive': `${root}resources`\r\n",
       "                }\r\n",
       "        }) || require;\r\n",
       "\r\n",
       "            window.dotnetInteractiveRequire = dotnetInteractiveRequire;\r\n",
       "\r\n",
       "            window.configureRequireFromExtension = function(extensionName, extensionCacheBuster) {\r\n",
       "                let paths = {};\r\n",
       "                paths[extensionName] = `${root}extensions/${extensionName}/resources/`;\r\n",
       "                \r\n",
       "                let internalRequire = require.config({\r\n",
       "                    context: extensionCacheBuster,\r\n",
       "                    paths: paths,\r\n",
       "                    urlArgs: `cacheBuster=${extensionCacheBuster}`\r\n",
       "                    }) || require;\r\n",
       "\r\n",
       "                return internalRequire\r\n",
       "            };\r\n",
       "        \r\n",
       "            dotnetInteractiveRequire([\r\n",
       "                    'dotnet-interactive/dotnet-interactive'\r\n",
       "                ],\r\n",
       "                function (dotnet) {\r\n",
       "                    dotnet.init(window);\r\n",
       "                },\r\n",
       "                function (error) {\r\n",
       "                    console.log(error);\r\n",
       "                }\r\n",
       "            );\r\n",
       "        })\r\n",
       "        .catch(error => {console.log(error);});\r\n",
       "    }\r\n",
       "\r\n",
       "// ensure `require` is available globally\r\n",
       "if ((typeof(require) !==  typeof(Function)) || (typeof(require.config) !== typeof(Function))) {\r\n",
       "    let require_script = document.createElement('script');\r\n",
       "    require_script.setAttribute('src', 'https://cdnjs.cloudflare.com/ajax/libs/require.js/2.3.6/require.min.js');\r\n",
       "    require_script.setAttribute('type', 'text/javascript');\r\n",
       "    \r\n",
       "    \r\n",
       "    require_script.onload = function() {\r\n",
       "        loadDotnetInteractiveApi();\r\n",
       "    };\r\n",
       "\r\n",
       "    document.getElementsByTagName('head')[0].appendChild(require_script);\r\n",
       "}\r\n",
       "else {\r\n",
       "    loadDotnetInteractiveApi();\r\n",
       "}\r\n",
       "\r\n",
       "    </script>\r\n",
       "</div>"
      ]
     },
     "metadata": {},
     "output_type": "display_data"
    },
    {
     "name": "stdout",
     "output_type": "stream",
     "text": [
      "Using default console logger.\n",
      "Process cmd started with pid 38628.\n"
     ]
    }
   ],
   "source": [
    "/// Load Sylvester math libraries and init CAS\n",
    "#load \"Include.fsx\"\n",
    "Sylvester.CAS.Maxima.init \"C:\\\\MathTools\\\\maxima-5.44.0\\\\bin\\\\maxima.bat\""
   ]
  },
  {
   "cell_type": "markdown",
   "id": "3e17eedd",
   "metadata": {
    "slideshow": {
     "slide_type": "slide"
    }
   },
   "source": [
    "<center>\n",
    "    <h2> A Functional EDSL for Economics Concepts and Models</h2>\n",
    "    <div>\n",
    "        <div style=\"margin: auto;width:800px\">\n",
    "        <img src=\"fsharplogo3.png\" style=\"width:200px;height:200px;float:left;margin-right:10px\"/>\n",
    "        <img src=\"economics.png\" style=\"width:200px;height:200px;float:left;margin-right:10px\"/>\n",
    "        <img src=\"gt.jpg\" style=\"width:200px;height:200px;float:left;margin-right:10px\"/>\n",
    "        </div>\n",
    "        <br/>\n",
    "        <div style=\"float:none;clear:left\">\n",
    "            <img src=\"Functional-Conf-Horizontal-Logo-170px.png\" style=\"width:300px\" />\n",
    "        </div>\n",
    "    </div>\n",
    "        <h2> Allister Beharry </h2>\n",
    "    <h2> 24th January 2025</h2>\n",
    "</center>\n",
    "\n"
   ]
  },
  {
   "cell_type": "markdown",
   "id": "residential-porcelain",
   "metadata": {
    "slideshow": {
     "slide_type": "slide"
    }
   },
   "source": [
    "# Introduction\n",
    "<img src=\"econ2.jpg\" style=\"width:75%;height:75%;text-align:center\" />"
   ]
  },
  {
   "cell_type": "markdown",
   "id": "a696aac7",
   "metadata": {
    "slideshow": {
     "slide_type": "slide"
    }
   },
   "source": [
    "# Introduction\n",
    "## About Me\n",
    "* .NET programmer for > 20 years, F# programmer ~ 5 years\n",
    "* Currently student in University of London EMFSS Online Programmes\n",
    "* Interested in open source mathematical computing, software and languages in math education"
   ]
  },
  {
   "cell_type": "markdown",
   "id": "059bc67a",
   "metadata": {
    "slideshow": {
     "slide_type": "slide"
    }
   },
   "source": [
    "# Introduction\n",
    "## About Sylvester\n",
    "\n"
   ]
  },
  {
   "cell_type": "markdown",
   "id": "divided-census",
   "metadata": {
    "slideshow": {
     "slide_type": "fragment"
    }
   },
   "source": [
    "* F# EDSL for mathematical computing"
   ]
  },
  {
   "cell_type": "markdown",
   "id": "discrete-uzbekistan",
   "metadata": {
    "slideshow": {
     "slide_type": "fragment"
    }
   },
   "source": [
    "* Provide a unified notatation for symbolic, logical, visual aspects of mathematics"
   ]
  },
  {
   "cell_type": "markdown",
   "id": "prospective-petite",
   "metadata": {
    "slideshow": {
     "slide_type": "fragment"
    }
   },
   "source": [
    "* Provide syntax and types for expressing formulas and properties and operations and theorems and diagrams from different mathematical domains"
   ]
  },
  {
   "cell_type": "markdown",
   "id": "stretch-assurance",
   "metadata": {
    "slideshow": {
     "slide_type": "fragment"
    }
   },
   "source": [
    "* Provide unified functional language interface to different open-source tools and libraries for mathematical computing - Maxima, Z3, MathJAX, JSXGraph.... "
   ]
  },
  {
   "cell_type": "markdown",
   "id": "detailed-technical",
   "metadata": {
    "slideshow": {
     "slide_type": "fragment"
    }
   },
   "source": [
    "* Provide a **single** language and environment for completing all the tasks required in solving university-level math problems and questions"
   ]
  },
  {
   "cell_type": "markdown",
   "id": "mathematical-democrat",
   "metadata": {
    "slideshow": {
     "slide_type": "slide"
    }
   },
   "source": [
    "# Why Sylvester?\n",
    "<div style=\"float:left\">\n",
    "    <h3> Math education in the 13th century </h3>\n",
    "    <img src=\"https://ajb.nyc3.cdn.digitaloceanspaces.com/1350class.webp\"/>\n",
    "    \n",
    "</div>\n",
    "<div style=\"float:right\">\n",
    "     <h3> Math education in the 21st century </h3>\n",
    "    <img src=\"https://ajb.nyc3.cdn.digitaloceanspaces.com/mathclass21.jpg\"/>\n",
    "</div>\n",
    "<div style=\"clear:right\">\n",
    "    <br>\n",
    "    <center><h3>Computers and software have not fundamentally altered the core processes of math education</h3></center>\n",
    "</div>"
   ]
  },
  {
   "cell_type": "markdown",
   "id": "internal-trial",
   "metadata": {
    "slideshow": {
     "slide_type": "slide"
    }
   },
   "source": [
    "## Introduction\n",
    "## About F#\n",
    "\n",
    "* Hybrid, functional-first, object-based open-source .NET language from Microsoft\n",
    "* Member of the ML family of functional programming languages, like OCaml\n",
    "* Can run in desktop IDEs, web browsers, Jupyter notebooks (like this one)\n",
    "* Used in many different areas including financial programming, web development,...\n",
    "* Contains features that make it easier to be used interactively and interoperate with dynamic languages"
   ]
  },
  {
   "cell_type": "markdown",
   "id": "efficient-memphis",
   "metadata": {
    "slideshow": {
     "slide_type": "slide"
    }
   },
   "source": [
    "## Introduction\n",
    "## About EDSLs\n",
    "\n",
    "Embedded Domain Specific Language \"...exploit the syntax of their host general purpose language or a subset thereof while adding domain-specific language elements (data types, routines, methods, macros etc.).\""
   ]
  },
  {
   "cell_type": "markdown",
   "id": "allied-juvenile",
   "metadata": {
    "slideshow": {
     "slide_type": "slide"
    }
   },
   "source": [
    "# Sylvester Economics Demo"
   ]
  },
  {
   "cell_type": "markdown",
   "id": "expressed-sellers",
   "metadata": {
    "slideshow": {
     "slide_type": "slide"
    }
   },
   "source": [
    "## Sylvester Economics Demo\n",
    "### Theory\n",
    "* Economics - *how a society uses scarce resources and decides what to produce, for whom, by whom*.\n",
    "* Basic concepts - *supply*, *demand*, *consumer*,  *preference*, *utility*, *firm*, *production*, *capital*, *labour*...\n",
    "* Introductory theory uses only basic algebra and calculus\n",
    "* Economics features really extensive usage of algebraic manipulation, graphs and visualization"
   ]
  },
  {
   "cell_type": "markdown",
   "id": "norman-barcelona",
   "metadata": {
    "slideshow": {
     "slide_type": "slide"
    }
   },
   "source": [
    "## Sylvester Economics Demo - Theory\n",
    "<center>\n",
    "    <img src=\"perloff.jpg\" />\n",
    "    <h3>We'll use definitions and examples from Microeconomics: Theory and Applications with Calculus 5e by Jeffrey Perloff</h3>\n",
    "</center>\n"
   ]
  },
  {
   "cell_type": "markdown",
   "id": "supposed-bedroom",
   "metadata": {
    "slideshow": {
     "slide_type": "slide"
    }
   },
   "source": [
    "## Sylvester Economics Demo  - Basic Algebra\n"
   ]
  },
  {
   "cell_type": "code",
   "execution_count": 3,
   "id": "favorite-copper",
   "metadata": {
    "slideshow": {
     "slide_type": "fragment"
    }
   },
   "outputs": [],
   "source": [
    "//open Sylvester namespace\n",
    "open Sylvester\n",
    "\n",
    "//Declare 2 real variables\n",
    "let x,y = realvar2 \"x\" \"y\"\n",
    "//Declare 2 real constants\n",
    "let a, b = realconst2 \"a\" \"b\""
   ]
  },
  {
   "cell_type": "code",
   "execution_count": 4,
   "id": "decent-portal",
   "metadata": {
    "slideshow": {
     "slide_type": "fragment"
    }
   },
   "outputs": [
    {
     "data": {
      "text/html": [
       "$$f1(x) = x^{3} + 3x^{2} + 56$$"
      ],
      "text/plain": [
       "fun x -> x ** 3.0 + 3.0 * x ** 2.0 + 56.0"
      ]
     },
     "execution_count": 4,
     "metadata": {},
     "output_type": "execute_result"
    }
   ],
   "source": [
    "// Declare a function of 1 real variable\n",
    "let f1 = realfun \"f1\" (x***3 + 3 * x *** 2 + 56)\n",
    "f1 "
   ]
  },
  {
   "cell_type": "code",
   "execution_count": 5,
   "id": "corporate-stomach",
   "metadata": {
    "slideshow": {
     "slide_type": "fragment"
    }
   },
   "outputs": [
    {
     "data": {
      "text/html": [
       "$$9.0^{3} + 39.0^{2} + 56$$"
      ],
      "text/plain": [
       "9^3 + 3 * 9^2 + 56"
      ]
     },
     "execution_count": 5,
     "metadata": {},
     "output_type": "execute_result"
    }
   ],
   "source": [
    "f1.[9.] // Evaluate f1 at 9.0"
   ]
  },
  {
   "cell_type": "code",
   "execution_count": 6,
   "id": "absolute-prompt",
   "metadata": {
    "slideshow": {
     "slide_type": "fragment"
    }
   },
   "outputs": [
    {
     "data": {
      "text/html": [
       "$$a^{3} + 3a^{2} + 56 + b^{5}$$"
      ],
      "text/plain": [
       "0^3 + 3 * 0^2 + 56 + 0^5"
      ]
     },
     "execution_count": 6,
     "metadata": {},
     "output_type": "execute_result"
    }
   ],
   "source": [
    "// Sylvester operations are fully symbolic e.g.\n",
    "f1.[a] + b *** 5"
   ]
  },
  {
   "cell_type": "code",
   "execution_count": 7,
   "id": "external-indonesia",
   "metadata": {
    "slideshow": {
     "slide_type": "fragment"
    }
   },
   "outputs": [
    {
     "data": {
      "text/plain": [
       "1028.0"
      ]
     },
     "execution_count": 7,
     "metadata": {},
     "output_type": "execute_result"
    }
   ],
   "source": [
    "// Use !% operator to evaluate numeric expression from symbolic\n",
    "!%f1.[9.]"
   ]
  },
  {
   "cell_type": "markdown",
   "id": "declared-dealing",
   "metadata": {
    "slideshow": {
     "slide_type": "slide"
    }
   },
   "source": [
    "## Sylvester Economics Demo  - Basic Calculus\n"
   ]
  },
  {
   "cell_type": "code",
   "execution_count": 8,
   "id": "complimentary-choir",
   "metadata": {
    "slideshow": {
     "slide_type": "fragment"
    }
   },
   "outputs": [
    {
     "data": {
      "text/html": [
       "$$f1'(x) = 6x + 3x^{2}$$"
      ],
      "text/plain": [
       "fun x -> 6.0 * x + 3.0 * x ** 2.0"
      ]
     },
     "execution_count": 8,
     "metadata": {},
     "output_type": "execute_result"
    }
   ],
   "source": [
    "// Find derivative of f1\n",
    "diff x f1"
   ]
  },
  {
   "cell_type": "code",
   "execution_count": 9,
   "id": "middle-raleigh",
   "metadata": {
    "slideshow": {
     "slide_type": "fragment"
    }
   },
   "outputs": [
    {
     "data": {
      "text/html": [
       "$$56x + 1x^{3} + 0.25x^{4}$$"
      ],
      "text/plain": [
       "fun x -> 56.0 * x + 1.0 * x ** 3.0 + 0.25 * x ** 4.0"
      ]
     },
     "execution_count": 9,
     "metadata": {},
     "output_type": "execute_result"
    }
   ],
   "source": [
    "integrate x f1"
   ]
  },
  {
   "cell_type": "code",
   "execution_count": 10,
   "id": "stock-pocket",
   "metadata": {
    "slideshow": {
     "slide_type": "fragment"
    }
   },
   "outputs": [
    {
     "data": {
      "text/html": [
       "$$f2(x,y) = x^{3} + 5xy + y^{2}$$"
      ],
      "text/plain": [
       "fun v -> v.ItemE(0) ** 3.0 + 5.0 * v.ItemE(0) * v.ItemE(1) + v.ItemE(1) ** 2.0"
      ]
     },
     "execution_count": 10,
     "metadata": {},
     "output_type": "execute_result"
    }
   ],
   "source": [
    "// define function of 2 real variables\n",
    "let f2 = realfun2  \"f2\" (x***3 + 5 * x*y + y *** 2)\n",
    "f2"
   ]
  },
  {
   "cell_type": "code",
   "execution_count": 11,
   "id": "suspended-canada",
   "metadata": {
    "slideshow": {
     "slide_type": "fragment"
    }
   },
   "outputs": [
    {
     "data": {
      "text/html": [
       "$$f2_x(x,y) = 3x^{2} + 5y$$"
      ],
      "text/plain": [
       "fun v -> 3.0 * v.ItemE(0) ** 2.0 + 5.0 * v.ItemE(1)"
      ]
     },
     "execution_count": 11,
     "metadata": {},
     "output_type": "execute_result"
    }
   ],
   "source": [
    "// Partial derivative wrt x\n",
    "diff x f2"
   ]
  },
  {
   "cell_type": "code",
   "execution_count": 12,
   "id": "included-province",
   "metadata": {
    "slideshow": {
     "slide_type": "slide"
    }
   },
   "outputs": [
    {
     "data": {
      "text/plain": [
       "\"(%i8) \r\n",
       "(%o7) 5.0*y+3.0*x^2.0\r\n",
       "(%i7) \r\n",
       "(%o6) 0.25*x^4.0+1.0*x^3.0+56.0*x\r\n",
       "(%i6) \r\n",
       "(%o5) 3.0*x^2.0+6.0*x\r\n",
       "(%i5) \r\n",
       "(%o4) \"C:/MathTools/maxima-5.44.0/bin/../share/maxima/5.44.0/share/solve_rec/simplify_sum.mac\"\r\n",
       "(%i4) \r\n",
       "(%o3) 500\""
      ]
     },
     "execution_count": 12,
     "metadata": {},
     "output_type": "execute_result"
    }
   ],
   "source": [
    "// All symbolic operations in Sylvester are done through the Maxima CAS\n",
    "CAS.Maxima.last_output 10"
   ]
  },
  {
   "cell_type": "markdown",
   "id": "hundred-david",
   "metadata": {
    "slideshow": {
     "slide_type": "slide"
    }
   },
   "source": [
    "## Sylvester Economics Demo - Supply and Demand\n",
    "### Theory\n",
    "* The *quantity demanded* is the amount of a good that consumers are willing to buy at\n",
    "a given price during a specified period (such as a day or a year), holding constant the\n",
    "other factors that influence purchases.\n",
    "* The *demand function* shows the correspondence between the quantity demanded, *price*,\n",
    "and other factors that influence purchases.\n",
    "* The *quantity supplied* is the amount of a good that firms want to sell during a\n",
    "given period at a given price, holding constant other factors that influence firms’ supply decisions.\n",
    "* The *supply function* shows the correspondence between the quantity supplied, price,\n",
    "and other factors that influence the number of units offered for sale.\n",
    "* Usually first consider *linear* supply and demand functions"
   ]
  },
  {
   "cell_type": "markdown",
   "id": "lesser-deficit",
   "metadata": {
    "slideshow": {
     "slide_type": "slide"
    }
   },
   "source": [
    "# Sylvester Economics Demo\n",
    "\n",
    "\n",
    "## How do we express economic concepts in Sylvester?"
   ]
  },
  {
   "cell_type": "code",
   "execution_count": 4,
   "id": "ongoing-temple",
   "metadata": {
    "slideshow": {
     "slide_type": "fragment"
    }
   },
   "outputs": [],
   "source": [
    "//open Sylvester microeconomics module\n",
    "open Microeconomics\n",
    "\n",
    "//Declare 2 real variables\n",
    "let p,q = realvar2 \"p\" \"q\"\n",
    "//Declare 3 real constants representing the price of sugar, price of chocolate, and consumer income respectively\n",
    "let ps, pc, Y = realconst3 \"p_s\" \"p_c\" \"Y\""
   ]
  },
  {
   "cell_type": "code",
   "execution_count": null,
   "id": "fatty-adobe",
   "metadata": {
    "slideshow": {
     "slide_type": "fragment"
    }
   },
   "outputs": [
    {
     "data": {
      "text/html": [
       "$$Q_d(p) = 8.56 - p - {0.3}{p_s} + {0.1}{Y}$$"
      ],
      "text/plain": [
       "fun p -> 8.56 - p - 0.3 * p_s + 0.1 * Y"
      ]
     },
     "execution_count": 5,
     "metadata": {},
     "output_type": "execute_result"
    }
   ],
   "source": [
    "// define a demand function, for coffee\n",
    "let QD = demandfun \"Q_d\" (8.56 - p - 0.3 * ps + 0.1 * Y)\n",
    "QD"
   ]
  },
  {
   "cell_type": "code",
   "execution_count": 8,
   "id": "thirty-literature",
   "metadata": {
    "slideshow": {
     "slide_type": "fragment"
    }
   },
   "outputs": [
    {
     "data": {
      "text/html": [
       "$$12 - 1p$$"
      ],
      "text/plain": [
       "fun p -> 12.0 - 1.0 * p"
      ]
     },
     "execution_count": 8,
     "metadata": {},
     "output_type": "execute_result"
    }
   ],
   "source": [
    "// lets create another demand function by fixing the constants p_s and Y at 0.2 and 35\n",
    "let QD1 = fix {|p_s=0.2; Y=35.|} QD\n",
    "QD1"
   ]
  },
  {
   "cell_type": "code",
   "execution_count": 9,
   "id": "parental-husband",
   "metadata": {
    "slideshow": {
     "slide_type": "slide"
    }
   },
   "outputs": [
    {
     "data": {
      "text/html": [
       "$$Q_s(p) = 9.6 + 0.5p - {0.2}{p_c}$$"
      ],
      "text/plain": [
       "fun p -> 9.6 + 0.5 * p - 0.2 * p_c"
      ]
     },
     "execution_count": 9,
     "metadata": {},
     "output_type": "execute_result"
    }
   ],
   "source": [
    "// define a supply function for coffee\n",
    "let QS = supplyfun \"Q_s\" (9.6 + 0.5 * p - 0.2 * pc )\n",
    "QS"
   ]
  },
  {
   "cell_type": "code",
   "execution_count": 10,
   "id": "forced-miracle",
   "metadata": {
    "slideshow": {
     "slide_type": "fragment"
    }
   },
   "outputs": [
    {
     "data": {
      "text/html": [
       "$$9 + 0.5p$$"
      ],
      "text/plain": [
       "fun p -> 9.0 + 0.5 * p"
      ]
     },
     "execution_count": 10,
     "metadata": {},
     "output_type": "execute_result"
    }
   ],
   "source": [
    "// fix the price of cocoa at 3\n",
    "let QS1 = fix {|p_c=3.|} QS\n",
    "QS1"
   ]
  },
  {
   "cell_type": "code",
   "execution_count": 11,
   "id": "interesting-curve",
   "metadata": {
    "slideshow": {
     "slide_type": "fragment"
    }
   },
   "outputs": [
    {
     "data": {
      "text/html": [
       "$$9 + 0.5\\cdot5$$"
      ],
      "text/plain": [
       "9 + 0.5 * 5"
      ]
     },
     "execution_count": 11,
     "metadata": {},
     "output_type": "execute_result"
    }
   ],
   "source": [
    "// Find quantity supplied for a given price\n",
    "QS1.[5.]"
   ]
  },
  {
   "cell_type": "code",
   "execution_count": 12,
   "id": "apparent-storm",
   "metadata": {
    "scrolled": false,
    "slideshow": {
     "slide_type": "slide"
    }
   },
   "outputs": [
    {
     "data": {
      "text/html": [
       "<div>\r\n",
       " <div id=\"35eaee20-2ecb-4c12-a35a-68402329cc95\" class=\"jxgbox\" style=\"width:100%;height:640px\"></div>\r\n",
       " <script>require(['https://cdn.jsdelivr.net/npm/jsxgraph/distrib/jsxgraphcore.js'], function(JXG) {\n",
       "JXG.Options.text.useMathJax = true;\n",
       "var Board__invisible, Board__get_invisible$;\r\n",
       "Board__get_invisible$ = (function()\r\n",
       "{\r\n",
       "    var size = 0.000000;\r\n",
       "    var withLabel = false;\r\n",
       "    return {label: \"\", size: size, strokeWidth: 0.000000, withLabel: withLabel};\r\n",
       "});\r\n",
       "Board__invisible = Board__get_invisible$();\r\n",
       "var boundingbox = [(0.000000 - ((10.000000 - 0.000000) / 10.000000)), (15.000000 + ((15.000000 - 0.000000) / 10.000000)), (10.000000 + (10.000000 / 10.000000)), (0.000000 - (15.000000 / 10.000000))];\r\n",
       "var showNavigation = true;\r\n",
       "var showCopyright = false;\r\n",
       "var keepAspectRatio = false;\r\n",
       "var name = \"quantity\";\r\n",
       "var withLabel = true;\r\n",
       "var position = \"rt\";\r\n",
       "var offset = [-300, -40];\r\n",
       "var _name = \"price\";\r\n",
       "var _withLabel = true;\r\n",
       "var _position = \"rt\";\r\n",
       "var rotate = 90;\r\n",
       "var _offset = [-40, -300];\r\n",
       "var b = JXG.JSXGraph.initBoard(\"35eaee20-2ecb-4c12-a35a-68402329cc95\", {axis: true, boundingbox: boundingbox, defaultAxes: {x: {label: {anchorX: \"middle\", offset: offset, position: position}, name: name, withLabel: withLabel}, y: {label: {anchorX: \"middle\", offset: _offset, position: _position, rotate: rotate}, name: _name, withLabel: _withLabel}}, keepAspectRatio: keepAspectRatio, showCopyright: showCopyright, showNavigation: showNavigation});\r\n",
       "var strokeColor = \"blue\";\r\n",
       "var strokeWidth = 3;\r\n",
       "var __withLabel = true;\r\n",
       "var fg0 = b.create('functiongraph', [(function(p)\r\n",
       "{\r\n",
       "    return (12.000000 - (1.000000 * p));\r\n",
       "}), 0.000000, 10.000000], {name: \"$$12 - 1p$$\", strokeColor: strokeColor, strokeWidth: strokeWidth, withLabel: __withLabel});\r\n",
       "var _strokeColor = \"red\";\r\n",
       "var _strokeWidth = 3;\r\n",
       "var ___withLabel = true;\r\n",
       "var fg1 = b.create('functiongraph', [(function(p)\r\n",
       "{\r\n",
       "    return (9.000000 + (0.500000 * p));\r\n",
       "}), 0.000000, 10.000000], {name: \"$$9 + 0.5p$$\", strokeColor: _strokeColor, strokeWidth: _strokeWidth, withLabel: ___withLabel});\r\n",
       "var t = b.create('text', [((10.000000 - 0.000000) * 0.500000), (15.000000 - ((15.000000 - 0.000000) / 10.000000)), \"Worldwide Coffee Supply\"], Board__invisible);\r\n",
       "b});</script>\r\n",
       "</div>\r\n"
      ],
      "text/plain": [
       "Elem\n",
       "  (\"div\",\n",
       "   [Elem\n",
       "      (\"div\",\n",
       "       [Attr (\"id\", \"35eaee20-2ecb-4c12-a35a-68402329cc95\");\n",
       "        Attr (\"class\", \"jxgbox\"); Attr (\"style\", \"width:100%;height:640px\")]);\n",
       "    Elem\n",
       "      (\"script\",\n",
       "       [Text\n",
       "          \"require(['https://cdn.jsdelivr.net/npm/jsxgraph/distrib/jsxgraphcore.js'], function(JXG) {\n",
       "JXG.Options.text.useMathJax = true;\n",
       "var Board__invisible, Board__get_invisible$;\r\n",
       "Board__get_invisible$ = (function()\r\n",
       "{\r\n",
       "    var size = 0.000000;\r\n",
       "    var withLabel = false;\r\n",
       "    return {label: \"\", size: size, strokeWidth: 0.000000, withLabel: withLabel};\r\n",
       "});\r\n",
       "Board__invisible = Board__get_invisible$();\r\n",
       "var boundingbox = [(0.000000 - ((10.000000 - 0.000000) / 10.000000)), (15.000000 + ((15.000000 - 0.000000) / 10.000000)), (10.000000 + (10.000000 / 10.000000)), (0.000000 - (15.000000 / 10.000000))];\r\n",
       "var showNavigation = true;\r\n",
       "var showCopyright = false;\r\n",
       "var keepAspectRatio = false;\r\n",
       "var name = \"quantity\";\r\n",
       "var withLabel = true;\r\n",
       "var position = \"rt\";\r\n",
       "var offset = [-300, -40];\r\n",
       "var _name = \"price\";\r\n",
       "var _withLabel = true;\r\n",
       "var _position = \"rt\";\r\n",
       "var rotate = 90;\r\n",
       "var _offset = [-40, -300];\r\n",
       "var b = JXG.JSXGraph.initBoard(\"35eaee20-2ecb-4c12-a35a-68402329cc95\", {axis: true, boundingbox: boundingbox, defaultAxes: {x: {label: {anchorX: \"middle\", offset: offset, position: position}, name: name, withLabel: withLabel}, y: {label: {anchorX: \"middle\", offset: _offset, position: _position, rotate: rotate}, name: _name, withLabel: _withLabel}}, keepAspectRatio: keepAspectRatio, showCopyright: showCopyright, showNavigation: showNavigation});\r\n",
       "var strokeColor = \"blue\";\r\n",
       "var strokeWidth = 3;\r\n",
       "var __withLabel = true;\r\n",
       "var fg0 = b.create('functiongraph', [(function(p)\r\n",
       "{\r\n",
       "    return (12.000000 - (1.000000 * p));\r\n",
       "}), 0.000000, 10.000000], {name: \"$$12 - 1p$$\", strokeColor: strokeColor, strokeWidth: strokeWidth, withLabel: __withLabel});\r\n",
       "var _strokeColor = \"red\";\r\n",
       "var _strokeWidth = 3;\r\n",
       "var ___withLabel = true;\r\n",
       "var fg1 = b.create('functiongraph', [(function(p)\r\n",
       "{\r\n",
       "    return (9.000000 + (0.500000 * p));\r\n",
       "}), 0.000000, 10.000000], {name: \"$$9 + 0.5p$$\", strokeColor: _strokeColor, strokeWidth: _strokeWidth, withLabel: ___withLabel});\r\n",
       "var t = b.create('text', [((10.000000 - 0.000000) * 0.500000), (15.000000 - ((15.000000 - 0.000000) / 10.000000)), \"Worldwide Coffee Supply\"], Board__invisible);\r\n",
       "b});\"])])"
      ]
     },
     "execution_count": 12,
     "metadata": {},
     "output_type": "execute_result"
    }
   ],
   "source": [
    "// let's draw our supply and demand curves using some custom visualization properties\n",
    "let graph = \n",
    "    {|\n",
    "        yrange=0.,15.\n",
    "        xtitle=\"quantity\"\n",
    "        ytitle=\"price\"\n",
    "        strokeColor2=red\n",
    "        strokeWidth=3\n",
    "        title=\"Worldwide Coffee Supply\" \n",
    "    |} in\n",
    "draw graph <| realfungrpv [QD1; QS1]"
   ]
  },
  {
   "cell_type": "markdown",
   "id": "valid-saying",
   "metadata": {
    "slideshow": {
     "slide_type": "slide"
    }
   },
   "source": [
    "## Note that the convention in economics for demand and supply functions is to plot the price (dependent) variable **on the vertical axis**!"
   ]
  },
  {
   "cell_type": "code",
   "execution_count": 13,
   "id": "saved-kidney",
   "metadata": {
    "slideshow": {
     "slide_type": "slide"
    }
   },
   "outputs": [
    {
     "data": {
      "text/plain": [
       "[p = 2.0]"
      ]
     },
     "execution_count": 13,
     "metadata": {},
     "output_type": "execute_result"
    }
   ],
   "source": [
    "// calculate the point of intersection of the supply and demand curves\n",
    "solve_for_econ_var p [QD1 == QS1]"
   ]
  },
  {
   "cell_type": "code",
   "execution_count": 17,
   "id": "proud-range",
   "metadata": {
    "slideshow": {
     "slide_type": "fragment"
    }
   },
   "outputs": [
    {
     "data": {
      "text/html": [
       "<div>\r\n",
       " <div id=\"855dea3a-cf38-413f-b9b9-8f9a07afefaf\" class=\"jxgbox\" style=\"width:100%;height:640px\"></div>\r\n",
       " <script>require(['https://cdn.jsdelivr.net/npm/jsxgraph/distrib/jsxgraphcore.js'], function(JXG) {\n",
       "JXG.Options.text.useMathJax = true;\n",
       "var Board__invisible, Board__get_invisible$;\r\n",
       "Board__get_invisible$ = (function()\r\n",
       "{\r\n",
       "    var size = 0.000000;\r\n",
       "    var withLabel = false;\r\n",
       "    return {label: \"\", size: size, strokeWidth: 0.000000, withLabel: withLabel};\r\n",
       "});\r\n",
       "Board__invisible = Board__get_invisible$();\r\n",
       "var boundingbox = [(0.000000 - ((10.000000 - 0.000000) / 10.000000)), (15.000000 + ((15.000000 - 0.000000) / 10.000000)), (10.000000 + (10.000000 / 10.000000)), (0.000000 - (15.000000 / 10.000000))];\r\n",
       "var showNavigation = true;\r\n",
       "var showCopyright = false;\r\n",
       "var keepAspectRatio = false;\r\n",
       "var name = \"quantity\";\r\n",
       "var withLabel = true;\r\n",
       "var position = \"rt\";\r\n",
       "var offset = [-300, -40];\r\n",
       "var _name = \"price\";\r\n",
       "var _withLabel = true;\r\n",
       "var _position = \"rt\";\r\n",
       "var rotate = 90;\r\n",
       "var _offset = [-40, -300];\r\n",
       "var b = JXG.JSXGraph.initBoard(\"855dea3a-cf38-413f-b9b9-8f9a07afefaf\", {axis: true, boundingbox: boundingbox, defaultAxes: {x: {label: {anchorX: \"middle\", offset: offset, position: position}, name: name, withLabel: withLabel}, y: {label: {anchorX: \"middle\", offset: _offset, position: _position, rotate: rotate}, name: _name, withLabel: _withLabel}}, keepAspectRatio: keepAspectRatio, showCopyright: showCopyright, showNavigation: showNavigation});\r\n",
       "var strokeColor = \"blue\";\r\n",
       "var strokeWidth = 3;\r\n",
       "var __withLabel = true;\r\n",
       "var fg0 = b.create('functiongraph', [(function(p)\r\n",
       "{\r\n",
       "    return (12.000000 - (1.000000 * p));\r\n",
       "}), 0.000000, 10.000000], {name: \"$$Q_d(p) = 12 - 1p$$\", strokeColor: strokeColor, strokeWidth: strokeWidth, withLabel: __withLabel});\r\n",
       "var pt0_j0 = b.create('point', [2.000000, 10.000000], {name: \"(2.0, 10.0)\"});\r\n",
       "var _strokeColor = \"red\";\r\n",
       "var _strokeWidth = 3;\r\n",
       "var ___withLabel = true;\r\n",
       "var fg1 = b.create('functiongraph', [(function(p)\r\n",
       "{\r\n",
       "    return (9.000000 + (0.500000 * p));\r\n",
       "}), 0.000000, 10.000000], {name: \"$$Q_s(p) = 9 + 0.5p$$\", strokeColor: _strokeColor, strokeWidth: _strokeWidth, withLabel: ___withLabel});\r\n",
       "var pt1_j0 = b.create('point', [2.000000, 10.000000], {name: \"(2.0, 10.0)\"});\r\n",
       "var t = b.create('text', [((10.000000 - 0.000000) * 0.500000), (15.000000 - ((15.000000 - 0.000000) / 10.000000)), \"Worldwide Coffee Supply\"], Board__invisible);\r\n",
       "b});</script>\r\n",
       "</div>\r\n"
      ],
      "text/plain": [
       "Elem\n",
       "  (\"div\",\n",
       "   [Elem\n",
       "      (\"div\",\n",
       "       [Attr (\"id\", \"855dea3a-cf38-413f-b9b9-8f9a07afefaf\");\n",
       "        Attr (\"class\", \"jxgbox\"); Attr (\"style\", \"width:100%;height:640px\")]);\n",
       "    Elem\n",
       "      (\"script\",\n",
       "       [Text\n",
       "          \"require(['https://cdn.jsdelivr.net/npm/jsxgraph/distrib/jsxgraphcore.js'], function(JXG) {\n",
       "JXG.Options.text.useMathJax = true;\n",
       "var Board__invisible, Board__get_invisible$;\r\n",
       "Board__get_invisible$ = (function()\r\n",
       "{\r\n",
       "    var size = 0.000000;\r\n",
       "    var withLabel = false;\r\n",
       "    return {label: \"\", size: size, strokeWidth: 0.000000, withLabel: withLabel};\r\n",
       "});\r\n",
       "Board__invisible = Board__get_invisible$();\r\n",
       "var boundingbox = [(0.000000 - ((10.000000 - 0.000000) / 10.000000)), (15.000000 + ((15.000000 - 0.000000) / 10.000000)), (10.000000 + (10.000000 / 10.000000)), (0.000000 - (15.000000 / 10.000000))];\r\n",
       "var showNavigation = true;\r\n",
       "var showCopyright = false;\r\n",
       "var keepAspectRatio = false;\r\n",
       "var name = \"quantity\";\r\n",
       "var withLabel = true;\r\n",
       "var position = \"rt\";\r\n",
       "var offset = [-300, -40];\r\n",
       "var _name = \"price\";\r\n",
       "var _withLabel = true;\r\n",
       "var _position = \"rt\";\r\n",
       "var rotate = 90;\r\n",
       "var _offset = [-40, -300];\r\n",
       "var b = JXG.JSXGraph.initBoard(\"855dea3a-cf38-413f-b9b9-8f9a07afefaf\", {axis: true, boundingbox: boundingbox, defaultAxes: {x: {label: {anchorX: \"middle\", offset: offset, position: position}, name: name, withLabel: withLabel}, y: {label: {anchorX: \"middle\", offset: _offset, position: _position, rotate: rotate}, name: _name, withLabel: _withLabel}}, keepAspectRatio: keepAspectRatio, showCopyright: showCopyright, showNavigation: showNavigation});\r\n",
       "var strokeColor = \"blue\";\r\n",
       "var strokeWidth = 3;\r\n",
       "var __withLabel = true;\r\n",
       "var fg0 = b.create('functiongraph', [(function(p)\r\n",
       "{\r\n",
       "    return (12.000000 - (1.000000 * p));\r\n",
       "}), 0.000000, 10.000000], {name: \"$$Q_d(p) = 12 - 1p$$\", strokeColor: strokeColor, strokeWidth: strokeWidth, withLabel: __withLabel});\r\n",
       "var pt0_j0 = b.create('point', [2.000000, 10.000000], {name: \"(2.0, 10.0)\"});\r\n",
       "var _strokeColor = \"red\";\r\n",
       "var _strokeWidth = 3;\r\n",
       "var ___withLabel = true;\r\n",
       "var fg1 = b.create('functiongraph', [(function(p)\r\n",
       "{\r\n",
       "    return (9.000000 + (0.500000 * p));\r\n",
       "}), 0.000000, 10.000000], {name: \"$$Q_s(p) = 9 + 0.5p$$\", strokeColor: _strokeColor, strokeWidth: _strokeWidth, withLabel: ___withLabel});\r\n",
       "var pt1_j0 = b.create('point', [2.000000, 10.000000], {name: \"(2.0, 10.0)\"});\r\n",
       "var t = b.create('text', [((10.000000 - 0.000000) * 0.500000), (15.000000 - ((15.000000 - 0.000000) / 10.000000)), \"Worldwide Coffee Supply\"], Board__invisible);\r\n",
       "b});\"])])"
      ]
     },
     "execution_count": 17,
     "metadata": {},
     "output_type": "execute_result"
    }
   ],
   "source": [
    "// let's draw our supply and demand curves using our equilibirium point\n",
    "let graph = \n",
    "    {|\n",
    "        yrange=0.,15.\n",
    "        xtitle=\"quantity\"\n",
    "        ytitle=\"price\"\n",
    "        strokeColor2=red\n",
    "        strokeWidth=3\n",
    "        title=\"Worldwide Coffee Supply\" \n",
    "        points = [2.0, \"\"]\n",
    "    |} in\n",
    "draw graph (realfungrpv [QD1; QS1]) "
   ]
  },
  {
   "cell_type": "markdown",
   "id": "sufficient-bibliography",
   "metadata": {
    "slideshow": {
     "slide_type": "slide"
    }
   },
   "source": [
    "## Sylvester Economics Demo  - Production and Cost Functions"
   ]
  },
  {
   "cell_type": "markdown",
   "id": "perceived-associate",
   "metadata": {
    "slideshow": {
     "slide_type": "slide"
    }
   },
   "source": [
    "## Sylvester Economics Demo  - Production and Cost Functions\n",
    "### Theory\n",
    "* *Production function*: the ways a firm can transform inputs into outputs defined by relationship between the quantities of inputs used and\n",
    "the maximum quantity of output *q* that can be produced. The production function for a firm that uses\n",
    "labor and capital only is a function of 2 real variables: $$q = f(L,K)$$ \n",
    "\n",
    "* The *marginal product* of labor (MPL) is the change in total output resulting from using an extra unit of labor, holding other factors (capital) constant. The marginal product of labor is the partial derivative of the production function\n",
    "with respect to labor: $$MP_L=\\frac{\\partial f(L, K)}{\\partial L}$$\n",
    "\n",
    "* The *average product of labor* (APL) is the ratio of output to the number of workers\n",
    "used to produce that output. $$AP_L=\\frac{q}{L}$$"
   ]
  },
  {
   "cell_type": "markdown",
   "id": "incoming-terrace",
   "metadata": {
    "slideshow": {
     "slide_type": "slide"
    }
   },
   "source": [
    "### Sylvester Economics Demo  - Production and Cost Functions"
   ]
  },
  {
   "cell_type": "code",
   "execution_count": 22,
   "id": "leading-blank",
   "metadata": {
    "slideshow": {
     "slide_type": "fragment"
    }
   },
   "outputs": [],
   "source": [
    "// Declare 2more real symbolic variables\n",
    "let p, q, L, K = realvar4 \"p\" \"q\" \"L\" \"K\"\n",
    "// Declare 4 more real symbolic constamts\n",
    "let alpha, beta, A, Kbar  = realconst4 \"alpha\" \"beta\" \"A\" \"K_bar\""
   ]
  },
  {
   "cell_type": "code",
   "execution_count": 23,
   "id": "tight-queensland",
   "metadata": {
    "slideshow": {
     "slide_type": "fragment"
    }
   },
   "outputs": [
    {
     "data": {
      "text/html": [
       "$$q(L) = {0.1L}{\\bar{K}} + {3L^{2}}{\\bar{K}} - {0.1L^{3}}{\\bar{K}}$$"
      ],
      "text/plain": [
       "fun L -> 0.1 * L * K_bar + 3.0 * L ** 2.0 * K_bar - 0.1 * L ** 3.0 * K_bar"
      ]
     },
     "execution_count": 23,
     "metadata": {},
     "output_type": "execute_result"
    }
   ],
   "source": [
    "// let q1 be a short-run production function holding K constant\n",
    "let QP = prodfun \"q\" (0.1 * L * Kbar + 3 * L *** 2 * Kbar - 0.1 * L *** 3 * Kbar)\n",
    "QP"
   ]
  },
  {
   "cell_type": "code",
   "execution_count": 27,
   "id": "seventh-better",
   "metadata": {
    "slideshow": {
     "slide_type": "fragment"
    }
   },
   "outputs": [
    {
     "data": {
      "text/html": [
       "$$1947$$"
      ],
      "text/plain": [
       "1947"
      ]
     },
     "execution_count": 27,
     "metadata": {},
     "output_type": "execute_result"
    }
   ],
   "source": [
    "// Find the output for 22 units of labour, at K_bar = 5.\n",
    "QP.[22.] |> fix {|K_bar=5.|}"
   ]
  },
  {
   "cell_type": "code",
   "execution_count": 28,
   "id": "random-morrison",
   "metadata": {
    "slideshow": {
     "slide_type": "slide"
    }
   },
   "outputs": [
    {
     "data": {
      "text/html": [
       "<div>\r\n",
       " <div id=\"e964adb3-9bc1-4e8a-a399-bc206882f094\" class=\"jxgbox\" style=\"width:100%;height:640px\"></div>\r\n",
       " <script>require(['https://cdn.jsdelivr.net/npm/jsxgraph/distrib/jsxgraphcore.js'], function(JXG) {\n",
       "JXG.Options.text.useMathJax = true;\n",
       "var MathJS__Pow$;\r\n",
       "MathJS__Pow$ = (function(x,y)\r\n",
       "{\r\n",
       "    return Math.pow(x, y);;\r\n",
       "});\r\n",
       "var boundingbox = [(0.000000 - ((25.000000 - 0.000000) / 10.000000)), (500.000000 + ((500.000000 - 0.000000) / 10.000000)), (25.000000 + (25.000000 / 10.000000)), (0.000000 - (500.000000 / 10.000000))];\r\n",
       "var showNavigation = true;\r\n",
       "var showCopyright = false;\r\n",
       "var keepAspectRatio = false;\r\n",
       "var name = \"X\";\r\n",
       "var withLabel = true;\r\n",
       "var position = \"rt\";\r\n",
       "var offset = [-300, -40];\r\n",
       "var _name = \"Y\";\r\n",
       "var _withLabel = true;\r\n",
       "var _position = \"rt\";\r\n",
       "var rotate = 90;\r\n",
       "var _offset = [-40, -300];\r\n",
       "var b = JXG.JSXGraph.initBoard(\"e964adb3-9bc1-4e8a-a399-bc206882f094\", {axis: true, boundingbox: boundingbox, defaultAxes: {x: {label: {anchorX: \"middle\", offset: offset, position: position}, name: name, withLabel: withLabel}, y: {label: {anchorX: \"middle\", offset: _offset, position: _position, rotate: rotate}, name: _name, withLabel: _withLabel}}, keepAspectRatio: keepAspectRatio, showCopyright: showCopyright, showNavigation: showNavigation});\r\n",
       "var K_bar = b.create('slider', [[(0.750000 * 25.000000), ((0.750000 * 500.000000) - ((1.000000 - 1.000000) * ((500.000000 - 0.000000) / 10.000000)))], [(0.750000 * 25.000000) + 2.000000, ((0.750000 * 500.000000) - ((1.000000 - 1.000000) * ((500.000000 - 0.000000) / 10.000000)))], [1.000000, 1.000000, 5.000000]], {name: \"K_bar\"});\r\n",
       "var strokeColor = \"blue\";\r\n",
       "var strokeWidth = 1;\r\n",
       "var __withLabel = true;\r\n",
       "var fg = b.create('functiongraph', [(function(L)\r\n",
       "{\r\n",
       "    return ((((0.100000 * L) * K_bar.Value()) + ((3.000000 * MathJS__Pow$(L, 2.000000)) * K_bar.Value())) - ((0.100000 * MathJS__Pow$(L, 3.000000)) * K_bar.Value()));\r\n",
       "}), 0.000000, 25.000000], {name: \"$$q(L) = {0.1L}{\\\\bar{K}} + {3L^{2}}{\\\\bar{K}} - {0.1L^{3}}{\\\\bar{K}}$$\", strokeColor: strokeColor, strokeWidth: strokeWidth, withLabel: __withLabel});\r\n",
       "var t = b.create('text', [((25.000000 - 0.000000) * 0.500000), (500.000000 - ((500.000000 - 0.000000) / 10.000000)), \"\"], {fontSize: 24});\r\n",
       "b});</script>\r\n",
       "</div>\r\n"
      ],
      "text/plain": [
       "Elem\n",
       "  (\"div\",\n",
       "   [Elem\n",
       "      (\"div\",\n",
       "       [Attr (\"id\", \"e964adb3-9bc1-4e8a-a399-bc206882f094\");\n",
       "        Attr (\"class\", \"jxgbox\"); Attr (\"style\", \"width:100%;height:640px\")]);\n",
       "    Elem\n",
       "      (\"script\",\n",
       "       [Text\n",
       "          \"require(['https://cdn.jsdelivr.net/npm/jsxgraph/distrib/jsxgraphcore.js'], function(JXG) {\n",
       "JXG.Options.text.useMathJax = true;\n",
       "var MathJS__Pow$;\r\n",
       "MathJS__Pow$ = (function(x,y)\r\n",
       "{\r\n",
       "    return Math.pow(x, y);;\r\n",
       "});\r\n",
       "var boundingbox = [(0.000000 - ((25.000000 - 0.000000) / 10.000000)), (500.000000 + ((500.000000 - 0.000000) / 10.000000)), (25.000000 + (25.000000 / 10.000000)), (0.000000 - (500.000000 / 10.000000))];\r\n",
       "var showNavigation = true;\r\n",
       "var showCopyright = false;\r\n",
       "var keepAspectRatio = false;\r\n",
       "var name = \"X\";\r\n",
       "var withLabel = true;\r\n",
       "var position = \"rt\";\r\n",
       "var offset = [-300, -40];\r\n",
       "var _name = \"Y\";\r\n",
       "var _withLabel = true;\r\n",
       "var _position = \"rt\";\r\n",
       "var rotate = 90;\r\n",
       "var _offset = [-40, -300];\r\n",
       "var b = JXG.JSXGraph.initBoard(\"e964adb3-9bc1-4e8a-a399-bc206882f094\", {axis: true, boundingbox: boundingbox, defaultAxes: {x: {label: {anchorX: \"middle\", offset: offset, position: position}, name: name, withLabel: withLabel}, y: {label: {anchorX: \"middle\", offset: _offset, position: _position, rotate: rotate}, name: _name, withLabel: _withLabel}}, keepAspectRatio: keepAspectRatio, showCopyright: showCopyright, showNavigation: showNavigation});\r\n",
       "var K_bar = b.create('slider', [[(0.750000 * 25.000000), ((0.750000 * 500.000000) - ((1.000000 - 1.000000) * ((500.000000 - 0.000000) / 10.000000)))], [(0.750000 * 25.000000) + 2.000000, ((0.750000 * 500.000000) - ((1.000000 - 1.000000) * ((500.000000 - 0.000000) / 10.000000)))], [1.000000, 1.000000, 5.000000]], {name: \"K_bar\"});\r\n",
       "var strokeColor = \"blue\";\r\n",
       "var strokeWidth = 1;\r\n",
       "var __withLabel = true;\r\n",
       "var fg = b.create('functiongraph', [(function(L)\r\n",
       "{\r\n",
       "    return ((((0.100000 * L) * K_bar.Value()) + ((3.000000 * MathJS__Pow$(L, 2.000000)) * K_bar.Value())) - ((0.100000 * MathJS__Pow$(L, 3.000000)) * K_bar.Value()));\r\n",
       "}), 0.000000, 25.000000], {name: \"$$q(L) = {0.1L}{\\\\bar{K}} + {3L^{2}}{\\\\bar{K}} - {0.1L^{3}}{\\\\bar{K}}$$\", strokeColor: strokeColor, strokeWidth: strokeWidth, withLabel: __withLabel});\r\n",
       "var t = b.create('text', [((25.000000 - 0.000000) * 0.500000), (500.000000 - ((500.000000 - 0.000000) / 10.000000)), \"\"], {fontSize: 24});\r\n",
       "b});\"])])"
      ]
     },
     "execution_count": 28,
     "metadata": {},
     "output_type": "execute_result"
    }
   ],
   "source": [
    "// draw QP with K_bar ranging from 1 to 5\n",
    "draw {| K_bar=(1.,5.);xrange=0.,25.;yrange=(0.,500.) |} QP"
   ]
  },
  {
   "cell_type": "code",
   "execution_count": 32,
   "id": "brilliant-collector",
   "metadata": {
    "slideshow": {
     "slide_type": "slide"
    }
   },
   "outputs": [
    {
     "data": {
      "text/html": [
       "$$q(L) = 1L + 30L^{2} + -1L^{3}$$"
      ],
      "text/plain": [
       "fun L -> 1.0 * L + 30.0 * L ** 2.0 + -1.0 * L ** 3.0"
      ]
     },
     "execution_count": 32,
     "metadata": {},
     "output_type": "execute_result"
    }
   ],
   "source": [
    "// fix Kbar at 10 in our production function\n",
    "let QP1 = fix {|K_bar=10.|} QP\n",
    "QP1"
   ]
  },
  {
   "cell_type": "code",
   "execution_count": 31,
   "id": "intended-nursery",
   "metadata": {
    "slideshow": {
     "slide_type": "fragment"
    }
   },
   "outputs": [
    {
     "data": {
      "text/html": [
       "$$MP_L(L) = 1 + 60L + -3L^{2}$$"
      ],
      "text/plain": [
       "fun L -> 1.0 + 60.0 * L + -3.0 * L ** 2.0"
      ]
     },
     "execution_count": 31,
     "metadata": {},
     "output_type": "execute_result"
    }
   ],
   "source": [
    "// Calculate the marginal product of labour\n",
    "let MPL = marginal L QP1 |> with_symbol \"MP_L\"\n",
    "MPL"
   ]
  },
  {
   "cell_type": "code",
   "execution_count": 34,
   "id": "affecting-impression",
   "metadata": {
    "slideshow": {
     "slide_type": "fragment"
    }
   },
   "outputs": [
    {
     "data": {
      "text/html": [
       "$$AP_L(L) = \\frac{1L + 30L^{2} + -1L^{3}}{L}$$"
      ],
      "text/plain": [
       "fun L -> (1.0 * id L + 30.0 * id L ** 2.0 + -1.0 * id L ** 3.0) / L"
      ]
     },
     "execution_count": 34,
     "metadata": {},
     "output_type": "execute_result"
    }
   ],
   "source": [
    "// Calculate the average product of labout\n",
    "let APL = realfun \"AP_L\" (QP1.[L] / L)\n",
    "APL"
   ]
  },
  {
   "cell_type": "code",
   "execution_count": 35,
   "id": "relevant-lecture",
   "metadata": {
    "slideshow": {
     "slide_type": "slide"
    }
   },
   "outputs": [
    {
     "data": {
      "text/html": [
       "<div>\r\n",
       " <div id=\"43c467c1-7498-4b55-95b3-0e4903328f44\" class=\"jxgbox\" style=\"width:100%;height:640px\"></div>\r\n",
       " <script>require(['https://cdn.jsdelivr.net/npm/jsxgraph/distrib/jsxgraphcore.js'], function(JXG) {\n",
       "JXG.Options.text.useMathJax = true;\n",
       "var MathJS__Pow$, Board__invisible, Board__get_invisible$;\r\n",
       "Board__get_invisible$ = (function()\r\n",
       "{\r\n",
       "    var size = 0.000000;\r\n",
       "    var withLabel = false;\r\n",
       "    return {label: \"\", size: size, strokeWidth: 0.000000, withLabel: withLabel};\r\n",
       "});\r\n",
       "MathJS__Pow$ = (function(x,y)\r\n",
       "{\r\n",
       "    return Math.pow(x, y);;\r\n",
       "});\r\n",
       "Board__invisible = Board__get_invisible$();\r\n",
       "var boundingbox = [(0.000000 - ((20.000000 - 0.000000) / 10.000000)), (300.000000 + ((300.000000 - 0.000000) / 10.000000)), (20.000000 + (20.000000 / 10.000000)), (0.000000 - (300.000000 / 10.000000))];\r\n",
       "var showNavigation = true;\r\n",
       "var showCopyright = false;\r\n",
       "var keepAspectRatio = false;\r\n",
       "var name = \"X\";\r\n",
       "var withLabel = true;\r\n",
       "var position = \"rt\";\r\n",
       "var offset = [-300, -40];\r\n",
       "var _name = \"Y\";\r\n",
       "var _withLabel = true;\r\n",
       "var _position = \"rt\";\r\n",
       "var rotate = 90;\r\n",
       "var _offset = [-40, -300];\r\n",
       "var b = JXG.JSXGraph.initBoard(\"43c467c1-7498-4b55-95b3-0e4903328f44\", {axis: true, boundingbox: boundingbox, defaultAxes: {x: {label: {anchorX: \"middle\", offset: offset, position: position}, name: name, withLabel: withLabel}, y: {label: {anchorX: \"middle\", offset: _offset, position: _position, rotate: rotate}, name: _name, withLabel: _withLabel}}, keepAspectRatio: keepAspectRatio, showCopyright: showCopyright, showNavigation: showNavigation});\r\n",
       "var strokeColor = \"blue\";\r\n",
       "var strokeWidth = 1;\r\n",
       "var __withLabel = true;\r\n",
       "var fg0 = b.create('functiongraph', [(function(L)\r\n",
       "{\r\n",
       "    return ((((1.000000 * L) + (30.000000 * MathJS__Pow$(L, 2.000000))) + (-1.000000 * MathJS__Pow$(L, 3.000000))) / L);\r\n",
       "}), 0.000000, 20.000000], {name: \"APL\", strokeColor: strokeColor, strokeWidth: strokeWidth, withLabel: __withLabel});\r\n",
       "var _strokeColor = \"blue\";\r\n",
       "var _strokeWidth = 1;\r\n",
       "var ___withLabel = true;\r\n",
       "var fg1 = b.create('functiongraph', [(function(L)\r\n",
       "{\r\n",
       "    return ((1.000000 + (60.000000 * L)) + (-3.000000 * MathJS__Pow$(L, 2.000000)));\r\n",
       "}), 0.000000, 20.000000], {name: \"MPL\", strokeColor: _strokeColor, strokeWidth: _strokeWidth, withLabel: ___withLabel});\r\n",
       "var t = b.create('text', [((20.000000 - 0.000000) * 0.500000), (300.000000 - ((300.000000 - 0.000000) / 10.000000)), \"\"], Board__invisible);\r\n",
       "b});</script>\r\n",
       "</div>\r\n"
      ],
      "text/plain": [
       "Elem\n",
       "  (\"div\",\n",
       "   [Elem\n",
       "      (\"div\",\n",
       "       [Attr (\"id\", \"43c467c1-7498-4b55-95b3-0e4903328f44\");\n",
       "        Attr (\"class\", \"jxgbox\"); Attr (\"style\", \"width:100%;height:640px\")]);\n",
       "    Elem\n",
       "      (\"script\",\n",
       "       [Text\n",
       "          \"require(['https://cdn.jsdelivr.net/npm/jsxgraph/distrib/jsxgraphcore.js'], function(JXG) {\n",
       "JXG.Options.text.useMathJax = true;\n",
       "var MathJS__Pow$, Board__invisible, Board__get_invisible$;\r\n",
       "Board__get_invisible$ = (function()\r\n",
       "{\r\n",
       "    var size = 0.000000;\r\n",
       "    var withLabel = false;\r\n",
       "    return {label: \"\", size: size, strokeWidth: 0.000000, withLabel: withLabel};\r\n",
       "});\r\n",
       "MathJS__Pow$ = (function(x,y)\r\n",
       "{\r\n",
       "    return Math.pow(x, y);;\r\n",
       "});\r\n",
       "Board__invisible = Board__get_invisible$();\r\n",
       "var boundingbox = [(0.000000 - ((20.000000 - 0.000000) / 10.000000)), (300.000000 + ((300.000000 - 0.000000) / 10.000000)), (20.000000 + (20.000000 / 10.000000)), (0.000000 - (300.000000 / 10.000000))];\r\n",
       "var showNavigation = true;\r\n",
       "var showCopyright = false;\r\n",
       "var keepAspectRatio = false;\r\n",
       "var name = \"X\";\r\n",
       "var withLabel = true;\r\n",
       "var position = \"rt\";\r\n",
       "var offset = [-300, -40];\r\n",
       "var _name = \"Y\";\r\n",
       "var _withLabel = true;\r\n",
       "var _position = \"rt\";\r\n",
       "var rotate = 90;\r\n",
       "var _offset = [-40, -300];\r\n",
       "var b = JXG.JSXGraph.initBoard(\"43c467c1-7498-4b55-95b3-0e4903328f44\", {axis: true, boundingbox: boundingbox, defaultAxes: {x: {label: {anchorX: \"middle\", offset: offset, position: position}, name: name, withLabel: withLabel}, y: {label: {anchorX: \"middle\", offset: _offset, position: _position, rotate: rotate}, name: _name, withLabel: _withLabel}}, keepAspectRatio: keepAspectRatio, showCopyright: showCopyright, showNavigation: showNavigation});\r\n",
       "var strokeColor = \"blue\";\r\n",
       "var strokeWidth = 1;\r\n",
       "var __withLabel = true;\r\n",
       "var fg0 = b.create('functiongraph', [(function(L)\r\n",
       "{\r\n",
       "    return ((((1.000000 * L) + (30.000000 * MathJS__Pow$(L, 2.000000))) + (-1.000000 * MathJS__Pow$(L, 3.000000))) / L);\r\n",
       "}), 0.000000, 20.000000], {name: \"APL\", strokeColor: strokeColor, strokeWidth: strokeWidth, withLabel: __withLabel});\r\n",
       "var _strokeColor = \"blue\";\r\n",
       "var _strokeWidth = 1;\r\n",
       "var ___withLabel = true;\r\n",
       "var fg1 = b.create('functiongraph', [(function(L)\r\n",
       "{\r\n",
       "    return ((1.000000 + (60.000000 * L)) + (-3.000000 * MathJS__Pow$(L, 2.000000)));\r\n",
       "}), 0.000000, 20.000000], {name: \"MPL\", strokeColor: _strokeColor, strokeWidth: _strokeWidth, withLabel: ___withLabel});\r\n",
       "var t = b.create('text', [((20.000000 - 0.000000) * 0.500000), (300.000000 - ((300.000000 - 0.000000) / 10.000000)), \"\"], Board__invisible);\r\n",
       "b});\"])])"
      ]
     },
     "execution_count": 35,
     "metadata": {},
     "output_type": "execute_result"
    }
   ],
   "source": [
    "draw {|xrange=0.,20.;yrange=0.,300.; name1=\"APL\"; name2=\"MPL\"|} (realfungrpv [APL; MPL])"
   ]
  },
  {
   "cell_type": "markdown",
   "id": "industrial-titanium",
   "metadata": {
    "slideshow": {
     "slide_type": "slide"
    }
   },
   "source": [
    "## Sylvester Economics Demo  - Production and Cost Functions\n",
    "### Theory\n",
    "* In the *long-run* both inputs to the production function are variable\n",
    "\n",
    "* We can model long-run production as a function of 2 variables\n",
    "\n",
    "* A standard long-run production function is the *Cobb-Douglas production function*\n",
    "\n",
    "* An *isoquant* is a curve that shows the efficient combinations of labor and capital that can produce a single (iso) level of output (quantity).\n",
    "\n",
    "* *The marginal rate of technical substitution* (MRTS) tells us how many units of capital the firm can replace with an extra unit of labor while holding output constant. Because isoquants slope downward, the MRTS is negative."
   ]
  },
  {
   "cell_type": "markdown",
   "id": "natural-catholic",
   "metadata": {
    "slideshow": {
     "slide_type": "slide"
    }
   },
   "source": [
    "### Sylvester Economics Demo - Production and Cost Functions - Long-run production"
   ]
  },
  {
   "cell_type": "code",
   "execution_count": 36,
   "id": "alert-salem",
   "metadata": {
    "slideshow": {
     "slide_type": "fragment"
    }
   },
   "outputs": [
    {
     "data": {
      "text/html": [
       "$$q(L,K) = {A}{L^{\\alpha}}K^{\\beta}$$"
      ],
      "text/plain": [
       "fun v -> A * v.ItemE(0) ** alpha * v.ItemE(1) ** beta"
      ]
     },
     "execution_count": 36,
     "metadata": {},
     "output_type": "execute_result"
    }
   ],
   "source": [
    "// Consider the Conn-Douglas production function\n",
    "let QCD = prodfun2 \"q\" (A * L *** alpha * K *** beta)\n",
    "QCD"
   ]
  },
  {
   "cell_type": "code",
   "execution_count": 37,
   "id": "perceived-commission",
   "metadata": {
    "slideshow": {
     "slide_type": "fragment"
    }
   },
   "outputs": [
    {
     "data": {
      "text/html": [
       "$$Mq_L(K,L) = {{A}{K^{\\beta}}L^{\\alpha - 1}}{\\alpha}$$"
      ],
      "text/plain": [
       "fun v -> A * v.ItemE(0) ** beta * v.ItemE(1) ** (-1.0 + alpha) * alpha"
      ]
     },
     "execution_count": 37,
     "metadata": {},
     "output_type": "execute_result"
    }
   ],
   "source": [
    "marginal L QCD"
   ]
  },
  {
   "cell_type": "code",
   "execution_count": 33,
   "id": "distinguished-updating",
   "metadata": {
    "slideshow": {
     "slide_type": "fragment"
    }
   },
   "outputs": [
    {
     "data": {
      "text/html": [
       "$${A}{1^{\\alpha}}2^{\\beta}$$"
      ],
      "text/plain": [
       "A * 1.0^alpha * 2.0^beta"
      ]
     },
     "execution_count": 33,
     "metadata": {},
     "output_type": "execute_result"
    }
   ],
   "source": [
    "QCD.[1, 2]"
   ]
  },
  {
   "cell_type": "code",
   "execution_count": 34,
   "id": "matched-answer",
   "metadata": {
    "slideshow": {
     "slide_type": "slide"
    }
   },
   "outputs": [
    {
     "name": "stderr",
     "output_type": "stream",
     "text": [
      "The value or constructor 'QCD' is not defined."
     ]
    }
   ],
   "source": [
    "// consider a Cobb-Douglas function with A=1,alpha and beta = 0.5\n",
    "let QCD1 = fix{|A=1.; alpha=0.5;beta=0.5|} QCD\n",
    "QCD1"
   ]
  },
  {
   "cell_type": "code",
   "execution_count": 35,
   "id": "clinical-acrylic",
   "metadata": {
    "slideshow": {
     "slide_type": "fragment"
    }
   },
   "outputs": [
    {
     "data": {
      "text/html": [
       "$$1L^{0.5}K^{0.5} = 6$$"
      ],
      "text/plain": [
       "1.0 * L ** 0.5 * K ** 0.5 = 6.0"
      ]
     },
     "execution_count": 35,
     "metadata": {},
     "output_type": "execute_result"
    }
   ],
   "source": [
    "// In Sylvester we can also define functions implicitly\n",
    "// A function of two variables set equal to a constant implicitly defines a function of 1 variable\n",
    "QCD1 == 6."
   ]
  },
  {
   "cell_type": "code",
   "execution_count": 36,
   "id": "lucky-instruction",
   "metadata": {
    "slideshow": {
     "slide_type": "slide"
    }
   },
   "outputs": [
    {
     "data": {
      "text/html": [
       "<div>\r\n",
       " <div id=\"5f0ea854-5610-42f8-bfa4-0312588d497e\" class=\"jxgbox\" style=\"width:100%;height:640px\"></div>\r\n",
       " <script>require(['https://cdn.jsdelivr.net/npm/jsxgraph/distrib/jsxgraphcore.js'], function(JXG) {\n",
       "JXG.Options.text.useMathJax = true;\n",
       "var boundingbox = [(0.000000 - ((18.000000 - 0.000000) / 10.000000)), (20.000000 + ((20.000000 - 0.000000) / 10.000000)), (18.000000 + (18.000000 / 10.000000)), (0.000000 - (20.000000 / 10.000000))];\r\n",
       "var showNavigation = true;\r\n",
       "var showCopyright = false;\r\n",
       "var keepAspectRatio = false;\r\n",
       "var name = \"X\";\r\n",
       "var withLabel = true;\r\n",
       "var position = \"rt\";\r\n",
       "var offset = [-300, -40];\r\n",
       "var _name = \"Y\";\r\n",
       "var _withLabel = true;\r\n",
       "var _position = \"rt\";\r\n",
       "var rotate = 90;\r\n",
       "var _offset = [-40, -300];\r\n",
       "var b = JXG.JSXGraph.initBoard(\"5f0ea854-5610-42f8-bfa4-0312588d497e\", {axis: true, boundingbox: boundingbox, defaultAxes: {x: {label: {anchorX: \"middle\", offset: offset, position: position}, name: name, withLabel: withLabel}, y: {label: {anchorX: \"middle\", offset: _offset, position: _position, rotate: rotate}, name: _name, withLabel: _withLabel}}, keepAspectRatio: keepAspectRatio, showCopyright: showCopyright, showNavigation: showNavigation});\r\n",
       "var strokeColor = \"blue\";\r\n",
       "var strokeWidth = 1;\r\n",
       "var __withLabel = true;\r\n",
       "var fg = b.create('functiongraph', [(function(L)\r\n",
       "{\r\n",
       "    return (36.000000 / L);\r\n",
       "}), 0.000000, 18.000000], {name: \"q=6\", strokeColor: strokeColor, strokeWidth: strokeWidth, withLabel: __withLabel});\r\n",
       "var t = b.create('text', [((18.000000 - 0.000000) * 0.500000), (20.000000 - ((20.000000 - 0.000000) / 10.000000)), \"\"], {fontSize: 24});\r\n",
       "b});</script>\r\n",
       "</div>\r\n"
      ],
      "text/plain": [
       "Elem\n",
       "  (\"div\",\n",
       "   [Elem\n",
       "      (\"div\",\n",
       "       [Attr (\"id\", \"5f0ea854-5610-42f8-bfa4-0312588d497e\");\n",
       "        Attr (\"class\", \"jxgbox\"); Attr (\"style\", \"width:100%;height:640px\")]);\n",
       "    Elem\n",
       "      (\"script\",\n",
       "       [Text\n",
       "          \"require(['https://cdn.jsdelivr.net/npm/jsxgraph/distrib/jsxgraphcore.js'], function(JXG) {\n",
       "JXG.Options.text.useMathJax = true;\n",
       "var boundingbox = [(0.000000 - ((18.000000 - 0.000000) / 10.000000)), (20.000000 + ((20.000000 - 0.000000) / 10.000000)), (18.000000 + (18.000000 / 10.000000)), (0.000000 - (20.000000 / 10.000000))];\r\n",
       "var showNavigation = true;\r\n",
       "var showCopyright = false;\r\n",
       "var keepAspectRatio = false;\r\n",
       "var name = \"X\";\r\n",
       "var withLabel = true;\r\n",
       "var position = \"rt\";\r\n",
       "var offset = [-300, -40];\r\n",
       "var _name = \"Y\";\r\n",
       "var _withLabel = true;\r\n",
       "var _position = \"rt\";\r\n",
       "var rotate = 90;\r\n",
       "var _offset = [-40, -300];\r\n",
       "var b = JXG.JSXGraph.initBoard(\"5f0ea854-5610-42f8-bfa4-0312588d497e\", {axis: true, boundingbox: boundingbox, defaultAxes: {x: {label: {anchorX: \"middle\", offset: offset, position: position}, name: name, withLabel: withLabel}, y: {label: {anchorX: \"middle\", offset: _offset, position: _position, rotate: rotate}, name: _name, withLabel: _withLabel}}, keepAspectRatio: keepAspectRatio, showCopyright: showCopyright, showNavigation: showNavigation});\r\n",
       "var strokeColor = \"blue\";\r\n",
       "var strokeWidth = 1;\r\n",
       "var __withLabel = true;\r\n",
       "var fg = b.create('functiongraph', [(function(L)\r\n",
       "{\r\n",
       "    return (36.000000 / L);\r\n",
       "}), 0.000000, 18.000000], {name: \"q=6\", strokeColor: strokeColor, strokeWidth: strokeWidth, withLabel: __withLabel});\r\n",
       "var t = b.create('text', [((18.000000 - 0.000000) * 0.500000), (20.000000 - ((20.000000 - 0.000000) / 10.000000)), \"\"], {fontSize: 24});\r\n",
       "b});\"])])"
      ]
     },
     "execution_count": 36,
     "metadata": {},
     "output_type": "execute_result"
    }
   ],
   "source": [
    "// let's define a one-variable production function implicity using a 2 variable function, this is a level set of the 2-variable functio\n",
    "let LS1 = prodfun_im \"\" K (QCD1 == 6.)\n",
    "draw {|xrange=0.,18.; yrange=0.,20.; name=\"q=6\"|} LS1"
   ]
  },
  {
   "cell_type": "code",
   "execution_count": 38,
   "id": "advisory-industry",
   "metadata": {
    "slideshow": {
     "slide_type": "slide"
    }
   },
   "outputs": [
    {
     "data": {
      "text/html": [
       "<div>\r\n",
       " <div id=\"f8c47bc1-0e88-45c6-bbbe-f2278aa4a20d\" class=\"jxgbox\" style=\"width:100%;height:640px\"></div>\r\n",
       " <script>require(['https://cdn.jsdelivr.net/npm/jsxgraph/distrib/jsxgraphcore.js'], function(JXG) {\n",
       "JXG.Options.text.useMathJax = true;\n",
       "var Board__invisible, Board__get_invisible$;\r\n",
       "Board__get_invisible$ = (function()\r\n",
       "{\r\n",
       "    var size = 0.000000;\r\n",
       "    var withLabel = false;\r\n",
       "    return {label: \"\", size: size, strokeWidth: 0.000000, withLabel: withLabel};\r\n",
       "});\r\n",
       "Board__invisible = Board__get_invisible$();\r\n",
       "var boundingbox = [(0.000000 - ((18.000000 - 0.000000) / 10.000000)), (20.000000 + ((20.000000 - 0.000000) / 10.000000)), (18.000000 + (18.000000 / 10.000000)), (0.000000 - (20.000000 / 10.000000))];\r\n",
       "var showNavigation = true;\r\n",
       "var showCopyright = false;\r\n",
       "var keepAspectRatio = false;\r\n",
       "var name = \"X\";\r\n",
       "var withLabel = true;\r\n",
       "var position = \"rt\";\r\n",
       "var offset = [-300, -40];\r\n",
       "var _name = \"Y\";\r\n",
       "var _withLabel = true;\r\n",
       "var _position = \"rt\";\r\n",
       "var rotate = 90;\r\n",
       "var _offset = [-40, -300];\r\n",
       "var b = JXG.JSXGraph.initBoard(\"f8c47bc1-0e88-45c6-bbbe-f2278aa4a20d\", {axis: true, boundingbox: boundingbox, defaultAxes: {x: {label: {anchorX: \"middle\", offset: offset, position: position}, name: name, withLabel: withLabel}, y: {label: {anchorX: \"middle\", offset: _offset, position: _position, rotate: rotate}, name: _name, withLabel: _withLabel}}, keepAspectRatio: keepAspectRatio, showCopyright: showCopyright, showNavigation: showNavigation});\r\n",
       "var strokeColor = \"blue\";\r\n",
       "var strokeWidth = 1;\r\n",
       "var __withLabel = true;\r\n",
       "var fg0 = b.create('functiongraph', [(function(L)\r\n",
       "{\r\n",
       "    return (36.000000 / L);\r\n",
       "}), 0.000000, 18.000000], {name: \"q=6\", strokeColor: strokeColor, strokeWidth: strokeWidth, withLabel: __withLabel});\r\n",
       "var pt0_j0 = b.create('point', [11.000000, 3.272727], {name: \"A(11.0, 3.272727273)\"});\r\n",
       "var _strokeColor = \"blue\";\r\n",
       "var _strokeWidth = 1;\r\n",
       "var ___withLabel = true;\r\n",
       "var fg1 = b.create('functiongraph', [(function(L)\r\n",
       "{\r\n",
       "    return (81.000000 / L);\r\n",
       "}), 0.000000, 18.000000], {name: \"q=9\", strokeColor: _strokeColor, strokeWidth: _strokeWidth, withLabel: ___withLabel});\r\n",
       "var pt1_j0 = b.create('point', [11.000000, 7.363636], {name: \"A(11.0, 7.363636364)\"});\r\n",
       "var __strokeColor = \"blue\";\r\n",
       "var __strokeWidth = 1;\r\n",
       "var ____withLabel = true;\r\n",
       "var fg2 = b.create('functiongraph', [(function(L)\r\n",
       "{\r\n",
       "    return (144.000000 / L);\r\n",
       "}), 0.000000, 18.000000], {name: \"q=12\", strokeColor: __strokeColor, strokeWidth: __strokeWidth, withLabel: ____withLabel});\r\n",
       "var pt2_j0 = b.create('point', [11.000000, 13.090909], {name: \"A(11.0, 13.09090909)\"});\r\n",
       "var t = b.create('text', [((18.000000 - 0.000000) * 0.500000), (20.000000 - ((20.000000 - 0.000000) / 10.000000)), \"\"], Board__invisible);\r\n",
       "b});</script>\r\n",
       "</div>\r\n"
      ],
      "text/plain": [
       "Elem\n",
       "  (\"div\",\n",
       "   [Elem\n",
       "      (\"div\",\n",
       "       [Attr (\"id\", \"f8c47bc1-0e88-45c6-bbbe-f2278aa4a20d\");\n",
       "        Attr (\"class\", \"jxgbox\"); Attr (\"style\", \"width:100%;height:640px\")]);\n",
       "    Elem\n",
       "      (\"script\",\n",
       "       [Text\n",
       "          \"require(['https://cdn.jsdelivr.net/npm/jsxgraph/distrib/jsxgraphcore.js'], function(JXG) {\n",
       "JXG.Options.text.useMathJax = true;\n",
       "var Board__invisible, Board__get_invisible$;\r\n",
       "Board__get_invisible$ = (function()\r\n",
       "{\r\n",
       "    var size = 0.000000;\r\n",
       "    var withLabel = false;\r\n",
       "    return {label: \"\", size: size, strokeWidth: 0.000000, withLabel: withLabel};\r\n",
       "});\r\n",
       "Board__invisible = Board__get_invisible$();\r\n",
       "var boundingbox = [(0.000000 - ((18.000000 - 0.000000) / 10.000000)), (20.000000 + ((20.000000 - 0.000000) / 10.000000)), (18.000000 + (18.000000 / 10.000000)), (0.000000 - (20.000000 / 10.000000))];\r\n",
       "var showNavigation = true;\r\n",
       "var showCopyright = false;\r\n",
       "var keepAspectRatio = false;\r\n",
       "var name = \"X\";\r\n",
       "var withLabel = true;\r\n",
       "var position = \"rt\";\r\n",
       "var offset = [-300, -40];\r\n",
       "var _name = \"Y\";\r\n",
       "var _withLabel = true;\r\n",
       "var _position = \"rt\";\r\n",
       "var rotate = 90;\r\n",
       "var _offset = [-40, -300];\r\n",
       "var b = JXG.JSXGraph.initBoard(\"f8c47bc1-0e88-45c6-bbbe-f2278aa4a20d\", {axis: true, boundingbox: boundingbox, defaultAxes: {x: {label: {anchorX: \"middle\", offset: offset, position: position}, name: name, withLabel: withLabel}, y: {label: {anchorX: \"middle\", offset: _offset, position: _position, rotate: rotate}, name: _name, withLabel: _withLabel}}, keepAspectRatio: keepAspectRatio, showCopyright: showCopyright, showNavigation: showNavigation});\r\n",
       "var strokeColor = \"blue\";\r\n",
       "var strokeWidth = 1;\r\n",
       "var __withLabel = true;\r\n",
       "var fg0 = b.create('functiongraph', [(function(L)\r\n",
       "{\r\n",
       "    return (36.000000 / L);\r\n",
       "}), 0.000000, 18.000000], {name: \"q=6\", strokeColor: strokeColor, strokeWidth: strokeWidth, withLabel: __withLabel});\r\n",
       "var pt0_j0 = b.create('point', [11.000000, 3.272727], {name: \"A(11.0, 3.272727273)\"});\r\n",
       "var _strokeColor = \"blue\";\r\n",
       "var _strokeWidth = 1;\r\n",
       "var ___withLabel = true;\r\n",
       "var fg1 = b.create('functiongraph', [(function(L)\r\n",
       "{\r\n",
       "    return (81.000000 / L);\r\n",
       "}), 0.000000, 18.000000], {name: \"q=9\", strokeColor: _strokeColor, strokeWidth: _strokeWidth, withLabel: ___withLabel});\r\n",
       "var pt1_j0 = b.create('point', [11.000000, 7.363636], {name: \"A(11.0, 7.363636364)\"});\r\n",
       "var __strokeColor = \"blue\";\r\n",
       "var __strokeWidth = 1;\r\n",
       "var ____withLabel = true;\r\n",
       "var fg2 = b.create('functiongraph', [(function(L)\r\n",
       "{\r\n",
       "    return (144.000000 / L);\r\n",
       "}), 0.000000, 18.000000], {name: \"q=12\", strokeColor: __strokeColor, strokeWidth: __strokeWidth, withLabel: ____withLabel});\r\n",
       "var pt2_j0 = b.create('point', [11.000000, 13.090909], {name: \"A(11.0, 13.09090909)\"});\r\n",
       "var t = b.create('text', [((18.000000 - 0.000000) * 0.500000), (20.000000 - ((20.000000 - 0.000000) / 10.000000)), \"\"], Board__invisible);\r\n",
       "b});\"])])"
      ]
     },
     "execution_count": 38,
     "metadata": {},
     "output_type": "execute_result"
    }
   ],
   "source": [
    "isoquants {|points=[11., \"A\"]; xrange=0.,18.; yrange=0.,20.; name1=\"q=6\"; name2=\"q=9\";  name3=\"q=12\"|} K QCD1 [|6.;9.;12.|]"
   ]
  },
  {
   "cell_type": "code",
   "execution_count": 39,
   "id": "early-bridges",
   "metadata": {
    "slideshow": {
     "slide_type": "fragment"
    }
   },
   "outputs": [
    {
     "data": {
      "text/html": [
       "$$\\frac{{-1K}{\\alpha}}{{L}{\\beta}}$$"
      ],
      "text/plain": [
       "-1.0 * K * alpha / L * beta"
      ]
     },
     "execution_count": 39,
     "metadata": {},
     "output_type": "execute_result"
    }
   ],
   "source": [
    "mrts QCD |> ratsimp"
   ]
  },
  {
   "cell_type": "markdown",
   "id": "recorded-reform",
   "metadata": {
    "slideshow": {
     "slide_type": "slide"
    }
   },
   "source": [
    "### Sylvester Economics Demo - Production and Cost Functions - Cost functions"
   ]
  },
  {
   "cell_type": "code",
   "execution_count": 40,
   "id": "northern-october",
   "metadata": {
    "slideshow": {
     "slide_type": "fragment"
    }
   },
   "outputs": [
    {
     "data": {
      "text/html": [
       "$$C(q) = q^{3} + 2q + 450$$"
      ],
      "text/plain": [
       "fun q -> q ** 3.0 + 2.0 * q + 450.0"
      ]
     },
     "execution_count": 40,
     "metadata": {},
     "output_type": "execute_result"
    }
   ],
   "source": [
    "// C is a real function of 1 variable\n",
    "let C = costfun \"C\" (q *** 3 + 2 * q + 450)\n",
    "C"
   ]
  },
  {
   "cell_type": "code",
   "execution_count": 41,
   "id": "developmental-telling",
   "metadata": {},
   "outputs": [
    {
     "data": {
      "text/html": [
       "$$0.0^{3} + 2\\cdot0 + 450$$"
      ],
      "text/plain": [
       "0.0^3.0 + 2.0 * 0.0 + 450.0"
      ]
     },
     "execution_count": 41,
     "metadata": {},
     "output_type": "execute_result"
    }
   ],
   "source": [
    "// set q = 0 to find the fixed costs\n",
    "C.[0.]"
   ]
  },
  {
   "cell_type": "code",
   "execution_count": 42,
   "id": "acceptable-affairs",
   "metadata": {
    "slideshow": {
     "slide_type": "fragment"
    }
   },
   "outputs": [
    {
     "data": {
      "text/html": [
       "$$MC_q(q) = 2 + 3q^{2}$$"
      ],
      "text/plain": [
       "fun q -> 2.0 + 3.0 * q ** 2.0"
      ]
     },
     "execution_count": 42,
     "metadata": {},
     "output_type": "execute_result"
    }
   ],
   "source": [
    "// marginal costs - how much costs increase for an additional unit of output\n",
    "let MC = marginal q C\n",
    "MC"
   ]
  },
  {
   "cell_type": "code",
   "execution_count": 43,
   "id": "failing-encoding",
   "metadata": {
    "slideshow": {
     "slide_type": "slide"
    }
   },
   "outputs": [
    {
     "data": {
      "text/html": [
       "<div>\r\n",
       " <div id=\"abf6e116-1e08-4599-9d90-62d07fa91f5c\" class=\"jxgbox\" style=\"width:100%;height:640px\"></div>\r\n",
       " <script>require(['https://cdn.jsdelivr.net/npm/jsxgraph/distrib/jsxgraphcore.js'], function(JXG) {\n",
       "JXG.Options.text.useMathJax = true;\n",
       "var MathJS__Pow$, Board__invisible, Board__get_invisible$;\r\n",
       "Board__get_invisible$ = (function()\r\n",
       "{\r\n",
       "    var size = 0.000000;\r\n",
       "    var withLabel = false;\r\n",
       "    return {label: \"\", size: size, strokeWidth: 0.000000, withLabel: withLabel};\r\n",
       "});\r\n",
       "MathJS__Pow$ = (function(x,y)\r\n",
       "{\r\n",
       "    return Math.pow(x, y);;\r\n",
       "});\r\n",
       "Board__invisible = Board__get_invisible$();\r\n",
       "var boundingbox = [(0.000000 - ((10.000000 - 0.000000) / 10.000000)), (2000.000000 + ((2000.000000 - 0.000000) / 10.000000)), (10.000000 + (10.000000 / 10.000000)), (0.000000 - (2000.000000 / 10.000000))];\r\n",
       "var showNavigation = true;\r\n",
       "var showCopyright = false;\r\n",
       "var keepAspectRatio = false;\r\n",
       "var name = \"X\";\r\n",
       "var withLabel = true;\r\n",
       "var position = \"rt\";\r\n",
       "var offset = [-300, -40];\r\n",
       "var _name = \"Y\";\r\n",
       "var _withLabel = true;\r\n",
       "var _position = \"rt\";\r\n",
       "var rotate = 90;\r\n",
       "var _offset = [-40, -300];\r\n",
       "var b = JXG.JSXGraph.initBoard(\"abf6e116-1e08-4599-9d90-62d07fa91f5c\", {axis: true, boundingbox: boundingbox, defaultAxes: {x: {label: {anchorX: \"middle\", offset: offset, position: position}, name: name, withLabel: withLabel}, y: {label: {anchorX: \"middle\", offset: _offset, position: _position, rotate: rotate}, name: _name, withLabel: _withLabel}}, keepAspectRatio: keepAspectRatio, showCopyright: showCopyright, showNavigation: showNavigation});\r\n",
       "var strokeColor = \"blue\";\r\n",
       "var strokeWidth = 1;\r\n",
       "var __withLabel = true;\r\n",
       "var fg0 = b.create('functiongraph', [(function(q)\r\n",
       "{\r\n",
       "    return ((MathJS__Pow$(q, 3.000000) + (2.000000 * q)) + 450.000000);\r\n",
       "}), 0.000000, 10.000000], {name: \"$$C(q) = q^{3} + 2q + 450$$\", strokeColor: strokeColor, strokeWidth: strokeWidth, withLabel: __withLabel});\r\n",
       "var _strokeColor = \"blue\";\r\n",
       "var _strokeWidth = 1;\r\n",
       "var ___withLabel = true;\r\n",
       "var fg1 = b.create('functiongraph', [(function(q)\r\n",
       "{\r\n",
       "    return (2.000000 + (3.000000 * MathJS__Pow$(q, 2.000000)));\r\n",
       "}), 0.000000, 10.000000], {name: \"$$MC_q(q) = 2 + 3q^{2}$$\", strokeColor: _strokeColor, strokeWidth: _strokeWidth, withLabel: ___withLabel});\r\n",
       "var t = b.create('text', [((10.000000 - 0.000000) * 0.500000), (2000.000000 - ((2000.000000 - 0.000000) / 10.000000)), \"\"], Board__invisible);\r\n",
       "b});</script>\r\n",
       "</div>\r\n"
      ],
      "text/plain": [
       "Elem\n",
       "  (\"div\",\n",
       "   [Elem\n",
       "      (\"div\",\n",
       "       [Attr (\"id\", \"abf6e116-1e08-4599-9d90-62d07fa91f5c\");\n",
       "        Attr (\"class\", \"jxgbox\"); Attr (\"style\", \"width:100%;height:640px\")]);\n",
       "    Elem\n",
       "      (\"script\",\n",
       "       [Text\n",
       "          \"require(['https://cdn.jsdelivr.net/npm/jsxgraph/distrib/jsxgraphcore.js'], function(JXG) {\n",
       "JXG.Options.text.useMathJax = true;\n",
       "var MathJS__Pow$, Board__invisible, Board__get_invisible$;\r\n",
       "Board__get_invisible$ = (function()\r\n",
       "{\r\n",
       "    var size = 0.000000;\r\n",
       "    var withLabel = false;\r\n",
       "    return {label: \"\", size: size, strokeWidth: 0.000000, withLabel: withLabel};\r\n",
       "});\r\n",
       "MathJS__Pow$ = (function(x,y)\r\n",
       "{\r\n",
       "    return Math.pow(x, y);;\r\n",
       "});\r\n",
       "Board__invisible = Board__get_invisible$();\r\n",
       "var boundingbox = [(0.000000 - ((10.000000 - 0.000000) / 10.000000)), (2000.000000 + ((2000.000000 - 0.000000) / 10.000000)), (10.000000 + (10.000000 / 10.000000)), (0.000000 - (2000.000000 / 10.000000))];\r\n",
       "var showNavigation = true;\r\n",
       "var showCopyright = false;\r\n",
       "var keepAspectRatio = false;\r\n",
       "var name = \"X\";\r\n",
       "var withLabel = true;\r\n",
       "var position = \"rt\";\r\n",
       "var offset = [-300, -40];\r\n",
       "var _name = \"Y\";\r\n",
       "var _withLabel = true;\r\n",
       "var _position = \"rt\";\r\n",
       "var rotate = 90;\r\n",
       "var _offset = [-40, -300];\r\n",
       "var b = JXG.JSXGraph.initBoard(\"abf6e116-1e08-4599-9d90-62d07fa91f5c\", {axis: true, boundingbox: boundingbox, defaultAxes: {x: {label: {anchorX: \"middle\", offset: offset, position: position}, name: name, withLabel: withLabel}, y: {label: {anchorX: \"middle\", offset: _offset, position: _position, rotate: rotate}, name: _name, withLabel: _withLabel}}, keepAspectRatio: keepAspectRatio, showCopyright: showCopyright, showNavigation: showNavigation});\r\n",
       "var strokeColor = \"blue\";\r\n",
       "var strokeWidth = 1;\r\n",
       "var __withLabel = true;\r\n",
       "var fg0 = b.create('functiongraph', [(function(q)\r\n",
       "{\r\n",
       "    return ((MathJS__Pow$(q, 3.000000) + (2.000000 * q)) + 450.000000);\r\n",
       "}), 0.000000, 10.000000], {name: \"$$C(q) = q^{3} + 2q + 450$$\", strokeColor: strokeColor, strokeWidth: strokeWidth, withLabel: __withLabel});\r\n",
       "var _strokeColor = \"blue\";\r\n",
       "var _strokeWidth = 1;\r\n",
       "var ___withLabel = true;\r\n",
       "var fg1 = b.create('functiongraph', [(function(q)\r\n",
       "{\r\n",
       "    return (2.000000 + (3.000000 * MathJS__Pow$(q, 2.000000)));\r\n",
       "}), 0.000000, 10.000000], {name: \"$$MC_q(q) = 2 + 3q^{2}$$\", strokeColor: _strokeColor, strokeWidth: _strokeWidth, withLabel: ___withLabel});\r\n",
       "var t = b.create('text', [((10.000000 - 0.000000) * 0.500000), (2000.000000 - ((2000.000000 - 0.000000) / 10.000000)), \"\"], Board__invisible);\r\n",
       "b});\"])])"
      ]
     },
     "execution_count": 43,
     "metadata": {},
     "output_type": "execute_result"
    }
   ],
   "source": [
    "draw {|yrange=0.,2000.|} (realfungrp [|C; MC|])"
   ]
  },
  {
   "cell_type": "markdown",
   "id": "early-reminder",
   "metadata": {
    "slideshow": {
     "slide_type": "slide"
    }
   },
   "source": [
    "# Sylvester and JSXGraph"
   ]
  },
  {
   "cell_type": "markdown",
   "id": "critical-simon",
   "metadata": {
    "slideshow": {
     "slide_type": "slide"
    }
   },
   "source": [
    "## Sylvester and JSXGraph\n",
    "### Overview\n",
    "\n",
    "* Sylvester uses JSXGraph to provide visualizations of mathematical domain objects and operations\n",
    "* Objects and operations are defined and performed using the Sylvester EDSL syntax\n",
    "* Visualizations are created using the `draw` command on objects which support the required visualization interface\n",
    "* Visualizations are configured using properties set by the user"
   ]
  },
  {
   "cell_type": "markdown",
   "id": "judicial-brush",
   "metadata": {
    "slideshow": {
     "slide_type": "slide"
    }
   },
   "source": [
    "## Sylvester and JSXGraph\n",
    "### Implementation\n",
    "* Sylvester interoperates with JSXGraph using the FunScript F#->JavaScript compiler"
   ]
  },
  {
   "cell_type": "code",
   "execution_count": 44,
   "id": "adapted-projection",
   "metadata": {
    "slideshow": {
     "slide_type": "fragment"
    }
   },
   "outputs": [
    {
     "data": {
      "text/plain": [
       "\"var f = (function(a)\r\n",
       "{\r\n",
       "    return (function(b)\r\n",
       "    {\r\n",
       "      if ((a < 6.000000)) \r\n",
       "      {\r\n",
       "        throw (\"a must be more than 6\");\r\n",
       "        null;\r\n",
       "      }\r\n",
       "      else\r\n",
       "      {\r\n",
       "        ;\r\n",
       "      };\r\n",
       "      var x = a;\r\n",
       "      if ((x > 10.000000)) \r\n",
       "      {\r\n",
       "        var _x = a;\r\n",
       "        return (a + b);\r\n",
       "      }\r\n",
       "      else\r\n",
       "      {\r\n",
       "        return (a - b);\r\n",
       "      };\r\n",
       "    });\r\n",
       "});\r\n",
       "f(16.000000)(7.000000)\""
      ]
     },
     "execution_count": 44,
     "metadata": {},
     "output_type": "execute_result"
    }
   ],
   "source": [
    "// using the FunScript compiler\n",
    "open FunScript\n",
    "\n",
    "<@\n",
    "let f a b =\n",
    "    if a < 6. then failwith \"a must be more than 6\"\n",
    "    match a with\n",
    "    | x when x > 10. -> a + b\n",
    "    | _ -> a - b\n",
    "f 16. 7.\n",
    "@> |> compile"
   ]
  },
  {
   "cell_type": "markdown",
   "id": "acquired-addiction",
   "metadata": {
    "slideshow": {
     "slide_type": "slide"
    }
   },
   "source": [
    "## Sylvester and JSXGraph\n",
    "### Implementation\n",
    "* Statically-typed F# bindings to the JSXGraph JavaScript API were created from the JSXGraph TypeScript definitions\n",
    "* Using these as a starting point a low-level F# interface to JSXGraph was created \n",
    "* F# code in a quotation with the type `Board` is automatically compiled to JavaScript and displayed"
   ]
  },
  {
   "cell_type": "code",
   "execution_count": 4,
   "id": "designing-studio",
   "metadata": {
    "slideshow": {
     "slide_type": "slide"
    }
   },
   "outputs": [
    {
     "data": {
      "text/html": [
       "<div>\r\n",
       " <div id=\"c61ebd56-92f6-432b-9836-2cd8f3158548\" class=\"jxgbox\" style=\"width:100%;height:640px\"></div>\r\n",
       " <script>require(['https://cdn.jsdelivr.net/npm/jsxgraph/distrib/jsxgraphcore.js'], function(JXG) {\n",
       "JXG.Options.text.useMathJax = true;\n",
       "var color__red, color__get_red$, Board__withFillColor$Polygon_Polygon_, Board__noface, Board__get_noface$, Board__get_defaults$, Board__defaults, Board__area$;\r\n",
       "Board__area$ = (function(d,h,o)\r\n",
       "{\r\n",
       "    return [((o - d) - 0.500000), ((o + h) + 0.500000), ((o + d) + 0.500000), ((o - h) - 0.500000)];\r\n",
       "});\r\n",
       "Board__get_defaults$ = (function()\r\n",
       "{\r\n",
       "    return {};\r\n",
       "});\r\n",
       "Board__get_noface$ = (function()\r\n",
       "{\r\n",
       "    return {size: 0};\r\n",
       "});\r\n",
       "Board__withFillColor$Polygon_Polygon_ = (function(n,ge)\r\n",
       "{\r\n",
       "    return ge.setAttribute({fillColor: n});\r\n",
       "});\r\n",
       "color__get_red$ = (function()\r\n",
       "{\r\n",
       "    return \"red\";\r\n",
       "});\r\n",
       "Board__noface = Board__get_noface$();\r\n",
       "Board__defaults = Board__get_defaults$();\r\n",
       "color__red = color__get_red$();\r\n",
       "var boundingbox = Board__area$(6.000000, 6.000000, 0.000000);\r\n",
       "var showNavigation = true;\r\n",
       "var showCopyright = false;\r\n",
       "var layout = {boundingbox: boundingbox, keepAspectRatio: true, showCopyright: showCopyright, showNavigation: showNavigation};\r\n",
       "var board = JXG.JSXGraph.initBoard(\"c61ebd56-92f6-432b-9836-2cd8f3158548\", layout);\r\n",
       "var A = board.create('point', [-2.000000, -2.000000], Board__noface);\r\n",
       "var B = board.create('point', [1.000000, 0.000000], Board__noface);\r\n",
       "var C1 = board.create('circle', [A, B], Board__defaults);\r\n",
       "var C2 = board.create('circle', [B, A], Board__defaults);\r\n",
       "var C = board.create('intersection', [C1, C2, 1], Board__noface);\r\n",
       "var ABC = Board__withFillColor$Polygon_Polygon_(color__red, board.create('polygon', [A, B, C], Board__defaults));\r\n",
       "board});</script>\r\n",
       "</div>\r\n"
      ],
      "text/plain": [
       "Let (layout,\n",
       "     Let (boundingbox,\n",
       "          Call (None, area, [Value (6.0), Value (6.0), Value (0.0)]),\n",
       "          Let (showNavigation, Value (true),\n",
       "               Let (showCopyright, Value (false),\n",
       "                    NewRecord (<>f__AnonymousType1810890934`4, boundingbox,\n",
       "                               Value (true), showCopyright, showNavigation)))),\n",
       "     Let (board, Call (None, board, [Coerce (layout, Object)]),\n",
       "          Let (A,\n",
       "               Call (None, point,\n",
       "                     [Value (-2.0), Value (-2.0),\n",
       "                      Coerce (PropertyGet (None, noface, []), Object), board]),\n",
       "               Let (B,\n",
       "                    Call (None, point,\n",
       "                          [Value (1.0), Value (0.0),\n",
       "                           Coerce (PropertyGet (None, noface, []), Object),\n",
       "                           board]),\n",
       "                    Let (C1,\n",
       "                         Call (None, circle,\n",
       "                               [A, Coerce (B, Object),\n",
       "                                Coerce (PropertyGet (None, defaults, []), Object),\n",
       "                                board]),\n",
       "                         Let (C2,\n",
       "                              Call (None, circle,\n",
       "                                    [B, Coerce (A, Object),\n",
       "                                     Coerce (PropertyGet (None, defaults, []),\n",
       "                                             Object), board]),\n",
       "                              Let (C,\n",
       "                                   Call (None, intersection,\n",
       "                                         [Coerce (C1, Object),\n",
       "                                          Coerce (C2, Object), Value (1),\n",
       "                                          Coerce (PropertyGet (None, noface, []),\n",
       "                                                  Object), board]),\n",
       "                                   Let (ABC,\n",
       "                                        Call (None, op_PipeRight,\n",
       "                                              [Call (None, polygon,\n",
       "                                                     [NewArray (Object,\n",
       "                                                                Coerce (A,\n",
       "                                                                        Object),\n",
       "                                                                Coerce (B,\n",
       "                                                                        Object),\n",
       "                                                                Coerce (C,\n",
       "                                                                        Object)),\n",
       "                                                      Coerce (PropertyGet (None,\n",
       "                                                                           defaults,\n",
       "                                                                           []),\n",
       "                                                              Object), board]),\n",
       "                                               Lambda (ge,\n",
       "                                                       Call (None, withFillColor,\n",
       "                                                             [PropertyGet (None,\n",
       "                                                                           red,\n",
       "                                                                           []),\n",
       "                                                              ge]))]), board))))))))"
      ]
     },
     "execution_count": 4,
     "metadata": {},
     "output_type": "execute_result"
    }
   ],
   "source": [
    "<@\n",
    "let layout = {| \n",
    "    boundingbox = area 6. 6. 0. \n",
    "    showNavigation = true \n",
    "    showCopyright = false\n",
    "    keepAspectRatio = true\n",
    "|}\n",
    "let board = board layout\n",
    "let A = point -2. -2. noface board\n",
    "let B = point 1. 0. noface board\n",
    "let C1 = circle A B defaults board\n",
    "let C2 = circle B A defaults board\n",
    "let C = intersection C1 C2 1 noface board\n",
    "let ABC = polygon [|A; B; C|] defaults board |> withFillColor red\n",
    "board\n",
    "@>"
   ]
  },
  {
   "cell_type": "markdown",
   "id": "musical-emission",
   "metadata": {
    "slideshow": {
     "slide_type": "slide"
    }
   },
   "source": [
    "## Sylvester and JSXGraph\n",
    "### Low-level interface\n",
    "* The low-level JSXGraph F# interface is intended to do everything JSXGraph does in JavaScript\n",
    "* Contains types for the different JSXGraph geometry elements\n",
    "* Designed to provides fine-grained access to JSXGraph capabilities\n",
    "* Can be used to create highly detailed and customized visualizations\n",
    "* Not really suited for everyday use"
   ]
  },
  {
   "cell_type": "code",
   "execution_count": 46,
   "id": "rational-platinum",
   "metadata": {
    "slideshow": {
     "slide_type": "slide"
    }
   },
   "outputs": [
    {
     "data": {
      "text/html": [
       "<div>\r\n",
       " <div id=\"73ac8248-2178-4115-be64-63dd20e00318\" class=\"jxgbox\" style=\"width:100%;height:640px\"></div>\r\n",
       " <script>require(['https://cdn.jsdelivr.net/npm/jsxgraph/distrib/jsxgraphcore.js'], function(JXG) {\n",
       "JXG.Options.text.useMathJax = true;\n",
       "var MathJS__Sin$, Board__get_autoPosition$, Board__autoPosition, Board__area$;\r\n",
       "Board__area$ = (function(d,h,o)\r\n",
       "{\r\n",
       "    return [((o - d) - 0.500000), ((o + h) + 0.500000), ((o + d) + 0.500000), ((o - h) - 0.500000)];\r\n",
       "});\r\n",
       "Board__get_autoPosition$ = (function()\r\n",
       "{\r\n",
       "    var useMathJax = true;\r\n",
       "    var display = \"html\";\r\n",
       "    return {autoPosition: true, display: display, useMathJax: useMathJax};\r\n",
       "});\r\n",
       "MathJS__Sin$ = (function(x)\r\n",
       "{\r\n",
       "    return Math.sin(x);;\r\n",
       "});\r\n",
       "Board__autoPosition = Board__get_autoPosition$();\r\n",
       "var boundingbox = Board__area$(5.000000, 8.000000, 0.000000);\r\n",
       "var showNavigation = true;\r\n",
       "var showCopyright = false;\r\n",
       "var keepAspectRatio = true;\r\n",
       "var b = {axis: true, boundingbox: boundingbox, keepAspectRatio: keepAspectRatio, showCopyright: showCopyright, showNavigation: showNavigation};\r\n",
       "var sin = (function(value)\r\n",
       "{\r\n",
       "    return MathJS__Sin$(value);\r\n",
       "});\r\n",
       "var board = JXG.JSXGraph.initBoard(\"73ac8248-2178-4115-be64-63dd20e00318\", b);\r\n",
       "var gg = (function(x)\r\n",
       "{\r\n",
       "    return (x * sin(x));\r\n",
       "});\r\n",
       "var a = board.create('slider', [[-10.000000, -6.000000], [-10.000000 + 4.000000, -6.000000], [-5.000000, -10.000000, -20.000000]], {name: \"a\", snapWidth: 1});\r\n",
       "var _b = board.create('slider', [[-10.000000, -7.000000], [-10.000000 + 4.000000, -7.000000], [5.000000, 10.000000, 20.000000]], {name: \"b\", snapWidth: 1});\r\n",
       "var name = \"f(x)=x sin(x)\";\r\n",
       "var withLabel = true;\r\n",
       "board.create('functiongraph', [gg, (function(unitVar)\r\n",
       "{\r\n",
       "    return a.Value();\r\n",
       "}), (function(unitVar)\r\n",
       "{\r\n",
       "    return _b.Value();\r\n",
       "})], {label: Board__autoPosition, name: name, withLabel: withLabel});\r\n",
       "board});</script>\r\n",
       "</div>\r\n"
      ],
      "text/plain": [
       "Elem\n",
       "  (\"div\",\n",
       "   [Elem\n",
       "      (\"div\",\n",
       "       [Attr (\"id\", \"73ac8248-2178-4115-be64-63dd20e00318\");\n",
       "        Attr (\"class\", \"jxgbox\"); Attr (\"style\", \"width:100%;height:640px\")]);\n",
       "    Elem\n",
       "      (\"script\",\n",
       "       [Text\n",
       "          \"require(['https://cdn.jsdelivr.net/npm/jsxgraph/distrib/jsxgraphcore.js'], function(JXG) {\n",
       "JXG.Options.text.useMathJax = true;\n",
       "var MathJS__Sin$, Board__get_autoPosition$, Board__autoPosition, Board__area$;\r\n",
       "Board__area$ = (function(d,h,o)\r\n",
       "{\r\n",
       "    return [((o - d) - 0.500000), ((o + h) + 0.500000), ((o + d) + 0.500000), ((o - h) - 0.500000)];\r\n",
       "});\r\n",
       "Board__get_autoPosition$ = (function()\r\n",
       "{\r\n",
       "    var useMathJax = true;\r\n",
       "    var display = \"html\";\r\n",
       "    return {autoPosition: true, display: display, useMathJax: useMathJax};\r\n",
       "});\r\n",
       "MathJS__Sin$ = (function(x)\r\n",
       "{\r\n",
       "    return Math.sin(x);;\r\n",
       "});\r\n",
       "Board__autoPosition = Board__get_autoPosition$();\r\n",
       "var boundingbox = Board__area$(5.000000, 8.000000, 0.000000);\r\n",
       "var showNavigation = true;\r\n",
       "var showCopyright = false;\r\n",
       "var keepAspectRatio = true;\r\n",
       "var b = {axis: true, boundingbox: boundingbox, keepAspectRatio: keepAspectRatio, showCopyright: showCopyright, showNavigation: showNavigation};\r\n",
       "var sin = (function(value)\r\n",
       "{\r\n",
       "    return MathJS__Sin$(value);\r\n",
       "});\r\n",
       "var board = JXG.JSXGraph.initBoard(\"73ac8248-2178-4115-be64-63dd20e00318\", b);\r\n",
       "var gg = (function(x)\r\n",
       "{\r\n",
       "    return (x * sin(x));\r\n",
       "});\r\n",
       "var a = board.create('slider', [[-10.000000, -6.000000], [-10.000000 + 4.000000, -6.000000], [-5.000000, -10.000000, -20.000000]], {name: \"a\", snapWidth: 1});\r\n",
       "var _b = board.create('slider', [[-10.000000, -7.000000], [-10.000000 + 4.000000, -7.000000], [5.000000, 10.000000, 20.000000]], {name: \"b\", snapWidth: 1});\r\n",
       "var name = \"f(x)=x sin(x)\";\r\n",
       "var withLabel = true;\r\n",
       "board.create('functiongraph', [gg, (function(unitVar)\r\n",
       "{\r\n",
       "    return a.Value();\r\n",
       "}), (function(unitVar)\r\n",
       "{\r\n",
       "    return _b.Value();\r\n",
       "})], {label: Board__autoPosition, name: name, withLabel: withLabel});\r\n",
       "board});\"])])"
      ]
     },
     "execution_count": 46,
     "metadata": {},
     "output_type": "execute_result"
    }
   ],
   "source": [
    "<@\n",
    "let b = {| \n",
    "    boundingbox = area 5. 8. 0. \n",
    "    showNavigation = true \n",
    "    showCopyright = false\n",
    "    keepAspectRatio = true\n",
    "    axis = true \n",
    "|}\n",
    "let sin = FSharp.Core.Operators.sin\n",
    "let board = board b\n",
    "let gg x = x * sin x\n",
    "let a = slider -10. -6. 4. -5. -20. -10. {|name = \"a\"; snapWidth = 1|} board\n",
    "let b = slider -10. -7. 4. 5. 20. 10. {|name = \"b\"; snapWidth = 1|} board\n",
    "let _ = functiongraph gg a.Value b.Value {|name=\"f(x)=x sin(x)\"; withLabel=true; label=autoPosition |} board\n",
    "board\n",
    "@> |> draw_board"
   ]
  },
  {
   "cell_type": "markdown",
   "id": "under-colleague",
   "metadata": {
    "slideshow": {
     "slide_type": "slide"
    }
   },
   "source": [
    "## Sylvester and JSXGraph\n",
    "### High-level interface\n",
    "* Built on top of the low-level interface\n",
    "* Implemented for different mathematical domain objects in Sylvester using the IWebVisualization interface\n",
    "* Designed to be easy and fast to use for end users"
   ]
  },
  {
   "cell_type": "markdown",
   "id": "entertaining-movie",
   "metadata": {
    "slideshow": {
     "slide_type": "slide"
    }
   },
   "source": [
    "## Sylvester and JSXGraph\n",
    "### High-level interface"
   ]
  },
  {
   "cell_type": "code",
   "execution_count": 47,
   "id": "stone-syndrome",
   "metadata": {
    "slideshow": {
     "slide_type": "fragment"
    }
   },
   "outputs": [
    {
     "data": {
      "text/html": [
       "$$ \\begin{pmatrix} x \\\\ x + y \\end{pmatrix} $$"
      ],
      "text/plain": [
       "(x, x + y)"
      ]
     },
     "execution_count": 47,
     "metadata": {},
     "output_type": "execute_result"
    }
   ],
   "source": [
    "let v1 = vec2 x (x + y) //define 2D vector\n",
    "v1"
   ]
  },
  {
   "cell_type": "markdown",
   "id": "popular-arizona",
   "metadata": {
    "slideshow": {
     "slide_type": "slide"
    }
   },
   "source": [
    "## Sylvester and JSXGraph\n",
    "### High-level interface"
   ]
  },
  {
   "cell_type": "code",
   "execution_count": 48,
   "id": "novel-brunei",
   "metadata": {
    "slideshow": {
     "slide_type": "fragment"
    }
   },
   "outputs": [
    {
     "data": {
      "text/html": [
       "<div>\r\n",
       " <div id=\"7c6081c7-fcbc-4e2e-acb4-8be0350312dd\" class=\"jxgbox\" style=\"width:100%;height:640px\"></div>\r\n",
       " <script>require(['https://cdn.jsdelivr.net/npm/jsxgraph/distrib/jsxgraphcore.js'], function(JXG) {\n",
       "JXG.Options.text.useMathJax = true;\n",
       "var Board__invisible, Board__get_invisible$, Board__get_defaults$, Board__defaults;\r\n",
       "Board__get_defaults$ = (function()\r\n",
       "{\r\n",
       "    return {};\r\n",
       "});\r\n",
       "Board__get_invisible$ = (function()\r\n",
       "{\r\n",
       "    var size = 0.000000;\r\n",
       "    var withLabel = false;\r\n",
       "    return {label: \"\", size: size, strokeWidth: 0.000000, withLabel: withLabel};\r\n",
       "});\r\n",
       "Board__invisible = Board__get_invisible$();\r\n",
       "Board__defaults = Board__get_defaults$();\r\n",
       "var boundingbox = [(0.000000 - ((10.000000 - 0.000000) / 10.000000)), (30.000000 + ((30.000000 - 0.000000) / 10.000000)), (10.000000 + (10.000000 / 10.000000)), (0.000000 - (30.000000 / 10.000000))];\r\n",
       "var showNavigation = true;\r\n",
       "var showCopyright = false;\r\n",
       "var keepAspectRatio = false;\r\n",
       "var b = JXG.JSXGraph.initBoard(\"7c6081c7-fcbc-4e2e-acb4-8be0350312dd\", {axis: true, boundingbox: boundingbox, keepAspectRatio: keepAspectRatio, showCopyright: showCopyright, showNavigation: showNavigation});\r\n",
       "var y = b.create('slider', [[(0.750000 * 10.000000), ((0.750000 * 30.000000) - ((2.000000 - 1.000000) * ((30.000000 - 0.000000) / 10.000000)))], [(0.750000 * 10.000000) + 2.000000, ((0.750000 * 30.000000) - ((2.000000 - 1.000000) * ((30.000000 - 0.000000) / 10.000000)))], [5.000000, 1.000000, 10.000000]], {name: \"y\"});\r\n",
       "var x = b.create('slider', [[(0.750000 * 10.000000), ((0.750000 * 30.000000) - ((1.000000 - 1.000000) * ((30.000000 - 0.000000) / 10.000000)))], [(0.750000 * 10.000000) + 2.000000, ((0.750000 * 30.000000) - ((1.000000 - 1.000000) * ((30.000000 - 0.000000) / 10.000000)))], [1.000000, 1.000000, 9.000000]], {name: \"x\"});\r\n",
       "var o = b.create('point', [0.000000, 0.000000], Board__invisible);\r\n",
       "var p = b.create('point', [(function(unitVar0)\r\n",
       "{\r\n",
       "    return x.Value();\r\n",
       "}), (function(unitVar0)\r\n",
       "{\r\n",
       "    return (x.Value() + y.Value());\r\n",
       "})], Board__defaults);\r\n",
       "var a = b.create('arrow', [o, p], Board__defaults);\r\n",
       "var t = b.create('text', [((10.000000 - 0.000000) * 0.500000), ((30.000000 + ((30.000000 - 0.000000) / 10.000000)) - 0.500000), \"$$ \\\\mathbb{R}^ 2 vector \\\\begin{pmatrix} x \\\\\\\\ x + y \\\\end{pmatrix} $$\"], Board__invisible);\r\n",
       "b});</script>\r\n",
       "</div>\r\n"
      ],
      "text/plain": [
       "Elem\n",
       "  (\"div\",\n",
       "   [Elem\n",
       "      (\"div\",\n",
       "       [Attr (\"id\", \"7c6081c7-fcbc-4e2e-acb4-8be0350312dd\");\n",
       "        Attr (\"class\", \"jxgbox\"); Attr (\"style\", \"width:100%;height:640px\")]);\n",
       "    Elem\n",
       "      (\"script\",\n",
       "       [Text\n",
       "          \"require(['https://cdn.jsdelivr.net/npm/jsxgraph/distrib/jsxgraphcore.js'], function(JXG) {\n",
       "JXG.Options.text.useMathJax = true;\n",
       "var Board__invisible, Board__get_invisible$, Board__get_defaults$, Board__defaults;\r\n",
       "Board__get_defaults$ = (function()\r\n",
       "{\r\n",
       "    return {};\r\n",
       "});\r\n",
       "Board__get_invisible$ = (function()\r\n",
       "{\r\n",
       "    var size = 0.000000;\r\n",
       "    var withLabel = false;\r\n",
       "    return {label: \"\", size: size, strokeWidth: 0.000000, withLabel: withLabel};\r\n",
       "});\r\n",
       "Board__invisible = Board__get_invisible$();\r\n",
       "Board__defaults = Board__get_defaults$();\r\n",
       "var boundingbox = [(0.000000 - ((10.000000 - 0.000000) / 10.000000)), (30.000000 + ((30.000000 - 0.000000) / 10.000000)), (10.000000 + (10.000000 / 10.000000)), (0.000000 - (30.000000 / 10.000000))];\r\n",
       "var showNavigation = true;\r\n",
       "var showCopyright = false;\r\n",
       "var keepAspectRatio = false;\r\n",
       "var b = JXG.JSXGraph.initBoard(\"7c6081c7-fcbc-4e2e-acb4-8be0350312dd\", {axis: true, boundingbox: boundingbox, keepAspectRatio: keepAspectRatio, showCopyright: showCopyright, showNavigation: showNavigation});\r\n",
       "var y = b.create('slider', [[(0.750000 * 10.000000), ((0.750000 * 30.000000) - ((2.000000 - 1.000000) * ((30.000000 - 0.000000) / 10.000000)))], [(0.750000 * 10.000000) + 2.000000, ((0.750000 * 30.000000) - ((2.000000 - 1.000000) * ((30.000000 - 0.000000) / 10.000000)))], [5.000000, 1.000000, 10.000000]], {name: \"y\"});\r\n",
       "var x = b.create('slider', [[(0.750000 * 10.000000), ((0.750000 * 30.000000) - ((1.000000 - 1.000000) * ((30.000000 - 0.000000) / 10.000000)))], [(0.750000 * 10.000000) + 2.000000, ((0.750000 * 30.000000) - ((1.000000 - 1.000000) * ((30.000000 - 0.000000) / 10.000000)))], [1.000000, 1.000000, 9.000000]], {name: \"x\"});\r\n",
       "var o = b.create('point', [0.000000, 0.000000], Board__invisible);\r\n",
       "var p = b.create('point', [(function(unitVar0)\r\n",
       "{\r\n",
       "    return x.Value();\r\n",
       "}), (function(unitVar0)\r\n",
       "{\r\n",
       "    return (x.Value() + y.Value());\r\n",
       "})], Board__defaults);\r\n",
       "var a = b.create('arrow', [o, p], Board__defaults);\r\n",
       "var t = b.create('text', [((10.000000 - 0.000000) * 0.500000), ((30.000000 + ((30.000000 - 0.000000) / 10.000000)) - 0.500000), \"$$ \\\\mathbb{R}^ 2 vector \\\\begin{pmatrix} x \\\\\\\\ x + y \\\\end{pmatrix} $$\"], Board__invisible);\r\n",
       "b});\"])])"
      ]
     },
     "execution_count": 48,
     "metadata": {},
     "output_type": "execute_result"
    }
   ],
   "source": [
    "draw {|x = 1.,9.; y = 5.,10.; range=10.,30.; name=\"B\" |} v1 //draw the vector v1"
   ]
  },
  {
   "cell_type": "markdown",
   "id": "theoretical-linux",
   "metadata": {
    "slideshow": {
     "slide_type": "slide"
    }
   },
   "source": [
    "# Visualization in Sylvester\n",
    "## Comparison with other visualization languages\n",
    "\n",
    "Consider:\n",
    "* Clarity - how easy is the code to understand or grasp, especially by new users \n",
    "* Features that help users avoid mistakes like static types or functions/procedures with fixed parameter counts.\n",
    "* Reusability and Composability - can users easily create higher-level types or interfaces from lower-level types or functions or procedures?\n",
    "* Can it be used interactively?\n"
   ]
  },
  {
   "cell_type": "markdown",
   "id": "fluid-native",
   "metadata": {
    "slideshow": {
     "slide_type": "slide"
    }
   },
   "source": [
    "# Visualization in Sylvester\n",
    "## Comparison with other visualization languages\n",
    "### JavaScript\n",
    "````javascript\n",
    "var bound = [-5, 5];\n",
    "var view = board.create('view3d',\n",
    "    [[-6, -3], [8, 8],\n",
    "    [bound, bound, bound]],\n",
    "    {});\n",
    "var p = view.create('point3d', [1, 2, 2], { name:'A', size: 5 });\n",
    "// Lines through 2 points\n",
    "var l1 = view.create('line3d', [[1, 3, 3], [-3, -3, -3]], {point1: {visible: true}, point2: {visible: true} });\n",
    "var l2 = view.create('line3d', [p, l1.point1]);\n",
    "\n",
    "// Line by point, direction, range\n",
    "var l3 = view.create('line3d', [p, [0, 0, 1], [-2, 4]]);\n",
    "````"
   ]
  },
  {
   "cell_type": "markdown",
   "id": "increasing-produce",
   "metadata": {
    "slideshow": {
     "slide_type": "slide"
    }
   },
   "source": [
    "# Visualization in Sylvester\n",
    "## Comparison with other visualization languages\n",
    "### MetaPost\n",
    "````metapost\n",
    "beginfig(196)\n",
    "  vardef trace (suffix f)(expr a,b,inc) =\n",
    "    save i; numeric i;\n",
    "    for i=a step inc until b:\n",
    "      (i*1cm, f(i)*1cm) ..\n",
    "    endfor (b*1cm, f(b)*1cm)\n",
    "  enddef;\n",
    "\n",
    "  vardef axes =\n",
    "    save p; picture p;\n",
    "    p:=nullpicture;\n",
    "    addto p doublepath (-infinity,0)--(infinity,0) withpen currentpen;\n",
    "    addto p doublepath (0,-infinity)--(0,infinity) withpen currentpen;\n",
    "    clip p to bbox currentpicture;\n",
    "    draw p;\n",
    "  enddef;\n",
    "\n",
    "  vardef trace_rectangles_left (suffix f)(expr a,b,inc) =\n",
    "    save i; numeric i;\n",
    "    for i=a step inc until b-inc:\n",
    "      path p;\n",
    "      p = (i,0)--(i+inc,0)--(i+inc,f(i))--(i,f(i))--cycle;\n",
    "      p := p scaled 1cm;\n",
    "      fill p withcolor .8*white;\n",
    "      draw p;\n",
    "    endfor;\n",
    "  enddef;\n",
    "````"
   ]
  },
  {
   "cell_type": "markdown",
   "id": "original-pride",
   "metadata": {
    "slideshow": {
     "slide_type": "slide"
    }
   },
   "source": [
    "# Visualization in Sylvester\n",
    "## Comparison with other visualization languages\n",
    "### Mathematica\n",
    "![img](mathematica.png)"
   ]
  },
  {
   "cell_type": "markdown",
   "id": "reverse-express",
   "metadata": {
    "slideshow": {
     "slide_type": "slide"
    }
   },
   "source": [
    "# More information\n",
    "* https://github.com/allisterb/Sylvester\n",
    "* @allisterbeharry"
   ]
  },
  {
   "cell_type": "markdown",
   "id": "constant-lobby",
   "metadata": {
    "slideshow": {
     "slide_type": "slide"
    }
   },
   "source": [
    "# Sylvester Demo #1 - Solver Operations\n"
   ]
  },
  {
   "cell_type": "code",
   "execution_count": null,
   "id": "earlier-synthesis",
   "metadata": {
    "slideshow": {
     "slide_type": "fragment"
    }
   },
   "outputs": [],
   "source": [
    "open LinearEquations //open linear equations mpdule\n",
    "\n",
    "let t = realvar \"t\" //declare additional symbolic variable\n",
    "\n",
    "//solve 3 variable system using Maxima linear equations solver\n",
    "solve [\n",
    "    2*r - 3*s + 4* t == 2.\n",
    "    3*r - 2*s + t == 0.\n",
    "    r + s - t == -1.\n",
    "]"
   ]
  },
  {
   "cell_type": "code",
   "execution_count": null,
   "id": "remarkable-breath",
   "metadata": {
    "slideshow": {
     "slide_type": "fragment"
    }
   },
   "outputs": [],
   "source": [
    "let z3sol = new Z3Solver() //create a Z3 solver instance\n",
    "\n",
    "maximize z3sol [2*(r + s) == 100.] (r*s) //Maximize the area of a rectangle with the constraint the perimeter is 100"
   ]
  },
  {
   "cell_type": "code",
   "execution_count": null,
   "id": "caring-bloom",
   "metadata": {
    "slideshow": {
     "slide_type": "fragment"
    }
   },
   "outputs": [],
   "source": [
    "maximize z3sol [\n",
    "                2*(r + s) == 100. \n",
    "                r == 5. \n",
    "                s <+ 50. // less-than operator\n",
    "                ] (r*s) //Maximize the same objective function as above with some additional constraints"
   ]
  },
  {
   "cell_type": "markdown",
   "id": "constitutional-roads",
   "metadata": {
    "slideshow": {
     "slide_type": "slide"
    }
   },
   "source": [
    "# Sylvester Demo #1 - Theorems"
   ]
  },
  {
   "cell_type": "code",
   "execution_count": null,
   "id": "simplified-arrangement",
   "metadata": {
    "slideshow": {
     "slide_type": "fragment"
    }
   },
   "outputs": [],
   "source": [
    "// Open module containing Sylvester theory of real numbers\n",
    "open RealNumbers\n",
    "\n",
    "// We use the (==) operator to denote mathematical or logical equality vs. standard F# (=) for value or reference equality \n",
    "// e.g these are two different symbolic expressions\n",
    "r + s = s + r "
   ]
  },
  {
   "cell_type": "code",
   "execution_count": null,
   "id": "accessory-tourist",
   "metadata": {
    "slideshow": {
     "slide_type": "fragment"
    }
   },
   "outputs": [],
   "source": [
    "// but in the theory of real numbers they are equal due to the axiom of commutativity\n",
    "real_numbers |- (r + s == s + r)"
   ]
  },
  {
   "cell_type": "code",
   "execution_count": null,
   "id": "olympic-covering",
   "metadata": {
    "slideshow": {
     "slide_type": "fragment"
    }
   },
   "outputs": [],
   "source": [
    "theorem real_numbers (r + s == s + r) []"
   ]
  },
  {
   "cell_type": "code",
   "execution_count": null,
   "id": "vanilla-inspiration",
   "metadata": {
    "slideshow": {
     "slide_type": "slide"
    }
   },
   "outputs": [],
   "source": [
    "// In ML-style proof assistants, theorem can't be constructed from incomplete proof\n",
    "theorem real_numbers ((r + s) * 2 == (2 * r + 2 * s)) []"
   ]
  },
  {
   "cell_type": "code",
   "execution_count": null,
   "id": "cognitive-hurricane",
   "metadata": {
    "slideshow": {
     "slide_type": "fragment"
    }
   },
   "outputs": [],
   "source": [
    "// We need to supply a proof to show the formula is true for real numbers\n",
    "theorem real_numbers ((r + s) * 2 == (2 * r + 2 * s)) [\n",
    "    apply_left commute_mul  \n",
    "]"
   ]
  }
 ],
 "metadata": {
  "celltoolbar": "Slideshow",
  "kernelspec": {
   "display_name": ".NET (F#)",
   "language": "F#",
   "name": ".net-fsharp"
  },
  "language": "fsharp",
  "language_info": {
   "file_extension": ".fs",
   "mimetype": "text/x-fsharp",
   "name": "F#",
   "pygments_lexer": "fsharp",
   "version": "8.0"
  },
  "rise": {
   "overlay": "<div class='myheader'><img src='https://jsxgraph.org/conf2023/images/jsxgraph_logo.png' style='width:80px;height:51px'/><b>JSXGRAPH CONF '23</b>&nbsp;&nbsp;&nbsp;Using JSXGraph from F#: A functional visualization EDSL for end-users</center></div>",
   "theme": "simple"
  }
 },
 "nbformat": 4,
 "nbformat_minor": 5
}
