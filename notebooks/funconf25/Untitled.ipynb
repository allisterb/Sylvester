{
 "cells": [
  {
   "cell_type": "code",
   "execution_count": 1,
   "id": "distinct-screw",
   "metadata": {},
   "outputs": [
    {
     "data": {
      "text/html": [
       "\r\n",
       "<div>\r\n",
       "    <div id='dotnet-interactive-this-cell-39588.Microsoft.DotNet.Interactive.Http.HttpPort' style='display: none'>\r\n",
       "        The below script needs to be able to find the current output cell; this is an easy method to get it.\r\n",
       "    </div>\r\n",
       "    <script type='text/javascript'>\r\n",
       "async function probeAddresses(probingAddresses) {\r\n",
       "    function timeout(ms, promise) {\r\n",
       "        return new Promise(function (resolve, reject) {\r\n",
       "            setTimeout(function () {\r\n",
       "                reject(new Error('timeout'))\r\n",
       "            }, ms)\r\n",
       "            promise.then(resolve, reject)\r\n",
       "        })\r\n",
       "    }\r\n",
       "\r\n",
       "    if (Array.isArray(probingAddresses)) {\r\n",
       "        for (let i = 0; i < probingAddresses.length; i++) {\r\n",
       "\r\n",
       "            let rootUrl = probingAddresses[i];\r\n",
       "\r\n",
       "            if (!rootUrl.endsWith('/')) {\r\n",
       "                rootUrl = `${rootUrl}/`;\r\n",
       "            }\r\n",
       "\r\n",
       "            try {\r\n",
       "                let response = await timeout(1000, fetch(`${rootUrl}discovery`, {\r\n",
       "                    method: 'POST',\r\n",
       "                    cache: 'no-cache',\r\n",
       "                    mode: 'cors',\r\n",
       "                    timeout: 1000,\r\n",
       "                    headers: {\r\n",
       "                        'Content-Type': 'text/plain'\r\n",
       "                    },\r\n",
       "                    body: probingAddresses[i]\r\n",
       "                }));\r\n",
       "\r\n",
       "                if (response.status == 200) {\r\n",
       "                    return rootUrl;\r\n",
       "                }\r\n",
       "            }\r\n",
       "            catch (e) { }\r\n",
       "        }\r\n",
       "    }\r\n",
       "}\r\n",
       "\r\n",
       "function loadDotnetInteractiveApi() {\r\n",
       "    probeAddresses([\"http://192.168.56.1:1000/\", \"http://192.168.169.1:1000/\", \"http://192.168.128.1:1000/\", \"http://192.168.8.190:1000/\", \"http://127.0.0.1:1000/\"])\r\n",
       "        .then((root) => {\r\n",
       "        // use probing to find host url and api resources\r\n",
       "        // load interactive helpers and language services\r\n",
       "        let dotnetInteractiveRequire = require.config({\r\n",
       "        context: '39588.Microsoft.DotNet.Interactive.Http.HttpPort',\r\n",
       "                paths:\r\n",
       "            {\r\n",
       "                'dotnet-interactive': `${root}resources`\r\n",
       "                }\r\n",
       "        }) || require;\r\n",
       "\r\n",
       "            window.dotnetInteractiveRequire = dotnetInteractiveRequire;\r\n",
       "\r\n",
       "            window.configureRequireFromExtension = function(extensionName, extensionCacheBuster) {\r\n",
       "                let paths = {};\r\n",
       "                paths[extensionName] = `${root}extensions/${extensionName}/resources/`;\r\n",
       "                \r\n",
       "                let internalRequire = require.config({\r\n",
       "                    context: extensionCacheBuster,\r\n",
       "                    paths: paths,\r\n",
       "                    urlArgs: `cacheBuster=${extensionCacheBuster}`\r\n",
       "                    }) || require;\r\n",
       "\r\n",
       "                return internalRequire\r\n",
       "            };\r\n",
       "        \r\n",
       "            dotnetInteractiveRequire([\r\n",
       "                    'dotnet-interactive/dotnet-interactive'\r\n",
       "                ],\r\n",
       "                function (dotnet) {\r\n",
       "                    dotnet.init(window);\r\n",
       "                },\r\n",
       "                function (error) {\r\n",
       "                    console.log(error);\r\n",
       "                }\r\n",
       "            );\r\n",
       "        })\r\n",
       "        .catch(error => {console.log(error);});\r\n",
       "    }\r\n",
       "\r\n",
       "// ensure `require` is available globally\r\n",
       "if ((typeof(require) !==  typeof(Function)) || (typeof(require.config) !== typeof(Function))) {\r\n",
       "    let require_script = document.createElement('script');\r\n",
       "    require_script.setAttribute('src', 'https://cdnjs.cloudflare.com/ajax/libs/require.js/2.3.6/require.min.js');\r\n",
       "    require_script.setAttribute('type', 'text/javascript');\r\n",
       "    \r\n",
       "    \r\n",
       "    require_script.onload = function() {\r\n",
       "        loadDotnetInteractiveApi();\r\n",
       "    };\r\n",
       "\r\n",
       "    document.getElementsByTagName('head')[0].appendChild(require_script);\r\n",
       "}\r\n",
       "else {\r\n",
       "    loadDotnetInteractiveApi();\r\n",
       "}\r\n",
       "\r\n",
       "    </script>\r\n",
       "</div>"
      ]
     },
     "metadata": {},
     "output_type": "display_data"
    }
   ],
   "source": [
    "#load \"Include.fsx\""
   ]
  },
  {
   "cell_type": "code",
   "execution_count": 2,
   "id": "august-beverage",
   "metadata": {},
   "outputs": [],
   "source": [
    "open Sylvester\n",
    "open RealNumbers\n",
    "open System"
   ]
  },
  {
   "cell_type": "code",
   "execution_count": 3,
   "id": "stupid-mystery",
   "metadata": {},
   "outputs": [
    {
     "name": "stdout",
     "output_type": "stream",
     "text": [
      "Using default console logger.\n",
      "Process cmd started with pid 33288.\n"
     ]
    }
   ],
   "source": [
    "do CAS.Maxima.init \"C:\\\\MathTools\\\\maxima-5.44.0\\\\bin\\\\maxima.bat\""
   ]
  },
  {
   "cell_type": "code",
   "execution_count": 21,
   "id": "changed-observer",
   "metadata": {},
   "outputs": [],
   "source": [
    "open Microsoft.DotNet.Interactive.Formatting\n",
    "do Formatter.Register<IHtmlDisplay>((fun (hd:IHtmlDisplay) -> hd.Html()),  \"text/html\")\n",
    "do Formatter.Register<Sylvester.Html>((fun (h) -> h.ToString()),  \"text/html\")"
   ]
  },
  {
   "cell_type": "code",
   "execution_count": 17,
   "id": "metallic-prospect",
   "metadata": {},
   "outputs": [
    {
     "data": {
      "text/html": [
       "$$f(x) = x^{3} + 1$$"
      ]
     },
     "execution_count": 17,
     "metadata": {},
     "output_type": "execute_result"
    }
   ],
   "source": [
    "let x = realvar \"x\"\n",
    "let f = realfun \"f\" (x *** 3 + 1)\n",
    "let d = f[0] + f[x]\n",
    "f"
   ]
  },
  {
   "cell_type": "code",
   "execution_count": null,
   "id": "alternative-disney",
   "metadata": {},
   "outputs": [],
   "source": [
    "CAS.Maxima.last_output 10"
   ]
  },
  {
   "cell_type": "code",
   "execution_count": 25,
   "id": "generous-macedonia",
   "metadata": {},
   "outputs": [
    {
     "data": {
      "text/html": [
       "<div>\r\n",
       " <div id=\"b4c69d8e-e910-41c0-82e3-2c6fe9028f42\" class=\"jxgbox\" style=\"width:100%;height:640px\"></div>\r\n",
       " <script>require(['https://cdn.jsdelivr.net/npm/jsxgraph/distrib/jsxgraphcore.js'], function(JXG) {\n",
       "JXG.Options.text.useMathJax = true;\n",
       "var MathJS__Pow$;\r\n",
       "MathJS__Pow$ = (function(x,y)\r\n",
       "{\r\n",
       "    return Math.pow(x, y);;\r\n",
       "});\r\n",
       "var boundingbox = [(0.000000 - ((10.000000 - 0.000000) / 10.000000)), (1001.000000 + ((1001.000000 - 1.000000) / 10.000000)), (10.000000 + (10.000000 / 10.000000)), (1.000000 - (1001.000000 / 10.000000))];\r\n",
       "var showNavigation = true;\r\n",
       "var showCopyright = false;\r\n",
       "var keepAspectRatio = false;\r\n",
       "var name = \"X\";\r\n",
       "var withLabel = true;\r\n",
       "var position = \"rt\";\r\n",
       "var offset = [-300, -40];\r\n",
       "var _name = \"Y\";\r\n",
       "var _withLabel = true;\r\n",
       "var _position = \"rt\";\r\n",
       "var rotate = 90;\r\n",
       "var _offset = [-40, -300];\r\n",
       "var b = JXG.JSXGraph.initBoard(\"b4c69d8e-e910-41c0-82e3-2c6fe9028f42\", {axis: true, boundingbox: boundingbox, defaultAxes: {x: {label: {anchorX: \"middle\", offset: offset, position: position}, name: name, withLabel: withLabel}, y: {label: {anchorX: \"middle\", offset: _offset, position: _position, rotate: rotate}, name: _name, withLabel: _withLabel}}, keepAspectRatio: keepAspectRatio, showCopyright: showCopyright, showNavigation: showNavigation});\r\n",
       "var strokeColor = \"blue\";\r\n",
       "var strokeWidth = 1;\r\n",
       "var __withLabel = true;\r\n",
       "var fg = b.create('functiongraph', [(function(x)\r\n",
       "{\r\n",
       "    return (MathJS__Pow$(x, 3.000000) + 1.000000);\r\n",
       "}), 0.000000, 10.000000], {name: \"$$f(x) = x^{3} + 1$$\", strokeColor: strokeColor, strokeWidth: strokeWidth, withLabel: __withLabel});\r\n",
       "var t = b.create('text', [((10.000000 - 0.000000) * 0.500000), (1001.000000 - ((1001.000000 - 1.000000) / 10.000000)), \"\"], {fontSize: 24});\r\n",
       "b});</script>\r\n",
       "</div>\r\n"
      ]
     },
     "execution_count": 25,
     "metadata": {},
     "output_type": "execute_result"
    }
   ],
   "source": [
    "let graph = \n",
    "    {|\n",
    "        xtitle=\"quantity\"\n",
    "        ytitle=\"price\"\n",
    "        strokeColor2=red\n",
    "        strokeWidth=3\n",
    "        title=\"Worldwide Coffee Supply\" \n",
    "    |} in\n",
    "draw graph f"
   ]
  },
  {
   "cell_type": "code",
   "execution_count": null,
   "id": "presidential-german",
   "metadata": {},
   "outputs": [],
   "source": []
  }
 ],
 "metadata": {
  "kernelspec": {
   "display_name": ".NET (F#)",
   "language": "F#",
   "name": ".net-fsharp"
  },
  "language_info": {
   "file_extension": ".fs",
   "mimetype": "text/x-fsharp",
   "name": "F#",
   "pygments_lexer": "fsharp",
   "version": "8.0"
  }
 },
 "nbformat": 4,
 "nbformat_minor": 5
}
