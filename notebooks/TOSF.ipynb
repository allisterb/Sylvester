{
 "cells": [
  {
   "cell_type": "markdown",
   "id": "ultimate-anthony",
   "metadata": {},
   "source": [
    "# Sylvester: Unified, typed, notation for symbolic mathematics and proofs"
   ]
  },
  {
   "cell_type": "code",
   "execution_count": 1,
   "id": "thorough-optimum",
   "metadata": {},
   "outputs": [],
   "source": [
    "/// Load Sylvester math libraries and open namespaces\n",
    "#load \"MathInclude.fsx\"\n",
    "open Sylvester"
   ]
  },
  {
   "cell_type": "code",
   "execution_count": 2,
   "id": "guilty-geology",
   "metadata": {},
   "outputs": [],
   "source": [
    "// Open Z3 module and create instance of solver\n",
    "open Z3\n",
    "let z3 = new Z3Solver()"
   ]
  },
  {
   "cell_type": "markdown",
   "id": "steady-designer",
   "metadata": {},
   "source": [
    "## Sets"
   ]
  },
  {
   "cell_type": "code",
   "execution_count": 3,
   "id": "assumed-employment",
   "metadata": {},
   "outputs": [
    {
     "data": {
      "text/plain": [
       "true"
      ]
     },
     "execution_count": 3,
     "metadata": {},
     "output_type": "execute_result"
    }
   ],
   "source": [
    "// Declare 2 set variables\n",
    "let A, B = var2'<Set<obj>> \"A\" \"B\"\n",
    "\n",
    "// Check satisfiabilty of simple set formula\n",
    "check_sat z3 <@[ %A |+| %B = (%B |+| %A) ]@>"
   ]
  },
  {
   "cell_type": "code",
   "execution_count": 4,
   "id": "worthy-pressing",
   "metadata": {},
   "outputs": [],
   "source": [
    "let p = set_pred <@ fun x -> x > 2 @>"
   ]
  },
  {
   "cell_type": "code",
   "execution_count": 5,
   "id": "equal-newfoundland",
   "metadata": {},
   "outputs": [
    {
     "data": {
      "text/plain": [
       "Set {x|x > 2:x}"
      ]
     },
     "execution_count": 5,
     "metadata": {},
     "output_type": "execute_result"
    }
   ],
   "source": [
    "p"
   ]
  },
  {
   "cell_type": "code",
   "execution_count": 6,
   "id": "artificial-census",
   "metadata": {},
   "outputs": [
    {
     "data": {
      "text/plain": [
       "Aleph 0"
      ]
     },
     "execution_count": 6,
     "metadata": {},
     "output_type": "execute_result"
    }
   ],
   "source": [
    "card p"
   ]
  },
  {
   "cell_type": "code",
   "execution_count": null,
   "id": "referenced-contest",
   "metadata": {},
   "outputs": [],
   "source": []
  }
 ],
 "metadata": {
  "kernelspec": {
   "display_name": "F#",
   "language": "fsharp",
   "name": "ifsharp"
  },
  "language": "fsharp",
  "language_info": {
   "codemirror_mode": "",
   "file_extension": ".fs",
   "mimetype": "text/x-fsharp",
   "name": "fsharp",
   "nbconvert_exporter": "",
   "pygments_lexer": "",
   "version": "4.3.1.0"
  }
 },
 "nbformat": 4,
 "nbformat_minor": 5
}
