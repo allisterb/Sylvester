{
  "metadata": {
    "kernelspec": {
      "name": "ifsharp",
      "display_name": "F#",
      "language": "fsharp"
    },
    "language_info": {
      "mimetype": "text/x-fsharp",
      "nbconvert_exporter": "",
      "name": "fsharp",
      "pygments_lexer": "",
      "version": "4.3.1.0",
      "file_extension": ".fs",
      "codemirror_mode": ""
    },
    "language": "fsharp"
  },
  "nbformat_minor": 2,
  "nbformat": 4,
  "cells": [
    {
      "cell_type": "markdown",
      "source": "### F# Linear algebra with type-level dimensions and static checks\n\nThis notebook demonstrates the core features of the [Sylvester.Tensors](https://www.nuget.org/packages/Sylvester.Tensors/) library for linear algebra in F#. This library  [implements](https://github.com/allisterb/Sylvester/tree/master/src/Base/Sylvester.Tensors) a [lightweight](http://okmij.org/ftp/Computation/lightweight-dependent-typing.html) or restricted form of dependent typing for vectors and matrices similar to [DependentML](https://docs.google.com/viewer?url=http%3A%2F%2Fwww.cs.bu.edu%2Ffac%2Fhwxi%2Facademic%2Fpapers%2FJFPdml.ps) where the dimension sizes are part of the linear algebra types and linear algebra operations can be type-checked at compile time when the dimensions of the objects are statically known. The numeric dimension sizes are represented by typed natural numbers as implemented by the [Sylvester.Arithmetic](https://notebooks.azure.com/allisterb/projects/sylvester/html/Sylvester.Arithmetic.ipynb) package.\n\nSylvester goes beyond DependentML and type-level arithmetic in languages like C++ in that it supports arithmetic operations like +, -, *, < and > on natural number dimensions with the types depending on the values as an integrated part of the F# code and not simply as compiler checks or static asserts.\n\nSylvester is implemented as a user-space library for plain-vanilla F# and does not require any changes or extensions to the existing F# toolchains or IDEs.",
      "metadata": {}
    },
    {
      "cell_type": "code",
      "source": "// Use the Sylvester.Tensors package from NuGet\n#load \"Paket.fsx\"\nPaket.Package[\"Sylvester.Tensors\"] \n#load \"Paket.Generated.Refs.fsx\"\n\nopen Sylvester.Arithmetic\nopen Sylvester.Arithmetic.N10\nopen Sylvester.Tensors\n",
      "metadata": {
        "trusted": true
      },
      "execution_count": 1,
      "outputs": []
    },
    {
      "cell_type": "code",
      "source": "// Create a vector of length 5 using numeric values\nlet v5 = vnew five 4.\n\nv5",
      "metadata": {
        "trusted": true
      },
      "execution_count": 2,
      "outputs": [
        {
          "execution_count": 2,
          "output_type": "execute_result",
          "data": {
            "text/plain": "[|4.0; 4.0; 4.0; 4.0; 4.0|]"
          },
          "metadata": {}
        }
      ]
    },
    {
      "cell_type": "code",
      "source": "// The length of the vector is a typed represention of the number 5\nv5.Length",
      "metadata": {
        "trusted": true
      },
      "execution_count": 5,
      "outputs": [
        {
          "output_type": "execute_result",
          "execution_count": 5,
          "data": {
            "text/plain": "N<5UL>"
          },
          "metadata": {}
        }
      ]
    },
    {
      "cell_type": "code",
      "source": "v5.Length.GetType()",
      "metadata": {
        "trusted": true
      },
      "execution_count": 6,
      "outputs": [
        {
          "output_type": "execute_result",
          "execution_count": 6,
          "data": {
            "text/plain": "Sylvester.Arithmetic.N10+N10`10[Sylvester.Arithmetic.Base10+0,Sylvester.Arithmetic.Base10+0,Sylvester.Arithmetic.Base10+0,Sylvester.Arithmetic.Base10+0,Sylvester.Arithmetic.Base10+0,Sylvester.Arithmetic.Base10+0,Sylvester.Arithmetic.Base10+0,Sylvester.Arithmetic.Base10+0,Sylvester.Arithmetic.Base10+0,Sylvester.Arithmetic.Base10+5]"
          },
          "metadata": {}
        }
      ]
    },
    {
      "cell_type": "code",
      "source": "// The length of the vector is also part of the type\nv5.GetType()",
      "metadata": {
        "trusted": true
      },
      "execution_count": 3,
      "outputs": [
        {
          "output_type": "execute_result",
          "execution_count": 3,
          "data": {
            "text/plain": "Sylvester.Tensors.Vector`11[System.Double,Sylvester.Arithmetic.Base10+0,Sylvester.Arithmetic.Base10+0,Sylvester.Arithmetic.Base10+0,Sylvester.Arithmetic.Base10+0,Sylvester.Arithmetic.Base10+0,Sylvester.Arithmetic.Base10+0,Sylvester.Arithmetic.Base10+0,Sylvester.Arithmetic.Base10+0,Sylvester.Arithmetic.Base10+0,Sylvester.Arithmetic.Base10+5]"
          },
          "metadata": {}
        }
      ]
    },
    {
      "cell_type": "code",
      "source": "//Type-level arithmetic and comparisons can be done on vector dimensions\n\nlet v100 = Vec<100>.One\nv100.Length + v5.Length",
      "metadata": {
        "trusted": true
      },
      "execution_count": 7,
      "outputs": [
        {
          "output_type": "execute_result",
          "execution_count": 7,
          "data": {
            "text/plain": "N<105UL>"
          },
          "metadata": {}
        }
      ]
    },
    {
      "cell_type": "code",
      "source": "// Comparisons return a type that depends on the truth valule\n\nv5.Length +< v100.Length ",
      "metadata": {
        "trusted": true
      },
      "execution_count": 8,
      "outputs": [
        {
          "output_type": "execute_result",
          "execution_count": 8,
          "data": {
            "text/plain": "Sylvester.Arithmetic.Bool+True"
          },
          "metadata": {}
        }
      ]
    },
    {
      "cell_type": "markdown",
      "source": "Vectors are created by specifying the numeric length as part of the type constructor",
      "metadata": {}
    },
    {
      "cell_type": "code",
      "source": "// Create a vector of length 200 using the type constructor directly\nlet v200 = Vec<200>.Rand\n\n// Slice into the vector\nv200.[zero..ten]",
      "metadata": {
        "trusted": true
      },
      "execution_count": 9,
      "outputs": [
        {
          "output_type": "execute_result",
          "execution_count": 9,
          "data": {
            "text/plain": "[|-0.838164747f; 1.87499917f; 0.282451719f; 0.743668854f; 0.435418487f;\n  0.087264441f; -0.0183284041f; -1.54692781f; 0.295925856f; -0.106470205f;\n  1.19590199f|]"
          },
          "metadata": {}
        }
      ]
    },
    {
      "cell_type": "markdown",
      "source": "Vectors are indexed using numeric values which are type-checked at compile-time",
      "metadata": {}
    },
    {
      "cell_type": "code",
      "source": "let t1 =v5.[zero]\nlet t2 = v5.[four]\nt1 + t2",
      "metadata": {
        "trusted": true
      },
      "execution_count": 10,
      "outputs": [
        {
          "output_type": "execute_result",
          "execution_count": 10,
          "data": {
            "text/plain": "8.0"
          },
          "metadata": {}
        }
      ]
    },
    {
      "cell_type": "markdown",
      "source": "Indices outside the vector bounds are rejected by the F# type-checker",
      "metadata": {}
    },
    {
      "cell_type": "code",
      "source": "v200.[three * hundred + four]",
      "metadata": {
        "scrolled": true,
        "trusted": true
      },
      "execution_count": 11,
      "outputs": [
        {
          "output_type": "stream",
          "text": "This expression was expected to have type\n    'IndexInRange<N10<0,0,0,0,0,0,0,2,0,0>>'    \nbut here has type\n    'IndexOutOfRange<N10<0,0,0,0,0,0,0,2,0,0>>'    \nThis expression was expected to have type\n    'IndexInRange<N10<0,0,0,0,0,0,0,2,0,0>>'    \nbut here has type\n    'IndexOutOfRange<N10<0,0,0,0,0,0,0,2,0,0>>'    ",
          "name": "stderr"
        }
      ]
    },
    {
      "cell_type": "markdown",
      "source": "Vectors are sliced using the standard F# operator with the same static checking of indices",
      "metadata": {}
    },
    {
      "cell_type": "code",
      "source": "let t3 = v200.[ten..ten * three]\nt3",
      "metadata": {
        "trusted": true
      },
      "execution_count": 12,
      "outputs": [
        {
          "output_type": "execute_result",
          "execution_count": 12,
          "data": {
            "text/plain": "[|1.19590199f; -1.58271408f; 1.41719878f; -1.54665208f; -0.291435868f;\n  -1.30298865f; -0.651789844f; 1.37424183f; -0.703540027f; 0.502432466f;\n  -0.125760898f; 1.44379103f; 2.74988484f; -0.97069031f; -0.582644343f;\n  2.3340435f; -0.617864966f; 0.659665227f; 0.130877927f; 1.60909975f;\n  -0.616045773f|]"
          },
          "metadata": {}
        }
      ]
    },
    {
      "cell_type": "code",
      "source": "v200.[N<50>.i..N<201>.i]",
      "metadata": {
        "trusted": true
      },
      "execution_count": 13,
      "outputs": [
        {
          "output_type": "stream",
          "text": "This expression was expected to have type\n    'IndexInRange<N10<0,0,0,0,0,0,0,2,0,0>>'    \nbut here has type\n    'IndexOutOfRange<N10<0,0,0,0,0,0,0,2,0,0>>'    \nThis expression was expected to have type\n    'IndexInRange<N10<0,0,0,0,0,0,0,2,0,0>>'    \nbut here has type\n    'IndexOutOfRange<N10<0,0,0,0,0,0,0,2,0,0>>'    ",
          "name": "stderr"
        }
      ]
    },
    {
      "cell_type": "code",
      "source": "t3.Length",
      "metadata": {
        "trusted": true
      },
      "execution_count": 11,
      "outputs": [
        {
          "output_type": "execute_result",
          "execution_count": 11,
          "data": {
            "text/plain": "N<21UL>"
          },
          "metadata": {}
        }
      ]
    },
    {
      "cell_type": "markdown",
      "source": "Different vectors are added and subtracted with static checks on their length at compile time.",
      "metadata": {
        "trusted": true
      }
    },
    {
      "cell_type": "code",
      "source": "// Create another vector of length 200\nlet v200b = vrand (two * hundred)\n\n//Add them\nv200 + v200b",
      "metadata": {
        "trusted": true
      },
      "execution_count": 12,
      "outputs": [
        {
          "output_type": "execute_result",
          "execution_count": 12,
          "data": {
            "text/plain": "[|0.0f; 0.0f; 0.0f; 0.0f; 0.0f; 0.0f; 0.0f; 0.0f; 0.0f; 0.0f; 0.0f; 0.0f; 0.0f;\n  0.0f; 0.0f; 0.0f; 0.0f; 0.0f; 0.0f; 0.0f; 0.0f; 0.0f; 0.0f; 0.0f; 0.0f; 0.0f;\n  0.0f; 0.0f; 0.0f; 0.0f; 0.0f; 0.0f; 0.0f; 0.0f; 0.0f; 0.0f; 0.0f; 0.0f; 0.0f;\n  0.0f; 0.0f; 0.0f; 0.0f; 0.0f; 0.0f; 0.0f; 0.0f; 0.0f; 0.0f; 0.0f; 0.0f; 0.0f;\n  0.0f; 0.0f; 0.0f; 0.0f; 0.0f; 0.0f; 0.0f; 0.0f; 0.0f; 0.0f; 0.0f; 0.0f; 0.0f;\n  0.0f; 0.0f; 0.0f; 0.0f; 0.0f; 0.0f; 0.0f; 0.0f; 0.0f; 0.0f; 0.0f; 0.0f; 0.0f;\n  0.0f; 0.0f; 0.0f; 0.0f; 0.0f; 0.0f; 0.0f; 0.0f; 0.0f; 0.0f; 0.0f; 0.0f; 0.0f;\n  0.0f; 0.0f; 0.0f; 0.0f; 0.0f; 0.0f; 0.0f; 0.0f; 0.0f; ...|]"
          },
          "metadata": {}
        }
      ]
    },
    {
      "cell_type": "code",
      "source": "// Adding vectors of different lengths is rejected by the type checker\nv5 + v200",
      "metadata": {
        "trusted": true
      },
      "execution_count": 13,
      "outputs": [
        {
          "output_type": "stream",
          "text": "Type constraint mismatch. The type \n    'Vector<float32,0,0,0,0,0,0,0,2,0,0>'    \nis not compatible with type\n    'Vector<float,0,0,0,0,0,0,0,0,0,5>'    \n",
          "name": "stderr"
        }
      ]
    },
    {
      "cell_type": "markdown",
      "source": "Numeric vector operations are currently  by the [Math.NET Numerics](https://numerics.mathdotnet.com/) library. Other linear algebra and numerical computing libraries can be plugged in relatively easily.  Sylvester.Tensors provides a strongly typed interface to the numeric vector and matrix functions provided by the underlying numeric library.",
      "metadata": {}
    },
    {
      "cell_type": "code",
      "source": "// Calculate the L2 norm\nvnorm v200",
      "metadata": {
        "trusted": true
      },
      "execution_count": 14,
      "outputs": [
        {
          "output_type": "execute_result",
          "execution_count": 14,
          "data": {
            "text/plain": "14.21167469"
          },
          "metadata": {}
        }
      ]
    },
    {
      "cell_type": "code",
      "source": "// Calculate  the vector dot product\nv200 * v200b\n",
      "metadata": {
        "trusted": true
      },
      "execution_count": 15,
      "outputs": [
        {
          "output_type": "execute_result",
          "execution_count": 15,
          "data": {
            "text/plain": "-12.954319f"
          },
          "metadata": {}
        }
      ]
    },
    {
      "cell_type": "code",
      "source": "// Can't take dot product of two different-sized vectors\nv200 * v5",
      "metadata": {
        "trusted": true
      },
      "execution_count": 16,
      "outputs": [
        {
          "output_type": "stream",
          "text": "No overloads match for method 'op_Multiply'. The available overloads are shown below.\nPossible overload: 'static member Vector.( * ) : l:Vector<'t,'d10,'d9,'d8,'d7,'d6,'d5,'d4,'d3,'d2,'d1> * r:Vector<'t,'d10,'d9,'d8,'d7,'d6,'d5,'d4,'d3,'d2,'d1> -> Scalar<'t>'. Type constraint mismatch. The type \n    'Vector<float,0,0,0,0,0,0,0,0,0,5>'    \nis not compatible with type\n    'Vector<float32,0,0,0,0,0,0,0,2,0,0>'    \n.\nPossible overload: 'static member Vector.( * ) : l:Scalar<'t> * r:Vector<'t,'d10,'d9,'d8,'d7,'d6,'d5,'d4,'d3,'d2,'d1> -> Vector<'t,'d10,'d9,'d8,'d7,'d6,'d5,'d4,'d3,'d2,'d1>'. Type constraint mismatch. The type \n    'Vector<float32,0,0,0,0,0,0,0,2,0,0>'    \nis not compatible with type\n    'Scalar<float32>'    \n.\nPossible overload: 'static member Vector.( * ) : l:Vector<'t,'d10,'d9,'d8,'d7,'d6,'d5,'d4,'d3,'d2,'d1> * r:Scalar<'t> -> Vector<'t,'d10,'d9,'d8,'d7,'d6,'d5,'d4,'d3,'d2,'d1>'. Type constraint mismatch. The type \n    'Vector<float,0,0,0,0,0,0,0,0,0,5>'    \nis not compatible with type\n    'Scalar<float32>'    \n.",
          "name": "stderr"
        }
      ]
    },
    {
      "cell_type": "markdown",
      "source": "Matrices follow the same pattern of their dimensions being part of the type.",
      "metadata": {}
    },
    {
      "cell_type": "code",
      "source": "let m55 = Mat<5,5>.Rand\nm55",
      "metadata": {
        "trusted": true
      },
      "execution_count": 17,
      "outputs": [
        {
          "output_type": "execute_result",
          "execution_count": 17,
          "data": {
            "text/plain": "[[-0.487606198f; 0.745579898f; -0.933831692f; 0.112171277f; 1.66646445f]\n [1.30369973f; 0.278006196f; -0.312252492f; -0.767737031f; -1.16760206f]\n [1.38518989f; 0.791246653f; -0.41266802f; -0.88892132f; -0.654512525f]\n [0.79748261f; -1.40638423f; -0.999523878f; -0.339904487f; 1.58612609f]\n [-1.3023963f; -0.820370972f; -0.107678078f; 0.0344800502f; -0.34730041f]]"
          },
          "metadata": {}
        }
      ]
    },
    {
      "cell_type": "code",
      "source": "//Use values directly\nlet m86 = mnew eight six 4.\nm86",
      "metadata": {
        "trusted": true
      },
      "execution_count": 18,
      "outputs": [
        {
          "output_type": "execute_result",
          "execution_count": 18,
          "data": {
            "text/plain": "[[4.0; 4.0; 4.0; 4.0; 4.0; 4.0]\n [4.0; 4.0; 4.0; 4.0; 4.0; 4.0]\n [4.0; 4.0; 4.0; 4.0; 4.0; 4.0]\n [4.0; 4.0; 4.0; 4.0; 4.0; 4.0]\n [4.0; 4.0; 4.0; 4.0; 4.0; 4.0]\n [4.0; 4.0; 4.0; 4.0; 4.0; 4.0]\n [4.0; 4.0; 4.0; 4.0; 4.0; 4.0]\n [4.0; 4.0; 4.0; 4.0; 4.0; 4.0]]"
          },
          "metadata": {}
        }
      ]
    },
    {
      "cell_type": "code",
      "source": "let m99 = Mat<9, 9>.One\nm99",
      "metadata": {
        "trusted": true
      },
      "execution_count": 19,
      "outputs": [
        {
          "output_type": "execute_result",
          "execution_count": 19,
          "data": {
            "text/plain": "[[1.0f; 1.0f; 1.0f; 1.0f; 1.0f; 1.0f; 1.0f; 1.0f; 1.0f]\n [1.0f; 1.0f; 1.0f; 1.0f; 1.0f; 1.0f; 1.0f; 1.0f; 1.0f]\n [1.0f; 1.0f; 1.0f; 1.0f; 1.0f; 1.0f; 1.0f; 1.0f; 1.0f]\n [1.0f; 1.0f; 1.0f; 1.0f; 1.0f; 1.0f; 1.0f; 1.0f; 1.0f]\n [1.0f; 1.0f; 1.0f; 1.0f; 1.0f; 1.0f; 1.0f; 1.0f; 1.0f]\n [1.0f; 1.0f; 1.0f; 1.0f; 1.0f; 1.0f; 1.0f; 1.0f; 1.0f]\n [1.0f; 1.0f; 1.0f; 1.0f; 1.0f; 1.0f; 1.0f; 1.0f; 1.0f]\n [1.0f; 1.0f; 1.0f; 1.0f; 1.0f; 1.0f; 1.0f; 1.0f; 1.0f]\n [1.0f; 1.0f; 1.0f; 1.0f; 1.0f; 1.0f; 1.0f; 1.0f; 1.0f]]"
          },
          "metadata": {}
        }
      ]
    },
    {
      "cell_type": "markdown",
      "source": "Matrix operations type-checked for conformable matrices and  vectors",
      "metadata": {}
    },
    {
      "cell_type": "code",
      "source": "// Multiply two non-conformable matrices\nm99 * m55",
      "metadata": {
        "trusted": true
      },
      "execution_count": 35,
      "outputs": [
        {
          "output_type": "stream",
          "text": "No overloads match for method 'op_Multiply'. The available overloads are shown below.\nPossible overload: 'static member Matrix.( * ) : l:Matrix<'t,'ld10,'ld9,'ld8,'ld7,'ld6,'ld5,'ld4,'ld3,'ld2,'ld1,'le10,'le9,'le8,'le7,'le6,'le5,'le4,'le3,'le2,'le1> * r:Matrix<'t,'le10,'le9,'le8,'le7,'le6,'le5,'le4,'le3,'le2,'le1,'rd10,'rd9,'rd8,'rd7,'rd6,'rd5,'rd4,'rd3,'rd2,'rd1> -> Matrix<'t,'ld10,'ld9,'ld8,'ld7,'ld6,'ld5,'ld4,'ld3,'ld2,'ld1,'rd10,'rd9,'rd8,'rd7,'rd6,'rd5,'rd4,'rd3,'rd2,'rd1> when 'ld10 :> Base10Digit and 'ld9 :> Base10Digit and 'ld8 :> Base10Digit and 'ld7 :> Base10Digit and 'ld6 :> Base10Digit and 'ld5 :> Base10Digit and 'ld4 :> Base10Digit and 'ld3 :> Base10Digit and 'ld2 :> Base10Digit and 'ld1 :> Base10Digit and 'le10 :> Base10Digit and 'le9 :> Base10Digit and 'le8 :> Base10Digit and 'le7 :> Base10Digit and 'le6 :> Base10Digit and 'le5 :> Base10Digit and 'le4 :> Base10Digit and 'le3 :> Base10Digit and 'le2 :> Base10Digit and 'le1 :> Base10Digit and 'rd10 :> Base10Digit and 'rd9 :> Base10Digit and 'rd8 :> Base10Digit and 'rd7 :> Base10Digit and 'rd6 :> Base10Digit and 'rd5 :> Base10Digit and 'rd4 :> Base10Digit and 'rd3 :> Base10Digit and 'rd2 :> Base10Digit and 'rd1 :> Base10Digit'. Type constraint mismatch. The type \n    'Matrix<float32,0,0,0,0,0,0,0,0,0,5,0,0,0,0,0,0,0,0,0,5>'    \nis not compatible with type\n    'Matrix<float32,'a,'b,'c,'d,'e,'f,'g,'h,'i,'j,'k,'l,'m,'n,'o,'p,'q,'r,'s,'t>'    \n.\nPossible overload: 'static member Matrix.( * ) : l:Matrix<'t,'ld10,'ld9,'ld8,'ld7,'ld6,'ld5,'ld4,'ld3,'ld2,'ld1,'le10,'le9,'le8,'le7,'le6,'le5,'le4,'le3,'le2,'le1> * r:Vector<'t,'le10,'le9,'le8,'le7,'le6,'le5,'le4,'le3,'le2,'le1> -> Vector<'t,'ld10,'ld9,'ld8,'ld7,'ld6,'ld5,'ld4,'ld3,'ld2,'ld1> when 'ld10 :> Base10Digit and 'ld9 :> Base10Digit and 'ld8 :> Base10Digit and 'ld7 :> Base10Digit and 'ld6 :> Base10Digit and 'ld5 :> Base10Digit and 'ld4 :> Base10Digit and 'ld3 :> Base10Digit and 'ld2 :> Base10Digit and 'ld1 :> Base10Digit and 'le10 :> Base10Digit and 'le9 :> Base10Digit and 'le8 :> Base10Digit and 'le7 :> Base10Digit and 'le6 :> Base10Digit and 'le5 :> Base10Digit and 'le4 :> Base10Digit and 'le3 :> Base10Digit and 'le2 :> Base10Digit and 'le1 :> Base10Digit'. Type constraint mismatch. The type \n    'Matrix<float32,0,0,0,0,0,0,0,0,0,5,0,0,0,0,0,0,0,0,0,5>'    \nis not compatible with type\n    'Vector<float32,'a,'b,'c,'d,'e,'f,'g,'h,'i,'j>'    \n.\nPossible overload: 'static member Matrix.( * ) : l:Matrix<'t,'ld10,'ld9,'ld8,'ld7,'ld6,'ld5,'ld4,'ld3,'ld2,'ld1,'le10,'le9,'le8,'le7,'le6,'le5,'le4,'le3,'le2,'le1> * r:Scalar<'t> -> Matrix<'t,'ld10,'ld9,'ld8,'ld7,'ld6,'ld5,'ld4,'ld3,'ld2,'ld1,'le10,'le9,'le8,'le7,'le6,'le5,'le4,'le3,'le2,'le1> when 'ld10 :> Base10Digit and 'ld9 :> Base10Digit and 'ld8 :> Base10Digit and 'ld7 :> Base10Digit and 'ld6 :> Base10Digit and 'ld5 :> Base10Digit and 'ld4 :> Base10Digit and 'ld3 :> Base10Digit and 'ld2 :> Base10Digit and 'ld1 :> Base10Digit and 'le10 :> Base10Digit and 'le9 :> Base10Digit and 'le8 :> Base10Digit and 'le7 :> Base10Digit and 'le6 :> Base10Digit and 'le5 :> Base10Digit and 'le4 :> Base10Digit and 'le3 :> Base10Digit and 'le2 :> Base10Digit and 'le1 :> Base10Digit'. Type constraint mismatch. The type \n    'Matrix<float32,0,0,0,0,0,0,0,0,0,5,0,0,0,0,0,0,0,0,0,5>'    \nis not compatible with type\n    'Scalar<float32>'    \n.",
          "name": "stderr"
        }
      ]
    },
    {
      "cell_type": "code",
      "source": "// Can add two matrices of the same size\nlet m99b = Mat<9, 9>.Rand\n\nlet s3 = m99 + m99b in s3.[zero..three, zero..four]",
      "metadata": {
        "trusted": true
      },
      "execution_count": 48,
      "outputs": [
        {
          "output_type": "execute_result",
          "execution_count": 48,
          "data": {
            "text/plain": "[[0.974108875f; 1.31419659f; 1.45612526f; 1.20209372f; 0.485699296f]\n [1.14937794f; 0.609274268f; 1.77570939f; 2.69988561f; 1.25130618f]\n [1.53536534f; -0.115691304f; 2.20608997f; 1.96567321f; 1.2809087f]\n [0.888100922f; 1.65951872f; 1.93303204f; 2.31720042f; 0.108748794f]]"
          },
          "metadata": {}
        }
      ]
    },
    {
      "cell_type": "code",
      "source": "// Multiply a vector by a conformable matrix. Result is a vector of size 4\nlet m45 = Mat<4, 5>.Rand\nlet v5c = Vec<5>.Rand\nm45 * v5c",
      "metadata": {
        "trusted": true
      },
      "execution_count": 46,
      "outputs": [
        {
          "output_type": "execute_result",
          "execution_count": 46,
          "data": {
            "text/plain": "[|1.40086639f; -1.11288798f; 0.179709733f; 0.368862152f|]"
          },
          "metadata": {}
        }
      ]
    },
    {
      "cell_type": "markdown",
      "source": "Matrices support row and column-level operations with type-level checking of parameters",
      "metadata": {}
    },
    {
      "cell_type": "code",
      "source": "// Insert a row before the first row of a matrix\nlet m99one = Mat<9,9>.One\nm99one +@ (zero, Vec<9>.Rand)",
      "metadata": {
        "trusted": true
      },
      "execution_count": 53,
      "outputs": [
        {
          "output_type": "execute_result",
          "execution_count": 53,
          "data": {
            "text/plain": "[[-1.26057708f; -0.345303237f; -0.74402523f; 0.892582178f; 0.100964092f;\n  0.512098968f; -1.11193788f; 0.14520216f; -0.200717688f]\n [1.0f; 1.0f; 1.0f; 1.0f; 1.0f; 1.0f; 1.0f; 1.0f; 1.0f]\n [1.0f; 1.0f; 1.0f; 1.0f; 1.0f; 1.0f; 1.0f; 1.0f; 1.0f]\n [1.0f; 1.0f; 1.0f; 1.0f; 1.0f; 1.0f; 1.0f; 1.0f; 1.0f]\n [1.0f; 1.0f; 1.0f; 1.0f; 1.0f; 1.0f; 1.0f; 1.0f; 1.0f]\n [1.0f; 1.0f; 1.0f; 1.0f; 1.0f; 1.0f; 1.0f; 1.0f; 1.0f]\n [1.0f; 1.0f; 1.0f; 1.0f; 1.0f; 1.0f; 1.0f; 1.0f; 1.0f]\n [1.0f; 1.0f; 1.0f; 1.0f; 1.0f; 1.0f; 1.0f; 1.0f; 1.0f]\n [1.0f; 1.0f; 1.0f; 1.0f; 1.0f; 1.0f; 1.0f; 1.0f; 1.0f]\n [1.0f; 1.0f; 1.0f; 1.0f; 1.0f; 1.0f; 1.0f; 1.0f; 1.0f]]"
          },
          "metadata": {}
        }
      ]
    },
    {
      "cell_type": "code",
      "source": "// Can't insert a row vector with the wrong size\nm99one +@ (zero, Vec<8>.Rand)",
      "metadata": {
        "trusted": true
      },
      "execution_count": 57,
      "outputs": [
        {
          "output_type": "stream",
          "text": "This expression was expected to have type\n    'Equal<N10<0,0,0,0,0,0,0,0,0,9>>'    \nbut here has type\n    'NotEqual<N10<0,0,0,0,0,0,0,0,0,9>>'    ",
          "name": "stderr"
        }
      ]
    },
    {
      "cell_type": "code",
      "source": "// Or insert at an invalid position\nm99one +@ (twelve, Vec<8>.Rand)",
      "metadata": {
        "trusted": true
      },
      "execution_count": 58,
      "outputs": [
        {
          "output_type": "stream",
          "text": "The value or constructor 'twelve' is not defined.\nThis expression was expected to have type\n    'Equal<N10<0,0,0,0,0,0,0,0,0,9>>'    \nbut here has type\n    'NotEqual<N10<0,0,0,0,0,0,0,0,0,9>>'    ",
          "name": "stderr"
        }
      ]
    },
    {
      "cell_type": "code",
      "source": "// Prepend a column\nm99one +@@ (zero, Vec<9>.Rand)",
      "metadata": {
        "trusted": true
      },
      "execution_count": 55,
      "outputs": [
        {
          "output_type": "execute_result",
          "execution_count": 55,
          "data": {
            "text/plain": "[[1.3924849f; 1.0f; 1.0f; 1.0f; 1.0f; 1.0f; 1.0f; 1.0f; 1.0f; 1.0f]\n [-0.96074754f; 1.0f; 1.0f; 1.0f; 1.0f; 1.0f; 1.0f; 1.0f; 1.0f; 1.0f]\n [1.50604296f; 1.0f; 1.0f; 1.0f; 1.0f; 1.0f; 1.0f; 1.0f; 1.0f; 1.0f]\n [1.92492414f; 1.0f; 1.0f; 1.0f; 1.0f; 1.0f; 1.0f; 1.0f; 1.0f; 1.0f]\n [1.04983556f; 1.0f; 1.0f; 1.0f; 1.0f; 1.0f; 1.0f; 1.0f; 1.0f; 1.0f]\n [0.165453941f; 1.0f; 1.0f; 1.0f; 1.0f; 1.0f; 1.0f; 1.0f; 1.0f; 1.0f]\n [-0.448346347f; 1.0f; 1.0f; 1.0f; 1.0f; 1.0f; 1.0f; 1.0f; 1.0f; 1.0f]\n [1.45648324f; 1.0f; 1.0f; 1.0f; 1.0f; 1.0f; 1.0f; 1.0f; 1.0f; 1.0f]\n [1.00099063f; 1.0f; 1.0f; 1.0f; 1.0f; 1.0f; 1.0f; 1.0f; 1.0f; 1.0f]]"
          },
          "metadata": {}
        }
      ]
    },
    {
      "cell_type": "code",
      "source": "// Can't do it with a vector with the wrong size\nm99one +@@ (zero, Vec<13>.Rand)",
      "metadata": {
        "trusted": true
      },
      "execution_count": 56,
      "outputs": [
        {
          "output_type": "stream",
          "text": "This expression was expected to have type\n    'Equal<N10<0,0,0,0,0,0,0,0,0,9>>'    \nbut here has type\n    'NotEqual<N10<0,0,0,0,0,0,0,0,0,9>>'    ",
          "name": "stderr"
        }
      ]
    },
    {
      "cell_type": "code",
      "source": "// Or at the wrong column position \nm99one +@@ (ten, Vec<9>.Rand)",
      "metadata": {
        "trusted": true
      },
      "execution_count": 60,
      "outputs": [
        {
          "output_type": "stream",
          "text": "This expression was expected to have type\n    'LessThan<N10<0,0,0,0,0,0,0,0,0,9>>'    \nbut here has type\n    'GreaterThanOrEqual<N10<0,0,0,0,0,0,0,0,0,9>>'    ",
          "name": "stderr"
        }
      ]
    },
    {
      "cell_type": "code",
      "source": "",
      "metadata": {
        "trusted": true
      },
      "execution_count": null,
      "outputs": []
    }
  ]
}