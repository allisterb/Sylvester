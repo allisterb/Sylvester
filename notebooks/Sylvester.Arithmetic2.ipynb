{
 "cells": [
  {
   "cell_type": "code",
   "execution_count": 1,
   "metadata": {},
   "outputs": [],
   "source": [
    "// Use the Sylvester arithmetic and collection packages\n",
    "# r \"nuget:Sylvester.Arithmetic\"\n",
    "# r \"nuget:Sylvester.Collections\""
   ]
  },
  {
   "cell_type": "code",
   "execution_count": null,
   "metadata": {},
   "outputs": [],
   "source": []
  },
  {
   "cell_type": "code",
   "execution_count": 2,
   "metadata": {},
   "outputs": [
    {
     "data": {
      "text/html": [
       "Installing package Sylvester.Arithmetic.done!"
      ]
     },
     "metadata": {},
     "output_type": "display_data"
    },
    {
     "data": {
      "text/html": [
       "Installing package Sylvester.Collections.done!"
      ]
     },
     "metadata": {},
     "output_type": "display_data"
    },
    {
     "name": "stdout",
     "output_type": "stream",
     "text": [
      "=============== S T A R T ==========================================\n",
      ">>>> C:\\Users\\Allister\\.nuget\\packages\\sylvester.arithmetic\\0.2.2.1\\typeproviders\\fsharp41\\netstandard2.0\\Sylvester.Provider.Arithmetic.DesignTime.dll\n",
      "Using: C:\\Users\\Allister\\.nuget\\packages\\sylvester.arithmetic\\0.2.2.1\\typeproviders\\fsharp41\\netstandard2.0\\Sylvester.Provider.Arithmetic.DesignTime.dll\n"
     ]
    }
   ],
   "source": [
    "open Sylvester.Arithmetic\n",
    "open Sylvester.Arithmetic.N10\n",
    "open Sylvester.Collections"
   ]
  },
  {
   "cell_type": "code",
   "execution_count": 3,
   "metadata": {},
   "outputs": [],
   "source": [
    "let a = new VArray<dim<10>, int>(6) //Create a 1-D array of length 10 initialized to a constant value"
   ]
  },
  {
   "cell_type": "code",
   "execution_count": 4,
   "metadata": {},
   "outputs": [
    {
     "data": {
      "text/plain": [
       "6"
      ]
     },
     "execution_count": 4,
     "metadata": {},
     "output_type": "execute_result"
    }
   ],
   "source": [
    "a.[nine] //Type checks ok"
   ]
  },
  {
   "cell_type": "code",
   "execution_count": 5,
   "metadata": {},
   "outputs": [
    {
     "ename": "Unhandled Exception",
     "evalue": "input.fsx (1,4)-(1,5) typecheck error The type 'int' does not support the operator '+@<<'\ninput.fsx (1,1)-(1,6) typecheck error The type 'int' does not support the operator '+@<<'",
     "output_type": "error",
     "traceback": [
      "input.fsx (1,4)-(1,5) typecheck error The type 'int' does not support the operator '+@<<'\ninput.fsx (1,1)-(1,6) typecheck error The type 'int' does not support the operator '+@<<'"
     ]
    }
   ],
   "source": [
    "a.[1] //Type error"
   ]
  },
  {
   "cell_type": "code",
   "execution_count": 6,
   "metadata": {},
   "outputs": [
    {
     "data": {
      "text/html": [
       "<table><thead><tr><th>_Array</th><th>Length</th><th>IntLength</th></tr></thead><tbody><tr><td>[ 6, 6, 6, 6, 6, 6, 6, 6, 6, 6 ]</td><td>{ Sylvester.Arithmetic.N10+N10&lt;Sylvester.Arithmetic.Base10+0,Sylvester.Arithmetic.Base10+0,Sylvester.Arithmetic.Base10+0,Sylvester.Arithmetic.Base10+0,Sylvester.Arithmetic.Base10+0,Sylvester.Arithmetic.Base10+0,Sylvester.Arithmetic.Base10+0,Sylvester.Arithmetic.Base10+0,Sylvester.Arithmetic.Base10+1,Sylvester.Arithmetic.Base10+0&gt;: Val: 10, Digits: { System.Tuple&lt;Sylvester.Arithmetic.Base10+0,Sylvester.Arithmetic.Base10+0,Sylvester.Arithmetic.Base10+0,Sylvester.Arithmetic.Base10+0,Sylvester.Arithmetic.Base10+0,Sylvester.Arithmetic.Base10+0,Sylvester.Arithmetic.Base10+0,System.Tuple&lt;Sylvester.Arithmetic.Base10+0,Sylvester.Arithmetic.Base10+1,Sylvester.Arithmetic.Base10+0&gt;&gt;: Item1: { Sylvester.Arithmetic.Base10+0:  }, Item2: { Sylvester.Arithmetic.Base10+0:  }, Item3: { Sylvester.Arithmetic.Base10+0:  }, Item4: { Sylvester.Arithmetic.Base10+0:  }, Item5: { Sylvester.Arithmetic.Base10+0:  }, Item6: { Sylvester.Arithmetic.Base10+0:  }, Item7: { Sylvester.Arithmetic.Base10+0:  }, Rest: { System.Tuple&lt;Sylvester.Arithmetic.Base10+0,Sylvester.Arithmetic.Base10+1,Sylvester.Arithmetic.Base10+0&gt;: Item1: { Sylvester.Arithmetic.Base10+0:  }, Item2: { Sylvester.Arithmetic.Base10+1:  }, Item3: { Sylvester.Arithmetic.Base10+0:  } } }, Digit1: { Sylvester.Arithmetic.Base10+0:  }, Digit2: { Sylvester.Arithmetic.Base10+1:  }, Digit3: { Sylvester.Arithmetic.Base10+0:  }, Digit4: { Sylvester.Arithmetic.Base10+0:  }, Digit5: { Sylvester.Arithmetic.Base10+0:  }, Digit6: { Sylvester.Arithmetic.Base10+0:  }, Digit7: { Sylvester.Arithmetic.Base10+0:  }, Digit8: { Sylvester.Arithmetic.Base10+0:  }, Digit9: { Sylvester.Arithmetic.Base10+0:  }, Digit10: { Sylvester.Arithmetic.Base10+0:  } }</td><td>10</td></tr></tbody></table>"
      ]
     },
     "execution_count": 6,
     "metadata": {},
     "output_type": "execute_result"
    }
   ],
   "source": [
    "a"
   ]
  },
  {
   "cell_type": "code",
   "execution_count": null,
   "metadata": {},
   "outputs": [],
   "source": []
  }
 ],
 "metadata": {
  "kernelspec": {
   "display_name": ".NET (F#)",
   "language": "F#",
   "name": ".net-fsharp"
  },
  "language_info": {
   "file_extension": ".fs",
   "mimetype": "text/x-fsharp",
   "name": "C#",
   "pygments_lexer": "fsharp",
   "version": "4.5"
  }
 },
 "nbformat": 4,
 "nbformat_minor": 2
}
