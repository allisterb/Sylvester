{
 "cells": [
  {
   "cell_type": "code",
   "execution_count": null,
   "id": "5491372e",
   "metadata": {
    "hide_input": false,
    "slideshow": {
     "slide_type": "skip"
    }
   },
   "outputs": [],
   "source": [
    "/// Setup MathJax and HTML helpers\n",
    "@\"<script src=\"\"https://cdnjs.cloudflare.com/ajax/libs/mathjax/2.7.7/MathJax.js?config=TeX-MML-AM_CHTML\"\"></script>\" |> Util.Html |> Display\n",
    "\n",
    "let html x = { Html = x }\n",
    "\n",
    "let h1 text = { Html = \"<h1>\" + text + \"</h1>\" }\n",
    "\n",
    "let h2 text = { Html = \"<h2>\" + text + \"</h2>\" }\n",
    "\n",
    "let h3 text = { Html = \"<h3>\" + text + \"</h3>\" }\n",
    "\n",
    "let ul text = { Html = \"<ul><li>\" + text + \"</li></ul>\" }\n",
    "\n",
    "let ul3 text = { Html = \"<ul><li><h3>\" + text + \"</h3></li></ul>\" }\n",
    "\n",
    "let img url = { Html = \"<img src=\\\"\" + url + \"\\\"\" + \" style=\\\"align:center\\\" />\" }\n"
   ]
  },
  {
   "cell_type": "code",
   "execution_count": null,
   "id": "a152be21",
   "metadata": {
    "slideshow": {
     "slide_type": "skip"
    }
   },
   "outputs": [],
   "source": [
    "/// Load Sylvester math libraries and init CAS\n",
    "#load \"Include.fsx\"\n",
    "Sylvester.CAS.Maxima.init \"C:\\\\MathTools\\\\maxima-5.44.0\\\\bin\\\\maxima.bat\""
   ]
  },
  {
   "cell_type": "markdown",
   "id": "3e17eedd",
   "metadata": {
    "slideshow": {
     "slide_type": "slide"
    }
   },
   "source": [
    "<center>\n",
    "    <h2> A Functional EDSL for Mathematics Visualization That Compiles to JavaScript </h2>\n",
    "    <img src=\"fsharplogo3.png\" />\n",
    "    <h2> Allister Beharry </h2>\n",
    "    <h2> 8th September 2023</h2>\n",
    "</center>\n",
    "\n"
   ]
  },
  {
   "cell_type": "markdown",
   "id": "a696aac7",
   "metadata": {
    "slideshow": {
     "slide_type": "slide"
    }
   },
   "source": [
    "# Introduction\n",
    "## About Me\n",
    "* .NET programmer for > 20 years, F# programmer ~ 5 years\n",
    "* Currently student in University of London EMFSS Online Programmes\n",
    "* Interested in open source mathematical computing, software and languages in math education"
   ]
  },
  {
   "cell_type": "markdown",
   "id": "059bc67a",
   "metadata": {
    "slideshow": {
     "slide_type": "slide"
    }
   },
   "source": [
    "# Introduction\n",
    "## About Sylvester\n",
    "* Functional EDSL for mathematical computing\n",
    "* Provide a unified notatation for symbolic, logical, visual aspects of mathematics\n",
    "* Provide unified functional language interface to different open-source tools and libraries for mathematical computing - Maxima, Z3, MathJAX, JSXGraph.... "
   ]
  },
  {
   "cell_type": "markdown",
   "id": "allied-juvenile",
   "metadata": {
    "slideshow": {
     "slide_type": "slide"
    }
   },
   "source": [
    "# Sylvester Demo #1"
   ]
  },
  {
   "cell_type": "markdown",
   "id": "hundred-david",
   "metadata": {
    "slideshow": {
     "slide_type": "slide"
    }
   },
   "source": [
    "### Sylvester Demo #1 - Symbolic Operations"
   ]
  },
  {
   "cell_type": "code",
   "execution_count": null,
   "id": "leading-blank",
   "metadata": {
    "slideshow": {
     "slide_type": "fragment"
    }
   },
   "outputs": [],
   "source": [
    "//open Sylvester namespace\n",
    "open Sylvester\n",
    "\n",
    "// Declare 2 real symbolic vaariables\n",
    "let r, s = realvar2 \"r\" \"s\""
   ]
  },
  {
   "cell_type": "code",
   "execution_count": 43,
   "id": "dependent-passenger",
   "metadata": {
    "slideshow": {
     "slide_type": "fragment"
    }
   },
   "outputs": [
    {
     "data": {
      "text/html": [
       "$$\\frac{r \\cdot s + s + 3 \\cdot s}{5}$$"
      ],
      "text/plain": [
       "r * s + s + 3.0 * s / 5.0"
      ]
     },
     "execution_count": 43,
     "metadata": {},
     "output_type": "execute_result"
    }
   ],
   "source": [
    "(r * (s + s + 3 * s)) / 5 // Symbolic math operations"
   ]
  },
  {
   "cell_type": "code",
   "execution_count": 44,
   "id": "lonely-bargain",
   "metadata": {
    "slideshow": {
     "slide_type": "fragment"
    }
   },
   "outputs": [
    {
     "data": {
      "text/html": [
       "$$5 \\cdot r \\cdot s$$"
      ],
      "text/plain": [
       "5.0 * r * s"
      ]
     },
     "execution_count": 44,
     "metadata": {},
     "output_type": "execute_result"
    }
   ],
   "source": [
    "algexpand (r * (s + s + 3 * s)) //algebraic expansion"
   ]
  },
  {
   "cell_type": "code",
   "execution_count": 45,
   "id": "breathing-impression",
   "metadata": {
    "slideshow": {
     "slide_type": "fragment"
    }
   },
   "outputs": [
    {
     "data": {
      "text/html": [
       "$$\\frac{0.111111111111111 \\cdot r \\cdot r \\cdot r + r \\cdot r \\cdot r \\cdot s}{s}$$"
      ],
      "text/plain": [
       "0.111111111111111 * r * r * r + r * r * r * s / s"
      ]
     },
     "execution_count": 45,
     "metadata": {},
     "output_type": "execute_result"
    }
   ],
   "source": [
    "ratsimp (r***3 * (s + 1) / (3*(s + 2 * s)))"
   ]
  },
  {
   "cell_type": "code",
   "execution_count": 46,
   "id": "conditional-eagle",
   "metadata": {
    "slideshow": {
     "slide_type": "fragment"
    }
   },
   "outputs": [
    {
     "data": {
      "text/html": [
       "$$\\frac{-1}{s} + \\frac{1}{-1 + s}$$"
      ],
      "text/plain": [
       "-1.0 / s + 1.0 / -1.0 + s"
      ]
     },
     "execution_count": 46,
     "metadata": {},
     "output_type": "execute_result"
    }
   ],
   "source": [
    "partfrac_of s (1/(s*(s-1)***2)) //expand as partial fractions"
   ]
  },
  {
   "cell_type": "markdown",
   "id": "quality-utility",
   "metadata": {
    "slideshow": {
     "slide_type": "slide"
    }
   },
   "source": [
    "### Sylvester Demo #1 - Symbolic Operations"
   ]
  },
  {
   "cell_type": "code",
   "execution_count": 47,
   "id": "amino-notion",
   "metadata": {
    "slideshow": {
     "slide_type": "fragment"
    }
   },
   "outputs": [
    {
     "data": {
      "text/html": [
       "$$\\sin{s} \\cdot \\cos{r} + \\sin{r} \\cdot \\cos{s}$$"
      ],
      "text/plain": [
       "sin(s) * cos(r) + sin(r) * cos(s)"
      ]
     },
     "execution_count": 47,
     "metadata": {},
     "output_type": "execute_result"
    }
   ],
   "source": [
    "trigexpand(sin(s+r)) //expand a trigonometric formula"
   ]
  },
  {
   "cell_type": "code",
   "execution_count": 48,
   "id": "secondary-research",
   "metadata": {
    "slideshow": {
     "slide_type": "fragment"
    }
   },
   "outputs": [
    {
     "data": {
      "text/html": [
       "$$\\sin{2.0r}$$"
      ],
      "text/plain": [
       "sin(2.0*r)"
      ]
     },
     "execution_count": 48,
     "metadata": {},
     "output_type": "execute_result"
    }
   ],
   "source": [
    "trigreduce (2 * sin r * cos r) |> trigsimp //reduce a trigonometric formula"
   ]
  },
  {
   "cell_type": "code",
   "execution_count": 49,
   "id": "affiliated-infrastructure",
   "metadata": {
    "slideshow": {
     "slide_type": "fragment"
    }
   },
   "outputs": [
    {
     "data": {
      "text/html": [
       "$$ r \\mapsto r^2 \\cdot \\sin{r} $$"
      ],
      "text/plain": [
       "fun r -> r ** 2.0 * sin r"
      ]
     },
     "execution_count": 49,
     "metadata": {},
     "output_type": "execute_result"
    }
   ],
   "source": [
    "// Define a function of one real variable\n",
    "let f = realfun (r***2 * (sin r))\n",
    "f "
   ]
  },
  {
   "cell_type": "code",
   "execution_count": 50,
   "id": "promising-while",
   "metadata": {
    "slideshow": {
     "slide_type": "fragment"
    }
   },
   "outputs": [
    {
     "data": {
      "text/html": [
       "$$ r \\mapsto 2 \\cdot r \\cdot \\sin{r} + r^2 \\cdot \\cos{r} $$"
      ],
      "text/plain": [
       "fun r -> 2.0 * r * sin r + r ** 2.0 * cos r"
      ]
     },
     "execution_count": 50,
     "metadata": {},
     "output_type": "execute_result"
    }
   ],
   "source": [
    "// Diffrentiate f wrt r\n",
    "diff r f"
   ]
  },
  {
   "cell_type": "code",
   "execution_count": 51,
   "id": "tutorial-penguin",
   "metadata": {
    "slideshow": {
     "slide_type": "fragment"
    }
   },
   "outputs": [
    {
     "data": {
      "text/html": [
       "$$ r \\mapsto 2 \\cdot r \\cdot \\sin{r} + 2 + -1 \\cdot r \\cdot r \\cdot \\cos{r} $$"
      ],
      "text/plain": [
       "fun r -> 2.0 * r * sin r + (2.0 + -1.0 * (r * r)) * cos r"
      ]
     },
     "execution_count": 51,
     "metadata": {},
     "output_type": "execute_result"
    }
   ],
   "source": [
    "f |> integrate r |> simplify // Integrate wrt r and simplify "
   ]
  },
  {
   "cell_type": "code",
   "execution_count": 63,
   "id": "earned-oracle",
   "metadata": {
    "slideshow": {
     "slide_type": "slide"
    }
   },
   "outputs": [
    {
     "data": {
      "text/plain": [
       "\"(%i22) \r\n",
       "(%o21) 2*r*sin(r)+(2-r^2)*cos(r)\r\n",
       "(%i21) \r\n",
       "(%o20) 2.0*r*sin(r)+r^2.0*cos(r)\r\n",
       "(%i20) \r\n",
       "(%o19) sin(2*r)\r\n",
       "(%i19) \r\n",
       "(%o18) 1.0*sin(2*r)\r\n",
       "(%i18) \r\n",
       "(%o17) cos(r)*sin(s)+sin(r)*cos(s)\r\n",
       "(%i17) \r\n",
       "(%o16) 1/(s-1)-1/s\r\n",
       "(%i16) \r\n",
       "(%o15) (r^3*s+r^3)/(9*s)\r\n",
       "(%i15) \r\n",
       "(%o14) 5.0*r*s\r\n",
       "(%i14) \r\n",
       "(%o13) [[r = -3/10,s = -1/5,t = 1/2]]\r\n",
       "(%i13) \r\n",
       "(%o12) 2*r*sin(r)+(2-r^2)*cos(r)\""
      ]
     },
     "execution_count": 63,
     "metadata": {},
     "output_type": "execute_result"
    }
   ],
   "source": [
    "// Sylvester uses the Maxima CAS by default for symbolic operations\n",
    "CAS.Maxima.last_output 20"
   ]
  },
  {
   "cell_type": "markdown",
   "id": "entertaining-movie",
   "metadata": {
    "slideshow": {
     "slide_type": "slide"
    }
   },
   "source": [
    "### Sylvester Demo #1 - Linear Algebra"
   ]
  },
  {
   "cell_type": "code",
   "execution_count": 53,
   "id": "stone-syndrome",
   "metadata": {
    "slideshow": {
     "slide_type": "fragment"
    }
   },
   "outputs": [
    {
     "data": {
      "text/html": [
       "$$ \\begin{pmatrix} 2.0 \\\\ sin(r) \\end{pmatrix} $$"
      ],
      "text/plain": [
       "(2.0, sin(r))"
      ]
     },
     "execution_count": 53,
     "metadata": {},
     "output_type": "execute_result"
    }
   ],
   "source": [
    "let v1 = vec2 2. (sin r) //define 2D vector\n",
    "v1"
   ]
  },
  {
   "cell_type": "code",
   "execution_count": 54,
   "id": "joined-vaccine",
   "metadata": {
    "slideshow": {
     "slide_type": "fragment"
    }
   },
   "outputs": [
    {
     "data": {
      "text/html": [
       "$$ \\begin{pmatrix} 2.0 + r \\\\ 5.0 + sin(r) \\end{pmatrix} $$"
      ],
      "text/plain": [
       "(2.0 + r, 5.0 + sin(r))"
      ]
     },
     "execution_count": 54,
     "metadata": {},
     "output_type": "execute_result"
    }
   ],
   "source": [
    "let v2 = vec2 r 5\n",
    "v1 + v2 // Linear algebra operations are fully symbolic"
   ]
  },
  {
   "cell_type": "code",
   "execution_count": 55,
   "id": "positive-programming",
   "metadata": {
    "slideshow": {
     "slide_type": "fragment"
    }
   },
   "outputs": [
    {
     "data": {
      "text/html": [
       "$$ \\begin{pmatrix} 2.0 + r \\\\ 5.0 + sin(r) \\end{pmatrix} $$"
      ],
      "text/plain": [
       "(2.0 + r, 5.0 + sin(r))"
      ]
     },
     "execution_count": 55,
     "metadata": {},
     "output_type": "execute_result"
    }
   ],
   "source": [
    "v1 + v2"
   ]
  },
  {
   "cell_type": "code",
   "execution_count": 56,
   "id": "widespread-ontario",
   "metadata": {
    "slideshow": {
     "slide_type": "fragment"
    }
   },
   "outputs": [
    {
     "data": {
      "text/html": [
       "$$2 \\cdot r + 5 \\cdot \\sin{r}$$"
      ],
      "text/plain": [
       "2.0 * r + 5.0 * sin(r)"
      ]
     },
     "execution_count": 56,
     "metadata": {},
     "output_type": "execute_result"
    }
   ],
   "source": [
    "v1 * v2"
   ]
  },
  {
   "cell_type": "code",
   "execution_count": 57,
   "id": "found-battery",
   "metadata": {
    "slideshow": {
     "slide_type": "fragment"
    }
   },
   "outputs": [
    {
     "data": {
      "text/html": [
       "$$ \\begin{pmatrix} 1.0 + r * s \\\\ 0.0 + 1.0 * r \\end{pmatrix} $$"
      ],
      "text/plain": [
       "(1.0 + r * s, 0.0 + 1.0 * r)"
      ]
     },
     "execution_count": 57,
     "metadata": {},
     "output_type": "execute_result"
    }
   ],
   "source": [
    "(vec2 1 0) + r * (vec2 s 1)"
   ]
  },
  {
   "cell_type": "markdown",
   "id": "coordinated-toronto",
   "metadata": {
    "slideshow": {
     "slide_type": "slide"
    }
   },
   "source": [
    "### Sylvester Demo #1 - Linear Algebra"
   ]
  },
  {
   "cell_type": "code",
   "execution_count": 58,
   "id": "ruled-homeless",
   "metadata": {
    "slideshow": {
     "slide_type": "fragment"
    }
   },
   "outputs": [
    {
     "data": {
      "text/html": [
       "$$ \\begin{pmatrix} 4 & 5 & 6 \\\\ r & 7 & s \\\\ 9 & 11 & 13.2 \\end{pmatrix} $$"
      ],
      "text/plain": [
       "[[4.0, 5.0, 6.0], [r, 7.0, s], [9.0, 11.0, 13.2]]"
      ]
     },
     "execution_count": 58,
     "metadata": {},
     "output_type": "execute_result"
    }
   ],
   "source": [
    "open Matrix // Open Matrix module\n",
    "open Dimension //Open number-dependent types module\n",
    "let M = mat ``3`` ``3`` [4; 5; 6; r; 7; s; 9; 11; 13.2]\n",
    "M"
   ]
  },
  {
   "cell_type": "code",
   "execution_count": 59,
   "id": "alternate-evanescence",
   "metadata": {
    "slideshow": {
     "slide_type": "fragment"
    }
   },
   "outputs": [
    {
     "data": {
      "text/html": [
       "$$ \\begin{pmatrix} 4 + 4 \\cdot r & 5 + 5 \\cdot r & 6 + 6 \\cdot r \\\\ r + r \\cdot r & 7 + 7 \\cdot r & s + r \\cdot s \\\\ 9 + 9 \\cdot r & 11 + 11 \\cdot r & 13.2 + 13.2 \\cdot r \\end{pmatrix} $$"
      ],
      "text/plain": [
       "[[4.0 + 4.0 * r, 5.0 + 5.0 * r, 6.0 + 6.0 * r], [r + r * r, 7.0 + 7.0 * r, s + r * s], [9.0 + 9.0 * r, 11.0 + 11.0 * r, 13.2 + 13.2 * r]]"
      ]
     },
     "execution_count": 59,
     "metadata": {},
     "output_type": "execute_result"
    }
   ],
   "source": [
    "r * M + M // matrix operations are fully symbolic"
   ]
  },
  {
   "cell_type": "code",
   "execution_count": 60,
   "id": "three-picture",
   "metadata": {
    "slideshow": {
     "slide_type": "slide"
    }
   },
   "outputs": [
    {
     "data": {
      "text/html": [
       "$$ \\begin{pmatrix} 4 & 5 & 6 \\\\ r \\cdot s & 7 \\cdot s & s \\cdot s \\\\ 9 & 11 & 13.2 \\end{pmatrix} $$"
      ],
      "text/plain": [
       "[[4.0, 5.0, 6.0], [r * s, 7.0 * s, s * s], [9.0, 11.0, 13.2]]"
      ]
     },
     "execution_count": 60,
     "metadata": {},
     "output_type": "execute_result"
    }
   ],
   "source": [
    "mrmul 1 s M //Elementary row operation - multiply row 2 by scalar"
   ]
  },
  {
   "cell_type": "code",
   "execution_count": 61,
   "id": "fifteen-sudan",
   "metadata": {
    "slideshow": {
     "slide_type": "fragment"
    }
   },
   "outputs": [
    {
     "data": {
      "text/html": [
       "$$ \\begin{pmatrix} 9 & 11 & 13.2 \\\\ r & 7 & s \\\\ 4 & 5 & 6 \\end{pmatrix} $$"
      ],
      "text/plain": [
       "[[9.0, 11.0, 13.2], [r, 7.0, s], [4.0, 5.0, 6.0]]"
      ]
     },
     "execution_count": 61,
     "metadata": {},
     "output_type": "execute_result"
    }
   ],
   "source": [
    "mrswitch 0 2 M  //Elementary row operation - switch row 1 with row 3"
   ]
  },
  {
   "cell_type": "code",
   "execution_count": 62,
   "id": "twelve-holly",
   "metadata": {
    "slideshow": {
     "slide_type": "fragment"
    }
   },
   "outputs": [
    {
     "data": {
      "text/html": [
       "$$ \\begin{pmatrix} 4 & 5 & 6 & r \\\\ r & 7 & s & s \\\\ 9 & 11 & 13.2 & 4 \\end{pmatrix} $$"
      ],
      "text/plain": [
       "[[4.0, 5.0, 6.0, r], [r, 7.0, s, s], [9.0, 11.0, 13.2, 4.0]]"
      ]
     },
     "execution_count": 62,
     "metadata": {},
     "output_type": "execute_result"
    }
   ],
   "source": [
    "let N = M |+|| vec3 r s 4 //augment M to create a 3 x 4 matrix by adding another vector to its columns\n",
    "N"
   ]
  },
  {
   "cell_type": "code",
   "execution_count": 64,
   "id": "periodic-wyoming",
   "metadata": {
    "slideshow": {
     "slide_type": "slide"
    }
   },
   "outputs": [
    {
     "name": "stderr",
     "output_type": "stream",
     "text": [
      "No overloads match for method 'op_Multiply'.\r\n",
      "\r\n",
      "Known return type:  ^a\r\n",
      "\r\n",
      "Known type parameters: < Matrix<3,4,real> , Matrix<3,3,real> >\r\n",
      "\r\n",
      "Available overloads:\n",
      " - static member Matrix.( * ) : l:'t * r:Matrix<'dim0,'dim1,'t> -> Matrix<'dim0,'dim1,'t> // Argument 'l' doesn't match\r\n",
      " - static member Matrix.( * ) : l:Matrix<'dim0,'dim1,'t> * r:'t -> Matrix<'dim0,'dim1,'t> // Argument 'r' doesn't match\r\n",
      " - static member Matrix.( * ) : l:Matrix<'dim0,'dim1,'t> * r:Matrix<'dim1,'dim2,'t> -> Matrix<'dim0,'dim2,'t> when 'dim2 :> Arithmetic.Number // Argument 'r' doesn't match\r\n",
      " - static member Matrix.( * ) : l:Matrix<'dim0,'dim1,'t> * r:Scalar<'t> -> Matrix<'dim0,'dim1,'t> // Argument 'r' doesn't match\r\n",
      " - static member Matrix.( * ) : l:Matrix<'dim0,'dim1,'t> * r:Vector<'dim1,'t> -> Vector<'dim0,'t> // Argument 'r' doesn't match\r\n",
      " - static member Matrix.( * ) : l:Natural * r:Matrix<'dim0,'dim1,real> -> Matrix<'dim0,'dim1,real> // Argument 'l' doesn't match\r\n",
      " - static member Matrix.( * ) : l:Scalar<'t> * r:Matrix<'dim0,'dim1,'t> -> Matrix<'dim0,'dim1,'t> // Argument 'l' doesn't match\r\n",
      " - static member Matrix.( * ) : l:int * r:Matrix<'dim0,'dim1,real> -> Matrix<'dim0,'dim1,real> // Argument 'l' doesn't match\r\n",
      " - static member Matrix.( * ) : l:rat * r:Matrix<'dim0,'dim1,real> -> Matrix<'dim0,'dim1,real> // Argument 'l' doesn't match"
     ]
    }
   ],
   "source": [
    "N * M // N isn't conformable for multiplication with M in this order. Results in type error"
   ]
  },
  {
   "cell_type": "code",
   "execution_count": 65,
   "id": "foster-turner",
   "metadata": {
    "slideshow": {
     "slide_type": "fragment"
    }
   },
   "outputs": [
    {
     "data": {
      "text/html": [
       "$$ \\begin{pmatrix} 70 + 5 \\cdot r & 121 & 103.2 + 5 \\cdot s & 24 + 4 \\cdot r + 5 \\cdot s \\\\ 11 \\cdot r + 9 \\cdot s & 49 + 5 \\cdot r + 11 \\cdot s & 6 \\cdot r + 20.2 \\cdot s & r \\cdot r + 11 \\cdot s \\\\ 154.8 + 11 \\cdot r & 267.2 & 228.24 + 11 \\cdot s & 52.8 + 9 \\cdot r + 11 \\cdot s \\end{pmatrix} $$"
      ],
      "text/plain": [
       "[[70.0 + 5.0 * r, 121.0, 103.2 + 5.0 * s, 24.0 + 4.0 * r + 5.0 * s], [11.0 * r + 9.0 * s, 49.0 + 5.0 * r + 11.0 * s, 6.0 * r + 20.2 * s, r * r + 11.0 * s], [154.8 + 11.0 * r, 267.2, 228.24 + 11.0 * s, 52.8 + 9.0 * r + 11.0 * s]]"
      ]
     },
     "execution_count": 65,
     "metadata": {},
     "output_type": "execute_result"
    }
   ],
   "source": [
    "M * N //This is ok"
   ]
  },
  {
   "cell_type": "markdown",
   "id": "constant-lobby",
   "metadata": {
    "slideshow": {
     "slide_type": "slide"
    }
   },
   "source": [
    "# Sylvester Demo #1 - Solver Operations\n"
   ]
  },
  {
   "cell_type": "code",
   "execution_count": 66,
   "id": "earlier-synthesis",
   "metadata": {
    "slideshow": {
     "slide_type": "fragment"
    }
   },
   "outputs": [
    {
     "data": {
      "text/plain": [
       "[r = -0.3; s = -0.2; t = 0.5]"
      ]
     },
     "execution_count": 66,
     "metadata": {},
     "output_type": "execute_result"
    }
   ],
   "source": [
    "open LinearEquations //open linear equations mpdule\n",
    "\n",
    "let t = realvar \"t\" //declare additional symbolic variable\n",
    "\n",
    "//solve 3 variable system using Maxima linear equations solver\n",
    "solve [\n",
    "    2*r - 3*s + 4* t == 2.\n",
    "    3*r - 2*s + t == 0.\n",
    "    r + s - t == -1.\n",
    "]"
   ]
  },
  {
   "cell_type": "code",
   "execution_count": 67,
   "id": "remarkable-breath",
   "metadata": {
    "slideshow": {
     "slide_type": "fragment"
    }
   },
   "outputs": [
    {
     "data": {
      "text/plain": [
       "Some [s = -0.5049014837; r = 50.50490148]"
      ]
     },
     "execution_count": 67,
     "metadata": {},
     "output_type": "execute_result"
    }
   ],
   "source": [
    "let z3sol = new Z3Solver() //create a Z3 solver instance\n",
    "\n",
    "maximize z3sol [2*(r + s) == 100.] (r*s) //Maximize the area of a rectangle with the constraint the perimeter is 100"
   ]
  },
  {
   "cell_type": "code",
   "execution_count": 68,
   "id": "caring-bloom",
   "metadata": {
    "slideshow": {
     "slide_type": "fragment"
    }
   },
   "outputs": [
    {
     "data": {
      "text/plain": [
       "Some [r = 5.0; s = 45.0]"
      ]
     },
     "execution_count": 68,
     "metadata": {},
     "output_type": "execute_result"
    }
   ],
   "source": [
    "maximize z3sol [\n",
    "                2*(r + s) == 100. \n",
    "                r == 5. \n",
    "                s <+ 50. // less-than operator\n",
    "                ] (r*s) //Maximize the same objective function as above with some additional constraints"
   ]
  },
  {
   "cell_type": "markdown",
   "id": "constitutional-roads",
   "metadata": {
    "slideshow": {
     "slide_type": "slide"
    }
   },
   "source": [
    "# Sylvester Demo #1 - Theorems"
   ]
  },
  {
   "cell_type": "code",
   "execution_count": 69,
   "id": "simplified-arrangement",
   "metadata": {
    "slideshow": {
     "slide_type": "fragment"
    }
   },
   "outputs": [
    {
     "data": {
      "text/plain": [
       "false"
      ]
     },
     "execution_count": 69,
     "metadata": {},
     "output_type": "execute_result"
    }
   ],
   "source": [
    "// Open module containing Sylvester theory of real numbers\n",
    "open RealNumbers\n",
    "\n",
    "// We use the (==) operator to denote mathematical or logical equality vs. standard F# (=) for value or reference equality \n",
    "// e.g these are two different symbolic expressions\n",
    "r + s = s + r "
   ]
  },
  {
   "cell_type": "code",
   "execution_count": 70,
   "id": "accessory-tourist",
   "metadata": {
    "slideshow": {
     "slide_type": "fragment"
    }
   },
   "outputs": [
    {
     "data": {
      "text/plain": [
       "true"
      ]
     },
     "execution_count": 70,
     "metadata": {},
     "output_type": "execute_result"
    }
   ],
   "source": [
    "// but in the theory of real numbers they are equal due to the axiom of commutativity\n",
    "real_numbers |- (r + s == s + r)"
   ]
  },
  {
   "cell_type": "code",
   "execution_count": 71,
   "id": "olympic-covering",
   "metadata": {
    "slideshow": {
     "slide_type": "fragment"
    }
   },
   "outputs": [
    {
     "data": {
      "text/plain": [
       "Sylvester.Theorem"
      ]
     },
     "execution_count": 71,
     "metadata": {},
     "output_type": "execute_result"
    },
    {
     "data": {
      "text/plain": [
       "Proof log level is 1. Short proofs of lemmas won't be printed.\r\n",
       "Proof of r + s = s + r:\r\n",
       "|- r + s = s + r. [Axiom of Commutativity]\r\n",
       "Proof complete.\r\n"
      ]
     },
     "metadata": {},
     "output_type": "display_data"
    }
   ],
   "source": [
    "theorem real_numbers (r + s == s + r) []"
   ]
  },
  {
   "cell_type": "code",
   "execution_count": 72,
   "id": "vanilla-inspiration",
   "metadata": {
    "slideshow": {
     "slide_type": "slide"
    }
   },
   "outputs": [
    {
     "name": "stderr",
     "output_type": "stream",
     "text": [
      "Expression evaluation failed: The provided proof of theorem (r + s) * 2.0 = 2.0 * r + 2.0 * s is not complete.\r\n",
      "ExceptionThe provided proof of theorem (r + s) * 2.0 = 2.0 * r + 2.0 * s is not complete.\r\n",
      "   at Microsoft.FSharp.Core.PrintfModule.PrintFormatToStringThenFail@1433.Invoke(String message) in D:\\workspace\\_work\\1\\s\\src\\fsharp\\FSharp.Core\\printf.fs:line 1433\r\n",
      "   at Sylvester.Theorem..ctor(FSharpExpr expr, Proof proof) in C:\\Projects\\Sylvester.git\\src\\Lang\\Sylvester.Prover\\Proof.fs:line 395\r\n",
      "   at Sylvester.ProofModule.theorem(Theory theory, Prop e, FSharpList`1 steps) in C:\\Projects\\Sylvester.git\\src\\Lang\\Sylvester.Prover\\Proof.fs:line 528\r\n",
      "   at <StartupCode$FSI_0142>.$FSI_0142.main@()\r\n"
     ]
    },
    {
     "data": {
      "text/plain": [
       "Proof log level is 1. Short proofs of lemmas won't be printed.\r\n",
       "Proof of (r + s) * 2.0 = 2.0 * r + 2.0 * s:\r\n",
       "Proof incomplete. Current state: (r + s) * 2.0 = 2.0 * r + 2.0 * s.\r\n"
      ]
     },
     "metadata": {},
     "output_type": "display_data"
    }
   ],
   "source": [
    "// In ML-style proof assistants, theorem can't be constructed from incomplete proof\n",
    "theorem real_numbers ((r + s) * 2 == (2 * r + 2 * s)) []"
   ]
  },
  {
   "cell_type": "code",
   "execution_count": 73,
   "id": "cognitive-hurricane",
   "metadata": {
    "slideshow": {
     "slide_type": "fragment"
    }
   },
   "outputs": [
    {
     "data": {
      "text/plain": [
       "Sylvester.Theorem"
      ]
     },
     "execution_count": 73,
     "metadata": {},
     "output_type": "execute_result"
    },
    {
     "data": {
      "text/plain": [
       "Proof log level is 1. Short proofs of lemmas won't be printed.\r\n",
       "Proof of (r + s) * 2.0 = 2.0 * r + 2.0 * s:\r\n",
       "1. Multiplication operation in left of expression is commutative: (r + s) * 2.0 = 2.0 * r + 2.0 * s → 2.0 * (r + s) = 2.0 * r + 2.0 * s.\r\n",
       "|- 2.0 * (r + s) = 2.0 * r + 2.0 * s. [Axiom of Distributivity]\r\n",
       "Proof complete.\r\n"
      ]
     },
     "metadata": {},
     "output_type": "display_data"
    }
   ],
   "source": [
    "// We need to supply a proof to show the formula is true for real numbers\n",
    "theorem real_numbers ((r + s) * 2 == (2 * r + 2 * s)) [\n",
    "    apply_left commute_mul  \n",
    "]"
   ]
  },
  {
   "cell_type": "markdown",
   "id": "julian-heading",
   "metadata": {
    "slideshow": {
     "slide_type": "slide"
    }
   },
   "source": [
    "# Sylvester Demo #1 - Visualization"
   ]
  },
  {
   "cell_type": "code",
   "execution_count": 74,
   "id": "indie-chart",
   "metadata": {
    "slideshow": {
     "slide_type": "slide"
    }
   },
   "outputs": [
    {
     "data": {
      "text/html": [
       "<div>\r\n",
       " <div id=\"d08989e5-8e3e-4c9c-b69b-2bea2b542fce\" class=\"jxgbox\" style=\"width:100%;height:640px\"></div>\r\n",
       " <script>require(['https://cdn.jsdelivr.net/npm/jsxgraph/distrib/jsxgraphcore.js'], function(JXG) {\n",
       "JXG.Options.text.useMathJax = true;\n",
       "var MathJS__Sin$, MathJS__Pow$, Board__invisible, Board__get_invisible$;\r\n",
       "Board__get_invisible$ = (function()\r\n",
       "{\r\n",
       "    var size = 0.000000;\r\n",
       "    var withLabel = false;\r\n",
       "    return {label: \"\", size: size, strokeWidth: 0.000000, withLabel: withLabel};\r\n",
       "});\r\n",
       "MathJS__Pow$ = (function(x,y)\r\n",
       "{\r\n",
       "    return Math.pow(x, y);;\r\n",
       "});\r\n",
       "MathJS__Sin$ = (function(x)\r\n",
       "{\r\n",
       "    return Math.sin(x);;\r\n",
       "});\r\n",
       "Board__invisible = Board__get_invisible$();\r\n",
       "var boundingbox = [(0.000000 - ((10.000000 - 0.000000) / 10.000000)), (-54.402111 + ((-54.402111 - 0.000000) / 10.000000)), (10.000000 + (10.000000 / 10.000000)), (0.000000 - (-54.402111 / 10.000000))];\r\n",
       "var showNavigation = true;\r\n",
       "var showCopyright = false;\r\n",
       "var keepAspectRatio = false;\r\n",
       "var b = JXG.JSXGraph.initBoard(\"d08989e5-8e3e-4c9c-b69b-2bea2b542fce\", {axis: true, boundingbox: boundingbox, keepAspectRatio: keepAspectRatio, showCopyright: showCopyright, showNavigation: showNavigation});\r\n",
       "var fg = b.create('functiongraph', [(function(r)\r\n",
       "{\r\n",
       "    return (MathJS__Pow$(r, 2.000000) * MathJS__Sin$(r));\r\n",
       "}), 0.000000, 10.000000], {strokeColor: \"blue\", strokeWidth: 1});\r\n",
       "var t = b.create('text', [((10.000000 - 0.000000) * 0.500000), (-54.402111 - ((-54.402111 - 0.000000) / 10.000000)), \"$$ r \\\\mapsto r^2 \\\\cdot \\\\sin{r} $$\"], Board__invisible);\r\n",
       "b});</script>\r\n",
       "</div>\r\n"
      ],
      "text/plain": [
       "Elem\n",
       "  (\"div\",\n",
       "   [Elem\n",
       "      (\"div\",\n",
       "       [Attr (\"id\", \"d08989e5-8e3e-4c9c-b69b-2bea2b542fce\");\n",
       "        Attr (\"class\", \"jxgbox\"); Attr (\"style\", \"width:100%;height:640px\")]);\n",
       "    Elem\n",
       "      (\"script\",\n",
       "       [Text\n",
       "          \"require(['https://cdn.jsdelivr.net/npm/jsxgraph/distrib/jsxgraphcore.js'], function(JXG) {\n",
       "JXG.Options.text.useMathJax = true;\n",
       "var MathJS__Sin$, MathJS__Pow$, Board__invisible, Board__get_invisible$;\r\n",
       "Board__get_invisible$ = (function()\r\n",
       "{\r\n",
       "    var size = 0.000000;\r\n",
       "    var withLabel = false;\r\n",
       "    return {label: \"\", size: size, strokeWidth: 0.000000, withLabel: withLabel};\r\n",
       "});\r\n",
       "MathJS__Pow$ = (function(x,y)\r\n",
       "{\r\n",
       "    return Math.pow(x, y);;\r\n",
       "});\r\n",
       "MathJS__Sin$ = (function(x)\r\n",
       "{\r\n",
       "    return Math.sin(x);;\r\n",
       "});\r\n",
       "Board__invisible = Board__get_invisible$();\r\n",
       "var boundingbox = [(0.000000 - ((10.000000 - 0.000000) / 10.000000)), (-54.402111 + ((-54.402111 - 0.000000) / 10.000000)), (10.000000 + (10.000000 / 10.000000)), (0.000000 - (-54.402111 / 10.000000))];\r\n",
       "var showNavigation = true;\r\n",
       "var showCopyright = false;\r\n",
       "var keepAspectRatio = false;\r\n",
       "var b = JXG.JSXGraph.initBoard(\"d08989e5-8e3e-4c9c-b69b-2bea2b542fce\", {axis: true, boundingbox: boundingbox, keepAspectRatio: keepAspectRatio, showCopyright: showCopyright, showNavigation: showNavigation});\r\n",
       "var fg = b.create('functiongraph', [(function(r)\r\n",
       "{\r\n",
       "    return (MathJS__Pow$(r, 2.000000) * MathJS__Sin$(r));\r\n",
       "}), 0.000000, 10.000000], {strokeColor: \"blue\", strokeWidth: 1});\r\n",
       "var t = b.create('text', [((10.000000 - 0.000000) * 0.500000), (-54.402111 - ((-54.402111 - 0.000000) / 10.000000)), \"$$ r \\\\mapsto r^2 \\\\cdot \\\\sin{r} $$\"], Board__invisible);\r\n",
       "b});\"])])"
      ]
     },
     "execution_count": 74,
     "metadata": {},
     "output_type": "execute_result"
    }
   ],
   "source": [
    "draw defaults f //Draw f using visualization defaults"
   ]
  },
  {
   "cell_type": "code",
   "execution_count": 75,
   "id": "mexican-expert",
   "metadata": {
    "slideshow": {
     "slide_type": "slide"
    }
   },
   "outputs": [
    {
     "data": {
      "text/html": [
       "<div>\r\n",
       " <div id=\"6370bd6d-0c0a-4fb7-8a5b-84070d0b1158\" class=\"jxgbox\" style=\"width:100%;height:640px\"></div>\r\n",
       " <script>require(['https://cdn.jsdelivr.net/npm/jsxgraph/distrib/jsxgraphcore.js'], function(JXG) {\n",
       "JXG.Options.text.useMathJax = true;\n",
       "var MathJS__Sin$, MathJS__Pow$, Board__invisible, Board__get_invisible$;\r\n",
       "Board__get_invisible$ = (function()\r\n",
       "{\r\n",
       "    var size = 0.000000;\r\n",
       "    var withLabel = false;\r\n",
       "    return {label: \"\", size: size, strokeWidth: 0.000000, withLabel: withLabel};\r\n",
       "});\r\n",
       "MathJS__Pow$ = (function(x,y)\r\n",
       "{\r\n",
       "    return Math.pow(x, y);;\r\n",
       "});\r\n",
       "MathJS__Sin$ = (function(x)\r\n",
       "{\r\n",
       "    return Math.sin(x);;\r\n",
       "});\r\n",
       "Board__invisible = Board__get_invisible$();\r\n",
       "var boundingbox = [(0.000000 - ((15.000000 - 0.000000) / 10.000000)), (200.000000 + ((200.000000 - -120.000000) / 10.000000)), (15.000000 + (15.000000 / 10.000000)), (-120.000000 - (200.000000 / 10.000000))];\r\n",
       "var showNavigation = true;\r\n",
       "var showCopyright = false;\r\n",
       "var keepAspectRatio = false;\r\n",
       "var b = JXG.JSXGraph.initBoard(\"6370bd6d-0c0a-4fb7-8a5b-84070d0b1158\", {axis: true, boundingbox: boundingbox, keepAspectRatio: keepAspectRatio, showCopyright: showCopyright, showNavigation: showNavigation});\r\n",
       "var fg = b.create('functiongraph', [(function(r)\r\n",
       "{\r\n",
       "    return (MathJS__Pow$(r, 2.000000) * MathJS__Sin$(r));\r\n",
       "}), 0.000000, 15.000000], {strokeColor: \"blue\", strokeWidth: 1});\r\n",
       "var t = b.create('text', [((15.000000 - 0.000000) * 0.500000), (200.000000 - ((200.000000 - -120.000000) / 10.000000)), \"$$ r \\\\mapsto r^2 \\\\cdot \\\\sin{r} $$\"], Board__invisible);\r\n",
       "b});</script>\r\n",
       "</div>\r\n"
      ],
      "text/plain": [
       "Elem\n",
       "  (\"div\",\n",
       "   [Elem\n",
       "      (\"div\",\n",
       "       [Attr (\"id\", \"6370bd6d-0c0a-4fb7-8a5b-84070d0b1158\");\n",
       "        Attr (\"class\", \"jxgbox\"); Attr (\"style\", \"width:100%;height:640px\")]);\n",
       "    Elem\n",
       "      (\"script\",\n",
       "       [Text\n",
       "          \"require(['https://cdn.jsdelivr.net/npm/jsxgraph/distrib/jsxgraphcore.js'], function(JXG) {\n",
       "JXG.Options.text.useMathJax = true;\n",
       "var MathJS__Sin$, MathJS__Pow$, Board__invisible, Board__get_invisible$;\r\n",
       "Board__get_invisible$ = (function()\r\n",
       "{\r\n",
       "    var size = 0.000000;\r\n",
       "    var withLabel = false;\r\n",
       "    return {label: \"\", size: size, strokeWidth: 0.000000, withLabel: withLabel};\r\n",
       "});\r\n",
       "MathJS__Pow$ = (function(x,y)\r\n",
       "{\r\n",
       "    return Math.pow(x, y);;\r\n",
       "});\r\n",
       "MathJS__Sin$ = (function(x)\r\n",
       "{\r\n",
       "    return Math.sin(x);;\r\n",
       "});\r\n",
       "Board__invisible = Board__get_invisible$();\r\n",
       "var boundingbox = [(0.000000 - ((15.000000 - 0.000000) / 10.000000)), (200.000000 + ((200.000000 - -120.000000) / 10.000000)), (15.000000 + (15.000000 / 10.000000)), (-120.000000 - (200.000000 / 10.000000))];\r\n",
       "var showNavigation = true;\r\n",
       "var showCopyright = false;\r\n",
       "var keepAspectRatio = false;\r\n",
       "var b = JXG.JSXGraph.initBoard(\"6370bd6d-0c0a-4fb7-8a5b-84070d0b1158\", {axis: true, boundingbox: boundingbox, keepAspectRatio: keepAspectRatio, showCopyright: showCopyright, showNavigation: showNavigation});\r\n",
       "var fg = b.create('functiongraph', [(function(r)\r\n",
       "{\r\n",
       "    return (MathJS__Pow$(r, 2.000000) * MathJS__Sin$(r));\r\n",
       "}), 0.000000, 15.000000], {strokeColor: \"blue\", strokeWidth: 1});\r\n",
       "var t = b.create('text', [((15.000000 - 0.000000) * 0.500000), (200.000000 - ((200.000000 - -120.000000) / 10.000000)), \"$$ r \\\\mapsto r^2 \\\\cdot \\\\sin{r} $$\"], Board__invisible);\r\n",
       "b});\"])])"
      ]
     },
     "execution_count": 75,
     "metadata": {},
     "output_type": "execute_result"
    }
   ],
   "source": [
    "// Draw using user-specified properties\n",
    "draw {|xrange = 0.,15.;yrange= -120.,200.|} f "
   ]
  },
  {
   "cell_type": "code",
   "execution_count": 78,
   "id": "recreational-twist",
   "metadata": {
    "slideshow": {
     "slide_type": "slide"
    }
   },
   "outputs": [
    {
     "data": {
      "text/html": [
       "<div>\r\n",
       " <div id=\"77fcf469-a15f-4a56-98c1-c938524f2299\" class=\"jxgbox\" style=\"width:100%;height:640px\"></div>\r\n",
       " <script>require(['https://cdn.jsdelivr.net/npm/jsxgraph/distrib/jsxgraphcore.js'], function(JXG) {\n",
       "JXG.Options.text.useMathJax = true;\n",
       "var MathJS__Sin$, Board__invisible, Board__get_invisible$;\r\n",
       "Board__get_invisible$ = (function()\r\n",
       "{\r\n",
       "    var size = 0.000000;\r\n",
       "    var withLabel = false;\r\n",
       "    return {label: \"\", size: size, strokeWidth: 0.000000, withLabel: withLabel};\r\n",
       "});\r\n",
       "MathJS__Sin$ = (function(x)\r\n",
       "{\r\n",
       "    return Math.sin(x);;\r\n",
       "});\r\n",
       "Board__invisible = Board__get_invisible$();\r\n",
       "var boundingbox = [(0.000000 - ((10.000000 - 0.000000) / 10.000000)), (4.564726 + ((4.564726 - 0.000000) / 10.000000)), (10.000000 + (10.000000 / 10.000000)), (0.000000 - (4.564726 / 10.000000))];\r\n",
       "var showNavigation = true;\r\n",
       "var showCopyright = false;\r\n",
       "var keepAspectRatio = false;\r\n",
       "var b = JXG.JSXGraph.initBoard(\"77fcf469-a15f-4a56-98c1-c938524f2299\", {axis: true, boundingbox: boundingbox, keepAspectRatio: keepAspectRatio, showCopyright: showCopyright, showNavigation: showNavigation});\r\n",
       "var fg = b.create('functiongraph', [(function(r)\r\n",
       "{\r\n",
       "    return (5.000000 * MathJS__Sin$((2.000000 * r)));\r\n",
       "}), 0.000000, 10.000000], {strokeColor: \"blue\", strokeWidth: 1});\r\n",
       "var t = b.create('text', [((10.000000 - 0.000000) * 0.500000), (4.564726 - ((4.564726 - 0.000000) / 10.000000)), \"$$ r \\\\mapsto a \\\\cdot \\\\sin{2.0r} $$\"], Board__invisible);\r\n",
       "b});</script>\r\n",
       "</div>\r\n"
      ],
      "text/plain": [
       "Elem\n",
       "  (\"div\",\n",
       "   [Elem\n",
       "      (\"div\",\n",
       "       [Attr (\"id\", \"77fcf469-a15f-4a56-98c1-c938524f2299\");\n",
       "        Attr (\"class\", \"jxgbox\"); Attr (\"style\", \"width:100%;height:640px\")]);\n",
       "    Elem\n",
       "      (\"script\",\n",
       "       [Text\n",
       "          \"require(['https://cdn.jsdelivr.net/npm/jsxgraph/distrib/jsxgraphcore.js'], function(JXG) {\n",
       "JXG.Options.text.useMathJax = true;\n",
       "var MathJS__Sin$, Board__invisible, Board__get_invisible$;\r\n",
       "Board__get_invisible$ = (function()\r\n",
       "{\r\n",
       "    var size = 0.000000;\r\n",
       "    var withLabel = false;\r\n",
       "    return {label: \"\", size: size, strokeWidth: 0.000000, withLabel: withLabel};\r\n",
       "});\r\n",
       "MathJS__Sin$ = (function(x)\r\n",
       "{\r\n",
       "    return Math.sin(x);;\r\n",
       "});\r\n",
       "Board__invisible = Board__get_invisible$();\r\n",
       "var boundingbox = [(0.000000 - ((10.000000 - 0.000000) / 10.000000)), (4.564726 + ((4.564726 - 0.000000) / 10.000000)), (10.000000 + (10.000000 / 10.000000)), (0.000000 - (4.564726 / 10.000000))];\r\n",
       "var showNavigation = true;\r\n",
       "var showCopyright = false;\r\n",
       "var keepAspectRatio = false;\r\n",
       "var b = JXG.JSXGraph.initBoard(\"77fcf469-a15f-4a56-98c1-c938524f2299\", {axis: true, boundingbox: boundingbox, keepAspectRatio: keepAspectRatio, showCopyright: showCopyright, showNavigation: showNavigation});\r\n",
       "var fg = b.create('functiongraph', [(function(r)\r\n",
       "{\r\n",
       "    return (5.000000 * MathJS__Sin$((2.000000 * r)));\r\n",
       "}), 0.000000, 10.000000], {strokeColor: \"blue\", strokeWidth: 1});\r\n",
       "var t = b.create('text', [((10.000000 - 0.000000) * 0.500000), (4.564726 - ((4.564726 - 0.000000) / 10.000000)), \"$$ r \\\\mapsto a \\\\cdot \\\\sin{2.0r} $$\"], Board__invisible);\r\n",
       "b});\"])])"
      ]
     },
     "execution_count": 78,
     "metadata": {},
     "output_type": "execute_result"
    }
   ],
   "source": [
    "let a = realconst \"a\" //Declare a real constant a\n",
    "let f2 = realfun (a * sin (2 * r)) //Declare a new function f2\n",
    "draw {| a = 5.|} f2 //Draw f2 setting a to 2."
   ]
  },
  {
   "cell_type": "code",
   "execution_count": 79,
   "id": "acting-indie",
   "metadata": {
    "slideshow": {
     "slide_type": "slide"
    }
   },
   "outputs": [
    {
     "data": {
      "text/html": [
       "<div>\r\n",
       " <div id=\"ae0d8855-34e2-4451-9cfe-1abb1658f80b\" class=\"jxgbox\" style=\"width:100%;height:640px\"></div>\r\n",
       " <script>require(['https://cdn.jsdelivr.net/npm/jsxgraph/distrib/jsxgraphcore.js'], function(JXG) {\n",
       "JXG.Options.text.useMathJax = true;\n",
       "var MathJS__Sin$, Board__invisible, Board__get_invisible$;\r\n",
       "Board__get_invisible$ = (function()\r\n",
       "{\r\n",
       "    var size = 0.000000;\r\n",
       "    var withLabel = false;\r\n",
       "    return {label: \"\", size: size, strokeWidth: 0.000000, withLabel: withLabel};\r\n",
       "});\r\n",
       "MathJS__Sin$ = (function(x)\r\n",
       "{\r\n",
       "    return Math.sin(x);;\r\n",
       "});\r\n",
       "Board__invisible = Board__get_invisible$();\r\n",
       "var boundingbox = [(0.000000 - ((10.000000 - 0.000000) / 10.000000)), (10.000000 + ((10.000000 - -10.000000) / 10.000000)), (10.000000 + (10.000000 / 10.000000)), (-10.000000 - (10.000000 / 10.000000))];\r\n",
       "var showNavigation = true;\r\n",
       "var showCopyright = false;\r\n",
       "var keepAspectRatio = false;\r\n",
       "var b = JXG.JSXGraph.initBoard(\"ae0d8855-34e2-4451-9cfe-1abb1658f80b\", {axis: true, boundingbox: boundingbox, keepAspectRatio: keepAspectRatio, showCopyright: showCopyright, showNavigation: showNavigation});\r\n",
       "var a = b.create('slider', [[(0.750000 * 10.000000), ((0.750000 * 10.000000) - ((1.000000 - 1.000000) * ((10.000000 - -10.000000) / 10.000000)))], [(0.750000 * 10.000000) + 2.000000, ((0.750000 * 10.000000) - ((1.000000 - 1.000000) * ((10.000000 - -10.000000) / 10.000000)))], [1.000000, 1.000000, 10.000000]], {name: \"a\"});\r\n",
       "var fg = b.create('functiongraph', [(function(r)\r\n",
       "{\r\n",
       "    return (a.Value() * MathJS__Sin$((2.000000 * r)));\r\n",
       "}), 0.000000, 10.000000], {strokeColor: \"red\", strokeWidth: 3});\r\n",
       "var t = b.create('text', [((10.000000 - 0.000000) * 0.500000), (10.000000 - ((10.000000 - -10.000000) / 10.000000)), \"$$ r \\\\mapsto a \\\\cdot \\\\sin{2.0r} $$\"], Board__invisible);\r\n",
       "b});</script>\r\n",
       "</div>\r\n"
      ],
      "text/plain": [
       "Elem\n",
       "  (\"div\",\n",
       "   [Elem\n",
       "      (\"div\",\n",
       "       [Attr (\"id\", \"ae0d8855-34e2-4451-9cfe-1abb1658f80b\");\n",
       "        Attr (\"class\", \"jxgbox\"); Attr (\"style\", \"width:100%;height:640px\")]);\n",
       "    Elem\n",
       "      (\"script\",\n",
       "       [Text\n",
       "          \"require(['https://cdn.jsdelivr.net/npm/jsxgraph/distrib/jsxgraphcore.js'], function(JXG) {\n",
       "JXG.Options.text.useMathJax = true;\n",
       "var MathJS__Sin$, Board__invisible, Board__get_invisible$;\r\n",
       "Board__get_invisible$ = (function()\r\n",
       "{\r\n",
       "    var size = 0.000000;\r\n",
       "    var withLabel = false;\r\n",
       "    return {label: \"\", size: size, strokeWidth: 0.000000, withLabel: withLabel};\r\n",
       "});\r\n",
       "MathJS__Sin$ = (function(x)\r\n",
       "{\r\n",
       "    return Math.sin(x);;\r\n",
       "});\r\n",
       "Board__invisible = Board__get_invisible$();\r\n",
       "var boundingbox = [(0.000000 - ((10.000000 - 0.000000) / 10.000000)), (10.000000 + ((10.000000 - -10.000000) / 10.000000)), (10.000000 + (10.000000 / 10.000000)), (-10.000000 - (10.000000 / 10.000000))];\r\n",
       "var showNavigation = true;\r\n",
       "var showCopyright = false;\r\n",
       "var keepAspectRatio = false;\r\n",
       "var b = JXG.JSXGraph.initBoard(\"ae0d8855-34e2-4451-9cfe-1abb1658f80b\", {axis: true, boundingbox: boundingbox, keepAspectRatio: keepAspectRatio, showCopyright: showCopyright, showNavigation: showNavigation});\r\n",
       "var a = b.create('slider', [[(0.750000 * 10.000000), ((0.750000 * 10.000000) - ((1.000000 - 1.000000) * ((10.000000 - -10.000000) / 10.000000)))], [(0.750000 * 10.000000) + 2.000000, ((0.750000 * 10.000000) - ((1.000000 - 1.000000) * ((10.000000 - -10.000000) / 10.000000)))], [1.000000, 1.000000, 10.000000]], {name: \"a\"});\r\n",
       "var fg = b.create('functiongraph', [(function(r)\r\n",
       "{\r\n",
       "    return (a.Value() * MathJS__Sin$((2.000000 * r)));\r\n",
       "}), 0.000000, 10.000000], {strokeColor: \"red\", strokeWidth: 3});\r\n",
       "var t = b.create('text', [((10.000000 - 0.000000) * 0.500000), (10.000000 - ((10.000000 - -10.000000) / 10.000000)), \"$$ r \\\\mapsto a \\\\cdot \\\\sin{2.0r} $$\"], Board__invisible);\r\n",
       "b});\"])])"
      ]
     },
     "execution_count": 79,
     "metadata": {},
     "output_type": "execute_result"
    }
   ],
   "source": [
    "let graph =  // Declare additional properties for drawing\n",
    "    {|\n",
    "        xrange=0.,10.\n",
    "        a=1.,10. //Use an interval for a\n",
    "        yrange= -10.,10. //if using intervals for parameters, must specifiy min, max for y-axis\n",
    "        strokeColor=red //Color red\n",
    "        strokeWidth = 3 //Thick plot width\n",
    "    |} \n",
    "draw graph f2"
   ]
  },
  {
   "cell_type": "code",
   "execution_count": 80,
   "id": "double-month",
   "metadata": {
    "slideshow": {
     "slide_type": "slide"
    }
   },
   "outputs": [
    {
     "data": {
      "text/html": [
       "<div>\r\n",
       " <div id=\"4e571867-7fd3-41d4-8e75-3d44de1553e5\" class=\"jxgbox\" style=\"width:100%;height:640px\"></div>\r\n",
       " <script>require(['https://cdn.jsdelivr.net/npm/jsxgraph/distrib/jsxgraphcore.js'], function(JXG) {\n",
       "JXG.Options.text.useMathJax = true;\n",
       "var Board__invisible, Board__get_invisible$, Board__get_defaults$, Board__defaults;\r\n",
       "Board__get_defaults$ = (function()\r\n",
       "{\r\n",
       "    return {};\r\n",
       "});\r\n",
       "Board__get_invisible$ = (function()\r\n",
       "{\r\n",
       "    var size = 0.000000;\r\n",
       "    var withLabel = false;\r\n",
       "    return {label: \"\", size: size, strokeWidth: 0.000000, withLabel: withLabel};\r\n",
       "});\r\n",
       "Board__invisible = Board__get_invisible$();\r\n",
       "Board__defaults = Board__get_defaults$();\r\n",
       "var boundingbox = [(0.000000 - ((10.000000 - 0.000000) / 10.000000)), (30.000000 + ((30.000000 - 0.000000) / 10.000000)), (10.000000 + (10.000000 / 10.000000)), (0.000000 - (30.000000 / 10.000000))];\r\n",
       "var showNavigation = true;\r\n",
       "var showCopyright = false;\r\n",
       "var keepAspectRatio = false;\r\n",
       "var b = JXG.JSXGraph.initBoard(\"4e571867-7fd3-41d4-8e75-3d44de1553e5\", {axis: true, boundingbox: boundingbox, keepAspectRatio: keepAspectRatio, showCopyright: showCopyright, showNavigation: showNavigation});\r\n",
       "var s = b.create('slider', [[(0.750000 * 10.000000), ((0.750000 * 30.000000) - ((2.000000 - 1.000000) * ((30.000000 - 0.000000) / 10.000000)))], [(0.750000 * 10.000000) + 2.000000, ((0.750000 * 30.000000) - ((2.000000 - 1.000000) * ((30.000000 - 0.000000) / 10.000000)))], [5.000000, 1.000000, 10.000000]], {name: \"s\"});\r\n",
       "var r = b.create('slider', [[(0.750000 * 10.000000), ((0.750000 * 30.000000) - ((1.000000 - 1.000000) * ((30.000000 - 0.000000) / 10.000000)))], [(0.750000 * 10.000000) + 2.000000, ((0.750000 * 30.000000) - ((1.000000 - 1.000000) * ((30.000000 - 0.000000) / 10.000000)))], [1.000000, 1.000000, 9.000000]], {name: \"r\"});\r\n",
       "var o = b.create('point', [0.000000, 0.000000], Board__invisible);\r\n",
       "var p = b.create('point', [(function(unitVar0)\r\n",
       "{\r\n",
       "    return (r.Value() + s.Value());\r\n",
       "}), (function(unitVar0)\r\n",
       "{\r\n",
       "    return s.Value();\r\n",
       "})], Board__defaults);\r\n",
       "var a = b.create('arrow', [o, p], Board__defaults);\r\n",
       "var t = b.create('text', [((10.000000 - 0.000000) * 0.500000), ((30.000000 + ((30.000000 - 0.000000) / 10.000000)) - 0.500000), \"$$ \\\\mathbb{R}^ 2 vector \\\\begin{pmatrix} r + s \\\\\\\\ s \\\\end{pmatrix} $$\"], Board__invisible);\r\n",
       "b});</script>\r\n",
       "</div>\r\n"
      ],
      "text/plain": [
       "Elem\n",
       "  (\"div\",\n",
       "   [Elem\n",
       "      (\"div\",\n",
       "       [Attr (\"id\", \"4e571867-7fd3-41d4-8e75-3d44de1553e5\");\n",
       "        Attr (\"class\", \"jxgbox\"); Attr (\"style\", \"width:100%;height:640px\")]);\n",
       "    Elem\n",
       "      (\"script\",\n",
       "       [Text\n",
       "          \"require(['https://cdn.jsdelivr.net/npm/jsxgraph/distrib/jsxgraphcore.js'], function(JXG) {\n",
       "JXG.Options.text.useMathJax = true;\n",
       "var Board__invisible, Board__get_invisible$, Board__get_defaults$, Board__defaults;\r\n",
       "Board__get_defaults$ = (function()\r\n",
       "{\r\n",
       "    return {};\r\n",
       "});\r\n",
       "Board__get_invisible$ = (function()\r\n",
       "{\r\n",
       "    var size = 0.000000;\r\n",
       "    var withLabel = false;\r\n",
       "    return {label: \"\", size: size, strokeWidth: 0.000000, withLabel: withLabel};\r\n",
       "});\r\n",
       "Board__invisible = Board__get_invisible$();\r\n",
       "Board__defaults = Board__get_defaults$();\r\n",
       "var boundingbox = [(0.000000 - ((10.000000 - 0.000000) / 10.000000)), (30.000000 + ((30.000000 - 0.000000) / 10.000000)), (10.000000 + (10.000000 / 10.000000)), (0.000000 - (30.000000 / 10.000000))];\r\n",
       "var showNavigation = true;\r\n",
       "var showCopyright = false;\r\n",
       "var keepAspectRatio = false;\r\n",
       "var b = JXG.JSXGraph.initBoard(\"4e571867-7fd3-41d4-8e75-3d44de1553e5\", {axis: true, boundingbox: boundingbox, keepAspectRatio: keepAspectRatio, showCopyright: showCopyright, showNavigation: showNavigation});\r\n",
       "var s = b.create('slider', [[(0.750000 * 10.000000), ((0.750000 * 30.000000) - ((2.000000 - 1.000000) * ((30.000000 - 0.000000) / 10.000000)))], [(0.750000 * 10.000000) + 2.000000, ((0.750000 * 30.000000) - ((2.000000 - 1.000000) * ((30.000000 - 0.000000) / 10.000000)))], [5.000000, 1.000000, 10.000000]], {name: \"s\"});\r\n",
       "var r = b.create('slider', [[(0.750000 * 10.000000), ((0.750000 * 30.000000) - ((1.000000 - 1.000000) * ((30.000000 - 0.000000) / 10.000000)))], [(0.750000 * 10.000000) + 2.000000, ((0.750000 * 30.000000) - ((1.000000 - 1.000000) * ((30.000000 - 0.000000) / 10.000000)))], [1.000000, 1.000000, 9.000000]], {name: \"r\"});\r\n",
       "var o = b.create('point', [0.000000, 0.000000], Board__invisible);\r\n",
       "var p = b.create('point', [(function(unitVar0)\r\n",
       "{\r\n",
       "    return (r.Value() + s.Value());\r\n",
       "}), (function(unitVar0)\r\n",
       "{\r\n",
       "    return s.Value();\r\n",
       "})], Board__defaults);\r\n",
       "var a = b.create('arrow', [o, p], Board__defaults);\r\n",
       "var t = b.create('text', [((10.000000 - 0.000000) * 0.500000), ((30.000000 + ((30.000000 - 0.000000) / 10.000000)) - 0.500000), \"$$ \\\\mathbb{R}^ 2 vector \\\\begin{pmatrix} r + s \\\\\\\\ s \\\\end{pmatrix} $$\"], Board__invisible);\r\n",
       "b});\"])])"
      ]
     },
     "execution_count": 80,
     "metadata": {},
     "output_type": "execute_result"
    }
   ],
   "source": [
    "let rr = (vec2 (r + s) s)\n",
    "draw {|r = 1.,9.; s = 5.,10.; range=10.,30. |} rr"
   ]
  },
  {
   "cell_type": "code",
   "execution_count": null,
   "id": "described-mumbai",
   "metadata": {},
   "outputs": [],
   "source": [
    "let a = realconst \"a\"\n",
    "let ff = realfun (r***2 + a)\n",
    "\n",
    "draw {|xrange = 0.,15.;yrange=0.,300.; a=0.,150.|} ff"
   ]
  },
  {
   "cell_type": "markdown",
   "id": "difficult-coral",
   "metadata": {
    "slideshow": {
     "slide_type": "slide"
    }
   },
   "source": [
    "# Why Sylvester?"
   ]
  },
  {
   "cell_type": "markdown",
   "id": "proof-linux",
   "metadata": {
    "slideshow": {
     "slide_type": "slide"
    }
   },
   "source": [
    "# Why Sylvester?\n",
    "## What's the role of computers in math practice and education today?\n",
    "Consider:\n",
    "* High school students doing homework\n",
    "* College students working on a proof\n",
    "* Researchers working on a paper"
   ]
  },
  {
   "cell_type": "markdown",
   "id": "unique-doubt",
   "metadata": {
    "slideshow": {
     "slide_type": "slide"
    }
   },
   "source": [
    "# Why Sylvester?\n",
    "## What's the role of computers  in math practice and education today?\n",
    "* Numeric calculation\n",
    "* Reference material lookup\n",
    "* Communication (email, messaging, meeting, forums...)\n",
    "* Document management"
   ]
  },
  {
   "cell_type": "markdown",
   "id": "floral-airport",
   "metadata": {
    "slideshow": {
     "slide_type": "slide"
    }
   },
   "source": [
    "# Why Sylvester?\n",
    "## What's the role of computers in math practice and education today?\n",
    "* Computers and software aren't central to math practice and learning as they are to other human activities\n",
    "* Computers are used by students as devices for numeric computing or for ancillary processes like communication \n",
    "* Numeric capabilities of computers very accessible to end-users...\n",
    "* Symbolic, logical, visualization capabilities of computers not as accessible to end-users"
   ]
  },
  {
   "cell_type": "markdown",
   "id": "adult-yugoslavia",
   "metadata": {
    "hide_input": false,
    "slideshow": {
     "slide_type": "slide"
    }
   },
   "source": [
    "# Why Sylvester?\n",
    "<div style=\"float:left\">\n",
    "    <h3> Business in 16th century </h3>\n",
    "    <img src=\"https://ajb.nyc3.cdn.digitaloceanspaces.com/headeraccount.jpg\" />\n",
    "</div>\n",
    "<div style=\"float:right\">\n",
    "    <h3> Business in 21st century </h3>\n",
    "    <img src=\"https://ajb.nyc3.cdn.digitaloceanspaces.com/spreadsheet-user.jpg\" />\n",
    "</div>\n",
    "<div style=\"clear:right\">\n",
    "    <h3>Computers and software have fundamentally altered the core processes of business</h3>\n",
    "</div>"
   ]
  },
  {
   "cell_type": "markdown",
   "id": "looking-compiler",
   "metadata": {
    "slideshow": {
     "slide_type": "slide"
    }
   },
   "source": [
    "# Why Sylvester?\n",
    "<div style=\"float:left\">\n",
    "    <h3> Math education in the 13th century </h3>\n",
    "    <img src=\"https://ajb.nyc3.cdn.digitaloceanspaces.com/1350class.webp\"/>\n",
    "    \n",
    "</div>\n",
    "<div style=\"float:right\">\n",
    "     <h3> Math education in the 21st century </h3>\n",
    "    <img src=\"https://ajb.nyc3.cdn.digitaloceanspaces.com/mathclass21.jpg\"/>\n",
    "</div>\n",
    "<div style=\"clear:right\">\n",
    "    <br>\n",
    "    <center><h3>Computers and software have not fundamentally altered the core processes of math education</h3></center>\n",
    "</div>"
   ]
  },
  {
   "cell_type": "markdown",
   "id": "acute-scott",
   "metadata": {
    "slideshow": {
     "slide_type": "slide"
    }
   },
   "source": [
    "# Why Sylvester?\n",
    "\n",
    "\n",
    "<center>\n",
    "    <img src=\"mathpractice.png\" style=\"width:1024px\" />\n",
    "    <h2>Can computers and software become fundamental to math practice and education?</h2>\n",
    "</center>\n"
   ]
  },
  {
   "cell_type": "markdown",
   "id": "round-manual",
   "metadata": {
    "slideshow": {
     "slide_type": "slide"
    }
   },
   "source": [
    "# Why Sylvester?\n",
    "## Software for higher mathematics can be divided into 2 categories\n",
    "<div style=\"float:left; width:49%;margin-right:10px\">\n",
    "    <h3>Computer Algebra Systems (CAS)</h3>\n",
    "    <img src=\"maxima1.png\"/>\n",
    "</div>\n",
    "<div style=\"float:right; width:49%\">\n",
    "     <h3>Theorem provers </h3>\n",
    "    <img src=\"isabelle1.png\"/>\n",
    "</div>\n",
    "<div style=\"clear:right\">\n",
    "    <br>\n",
    "    <center><h3>Computers and software have not fundamentally altered the core processes of math education</h3></center>\n",
    "</div>"
   ]
  },
  {
   "cell_type": "markdown",
   "id": "controversial-synthetic",
   "metadata": {
    "slideshow": {
     "slide_type": "slide"
    }
   },
   "source": [
    "# Why Sylvester?\n",
    "* Provide syntax and types for expressing formulas and properties and operations and theorems and diagrams from different mathematical domanis\n",
    "* Integrate tools for computer-based math like CAS, SMT solvers, proof assistants, visualization libraries into a single syntax and API\n",
    "* Provide a **single** language and environment for completing all the tasks required in solving university-level math problems and questions\n",
    "* Provide a **single** language and interface for cutting-edge open-source tools for manipulating, solving, proving, visualizing, researching, learning university-level math and beyond"
   ]
  },
  {
   "cell_type": "markdown",
   "id": "empty-transaction",
   "metadata": {
    "slideshow": {
     "slide_type": "slide"
    }
   },
   "source": [
    "# Visualization in Sylvester"
   ]
  },
  {
   "cell_type": "markdown",
   "id": "cubic-regression",
   "metadata": {
    "slideshow": {
     "slide_type": "slide"
    }
   },
   "source": [
    "# Visualization in Sylvester\n",
    "* Provides a high-level API based around the `draw` command acting on objects from mathematical domains using named properties to set pre-defined parameters e.g `draw {|r = 1.,9.; s = 5.,10.; range=10.,30. |} rr`\n",
    "* Provides a low-level API consisting of a functional interface to JSXGraph and objects like points, lines, polygons, axes, function graphs, sliders, etc."
   ]
  },
  {
   "cell_type": "markdown",
   "id": "unavailable-sender",
   "metadata": {
    "slideshow": {
     "slide_type": "slide"
    }
   },
   "source": [
    "# Visualization in Sylvester\n",
    "## JSXGraph\n",
    "* www.jsxgraph.org\n",
    "* \"is a cross-browser JavaScript library for interactive geometry, function plotting, charting, and data visualization in the web browser.\"\n",
    "* Defines primitive elements of interactive visualization like boards, points, lines, polygons, axes, functiongraphs...\n",
    "* Designed to be embedded in web applications or LMS like Moodle\n",
    "* Target audience is web developers"
   ]
  },
  {
   "cell_type": "markdown",
   "id": "stuck-magic",
   "metadata": {
    "slideshow": {
     "slide_type": "slide"
    }
   },
   "source": [
    "# Sylvester Demo #2 - Low-level visualization API"
   ]
  },
  {
   "cell_type": "code",
   "execution_count": 81,
   "id": "accessible-energy",
   "metadata": {
    "slideshow": {
     "slide_type": "slide"
    }
   },
   "outputs": [
    {
     "data": {
      "text/html": [
       "<div>\r\n",
       " <div id=\"df3815c5-2c52-4088-988a-e0b1dab3a4d5\" class=\"jxgbox\" style=\"width:100%;height:640px\"></div>\r\n",
       " <script>require(['https://cdn.jsdelivr.net/npm/jsxgraph/distrib/jsxgraphcore.js'], function(JXG) {\n",
       "JXG.Options.text.useMathJax = true;\n",
       "var rsum__upper, rsum__get_upper$, MathJS__Sin$, Board__get_defaults$, Board__get_autoPosition$, Board__draw_ge$GeometryElement_GeometryElement_, Board__defaults, Board__autoPosition, Board__area$, Array__BoxedLength$;\r\n",
       "Array__BoxedLength$ = (function(xs)\r\n",
       "{\r\n",
       "    return xs.length;;\r\n",
       "});\r\n",
       "Board__area$ = (function(d,h,o)\r\n",
       "{\r\n",
       "    return [((o - d) - 0.500000), ((o + h) + 0.500000), ((o + d) + 0.500000), ((o - h) - 0.500000)];\r\n",
       "});\r\n",
       "Board__draw_ge$GeometryElement_GeometryElement_ = (function(board,elems)\r\n",
       "{\r\n",
       "    for (var _127 = 0; _127 <= (Array__BoxedLength$(elems) - 1); _127++)\r\n",
       "    {\r\n",
       "      (function(i)\r\n",
       "      {\r\n",
       "        var ignored0 = elems[i](board);\r\n",
       "      })(_127);\r\n",
       "    };\r\n",
       "    return board;\r\n",
       "});\r\n",
       "Board__get_autoPosition$ = (function()\r\n",
       "{\r\n",
       "    var useMathJax = true;\r\n",
       "    var display = \"html\";\r\n",
       "    return {autoPosition: true, display: display, useMathJax: useMathJax};\r\n",
       "});\r\n",
       "Board__get_defaults$ = (function()\r\n",
       "{\r\n",
       "    return {};\r\n",
       "});\r\n",
       "MathJS__Sin$ = (function(x)\r\n",
       "{\r\n",
       "    return Math.sin(x);;\r\n",
       "});\r\n",
       "rsum__get_upper$ = (function()\r\n",
       "{\r\n",
       "    return \"upper\";\r\n",
       "});\r\n",
       "Board__autoPosition = Board__get_autoPosition$();\r\n",
       "rsum__upper = rsum__get_upper$();\r\n",
       "Board__defaults = Board__get_defaults$();\r\n",
       "var boundingbox = Board__area$(5.000000, 8.000000, 0.000000);\r\n",
       "var showNavigation = true;\r\n",
       "var showCopyright = false;\r\n",
       "var keepAspectRatio = true;\r\n",
       "var b = {axis: true, boundingbox: boundingbox, keepAspectRatio: keepAspectRatio, showCopyright: showCopyright, showNavigation: showNavigation};\r\n",
       "var board = JXG.JSXGraph.initBoard(\"df3815c5-2c52-4088-988a-e0b1dab3a4d5\", b);\r\n",
       "var a = board.create('slider', [[-10.000000, -6.000000], [-10.000000 + 4.000000, -6.000000], [-10.000000, -10.000000, -20.000000]], {name: \"a\", snapWidth: 1});\r\n",
       "var _b = board.create('slider', [[-10.000000, -7.000000], [-10.000000 + 4.000000, -7.000000], [10.000000, 10.000000, 20.000000]], {name: \"b\", snapWidth: 1});\r\n",
       "var n = board.create('slider', [[-10.000000, -8.000000], [-10.000000 + 4.000000, -8.000000], [1.000000, 40.000000, 50.000000]], {name: \"n\", snapWidth: 1});\r\n",
       "var f = (function(r)\r\n",
       "{\r\n",
       "    return (r * MathJS__Sin$(r));\r\n",
       "});\r\n",
       "var min = (function(unitVar)\r\n",
       "{\r\n",
       "    return a.Value();\r\n",
       "});\r\n",
       "var max = (function(unitVar)\r\n",
       "{\r\n",
       "    return _b.Value();\r\n",
       "});\r\n",
       "var name = \"f(x)=x sin(x)\";\r\n",
       "var withLabel = true;\r\n",
       "var attr = {label: Board__autoPosition, name: name, withLabel: withLabel};\r\n",
       "var _f = (function(r)\r\n",
       "{\r\n",
       "    return (r * MathJS__Sin$(r));\r\n",
       "});\r\n",
       "var _n = (function(unitVar)\r\n",
       "{\r\n",
       "    return n.Value();\r\n",
       "});\r\n",
       "var _a = (function(unitVar)\r\n",
       "{\r\n",
       "    return a.Value();\r\n",
       "});\r\n",
       "var __b = (function(unitVar)\r\n",
       "{\r\n",
       "    return _b.Value();\r\n",
       "});\r\n",
       "Board__draw_ge$GeometryElement_GeometryElement_(board, [(function(_board)\r\n",
       "{\r\n",
       "    return _board.create('functiongraph', [f, min, max], attr);\r\n",
       "}), (function(_board)\r\n",
       "{\r\n",
       "    return _board.create('riemannsum', [_f, _n, rsum__upper, _a, __b], Board__defaults);\r\n",
       "})])});</script>\r\n",
       "</div>\r\n"
      ],
      "text/plain": [
       "Let (b,\n",
       "     Let (boundingbox,\n",
       "          Call (None, area, [Value (5.0), Value (8.0), Value (0.0)]),\n",
       "          Let (showNavigation, Value (true),\n",
       "               Let (showCopyright, Value (false),\n",
       "                    Let (keepAspectRatio, Value (true),\n",
       "                         NewRecord (<>f__AnonymousType217440327`5, Value (true),\n",
       "                                    boundingbox, keepAspectRatio, showCopyright,\n",
       "                                    showNavigation))))),\n",
       "     Let (board, Call (None, board, [Coerce (b, Object)]),\n",
       "          Let (a,\n",
       "               Call (None, slider,\n",
       "                     [Value (-10.0), Value (-6.0), Value (4.0), Value (-10.0),\n",
       "                      Value (-20.0), Value (-10.0),\n",
       "                      Coerce (NewRecord (<>f__AnonymousType189190062`2,\n",
       "                                         Value (\"a\"), Value (1)), Object), board]),\n",
       "               Let (b,\n",
       "                    Call (None, slider,\n",
       "                          [Value (-10.0), Value (-7.0), Value (4.0),\n",
       "                           Value (10.0), Value (20.0), Value (10.0),\n",
       "                           Coerce (NewRecord (<>f__AnonymousType189190062`2,\n",
       "                                              Value (\"b\"), Value (1)), Object),\n",
       "                           board]),\n",
       "                    Let (n,\n",
       "                         Call (None, slider,\n",
       "                               [Value (-10.0), Value (-8.0), Value (4.0),\n",
       "                                Value (1.0), Value (50.0), Value (40.0),\n",
       "                                Coerce (NewRecord (<>f__AnonymousType189190062`2,\n",
       "                                                   Value (\"n\"), Value (1)),\n",
       "                                        Object), board]),\n",
       "                         Call (None, draw_ge,\n",
       "                               [board,\n",
       "                                NewArray (FSharpFunc`2,\n",
       "                                          Let (f,\n",
       "                                               Lambda (r,\n",
       "                                                       Call (None, op_Multiply,\n",
       "                                                             [r,\n",
       "                                                              Call (None, Sin,\n",
       "                                                                    [r])])),\n",
       "                                               Let (min,\n",
       "                                                    Lambda (unitVar,\n",
       "                                                            Call (Some (a),\n",
       "                                                                  Value, [])),\n",
       "                                                    Let (max,\n",
       "                                                         Lambda (unitVar,\n",
       "                                                                 Call (Some (b),\n",
       "                                                                       Value, [])),\n",
       "                                                         Let (attr,\n",
       "                                                              Let (name,\n",
       "                                                                   Value (\"f(x)=x sin(x)\"),\n",
       "                                                                   Let (withLabel,\n",
       "                                                                        Value (true),\n",
       "                                                                        NewRecord (<>f__AnonymousType2104028026`3,\n",
       "                                                                                   PropertyGet (None,\n",
       "                                                                                                autoPosition,\n",
       "                                                                                                []),\n",
       "                                                                                   name,\n",
       "                                                                                   withLabel))),\n",
       "                                                              Lambda (board,\n",
       "                                                                      Call (None,\n",
       "                                                                            functiongraph,\n",
       "                                                                            [f,\n",
       "                                                                             Coerce (min,\n",
       "                                                                                     Object),\n",
       "                                                                             Coerce (max,\n",
       "                                                                                     Object),\n",
       "                                                                             Coerce (attr,\n",
       "                                                                                     Object),\n",
       "                                                                             board])))))),\n",
       "                                          Let (f,\n",
       "                                               Lambda (r,\n",
       "                                                       Call (None, op_Multiply,\n",
       "                                                             [r,\n",
       "                                                              Call (None, Sin,\n",
       "                                                                    [r])])),\n",
       "                                               Let (n,\n",
       "                                                    Lambda (unitVar,\n",
       "                                                            Call (Some (n),\n",
       "                                                                  Value, [])),\n",
       "                                                    Let (a,\n",
       "                                                         Lambda (unitVar,\n",
       "                                                                 Call (Some (a),\n",
       "                                                                       Value, [])),\n",
       "                                                         Let (b,\n",
       "                                                              Lambda (unitVar,\n",
       "                                                                      Call (Some (b),\n",
       "                                                                            Value,\n",
       "                                                                            [])),\n",
       "                                                              Lambda (board,\n",
       "                                                                      Call (None,\n",
       "                                                                            riemannsum,\n",
       "                                                                            [f,\n",
       "                                                                             Coerce (n,\n",
       "                                                                                     Object),\n",
       "                                                                             PropertyGet (None,\n",
       "                                                                                          upper,\n",
       "                                                                                          []),\n",
       "                                                                             Coerce (a,\n",
       "                                                                                     Object),\n",
       "                                                                             Coerce (b,\n",
       "                                                                                     Object),\n",
       "                                                                             Coerce (PropertyGet (None,\n",
       "                                                                                                  defaults,\n",
       "                                                                                                  []),\n",
       "                                                                                     Object),\n",
       "                                                                             board])))))))]))))))"
      ]
     },
     "execution_count": 81,
     "metadata": {},
     "output_type": "execute_result"
    }
   ],
   "source": [
    "// Sylvester low-level visualization API example\n",
    "\n",
    "let g = realfun (r * sin r) //Define another function\n",
    "<@ //Use quotation to indicate this F# code must be compiled to JavaScript\n",
    "let b = {| \n",
    "    boundingbox = area 5. 8. 0. \n",
    "    showNavigation = true \n",
    "    showCopyright = false\n",
    "    keepAspectRatio = true\n",
    "    axis = true \n",
    "|}\n",
    "let board = board b\n",
    "\n",
    "let a = slider -10. -6. 4. -10. -20. -10. {|name = \"a\"; snapWidth = 1|} board\n",
    "let b = slider -10. -7. 4. 10. 20. 10. {|name = \"b\"; snapWidth = 1|} board\n",
    "let n = slider -10. -8. 4. 1. 50. 40. {|name = \"n\"; snapWidth = 1|} board \n",
    "draw_ge board [|\n",
    "    ge.functiongraph %g.MapExpr a.Value b.Value {|name=\"f(x)=x sin(x)\"; withLabel=true; label=autoPosition |}\n",
    "    ge.riemannsum %g.MapExpr n.Value rsum.upper a.Value b.Value defaults \n",
    "|]\n",
    "@>"
   ]
  },
  {
   "cell_type": "code",
   "execution_count": 82,
   "id": "former-freeware",
   "metadata": {
    "slideshow": {
     "slide_type": "slide"
    }
   },
   "outputs": [
    {
     "data": {
      "text/html": [
       "<div>\r\n",
       " <div id=\"6b2394e4-d394-4559-9c19-349a83a5ec09\" class=\"jxgbox\" style=\"width:100%;height:640px\"></div>\r\n",
       " <script>require(['https://cdn.jsdelivr.net/npm/jsxgraph/distrib/jsxgraphcore.js'], function(JXG) {\n",
       "JXG.Options.text.useMathJax = true;\n",
       "var Board__get_defaults$, Board__defaults, Board__bbox$;\r\n",
       "Board__bbox$ = (function(x1,y1,x2,y2)\r\n",
       "{\r\n",
       "    return [x1, y1, x2, y2];\r\n",
       "});\r\n",
       "Board__get_defaults$ = (function()\r\n",
       "{\r\n",
       "    return {};\r\n",
       "});\r\n",
       "Board__defaults = Board__get_defaults$();\r\n",
       "var boundingbox = Board__bbox$(-0.500000, 10.000000, 10.000000, -0.500000);\r\n",
       "var showNavigation = true;\r\n",
       "var showCopyright = false;\r\n",
       "var keepAspectRatio = false;\r\n",
       "var grid = {axis: true, boundingbox: boundingbox, keepAspectRatio: keepAspectRatio, showCopyright: showCopyright, showNavigation: showNavigation};\r\n",
       "var board = JXG.JSXGraph.initBoard(\"6b2394e4-d394-4559-9c19-349a83a5ec09\", grid);\r\n",
       "var box = [-5.000000, 5.000000];\r\n",
       "var v = board.create('view3d', [[2.000000, 3.000000], [8.000000, 8.000000], [box, box, box]], Board__defaults);\r\n",
       "var p1 = v.create('point3d', [0.000000, 0.000000, 0.000000], {name: \"O\", size: 5});\r\n",
       "var p2 = v.create('point3d', [5.000000, 5.000000, 5.000000], Board__defaults);\r\n",
       "var c = v.create('line3d', [p1, p2], Board__defaults);\r\n",
       "board});</script>\r\n",
       "</div>\r\n"
      ],
      "text/plain": [
       "Let (grid,\n",
       "     Let (boundingbox,\n",
       "          Call (None, bbox,\n",
       "                [Value (-0.5), Value (10.0), Value (10.0), Value (-0.5)]),\n",
       "          Let (showNavigation, Value (true),\n",
       "               Let (showCopyright, Value (false),\n",
       "                    Let (keepAspectRatio, Value (false),\n",
       "                         NewRecord (<>f__AnonymousType217440327`5, Value (true),\n",
       "                                    boundingbox, keepAspectRatio, showCopyright,\n",
       "                                    showNavigation))))),\n",
       "     Let (board, Call (None, board, [Coerce (grid, Object)]),\n",
       "          Let (box, NewArray (Double, Value (-5.0), Value (5.0)),\n",
       "               Let (v,\n",
       "                    Call (None, view3d,\n",
       "                          [Value (2.0), Value (3.0), Value (8.0), Value (8.0),\n",
       "                           box, box, box,\n",
       "                           Coerce (PropertyGet (None, defaults, []), Object),\n",
       "                           board]),\n",
       "                    Let (p1,\n",
       "                         Call (None, point3d,\n",
       "                               [Coerce (Value (0.0), Object),\n",
       "                                Coerce (Value (0.0), Object),\n",
       "                                Coerce (Value (0.0), Object),\n",
       "                                Coerce (NewRecord (<>f__AnonymousType942454705`2,\n",
       "                                                   Value (\"O\"), Value (5)),\n",
       "                                        Object), v]),\n",
       "                         Let (p2,\n",
       "                              Call (None, point3d,\n",
       "                                    [Coerce (Value (5.0), Object),\n",
       "                                     Coerce (Value (5.0), Object),\n",
       "                                     Coerce (Value (5.0), Object),\n",
       "                                     Coerce (PropertyGet (None, defaults, []),\n",
       "                                             Object), v]),\n",
       "                              Let (c,\n",
       "                                   Call (None, line3d,\n",
       "                                         [p1, p2,\n",
       "                                          Coerce (PropertyGet (None, defaults,\n",
       "                                                               []), Object), v]),\n",
       "                                   board)))))))"
      ]
     },
     "execution_count": 82,
     "metadata": {},
     "output_type": "execute_result"
    }
   ],
   "source": [
    "// Sylvester low-level visualization API example\n",
    "<@\n",
    "let grid = {| boundingbox = bbox -0.5 10. 10. -0.5; showNavigation = true ; showCopyright = false; keepAspectRatio = false;axis = true |}\n",
    "let board = board grid\n",
    "let box = [|-5.; 5.|]\n",
    "let v = view3d 2. 3. 8. 8. box box box defaults board \n",
    "let p1 = point3d 0. 0. 0.  {| name=\"O\"; size=5 |} v\n",
    "let p2 = point3d 5. 5. 5. defaults v\n",
    "let c = line3d p1 p2 defaults v\n",
    "board\n",
    "@>"
   ]
  },
  {
   "cell_type": "code",
   "execution_count": 83,
   "id": "incredible-trout",
   "metadata": {
    "slideshow": {
     "slide_type": "slide"
    }
   },
   "outputs": [
    {
     "data": {
      "text/html": [
       "<div>\r\n",
       " <div id=\"6dd44e89-e4b1-4d8c-9a85-0f2bf553662b\" class=\"jxgbox\" style=\"width:100%;height:640px\"></div>\r\n",
       " <script>require(['https://cdn.jsdelivr.net/npm/jsxgraph/distrib/jsxgraphcore.js'], function(JXG) {\n",
       "JXG.Options.text.useMathJax = true;\n",
       "var color__get_black$, color__black, ResizeArray_1_Object__get_Item$Object_, Board__withName$Midpoint_Midpoint_, Board__withName$Intersection_Intersection_, Board__get_defaults$, Board__defaults, Board__deepCopy$__f__AnonymousType130765057_2_String__String____f__AnonymousType454685136_2_Boolean__Boolean___f__AnonymousType130765057_2_String__String____f__AnonymousType454685136_2_Boolean__Boolean_;\r\n",
       "Board__deepCopy$__f__AnonymousType130765057_2_String__String____f__AnonymousType454685136_2_Boolean__Boolean___f__AnonymousType130765057_2_String__String____f__AnonymousType454685136_2_Boolean__Boolean_ = (function(h,o)\r\n",
       "{\r\n",
       "    return JXG.deepCopy(h, o);\r\n",
       "});\r\n",
       "Board__get_defaults$ = (function()\r\n",
       "{\r\n",
       "    return {};\r\n",
       "});\r\n",
       "Board__withName$Intersection_Intersection_ = (function(n,ge)\r\n",
       "{\r\n",
       "    return ge.setAttribute({name: n});\r\n",
       "});\r\n",
       "Board__withName$Midpoint_Midpoint_ = (function(n,ge)\r\n",
       "{\r\n",
       "    return ge.setAttribute({name: n});\r\n",
       "});\r\n",
       "ResizeArray_1_Object__get_Item$Object_ = (function(xs,index)\r\n",
       "{\r\n",
       "    return xs[index];\r\n",
       "});\r\n",
       "color__get_black$ = (function()\r\n",
       "{\r\n",
       "    return \"black\";\r\n",
       "});\r\n",
       "color__black = color__get_black$();\r\n",
       "Board__defaults = Board__get_defaults$();\r\n",
       "var boundingbox = [-1.500000, 2.000000, 1.500000, -1.000000];\r\n",
       "var showNavigation = true;\r\n",
       "var showCopyright = false;\r\n",
       "var boardLayout = {boundingbox: boundingbox, keepAspectRatio: true, showCopyright: showCopyright, showNavigation: showNavigation};\r\n",
       "var strokeColor = \"#901B77\";\r\n",
       "var cerise = {fillColor: \"#CA147A\", strokeColor: strokeColor};\r\n",
       "var _strokeColor = \"#009256\";\r\n",
       "var grass = {fillColor: \"#65B72E\", strokeColor: _strokeColor, visible: true, withLabel: true};\r\n",
       "var dash = 1;\r\n",
       "var strokeWidth = 1;\r\n",
       "var perpLayout = {dash: dash, point: Board__deepCopy$__f__AnonymousType130765057_2_String__String____f__AnonymousType454685136_2_Boolean__Boolean___f__AnonymousType130765057_2_String__String____f__AnonymousType454685136_2_Boolean__Boolean_(cerise, {visible: true, withLabel: true}), strokeColor: color__black, strokeWidth: strokeWidth};\r\n",
       "var _strokeWidth = 1;\r\n",
       "var __strokeColor = \"#333333\";\r\n",
       "var median = {dash: 2, strokeColor: __strokeColor, strokeWidth: _strokeWidth};\r\n",
       "var __strokeWidth = 2;\r\n",
       "var triangle = {fillColor: \"#FFFF00\", lines: {strokeColor: \"#009256\", strokeWidth: __strokeWidth}};\r\n",
       "var ___strokeColor = \"#000000\";\r\n",
       "var _dash = 3;\r\n",
       "var ___strokeWidth = 1;\r\n",
       "var circle = {center: grass, dash: _dash, strokeColor: ___strokeColor, strokeWidth: ___strokeWidth};\r\n",
       "var board = JXG.JSXGraph.initBoard(\"6dd44e89-e4b1-4d8c-9a85-0f2bf553662b\", boardLayout);\r\n",
       "var A = board.create('point', [1.000000, 0.000000], Board__defaults);\r\n",
       "var B = board.create('point', [-1.000000, 0.000000], Board__defaults);\r\n",
       "var C = board.create('point', [0.200000, 1.500000], Board__defaults);\r\n",
       "var ABC = board.create('polygon', [A, B, C], triangle);\r\n",
       "var pABC = board.create('perpendicular', [ResizeArray_1_Object__get_Item$Object_(ABC.borders, 0), C], perpLayout);\r\n",
       "var pBCA = board.create('perpendicular', [ResizeArray_1_Object__get_Item$Object_(ABC.borders, 1), A], perpLayout);\r\n",
       "var pCAB = board.create('perpendicular', [ResizeArray_1_Object__get_Item$Object_(ABC.borders, 2), B], perpLayout);\r\n",
       "var i1 = Board__withName$Intersection_Intersection_(\"H\", board.create('intersection', [pABC, pCAB, 0], grass));\r\n",
       "var mAB = Board__withName$Midpoint_Midpoint_(\"M_c\", board.create('midpoint', [A, B], cerise));\r\n",
       "var mBC = Board__withName$Midpoint_Midpoint_(\"M_a\", board.create('midpoint', [B, C], cerise));\r\n",
       "var mCA = Board__withName$Midpoint_Midpoint_(\"M_b\", board.create('midpoint', [C, A], cerise));\r\n",
       "var ma = board.create('segment', [mBC, A], median);\r\n",
       "var mb = board.create('segment', [mCA, B], median);\r\n",
       "var mc = board.create('segment', [mAB, C], median);\r\n",
       "var i2 = Board__withName$Intersection_Intersection_(\"S\", board.create('intersection', [ma, mc, 0], grass));\r\n",
       "var c = board.create('circumcircle', [A, B, C], circle);\r\n",
       "c.center.name = \"U\";\r\n",
       "var euler = board.create('line', [i1, i2], Board__defaults);\r\n",
       "board.update();\r\n",
       "board});</script>\r\n",
       "</div>\r\n"
      ],
      "text/plain": [
       "Let (boardLayout,\n",
       "     Let (boundingbox,\n",
       "          NewArray (Double, Value (-1.5), Value (2.0), Value (1.5), Value (-1.0)),\n",
       "          Let (showNavigation, Value (true),\n",
       "               Let (showCopyright, Value (false),\n",
       "                    NewRecord (<>f__AnonymousType1810890934`4, boundingbox,\n",
       "                               Value (true), showCopyright, showNavigation)))),\n",
       "     Let (cerise,\n",
       "          Let (strokeColor, Value (\"#901B77\"),\n",
       "               NewRecord (<>f__AnonymousType130765057`2, Value (\"#CA147A\"),\n",
       "                          strokeColor)),\n",
       "          Let (grass,\n",
       "               Let (strokeColor, Value (\"#009256\"),\n",
       "                    NewRecord (<>f__AnonymousType3379918308`4, Value (\"#65B72E\"),\n",
       "                               strokeColor, Value (true), Value (true))),\n",
       "               Let (perpLayout,\n",
       "                    Let (dash, Value (1),\n",
       "                         Let (strokeWidth, Value (1),\n",
       "                              NewRecord (<>f__AnonymousType2592781866`4, dash,\n",
       "                                         Call (None, deepCopy,\n",
       "                                               [cerise,\n",
       "                                                NewRecord (<>f__AnonymousType454685136`2,\n",
       "                                                           Value (true),\n",
       "                                                           Value (true))]),\n",
       "                                         PropertyGet (None, black, []),\n",
       "                                         strokeWidth))),\n",
       "                    Let (median,\n",
       "                         Let (strokeWidth, Value (1),\n",
       "                              Let (strokeColor, Value (\"#333333\"),\n",
       "                                   NewRecord (<>f__AnonymousType1951003285`3,\n",
       "                                              Value (2), strokeColor,\n",
       "                                              strokeWidth))),\n",
       "                         Let (triangle,\n",
       "                              NewRecord (<>f__AnonymousType2072647573`2,\n",
       "                                         Value (\"#FFFF00\"),\n",
       "                                         Let (strokeWidth, Value (2),\n",
       "                                              NewRecord (<>f__AnonymousType2711706221`2,\n",
       "                                                         Value (\"#009256\"),\n",
       "                                                         strokeWidth))),\n",
       "                              Let (circle,\n",
       "                                   Let (strokeColor, Value (\"#000000\"),\n",
       "                                        Let (dash, Value (3),\n",
       "                                             Let (strokeWidth, Value (1),\n",
       "                                                  NewRecord (<>f__AnonymousType1884575033`4,\n",
       "                                                             grass, dash,\n",
       "                                                             strokeColor,\n",
       "                                                             strokeWidth)))),\n",
       "                                   Let (board,\n",
       "                                        Call (None, board,\n",
       "                                              [Coerce (boardLayout, Object)]),\n",
       "                                        Let (A,\n",
       "                                             Call (None, point,\n",
       "                                                   [Value (1.0), Value (0.0),\n",
       "                                                    Coerce (PropertyGet (None,\n",
       "                                                                         defaults,\n",
       "                                                                         []),\n",
       "                                                            Object), board]),\n",
       "                                             Let (B,\n",
       "                                                  Call (None, point,\n",
       "                                                        [Value (-1.0),\n",
       "                                                         Value (0.0),\n",
       "                                                         Coerce (PropertyGet (None,\n",
       "                                                                              defaults,\n",
       "                                                                              []),\n",
       "                                                                 Object), board]),\n",
       "                                                  Let (C,\n",
       "                                                       Call (None, point,\n",
       "                                                             [Value (0.2),\n",
       "                                                              Value (1.5),\n",
       "                                                              Coerce (PropertyGet (None,\n",
       "                                                                                   defaults,\n",
       "                                                                                   []),\n",
       "                                                                      Object),\n",
       "                                                              board]),\n",
       "                                                       Let (ABC,\n",
       "                                                            Call (None, polygon,\n",
       "                                                                  [NewArray (Object,\n",
       "                                                                             Coerce (A,\n",
       "                                                                                     Object),\n",
       "                                                                             Coerce (B,\n",
       "                                                                                     Object),\n",
       "                                                                             Coerce (C,\n",
       "                                                                                     Object)),\n",
       "                                                                   Coerce (triangle,\n",
       "                                                                           Object),\n",
       "                                                                   board]),\n",
       "                                                            Let (pABC,\n",
       "                                                                 Call (None,\n",
       "                                                                       perpendicular,\n",
       "                                                                       [PropertyGet (Some (PropertyGet (Some (ABC),\n",
       "                                                                                                        borders,\n",
       "                                                                                                        [])),\n",
       "                                                                                     Item,\n",
       "                                                                                     [Value (0)]),\n",
       "                                                                        C,\n",
       "                                                                        Coerce (perpLayout,\n",
       "                                                                                Object),\n",
       "                                                                        board]),\n",
       "                                                                 Let (pBCA,\n",
       "                                                                      Call (None,\n",
       "                                                                            perpendicular,\n",
       "                                                                            [PropertyGet (Some (PropertyGet (Some (ABC),\n",
       "                                                                                                             borders,\n",
       "                                                                                                             [])),\n",
       "                                                                                          Item,\n",
       "                                                                                          [Value (1)]),\n",
       "                                                                             A,\n",
       "                                                                             Coerce (perpLayout,\n",
       "                                                                                     Object),\n",
       "                                                                             board]),\n",
       "                                                                      Let (pCAB,\n",
       "                                                                           Call (None,\n",
       "                                                                                 perpendicular,\n",
       "                                                                                 [PropertyGet (Some (PropertyGet (Some (ABC),\n",
       "                                                                                                                  borders,\n",
       "                                                                                                                  [])),\n",
       "                                                                                               Item,\n",
       "                                                                                               [Value (2)]),\n",
       "                                                                                  B,\n",
       "                                                                                  Coerce (perpLayout,\n",
       "                                                                                          Object),\n",
       "                                                                                  board]),\n",
       "                                                                           Let (i1,\n",
       "                                                                                Call (None,\n",
       "                                                                                      op_PipeRight,\n",
       "                                                                                      [Call (None,\n",
       "                                                                                             intersection,\n",
       "                                                                                             [Coerce (pABC,\n",
       "                                                                                                      Object),\n",
       "                                                                                              Coerce (pCAB,\n",
       "                                                                                                      Object),\n",
       "                                                                                              Value (0),\n",
       "                                                                                              Coerce (grass,\n",
       "                                                                                                      Object),\n",
       "                                                                                              board]),\n",
       "                                                                                       Let (n,\n",
       "                                                                                            Value (\"H\"),\n",
       "                                                                                            Lambda (ge,\n",
       "                                                                                                    Call (None,\n",
       "                                                                                                          withName,\n",
       "                                                                                                          [n,\n",
       "                                                                                                           ge])))]),\n",
       "                                                                                Let (mAB,\n",
       "                                                                                     Call (None,\n",
       "                                                                                           op_PipeRight,\n",
       "                                                                                           [Call (None,\n",
       "                                                                                                  midpoint,\n",
       "                                                                                                  [A,\n",
       "                                                                                                   B,\n",
       "                                                                                                   Coerce (cerise,\n",
       "                                                                                                           Object),\n",
       "                                                                                                   board]),\n",
       "                                                                                            Let (n,\n",
       "                                                                                                 Value (\"M_c\"),\n",
       "                                                                                                 Lambda (ge,\n",
       "                                                                                                         Call (None,\n",
       "                                                                                                               withName,\n",
       "                                                                                                               [n,\n",
       "                                                                                                                ge])))]),\n",
       "                                                                                     Let (mBC,\n",
       "                                                                                          Call (None,\n",
       "                                                                                                op_PipeRight,\n",
       "                                                                                                [Call (None,\n",
       "                                                                                                       midpoint,\n",
       "                                                                                                       [B,\n",
       "                                                                                                        C,\n",
       "                                                                                                        Coerce (cerise,\n",
       "                                                                                                                Object),\n",
       "                                                                                                        board]),\n",
       "                                                                                                 Let (n,\n",
       "                                                                                                      Value (\"M_a\"),\n",
       "                                                                                                      Lambda (ge,\n",
       "                                                                                                              Call (None,\n",
       "                                                                                                                    withName,\n",
       "                                                                                                                    [n,\n",
       "                                                                                                                     ge])))]),\n",
       "                                                                                          Let (mCA,\n",
       "                                                                                               Call (None,\n",
       "                                                                                                     op_PipeRight,\n",
       "                                                                                                     [Call (None,\n",
       "                                                                                                            midpoint,\n",
       "                                                                                                            [C,\n",
       "                                                                                                             A,\n",
       "                                                                                                             Coerce (cerise,\n",
       "                                                                                                                     Object),\n",
       "                                                                                                             board]),\n",
       "                                                                                                      Let (n,\n",
       "                                                                                                           Value (\"M_b\"),\n",
       "                                                                                                           Lambda (ge,\n",
       "                                                                                                                   Call (None,\n",
       "                                                                                                                         withName,\n",
       "                                                                                                                         [n,\n",
       "                                                                                                                          ge])))]),\n",
       "                                                                                               Let (ma,\n",
       "                                                                                                    Call (None,\n",
       "                                                                                                          segment,\n",
       "                                                                                                          [Coerce (mBC,\n",
       "                                                                                                                   Object),\n",
       "                                                                                                           Coerce (A,\n",
       "                                                                                                                   Object),\n",
       "                                                                                                           Coerce (median,\n",
       "                                                                                                                   Object),\n",
       "                                                                                                           board]),\n",
       "                                                                                                    Let (mb,\n",
       "                                                                                                         Call (None,\n",
       "                                                                                                               segment,\n",
       "                                                                                                               [Coerce (mCA,\n",
       "                                                                                                                        Object),\n",
       "                                                                                                                Coerce (B,\n",
       "                                                                                                                        Object),\n",
       "                                                                                                                Coerce (median,\n",
       "                                                                                                                        Object),\n",
       "                                                                                                                board]),\n",
       "                                                                                                         Let (mc,\n",
       "                                                                                                              Call (None,\n",
       "                                                                                                                    segment,\n",
       "                                                                                                                    [Coerce (mAB,\n",
       "                                                                                                                             Object),\n",
       "                                                                                                                     Coerce (C,\n",
       "                                                                                                                             Object),\n",
       "                                                                                                                     Coerce (median,\n",
       "                                                                                                                             Object),\n",
       "                                                                                                                     board]),\n",
       "                                                                                                              Let (i2,\n",
       "                                                                                                                   Call (None,\n",
       "                                                                                                                         op_PipeRight,\n",
       "                                                                                                                         [Call (None,\n",
       "                                                                                                                                intersection,\n",
       "                                                                                                                                [Coerce (ma,\n",
       "                                                                                                                                         Object),\n",
       "                                                                                                                                 Coerce (mc,\n",
       "                                                                                                                                         Object),\n",
       "                                                                                                                                 Value (0),\n",
       "                                                                                                                                 Coerce (grass,\n",
       "                                                                                                                                         Object),\n",
       "                                                                                                                                 board]),\n",
       "                                                                                                                          Let (n,\n",
       "                                                                                                                               Value (\"S\"),\n",
       "                                                                                                                               Lambda (ge,\n",
       "                                                                                                                                       Call (None,\n",
       "                                                                                                                                             withName,\n",
       "                                                                                                                                             [n,\n",
       "                                                                                                                                              ge])))]),\n",
       "                                                                                                                   Let (c,\n",
       "                                                                                                                        Call (None,\n",
       "                                                                                                                              circumcircle,\n",
       "                                                                                                                              [A,\n",
       "                                                                                                                               B,\n",
       "                                                                                                                               C,\n",
       "                                                                                                                               Coerce (circle,\n",
       "                                                                                                                                       Object),\n",
       "                                                                                                                               board]),\n",
       "                                                                                                                        Sequential (PropertySet (Some (PropertyGet (Some (c),\n",
       "                                                                                                                                                                    center,\n",
       "                                                                                                                                                                    [])),\n",
       "                                                                                                                                                 name,\n",
       "                                                                                                                                                 [Value (\"U\")]),\n",
       "                                                                                                                                    Let (euler,\n",
       "                                                                                                                                         Call (None,\n",
       "                                                                                                                                               line,\n",
       "                                                                                                                                               [Coerce (i1,\n",
       "                                                                                                                                                        Object),\n",
       "                                                                                                                                                Coerce (i2,\n",
       "                                                                                                                                                        Object),\n",
       "                                                                                                                                                Coerce (PropertyGet (None,\n",
       "                                                                                                                                                                     defaults,\n",
       "                                                                                                                                                                     []),\n",
       "                                                                                                                                                        Object),\n",
       "                                                                                                                                                board]),\n",
       "                                                                                                                                         Sequential (Call (Some (board),\n",
       "                                                                                                                                                           update,\n",
       "                                                                                                                                                           []),\n",
       "                                                                                                                                                     board)))))))))))))))))))))))))))"
      ]
     },
     "execution_count": 83,
     "metadata": {},
     "output_type": "execute_result"
    }
   ],
   "source": [
    "// // Sylvester low-level visualization API example - more complex geometric figure\n",
    "<@\n",
    "let boardLayout = {| \n",
    "    boundingbox = [|-1.5; 2.; 1.5; -1.|] \n",
    "    showNavigation = true \n",
    "    showCopyright = false\n",
    "    keepAspectRatio = true\n",
    "|}\n",
    "\n",
    "let cerise = {|    \n",
    "    strokeColor = \"#901B77\"\n",
    "    fillColor = \"#CA147A\"\n",
    "|}\n",
    "\n",
    "let grass = {|\n",
    "    strokeColor = \"#009256\"\n",
    "    fillColor = \"#65B72E\"\n",
    "    visible = true\n",
    "    withLabel = true\n",
    "|}\n",
    "\n",
    "let perpLayout = {|\n",
    "    strokeColor = black\n",
    "    dash = 1\n",
    "    strokeWidth = 1\n",
    "    point = deepCopy cerise {|visible = true; withLabel = true|}\n",
    "|}\n",
    "\n",
    "let median = {|\n",
    "    strokeWidth = 1\n",
    "    strokeColor = \"#333333\"\n",
    "    dash = 2\n",
    "|}\n",
    "\n",
    "let triangle = {|\n",
    "    fillColor = \"#FFFF00\"\n",
    "    lines = {|strokeWidth = 2; strokeColor = \"#009256\"|}\n",
    "|}\n",
    "  \n",
    "let circle = {|\n",
    "    strokeColor = \"#000000\"\n",
    "    dash = 3\n",
    "    strokeWidth = 1\n",
    "    center = grass\n",
    "|}\n",
    "\n",
    "\n",
    "let board = board boardLayout\n",
    "let A = point 1. 0. defaults board\n",
    "let B = point -1. 0. defaults board\n",
    "let C = point 0.2 1.5 defaults board\n",
    "let ABC = polygon [|A; B; C|] triangle board\n",
    "let pABC = perpendicular ABC.borders.[0] C perpLayout board\n",
    "let pBCA = perpendicular ABC.borders.[1] A perpLayout board\n",
    "let pCAB = perpendicular ABC.borders.[2] B perpLayout board\n",
    "let i1 = intersection pABC pCAB 0 grass board |> withName \"H\"\n",
    "let mAB = midpoint A B cerise board |> withName \"M_c\"\n",
    "let mBC = midpoint B C cerise board |> withName \"M_a\"\n",
    "let mCA = midpoint C A cerise board |> withName \"M_b\"\n",
    "let ma = segment mBC A median board\n",
    "let mb = segment mCA B median board\n",
    "let mc = segment mAB C median board\n",
    "let i2 = intersection ma mc 0 grass board |> withName \"S\"\n",
    "let c = circumcircle A B C circle board\n",
    "c.center.name <- \"U\"\n",
    "let euler = line i1 i2 defaults board\n",
    "do board.update()\n",
    "board\n",
    "@>"
   ]
  },
  {
   "cell_type": "code",
   "execution_count": 84,
   "id": "sporting-spine",
   "metadata": {
    "slideshow": {
     "slide_type": "slide"
    }
   },
   "outputs": [
    {
     "data": {
      "text/html": [
       "<div>\r\n",
       " <div id=\"282a496b-c950-4455-89f0-d430a7322fd5\" class=\"jxgbox\" style=\"width:100%;height:640px\"></div>\r\n",
       " <script>require(['https://cdn.jsdelivr.net/npm/jsxgraph/distrib/jsxgraphcore.js'], function(JXG) {\n",
       "JXG.Options.text.useMathJax = true;\n",
       "var color__white, color__orange, color__get_white$, color__get_orange$, color__get_blue$, color__blue, TupleDouble_Double, Board__withStrokeColor$Functiongraph_Functiongraph_, Board__withName$Functiongraph_Functiongraph_, Board__withFillColor$Intersection_Intersection_, Board__setAttrs$Axis_Axis_, Board__nolabel, Board__get_nolabel$, Board__get_autoPosition$, Board__draw_ge$GeometryElement_GeometryElement_, Board__bbox$, Board__autoPosition, Array__BoxedLength$;\r\n",
       "Array__BoxedLength$ = (function(xs)\r\n",
       "{\r\n",
       "    return xs.length;;\r\n",
       "});\r\n",
       "Board__bbox$ = (function(x1,y1,x2,y2)\r\n",
       "{\r\n",
       "    return [x1, y1, x2, y2];\r\n",
       "});\r\n",
       "Board__draw_ge$GeometryElement_GeometryElement_ = (function(board,elems)\r\n",
       "{\r\n",
       "    for (var _239 = 0; _239 <= (Array__BoxedLength$(elems) - 1); _239++)\r\n",
       "    {\r\n",
       "      (function(i)\r\n",
       "      {\r\n",
       "        var ignored0 = elems[i](board);\r\n",
       "      })(_239);\r\n",
       "    };\r\n",
       "    return board;\r\n",
       "});\r\n",
       "Board__get_autoPosition$ = (function()\r\n",
       "{\r\n",
       "    var useMathJax = true;\r\n",
       "    var display = \"html\";\r\n",
       "    return {autoPosition: true, display: display, useMathJax: useMathJax};\r\n",
       "});\r\n",
       "Board__get_nolabel$ = (function()\r\n",
       "{\r\n",
       "    return {name: \"\", withLabel: false};\r\n",
       "});\r\n",
       "Board__setAttrs$Axis_Axis_ = (function(attrs,ge)\r\n",
       "{\r\n",
       "    var ignored0 = ge.setAttribute(attrs);\r\n",
       "});\r\n",
       "Board__withFillColor$Intersection_Intersection_ = (function(n,ge)\r\n",
       "{\r\n",
       "    return ge.setAttribute({fillColor: n});\r\n",
       "});\r\n",
       "Board__withName$Functiongraph_Functiongraph_ = (function(n,ge)\r\n",
       "{\r\n",
       "    return ge.setAttribute({name: n});\r\n",
       "});\r\n",
       "Board__withStrokeColor$Functiongraph_Functiongraph_ = (function(n,ge)\r\n",
       "{\r\n",
       "    return ge.setAttribute({strokeColor: n});\r\n",
       "});\r\n",
       "TupleDouble_Double = (function(Item0,Item1)\r\n",
       "{\r\n",
       "    var __this = this;\r\n",
       "    __this.Items = [Item0, Item1];\r\n",
       "});\r\n",
       "color__get_blue$ = (function()\r\n",
       "{\r\n",
       "    return \"blue\";\r\n",
       "});\r\n",
       "color__get_orange$ = (function()\r\n",
       "{\r\n",
       "    return \"orange\";\r\n",
       "});\r\n",
       "color__get_white$ = (function()\r\n",
       "{\r\n",
       "    return \"white\";\r\n",
       "});\r\n",
       "Board__autoPosition = Board__get_autoPosition$();\r\n",
       "color__blue = color__get_blue$();\r\n",
       "color__orange = color__get_orange$();\r\n",
       "color__white = color__get_white$();\r\n",
       "Board__nolabel = Board__get_nolabel$();\r\n",
       "var boundingbox = Board__bbox$(-0.500000, 10.000000, 10.000000, -0.500000);\r\n",
       "var showNavigation = true;\r\n",
       "var showCopyright = false;\r\n",
       "var keepAspectRatio = false;\r\n",
       "var grid = {axis: true, boundingbox: boundingbox, keepAspectRatio: keepAspectRatio, showCopyright: showCopyright, showNavigation: showNavigation};\r\n",
       "var name = \"price\";\r\n",
       "var withLabel = true;\r\n",
       "var xaxis = {name: name, offset: [10, 10], withLabel: withLabel};\r\n",
       "var _name = \"quantity\";\r\n",
       "var _withLabel = true;\r\n",
       "var yaxis = {name: _name, offset: [10, 10], withLabel: _withLabel};\r\n",
       "var strokeWidth = 3;\r\n",
       "var __withLabel = true;\r\n",
       "var graph = {label: Board__autoPosition, strokeWidth: strokeWidth, withLabel: __withLabel};\r\n",
       "var size = 0;\r\n",
       "var normal = {dash: 2, size: size};\r\n",
       "var board = JXG.JSXGraph.initBoard(\"282a496b-c950-4455-89f0-d430a7322fd5\", grid);\r\n",
       "Board__setAttrs$Axis_Axis_(xaxis, board.defaultAxes.x);\r\n",
       "Board__setAttrs$Axis_Axis_(yaxis, board.defaultAxes.y);\r\n",
       "var patternInput = (new TupleDouble_Double(6.000000, 2.000000));\r\n",
       "var sliderx = patternInput.Items[0.000000];\r\n",
       "var sliderw = patternInput.Items[1.000000];\r\n",
       "var a = board.create('slider', [[sliderx, 8.000000], [sliderx + sliderw, 8.000000], [2.000000, 8.000000, 10.000000]], {name: \"demand intercept\"});\r\n",
       "var b = board.create('slider', [[sliderx, 7.000000], [sliderx + sliderw, 7.000000], [-4.000000, -1.000000, -2.000000]], {name: \"demand slope\"});\r\n",
       "var c = board.create('slider', [[sliderx, 6.000000], [sliderx + sliderw, 6.000000], [0.000000, 2.000000, 5.000000]], {name: \"supply intercept\"});\r\n",
       "var d = board.create('slider', [[sliderx, 5.000000], [sliderx + sliderw, 5.000000], [0.200000, 1.000000, 4.000000]], {name: \"supply slope\"});\r\n",
       "var demand = (function(x)\r\n",
       "{\r\n",
       "    return (a.Value() + (b.Value() * x));\r\n",
       "});\r\n",
       "var supply = (function(x)\r\n",
       "{\r\n",
       "    return (c.Value() + (d.Value() * x));\r\n",
       "});\r\n",
       "var dg = Board__withStrokeColor$Functiongraph_Functiongraph_(color__blue, Board__withName$Functiongraph_Functiongraph_(\"f(x)=a + b * x\", board.create('functiongraph', [demand, 0.000000, 4.000000], graph)));\r\n",
       "var sg = Board__withStrokeColor$Functiongraph_Functiongraph_(color__orange, Board__withName$Functiongraph_Functiongraph_(\"f(x)=c + d * x\", board.create('functiongraph', [supply, 0.000000, 5.000000], graph)));\r\n",
       "var eq = Board__withFillColor$Intersection_Intersection_(color__white, board.create('intersection', [dg, sg, 0], Board__nolabel));\r\n",
       "var ex = board.create('perpendicularsegment', [board.defaultAxes.x, eq], normal);\r\n",
       "var ey = board.create('perpendicularsegment', [board.defaultAxes.y, eq], normal);\r\n",
       "var o2 = board.defaultAxes.y;\r\n",
       "var i = 0;\r\n",
       "var attr = {name: \"P^e\", size: 0};\r\n",
       "var _o2 = board.defaultAxes.x;\r\n",
       "var _i = 0;\r\n",
       "var _attr = {name: \"Q^e\", size: 0};\r\n",
       "var x = 4.500000;\r\n",
       "var y = 9.000000;\r\n",
       "var s = \"supply and demand\";\r\n",
       "var __attr = {fontSize: 16};\r\n",
       "Board__draw_ge$GeometryElement_GeometryElement_(board, [(function(_board)\r\n",
       "{\r\n",
       "    return _board.create('intersection', [ey, o2, i], attr);\r\n",
       "}), (function(_board)\r\n",
       "{\r\n",
       "    return _board.create('intersection', [ex, _o2, _i], _attr);\r\n",
       "}), (function(_board)\r\n",
       "{\r\n",
       "    return _board.create('text', [x, y, s], __attr);\r\n",
       "})])});</script>\r\n",
       "</div>\r\n"
      ],
      "text/plain": [
       "Let (grid,\n",
       "     Let (boundingbox,\n",
       "          Call (None, bbox,\n",
       "                [Value (-0.5), Value (10.0), Value (10.0), Value (-0.5)]),\n",
       "          Let (showNavigation, Value (true),\n",
       "               Let (showCopyright, Value (false),\n",
       "                    Let (keepAspectRatio, Value (false),\n",
       "                         NewRecord (<>f__AnonymousType217440327`5, Value (true),\n",
       "                                    boundingbox, keepAspectRatio, showCopyright,\n",
       "                                    showNavigation))))),\n",
       "     Let (xaxis,\n",
       "          Let (name, Value (\"price\"),\n",
       "               Let (withLabel, Value (true),\n",
       "                    NewRecord (<>f__AnonymousType83960825`3, name,\n",
       "                               NewArray (Int32, Value (10), Value (10)),\n",
       "                               withLabel))),\n",
       "          Let (yaxis,\n",
       "               Let (name, Value (\"quantity\"),\n",
       "                    Let (withLabel, Value (true),\n",
       "                         NewRecord (<>f__AnonymousType83960825`3, name,\n",
       "                                    NewArray (Int32, Value (10), Value (10)),\n",
       "                                    withLabel))),\n",
       "               Let (graph,\n",
       "                    Let (strokeWidth, Value (3),\n",
       "                         Let (withLabel, Value (true),\n",
       "                              NewRecord (<>f__AnonymousType3646135012`3,\n",
       "                                         PropertyGet (None, autoPosition, []),\n",
       "                                         strokeWidth, withLabel))),\n",
       "                    Let (normal,\n",
       "                         Let (size, Value (0),\n",
       "                              NewRecord (<>f__AnonymousType3848705212`2,\n",
       "                                         Value (2), size)),\n",
       "                         Let (board, Call (None, board, [Coerce (grid, Object)]),\n",
       "                              Sequential (Call (None, setAttrs,\n",
       "                                                [Coerce (xaxis, Object),\n",
       "                                                 PropertyGet (Some (PropertyGet (Some (board),\n",
       "                                                                                 defaultAxes,\n",
       "                                                                                 [])),\n",
       "                                                              x, [])]),\n",
       "                                          Sequential (Call (None, setAttrs,\n",
       "                                                            [Coerce (yaxis,\n",
       "                                                                     Object),\n",
       "                                                             PropertyGet (Some (PropertyGet (Some (board),\n",
       "                                                                                             defaultAxes,\n",
       "                                                                                             [])),\n",
       "                                                                          y, [])]),\n",
       "                                                      Let (patternInput,\n",
       "                                                           NewTuple (Value (6.0),\n",
       "                                                                     Value (2.0)),\n",
       "                                                           Let (sliderx,\n",
       "                                                                TupleGet (patternInput,\n",
       "                                                                          0),\n",
       "                                                                Let (sliderw,\n",
       "                                                                     TupleGet (patternInput,\n",
       "                                                                               1),\n",
       "                                                                     Let (a,\n",
       "                                                                          Call (None,\n",
       "                                                                                slider,\n",
       "                                                                                [sliderx,\n",
       "                                                                                 Value (8.0),\n",
       "                                                                                 sliderw,\n",
       "                                                                                 Value (2.0),\n",
       "                                                                                 Value (10.0),\n",
       "                                                                                 Value (8.0),\n",
       "                                                                                 Coerce (NewRecord (<>f__AnonymousType191839735`1,\n",
       "                                                                                                    Value (\"demand intercept\")),\n",
       "                                                                                         Object),\n",
       "                                                                                 board]),\n",
       "                                                                          Let (b,\n",
       "                                                                               Call (None,\n",
       "                                                                                     slider,\n",
       "                                                                                     [sliderx,\n",
       "                                                                                      Value (7.0),\n",
       "                                                                                      sliderw,\n",
       "                                                                                      Value (-4.0),\n",
       "                                                                                      Value (-2.0),\n",
       "                                                                                      Value (-1.0),\n",
       "                                                                                      Coerce (NewRecord (<>f__AnonymousType191839735`1,\n",
       "                                                                                                         Value (\"demand slope\")),\n",
       "                                                                                              Object),\n",
       "                                                                                      board]),\n",
       "                                                                               Let (c,\n",
       "                                                                                    Call (None,\n",
       "                                                                                          slider,\n",
       "                                                                                          [sliderx,\n",
       "                                                                                           Value (6.0),\n",
       "                                                                                           sliderw,\n",
       "                                                                                           Value (0.0),\n",
       "                                                                                           Value (5.0),\n",
       "                                                                                           Value (2.0),\n",
       "                                                                                           Coerce (NewRecord (<>f__AnonymousType191839735`1,\n",
       "                                                                                                              Value (\"supply intercept\")),\n",
       "                                                                                                   Object),\n",
       "                                                                                           board]),\n",
       "                                                                                    Let (d,\n",
       "                                                                                         Call (None,\n",
       "                                                                                               slider,\n",
       "                                                                                               [sliderx,\n",
       "                                                                                                Value (5.0),\n",
       "                                                                                                sliderw,\n",
       "                                                                                                Value (0.2),\n",
       "                                                                                                Value (4.0),\n",
       "                                                                                                Value (1.0),\n",
       "                                                                                                Coerce (NewRecord (<>f__AnonymousType191839735`1,\n",
       "                                                                                                                   Value (\"supply slope\")),\n",
       "                                                                                                        Object),\n",
       "                                                                                                board]),\n",
       "                                                                                         Let (demand,\n",
       "                                                                                              Lambda (x,\n",
       "                                                                                                      Call (None,\n",
       "                                                                                                            op_Addition,\n",
       "                                                                                                            [Call (Some (a),\n",
       "                                                                                                                   Value,\n",
       "                                                                                                                   []),\n",
       "                                                                                                             Call (None,\n",
       "                                                                                                                   op_Multiply,\n",
       "                                                                                                                   [Call (Some (b),\n",
       "                                                                                                                          Value,\n",
       "                                                                                                                          []),\n",
       "                                                                                                                    x])])),\n",
       "                                                                                              Let (supply,\n",
       "                                                                                                   Lambda (x,\n",
       "                                                                                                           Call (None,\n",
       "                                                                                                                 op_Addition,\n",
       "                                                                                                                 [Call (Some (c),\n",
       "                                                                                                                        Value,\n",
       "                                                                                                                        []),\n",
       "                                                                                                                  Call (None,\n",
       "                                                                                                                        op_Multiply,\n",
       "                                                                                                                        [Call (Some (d),\n",
       "                                                                                                                               Value,\n",
       "                                                                                                                               []),\n",
       "                                                                                                                         x])])),\n",
       "                                                                                                   Let (dg,\n",
       "                                                                                                        Call (None,\n",
       "                                                                                                              op_PipeRight,\n",
       "                                                                                                              [Call (None,\n",
       "                                                                                                                     op_PipeRight,\n",
       "                                                                                                                     [Call (None,\n",
       "                                                                                                                            functiongraph,\n",
       "                                                                                                                            [demand,\n",
       "                                                                                                                             Coerce (Value (0.0),\n",
       "                                                                                                                                     Object),\n",
       "                                                                                                                             Coerce (Value (4.0),\n",
       "                                                                                                                                     Object),\n",
       "                                                                                                                             Coerce (graph,\n",
       "                                                                                                                                     Object),\n",
       "                                                                                                                             board]),\n",
       "                                                                                                                      Let (n,\n",
       "                                                                                                                           Value (\"f(x)=a + b * x\"),\n",
       "                                                                                                                           Lambda (ge,\n",
       "                                                                                                                                   Call (None,\n",
       "                                                                                                                                         withName,\n",
       "                                                                                                                                         [n,\n",
       "                                                                                                                                          ge])))]),\n",
       "                                                                                                               Lambda (ge,\n",
       "                                                                                                                       Call (None,\n",
       "                                                                                                                             withStrokeColor,\n",
       "                                                                                                                             [PropertyGet (None,\n",
       "                                                                                                                                           blue,\n",
       "                                                                                                                                           []),\n",
       "                                                                                                                              ge]))]),\n",
       "                                                                                                        Let (sg,\n",
       "                                                                                                             Call (None,\n",
       "                                                                                                                   op_PipeRight,\n",
       "                                                                                                                   [Call (None,\n",
       "                                                                                                                          op_PipeRight,\n",
       "                                                                                                                          [Call (None,\n",
       "                                                                                                                                 functiongraph,\n",
       "                                                                                                                                 [supply,\n",
       "                                                                                                                                  Coerce (Value (0.0),\n",
       "                                                                                                                                          Object),\n",
       "                                                                                                                                  Coerce (Value (5.0),\n",
       "                                                                                                                                          Object),\n",
       "                                                                                                                                  Coerce (graph,\n",
       "                                                                                                                                          Object),\n",
       "                                                                                                                                  board]),\n",
       "                                                                                                                           Let (n,\n",
       "                                                                                                                                Value (\"f(x)=c + d * x\"),\n",
       "                                                                                                                                Lambda (ge,\n",
       "                                                                                                                                        Call (None,\n",
       "                                                                                                                                              withName,\n",
       "                                                                                                                                              [n,\n",
       "                                                                                                                                               ge])))]),\n",
       "                                                                                                                    Lambda (ge,\n",
       "                                                                                                                            Call (None,\n",
       "                                                                                                                                  withStrokeColor,\n",
       "                                                                                                                                  [PropertyGet (None,\n",
       "                                                                                                                                                orange,\n",
       "                                                                                                                                                []),\n",
       "                                                                                                                                   ge]))]),\n",
       "                                                                                                             Let (eq,\n",
       "                                                                                                                  Call (None,\n",
       "                                                                                                                        op_PipeRight,\n",
       "                                                                                                                        [Call (None,\n",
       "                                                                                                                               intersection,\n",
       "                                                                                                                               [Coerce (dg,\n",
       "                                                                                                                                        Object),\n",
       "                                                                                                                                Coerce (sg,\n",
       "                                                                                                                                        Object),\n",
       "                                                                                                                                Value (0),\n",
       "                                                                                                                                Coerce (PropertyGet (None,\n",
       "                                                                                                                                                     nolabel,\n",
       "                                                                                                                                                     []),\n",
       "                                                                                                                                        Object),\n",
       "                                                                                                                                board]),\n",
       "                                                                                                                         Lambda (ge,\n",
       "                                                                                                                                 Call (None,\n",
       "                                                                                                                                       withFillColor,\n",
       "                                                                                                                                       [PropertyGet (None,\n",
       "                                                                                                                                                     white,\n",
       "                                                                                                                                                     []),\n",
       "                                                                                                                                        ge]))]),\n",
       "                                                                                                                  Let (ex,\n",
       "                                                                                                                       Call (None,\n",
       "                                                                                                                             perp_segment,\n",
       "                                                                                                                             [Coerce (PropertyGet (Some (PropertyGet (Some (board),\n",
       "                                                                                                                                                                      defaultAxes,\n",
       "                                                                                                                                                                      [])),\n",
       "                                                                                                                                                   x,\n",
       "                                                                                                                                                   []),\n",
       "                                                                                                                                      Line),\n",
       "                                                                                                                              Coerce (eq,\n",
       "                                                                                                                                      Point),\n",
       "                                                                                                                              Coerce (normal,\n",
       "                                                                                                                                      Object),\n",
       "                                                                                                                              board]),\n",
       "                                                                                                                       Let (ey,\n",
       "                                                                                                                            Call (None,\n",
       "                                                                                                                                  perp_segment,\n",
       "                                                                                                                                  [Coerce (PropertyGet (Some (PropertyGet (Some (board),\n",
       "                                                                                                                                                                           defaultAxes,\n",
       "                                                                                                                                                                           [])),\n",
       "                                                                                                                                                        y,\n",
       "                                                                                                                                                        []),\n",
       "                                                                                                                                           Line),\n",
       "                                                                                                                                   Coerce (eq,\n",
       "                                                                                                                                           Point),\n",
       "                                                                                                                                   Coerce (normal,\n",
       "                                                                                                                                           Object),\n",
       "                                                                                                                                   board]),\n",
       "                                                                                                                            Call (None,\n",
       "                                                                                                                                  draw_ge,\n",
       "                                                                                                                                  [board,\n",
       "                                                                                                                                   NewArray (FSharpFunc`2,\n",
       "                                                                                                                                             Let (o2,\n",
       "                                                                                                                                                  PropertyGet (Some (PropertyGet (Some (board),\n",
       "                                                                                                                                                                                  defaultAxes,\n",
       "                                                                                                                                                                                  [])),\n",
       "                                                                                                                                                               y,\n",
       "                                                                                                                                                               []),\n",
       "                                                                                                                                                  Let (i,\n",
       "                                                                                                                                                       Value (0),\n",
       "                                                                                                                                                       Let (attr,\n",
       "                                                                                                                                                            NewRecord (<>f__AnonymousType942454705`2,\n",
       "                                                                                                                                                                       Value (\"P^e\"),\n",
       "                                                                                                                                                                       Value (0)),\n",
       "                                                                                                                                                            Lambda (board,\n",
       "                                                                                                                                                                    Call (None,\n",
       "                                                                                                                                                                          intersection,\n",
       "                                                                                                                                                                          [Coerce (ey,\n",
       "                                                                                                                                                                                   Object),\n",
       "                                                                                                                                                                           Coerce (o2,\n",
       "                                                                                                                                                                                   Object),\n",
       "                                                                                                                                                                           i,\n",
       "                                                                                                                                                                           Coerce (attr,\n",
       "                                                                                                                                                                                   Object),\n",
       "                                                                                                                                                                           board]))))),\n",
       "                                                                                                                                             Let (o2,\n",
       "                                                                                                                                                  PropertyGet (Some (PropertyGet (Some (board),\n",
       "                                                                                                                                                                                  defaultAxes,\n",
       "                                                                                                                                                                                  [])),\n",
       "                                                                                                                                                               x,\n",
       "                                                                                                                                                               []),\n",
       "                                                                                                                                                  Let (i,\n",
       "                                                                                                                                                       Value (0),\n",
       "                                                                                                                                                       Let (attr,\n",
       "                                                                                                                                                            NewRecord (<>f__AnonymousType942454705`2,\n",
       "                                                                                                                                                                       Value (\"Q^e\"),\n",
       "                                                                                                                                                                       Value (0)),\n",
       "                                                                                                                                                            Lambda (board,\n",
       "                                                                                                                                                                    Call (None,\n",
       "                                                                                                                                                                          intersection,\n",
       "                                                                                                                                                                          [Coerce (ex,\n",
       "                                                                                                                                                                                   Object),\n",
       "                                                                                                                                                                           Coerce (o2,\n",
       "                                                                                                                                                                                   Object),\n",
       "                                                                                                                                                                           i,\n",
       "                                                                                                                                                                           Coerce (attr,\n",
       "                                                                                                                                                                                   Object),\n",
       "                                                                                                                                                                           board]))))),\n",
       "                                                                                                                                             Let (x,\n",
       "                                                                                                                                                  Value (4.5),\n",
       "                                                                                                                                                  Let (y,\n",
       "                                                                                                                                                       Value (9.0),\n",
       "                                                                                                                                                       Let (s,\n",
       "                                                                                                                                                            Value (\"supply and demand\"),\n",
       "                                                                                                                                                            Let (attr,\n",
       "                                                                                                                                                                 NewRecord (<>f__AnonymousType627746404`1,\n",
       "                                                                                                                                                                            Value (16)),\n",
       "                                                                                                                                                                 Lambda (board,\n",
       "                                                                                                                                                                         Call (None,\n",
       "                                                                                                                                                                               text,\n",
       "                                                                                                                                                                               [Coerce (x,\n",
       "                                                                                                                                                                                        Object),\n",
       "                                                                                                                                                                                Coerce (y,\n",
       "                                                                                                                                                                                        Object),\n",
       "                                                                                                                                                                                Coerce (s,\n",
       "                                                                                                                                                                                        Object),\n",
       "                                                                                                                                                                                Coerce (attr,\n",
       "                                                                                                                                                                                        Object),\n",
       "                                                                                                                                                                                board])))))))])))))))))))))))))))))))"
      ]
     },
     "execution_count": 84,
     "metadata": {},
     "output_type": "execute_result"
    }
   ],
   "source": [
    "<@\n",
    "let grid = {| \n",
    "    boundingbox = bbox -0.5 10. 10. -0.5\n",
    "    showNavigation = true \n",
    "    showCopyright = false\n",
    "    keepAspectRatio = false\n",
    "    axis = true \n",
    "|}\n",
    "\n",
    "let xaxis = {|\n",
    "    name = \"price\"\n",
    "    withLabel = true\n",
    "    offset = [|10; 10|]\n",
    "|}\n",
    "\n",
    "let yaxis = {|\n",
    "    name = \"quantity\"\n",
    "    withLabel = true\n",
    "    offset = [|10; 10|]\n",
    "|}\n",
    "\n",
    "let graph = {|\n",
    "    strokeWidth = 3\n",
    "    withLabel = true\n",
    "    label = autoPosition\n",
    "|}\n",
    "\n",
    "let normal = {|\n",
    "    size = 0\n",
    "    dash = 2\n",
    "|}\n",
    "\n",
    "let board = board grid\n",
    "\n",
    "setAttrs xaxis board.defaultAxes.x\n",
    "setAttrs yaxis board.defaultAxes.y\n",
    "\n",
    "let sliderx, sliderw = 6., 2.\n",
    "let a = slider sliderx 8. sliderw 2. 10. 8. {|name = \"demand intercept\" |} board\n",
    "let b = slider sliderx 7. sliderw -4. -2.0 -1. {|name = \"demand slope\" |} board\n",
    "let c = slider sliderx 6. sliderw 0. 5. 2. {|name = \"supply intercept\" |} board\n",
    "let d = slider sliderx 5. sliderw 0.2 4. 1. {|name = \"supply slope\" |} board\n",
    "\n",
    "let demand x = a.Value() + b.Value() * x \n",
    "let supply x = c.Value() + d.Value() * x\n",
    "\n",
    "let dg = \n",
    "    functiongraph demand 0. 4. graph board \n",
    "    |> withName \"f(x)=a + b * x\"\n",
    "    |> withStrokeColor blue\n",
    "\n",
    "let sg = \n",
    "    functiongraph supply 0. 5. graph board\n",
    "    |> withName \"f(x)=c + d * x\"\n",
    "    |> withStrokeColor orange\n",
    "    \n",
    "let eq = intersection dg sg 0 nolabel board |> withFillColor white\n",
    "\n",
    "let ex = perp_segment board.defaultAxes.x eq normal board\n",
    "let ey =  perp_segment board.defaultAxes.y eq normal board\n",
    "\n",
    "draw_ge board [|\n",
    "    ge.intersection ey board.defaultAxes.y 0 {|name = \"P^e\"; size = 0|}\n",
    "    ge.intersection ex board.defaultAxes.x 0 {|name = \"Q^e\"; size = 0|} \n",
    "    ge.text 4.5 9. \"supply and demand\" {|fontSize=16|}\n",
    "|]\n",
    "@>"
   ]
  },
  {
   "cell_type": "code",
   "execution_count": null,
   "id": "imperial-alignment",
   "metadata": {
    "slideshow": {
     "slide_type": "slide"
    }
   },
   "outputs": [],
   "source": [
    "// We would use the above to implement a high-level drawing API for market-equlibrium\n",
    "type MarketEquilibrium(supply: RealFunction, demand:RealFunction) = \n",
    "    member val Supply = supply\n",
    "    member val Demand = demand\n",
    "    interface IWebVisualization with\n",
    "        member x.Draw(attrs:'a) =\n",
    "            <@\n",
    "                let grid = {| \n",
    "                    boundingbox = bbox -0.5 10. 10. -0.5\n",
    "                    showNavigation = true \n",
    "                    showCopyright = false\n",
    "                    keepAspectRatio = false\n",
    "                    axis = true \n",
    "                |}\n",
    "                let board = board grid\n",
    "                \n",
    "                //... fill out implementation using low-level visualization API\n",
    "                \n",
    "                board\n",
    "            @> |> draw_board\n",
    "         "
   ]
  },
  {
   "cell_type": "markdown",
   "id": "congressional-identification",
   "metadata": {
    "slideshow": {
     "slide_type": "slide"
    }
   },
   "source": [
    "# Visualization in Sylvester\n",
    "## Comparison with other visualization languages\n",
    "\n",
    "Consider:\n",
    "* Clarity - how easy is the code to understand or grasp, especially by new users \n",
    "* Features that help users avoid mistakes like static types or functions/procedures with fixed parameter counts.\n",
    "* Reusability and Composability - can users easily create higher-level types or interfaces from lower-level types or functions or procedures?\n",
    "* Can it be used interactively?\n"
   ]
  },
  {
   "cell_type": "markdown",
   "id": "personal-gibraltar",
   "metadata": {
    "slideshow": {
     "slide_type": "slide"
    }
   },
   "source": [
    "# Visualization in Sylvester\n",
    "## Comparison with other visualization languages\n",
    "### JavaScript\n",
    "````javascript\n",
    "var bound = [-5, 5];\n",
    "var view = board.create('view3d',\n",
    "    [[-6, -3], [8, 8],\n",
    "    [bound, bound, bound]],\n",
    "    {});\n",
    "var p = view.create('point3d', [1, 2, 2], { name:'A', size: 5 });\n",
    "// Lines through 2 points\n",
    "var l1 = view.create('line3d', [[1, 3, 3], [-3, -3, -3]], {point1: {visible: true}, point2: {visible: true} });\n",
    "var l2 = view.create('line3d', [p, l1.point1]);\n",
    "\n",
    "// Line by point, direction, range\n",
    "var l3 = view.create('line3d', [p, [0, 0, 1], [-2, 4]]);\n",
    "````"
   ]
  },
  {
   "cell_type": "markdown",
   "id": "reverse-romance",
   "metadata": {
    "slideshow": {
     "slide_type": "slide"
    }
   },
   "source": [
    "# Visualization in Sylvester\n",
    "## Comparison with other visualization languages\n",
    "### MetaPost\n",
    "````metapost\n",
    "beginfig(196)\n",
    "  vardef trace (suffix f)(expr a,b,inc) =\n",
    "    save i; numeric i;\n",
    "    for i=a step inc until b:\n",
    "      (i*1cm, f(i)*1cm) ..\n",
    "    endfor (b*1cm, f(b)*1cm)\n",
    "  enddef;\n",
    "\n",
    "  vardef axes =\n",
    "    save p; picture p;\n",
    "    p:=nullpicture;\n",
    "    addto p doublepath (-infinity,0)--(infinity,0) withpen currentpen;\n",
    "    addto p doublepath (0,-infinity)--(0,infinity) withpen currentpen;\n",
    "    clip p to bbox currentpicture;\n",
    "    draw p;\n",
    "  enddef;\n",
    "\n",
    "  vardef trace_rectangles_left (suffix f)(expr a,b,inc) =\n",
    "    save i; numeric i;\n",
    "    for i=a step inc until b-inc:\n",
    "      path p;\n",
    "      p = (i,0)--(i+inc,0)--(i+inc,f(i))--(i,f(i))--cycle;\n",
    "      p := p scaled 1cm;\n",
    "      fill p withcolor .8*white;\n",
    "      draw p;\n",
    "    endfor;\n",
    "  enddef;\n",
    "````"
   ]
  },
  {
   "cell_type": "markdown",
   "id": "brave-response",
   "metadata": {
    "slideshow": {
     "slide_type": "slide"
    }
   },
   "source": [
    "# Visualization in Sylvester\n",
    "## Comparison with other visualization languages\n",
    "### Mathematica\n",
    "![img](mathematica.png)"
   ]
  },
  {
   "cell_type": "markdown",
   "id": "literary-refrigerator",
   "metadata": {
    "slideshow": {
     "slide_type": "slide"
    }
   },
   "source": [
    "# More information\n",
    "* https://github.com/allisterb/Sylvester\n",
    "* @allisterbeharry"
   ]
  },
  {
   "cell_type": "markdown",
   "id": "82bd05f6",
   "metadata": {
    "slideshow": {
     "slide_type": "slide"
    }
   },
   "source": [
    "# F# Quotations"
   ]
  },
  {
   "cell_type": "code",
   "execution_count": null,
   "id": "operating-error",
   "metadata": {},
   "outputs": [],
   "source": []
  },
  {
   "cell_type": "markdown",
   "id": "b0175e5c",
   "metadata": {
    "slideshow": {
     "slide_type": "slide"
    }
   },
   "source": [
    "# F# Quotations\n",
    "\n",
    "* https://docs.microsoft.com/en-us/dotnet/fsharp/language-reference/code-quotations\n",
    "* Similar to OCaml quotations\n",
    "* F# code delimited by `<@ @>` is interpreted as a syntactic structure\n",
    "* Primary vehicle for F# meta-programming\n",
    "* Same compiler and IDE features available for writing ordinary F# source code"
   ]
  },
  {
   "cell_type": "markdown",
   "id": "ca31891a",
   "metadata": {
    "slideshow": {
     "slide_type": "slide"
    }
   },
   "source": [
    "# F# Quotations - Examples"
   ]
  },
  {
   "cell_type": "code",
   "execution_count": null,
   "id": "9471b2ae",
   "metadata": {
    "slideshow": {
     "slide_type": "fragment"
    }
   },
   "outputs": [],
   "source": [
    "// Ordinary F# code\n",
    "4 + 5 "
   ]
  },
  {
   "cell_type": "code",
   "execution_count": null,
   "id": "854362e1",
   "metadata": {
    "slideshow": {
     "slide_type": "fragment"
    }
   },
   "outputs": [],
   "source": [
    "// F# code quotation\n",
    "<@ 4 + 5 @>"
   ]
  },
  {
   "cell_type": "code",
   "execution_count": null,
   "id": "7d2c14fa",
   "metadata": {
    "slideshow": {
     "slide_type": "fragment"
    }
   },
   "outputs": [],
   "source": [
    "(4 + 5).GetType()"
   ]
  },
  {
   "cell_type": "code",
   "execution_count": null,
   "id": "6f07be90",
   "metadata": {
    "slideshow": {
     "slide_type": "fragment"
    }
   },
   "outputs": [],
   "source": [
    "(<@ 4 + 5 @>).GetType()"
   ]
  },
  {
   "cell_type": "code",
   "execution_count": null,
   "id": "8ad3068d",
   "metadata": {
    "slideshow": {
     "slide_type": "fragment"
    }
   },
   "outputs": [],
   "source": [
    "let f a b = a > b || a - b = 1\n",
    "<@ f @>"
   ]
  },
  {
   "cell_type": "code",
   "execution_count": null,
   "id": "2cb0f38d",
   "metadata": {
    "slideshow": {
     "slide_type": "fragment"
    }
   },
   "outputs": [],
   "source": [
    "<@ f @>.GetType()"
   ]
  },
  {
   "cell_type": "markdown",
   "id": "bc9f66c7",
   "metadata": {
    "slideshow": {
     "slide_type": "slide"
    }
   },
   "source": [
    "# F# Code Quotations\n",
    "* Have type `Expr<'a>` or `Expr`\n",
    "* Examples above have type `Expr<int>` or `Expr<bool>`\n",
    "* Instances of `Expr<'a>` or `Expr` treat code as purely symbolic\n",
    "* Use pattern-matching\n",
    "* F# code inside quotations can be manipulated and synthesized\n",
    "* Primary vehicle for deep embedding of DSLs in F#"
   ]
  },
  {
   "cell_type": "code",
   "execution_count": null,
   "id": "7a7401dc",
   "metadata": {
    "slideshow": {
     "slide_type": "fragment"
    }
   },
   "outputs": [],
   "source": [
    "let j = <@ 5 @>\n",
    "<@ 3 + 4 + %j @>"
   ]
  },
  {
   "cell_type": "markdown",
   "id": "6648a0f3",
   "metadata": {
    "slideshow": {
     "slide_type": "subslide"
    }
   },
   "source": [
    "Consider the set formula $\\forall A: r \\in A \\lor r \\notin A$"
   ]
  },
  {
   "cell_type": "code",
   "execution_count": null,
   "id": "fd59189a",
   "metadata": {
    "slideshow": {
     "slide_type": "fragment"
    }
   },
   "outputs": [],
   "source": [
    "let A = setvar<int> \"A\" //Create a symbolic variable with Set sort\n",
    "let B = setvar<real> \"B\"\n",
    "<@ A |+| A @>\n",
    "// |?| is the set membership operator\n",
    "// \n",
    "//<@[ forall' %r (%r |?| %A ||| (not (%r |?| %A))) ]@> |> check_sat z3"
   ]
  }
 ],
 "metadata": {
  "celltoolbar": "Slideshow",
  "kernelspec": {
   "display_name": "F#",
   "language": "fsharp",
   "name": "ifsharp"
  },
  "language": "fsharp",
  "language_info": {
   "codemirror_mode": "",
   "file_extension": ".fs",
   "mimetype": "text/x-fsharp",
   "name": "fsharp",
   "nbconvert_exporter": "",
   "pygments_lexer": "",
   "version": "5.0.2.0"
  },
  "rise": {
   "overlay": "<div class='myheader'><img src='https://functional-art.org/files/farm-tiny.jpg'/><b>FARM '23</b>&nbsp;&nbsp;&nbsp;&nbsp;&nbsp;&nbsp;A Functional EDSL for Mathematics Visualization That Compiles to JavaScript</center></div>",
   "theme": "simple"
  }
 },
 "nbformat": 4,
 "nbformat_minor": 5
}
