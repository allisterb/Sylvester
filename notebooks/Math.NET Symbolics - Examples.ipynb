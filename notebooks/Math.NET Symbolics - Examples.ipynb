{
 "cells": [
  {
   "cell_type": "markdown",
   "metadata": {},
   "source": [
    "# Math.NET Symbolics Examples\n",
    "\n",
    "This is an example F# Notebook showing how [Math.NET Symbolics](http://symbolics.mathdotnet.com/) can be used interactively.\n",
    "\n",
    "To get started, we need to load Math.NET Symbolics using Paket, open namespaces and make sure expression are presented nicely in LaTeX:"
   ]
  },
  {
   "cell_type": "code",
   "execution_count": 40,
   "metadata": {},
   "outputs": [],
   "source": [
    "// Use the Sylvester.tf NuGet packages inlcuding the native Windows depedency\n",
    "#load \"Paket.fsx\"\n",
    "Paket.Package[\"MathNet.Numerics\"; \"MathNet.Symbolics\"] \n",
    "#load \"Paket.Generated.Refs.fsx\"\n",
    "\n",
    "open MathNet.Numerics\n",
    "open MathNet.Symbolics\n",
    "\n",
    "open Operators\n",
    "\n",
    "App.AddDisplayPrinter (fun (x:Expression) -> { ContentType = \"text/latex\"; Data = \"$$\" + LaTeX.format x + \"$$\" })"
   ]
  },
  {
   "cell_type": "markdown",
   "metadata": {},
   "source": [
    "Then let's create a few symbols we'd like to use in our algebraic expressions:"
   ]
  },
  {
   "cell_type": "code",
   "execution_count": 75,
   "metadata": {},
   "outputs": [],
   "source": [
    "let x = symbol \"x\"\n",
    "let y = symbol \"y\"\n",
    "let z = symbol \"z\"\n",
    "let a = symbol \"a\"\n",
    "let b = symbol \"b\"\n",
    "let c = symbol \"c\"\n",
    "let d = symbol \"d\"\n",
    "let e = symbol \"e\"\n",
    "let f = symbol \"f\"\n",
    "let H = symbol \"H\"\n",
    "let L = symbol \"L\""
   ]
  },
  {
   "cell_type": "code",
   "execution_count": 79,
   "metadata": {},
   "outputs": [
    {
     "data": {
      "text/plain": [
       "[|Sum\n",
       "    [Product [Approximation (Real -4.0); Identifier (Symbol \"H\")];\n",
       "     Product [Approximation (Real 5.0); Identifier (Symbol \"L\")]]|]"
      ]
     },
     "execution_count": 79,
     "metadata": {},
     "output_type": "execute_result"
    }
   ],
   "source": [
    "L+H+L+H - (L+H) + 4. * L - 5. * H |> Polynomial.coefficients (5 * H)"
   ]
  },
  {
   "cell_type": "markdown",
   "metadata": {},
   "source": [
    "Using these symbols we can then use normal F# notation to construct algebraic expressions. Expressions are automatically simplifed."
   ]
  },
  {
   "cell_type": "code",
   "execution_count": 42,
   "metadata": {},
   "outputs": [
    {
     "data": {
      "text/latex": [
       "$$\\frac{1}{ab}$$"
      ],
      "text/plain": [
       "Product\n",
       "  [Power (Identifier (Symbol \"a\"),Number -1N);\n",
       "   Power (Identifier (Symbol \"b\"),Number -1N)]"
      ]
     },
     "execution_count": 42,
     "metadata": {},
     "output_type": "execute_result"
    }
   ],
   "source": [
    "(a/b/(c*a))*(c*d/a)/d"
   ]
  },
  {
   "cell_type": "code",
   "execution_count": 43,
   "metadata": {},
   "outputs": [
    {
     "data": {
      "text/latex": [
       "$${\\left(\\frac{a}{b}\\right)}^{c}$$"
      ],
      "text/plain": [
       "Power\n",
       "  (Product [Identifier (Symbol \"a\"); Power (Identifier (Symbol \"b\"),Number -1N)],\n",
       "   Identifier (Symbol \"c\"))"
      ]
     },
     "execution_count": 43,
     "metadata": {},
     "output_type": "execute_result"
    }
   ],
   "source": [
    "(a/b)**c"
   ]
  },
  {
   "cell_type": "markdown",
   "metadata": {},
   "source": [
    "You can use `Q` to force a number to become a symbolic rational number expression, e.g. if an operator is used with only numeric operands. Otherwise F# would evaluate it, and e.g. perform an integer division as below. If at least one operand is an expression, the result will be an expression as well."
   ]
  },
  {
   "cell_type": "code",
   "execution_count": 44,
   "metadata": {},
   "outputs": [
    {
     "data": {
      "text/plain": [
       "1"
      ]
     },
     "execution_count": 44,
     "metadata": {},
     "output_type": "execute_result"
    }
   ],
   "source": [
    "3/2"
   ]
  },
  {
   "cell_type": "code",
   "execution_count": 45,
   "metadata": {},
   "outputs": [
    {
     "data": {
      "text/latex": [
       "$$\\frac{3}{2}$$"
      ],
      "text/plain": [
       "Number 3/2N"
      ]
     },
     "execution_count": 45,
     "metadata": {},
     "output_type": "execute_result"
    }
   ],
   "source": [
    "3Q/2"
   ]
  },
  {
   "cell_type": "code",
   "execution_count": 46,
   "metadata": {},
   "outputs": [
    {
     "data": {
      "text/latex": [
       "$$\\frac{\\sin{x}}{2}$$"
      ],
      "text/plain": [
       "Product [Number 1/2N; Function (Sin,Identifier (Symbol \"x\"))]"
      ]
     },
     "execution_count": 46,
     "metadata": {},
     "output_type": "execute_result"
    }
   ],
   "source": [
    "(1Q/2)*sin(x)"
   ]
  },
  {
   "cell_type": "markdown",
   "metadata": {},
   "source": [
    "### Algebraic Functions\n",
    "\n",
    "Symbolics provides a set of F# modules with functions to manipulate expressions."
   ]
  },
  {
   "cell_type": "code",
   "execution_count": 47,
   "metadata": {},
   "outputs": [
    {
     "data": {
      "text/latex": [
       "$$\\exp^{2}{x}\\exp{y}$$"
      ],
      "text/plain": [
       "Product\n",
       "  [Power (Function (Exp,Identifier (Symbol \"x\")),Number 2N);\n",
       "   Function (Exp,Identifier (Symbol \"y\"))]"
      ]
     },
     "execution_count": 47,
     "metadata": {},
     "output_type": "execute_result"
    }
   ],
   "source": [
    "Exponential.expand (exp(2*x+y))"
   ]
  },
  {
   "cell_type": "code",
   "execution_count": 48,
   "metadata": {},
   "outputs": [
    {
     "data": {
      "text/latex": [
       "$$\\sin{x}\\cos{a} + \\sin{a}\\cos{x}$$"
      ],
      "text/plain": [
       "Sum\n",
       "  [Product\n",
       "     [Function (Sin,Identifier (Symbol \"x\"));\n",
       "      Function (Cos,Identifier (Symbol \"a\"))];\n",
       "   Product\n",
       "     [Function (Sin,Identifier (Symbol \"a\"));\n",
       "      Function (Cos,Identifier (Symbol \"x\"))]]"
      ]
     },
     "execution_count": 48,
     "metadata": {},
     "output_type": "execute_result"
    }
   ],
   "source": [
    "Trigonometric.expand (sin(a+x))"
   ]
  },
  {
   "cell_type": "code",
   "execution_count": 49,
   "metadata": {},
   "outputs": [
    {
     "data": {
      "text/latex": [
       "$$-\\frac{\\cos\\left(a + b\\right)}{2} + \\frac{\\cos\\left(a - b\\right)}{2}$$"
      ],
      "text/plain": [
       "Sum\n",
       "  [Product\n",
       "     [Number -1/2N;\n",
       "      Function (Cos,Sum [Identifier (Symbol \"a\"); Identifier (Symbol \"b\")])];\n",
       "   Product\n",
       "     [Number 1/2N;\n",
       "      Function\n",
       "        (Cos,\n",
       "         Sum\n",
       "           [Identifier (Symbol \"a\");\n",
       "            Product [Number -1N; Identifier (Symbol \"b\")]])]]"
      ]
     },
     "execution_count": 49,
     "metadata": {},
     "output_type": "execute_result"
    }
   ],
   "source": [
    "Trigonometric.contract (sin(a)*sin(b))"
   ]
  },
  {
   "cell_type": "code",
   "execution_count": 50,
   "metadata": {},
   "outputs": [
    {
     "data": {
      "text/latex": [
       "$$\\frac{3}{8} + \\frac{\\cos{2x}}{2} + \\frac{\\cos{4x}}{8}$$"
      ],
      "text/plain": [
       "Sum\n",
       "  [Number 3/8N;\n",
       "   Product\n",
       "     [Number 1/2N; Function (Cos,Product [Number 2N; Identifier (Symbol \"x\")])];\n",
       "   Product\n",
       "     [Number 1/8N; Function (Cos,Product [Number 4N; Identifier (Symbol \"x\")])]]"
      ]
     },
     "execution_count": 50,
     "metadata": {},
     "output_type": "execute_result"
    }
   ],
   "source": [
    "Trigonometric.contract (cos(x)**4)"
   ]
  },
  {
   "cell_type": "markdown",
   "metadata": {},
   "source": [
    "The functions are grouped by the context we interpret the expression in. Functions in `Polynomial` assume the expression is a single- or multivariate polynomial."
   ]
  },
  {
   "cell_type": "code",
   "execution_count": 51,
   "metadata": {},
   "outputs": [
    {
     "data": {
      "text/latex": [
       "$$3 + x + {x}^{2}$$"
      ],
      "text/plain": [
       "Sum\n",
       "  [Number 3N; Identifier (Symbol \"x\"); Power (Identifier (Symbol \"x\"),Number 2N)]"
      ]
     },
     "execution_count": 51,
     "metadata": {},
     "output_type": "execute_result"
    }
   ],
   "source": [
    "Polynomial.quot x (x**3 - 2*x**2 - 4) (x-3)"
   ]
  },
  {
   "cell_type": "code",
   "execution_count": 52,
   "metadata": {},
   "outputs": [
    {
     "data": {
      "text/latex": [
       "$$\\frac{a}{b} + \\frac{c}{d} + \\frac{e}{f}$$"
      ],
      "text/plain": [
       "Sum\n",
       "  [Product [Identifier (Symbol \"a\"); Power (Identifier (Symbol \"b\"),Number -1N)];\n",
       "   Product [Identifier (Symbol \"c\"); Power (Identifier (Symbol \"d\"),Number -1N)];\n",
       "   Product [Identifier (Symbol \"e\"); Power (Identifier (Symbol \"f\"),Number -1N)]]"
      ]
     },
     "execution_count": 52,
     "metadata": {},
     "output_type": "execute_result"
    }
   ],
   "source": [
    "(a/b)+(c/d)+(e/f)"
   ]
  },
  {
   "cell_type": "code",
   "execution_count": 53,
   "metadata": {},
   "outputs": [
    {
     "data": {
      "text/latex": [
       "$$\\frac{bde + bcf + adf}{bdf}$$"
      ],
      "text/plain": [
       "Product\n",
       "  [Power (Identifier (Symbol \"b\"),Number -1N);\n",
       "   Power (Identifier (Symbol \"d\"),Number -1N);\n",
       "   Power (Identifier (Symbol \"f\"),Number -1N);\n",
       "   Sum\n",
       "     [Product\n",
       "        [Identifier (Symbol \"b\"); Identifier (Symbol \"d\");\n",
       "         Identifier (Symbol \"e\")];\n",
       "      Product\n",
       "        [Identifier (Symbol \"b\"); Identifier (Symbol \"c\");\n",
       "         Identifier (Symbol \"f\")];\n",
       "      Product\n",
       "        [Identifier (Symbol \"a\"); Identifier (Symbol \"d\");\n",
       "         Identifier (Symbol \"f\")]]]"
      ]
     },
     "execution_count": 53,
     "metadata": {},
     "output_type": "execute_result"
    }
   ],
   "source": [
    "Rational.expand (a/b + c/d + e/f)"
   ]
  },
  {
   "cell_type": "code",
   "execution_count": 54,
   "metadata": {},
   "outputs": [
    {
     "data": {
      "text/latex": [
       "$$\\frac{1 + 2x}{1 + x}$$"
      ],
      "text/plain": [
       "Product\n",
       "  [Power (Sum [Number 1N; Identifier (Symbol \"x\")],Number -1N);\n",
       "   Sum [Number 1N; Product [Number 2N; Identifier (Symbol \"x\")]]]"
      ]
     },
     "execution_count": 54,
     "metadata": {},
     "output_type": "execute_result"
    }
   ],
   "source": [
    "Rational.rationalize (1+1/(1+1/x))"
   ]
  },
  {
   "cell_type": "code",
   "execution_count": 55,
   "metadata": {},
   "outputs": [
    {
     "data": {
      "text/latex": [
       "$$4 - 4x - {x}^{2} + {x}^{3}$$"
      ],
      "text/plain": [
       "Sum\n",
       "  [Number 4N; Product [Number -4N; Identifier (Symbol \"x\")];\n",
       "   Product [Number -1N; Power (Identifier (Symbol \"x\"),Number 2N)];\n",
       "   Power (Identifier (Symbol \"x\"),Number 3N)]"
      ]
     },
     "execution_count": 55,
     "metadata": {},
     "output_type": "execute_result"
    }
   ],
   "source": [
    "Polynomial.gcd x (x**7 - 4*x**5 - x**2 + 4) (x**5 - 4*x**3 - x**2 + 4)"
   ]
  },
  {
   "cell_type": "code",
   "execution_count": 56,
   "metadata": {},
   "outputs": [
    {
     "data": {
      "text/latex": [
       "$$1 + x + \\left(2 + x\\right)y + \\left(3 + x\\right){y}^{2}$$"
      ],
      "text/plain": [
       "Sum\n",
       "  [Number 1N; Identifier (Symbol \"x\");\n",
       "   Product [Sum [Number 2N; Identifier (Symbol \"x\")]; Identifier (Symbol \"y\")];\n",
       "   Product\n",
       "     [Sum [Number 3N; Identifier (Symbol \"x\")];\n",
       "      Power (Identifier (Symbol \"y\"),Number 2N)]]"
      ]
     },
     "execution_count": 56,
     "metadata": {},
     "output_type": "execute_result"
    }
   ],
   "source": [
    "Polynomial.polynomialExpansion x y (x**5 + 11*x**4 + 51*x**3 + 124*x**2 + 159*x + 86) (x**2 + 4*x + 5)"
   ]
  },
  {
   "cell_type": "code",
   "execution_count": 57,
   "metadata": {},
   "outputs": [
    {
     "data": {
      "text/latex": [
       "$$2 + \\frac{3}{2}x$$"
      ],
      "text/plain": [
       "Sum [Number 2N; Product [Number 3/2N; Identifier (Symbol \"x\")]]"
      ]
     },
     "execution_count": 57,
     "metadata": {},
     "output_type": "execute_result"
    }
   ],
   "source": [
    "let expr = (8*a*x + 6*a*x**2)/(4*x*a) |> Rational.expand\n",
    "expr"
   ]
  },
  {
   "cell_type": "code",
   "execution_count": 58,
   "metadata": {},
   "outputs": [
    {
     "data": {
      "text/latex": [
       "$$4 + 3x$$"
      ],
      "text/plain": [
       "Sum [Number 4N; Product [Number 3N; Identifier (Symbol \"x\")]]"
      ]
     },
     "execution_count": 58,
     "metadata": {},
     "output_type": "execute_result"
    }
   ],
   "source": [
    "2*expr |> Algebraic.expand"
   ]
  },
  {
   "cell_type": "code",
   "execution_count": 59,
   "metadata": {},
   "outputs": [
    {
     "data": {
      "text/latex": [
       "$$2 + 1.5x$$"
      ],
      "text/plain": [
       "Sum\n",
       "  [Approximation (Real 2.0);\n",
       "   Product [Approximation (Real 1.5); Identifier (Symbol \"x\")]]"
      ]
     },
     "execution_count": 59,
     "metadata": {},
     "output_type": "execute_result"
    }
   ],
   "source": [
    "Approximate.approximate expr"
   ]
  },
  {
   "cell_type": "code",
   "execution_count": 60,
   "metadata": {},
   "outputs": [
    {
     "data": {
      "text/latex": [
       "$$-1 + x$$"
      ],
      "text/plain": [
       "Sum [Number -1N; Identifier (Symbol \"x\")]"
      ]
     },
     "execution_count": 60,
     "metadata": {},
     "output_type": "execute_result"
    }
   ],
   "source": [
    "Rational.simplify x ((x**2-1)/(x+1))"
   ]
  },
  {
   "cell_type": "code",
   "execution_count": 61,
   "metadata": {},
   "outputs": [
    {
     "data": {
      "text/latex": [
       "$$\\frac{3 + x}{2 + x}$$"
      ],
      "text/plain": [
       "Product\n",
       "  [Power (Sum [Number 2N; Identifier (Symbol \"x\")],Number -1N);\n",
       "   Sum [Number 3N; Identifier (Symbol \"x\")]]"
      ]
     },
     "execution_count": 61,
     "metadata": {},
     "output_type": "execute_result"
    }
   ],
   "source": [
    "Rational.simplify x (1/(1+1/(x+1)) + 2/(x+2))"
   ]
  },
  {
   "cell_type": "code",
   "execution_count": 62,
   "metadata": {},
   "outputs": [
    {
     "data": {
      "text/latex": [
       "$$8{x}^{2} + 12{x}^{4} + 6{x}^{6} + {x}^{8}$$"
      ],
      "text/plain": [
       "Sum\n",
       "  [Product [Number 8N; Power (Identifier (Symbol \"x\"),Number 2N)];\n",
       "   Product [Number 12N; Power (Identifier (Symbol \"x\"),Number 4N)];\n",
       "   Product [Number 6N; Power (Identifier (Symbol \"x\"),Number 6N)];\n",
       "   Power (Identifier (Symbol \"x\"),Number 8N)]"
      ]
     },
     "execution_count": 62,
     "metadata": {},
     "output_type": "execute_result"
    }
   ],
   "source": [
    "(x**8 + 6*x**6 + 12*x**4 + 8*x**2)"
   ]
  },
  {
   "cell_type": "code",
   "execution_count": 63,
   "metadata": {},
   "outputs": [
    {
     "data": {
      "text/latex": [
       "$${x}^{2}{\\left(2 + {x}^{2}\\right)}^{3}$$"
      ],
      "text/plain": [
       "Product\n",
       "  [Power (Identifier (Symbol \"x\"),Number 2N);\n",
       "   Power (Sum [Number 2N; Power (Identifier (Symbol \"x\"),Number 2N)],Number 3N)]"
      ]
     },
     "execution_count": 63,
     "metadata": {},
     "output_type": "execute_result"
    }
   ],
   "source": [
    "(x**8 + 6*x**6 + 12*x**4 + 8*x**2) |> Polynomial.factorSquareFree x "
   ]
  },
  {
   "cell_type": "markdown",
   "metadata": {},
   "source": [
    "### Calculus"
   ]
  },
  {
   "cell_type": "code",
   "execution_count": 64,
   "metadata": {},
   "outputs": [
    {
     "data": {
      "text/latex": [
       "$$b + 2ax$$"
      ],
      "text/plain": [
       "Sum\n",
       "  [Identifier (Symbol \"b\");\n",
       "   Product [Number 2N; Identifier (Symbol \"a\"); Identifier (Symbol \"x\")]]"
      ]
     },
     "execution_count": 64,
     "metadata": {},
     "output_type": "execute_result"
    }
   ],
   "source": [
    "Calculus.differentiate x (a*x**2 + b*x + c)"
   ]
  },
  {
   "cell_type": "code",
   "execution_count": 65,
   "metadata": {},
   "outputs": [
    {
     "data": {
      "text/latex": [
       "$$10 - c - 21x$$"
      ],
      "text/plain": [
       "Sum\n",
       "  [Number 10N; Product [Number -1N; Identifier (Symbol \"c\")];\n",
       "   Product [Number -21N; Identifier (Symbol \"x\")]]"
      ]
     },
     "execution_count": 65,
     "metadata": {},
     "output_type": "execute_result"
    }
   ],
   "source": [
    "(x**3 - 12*x**2 - c) |> Calculus.tangentLine x 1Q"
   ]
  },
  {
   "cell_type": "code",
   "execution_count": 66,
   "metadata": {},
   "outputs": [
    {
     "data": {
      "text/latex": [
       "$$-\\frac{80}{3} + 9z$$"
      ],
      "text/plain": [
       "Sum [Number -80/3N; Product [Number 9N; Identifier (Symbol \"z\")]]"
      ]
     },
     "execution_count": 66,
     "metadata": {},
     "output_type": "execute_result"
    }
   ],
   "source": [
    "1/z |> Calculus.normalLine z 3Q"
   ]
  },
  {
   "cell_type": "markdown",
   "metadata": {},
   "source": [
    "### Working with Expressions\n",
    "\n",
    "Of course we can also combine these functions to write more powerful function on top of them:"
   ]
  },
  {
   "cell_type": "code",
   "execution_count": 67,
   "metadata": {},
   "outputs": [
    {
     "data": {
      "text/latex": [
       "$$1 + x - \\frac{{x}^{2}}{2} - \\frac{{x}^{3}}{6}$$"
      ],
      "text/plain": [
       "Sum\n",
       "  [Number 1N; Identifier (Symbol \"x\");\n",
       "   Product [Number -1/2N; Power (Identifier (Symbol \"x\"),Number 2N)];\n",
       "   Product [Number -1/6N; Power (Identifier (Symbol \"x\"),Number 3N)]]"
      ]
     },
     "execution_count": 67,
     "metadata": {},
     "output_type": "execute_result"
    }
   ],
   "source": [
    "let taylor (k:int) symbol a x =\n",
    "    let rec impl n factorial sum dxn =\n",
    "        if n = k then sum else\n",
    "        let dxn_a = dxn |> Structure.substitute symbol a\n",
    "        let dxn'  = dxn |> Calculus.differentiate symbol\n",
    "        impl (n+1) (factorial*(n+1)) (sum + dxn_a/factorial*(symbol-a)**n) dxn'\n",
    "    impl 0 1 zero x |> Algebraic.expand\n",
    "\n",
    "taylor 4 x 0Q (sin(x)+cos(x))"
   ]
  },
  {
   "cell_type": "code",
   "execution_count": 68,
   "metadata": {},
   "outputs": [
    {
     "data": {
      "text/latex": [
       "$$1 + x$$"
      ],
      "text/plain": [
       "Sum [Number 1N; Identifier (Symbol \"x\")]"
      ]
     },
     "execution_count": 68,
     "metadata": {},
     "output_type": "execute_result"
    }
   ],
   "source": [
    "let tangent symbol a x = taylor 2 symbol a x\n",
    "\n",
    "tangent x 0Q (sin(x)+cos(x))"
   ]
  },
  {
   "cell_type": "markdown",
   "metadata": {},
   "source": [
    "### Simplistic solver"
   ]
  },
  {
   "cell_type": "code",
   "execution_count": 69,
   "metadata": {},
   "outputs": [
    {
     "data": {
      "text/latex": [
       "$$-\\frac{35}{6}$$"
      ],
      "text/plain": [
       "Number -35/6N"
      ]
     },
     "execution_count": 69,
     "metadata": {},
     "output_type": "execute_result"
    }
   ],
   "source": [
    "let solve x a b =\n",
    "\n",
    "    let a' = Rational.simplify x a\n",
    "    let an = Rational.numerator a'\n",
    "    let ad = Rational.denominator a'\n",
    "    \n",
    "    let b' = Rational.simplify x b\n",
    "    let bn = Rational.numerator b'\n",
    "    let bd = Rational.denominator b'\n",
    "    \n",
    "    let expr = an*bd - bn*ad |> Algebraic.expand\n",
    "    \n",
    "    if Polynomial.isPolynomial x expr then\n",
    "        match Polynomial.coefficients x expr with\n",
    "        | [||] -> Undefined\n",
    "        | [| a |] -> x\n",
    "        | [| a; b |] -> -a/b |> Rational.simplify x\n",
    "        | _ -> failwith \"higher polynomials not supported\"\n",
    "    else failwith \"only general polynomial expressions supported for now\"\n",
    "    \n",
    "// x/(x+5) = 7 --> x=?\n",
    "solve x (x/(x + 5)) (number 7)"
   ]
  },
  {
   "cell_type": "code",
   "execution_count": 70,
   "metadata": {},
   "outputs": [
    {
     "data": {
      "text/latex": [
       "$$\\frac{c - \\sin{a}}{\\cos{b}}$$"
      ],
      "text/plain": [
       "Product\n",
       "  [Sum\n",
       "     [Identifier (Symbol \"c\");\n",
       "      Product [Number -1N; Function (Sin,Identifier (Symbol \"a\"))]];\n",
       "   Power (Function (Cos,Identifier (Symbol \"b\")),Number -1N)]"
      ]
     },
     "execution_count": 70,
     "metadata": {},
     "output_type": "execute_result"
    }
   ],
   "source": [
    "// sin(a)+x*cos(b) = c --> x=?\n",
    "solve x (sin(a)+x*cos(b)) c"
   ]
  },
  {
   "cell_type": "markdown",
   "metadata": {},
   "source": [
    "### Formatting and Parsing Expressions"
   ]
  },
  {
   "cell_type": "code",
   "execution_count": 71,
   "metadata": {},
   "outputs": [
    {
     "data": {
      "text/latex": [
       "$$\\frac{a\\sin{x}}{b}$$"
      ],
      "text/plain": [
       "Product\n",
       "  [Identifier (Symbol \"a\"); Power (Identifier (Symbol \"b\"),Number -1N);\n",
       "   Function (Sin,Identifier (Symbol \"x\"))]"
      ]
     },
     "execution_count": 71,
     "metadata": {},
     "output_type": "execute_result"
    }
   ],
   "source": [
    "Infix.parseOrUndefined \"(a/b)*sin(x)\""
   ]
  },
  {
   "cell_type": "code",
   "execution_count": 72,
   "metadata": {},
   "outputs": [
    {
     "data": {
      "text/latex": [
       "$$-\\frac{1}{3}xy$$"
      ],
      "text/plain": [
       "Product [Number -1/3N; Identifier (Symbol \"x\"); Identifier (Symbol \"y\")]"
      ]
     },
     "execution_count": 72,
     "metadata": {},
     "output_type": "execute_result"
    }
   ],
   "source": [
    "Quotations.parse <@ fun x y -> -x*y/3 @>"
   ]
  },
  {
   "cell_type": "code",
   "execution_count": 73,
   "metadata": {},
   "outputs": [
    {
     "data": {
      "text/plain": [
       "\"<apply>\r\n",
       "  <csymbol cd=\"arith1\">root</csymbol>\r\n",
       "  <ci>x</ci>\r\n",
       "  <cn>3</cn>\r\n",
       "</apply>\""
      ]
     },
     "execution_count": 73,
     "metadata": {},
     "output_type": "execute_result"
    }
   ],
   "source": [
    "MathML.formatContentStrict (x**(1Q/3))"
   ]
  },
  {
   "cell_type": "code",
   "execution_count": 74,
   "metadata": {},
   "outputs": [
    {
     "data": {
      "text/latex": [
       "$$\\pi$$"
      ],
      "text/plain": [
       "Constant Pi"
      ]
     },
     "execution_count": 74,
     "metadata": {},
     "output_type": "execute_result"
    }
   ],
   "source": [
    "MathML.parse \"\"\"<csymbol cd=\"nums1\">pi</csymbol>\"\"\""
   ]
  },
  {
   "cell_type": "code",
   "execution_count": null,
   "metadata": {},
   "outputs": [],
   "source": []
  }
 ],
 "metadata": {
  "kernelspec": {
   "display_name": "F#",
   "language": "fsharp",
   "name": "ifsharp"
  },
  "language": "fsharp",
  "language_info": {
   "codemirror_mode": "",
   "file_extension": ".fs",
   "mimetype": "text/x-fsharp",
   "name": "fsharp",
   "nbconvert_exporter": "",
   "pygments_lexer": "",
   "version": "4.3.1.0"
  }
 },
 "nbformat": 4,
 "nbformat_minor": 1
}
