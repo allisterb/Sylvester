{
 "cells": [
  {
   "cell_type": "code",
   "execution_count": 6,
   "id": "pointed-cooperative",
   "metadata": {},
   "outputs": [],
   "source": [
    "#load \"MathInclude.fsx\"\n",
    "App.AddDisplayPrinter (fun (x:MathNet.Symbolics.Expression) -> { ContentType = \"text/latex\"; Data = \"$$\" + MathNet.Symbolics.LaTeX.format x + \"$$\" })"
   ]
  },
  {
   "cell_type": "code",
   "execution_count": 7,
   "id": "genetic-textbook",
   "metadata": {},
   "outputs": [],
   "source": [
    "open Sylvester\n",
    "open Vector\n",
    "open Dimension"
   ]
  },
  {
   "cell_type": "code",
   "execution_count": 8,
   "id": "floral-denmark",
   "metadata": {},
   "outputs": [
    {
     "data": {
      "text/plain": [
       "Lambda (x, Lambda (y, Lambda (z, Call (None, op_Multiply, [Value (2.0), z]))))"
      ]
     },
     "execution_count": 8,
     "metadata": {},
     "output_type": "execute_result"
    }
   ],
   "source": [
    "[<Formula>]\n",
    "let f x y z = x + z ** 2. + y\n",
    "\n",
    "diff <@ f @> (realvar \"z\")  "
   ]
  },
  {
   "cell_type": "code",
   "execution_count": null,
   "id": "tested-anaheim",
   "metadata": {},
   "outputs": [],
   "source": []
  }
 ],
 "metadata": {
  "kernelspec": {
   "display_name": "F#",
   "language": "fsharp",
   "name": "ifsharp"
  },
  "language": "fsharp",
  "language_info": {
   "codemirror_mode": "",
   "file_extension": ".fs",
   "mimetype": "text/x-fsharp",
   "name": "fsharp",
   "nbconvert_exporter": "",
   "pygments_lexer": "",
   "version": "4.3.1.0"
  }
 },
 "nbformat": 4,
 "nbformat_minor": 5
}
