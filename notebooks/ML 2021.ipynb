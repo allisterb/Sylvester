{
 "cells": [
  {
   "cell_type": "code",
   "execution_count": 1,
   "id": "thorough-optimum",
   "metadata": {},
   "outputs": [],
   "source": [
    "#load \"MathInclude.fsx\""
   ]
  },
  {
   "cell_type": "code",
   "execution_count": 2,
   "id": "promotional-antarctica",
   "metadata": {},
   "outputs": [],
   "source": [
    "open Sylvester\n",
    "open Arithmetic\n",
    "open Dimension"
   ]
  },
  {
   "cell_type": "code",
   "execution_count": 5,
   "id": "instrumental-watson",
   "metadata": {},
   "outputs": [
    {
     "data": {
      "text/plain": [
       "Finite"
      ]
     },
     "execution_count": 5,
     "metadata": {},
     "output_type": "execute_result"
    }
   ],
   "source": [
    "// Listing 1 - Probability example 1\n",
    "\n",
    "let dice = sseq [1..6] // Create a sequence of numbers 1..6\n",
    "\n",
    "// Create a probability space from cartesian product representing sample space of 2 dice rolls\n",
    "let S = prob_space (dice * dice) \n",
    "\n",
    "// Define P as the probability operator for S\n",
    "let P = prob_measure S \n",
    "\n",
    "// Define E1 as the subset of S where the first dice roll is equal to 5\n",
    "let E1 = S |>| <@ fun s -> fst s = 5 @>  \n",
    "\n",
    "card E1 //E1 is a finite subset"
   ]
  },
  {
   "cell_type": "code",
   "execution_count": 6,
   "id": "heated-november",
   "metadata": {},
   "outputs": [
    {
     "data": {
      "text/plain": [
       "6.0"
      ]
     },
     "execution_count": 6,
     "metadata": {},
     "output_type": "execute_result"
    }
   ],
   "source": [
    "measure E1 // E1 has size 6 {(5,1), (5,2),...}"
   ]
  },
  {
   "cell_type": "code",
   "execution_count": 8,
   "id": "greenhouse-colombia",
   "metadata": {},
   "outputs": [
    {
     "data": {
      "text/plain": [
       "0.1666666667"
      ]
     },
     "execution_count": 8,
     "metadata": {},
     "output_type": "execute_result"
    }
   ],
   "source": [
    "P(E1)"
   ]
  }
 ],
 "metadata": {
  "kernelspec": {
   "display_name": "F#",
   "language": "fsharp",
   "name": "ifsharp"
  },
  "language": "fsharp",
  "language_info": {
   "codemirror_mode": "",
   "file_extension": ".fs",
   "mimetype": "text/x-fsharp",
   "name": "fsharp",
   "nbconvert_exporter": "",
   "pygments_lexer": "",
   "version": "4.3.1.0"
  }
 },
 "nbformat": 4,
 "nbformat_minor": 5
}
