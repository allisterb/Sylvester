{
 "cells": [
  {
   "cell_type": "code",
   "execution_count": 1,
   "id": "thorough-optimum",
   "metadata": {},
   "outputs": [],
   "source": [
    "#load \"MathInclude.fsx\""
   ]
  },
  {
   "cell_type": "code",
   "execution_count": 2,
   "id": "promotional-antarctica",
   "metadata": {},
   "outputs": [],
   "source": [
    "open Sylvester\n",
    "open Arithmetic\n",
    "open Dimension"
   ]
  },
  {
   "cell_type": "markdown",
   "id": "exterior-blade",
   "metadata": {},
   "source": [
    "## Listing 1 - Probability example 1"
   ]
  },
  {
   "cell_type": "code",
   "execution_count": 3,
   "id": "instrumental-watson",
   "metadata": {},
   "outputs": [
    {
     "data": {
      "text/plain": [
       "Finite"
      ]
     },
     "execution_count": 3,
     "metadata": {},
     "output_type": "execute_result"
    }
   ],
   "source": [
    "let dice = sseq [1..6] // Create a sequence of numbers 1..6\n",
    "\n",
    "// Create a probability space from cartesian product representing sample space of 2 dice rolls\n",
    "let S = prob_space (dice * dice) \n",
    "\n",
    "// Define P as the probability operator for S\n",
    "let P = prob_measure S \n",
    "\n",
    "// Define E1 as the subset of S where the first dice roll is equal to 5\n",
    "let E1 = S |>| <@ fun s -> fst s = 5 @>  \n",
    "\n",
    "card E1 //E1 is a finite subset"
   ]
  },
  {
   "cell_type": "code",
   "execution_count": 4,
   "id": "heated-november",
   "metadata": {},
   "outputs": [
    {
     "data": {
      "text/plain": [
       "6.0"
      ]
     },
     "execution_count": 4,
     "metadata": {},
     "output_type": "execute_result"
    }
   ],
   "source": [
    "measure E1 // E1 has size 6 {(5,1), (5,2),...}"
   ]
  },
  {
   "cell_type": "code",
   "execution_count": 5,
   "id": "cosmetic-assistant",
   "metadata": {},
   "outputs": [
    {
     "data": {
      "text/plain": [
       "0.1666666667"
      ]
     },
     "execution_count": 5,
     "metadata": {},
     "output_type": "execute_result"
    }
   ],
   "source": [
    "P(E1) //Probability of event E1"
   ]
  },
  {
   "cell_type": "code",
   "execution_count": 6,
   "id": "roman-stretch",
   "metadata": {},
   "outputs": [],
   "source": [
    "// Define an event subset for outcomes where the sum of the 2 rolls >=9\n",
    "let E2 = S |>| <@ fun s -> fst s + snd s >= 8 @>"
   ]
  },
  {
   "cell_type": "code",
   "execution_count": 7,
   "id": "every-norway",
   "metadata": {},
   "outputs": [
    {
     "data": {
      "text/plain": [
       "0.4166666667"
      ]
     },
     "execution_count": 7,
     "metadata": {},
     "output_type": "execute_result"
    }
   ],
   "source": [
    "P(E2)"
   ]
  },
  {
   "cell_type": "markdown",
   "id": "contemporary-eating",
   "metadata": {},
   "source": [
    "## Listing 2 - Probability example 2"
   ]
  },
  {
   "cell_type": "code",
   "execution_count": 8,
   "id": "surface-dispute",
   "metadata": {},
   "outputs": [
    {
     "data": {
      "text/plain": [
       "3.0"
      ]
     },
     "execution_count": 8,
     "metadata": {},
     "output_type": "execute_result"
    }
   ],
   "source": [
    "// Define a random variable with a particular distribution\n",
    "let X = binomial 0.5 6 \n",
    "\n",
    "expectation X"
   ]
  },
  {
   "cell_type": "code",
   "execution_count": 9,
   "id": "played-chicago",
   "metadata": {},
   "outputs": [
    {
     "data": {
      "text/plain": [
       "0.234375"
      ]
     },
     "execution_count": 9,
     "metadata": {},
     "output_type": "execute_result"
    }
   ],
   "source": [
    "prob X 4"
   ]
  },
  {
   "cell_type": "code",
   "execution_count": 10,
   "id": "distinct-confidentiality",
   "metadata": {},
   "outputs": [
    {
     "data": {
      "text/plain": [
       "1.0"
      ]
     },
     "execution_count": 10,
     "metadata": {},
     "output_type": "execute_result"
    }
   ],
   "source": [
    "// Define a random variable transformation\n",
    "let Y = 4 - X\n",
    "\n",
    "expectation Y"
   ]
  },
  {
   "cell_type": "code",
   "execution_count": 11,
   "id": "described-revelation",
   "metadata": {},
   "outputs": [
    {
     "data": {
      "text/plain": [
       "false"
      ]
     },
     "execution_count": 11,
     "metadata": {},
     "output_type": "execute_result"
    }
   ],
   "source": [
    "prob Y 3 = prob Y 1"
   ]
  },
  {
   "cell_type": "code",
   "execution_count": 12,
   "id": "early-antique",
   "metadata": {},
   "outputs": [
    {
     "data": {
      "text/plain": [
       "true"
      ]
     },
     "execution_count": 12,
     "metadata": {},
     "output_type": "execute_result"
    }
   ],
   "source": [
    "expectation Y = 4. - expectation X"
   ]
  }
 ],
 "metadata": {
  "kernelspec": {
   "display_name": "F#",
   "language": "fsharp",
   "name": "ifsharp"
  },
  "language": "fsharp",
  "language_info": {
   "codemirror_mode": "",
   "file_extension": ".fs",
   "mimetype": "text/x-fsharp",
   "name": "fsharp",
   "nbconvert_exporter": "",
   "pygments_lexer": "",
   "version": "4.3.1.0"
  }
 },
 "nbformat": 4,
 "nbformat_minor": 5
}
