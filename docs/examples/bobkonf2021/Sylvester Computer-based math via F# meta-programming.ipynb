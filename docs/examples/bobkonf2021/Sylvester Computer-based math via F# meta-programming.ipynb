{
 "cells": [
  {
   "cell_type": "code",
   "execution_count": 2,
   "id": "younger-jones",
   "metadata": {
    "hide_input": true,
    "slideshow": {
     "slide_type": "skip"
    }
   },
   "outputs": [
    {
     "data": {
      "text/html": [
       "<script src=\"https://raw.githubusercontent.com/mathjax/MathJax/master/latest.js?config=TeX-AMS-MML_CHTM\"></script>"
      ]
     },
     "metadata": {},
     "output_type": "display_data"
    }
   ],
   "source": [
    "// Setup MathJax and HTML helpers\n",
    "@\"<script src=\"\"https://raw.githubusercontent.com/mathjax/MathJax/master/latest.js?config=TeX-AMS-MML_CHTM\"\"></script>\" |> Util.Html |> Display\n",
    "\n",
    "let html x = { Html = x }\n",
    "\n",
    "let h1 text = { Html = \"<h1>\" + text + \"</h1>\" }\n",
    "\n",
    "let h2 text = { Html = \"<h2>\" + text + \"</h2>\" }\n",
    "\n",
    "let h3 text = { Html = \"<h3>\" + text + \"</h3>\" }\n",
    "\n",
    "let ul text = { Html = \"<ul><li>\" + text + \"</li></ul>\" }\n",
    "\n",
    "let ul3 text = { Html = \"<ul><li><h3>\" + text + \"</h3></li></ul>\" }\n",
    "\n",
    "let img url = { Html = \"<img src=\\\"\" + url + \"\\\"\" + \" style=\\\"align:center\\\" />\" }\n",
    "\n",
    "let uli text url = { Html = \"<ul><li>\" + text + \"<img src=\\\"\" + url + \"\\\"\" + \" style=\\\"align:center\\\" />\" + \"</li></ul>\" }\n",
    "\n",
    "let uli2 text url = { Html = \"<h2><ul><li>\" + text + \"<img src=\\\"\" + url + \"\\\"\" + \" style=\\\"align:center\\\" />\" + \"</li></ul></h2>\" }\n",
    "\n",
    "let uli3 text url = { Html = \"<h3><ul><li>\" + text + \"<img src=\\\"\" + url + \"\\\"\" + \" style=\\\"align:center\\\" />\" + \"</li></ul></h3>\" }\n",
    "\n",
    "let inline (^+^) (x:HtmlOutput) (y:HtmlOutput) = { Html = x.Html + y.Html }"
   ]
  },
  {
   "cell_type": "markdown",
   "id": "exotic-jacob",
   "metadata": {
    "slideshow": {
     "slide_type": "slide"
    }
   },
   "source": [
    "<img src=\"https://upload.wikimedia.org/wikipedia/commons/5/57/Fsharp_logo.png\" alt=\"Alt text that describes the graphic\" title=\"Title text\" />\n",
    "\n",
    "# Sylvester: Computer-based math via F# meta-programming"
   ]
  },
  {
   "cell_type": "markdown",
   "id": "fatty-revolution",
   "metadata": {
    "slideshow": {
     "slide_type": "slide"
    }
   },
   "source": [
    "## About me"
   ]
  },
  {
   "cell_type": "markdown",
   "id": "mobile-federal",
   "metadata": {
    "slideshow": {
     "slide_type": "subslide"
    }
   },
   "source": [
    "### Open-source developer\n",
    "* F#, C#, Python, some others...\n",
    "* https://github.com/allisterb\n",
    "* @allisterbeharry on Twitter"
   ]
  },
  {
   "cell_type": "markdown",
   "id": "superb-departure",
   "metadata": {
    "slideshow": {
     "slide_type": "subslide"
    }
   },
   "source": [
    "### From Trinidad W.I.\n",
    "<img src=\"https://upload.wikimedia.org/wikipedia/commons/9/98/Caribbean_general_map.png\" />"
   ]
  },
  {
   "cell_type": "markdown",
   "id": "likely-bearing",
   "metadata": {
    "slideshow": {
     "slide_type": "slide"
    }
   },
   "source": [
    "# Requirements\n",
    "\n",
    "* How to install Visual Studio Code\n",
    "* How to install F#\n",
    "* How to install Sylvester\n",
    "* (Optional) How to Jupyter notebooks"
   ]
  },
  {
   "cell_type": "markdown",
   "id": "spectacular-wiring",
   "metadata": {
    "slideshow": {
     "slide_type": "slide"
    }
   },
   "source": [
    "## What will we cover?"
   ]
  },
  {
   "cell_type": "markdown",
   "id": "obvious-procedure",
   "metadata": {
    "slideshow": {
     "slide_type": "fragment"
    }
   },
   "source": [
    "* Motivations for Sylvester project"
   ]
  },
  {
   "cell_type": "markdown",
   "id": "invisible-target",
   "metadata": {
    "slideshow": {
     "slide_type": "fragment"
    }
   },
   "source": [
    "* Observations on mathematical language"
   ]
  },
  {
   "cell_type": "markdown",
   "id": "tight-correction",
   "metadata": {
    "slideshow": {
     "slide_type": "fragment"
    }
   },
   "source": [
    "* Deep vs shallow embedding in DSLs"
   ]
  },
  {
   "cell_type": "code",
   "execution_count": null,
   "id": "adjustable-patient",
   "metadata": {
    "slideshow": {
     "slide_type": "slide"
    }
   },
   "outputs": [],
   "source": [
    "Philosophy interlude: meaning vs. syntactic manipulation"
   ]
  },
  {
   "cell_type": "markdown",
   "id": "social-financing",
   "metadata": {
    "slideshow": {
     "slide_type": "slide"
    }
   },
   "source": [
    "## Sylvester\n",
    "## https://github.com/allisterb/Sylvester\n",
    "* An F# DSL for mathematical and scientific computing\n",
    "* Take the best bits of typed functional programming and apply it to mathematical and scientific computing\n",
    "* Use F# features to create a more advanced type system for scientific computing\n",
    "* Use F# meta-programming to create a language for mathematical computing that unifies symbolic, logical, computational properties of mathematics"
   ]
  },
  {
   "cell_type": "markdown",
   "id": "dental-jungle",
   "metadata": {
    "slideshow": {
     "slide_type": "slide"
    }
   },
   "source": [
    "## F# Code Quotations\n",
    "\n",
    "* https://docs.microsoft.com/en-us/dotnet/fsharp/language-reference/code-quotations\n",
    "* Primary vehicle for F# meta-programming\n",
    "* F# code delimited by '<@' '@>' is interpreted as a syntactic structure\n",
    "* Same compiler and IDE features available for writing ordinary F# source code"
   ]
  },
  {
   "cell_type": "markdown",
   "id": "daily-armor",
   "metadata": {
    "slideshow": {
     "slide_type": "subslide"
    }
   },
   "source": [
    "## F# Code Quotations"
   ]
  },
  {
   "cell_type": "code",
   "execution_count": 23,
   "id": "organizational-fisher",
   "metadata": {
    "slideshow": {
     "slide_type": "fragment"
    }
   },
   "outputs": [
    {
     "data": {
      "text/plain": [
       "9"
      ]
     },
     "execution_count": 23,
     "metadata": {},
     "output_type": "execute_result"
    }
   ],
   "source": [
    "// Ordinary F# code\n",
    "4 + 5"
   ]
  },
  {
   "cell_type": "code",
   "execution_count": 24,
   "id": "understood-choir",
   "metadata": {
    "slideshow": {
     "slide_type": "fragment"
    }
   },
   "outputs": [
    {
     "data": {
      "text/plain": [
       "Call (None, op_Addition, [Value (4), Value (5)])"
      ]
     },
     "execution_count": 24,
     "metadata": {},
     "output_type": "execute_result"
    }
   ],
   "source": [
    "// F# code quotation\n",
    "<@ 4 + 5 @>"
   ]
  },
  {
   "cell_type": "code",
   "execution_count": 29,
   "id": "monetary-inspiration",
   "metadata": {
    "slideshow": {
     "slide_type": "fragment"
    }
   },
   "outputs": [
    {
     "data": {
      "text/plain": [
       "System.Int32"
      ]
     },
     "execution_count": 29,
     "metadata": {},
     "output_type": "execute_result"
    }
   ],
   "source": [
    "(4 + 5).GetType()"
   ]
  },
  {
   "cell_type": "code",
   "execution_count": 28,
   "id": "animated-relation",
   "metadata": {
    "slideshow": {
     "slide_type": "fragment"
    }
   },
   "outputs": [
    {
     "data": {
      "text/plain": [
       "Microsoft.FSharp.Quotations.FSharpExpr`1[System.Int32]"
      ]
     },
     "execution_count": 28,
     "metadata": {},
     "output_type": "execute_result"
    }
   ],
   "source": [
    "(<@ 4 + 5 @>).GetType()"
   ]
  },
  {
   "cell_type": "markdown",
   "id": "deluxe-gentleman",
   "metadata": {
    "slideshow": {
     "slide_type": "subslide"
    }
   },
   "source": [
    "### F# Code Quotations\n",
    "* Have type `Expr<'a>` or `Expr`\n",
    "* Example above has type `Expr<int>`\n",
    "* Instances of `Expr<'a>` or `Expr` treat code as purely symbolic\n",
    "* F# code inside quotations can be manipulated and synthesized\n",
    "* Primary vehicle for deep embedding of DSLs in F#"
   ]
  },
  {
   "cell_type": "markdown",
   "id": "technological-violation",
   "metadata": {
    "slideshow": {
     "slide_type": "subslide"
    }
   },
   "source": [
    "## F# code quotations\n",
    "* Example of deep vs. shallow embedding"
   ]
  },
  {
   "cell_type": "code",
   "execution_count": null,
   "id": "fundamental-content",
   "metadata": {},
   "outputs": [],
   "source": []
  }
 ],
 "metadata": {
  "celltoolbar": "Slideshow",
  "kernelspec": {
   "display_name": "F#",
   "language": "fsharp",
   "name": "ifsharp"
  },
  "language": "fsharp",
  "language_info": {
   "codemirror_mode": "",
   "file_extension": ".fs",
   "mimetype": "text/x-fsharp",
   "name": "fsharp",
   "nbconvert_exporter": "",
   "pygments_lexer": "",
   "version": "4.3.1.0"
  }
 },
 "nbformat": 4,
 "nbformat_minor": 5
}
